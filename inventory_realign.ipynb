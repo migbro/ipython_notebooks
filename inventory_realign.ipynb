{
 "cells": [
  {
   "cell_type": "code",
   "execution_count": 1,
   "metadata": {},
   "outputs": [],
   "source": [
    "#!/usr/bin/env python3\n",
    "import sevenbridges as sbg\n",
    "import sys\n",
    "import re\n",
    "import os\n",
    "import concurrent.futures\n",
    "# import pdb\n",
    "# from requests import request\n",
    "# from datetime import datetime\n",
    "config = sbg.Config(profile='cavatica')\n",
    "api = sbg.Api(config=config)"
   ]
  },
  {
   "cell_type": "markdown",
   "metadata": {},
   "source": [
    "### Get all completed alignment tasks"
   ]
  },
  {
   "cell_type": "code",
   "execution_count": 6,
   "metadata": {},
   "outputs": [],
   "source": [
    "def check_task(task):\n",
    "    tname = task.name.split('-')\n",
    "    try:\n",
    "        if tname[0] == 'alignment':\n",
    "            bs_id = task.inputs['biospecimen_name']\n",
    "            if tname[1] != bs_id:\n",
    "                sys.stderr.write('ERROR: Mismatch bs id in task name and biospecimen name for ' + task.id + ' ' + task.name + ' ' + bs_id + '\\n')\n",
    "\n",
    "            return task.id + '\\t' + task.name + '\\t' + bs_id + '\\t' + task.inputs['input_reads'].name + '\\t' + task.inputs['input_reads'].id + '\\n'\n",
    "        else:\n",
    "            return 'poop'\n",
    "    except Exception as e:\n",
    "        sys.stderr.write(str(e) + '\\n')\n",
    "        sys.stderr.write('Could not process task' + task.name + '\\n')\n",
    "        sys.stderr.flush()\n",
    "        return 'poop'"
   ]
  },
  {
   "cell_type": "code",
   "execution_count": 9,
   "metadata": {},
   "outputs": [
    {
     "name": "stderr",
     "output_type": "stream",
     "text": [
      "Processed 100 tasks for project seidman_fy15\n",
      "Processed 200 tasks for project seidman_fy15\n",
      "Processed 300 tasks for project seidman_fy15\n",
      "Processed 400 tasks for project seidman_fy15\n",
      "Processed 500 tasks for project seidman_fy15\n",
      "Processed 600 tasks for project seidman_fy15\n",
      "Processed 700 tasks for project seidman_fy15\n",
      "Processed 800 tasks for project seidman_fy15\n",
      "ERROR: Mismatch bs id in task name and biospecimen name for 355279bb-1fb6-4a14-888a-4b65f41c1108 alignment-BS_JA331RWK_QcReun2 BS_JA331RWK\n",
      "Processed 900 tasks for project seidman_fy15\n"
     ]
    }
   ],
   "source": [
    "uname = 'kfdrc-harmonization/sd-preasa7s'\n",
    "pname = 'seidman_fy15'\n",
    "\n",
    "tasks = api.tasks.query(project=uname, status='COMPLETED').all()\n",
    "out_dir = '/Users/brownm28/Documents/2019-Jan-30_reharmonization/seidman_fy15/'\n",
    "out = open(out_dir + pname + '_all_align_tasks.txt', 'w')\n",
    "out.write('Original task ID\\tTask name\\tBS ID\\tinput bam\\tinput file ID\\n')\n",
    "x = 1\n",
    "n = 100\n",
    "with concurrent.futures.ThreadPoolExecutor(8) as executor:\n",
    "    results = {executor.submit(check_task, task): task for task in tasks}\n",
    "    for result in concurrent.futures.as_completed(results):\n",
    "        if x % n == 0:\n",
    "            sys.stderr.write('Processed ' + str(x) + ' tasks for project ' + pname + '\\n')\n",
    "            sys.stderr.flush()\n",
    "        x += 1\n",
    "        if result.result() != 'poop':\n",
    "            out.write(result.result())\n",
    "out.close()"
   ]
  },
  {
   "cell_type": "code",
   "execution_count": null,
   "metadata": {},
   "outputs": [],
   "source": []
  }
 ],
 "metadata": {
  "kernelspec": {
   "display_name": "Python 3",
   "language": "python",
   "name": "python3"
  },
  "language_info": {
   "codemirror_mode": {
    "name": "ipython",
    "version": 3
   },
   "file_extension": ".py",
   "mimetype": "text/x-python",
   "name": "python",
   "nbconvert_exporter": "python",
   "pygments_lexer": "ipython3",
   "version": "3.7.0"
  }
 },
 "nbformat": 4,
 "nbformat_minor": 2
}
