{
 "cells": [
  {
   "cell_type": "code",
   "execution_count": 4,
   "metadata": {},
   "outputs": [],
   "source": [
    "#!/usr/bin/env python3\n",
    "import sevenbridges as sbg\n",
    "from sevenbridges.errors import SbgError\n",
    "from sevenbridges.http.error_handlers import rate_limit_sleeper, maintenance_sleeper\n",
    "import sys\n",
    "import re\n",
    "import concurrent.futures\n",
    "import pdb\n",
    "config = sbg.Config(profile='turbo')\n",
    "api = sbg.Api(config=config, error_handlers=[rate_limit_sleeper, maintenance_sleeper])\n",
    "project = 'kfdrc-harmonization/sd-8y99qzjj'"
   ]
  },
  {
   "cell_type": "markdown",
   "metadata": {},
   "source": [
    "## tag paired outputs"
   ]
  },
  {
   "cell_type": "code",
   "execution_count": 35,
   "metadata": {},
   "outputs": [
    {
     "name": "stderr",
     "output_type": "stream",
     "text": [
      "Valid task found KFDRC WES PRODUCTION: PNOC008-4 PT_5R8EWT55 BS_X0KN4VVW BS_CFJYJAA3\n"
     ]
    }
   ],
   "source": [
    "tasks = api.tasks.query(project=project, status=\"COMPLETED\").all()\n",
    "# task name search phrase\n",
    "phrase = \"KFDRC WES PRODUCTION: PNOC008-4\"\n",
    "# modify this to set which input file to use to tag the outputs with, may need to modify code if an array element\n",
    "tumor_in_key = 'input_tumor_aligned'\n",
    "normal_in_key = 'input_normal_aligned'\n",
    "for task in tasks:\n",
    "    if re.search(phrase, task.name):\n",
    "        sys.stderr.write('Valid task found ' + task.name + '\\n')\n",
    "        metadata = task.inputs[tumor_in_key].metadata\n",
    "        # del metadata['Kids First Biospecimen ID']\n",
    "        metadata['Kids First Biospecimen ID Normal'] = task.inputs[normal_in_key].metadata['Kids First Biospecimen ID']\n",
    "        metadata['Kids First Biospecimen ID Tumor'] = task.inputs[tumor_in_key].metadata['Kids First Biospecimen ID']\n",
    "        for out_key in task.outputs:\n",
    "            try:\n",
    "                if type(task.outputs[out_key]) is not list:\n",
    "                    file_obj = api.files.get(task.outputs[out_key].id)\n",
    "                    for key in metadata:\n",
    "                        file_obj.metadata[key] = metadata[key]\n",
    "                    file_obj.save()\n",
    "                else:\n",
    "                    for output in task.outputs[out_key]:\n",
    "                        file_obj = api.files.get(output.id)\n",
    "                        for key in metadata:\n",
    "                            file_obj.metadata[key] = metadata[key]\n",
    "                        file_obj.save()\n",
    "            except Exception as e:\n",
    "                print(e)\n",
    "                print(\"Skipping \" + task.name + \" due to error\")"
   ]
  },
  {
   "cell_type": "markdown",
   "metadata": {},
   "source": [
    "## tag single outputs"
   ]
  },
  {
   "cell_type": "code",
   "execution_count": 37,
   "metadata": {},
   "outputs": [
    {
     "name": "stderr",
     "output_type": "stream",
     "text": [
      "Valid task found kfdrc-consensus-calling run - PNOC008-4\n"
     ]
    },
    {
     "name": "stdout",
     "output_type": "stream",
     "text": [
      "Requested file does not exist.\n",
      "Skipping kfdrc-consensus-calling run - PNOC008-4 due to error\n"
     ]
    },
    {
     "name": "stderr",
     "output_type": "stream",
     "text": [
      "Valid task found kfdrc-consensus-calling run - PNOC008-4\n"
     ]
    }
   ],
   "source": [
    "tasks = api.tasks.query(project=project, status=\"COMPLETED\").all()\n",
    "# task name search phrase\n",
    "phrase = \"kfdrc-consensus-calling run - PNOC008-4\"\n",
    "# modify this to set which input file to use to tag the outputs with, may need to modify code if an array element\n",
    "in_key = 'lancet_vcf'\n",
    "for task in tasks:\n",
    "    if re.search(phrase, task.name):\n",
    "        sys.stderr.write('Valid task found ' + task.name + '\\n')\n",
    "        metadata = task.inputs[in_key].metadata\n",
    "        for out_key in task.outputs:\n",
    "            try:\n",
    "                if type(task.outputs[out_key]) is not list:\n",
    "                    file_obj = api.files.get(task.outputs[out_key].id)\n",
    "                    for key in metadata:\n",
    "                        file_obj.metadata[key] = metadata[key]\n",
    "                    file_obj.save()\n",
    "                else:\n",
    "                    for output in task.outputs[out_key]:\n",
    "                        file_obj = api.files.get(output.id)\n",
    "                        for key in metadata:\n",
    "                            file_obj.metadata[key] = metadata[key]\n",
    "                        file_obj.save()\n",
    "            except Exception as e:\n",
    "                print(e)\n",
    "                print(\"Skipping \" + task.name + \" due to error\")"
   ]
  },
  {
   "cell_type": "markdown",
   "metadata": {},
   "source": [
    "## tag batch outputs"
   ]
  },
  {
   "cell_type": "code",
   "execution_count": 3,
   "metadata": {},
   "outputs": [
    {
     "name": "stderr",
     "output_type": "stream",
     "text": [
      "Valid task found bcf-filter run - PNOC008-4: file: cf278813-3291-4f9b-b4f2-345936ed0796.cram\n",
      "Valid task found bcf-filter run - PNOC008-4: file: BS_9TXEDSWB.Aligned.out.sorted.bam\n",
      "Valid task found bcf-filter run - PNOC008-4: file: d5edd07c-2e3b-495a-99df-268e3d7411a6.cram\n"
     ]
    }
   ],
   "source": [
    "batch_id = 'ffa54e3d-31a8-47b1-b384-4fc61b0d9fcc'\n",
    "batch_task = api.tasks.get(batch_id)\n",
    "for task in batch_task.get_batch_children():\n",
    "    # pdb.set_trace()\n",
    "    sys.stderr.write('Valid task found ' + task.name + '\\n')\n",
    "    metadata = task.inputs['input_align'].metadata\n",
    "    for out_key in task.outputs:\n",
    "        try:\n",
    "            file_obj = api.files.get(task.outputs[out_key].id)\n",
    "            for key in metadata:\n",
    "                file_obj.metadata[key] = metadata[key]\n",
    "            file_obj.save()\n",
    "        except Exception as e:\n",
    "            print(e)\n",
    "            print(\"Skipping \" + task.name + \" due to error\")"
   ]
  },
  {
   "cell_type": "markdown",
   "metadata": {},
   "source": [
    "## update input file metadata"
   ]
  },
  {
   "cell_type": "code",
   "execution_count": 23,
   "metadata": {},
   "outputs": [],
   "source": [
    "import time\n",
    "manifest = open('/Users/brownm28/Documents/2019-May-7_PNOC008/pnoc008-4/mb_bam_in-manifest.tsv')\n",
    "head = next(manifest)\n",
    "header = head.rstrip('\\n').split('\\t')\n",
    "tags = ['PNOC008-4']\n",
    "for line in manifest:\n",
    "    info = line.rstrip('\\n').split('\\t')\n",
    "    file_obj = api.files.get(info[0])\n",
    "    md = {}\n",
    "    for i in range(3,len(info),1):\n",
    "        if info[i] != \"\":\n",
    "            md[header[i]] = info[i]\n",
    "    file_obj.metadata = {}\n",
    "    for key in md:\n",
    "        file_obj.metadata[key] = md[key]\n",
    "    file_obj.tags = tags\n",
    "    try:\n",
    "        file_obj.save()\n",
    "        # time.sleep(5)\n",
    "    except Exception as e:\n",
    "        sys.stderr.write(str(e) + \"\\n\")"
   ]
  },
  {
   "cell_type": "markdown",
   "metadata": {},
   "source": [
    "## copy file meta data from file to others in manifest"
   ]
  },
  {
   "cell_type": "code",
   "execution_count": 5,
   "metadata": {},
   "outputs": [],
   "source": [
    "file_id = '5dfcea21e4b054952cd36956'\n",
    "file_obj = api.files.get(file_id)\n",
    "metadata = {}\n",
    "for key in file_obj.metadata:\n",
    "    metadata[key] = file_obj.metadata[key]\n",
    "manifest = open('/Users/brownm28/Documents/2019-May-7_PNOC008/pnoc008-4/to_add_meta-manifest.csv')\n",
    "skip = next(manifest)\n",
    "for line in manifest:\n",
    "    info = line.split(',')\n",
    "    cur = api.files.get(info[0])\n",
    "    for key in metadata:\n",
    "        cur.metadata[key] = metadata[key]\n",
    "    cur.save()"
   ]
  },
  {
   "cell_type": "markdown",
   "metadata": {},
   "source": [
    "## clear out old metadata - use with caution!"
   ]
  },
  {
   "cell_type": "code",
   "execution_count": 22,
   "metadata": {},
   "outputs": [
    {
     "name": "stdout",
     "output_type": "stream",
     "text": [
      "YAS\n"
     ]
    },
    {
     "name": "stderr",
     "output_type": "stream",
     "text": [
      "No relevant changes were detected in order to update the resource on the server.\n",
      "No relevant changes were detected in order to update the resource on the server.\n",
      "No relevant changes were detected in order to update the resource on the server.\n",
      "No relevant changes were detected in order to update the resource on the server.\n",
      "No relevant changes were detected in order to update the resource on the server.\n",
      "No relevant changes were detected in order to update the resource on the server.\n"
     ]
    }
   ],
   "source": [
    "import time\n",
    "flag = input()\n",
    "if flag==\"YAS\":\n",
    "    manifest = open('/Users/brownm28/Documents/2019-May-7_PNOC008/pnoc008-4/mb_bam_in-manifest.tsv')\n",
    "    head = next(manifest)\n",
    "    header = head.rstrip('\\n').split('\\t')\n",
    "    tags = ['PNOC008-4']\n",
    "    for line in manifest:\n",
    "        info = line.rstrip('\\n').split('\\t')\n",
    "        file_obj = api.files.get(info[0])\n",
    "        file_obj.metadata = {}\n",
    "        try:\n",
    "            file_obj.save()\n",
    "            # time.sleep(5)\n",
    "        except Exception as e:\n",
    "            sys.stderr.write(str(e) + \"\\n\")"
   ]
  },
  {
   "cell_type": "markdown",
   "metadata": {},
   "source": [
    "## Get nant api info"
   ]
  },
  {
   "cell_type": "code",
   "execution_count": 28,
   "metadata": {},
   "outputs": [
    {
     "name": "stdout",
     "output_type": "stream",
     "text": [
      "--Return--\n",
      "> <ipython-input-28-e58a243c52e3>(7)<module>()->None\n",
      "-> pdb.set_trace()\n",
      "(Pdb) p token\n",
      "'aea983c63fe428a0b42fbcfa0f7a58cf60757742'\n",
      "(Pdb) q\n"
     ]
    },
    {
     "ename": "BdbQuit",
     "evalue": "",
     "output_type": "error",
     "traceback": [
      "\u001b[0;31m---------------------------------------------------------------------------\u001b[0m",
      "\u001b[0;31mBdbQuit\u001b[0m                                   Traceback (most recent call last)",
      "\u001b[0;32m<ipython-input-28-e58a243c52e3>\u001b[0m in \u001b[0;36m<module>\u001b[0;34m\u001b[0m\n\u001b[1;32m      5\u001b[0m \u001b[0mtoken\u001b[0m \u001b[0;34m=\u001b[0m \u001b[0mtoken\u001b[0m\u001b[0;34m.\u001b[0m\u001b[0mrstrip\u001b[0m\u001b[0;34m(\u001b[0m\u001b[0;34m'\\n'\u001b[0m\u001b[0;34m)\u001b[0m\u001b[0;34m\u001b[0m\u001b[0;34m\u001b[0m\u001b[0m\n\u001b[1;32m      6\u001b[0m \u001b[0mresponse\u001b[0m \u001b[0;34m=\u001b[0m \u001b[0mrequests\u001b[0m\u001b[0;34m.\u001b[0m\u001b[0mpost\u001b[0m\u001b[0;34m(\u001b[0m\u001b[0mlink\u001b[0m\u001b[0;34m,\u001b[0m \u001b[0mheaders\u001b[0m\u001b[0;34m=\u001b[0m\u001b[0;34m{\u001b[0m\u001b[0;34m'Authorization'\u001b[0m\u001b[0;34m:\u001b[0m \u001b[0;34m'access_token '\u001b[0m \u001b[0;34m+\u001b[0m \u001b[0mtoken\u001b[0m\u001b[0;34m}\u001b[0m\u001b[0;34m)\u001b[0m\u001b[0;34m\u001b[0m\u001b[0;34m\u001b[0m\u001b[0m\n\u001b[0;32m----> 7\u001b[0;31m \u001b[0mpdb\u001b[0m\u001b[0;34m.\u001b[0m\u001b[0mset_trace\u001b[0m\u001b[0;34m(\u001b[0m\u001b[0;34m)\u001b[0m\u001b[0;34m\u001b[0m\u001b[0;34m\u001b[0m\u001b[0m\n\u001b[0m\u001b[1;32m      8\u001b[0m \u001b[0mhold\u001b[0m \u001b[0;34m=\u001b[0m\u001b[0;36m1\u001b[0m\u001b[0;34m\u001b[0m\u001b[0;34m\u001b[0m\u001b[0m\n",
      "\u001b[0;32m~/anaconda3/lib/python3.7/bdb.py\u001b[0m in \u001b[0;36mtrace_dispatch\u001b[0;34m(self, frame, event, arg)\u001b[0m\n\u001b[1;32m     90\u001b[0m             \u001b[0;32mreturn\u001b[0m \u001b[0mself\u001b[0m\u001b[0;34m.\u001b[0m\u001b[0mdispatch_call\u001b[0m\u001b[0;34m(\u001b[0m\u001b[0mframe\u001b[0m\u001b[0;34m,\u001b[0m \u001b[0marg\u001b[0m\u001b[0;34m)\u001b[0m\u001b[0;34m\u001b[0m\u001b[0;34m\u001b[0m\u001b[0m\n\u001b[1;32m     91\u001b[0m         \u001b[0;32mif\u001b[0m \u001b[0mevent\u001b[0m \u001b[0;34m==\u001b[0m \u001b[0;34m'return'\u001b[0m\u001b[0;34m:\u001b[0m\u001b[0;34m\u001b[0m\u001b[0;34m\u001b[0m\u001b[0m\n\u001b[0;32m---> 92\u001b[0;31m             \u001b[0;32mreturn\u001b[0m \u001b[0mself\u001b[0m\u001b[0;34m.\u001b[0m\u001b[0mdispatch_return\u001b[0m\u001b[0;34m(\u001b[0m\u001b[0mframe\u001b[0m\u001b[0;34m,\u001b[0m \u001b[0marg\u001b[0m\u001b[0;34m)\u001b[0m\u001b[0;34m\u001b[0m\u001b[0;34m\u001b[0m\u001b[0m\n\u001b[0m\u001b[1;32m     93\u001b[0m         \u001b[0;32mif\u001b[0m \u001b[0mevent\u001b[0m \u001b[0;34m==\u001b[0m \u001b[0;34m'exception'\u001b[0m\u001b[0;34m:\u001b[0m\u001b[0;34m\u001b[0m\u001b[0;34m\u001b[0m\u001b[0m\n\u001b[1;32m     94\u001b[0m             \u001b[0;32mreturn\u001b[0m \u001b[0mself\u001b[0m\u001b[0;34m.\u001b[0m\u001b[0mdispatch_exception\u001b[0m\u001b[0;34m(\u001b[0m\u001b[0mframe\u001b[0m\u001b[0;34m,\u001b[0m \u001b[0marg\u001b[0m\u001b[0;34m)\u001b[0m\u001b[0;34m\u001b[0m\u001b[0;34m\u001b[0m\u001b[0m\n",
      "\u001b[0;32m~/anaconda3/lib/python3.7/bdb.py\u001b[0m in \u001b[0;36mdispatch_return\u001b[0;34m(self, frame, arg)\u001b[0m\n\u001b[1;32m    152\u001b[0m             \u001b[0;32mfinally\u001b[0m\u001b[0;34m:\u001b[0m\u001b[0;34m\u001b[0m\u001b[0;34m\u001b[0m\u001b[0m\n\u001b[1;32m    153\u001b[0m                 \u001b[0mself\u001b[0m\u001b[0;34m.\u001b[0m\u001b[0mframe_returning\u001b[0m \u001b[0;34m=\u001b[0m \u001b[0;32mNone\u001b[0m\u001b[0;34m\u001b[0m\u001b[0;34m\u001b[0m\u001b[0m\n\u001b[0;32m--> 154\u001b[0;31m             \u001b[0;32mif\u001b[0m \u001b[0mself\u001b[0m\u001b[0;34m.\u001b[0m\u001b[0mquitting\u001b[0m\u001b[0;34m:\u001b[0m \u001b[0;32mraise\u001b[0m \u001b[0mBdbQuit\u001b[0m\u001b[0;34m\u001b[0m\u001b[0;34m\u001b[0m\u001b[0m\n\u001b[0m\u001b[1;32m    155\u001b[0m             \u001b[0;31m# The user issued a 'next' or 'until' command.\u001b[0m\u001b[0;34m\u001b[0m\u001b[0;34m\u001b[0m\u001b[0;34m\u001b[0m\u001b[0m\n\u001b[1;32m    156\u001b[0m             \u001b[0;32mif\u001b[0m \u001b[0mself\u001b[0m\u001b[0;34m.\u001b[0m\u001b[0mstopframe\u001b[0m \u001b[0;32mis\u001b[0m \u001b[0mframe\u001b[0m \u001b[0;32mand\u001b[0m \u001b[0mself\u001b[0m\u001b[0;34m.\u001b[0m\u001b[0mstoplineno\u001b[0m \u001b[0;34m!=\u001b[0m \u001b[0;34m-\u001b[0m\u001b[0;36m1\u001b[0m\u001b[0;34m:\u001b[0m\u001b[0;34m\u001b[0m\u001b[0;34m\u001b[0m\u001b[0m\n",
      "\u001b[0;31mBdbQuit\u001b[0m: "
     ]
    }
   ],
   "source": [
    "import requests\n",
    "link = \"https://five3.nantomics.com/api/clinical/\"\n",
    "token_file = open('/Users/brownm28/Documents/2019-May-7_PNOC008/pnoc008-4/nant_token')\n",
    "token = next(token_file)\n",
    "token = token.rstrip('\\n')\n",
    "response = requests.post(link, headers={'Authorization': 'access_token ' + token})\n",
    "pdb.set_trace()\n",
    "hold =1\n"
   ]
  },
  {
   "cell_type": "markdown",
   "metadata": {},
   "source": [
    "## run task"
   ]
  },
  {
   "cell_type": "code",
   "execution_count": 33,
   "metadata": {},
   "outputs": [
    {
     "data": {
      "text/plain": [
       "<Task: id=341ac65c-464c-4898-8453-752a4cfaadd4>"
      ]
     },
     "execution_count": 33,
     "metadata": {},
     "output_type": "execute_result"
    }
   ],
   "source": [
    "old_task = api.tasks.get('79019fc3-13bc-4943-9d13-2575007edc7f')\n",
    "in_dict = {}\n",
    "tumor_bs_id = 'BS_X0KN4VVW'\n",
    "normal_bs_id = 'BS_CFJYJAA3'\n",
    "app_name = project + \"/kfdrc-production-somatic-wes-variant-cnv-wf\"\n",
    "task_name = \"KFDRC WES PRODUCTION: PNOC008-4 PT_5R8EWT55 \" + tumor_bs_id + \" \" + normal_bs_id\n",
    "for key in old_task.inputs:\n",
    "    in_dict[key] = old_task.inputs[key]\n",
    "in_dict['b_allele'] = api.files.get('5dfbf2efe4b054952cd31724')\n",
    "in_dict['input_normal_name'] = normal_bs_id\n",
    "in_dict['input_tumor_name'] = tumor_bs_id\n",
    "in_dict['hg38_strelka_bed'] = api.files.get('5dfbe19fe4b09d9aaf41d466')\n",
    "in_dict['input_normal_aligned'] = api.files.get('5dfac4f3e4b054952cd21099')\n",
    "in_dict['input_tumor_aligned'] = api.files.get('5dfad46ee4b0e4c5064f6cd0')\n",
    "in_dict['padded_capture_regions'] = api.files.get('5dfbe088e4b09d9aaf41d45a')\n",
    "in_dict['unpadded_capture_regions'] = api.files.get('5dfbe0c8e4b09d9aaf41d45f')\n",
    "in_dict['cnvkit_sex'] = 'Female'\n",
    "in_dict['cfree_sex'] = 'XX'\n",
    "task = api.tasks.create(name=task_name, project=project, app=app_name, inputs=in_dict, run=False)\n",
    "task.inputs['output_basename'] = task.id\n",
    "task.save()\n"
   ]
  },
  {
   "cell_type": "code",
   "execution_count": null,
   "metadata": {},
   "outputs": [],
   "source": []
  }
 ],
 "metadata": {
  "kernelspec": {
   "display_name": "Python 3",
   "language": "python",
   "name": "python3"
  },
  "language_info": {
   "codemirror_mode": {
    "name": "ipython",
    "version": 3
   },
   "file_extension": ".py",
   "mimetype": "text/x-python",
   "name": "python",
   "nbconvert_exporter": "python",
   "pygments_lexer": "ipython3",
   "version": "3.7.3"
  }
 },
 "nbformat": 4,
 "nbformat_minor": 2
}
