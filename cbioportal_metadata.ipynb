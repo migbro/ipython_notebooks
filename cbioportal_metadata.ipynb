{
 "cells": [
  {
   "cell_type": "markdown",
   "metadata": {},
   "source": [
    "## Setup imports and main url"
   ]
  },
  {
   "cell_type": "code",
   "execution_count": 52,
   "metadata": {},
   "outputs": [],
   "source": [
    "import sys\n",
    "from requests import request\n",
    "import os\n",
    "import math\n",
    "\n",
    "url = 'https://kf-api-dataservice.kidsfirstdrc.org'"
   ]
  },
  {
   "cell_type": "markdown",
   "metadata": {},
   "source": [
    "### Def to get single patient info by bs id"
   ]
  },
  {
   "cell_type": "code",
   "execution_count": 47,
   "metadata": {},
   "outputs": [],
   "source": [
    "def parse_pt(url, bs_id):\n",
    "    bs_url = url + '/biospecimens/' + bs_id\n",
    "    bs_data = request('GET', bs_url)\n",
    "    pt_link = bs_data.json()['_links']['participant']\n",
    "    pt_id = pt_link.split('/')[2]\n",
    "    pt_data = request('GET', url + pt_link)\n",
    "    other_sample_id = bs_data.json()['results']['external_sample_id']\n",
    "    ethnicity = pt_data.json()['results']['ethnicity']\n",
    "    gender = pt_data.json()['results']['gender']\n",
    "    race = pt_data.json()['results']['race']\n",
    "    return (ethnicity, other_sample_id, gender, race, pt_id)\n",
    "    "
   ]
  },
  {
   "cell_type": "markdown",
   "metadata": {},
   "source": [
    "### Def to get dx data by biospec ID"
   ]
  },
  {
   "cell_type": "code",
   "execution_count": 48,
   "metadata": {},
   "outputs": [],
   "source": [
    "def parse_dx(url, bs_id, dx):\n",
    "    dx_url = url + '/diagnoses?biospecimen_id=' + bs_id\n",
    "    try:\n",
    "        dx_data = request('GET', dx_url)\n",
    "        for res in dx_data.json()['results']:\n",
    "            if res['source_text_diagnosis'] == dx:\n",
    "                age = str(math.floor(res['age_at_event_days']/365.25))\n",
    "                location = res['source_text_tumor_location']\n",
    "                return age, location\n",
    "    except:\n",
    "        sys.stderr.write('Failed at getting data from link ' + dx_url + '\\n')\n",
    "        exit(1)"
   ]
  },
  {
   "cell_type": "markdown",
   "metadata": {},
   "source": [
    "### Def to intialize file outputs using a string to create output folder"
   ]
  },
  {
   "cell_type": "code",
   "execution_count": 49,
   "metadata": {},
   "outputs": [],
   "source": [
    "def init_outputs(dx, pt_fh, samp_fh, pt_head, samp_head):\n",
    "    os.mkdir(dx)\n",
    "    pt_fh[dx] = open(dx + '/data_clinical_patient.txt', 'w')\n",
    "    pt_fh[dx].write(pt_head)\n",
    "    samp_fh[dx] = open(dx + '/data_clinical_sample.txt', 'w')\n",
    "    samp_fh[dx].write(samp_head)\n",
    "    return(pt_fh, samp_fh)"
   ]
  },
  {
   "cell_type": "markdown",
   "metadata": {},
   "source": [
    "### Def to process bs_id info"
   ]
  },
  {
   "cell_type": "code",
   "execution_count": 82,
   "metadata": {},
   "outputs": [],
   "source": [
    "def process_bs_ids(url, bs_link, study_dict):\n",
    "    pt_bs_link = url + bs_link + '&limit=100'\n",
    "    pt_bs_info = request('GET', pt_bs_link)\n",
    "    tum_bs = []\n",
    "    tum_ext = []\n",
    "    assay = []\n",
    "    age = []\n",
    "    # dx array will be special and output as semi-colon, csv\n",
    "    dx = {}\n",
    "    cdx = {}\n",
    "    loc = {}\n",
    "    norm_bs = []\n",
    "    norm_ext = []\n",
    "    flag = len(pt_bs_info.json()['results'])\n",
    "    for bs in pt_bs_info.json()['results']:\n",
    "        cur_bs_id = bs['kf_id']\n",
    "        if bs['source_text_tissue_type'] == 'Tumor':\n",
    "            tum_bs.append(cur_bs_id)\n",
    "            tum_ext.append(bs['external_sample_id'].split('.')[0])\n",
    "            assay.append(bs['analyte_type'])\n",
    "            try:\n",
    "                age.append(str(math.floor(bs['age_at_event_days']/365.25)))\n",
    "            except:\n",
    "                age.append('NA')\n",
    "            dx_link = url + bs['_links']['diagnoses']\n",
    "            bs_dx = request('GET', dx_link)\n",
    "            dx[cur_bs_id] = []\n",
    "            cdx[cur_bs_id] = []\n",
    "            loc[cur_bs_id] = []\n",
    "            for dx_res in bs_dx.json()['results']:\n",
    "                loc[cur_bs_id].append(dx_res['source_text_tumor_location'])\n",
    "                dx[cur_bs_id].append(dx_res['source_text_diagnosis'])\n",
    "                if dx_res['source_text_diagnosis'] in study_dict:\n",
    "                    cdx[cur_bs_id].append(study_dict[dx_res['source_text_diagnosis']])\n",
    "                else:\n",
    "                    cdx[cur_bs_id].append('MISSING')\n",
    "        else:\n",
    "            norm_bs.append(cur_bs_id)\n",
    "            norm_ext.append(bs['external_sample_id'].split('.')[0])\n",
    "            if bs['analyte_type'] == 'RNA':\n",
    "                sys.stderr.write('WARNING: normal sample ' + cur_bs_id + ' has RNA.  Rethink pairs\\n')\n",
    "    return tum_bs, tum_ext, assay, age, dx, cdx, loc, norm_bs, norm_ext, flag"
   ]
  },
  {
   "cell_type": "markdown",
   "metadata": {},
   "source": [
    "### Def to iterate through array of patient result objects"
   ]
  },
  {
   "cell_type": "code",
   "execution_count": 86,
   "metadata": {},
   "outputs": [],
   "source": [
    "def process_pt_batch(results_obj, study_dict, out_fh):\n",
    "    for res in results_obj:\n",
    "        pt_id = res['kf_id']\n",
    "        ethnicity = res['ethnicity']\n",
    "        gender = res['gender']\n",
    "        race = res['race']\n",
    "        (tum_bs_csv, tum_ext_csv, assay_csv, age_csv, dx_scsv, cdx_scsv, loc_scsv, norm_bs_csv, norm_ext_csv, flag) = process_bs_ids(url, res['_links']['biospecimens'], study_dict)\n",
    "        dx_str = []\n",
    "        cdx_str = []\n",
    "        loc_str = []\n",
    "        if flag > 0:\n",
    "            for tum_id in tum_bs_csv:\n",
    "                dx_str.append(';'.join(dx_scsv[tum_id]))\n",
    "                cdx_str.append(';'.join(cdx_scsv[tum_id]))\n",
    "                loc_str.append(';'.join(loc_scsv[tum_id]))\n",
    "            # dx array will be special and output as semi-colon, pipe\n",
    "            out_fh.write('\\t'.join((pt_id, ethnicity, race, gender, ','.join(tum_bs_csv), ','.join(tum_ext_csv), ','.join(assay_csv), ','.join(age_csv), '|'.join(loc_str), '|'.join(dx_str), '|'.join(cdx_str), ','.join(norm_bs_csv), ','.join(norm_ext_csv))) + '\\n')\n",
    "        else:\n",
    "            sys.stderr.write(pt_id + ' has 0 biospecimen data.  SKIPPING!\\n')"
   ]
  },
  {
   "cell_type": "markdown",
   "metadata": {},
   "source": [
    "### Def to get all info on participants in a single study"
   ]
  },
  {
   "cell_type": "code",
   "execution_count": 66,
   "metadata": {},
   "outputs": [],
   "source": [
    "def gather_data(url, study_id, study_dict, out_fh):\n",
    "    f = 0\n",
    "    lim = 100\n",
    "    x = lim\n",
    "    next_link = ''\n",
    "    init_link = url + '/participants?study_id=' + study_id + '&limit=' + str(lim)\n",
    "    sys.stderr.write('Processing first batch of ' + str(lim) + ' ' + init_link + '\\n' )\n",
    "    init_pt = request('GET', init_link)\n",
    "    if 'next' in init_pt.json()['_links']:\n",
    "        next_link = url + init_pt.json()['_links']['next'] + '&limit=' + str(lim)\n",
    "    else:\n",
    "        f = 1\n",
    "    process_pt_batch(init_pt.json()['results'], study_dict, out_fh)\n",
    "    while f == 0:\n",
    "        x += lim\n",
    "        sys.stderr.write('Processing next batch of ' + str(lim) + ' ' + next_link + '\\n' )\n",
    "        next_pt = request('GET', next_link)\n",
    "        if 'next' in next_pt.json()['_links']:\n",
    "            next_link = url + next_pt.json()['_links']['next'] + '&limit=' + str(lim)\n",
    "        else:\n",
    "            f = 1\n",
    "            sys.stderr.write('Last batch\\n')\n",
    "        if x >= 40:\n",
    "            f = 1\n",
    "            sys.stderr.write('Last batch TEST MODE\\n')\n",
    "        process_pt_batch(next_pt.json()['results'], study_dict, out_fh) "
   ]
  },
  {
   "cell_type": "markdown",
   "metadata": {},
   "source": [
    "## Workflow that's mostly universal for initializing portal loading metadata files"
   ]
  },
  {
   "cell_type": "code",
   "execution_count": 87,
   "metadata": {},
   "outputs": [
    {
     "name": "stderr",
     "output_type": "stream",
     "text": [
      "#Patient Identifier\tGENDER\tAGE\tTUMOR_SITE\tRACE\tETHNICITY\n",
      "#Patient identifier\tGender or sex of the patient\tAge at which the condition or disease was first diagnosed, in years\tTumor location\tracial demographic\tethnic demographic\n",
      "#STRING\tSTRING\tNUMBER\tSTRING\tSTRING\tSTRING\n",
      "#1\t1\t1\t1\t1\t1\n",
      "PATIENT_ID\tGENDER\tAGE\tTUMOR_SITE\tRACE\tETHNICITY\n",
      "#Patient Identifier\tSample Identifier\tSPECIMEN_ID\tCANCER_TYPE\tCANCER_TYPE_DETAILED\tTUMOR_TISSUE_SITE\tTUMOR_TYPE\tMATCHED_NORMAL_SAMPLE_ID\tMATCHED_NORMAL_SPECIMEN_ID\n",
      "#Patient identifier\tSample Identifier using external_sample_id\tkfdrc tumor biopsecimen ID\tStudy-defined cancer type\tStudy-defined cancer type detail\ttumor tissue location\tprimary v metastatic tumor designation\tmatched normal external_sample_id\tkfdrc matched normal biospecimen ID\n",
      "#STRING\tSTRING\tSTRING\tSTRING\tSTRING\tSTRING\tSTRING\tSTRING\tSTRING\n",
      "#1\t1\t1\t1\t1\t1\t1\t1\t1\n",
      "PATIENT_ID\tSAMPLE_ID\tSPECIMEN_ID\tCANCER_TYPE\tCANCER_TYPE_DETAILED\tTUMOR_TISSUE_SITE\tTUMOR_TYPE\tMATCHED_NORMAL_SAMPLE_ID\tMATCHED_NORMAL_SPECIMEN_ID\n"
     ]
    }
   ],
   "source": [
    "study_index = open('/Users/brownm28/Documents/2018-Aug-15_cbttc_launch/portal_metadata/dx_index.txt')\n",
    "cwd = '/Users/brownm28/Documents/2018-Aug-15_cbttc_launch/portal_metadata/'\n",
    "os.chdir(cwd)\n",
    "study_dict = {}\n",
    "for line in study_index:\n",
    "    info = line.rstrip('\\n').split('\\t')\n",
    "    cid = info[1]\n",
    "    study_dx = info[0]\n",
    "    study_dict[study_dx] = cid\n",
    "\n",
    "pt_fh = {}\n",
    "samp_fh = {}\n",
    "pt_head = '#Patient Identifier\\tGENDER\\tAGE\\tTUMOR_SITE\\tRACE\\tETHNICITY\\n'\\\n",
    "'#Patient identifier\\tGender or sex of the patient\\tAge at which the condition or disease was first diagnosed, in years\\tTumor location\\tracial demographic\\tethnic demographic\\n'\\\n",
    "'#STRING\\tSTRING\\tNUMBER\\tSTRING\\tSTRING\\tSTRING\\n'\\\n",
    "'#1\\t1\\t1\\t1\\t1\\t1\\n'\\\n",
    "'PATIENT_ID\\tGENDER\\tAGE\\tTUMOR_SITE\\tRACE\\tETHNICITY\\n'\n",
    "\n",
    "sys.stderr.write(pt_head)\n",
    "# IMPORTANT! will use external sample id as sample id, and bs id as a specimen id\n",
    "samp_head = '#Patient Identifier\\tSample Identifier\\tSPECIMEN_ID\\tCANCER_TYPE\\tCANCER_TYPE_DETAILED\\tTUMOR_TISSUE_SITE\\tTUMOR_TYPE\\tMATCHED_NORMAL_SAMPLE_ID\\tMATCHED_NORMAL_SPECIMEN_ID\\n'\\\n",
    "'#Patient identifier\\tSample Identifier using external_sample_id\\tkfdrc tumor biopsecimen ID\\tStudy-defined cancer type\\tStudy-defined cancer type detail\\ttumor tissue location\\tprimary v metastatic tumor designation\\tmatched normal external_sample_id\\tkfdrc matched normal biospecimen ID\\n'\\\n",
    "'#STRING\\tSTRING\\tSTRING\\tSTRING\\tSTRING\\tSTRING\\tSTRING\\tSTRING\\tSTRING\\n'\\\n",
    "'#1\\t1\\t1\\t1\\t1\\t1\\t1\\t1\\t1\\n'\\\n",
    "'PATIENT_ID\\tSAMPLE_ID\\tSPECIMEN_ID\\tCANCER_TYPE\\tCANCER_TYPE_DETAILED\\tTUMOR_TISSUE_SITE\\tTUMOR_TYPE\\tMATCHED_NORMAL_SAMPLE_ID\\tMATCHED_NORMAL_SPECIMEN_ID\\n'\n",
    "\n",
    "sys.stderr.write(samp_head)\n"
   ]
  },
  {
   "cell_type": "markdown",
   "metadata": {},
   "source": [
    "## Top-down portal metadata worflow"
   ]
  },
  {
   "cell_type": "code",
   "execution_count": 88,
   "metadata": {},
   "outputs": [
    {
     "name": "stderr",
     "output_type": "stream",
     "text": [
      "Processing first batch of 20 https://kf-api-dataservice.kidsfirstdrc.org/participants?study_id=SD_BHJXBDQK&limit=20\n",
      "PT_9A2NW4XJ has 0 biospecimen data.  SKIPPING!\n",
      "PT_FT333PXW has 0 biospecimen data.  SKIPPING!\n",
      "PT_XJX2AA4N has 0 biospecimen data.  SKIPPING!\n",
      "PT_T5QQQ1TA has 0 biospecimen data.  SKIPPING!\n",
      "PT_F5Y27VCN has 0 biospecimen data.  SKIPPING!\n",
      "PT_Y674TRHE has 0 biospecimen data.  SKIPPING!\n",
      "PT_CNCJZ4JD has 0 biospecimen data.  SKIPPING!\n",
      "PT_HYBNXPN8 has 0 biospecimen data.  SKIPPING!\n",
      "PT_64C7QNBP has 0 biospecimen data.  SKIPPING!\n",
      "PT_1FP0ZWQB has 0 biospecimen data.  SKIPPING!\n",
      "PT_NCF47KJM has 0 biospecimen data.  SKIPPING!\n",
      "PT_GSS468PJ has 0 biospecimen data.  SKIPPING!\n",
      "PT_QD35M3XB has 0 biospecimen data.  SKIPPING!\n",
      "PT_XEVP2MH2 has 0 biospecimen data.  SKIPPING!\n",
      "PT_AA0J9GBF has 0 biospecimen data.  SKIPPING!\n",
      "PT_QVCXSYEJ has 0 biospecimen data.  SKIPPING!\n",
      "PT_B1M7TA7S has 0 biospecimen data.  SKIPPING!\n",
      "PT_SC8E6AQX has 0 biospecimen data.  SKIPPING!\n",
      "Processing next batch of 20 https://kf-api-dataservice.kidsfirstdrc.org/participants?after=1528834842.255318&study_id=SD_BHJXBDQK\n",
      "Last batch TEST MODE\n",
      "PT_82RJWJBP has 0 biospecimen data.  SKIPPING!\n",
      "PT_PF04R0BH has 0 biospecimen data.  SKIPPING!\n",
      "PT_7T2HQNR7 has 0 biospecimen data.  SKIPPING!\n",
      "FIN!\n"
     ]
    }
   ],
   "source": [
    "study_id = 'SD_BHJXBDQK'\n",
    "tbl_head = 'Participant ID\\tEthnicity\\tRace\\tGender\\tTumor_bs_ids\\tTumor_ext_ids\\tassay_types\\tage_list\\tlocation_list\\tdx_list\\tbio_dx_list\\tNormal_bs_ids\\tNormal_ext_ids\\n'\n",
    "out_fh = open('portal_staging_table.txt', 'w')\n",
    "out_fh.write(tbl_head)\n",
    "gather_data(url, study_id, study_dict, out_fh)\n",
    "out_fh.close()\n",
    "sys.stderr.write('FIN!\\n')"
   ]
  },
  {
   "cell_type": "markdown",
   "metadata": {},
   "source": [
    "## bottom-up metadata workflow using input table"
   ]
  },
  {
   "cell_type": "code",
   "execution_count": 51,
   "metadata": {},
   "outputs": [
    {
     "name": "stderr",
     "output_type": "stream",
     "text": [
      "Processing line C921639\t7316-2276\tBS_0FQKT8EY\t0f3d9f4f-3d81-48ca-8780-9d5c7bdc8440.cram\t7316-2276\tBS_S2N3XTKS\t83ea5d1e-02a8-4f68-ac5f-65e8a8e82d0e.cram\tAtypical Teratoid Rhabdoid Tumor (ATRT)\t0\t0\tcbttc-dna-launch-BS_0FQKT8EY_BS_S2N3XTKS\t08296b5c-5a27-425d-ae2a-03c2ccbbf86b\n",
      "Processing line C85854\t7316-386\tBS_GTAJFTTR\t35aca629-94f5-4274-9269-71e604ac6cbd.cram\t7316-386\tBS_0PB4PTHT\tfa8227bb-8c65-427f-a90b-99239112d2f1.cram\tAtypical Teratoid Rhabdoid Tumor (ATRT)\t0\t0\tcbttc-dna-launch-BS_GTAJFTTR_BS_0PB4PTHT\t2618bbb5-78fe-40b1-8376-7401f6b363d1\n",
      "Processing line C374412\t7316-1771\tBS_859AV1DB\t194f12cd-a548-47f9-8603-83199f06d041.cram\t7316-1771\tBS_1DM8G1V8\tc511fa28-6ef3-4051-864f-a98f1d5d41d7.cram\tAtypical Teratoid Rhabdoid Tumor (ATRT)\t0\t0\tcbttc-dna-launch-BS_859AV1DB_BS_1DM8G1V8\t2f398eb5-a62f-4888-9565-9c68b25daf21\n",
      "Processing line C886092\t7316-2269\tBS_ZAT0XJE5\t2858e25a-2d27-4882-88fc-01844e8b6a44.cram\t7316-2269\tBS_GERET530\t9706a97e-6eba-4c34-bdec-3d352da0a670.cram\tAtypical Teratoid Rhabdoid Tumor (ATRT)\t0\t0\tcbttc-dna-launch-BS_ZAT0XJE5_BS_GERET530\t37531cd0-3be8-4eac-ba4a-861aaa720fda\n",
      "Processing line C196554\t7316-918\tBS_CKY2TTXG\t5cd14e24-aa08-4cdc-b03a-c1473318e3f3.cram\t7316-918\tBS_84QXT7FR\t138fe8f7-40f1-45bc-8e8c-4b2f91e90bc5.cram\tAtypical Teratoid Rhabdoid Tumor (ATRT)\t0\t0\tcbttc-dna-launch-BS_CKY2TTXG_BS_84QXT7FR\t453cd183-12c8-4f9b-bf5a-b5da8fc89f37\n",
      "Processing line C18819\t7316-41\tBS_12ZB7R6A\t4a1872d8-d29c-4933-8624-d9cede34f7bf.cram\t7316-41\tBS_B2AFNXS1\t1abe9c31-bc35-4b9f-98ab-7de9f81fca37.cram\tAtypical Teratoid Rhabdoid Tumor (ATRT)\t0\t0\tcbttc-dna-launch-BS_12ZB7R6A_BS_B2AFNXS1\t4965a545-fca7-4876-bb03-69802983f270\n",
      "Processing line C603069\t7316-2110\tBS_6GN1FGTB\t2d063885-0e96-4534-9642-a67bcb4ec0d5.cram\t7316-2110\tBS_KBM2MTND\tebf87fb1-ab26-41ba-ba9c-88f9bb8db879.cram\tAtypical Teratoid Rhabdoid Tumor (ATRT)\t0\t0\tcbttc-dna-launch-BS_6GN1FGTB_BS_KBM2MTND\t4a42454b-d444-49a7-8349-9578a5913f11\n",
      "Processing line C626070\t7316-2933\tBS_DE26D072\tcccfc57c-c915-4a93-b491-4bc66116d11f.cram\t7316-2186\tBS_0P3S5YJQ\teb58ab1b-89b7-4b46-82bc-38b8b64ed983.cram\tAtypical Teratoid Rhabdoid Tumor (ATRT)\t0\t0\tcbttc-dna-launch-BS_DE26D072_BS_0P3S5YJQ\t6ea50297-5932-4c18-9b1e-b76fc2ca7065\n",
      "Processing line C396306\t7316-1778\tBS_WCNPE0AC\t3e266744-10d5-4a05-93ef-b3e92182fbca.cram\t7316-1778\tBS_E1SWA20C\tea6361b0-eece-4da0-b0e5-aa7779ec9adf.cram\tAtypical Teratoid Rhabdoid Tumor (ATRT)\t0\t0\tcbttc-dna-launch-BS_WCNPE0AC_BS_E1SWA20C\t70215da7-a7f1-4773-bc27-8f7d1a5e53ff\n",
      "Processing line C374412\t7316-3045\tBS_RCC7ZEC0\tc1ef517d-86c6-46ae-a2e9-2e32d3f62853.cram\t7316-1771\tBS_1DM8G1V8\tc511fa28-6ef3-4051-864f-a98f1d5d41d7.cram\tAtypical Teratoid Rhabdoid Tumor (ATRT)\t0\t0\tcbttc-dna-launch-BS_RCC7ZEC0_BS_1DM8G1V8\t82f120b2-2a9a-460a-bb72-394eef1cbf27\n",
      "Processing line C626193\t7316-2187\tBS_53TV75NN\t87c5a83d-abea-4311-a63c-a85de78b685a.cram\t7316-2187\tBS_M28J7CGM\t3f14749e-8904-494a-b6ae-0d04b99b969a.cram\tAtypical Teratoid Rhabdoid Tumor (ATRT)\t0\t0\tcbttc-dna-launch-BS_53TV75NN_BS_M28J7CGM\t8525e128-c790-4b82-873a-9933e334eddc\n",
      "Processing line C333453\t7316-1073\tBS_W23ERYW3\tab2f8f51-2b18-41a8-a07a-a3e863ab1050.cram\t7316-1073\tBS_ZJ3VP0AP\te652d64f-945c-406c-8399-0065edf06444.cram\tAtypical Teratoid Rhabdoid Tumor (ATRT)\t0\t0\tcbttc-dna-launch-BS_W23ERYW3_BS_ZJ3VP0AP\t85284310-dc3d-4140-b219-07c2a491ebdf\n",
      "Processing line C558912\t7316-2090\tBS_19EJ85F8\t6e3e5817-87c5-44b9-b149-d578a4f8d620.cram\t7316-2104\tBS_SZYRB89G\t2a428833-fe11-42c2-82d8-1e1db1c32add.cram\tAtypical Teratoid Rhabdoid Tumor (ATRT)\t0\t0\tcbttc-dna-launch-BS_19EJ85F8_BS_SZYRB89G\t8dc6f57d-0910-407b-aade-78fff3dd769f\n",
      "Processing line C1010445\t7316-3890\tBS_5WK2KXYW\tf61f5aac-e574-4868-a4b5-aca73e36ead7.cram\t7316-3890\tBS_FPB0JGKX\ta35a7d75-e23a-4e04-a7e0-8d97902c2061.cram\tAtypical Teratoid Rhabdoid Tumor (ATRT)\t0\t0\tcbttc-dna-launch-BS_5WK2KXYW_BS_FPB0JGKX\t9213413b-82ca-4909-a491-7a6a50933c71\n",
      "Processing line C121893\t7316-479\tBS_YZ0P5E8H\tb0a24dc2-2323-42ae-8ef2-440b806c5037.cram\t7316-479\tBS_G113MX63\td6148e81-645b-4f8b-ad7a-8e6fa28572fe.cram\tAtypical Teratoid Rhabdoid Tumor (ATRT)\t0\t0\tcbttc-dna-launch-BS_YZ0P5E8H_BS_G113MX63\ta01cc29f-b9f5-4328-a7cb-15cb963eef1f\n",
      "Processing line C626070\t7316-2186\tBS_NXZSD2KK\teb4907b7-94c6-4325-a5b0-7381040367e7.cram\t7316-2186\tBS_0P3S5YJQ\teb58ab1b-89b7-4b46-82bc-38b8b64ed983.cram\tAtypical Teratoid Rhabdoid Tumor (ATRT)\t0\t0\tcbttc-dna-launch-BS_NXZSD2KK_BS_0P3S5YJQ\ta064c46d-61ec-428c-8401-07920078ca61\n",
      "Processing line C406761\t7316-1781\tBS_0EN5R1AP\te8d8021f-fe1b-438c-8e0d-db2d4e5f4e97.cram\t7316-1781\tBS_8ZTNXCZJ\tfef4889e-a0db-4a60-b8f5-c8c5c5207298.cram\tAtypical Teratoid Rhabdoid Tumor (ATRT)\t0\t0\tcbttc-dna-launch-BS_0EN5R1AP_BS_8ZTNXCZJ\ta2e36530-eb50-4879-92fb-ee3915c43e94\n",
      "Processing line C974652\t7316-3920\tBS_E0S2Y0TS\t94d7d797-dc47-4949-83d3-453b26717bad.cram\t7316-3920\tBS_EH43PB49\t1e15c83a-b6cb-4bcd-8efe-3c60d995656d.cram\tAtypical Teratoid Rhabdoid Tumor (ATRT)\t0\t0\tcbttc-dna-launch-BS_E0S2Y0TS_BS_EH43PB49\ta8a424f8-9e4e-4634-86f3-b672a262ac3e\n",
      "Processing line C663708\t7316-2582\tBS_1C4WCNQF\tbdc9f9ae-98b8-404b-bd31-fdb5149aebf4.cram\t7316-2582\tBS_23EJJGP1\t1d013589-1761-4ed6-b732-51b35e483af6.cram\tAtypical Teratoid Rhabdoid Tumor (ATRT)\t0\t0\tcbttc-dna-launch-BS_1C4WCNQF_BS_23EJJGP1\tac5286c4-0522-4c37-b7ba-978ae12f9d14\n",
      "Processing line C603069\t7316-3680\tBS_6VKKMM6M\t732b8193-58aa-45cd-9d83-c83ea1ca0227.cram\t7316-2110\tBS_KBM2MTND\tebf87fb1-ab26-41ba-ba9c-88f9bb8db879.cram\tAtypical Teratoid Rhabdoid Tumor (ATRT)\t0\t0\tcbttc-dna-launch-BS_6VKKMM6M_BS_KBM2MTND\tbc92ed5a-60c6-4a75-9d16-9194738bc997\n",
      "Processing line C82164\t7316-376\tBS_74A1TB03\tcc7d646f-8f72-4af0-b152-aa8f70ac35a0.cram\t7316-376\tBS_ECMB9SWH\tea17a439-8d13-47a1-92c7-c5c086a0fd6b.cram\tAtypical Teratoid Rhabdoid Tumor (ATRT)\t0\t0\tcbttc-dna-launch-BS_74A1TB03_BS_ECMB9SWH\tc87e9030-485f-49c4-af4e-e47f7ee03142\n",
      "Processing line C104427\t7316-525\tBS_9KDA3HG6\tca3b475d-57ed-47d5-97f2-d31b7aed5596.cram\t7316-525\tBS_26J942GD\ta210b26b-9992-4ee1-82ca-bf37bb3ce8b7.cram\tAtypical Teratoid Rhabdoid Tumor (ATRT)\t0\t0\tcbttc-dna-launch-BS_9KDA3HG6_BS_26J942GD\tc91cecfa-4ff7-47d1-9708-66bf00d23d1d\n",
      "Processing line C964566\t7316-3937\tBS_R5G3QP11\t8040e2e5-eafc-46da-924c-e0899164823a.cram\t7316-3939\tBS_R0JC16SG\tad1e0492-5b52-423e-8bd9-cfcb89b95fb3.cram\tAtypical Teratoid Rhabdoid Tumor (ATRT)\t0\t0\tcbttc-dna-launch-BS_R5G3QP11_BS_R0JC16SG\tcae1ad43-eb80-4a2a-91fc-1f35b1957c90\n",
      "Processing line C182286\t7316-820\tBS_P7CY04E7\t7defdd39-ed11-4d78-ab30-a7f4f47e7e93.cram\t7316-2039\tBS_NKNDVFFR\t64188ec2-e892-4787-884e-e2fb93be1f21.cram\tAtypical Teratoid Rhabdoid Tumor (ATRT)\t0\t0\tcbttc-dna-launch-BS_P7CY04E7_BS_NKNDVFFR\td1288613-6b2b-4d36-959e-030d07aaba03\n",
      "Processing line C59655\t7316-122\tBS_QMHND3QK\t91bad13e-e416-41a4-97b8-03b4ec80fc99.cram\t7316-122\tBS_FNQMY128\te52f5d86-676d-4eb0-aa01-9aa28ab4fc36.cram\tAtypical Teratoid Rhabdoid Tumor (ATRT)\t0\t0\tcbttc-dna-launch-BS_QMHND3QK_BS_FNQMY128\td195bcf6-e648-468f-89b8-d8f7f82cc9fc\n",
      "Processing line C587325\t7316-2224\tBS_SCQNN2A2\t6871c35f-fcfb-49a0-8808-c095e48a6cd4.cram\t7316-2224\tBS_KFTEJV19\tb9b7e62a-7af1-45c2-ba2c-5eaf73f843ed.cram\tAtypical Teratoid Rhabdoid Tumor (ATRT)\t0\t0\tcbttc-dna-launch-BS_SCQNN2A2_BS_KFTEJV19\td4cb8cdf-9138-4a64-85a0-83c1441faf4f\n",
      "Processing line C140712\t7316-878\tBS_SWHQ8FDW\t8b71891c-3506-46b2-be4d-6538a00e373f.cram\t7316-878\tBS_99PPAR9M\t7c48e85d-c234-4421-953c-38a2e2aaee42.cram\tAtypical Teratoid Rhabdoid Tumor (ATRT)\t0\t0\tcbttc-dna-launch-BS_SWHQ8FDW_BS_99PPAR9M\te5c9af3a-78ea-49f0-b352-d6656d00d1d0\n",
      "Processing line C607743\t7316-2181\tBS_NDSWS9TS\tdc38338a-99de-4563-bed2-fd2fb5735f14.cram\t7316-2181\tBS_ZZHCTPFR\ta3615224-8aa2-4172-9322-cc6378a56a3d.cram\tAtypical Teratoid Rhabdoid Tumor (ATRT)\t0\t0\tcbttc-dna-launch-BS_NDSWS9TS_BS_ZZHCTPFR\tf6d7eb0f-48dd-4124-b921-e8c97aa1f9ec\n"
     ]
    }
   ],
   "source": [
    "master_table = open('/Users/brownm28/Documents/2018-Aug-15_cbttc_launch/portal_metadata/atrt_test.txt')\n",
    "pt_used = {}\n",
    "for line in master_table:\n",
    "    sys.stderr.write('Processing line ' + line)\n",
    "    info = line.rstrip('\\n').split('\\t')\n",
    "    for i in range(0, 3, 1):\n",
    "        cur_dx = info[(7 + i)]\n",
    "        if cur_dx != '0':\n",
    "            # check if disease-specific out files are open, initialize if not\n",
    "            bio_dx = study_dict[cur_dx]\n",
    "            if bio_dx not in pt_fh:\n",
    "                (pt_fh, samp_fh) = init_outputs(bio_dx, pt_fh, samp_fh, pt_head, samp_head)\n",
    "            tum_bs_id = info[2]\n",
    "            norm_bs_id = info[5]\n",
    "            cancer_type = cur_dx\n",
    "            tumor_type = 'primary'\n",
    "            if cur_dx == 'Metastatic secondary tumors':\n",
    "                tumor_type = 'metastatic'\n",
    "            (ethnicity, other_sample_id, gender, race, pt_id) = parse_pt(url, tum_bs_id)\n",
    "            (ethnicity, norm_other_sample_id, gender, race, pt_id) = parse_pt(url, norm_bs_id)\n",
    "            try:\n",
    "                (age, location) = parse_dx(url, tum_bs_id, cur_dx)\n",
    "            except:\n",
    "                sys.stderr.write('Could not process dx for ' + tum_bs_id + ' ' + cur_dx + '\\n')\n",
    "                exit(1)\n",
    "            if pt_id not in pt_used:\n",
    "                pt_fh[bio_dx].write('\\t'.join((pt_id, gender, age, location, race, ethnicity)) + '\\n')\n",
    "                pt_used[pt_id] = 1\n",
    "            samp_fh[bio_dx].write('\\t'.join((pt_id, tum_bs_id, cancer_type, cancer_type, location, tumor_type, other_sample_id, norm_bs_id, norm_other_sample_id)) + '\\n')\n",
    "for bio_dx in pt_fh:\n",
    "    pt_fh[bio_dx].close()\n",
    "    samp_fh[bio_dx].close()"
   ]
  },
  {
   "cell_type": "code",
   "execution_count": null,
   "metadata": {},
   "outputs": [],
   "source": []
  }
 ],
 "metadata": {
  "kernelspec": {
   "display_name": "Python 3",
   "language": "python",
   "name": "python3"
  },
  "language_info": {
   "codemirror_mode": {
    "name": "ipython",
    "version": 3
   },
   "file_extension": ".py",
   "mimetype": "text/x-python",
   "name": "python",
   "nbconvert_exporter": "python",
   "pygments_lexer": "ipython3",
   "version": "3.7.0"
  }
 },
 "nbformat": 4,
 "nbformat_minor": 2
}
