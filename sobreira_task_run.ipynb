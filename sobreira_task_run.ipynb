{
 "cells": [
  {
   "cell_type": "markdown",
   "metadata": {},
   "source": [
    "## Set up api imports"
   ]
  },
  {
   "cell_type": "code",
   "execution_count": 1,
   "metadata": {},
   "outputs": [],
   "source": [
    "import sevenbridges as sbg\n",
    "from sevenbridges.errors import SbgError\n",
    "from sevenbridges.http.error_handlers import rate_limit_sleeper, maintenance_sleeper\n",
    "import sys\n",
    "import re\n",
    "import concurrent.futures\n",
    "import pdb\n",
    "config = sbg.Config(profile='turbo') # assumes sbg credentials file, use your profile name here\n",
    "api = sbg.Api(config=config, error_handlers=[rate_limit_sleeper, maintenance_sleeper])"
   ]
  },
  {
   "cell_type": "markdown",
   "metadata": {},
   "source": [
    "### Read in \"master\" ped file and note proband flag and fam relationship flag"
   ]
  },
  {
   "cell_type": "code",
   "execution_count": null,
   "metadata": {},
   "outputs": [],
   "source": [
    "# no header, tab-separated\n",
    "ped_file = open(\"/Users/brownm28/Documents/2021-Jan-4_sobreira_strelka2_run/families.ped\")\n",
    "trios = {}\n",
    "for line in ped_file:\n",
    "    info = line.rstrip('\\n').split('\\t')\n",
    "    # pdb.set_trace()\n",
    "    if info[2] != '-9':\n",
    "        fam_id = info[0]\n",
    "        trios[fam_id] = []\n",
    "        trios[fam_id] = info[1:4]\n",
    "ped_file.close()"
   ]
  },
  {
   "cell_type": "markdown",
   "metadata": {},
   "source": [
    "### Create cram dict from cavatica file manifest"
   ]
  },
  {
   "cell_type": "code",
   "execution_count": null,
   "metadata": {},
   "outputs": [],
   "source": [
    "crams = {}\n",
    "manifest = open(\"/Users/brownm28/Documents/2021-Jan-4_sobreira_strelka2_run/cram-manifest.csv\")\n",
    "head = next(manifest)\n",
    "for line in manifest:\n",
    "    info = info = line.rstrip('\\n').split(',')\n",
    "    crams[info[1]] = info[0]\n",
    "manifest.close()"
   ]
  },
  {
   "cell_type": "markdown",
   "metadata": {},
   "source": [
    "## Create tasks"
   ]
  },
  {
   "cell_type": "code",
   "execution_count": null,
   "metadata": {},
   "outputs": [],
   "source": [
    "def get_refs_defaults():\n",
    "    ref_dict = {}\n",
    "    ref_dict['cores'] = 16\n",
    "    ref_dict['ram'] = 32\n",
    "    # using files IDs instead of query, which is normally more portable between projects\n",
    "    ref_dict['call_regions'] = api.files.get('5fdcf7e9e4b0a6d396628ee9')\n",
    "    ref_dict['reference'] = api.files.get('5fdcf782e4b0370307f394ce')\n",
    "    return ref_dict\n",
    "    "
   ]
  },
  {
   "cell_type": "code",
   "execution_count": null,
   "metadata": {},
   "outputs": [],
   "source": [
    "def create_task(fam_id):\n",
    "    try:\n",
    "        task_name = \"STRELKA2 JOINT CALL: \" + fam_id\n",
    "        inputs = {}\n",
    "        for key in ref_dict:\n",
    "            inputs[key] = ref_dict[key]\n",
    "        inputs['input_crams'] = []\n",
    "        for samp_id in trios[fam_id]:\n",
    "            fname = samp_id + \".cram\"\n",
    "            inputs['input_crams'].append(api.files.get(crams[fname]))\n",
    "        task = api.tasks.create(name=task_name, project=project, app=app_name, inputs=inputs, run=False)\n",
    "        task.inputs['output_basename'] = task.id\n",
    "        task.save()\n",
    "    except Exception as e:\n",
    "        sys.stderr.write(str(e) + \"\\nFailed to create task, exiting\\n\")\n",
    "        exit(1)\n",
    "\n",
    "    "
   ]
  },
  {
   "cell_type": "code",
   "execution_count": null,
   "metadata": {},
   "outputs": [],
   "source": [
    "project = 'kids-first-drc/kfdrc-sobreira-strelka2-collab'\n",
    "app_name = project + '/strelka2-germline'\n",
    "ref_dict = get_refs_defaults()\n",
    "for fam_id in trios:\n",
    "    create_task(fam_id)\n"
   ]
  },
  {
   "cell_type": "markdown",
   "metadata": {},
   "source": [
    "## Add metadata to task outputs"
   ]
  },
  {
   "cell_type": "code",
   "execution_count": 7,
   "metadata": {},
   "outputs": [],
   "source": [
    "project = 'kids-first-drc/kfdrc-sobreira-strelka2-collab'\n",
    "tasks = api.tasks.query(project=project, status=\"COMPLETED\").all()\n",
    "prefix = \"STRELKA2 JOINT CALL\"\n",
    "for task in tasks:\n",
    "    if re.search(prefix, task.name):\n",
    "        # get fam id from task name\n",
    "        (ignore, fam_id) = task.name.split(\": \")\n",
    "        for i in range(len(task.outputs['genome_vcf_gzs'])):\n",
    "            # pdb.set_trace()\n",
    "            file_obj = api.files.get(task.outputs['genome_vcf_gzs'][i].id)\n",
    "            parts = file_obj.name.split('.')\n",
    "            metadata = {\"sample_id\": parts[1], \"Family ID\": fam_id}\n",
    "            file_obj.metadata = metadata\n",
    "            try:\n",
    "                file_obj.save()\n",
    "            except Exception as e:\n",
    "                sys.stderr.write(str(e) + \"\\nGot while saving metadata for \" \n",
    "                                 + file_obj.name + \"\\n\")\n",
    "            sf = api.files.get(task.outputs['genome_vcf_gzs'][i].secondary_files[0].id)\n",
    "            sf.metadata = metadata\n",
    "            try:\n",
    "                sf.save()\n",
    "            except Exception as e:\n",
    "                sys.stderr.write(str(e) + \"\\nGot while saving metadata for \" + sf.name + \"\\n\")\n",
    "        file_obj = api.files.get(task.outputs['variants_vcf_gz'].id)\n",
    "        file_obj.metadata[\"Family ID\"] = fam_id\n",
    "        try:\n",
    "            file_obj.save()\n",
    "        except Exception as e:\n",
    "            sys.stderr.write(str(e) + \"\\nGot while saving metadata for \" + file_obj.name + \"\\n\")\n",
    "        sf = api.files.get(task.outputs['variants_vcf_gz'].secondary_files[0].id)\n",
    "        sf.metadata[\"Family ID\"] = fam_id\n",
    "        try:\n",
    "            sf.save()\n",
    "        except Exception as e:\n",
    "            sys.stderr.write(str(e) + \"\\nGot while saving metadata for \" + sf.name + \"\\n\")\n",
    "\n"
   ]
  },
  {
   "cell_type": "code",
   "execution_count": null,
   "metadata": {},
   "outputs": [],
   "source": []
  }
 ],
 "metadata": {
  "kernelspec": {
   "display_name": "Python 3",
   "language": "python",
   "name": "python3"
  },
  "language_info": {
   "codemirror_mode": {
    "name": "ipython",
    "version": 3
   },
   "file_extension": ".py",
   "mimetype": "text/x-python",
   "name": "python",
   "nbconvert_exporter": "python",
   "pygments_lexer": "ipython3",
   "version": "3.9.6"
  }
 },
 "nbformat": 4,
 "nbformat_minor": 4
}
