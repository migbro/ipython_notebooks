{
 "cells": [
  {
   "cell_type": "code",
   "execution_count": 2,
   "metadata": {},
   "outputs": [],
   "source": [
    "import sevenbridges as sbg\n",
    "from sevenbridges.errors import SbgError\n",
    "from sevenbridges.http.error_handlers import rate_limit_sleeper, maintenance_sleeper\n",
    "import sys\n",
    "import re\n",
    "import pdb\n",
    "import concurrent.futures\n",
    "from requests import request\n",
    "import json\n",
    "config = sbg.Config(profile='turbo')\n",
    "api = sbg.Api(config=config, error_handlers=[rate_limit_sleeper, maintenance_sleeper])"
   ]
  },
  {
   "cell_type": "code",
   "execution_count": 3,
   "metadata": {},
   "outputs": [
    {
     "name": "stderr",
     "output_type": "stream",
     "text": [
      "WARN: Job picard_intervallisttools had null cmd\n",
      "WARN: Job untar_reference had null cmd\n",
      "WARN: Job bundle_secondaries had null cmd\n",
      "WARN: Job index_dbsnp had null cmd\n"
     ]
    }
   ],
   "source": [
    "project = \"kfdrc-harmonization/sd-z6mwd3h0-alignment-wgs-normal\"\n",
    "task_id = \"8a9b7be4-3be0-4149-8239-6738abe9f1d9\"\n",
    "out_file = open(\"/Users/brownm28/Documents/playground/cram2gvcf.tsv\", \"w\")\n",
    "# task_id = \"3c20cc8e-18d7-43f2-bc2c-4a76d38a88f8\"\n",
    "task = api.tasks.get(task_id)\n",
    "jobs = {}\n",
    "temp = {}\n",
    "for job in task.get_execution_details().jobs:\n",
    "    if job.status == \"COMPLETED\":\n",
    "        check = job.name.split('_')\n",
    "        cmd = job.command_line\n",
    "        if job.command_line == None:\n",
    "            # pdb.set_trace()\n",
    "            cmd = \"embedded script or task retry\"\n",
    "            sys.stderr.write(\"WARN: Job \" + job.name + \" had null cmd\\n\")\n",
    "        if check[-1] == \"s\":\n",
    "            key = \"_\".join(check[:-2])\n",
    "            if key not in temp:\n",
    "                jobs[job.start_time] = {}\n",
    "                jobs[job.start_time][key] = cmd\n",
    "                temp[key] = 1\n",
    "            else:\n",
    "                temp[key] += 1\n",
    "        else:\n",
    "            jobs[job.start_time] = {}\n",
    "            jobs[job.start_time][job.name] = cmd\n",
    "out_file.write(\"Step\\tType\\tNum scatter\\tCommand\\n\")\n",
    "for rtime in sorted(jobs.keys()):\n",
    "    for key in jobs[rtime]:\n",
    "        rtype = \"run step\"\n",
    "        sct = \"NA\"\n",
    "        if key in temp and temp[key] > 1:\n",
    "            rtype = \"scatter\"\n",
    "            sct = str(temp[key])\n",
    "        cmds = jobs[rtime][key].split('\\n')\n",
    "        for cmd in cmds:\n",
    "            out_file.write(key + \"\\t\" + rtype + \"\\t\" + sct + \"\\t\" + cmd + \"\\n\")\n",
    "out_file.close()\n"
   ]
  },
  {
   "cell_type": "code",
   "execution_count": 5,
   "metadata": {},
   "outputs": [],
   "source": [
    "import sys\n",
    "\n",
    "# max desired col width\n",
    "max_w = 200\n",
    "tsv_in = open(\"/Users/brownm28/Documents/playground/kf_annot_sub.tsv\")\n",
    "out_md = open(\"/Users/brownm28/Documents/playground/kf_annot_sub.md\", \"w\")\n",
    "data = []\n",
    "max_len = []\n",
    "\n",
    "\n",
    "for line in tsv_in:\n",
    "    info = line.rstrip('\\n').split('\\t')\n",
    "    data.append(info)\n",
    "    if len(max_len) == 0:\n",
    "        for item in info:\n",
    "            max_len.append(len(item))\n",
    "    else:\n",
    "        for i in range(len(max_len)):\n",
    "            if len(info[i]) > max_w:\n",
    "                max_len[i] = max_w\n",
    "            elif len(info[i]) > max_len[i]:\n",
    "                max_len[i] = len(info[i])\n",
    "# print header first\n",
    "d_ct = []\n",
    "for i in range(len(data[0])):\n",
    "    d_ct.append(len(data[0][i]))\n",
    "    out_md.write(\" | \" + data[0][i] + \"\".join([\" \"] * max_len[i]))\n",
    "    d_ct[i] += max_len[i]\n",
    "out_md.write(\" |\\n\")\n",
    "for i in range(len(data[0])):\n",
    "    out_md.write(\" | \" + \"\".join([\"-\"] * d_ct[i]))\n",
    "out_md.write(\" |\\n\")\n",
    "# pdb.set_trace()\n",
    "for i in range(1, len(data), 1):\n",
    "    for j in range(len(data[i])):\n",
    "        d_ct = len(data[i][j]) + 2\n",
    "        out_md.write(\" | \" + data[i][j] + \"\".join([\" \"] * max_len[j]))\n",
    "        d_ct += max_len[j]\n",
    "    out_md.write(\" |\\n\")\n",
    "out_md.close()"
   ]
  },
  {
   "cell_type": "code",
   "execution_count": null,
   "metadata": {},
   "outputs": [],
   "source": []
  }
 ],
 "metadata": {
  "kernelspec": {
   "display_name": "Python 3",
   "language": "python",
   "name": "python3"
  },
  "language_info": {
   "codemirror_mode": {
    "name": "ipython",
    "version": 3
   },
   "file_extension": ".py",
   "mimetype": "text/x-python",
   "name": "python",
   "nbconvert_exporter": "python",
   "pygments_lexer": "ipython3",
   "version": "3.9.6"
  }
 },
 "nbformat": 4,
 "nbformat_minor": 4
}
