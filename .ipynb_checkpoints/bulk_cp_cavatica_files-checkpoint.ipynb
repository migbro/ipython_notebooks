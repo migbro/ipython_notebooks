{
 "cells": [
  {
   "cell_type": "code",
   "execution_count": 45,
   "metadata": {},
   "outputs": [],
   "source": [
    "import sevenbridges as sbg\n",
    "from sevenbridges.http.error_handlers import rate_limit_sleeper, maintenance_sleeper\n",
    "import sys\n",
    "import re\n",
    "import pdb\n",
    "import concurrent.futures\n",
    "from requests import request\n",
    "config = sbg.Config(profile='cavatica')\n",
    "api = sbg.Api(config=config, error_handlers=[rate_limit_sleeper, maintenance_sleeper])"
   ]
  },
  {
   "cell_type": "code",
   "execution_count": 46,
   "metadata": {},
   "outputs": [],
   "source": [
    "def cp_file(task):\n",
    "    try:\n",
    "        \n",
    "        if re.search(prefix, task.name) and task.outputs[out_name].metadata[file_tag] in bs_dict and (suffix is None or re.search(suffix, task.name)):\n",
    "            file_obj = task.outputs[out_name]\n",
    "            new_cp = file_obj.copy(project=dest, name=file_obj.name)\n",
    "            new_mv = new_cp.move_to_folder(parent=new_folder, name=new_cp.name)\n",
    "            return new_mv.id + '\\t' + new_mv.name + '\\n'\n",
    "    except Exception as e:\n",
    "        sys.stderr.write(str(e) + '\\n')\n",
    "        sys.stderr.write('Could not process task ' + task.name + '\\n')\n",
    "        pass\n"
   ]
  },
  {
   "cell_type": "code",
   "execution_count": 47,
   "metadata": {},
   "outputs": [
    {
     "name": "stderr",
     "output_type": "stream",
     "text": [
      "WARNING:urllib3.connectionpool:Connection pool is full, discarding connection: cavatica-api.sbgenomics.com\n",
      "WARNING:urllib3.connectionpool:Connection pool is full, discarding connection: cavatica-api.sbgenomics.com\n",
      "WARNING:urllib3.connectionpool:Connection pool is full, discarding connection: cavatica-api.sbgenomics.com\n",
      "WARNING:urllib3.connectionpool:Connection pool is full, discarding connection: cavatica-api.sbgenomics.com\n",
      "WARNING:urllib3.connectionpool:Connection pool is full, discarding connection: cavatica-api.sbgenomics.com\n",
      "WARNING:urllib3.connectionpool:Connection pool is full, discarding connection: cavatica-api.sbgenomics.com\n",
      "WARNING:urllib3.connectionpool:Connection pool is full, discarding connection: cavatica-api.sbgenomics.com\n",
      "WARNING:urllib3.connectionpool:Connection pool is full, discarding connection: cavatica-api.sbgenomics.com\n",
      "WARNING:urllib3.connectionpool:Connection pool is full, discarding connection: cavatica-api.sbgenomics.com\n",
      "WARNING:urllib3.connectionpool:Connection pool is full, discarding connection: cavatica-api.sbgenomics.com\n",
      "WARNING:urllib3.connectionpool:Connection pool is full, discarding connection: cavatica-api.sbgenomics.com\n",
      "WARNING:urllib3.connectionpool:Connection pool is full, discarding connection: cavatica-api.sbgenomics.com\n",
      "WARNING:urllib3.connectionpool:Connection pool is full, discarding connection: cavatica-api.sbgenomics.com\n",
      "WARNING:urllib3.connectionpool:Connection pool is full, discarding connection: cavatica-api.sbgenomics.com\n",
      "'NoneType' object has no attribute 'metadata'\n",
      "Could not process task cbttc-dna-somatic-BS_9H6Z0MEG_BS_QZRP3NSG-only-control-freeC\n",
      "'NoneType' object has no attribute 'metadata'\n",
      "Could not process task cbttc-dna-somatic-BS_STZ2C71Q_BS_6JBE0947-only-control-freeC\n",
      "'NoneType' object has no attribute 'metadata'\n",
      "Could not process task cbttc-dna-somatic-BS_36YFSGDX_BS_4DQAQFQH-only-control-freeC\n",
      "WARNING:urllib3.connectionpool:Connection pool is full, discarding connection: cavatica-api.sbgenomics.com\n",
      "WARNING:urllib3.connectionpool:Connection pool is full, discarding connection: cavatica-api.sbgenomics.com\n",
      "WARNING:urllib3.connectionpool:Connection pool is full, discarding connection: cavatica-api.sbgenomics.com\n",
      "WARNING:urllib3.connectionpool:Connection pool is full, discarding connection: cavatica-api.sbgenomics.com\n",
      "WARNING:urllib3.connectionpool:Connection pool is full, discarding connection: cavatica-api.sbgenomics.com\n",
      "WARNING:urllib3.connectionpool:Connection pool is full, discarding connection: cavatica-api.sbgenomics.com\n"
     ]
    }
   ],
   "source": [
    "# fixed info\n",
    "dest = 'lihuazou/test-workflow-atrt-1'\n",
    "maf = 'vep_annotated_maf'\n",
    "rsem = 'RSEM_gene'\n",
    "\n",
    "# likely to edit\n",
    "prefix = 'cbttc-dna-somatic-'\n",
    "suffix = '-Reharmonization' # set to None if you don't need this\n",
    "folder_name = 'OpenDIPG-PNOC_DIPG_WGS'\n",
    "src = 'kfdrc-harmonization/sd-bhjxbdqk-09'\n",
    "out_name = maf\n",
    "file_tag='Kids First Biospecimen ID Tumor'\n",
    "metadata = open('/Users/brownm28/Documents/2019-Mar-28_Lihua_NW_maf_req/OpenDIPG-PNOC_DIPG_WGS_clinical_data.tsv')\n",
    "out_fh = open('/Users/brownm28/Documents/2019-Mar-28_Lihua_NW_maf_req/' + folder_name + '_copied_files.txt', 'a')\n",
    "\n",
    "#set up\n",
    "new_folder = ''\n",
    "try:\n",
    "    new_folder = api.files.create_folder(name=folder_name, project=dest)\n",
    "except Exception as e:\n",
    "    sys.stderr.write(str(e) + '\\n')\n",
    "    sys.stderr.write('Folder already exists, getting existing folder\\n')\n",
    "    new_folder = api.files.query(names=[folder_name], project=dest)[0]\n",
    "head = next(metadata)\n",
    "header = head.rstrip('\\n').split('\\t')\n",
    "i = header.index('SPECIMEN_ID')\n",
    "bs_dict = {}\n",
    "for line in metadata:\n",
    "    info = line.rstrip('\\n').split('\\t')\n",
    "    ids = info[i].split(';')\n",
    "    for bs_id in ids:\n",
    "        bs_dict[bs_id] = 0\n",
    "tasks = api.tasks.query(project=src, status='COMPLETED').all()\n",
    "\n",
    "i = 1\n",
    "n = 50\n",
    "with concurrent.futures.ThreadPoolExecutor(16) as executor:\n",
    "    results = {executor.submit(cp_file, task): task for task in tasks}\n",
    "    for result in concurrent.futures.as_completed(results):\n",
    "        if result.result() is not None:\n",
    "            i += 1\n",
    "            out_fh.write(result.result())\n",
    "            if i % n == 0:\n",
    "                sys.stderr.write(str(i) + ' files copied\\n')\n",
    "out_fh.close()"
   ]
  },
  {
   "cell_type": "code",
   "execution_count": null,
   "metadata": {},
   "outputs": [],
   "source": []
  }
 ],
 "metadata": {
  "kernelspec": {
   "display_name": "Python 3",
   "language": "python",
   "name": "python3"
  },
  "language_info": {
   "codemirror_mode": {
    "name": "ipython",
    "version": 3
   },
   "file_extension": ".py",
   "mimetype": "text/x-python",
   "name": "python",
   "nbconvert_exporter": "python",
   "pygments_lexer": "ipython3",
   "version": "3.7.0"
  }
 },
 "nbformat": 4,
 "nbformat_minor": 2
}
