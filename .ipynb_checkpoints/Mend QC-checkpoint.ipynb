{
 "cells": [
  {
   "cell_type": "code",
   "execution_count": 7,
   "metadata": {},
   "outputs": [],
   "source": [
    "#!/usr/bin/env python3\n",
    "import sevenbridges as sbg\n",
    "from sevenbridges.errors import SbgError\n",
    "from sevenbridges.http.error_handlers import rate_limit_sleeper, maintenance_sleeper\n",
    "import sys\n",
    "import re\n",
    "import concurrent.futures\n",
    "import pdb\n",
    "config = sbg.Config(profile='turbo')\n",
    "api = sbg.Api(config=config, error_handlers=[rate_limit_sleeper, maintenance_sleeper])\n",
    "cbttc_project = 'kfdrc-harmonization/sd-bhjxbdqk-06'\n",
    "pnoc_project = 'kfdrc-harmonization/sd-bhjxbdqk-11'\n",
    "bgi_project = 'kfdrc-harmonization/sd-bhjxbdqk'"
   ]
  },
  {
   "cell_type": "code",
   "execution_count": 8,
   "metadata": {},
   "outputs": [],
   "source": [
    "def setup_task(entry):\n",
    "    try:\n",
    "        info = entry.rstrip('\\n').split(',')\n",
    "        bs_id = info[key_dict['Kids First Biospecimen ID']]\n",
    "        pt_id = info[key_dict['Kids First Participant ID']]\n",
    "        if bs_id in bs_dict:\n",
    "            bam = api.files.get(info[0])\n",
    "            if info[key_dict['visible']] != 'true':\n",
    "                sys.stderr.write('WARN: Visible tag FALSE for\\t' + bs_id)\n",
    "            in_dict = {}\n",
    "            in_dict['gencode_bed'] = gencode_bed\n",
    "            in_dict['input_bam'] = bam\n",
    "            task_name = \"MEND QC: \" + pt_id + \" \" + bs_id\n",
    "            task = api.tasks.create(name=task_name, project=project, app=app_name, inputs=in_dict, run=False)\n",
    "            task.inputs['output_basename'] = task.id\n",
    "            task.save()\n",
    "    except Exception as e:\n",
    "        sys.stderr.write(str(e) + \" failed processing \" + bs_id + \"\\n\")\n",
    "        pdb.set_trace()\n",
    "        sys.exit(1)"
   ]
  },
  {
   "cell_type": "code",
   "execution_count": 9,
   "metadata": {},
   "outputs": [
    {
     "name": "stderr",
     "output_type": "stream",
     "text": [
      "WARN: Visible tag FALSE for\tBS_9NGMSB0FWARN: Visible tag FALSE for\tBS_C0AY0XC5WARN: Visible tag FALSE for\tBS_X22JJ8RDWARN: Visible tag FALSE for\tBS_SHZZ99DTWARN: Visible tag FALSE for\tBS_H64GWVJQWARN: Visible tag FALSE for\tBS_6PRD2CF1WARN: Visible tag FALSE for\tBS_N5BY41QDWARN: Visible tag FALSE for\tBS_3PA8PAXPWARN: Visible tag FALSE for\tBS_65VFS9N1WARN: Visible tag FALSE for\tBS_G5XNCQ60WARN: Visible tag FALSE for\tBS_EFEB483RWARN: Visible tag FALSE for\tBS_7N8XY997WARN: Visible tag FALSE for\tBS_PZEVN86GWARN: Visible tag FALSE for\tBS_TR0FSM4RWARN: Visible tag FALSE for\tBS_NNVEQTEWWARN: Visible tag FALSE for\tBS_JXAVKXZEWARN: Visible tag FALSE for\tBS_56Z15924WARN: Visible tag FALSE for\tBS_WN90GPFRWARN: Visible tag FALSE for\tBS_JV9G8CNXWARN: Visible tag FALSE for\tBS_CMM1Q934WARN: Visible tag FALSE for\tBS_05TTCK08WARN: Visible tag FALSE for\tBS_KSS4AAPPWARN: Visible tag FALSE for\tBS_72DY6M9JWARN: Visible tag FALSE for\tBS_HYMWP6WFWARN: Visible tag FALSE for\tBS_EE17YHEHWARN: Visible tag FALSE for\tBS_NK7K4GFEWARN: Visible tag FALSE for\tBS_8TW4H1T3WARN: Visible tag FALSE for\tBS_X7J2RKVKWARN: Visible tag FALSE for\tBS_C4TT4XS0WARN: Visible tag FALSE for\tBS_Y1ZP55ZKWARN: Visible tag FALSE for\tBS_AZMPSWJRWARN: Visible tag FALSE for\tBS_3KW5B3GYWARN: Visible tag FALSE for\tBS_Z8JJGT26WARN: Visible tag FALSE for\tBS_C97AE5XAWARN: Visible tag FALSE for\tBS_H6CNYG42WARN: Visible tag FALSE for\tBS_BMMA05FWWARN: Visible tag FALSE for\tBS_F63KKBGXWARN: Visible tag FALSE for\tBS_G7PA9EGAWARN: Visible tag FALSE for\tBS_H2RX54Z5WARN: Visible tag FALSE for\tBS_VVNWB3FZWARN: Visible tag FALSE for\tBS_XZ58ASB6WARN: Visible tag FALSE for\tBS_4PAKWW7JWARN: Visible tag FALSE for\tBS_3GZN3RTHWARN: Visible tag FALSE for\tBS_277SBSCP50 tasks set up\n"
     ]
    }
   ],
   "source": [
    "project = bgi_project\n",
    "app_name = project + \"/kfdrc-mendqc-wf\" \n",
    "bs_ids = open('/Users/brownm28/Documents/2019-Dec-26_mendqc/RNA_bs_ids.txt')\n",
    "bs_dict = {}\n",
    "for bs in bs_ids:\n",
    "    bs_dict[bs.rstrip('\\n')] = 0\n",
    "gencode_bed = api.files.get('5e07822ce4b0e4c506990508')\n",
    "manifest = open(\"/Users/brownm28/Documents/2019-Dec-26_mendqc/BGI_rnaseq_bam-manifest.csv\")\n",
    "key_dict = {'Kids First Biospecimen ID': 0, 'visible': 0, 'Kids First Participant ID': 0}\n",
    "head = next(manifest)\n",
    "header  = head.rstrip('\\n').split(',')\n",
    "for i in range(0, len(header), 1):\n",
    "    if header[i] in key_dict:\n",
    "        key_dict[header[i]] = i\n",
    "\n",
    "i = 1\n",
    "n = 50\n",
    "with concurrent.futures.ThreadPoolExecutor(8) as executor:\n",
    "    results = {executor.submit(setup_task, line): line for line in manifest}\n",
    "    for result in concurrent.futures.as_completed(results):\n",
    "        if i % n == 0:\n",
    "            sys.stderr.write(str(i) + ' tasks set up\\n')\n",
    "        i += 1\n",
    "\n",
    "# for line in manifest:\n",
    "#     setup_task(line)\n",
    "\n"
   ]
  },
  {
   "cell_type": "code",
   "execution_count": null,
   "metadata": {},
   "outputs": [],
   "source": []
  }
 ],
 "metadata": {
  "kernelspec": {
   "display_name": "Python 3",
   "language": "python",
   "name": "python3"
  },
  "language_info": {
   "codemirror_mode": {
    "name": "ipython",
    "version": 3
   },
   "file_extension": ".py",
   "mimetype": "text/x-python",
   "name": "python",
   "nbconvert_exporter": "python",
   "pygments_lexer": "ipython3",
   "version": "3.7.3"
  }
 },
 "nbformat": 4,
 "nbformat_minor": 2
}
