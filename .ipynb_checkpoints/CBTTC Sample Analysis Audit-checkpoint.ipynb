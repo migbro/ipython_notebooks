{
 "cells": [
  {
   "cell_type": "markdown",
   "metadata": {},
   "source": [
    "## Imports"
   ]
  },
  {
   "cell_type": "code",
   "execution_count": 2,
   "metadata": {},
   "outputs": [],
   "source": [
    "#!/usr/bin/env python3\n",
    "import sevenbridges as sbg\n",
    "import sys\n",
    "import re\n",
    "import os\n",
    "from requests import request\n",
    "\n",
    "config = sbg.Config(profile='cavatica')\n",
    "api = sbg.Api(config=config)"
   ]
  },
  {
   "cell_type": "markdown",
   "metadata": {},
   "source": [
    "### Probe cavatica for relevant files"
   ]
  },
  {
   "cell_type": "code",
   "execution_count": 15,
   "metadata": {},
   "outputs": [],
   "source": [
    "def get_file_info(api, project, atype, out_fh):\n",
    "    proj_tasks = api.tasks.query(project=project, status='COMPLETED').all()\n",
    "    x = 0\n",
    "    n = 5\n",
    "    for task in proj_tasks:\n",
    "        if x % 5 == 0:\n",
    "            out_fh.flush()\n",
    "        x += 1\n",
    "        task_name = task.name\n",
    "        task_id = task.id\n",
    "        if atype == 'DNA':\n",
    "            parts = task_name.split('-')\n",
    "            parts2 = parts[3].split('_')\n",
    "            tum_bs_id = 'BS_' + parts2[1]\n",
    "            norm_bs_id = 'BS_' + parts2[3]\n",
    "            outs = task.outputs['vep_annotated_maf'].name\n",
    "            outs += ',' + task.outputs['cnv_result'].name\n",
    "            out_fh.write('\\t'.join((tum_bs_id, norm_bs_id, task_name, task_id, atype, outs)) + '\\n')\n",
    "        else:\n",
    "            try:\n",
    "                parts = task_name.split()\n",
    "                parts2 = parts[0].split('-')\n",
    "                bs_id = parts2[1]\n",
    "            \n",
    "                outs = task.outputs['result'][0].name\n",
    "                out_fh.write('\\t'.join((bs_id, 'NA', task_name, task_id, atype, outs)) + '\\n')\n",
    "            except:\n",
    "                sys.stderr.write('Task ' + task_name +  ' with ID ' + task_id + ' failed to gather all info\\n')\n",
    "                sys.stderr.flush()"
   ]
  },
  {
   "cell_type": "markdown",
   "metadata": {},
   "source": [
    "## Summarize Somatic project run on cavatica"
   ]
  },
  {
   "cell_type": "code",
   "execution_count": 16,
   "metadata": {},
   "outputs": [
    {
     "name": "stderr",
     "output_type": "stream",
     "text": [
      "Task Bam-to-fastqgz run - 08-14-18 20:42:29 with ID 110200d4-a10d-4d0c-95e0-8904ffa7a6d3 failed to gather all info\n",
      "Task Bam-to-fastqgz run - 08-17-18 17:55:10 with ID de8bddb4-d632-4367-8fc2-d6b96007d966 failed to gather all info\n",
      "Task RNAseq-split_bam_to_fastq with ID aeecb4b4-0ced-479d-955e-a618c819409a failed to gather all info\n",
      "Complete\n"
     ]
    }
   ],
   "source": [
    "dna_types = ['kfdrc-harmonization/sd-bhjxbdqk-07', 'kfdrc-harmonization/sd-bhjxbdqk-08']\n",
    "rna_types = ['kfdrc-harmonization/sd-bhjxbdqk-06']\n",
    "out_fh = open('/Users/brownm28/Documents/2018-Aug-15_cbttc_launch/portal_metadata/check_and_balances/audit/cavatica-up_audit/cbttc_cavatica_file_info.txt', 'w')\n",
    "out_fh.write('T/CL BS ID\\tNorm BS ID\\tTask Name\\tTask ID\\tAnalyte Type\\tRelevant Outputs\\n')\n",
    "for project in dna_types:\n",
    "    get_file_info(api, project, 'DNA', out_fh)\n",
    "for project in rna_types:\n",
    "    get_file_info(api, project, 'RNA', out_fh)\n",
    "out_fh.close()\n",
    "sys.stderr.write('Complete\\n')\n"
   ]
  },
  {
   "cell_type": "code",
   "execution_count": null,
   "metadata": {},
   "outputs": [],
   "source": []
  }
 ],
 "metadata": {
  "kernelspec": {
   "display_name": "Python 3",
   "language": "python",
   "name": "python3"
  },
  "language_info": {
   "codemirror_mode": {
    "name": "ipython",
    "version": 3
   },
   "file_extension": ".py",
   "mimetype": "text/x-python",
   "name": "python",
   "nbconvert_exporter": "python",
   "pygments_lexer": "ipython3",
   "version": "3.6.5"
  }
 },
 "nbformat": 4,
 "nbformat_minor": 2
}
