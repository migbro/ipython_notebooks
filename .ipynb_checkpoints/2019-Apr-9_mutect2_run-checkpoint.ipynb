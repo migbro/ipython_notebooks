{
 "cells": [
  {
   "cell_type": "code",
   "execution_count": 3,
   "metadata": {},
   "outputs": [],
   "source": [
    "#!/usr/bin/env python3\n",
    "import sevenbridges as sbg\n",
    "from sevenbridges.errors import SbgError\n",
    "from sevenbridges.http.error_handlers import rate_limit_sleeper, maintenance_sleeper\n",
    "import sys\n",
    "import re\n",
    "import concurrent.futures\n",
    "import pdb\n",
    "config = sbg.Config(profile='turbo')\n",
    "api = sbg.Api(config=config, error_handlers=[rate_limit_sleeper, maintenance_sleeper])"
   ]
  },
  {
   "cell_type": "code",
   "execution_count": 2,
   "metadata": {},
   "outputs": [],
   "source": [
    "def get_refs(api, project, exome_flag, calling_list, mode):\n",
    "    ref_dict = {}\n",
    "    ref_dict['indexed_reference_fasta'] = api.files.query(project=project, names=['Homo_sapiens_assembly38.fasta'])[0]\n",
    "    ref_dict['reference_dict'] = api.files.query(project=project, names=['Homo_sapiens_assembly38.dict'])[0]\n",
    "    ref_dict['af_only_gnomad_vcf'] = api.files.query(project=project, names=['af-only-gnomad.hg38.vcf.gz'])[0]\n",
    "    ref_dict['exac_common_vcf'] = api.files.query(project=project, names=['small_exac_common_3.hg38.vcf.gz'])[0]\n",
    "    ref_dict['wgs_calling_interval_list'] = api.files.query(project=project, names=[calling_list])[0]\n",
    "    ref_dict['exome_flag'] = exome_flag\n",
    "    ref_dict['vep_cache'] = api.files.query(project=project, names=['homo_sapiens_vep_93_GRCh38_convert_cache.tar.gz'])[0]\n",
    "    ref_dict['select_vars_mode'] = mode\n",
    "    return ref_dict"
   ]
  },
  {
   "cell_type": "code",
   "execution_count": 3,
   "metadata": {},
   "outputs": [],
   "source": [
    "def get_inputs(src_task, prefix):\n",
    "    if re.search(prefix, src_task.name) and (suffix is None or re.search(suffix, src_task.name)):\n",
    "        try:\n",
    "            tumor_id = src_task.inputs[src_tumor_id]\n",
    "            normal_id = src_task.inputs[src_normal_id]\n",
    "            new_task_name = task_prefix + tumor_id + \" \" + normal_id\n",
    "            if new_task_name in task_dict:\n",
    "                sys.stderr.write('Duplicated, check inputs for ' + new_task_name + '\\n')\n",
    "                return None\n",
    "            else:\n",
    "                task_dict[new_task_name] = 1\n",
    "            inputs = {}\n",
    "            for key in ref_objs:\n",
    "                inputs[key] = ref_objs[key]\n",
    "            inputs['input_tumor_name'] = tumor_id\n",
    "            inputs['input_normal_name'] = normal_id\n",
    "            inputs['input_tumor_aligned'] = src_task.inputs[src_tumor_align]\n",
    "            inputs['input_normal_aligned'] = src_task.inputs[src_normal_align]\n",
    "            task = api.tasks.create(name=new_task_name, project=project, app=app_name, inputs=inputs, run=False)\n",
    "            task.inputs['output_basename'] = task.id\n",
    "            task.save()\n",
    "            return task.name + '\\t' + task.id + '\\n'\n",
    "        except Exception as e:\n",
    "            sys.stderr.write(str(e) + '\\n')\n",
    "            sys.stderr.write('Failed to parse and process input task ' + src_task.name + ' ' + src_task.id + '\\n')\n",
    "            exit(1)"
   ]
  },
  {
   "cell_type": "code",
   "execution_count": 7,
   "metadata": {},
   "outputs": [
    {
     "name": "stderr",
     "output_type": "stream",
     "text": [
      "50 tasks set up\n",
      "100 tasks set up\n",
      "150 tasks set up\n",
      "200 tasks set up\n",
      "250 tasks set up\n",
      "300 tasks set up\n",
      "350 tasks set up\n"
     ]
    }
   ],
   "source": [
    "project='kfdrc-harmonization/sd-bhjxbdqk-10'\n",
    "exome_flag = 'N'\n",
    "# set input names as different versions of pipe have them named differently\n",
    "src_tumor_align = 'input_tumor_aligned'\n",
    "src_normal_align = 'input_normal_aligned'\n",
    "src_tumor_id = 'input_tumor_name'\n",
    "src_normal_id = 'input_normal_name'\n",
    "task_prefix = 'CNMC_MUTECT2_SOMATIC RPT: '\n",
    "prefix = 'CNMC_MUTECT2_SOMATIC:'\n",
    "suffix = None\n",
    "\n",
    "ref_objs = get_refs(api, project, exome_flag)\n",
    "\n",
    "tasks = api.tasks.query(project=project, status='COMPLETED').all()\n",
    "app_name = project + '/kfdrc-mutect2-wf'\n",
    "i = 1\n",
    "n = 50\n",
    "task_dict={}\n",
    "out_fh = open('/Users/brownm28/Documents/2019-Apr-9_mutect2_run/pnoc_wgs_tasks.txt', 'w')\n",
    "with concurrent.futures.ThreadPoolExecutor(8) as executor:\n",
    "    results = {executor.submit(get_inputs, task, prefix): task for task in tasks}\n",
    "    for result in concurrent.futures.as_completed(results):\n",
    "        if i % n == 0:\n",
    "            sys.stderr.write(str(i) + ' tasks set up\\n')\n",
    "        i += 1\n",
    "        if result.result() is not None:\n",
    "            out_fh.write(result.result())\n",
    "out_fh.close()\n"
   ]
  },
  {
   "cell_type": "markdown",
   "metadata": {},
   "source": [
    "### get error logs"
   ]
  },
  {
   "cell_type": "code",
   "execution_count": 8,
   "metadata": {},
   "outputs": [],
   "source": [
    "project='kfdrc-harmonization/sd-bhjxbdqk-8'\n",
    "for line in open('/Users/brownm28/Documents/2019-Apr-9_mutect2_run/mutect2_fail_task_ids.txt'):\n",
    "    tid = line.rstrip('\\n')\n",
    "    task = api.tasks.get(tid)\n",
    "    i = 0\n",
    "    for job in task.get_execution_details().jobs:\n",
    "        if job.status == 'FAILED':\n",
    "            log_obj = api.files.get(id=job.logs['job.err.log'].id)\n",
    "            log_obj.download('/Users/brownm28/Documents/2019-Apr-9_mutect2_run/' + tid + '_' + job.name + '.' + log_obj.name)"
   ]
  },
  {
   "cell_type": "markdown",
   "metadata": {},
   "source": [
    "### removed failed run outputs"
   ]
  },
  {
   "cell_type": "code",
   "execution_count": 2,
   "metadata": {},
   "outputs": [],
   "source": [
    "project = 'kfdrc-harmonization/sd-bhjxbdqk-08'\n",
    "tasks = api.tasks.query(project=project, status='FAILED').all()\n",
    "files = api.files.query(project=project).all()\n",
    "out_fail = open('/Users/brownm28/Documents/2019-Apr-9_mutect2_run/2019-04-16_1538_FAILED.txt', 'w')\n",
    "out_fail.write('Task ID\\tTask Name\\n')\n",
    "fail_list = []\n",
    "for task in tasks:\n",
    "    fail_list.append(task.id)\n",
    "    out_fail.write(task.id + '\\t' + task.name + '\\n')\n",
    "out_fail.close()\n",
    "del_log = open('/Users/brownm28/Documents/2019-Apr-9_mutect2_run/2019-04-16_1538_FAILED_DEL.log', 'w')\n",
    "for fobj in files:\n",
    "    parts = fobj.name.split('.')\n",
    "    if parts[0] in fail_list:\n",
    "        # pdb.set_trace()\n",
    "        del_log.write('DELETING file from failed task ' + parts[0] + ' ' + fobj.name + '\\n')\n",
    "        del_log.flush()\n",
    "        # fobj.delete()\n",
    "        # break\n",
    "del_log.close()"
   ]
  },
  {
   "cell_type": "markdown",
   "metadata": {},
   "source": [
    "### remove deprecated run outputs"
   ]
  },
  {
   "cell_type": "code",
   "execution_count": 3,
   "metadata": {},
   "outputs": [],
   "source": [
    "project = 'kfdrc-harmonization/sd-bhjxbdqk-08'\n",
    "tasks = api.tasks.query(project=project, status='COMPLETED').all()\n",
    "files = api.files.query(project=project).all()\n",
    "out_fail = open('/Users/brownm28/Documents/2019-Apr-9_mutect2_run/2019-04-17_1530_DEPRECATED.txt', 'w')\n",
    "out_fail.write('Task ID\\tTask Name\\n')\n",
    "fail_list = []\n",
    "for task in tasks:\n",
    "    if task.id == '5ea21b42-488a-4680-aced-225af61d0843':\n",
    "        pdb.set_trace()\n",
    "        hold=1\n",
    "    if re.search('CBTTC_MUTECT2_SOMATIC:', task.name):\n",
    "        fail_list.append(task.id)\n",
    "        out_fail.write(task.id + '\\t' + task.name + '\\t' + task.status + '\\n')\n",
    "out_fail.close()\n",
    "#pdb.set_trace()\n",
    "# del_log = open('/Users/brownm28/Documents/2019-Apr-9_mutect2_run/2019-04-16_1600_DEPRECATED_DEL.log', 'w')\n",
    "# for fobj in files:\n",
    "#     parts = fobj.name.split('.')\n",
    "#     if parts[0] in fail_list:\n",
    "#         # pdb.set_trace()\n",
    "#         del_log.write('DELETING file from failed task ' + parts[0] + ' ' + fobj.name + '\\n')\n",
    "#         del_log.flush()\n",
    "#         fobj.delete()\n",
    "#         # break\n",
    "# del_log.close()"
   ]
  },
  {
   "cell_type": "code",
   "execution_count": 10,
   "metadata": {},
   "outputs": [
    {
     "name": "stdout",
     "output_type": "stream",
     "text": [
      "--Return--\n",
      "> <ipython-input-10-968d36ae8276>(3)<module>()->None\n",
      "-> pdb.set_trace()\n",
      "(Pdb) c\n"
     ]
    }
   ],
   "source": [
    "project = 'kfdrc-harmonization/sd-bhjxbdqk-09'\n",
    "tasks = api.tasks.query(project=project, status='COMPLETED').all()\n",
    "out_fh = open('/Users/brownm28/Documents/2019-Apr-9_mutect2_run/pnoc_tasks.txt', 'w')\n",
    "for task in tasks:\n",
    "    if re.search('PNOC_WGS_MUTECT2', task.name):\n",
    "        out_fh.write(task.name  + '\\t' + task.id + '\\n')\n",
    "out_fh.close()"
   ]
  },
  {
   "cell_type": "markdown",
   "metadata": {},
   "source": [
    "## pnoc WES mutect2 run"
   ]
  },
  {
   "cell_type": "code",
   "execution_count": 8,
   "metadata": {},
   "outputs": [],
   "source": [
    "project = 'kfdrc-harmonization/sd-m3dbxd12'\n",
    "calling_list = 'Strexome_targets_intersect_sorted_padded100.GRCh38.bed.gz'\n",
    "exome_flag = 'Y'\n",
    "mode = 'gatk'\n",
    "ref_objs = get_refs(api, project, exome_flag, calling_list, mode)\n",
    "manifest = open('/Users/brownm28/Documents/2019-Feb-27_cbttc_ngs_checkmate/pnoc_wes/tn_pairs_from_tasks.txt')\n",
    "head = next(manifest)\n",
    "tn_pairs = []\n",
    "for line in manifest:\n",
    "    info = line.rstrip('\\n').split('\\t')\n",
    "    tn_pairs.append([info[0], info[1]])\n",
    "files = api.files.query(project=project).all()\n",
    "cram_file_objs = {}\n",
    "for file_obj in files:\n",
    "    if file_obj.name[-4:] == 'cram' and 'Reharmonization' in file_obj.tags:\n",
    "        cram_file_objs[file_obj.metadata['Kids First Biospecimen ID']] = file_obj\n",
    "app_name = project + '/kfdrc-mutect2-wf'\n",
    "out_fh = open('/Users/brownm28/Documents/2019-Apr-24_pnoc_wes_mutect2/pnoc_wes_tasks.txt', 'w')\n",
    "for pair in tn_pairs:\n",
    "    inputs = ref_objs\n",
    "    inputs['input_tumor_name'] = pair[0]\n",
    "    inputs['input_normal_name'] = pair[1]\n",
    "    inputs['input_tumor_aligned'] = cram_file_objs[pair[0]]\n",
    "    inputs['input_normal_aligned'] = cram_file_objs[pair[1]]\n",
    "    task_name = 'PNOC_WES_MUTECT2_SOMATIC: ' + pair[0] + ' ' + pair[1]\n",
    "    task = api.tasks.create(name=task_name, project=project, app=app_name, inputs=inputs, run=False)\n",
    "    inputs['output_basename'] = task.id\n",
    "    task.save()\n",
    "    out_fh.write(task_name + '\\t' + task.id + '\\n')\n",
    "out_fh.close()\n"
   ]
  },
  {
   "cell_type": "code",
   "execution_count": null,
   "metadata": {},
   "outputs": [],
   "source": [
    "## manual run tasks"
   ]
  },
  {
   "cell_type": "code",
   "execution_count": 9,
   "metadata": {},
   "outputs": [
    {
     "name": "stderr",
     "output_type": "stream",
     "text": [
      "Could not run task becaause of Task can not be started due to validation errors.\n"
     ]
    }
   ],
   "source": [
    "for task_info in open('/Users/brownm28/Documents/2019-Apr-24_pnoc_wes_mutect2/pnoc_wes_tasks.txt'):\n",
    "    (tname, tid) = task_info.rstrip('\\n').split('\\t')\n",
    "    task = api.tasks.get(tid)\n",
    "    if task.status == 'DRAFT':\n",
    "        try:\n",
    "            task.run()\n",
    "        except Exception as e:\n",
    "            sys.stderr.write('Could not run task becaause of ' + str(e) + '\\n')"
   ]
  },
  {
   "cell_type": "code",
   "execution_count": null,
   "metadata": {},
   "outputs": [],
   "source": [
    "### compare task ID with output IDs"
   ]
  },
  {
   "cell_type": "code",
   "execution_count": 5,
   "metadata": {},
   "outputs": [
    {
     "name": "stdout",
     "output_type": "stream",
     "text": [
      "PNOC_WES_MUTECT2_SOMATIC: BS_GBT44HST BS_JHMWZ3NH\tf6c83b02-f6fb-4426-8e68-c857facd280b\t_1_f6c83b02-f6fb-4426-8e68-c857facd280b.mutect2_somatic.PASS.vep.vcf.gz\n",
      "PNOC_WES_MUTECT2_SOMATIC: BS_6B62YT97 BS_N0DNCXRW\tfcc96920-d495-4ec7-8381-5000b2506ac4\tf6c83b02-f6fb-4426-8e68-c857facd280b.mutect2_somatic.PASS.vep.vcf.gz\n",
      "PNOC_WES_MUTECT2_SOMATIC: BS_WYTDVC0Y BS_2AM4ZQ21\t70250648-82ee-4cfb-a997-1c4d25e497d5\tfcc96920-d495-4ec7-8381-5000b2506ac4.mutect2_somatic.PASS.vep.vcf.gz\n",
      "PNOC_WES_MUTECT2_SOMATIC: BS_7KR13R3P BS_WHZT48VG\t77af1324-3754-4e34-a208-d1342a2f2ca6\t70250648-82ee-4cfb-a997-1c4d25e497d5.mutect2_somatic.PASS.vep.vcf.gz\n",
      "PNOC_WES_MUTECT2_SOMATIC: BS_6DT506HY BS_5DPMQQVG\t6cedc3d7-aed8-4780-a7af-8951b34a6ace\t77af1324-3754-4e34-a208-d1342a2f2ca6.mutect2_somatic.PASS.vep.vcf.gz\n",
      "PNOC_WES_MUTECT2_SOMATIC: BS_GKXD33YH BS_0N50PRC8\t10bb7946-82ed-46ad-997e-10d01f8d4823\t6cedc3d7-aed8-4780-a7af-8951b34a6ace.mutect2_somatic.PASS.vep.vcf.gz\n",
      "PNOC_WES_MUTECT2_SOMATIC: BS_FWP8ZA4K BS_68S56YSS\ta49be0c1-012b-4b52-973c-a36a9282f606\t10bb7946-82ed-46ad-997e-10d01f8d4823.mutect2_somatic.PASS.vep.vcf.gz\n",
      "PNOC_WES_MUTECT2_SOMATIC: BS_9DN4QR6E BS_ZG51DA8Z\t3e4572cf-7001-4af2-9b40-2bf26ba38e18\ta49be0c1-012b-4b52-973c-a36a9282f606.mutect2_somatic.PASS.vep.vcf.gz\n",
      "PNOC_WES_MUTECT2_SOMATIC: BS_AEEKJ1QK BS_31Q3FW1X\t9bf26b24-2317-42c8-8213-7d4ea5ff6f1d\t3e4572cf-7001-4af2-9b40-2bf26ba38e18.mutect2_somatic.PASS.vep.vcf.gz\n",
      "PNOC_WES_MUTECT2_SOMATIC: BS_TYFD8ZMG BS_8EXFWVFX\t989f67a2-a8b7-4918-9c10-3abd67525de4\t9bf26b24-2317-42c8-8213-7d4ea5ff6f1d.mutect2_somatic.PASS.vep.vcf.gz\n",
      "PNOC_WES_MUTECT2_SOMATIC: BS_52ETE050 BS_RNNWQNGX\te73d78bd-8fc0-47be-a048-e2985f15d6ac\t989f67a2-a8b7-4918-9c10-3abd67525de4.mutect2_somatic.PASS.vep.vcf.gz\n",
      "PNOC_WES_MUTECT2_SOMATIC: BS_H3TYF6GD BS_69HX9VQM\tf2802d97-5077-41ef-b45c-e403de25181c\te73d78bd-8fc0-47be-a048-e2985f15d6ac.mutect2_somatic.PASS.vep.vcf.gz\n",
      "PNOC_WES_MUTECT2_SOMATIC: BS_402W79TS BS_M8MTVQ7H\t79191c5b-c558-4cbf-8cfc-1b3f6404bb4c\tf2802d97-5077-41ef-b45c-e403de25181c.mutect2_somatic.PASS.vep.vcf.gz\n",
      "PNOC_WES_MUTECT2_SOMATIC: BS_541KKASA BS_DJAEYCW8\t9ce6793a-e320-4d1f-97e3-9d9a2dd55538\t79191c5b-c558-4cbf-8cfc-1b3f6404bb4c.mutect2_somatic.PASS.vep.vcf.gz\n",
      "PNOC_WES_MUTECT2_SOMATIC: BS_6VTQ3W4M BS_G6Z63GZD\tfea6b24a-3991-464f-ad6f-c224837d545e\t9ce6793a-e320-4d1f-97e3-9d9a2dd55538.mutect2_somatic.PASS.vep.vcf.gz\n",
      "PNOC_WES_MUTECT2_SOMATIC: BS_Y0DGBKTY BS_6TDVHGKE\tf690e77b-cd81-4f5c-9da5-bce044581ff2\tfea6b24a-3991-464f-ad6f-c224837d545e.mutect2_somatic.PASS.vep.vcf.gz\n",
      "PNOC_WES_MUTECT2_SOMATIC: BS_A6YJ3WG2 BS_6YJ36D88\t824fd559-8ad8-4f3c-ac1e-267dd8a6698b\tf690e77b-cd81-4f5c-9da5-bce044581ff2.mutect2_somatic.PASS.vep.vcf.gz\n",
      "PNOC_WES_MUTECT2_SOMATIC: BS_CX6KACX6 BS_8B6J1GTB\ta8968e04-2ea7-4493-bf5f-e4382da2d125\t824fd559-8ad8-4f3c-ac1e-267dd8a6698b.mutect2_somatic.PASS.vep.vcf.gz\n",
      "PNOC_WES_MUTECT2_SOMATIC: BS_1RTE2KEX BS_YK5XX7NX\t032d8e45-9bec-4bff-b038-7d0747ccaa76\ta8968e04-2ea7-4493-bf5f-e4382da2d125.mutect2_somatic.PASS.vep.vcf.gz\n",
      "PNOC_WES_MUTECT2_SOMATIC: BS_2KMB51YF BS_A4QX5D2K\t5a0af811-4e2f-4848-9a04-03dfe05e5ece\t032d8e45-9bec-4bff-b038-7d0747ccaa76.mutect2_somatic.PASS.vep.vcf.gz\n",
      "PNOC_WES_MUTECT2_SOMATIC: BS_74SJ7YV4 BS_RKDSFDS1\t86cefb60-1380-4810-9789-6185b24b70e4\t5a0af811-4e2f-4848-9a04-03dfe05e5ece.mutect2_somatic.PASS.vep.vcf.gz\n",
      "PNOC_WES_MUTECT2_SOMATIC: BS_5CCAC8TZ BS_0DVXQN0X\t3cb9d465-aff9-4fa7-9c6c-74b1725b180d\t86cefb60-1380-4810-9789-6185b24b70e4.mutect2_somatic.PASS.vep.vcf.gz\n",
      "PNOC_WES_MUTECT2_SOMATIC: BS_KPG4WCHS BS_KZRK17FF\t10e0843d-5407-47bb-951f-77e64e9ab1ae\t3cb9d465-aff9-4fa7-9c6c-74b1725b180d.mutect2_somatic.PASS.vep.vcf.gz\n",
      "PNOC_WES_MUTECT2_SOMATIC: BS_P7VR731D BS_JNHXS2PQ\t4185f439-7f30-426c-9aae-d0601be31779\t10e0843d-5407-47bb-951f-77e64e9ab1ae.mutect2_somatic.PASS.vep.vcf.gz\n",
      "PNOC_WES_MUTECT2_SOMATIC: BS_XPZAD9PP BS_DNS7HB2K\t153db7a8-9644-41c3-854d-09fcd5086522\t4185f439-7f30-426c-9aae-d0601be31779.mutect2_somatic.PASS.vep.vcf.gz\n",
      "PNOC_WES_MUTECT2_SOMATIC: BS_328C4BW5 BS_8XYJEWN4\t37d8a8b0-0176-4ce0-9b16-35b48bb9d1db\t153db7a8-9644-41c3-854d-09fcd5086522.mutect2_somatic.PASS.vep.vcf.gz\n",
      "PNOC_WES_MUTECT2_SOMATIC: BS_JCWD4DMA BS_WY0TAJD8\tb0df359c-f704-485c-9e9f-bafe2ea17a10\t37d8a8b0-0176-4ce0-9b16-35b48bb9d1db.mutect2_somatic.PASS.vep.vcf.gz\n",
      "PNOC_WES_MUTECT2_SOMATIC: BS_QZPGVNBB BS_1CQ01RV2\tcb642b1c-3556-424c-a367-616176e05aab\tb0df359c-f704-485c-9e9f-bafe2ea17a10.mutect2_somatic.PASS.vep.vcf.gz\n",
      "PNOC_WES_MUTECT2_SOMATIC: BS_6687ZNGS BS_CWCDM1BZ\t932f0200-de0e-4def-9aba-5d4fab630d4d\tcb642b1c-3556-424c-a367-616176e05aab.mutect2_somatic.PASS.vep.vcf.gz\n",
      "PNOC_WES_MUTECT2_SOMATIC: BS_2HDEZFTW BS_475X9707\t547315e6-7a34-435a-a3dc-25f5e43effab\t932f0200-de0e-4def-9aba-5d4fab630d4d.mutect2_somatic.PASS.vep.vcf.gz\n",
      "PNOC_WES_MUTECT2_SOMATIC: BS_74TZJTW0 BS_PDC04A1K\t2ddb9ecd-81d4-4200-ae0b-83a8e14894b8\t547315e6-7a34-435a-a3dc-25f5e43effab.mutect2_somatic.PASS.vep.vcf.gz\n",
      "PNOC_WES_MUTECT2_SOMATIC: BS_5FBN4PPQ BS_ZXQ7H95W\tcbe01350-a50a-4d16-9269-fd5d8f483420\t2ddb9ecd-81d4-4200-ae0b-83a8e14894b8.mutect2_somatic.PASS.vep.vcf.gz\n"
     ]
    }
   ],
   "source": [
    "prefix = 'PNOC_WES_MUTECT2_SOMATIC'\n",
    "project = 'kfdrc-harmonization/sd-m3dbxd12'\n",
    "tasks = api.tasks.query(status='COMPLETED', project=project).all()\n",
    "for task in tasks:\n",
    "    if re.match(prefix, task.name):\n",
    "        print (task.name + '\\t' + task.id + '\\t' + task.outputs['mutect2_vep_vcf'].name)"
   ]
  },
  {
   "cell_type": "markdown",
   "metadata": {},
   "source": [
    "## PNOC WGS Single Genotype Run"
   ]
  },
  {
   "cell_type": "code",
   "execution_count": 3,
   "metadata": {},
   "outputs": [],
   "source": [
    "def get_refs(api):\n",
    "    ref_dict = {}\n",
    "    ref_dict['axiomPoly_resource_vcf'] = api.files.query(project=project, names=['Axiom_Exome_Plus.genotypes.all_populations.poly.hg38.vcf.gz'])[0]\n",
    "    ref_dict['reference_dict'] = api.files.query(project=project, names=['Homo_sapiens_assembly38.dict'])[0]\n",
    "    ref_dict['dbsnp_vcf'] = api.files.query(project=project, names=['Homo_sapiens_assembly38.dbsnp138.vcf'])[0]\n",
    "    ref_dict['hapmap_resource_vcf'] = api.files.query(project=project, names=['hapmap_3.3.hg38.vcf.gz'])[0]\n",
    "    ref_dict['mills_resource_vcf'] = api.files.query(project=project, names=['Mills_and_1000G_gold_standard.indels.hg38.vcf.gz'])[0]\n",
    "    ref_dict['omni_resource_vcf'] = api.files.query(project=project, names=['1000G_omni2.5.hg38.vcf.gz'])[0]\n",
    "    ref_dict['one_thousand_genomes_resource_vcf'] = api.files.query(project=project, names=['1000G_phase1.snps.high_confidence.hg38.vcf.gz'])[0]\n",
    "    ref_dict['ref_fasta'] = api.files.query(project=project, names=['Homo_sapiens_assembly38.fasta'])[0]\n",
    "    ref_dict['ref_tar_gz'] = api.files.query(project=project, names=['hg38_snpeff.tgz'])[0]\n",
    "    ref_dict['unpadded_intervals_file'] = api.files.query(project=project, names=['hg38.even.handcurated.20k.intervals'])[0]\n",
    "    ref_dict['wgs_evaluation_interval_list'] = api.files.query(project=project, names=['wgs_evaluation_regions.hg38.interval_list'])[0]\n",
    "    return ref_dict"
   ]
  },
  {
   "cell_type": "code",
   "execution_count": 6,
   "metadata": {},
   "outputs": [],
   "source": [
    "project = 'kfdrc-harmonization/sd-bhjxbdqk-09'\n",
    "manifest = open('/Users/brownm28/Documents/2019-Aug-23_cnv_ts/controlfreec/pnoc_snp_Call/gvcf-manifest.csv')\n",
    "head = next(manifest)\n",
    "ref_obj = get_refs(api)\n",
    "app_name = project + \"/kf-single-genotype\"\n",
    "for line in manifest:\n",
    "    info = line.rstrip('\\n').split(',')\n",
    "    in_dict = {}\n",
    "    for key in ref_obj:\n",
    "        in_dict[key] = ref_obj[key]\n",
    "    in_dict['input_vcfs'] = api.files.get(info[0])\n",
    "    task_name = \"SINGLE GENOTYPE GATK: \" + info[6] + \" \" + info[12]\n",
    "    task = api.tasks.create(name=task_name, project=project, app=app_name, inputs=in_dict, run=False)\n",
    "    task.inputs['output_vcf_basename'] = task.id\n",
    "    task.save()"
   ]
  },
  {
   "cell_type": "markdown",
   "metadata": {},
   "source": [
    "## Rerun VCF2MAF"
   ]
  },
  {
   "cell_type": "code",
   "execution_count": 4,
   "metadata": {},
   "outputs": [],
   "source": [
    "def get_vep_refs(api):\n",
    "    ref_dict = {}\n",
    "    ref_dict['reference'] = api.files.query(project=project, names=['Homo_sapiens_assembly38.fasta'])[0]\n",
    "    ref_dict['cache'] = api.files.query(project=project, names=['homo_sapiens_vep_93_GRCh38_convert_cache.tar.gz'])[0]\n",
    "    ref_dict['tool_name'] = tool_name\n",
    "    ref_dict['strip_info'] = strip_info\n"
   ]
  },
  {
   "cell_type": "code",
   "execution_count": 5,
   "metadata": {},
   "outputs": [],
   "source": [
    "def set_up_vep_task(line):\n",
    "    info = line.rstrip('\\n').split(',')\n",
    "    in_dict = {}\n",
    "    for key in ref_objs:\n",
    "        in_dict[key] = ref_objs[key]\n",
    "    in_dict['tumor_id'] = info[tid]\n",
    "    in_dict['normal_id'] = info[nid]\n",
    "    in_dict['input_vcf'] = api.files.get(info[0])\n",
    "    task_name = task_prefix + \" \" + info[tid] + \" \" + info[nid]\n",
    "    task = api.tasks.create(name=task_name, project=project, app=app_name, inputs=in_dict, run=False)\n",
    "    task.inputs['output_basename'] = task.id\n",
    "    task.save()\n"
   ]
  },
  {
   "cell_type": "code",
   "execution_count": 6,
   "metadata": {},
   "outputs": [],
   "source": [
    "project = 'kfdrc-harmonization/sd-bhjxbdqk-08'\n",
    "app_name = project + '/temp-rerun-vcf2maf'\n",
    "tool_name = 'mutect2'\n",
    "strip_info = \"INFO/CSQ\"\n",
    "task_prefix = \"VCF2MAF MUTECT2 PBTA RPT:\"\n",
    "ref_objs = get_vep_refs(api)\n",
    "manifest_fn = '/Users/brownm28/Documents/2019-Nov-12_PBTA_v10/mutect2_cbttc-manifest.csv'\n",
    "manifest = open(manifest_fn)\n",
    "head = next(manifest)\n",
    "# header = head.rstip('\\n').split(',')\n",
    "tid = -4\n",
    "nid = -6\n",
    "with concurrent.futures.ThreadPoolExecutor(8) as executor:\n",
    "    results = {executor.submit(set_up_vep_task, line): line for line in manifest}\n",
    "\n",
    "\n"
   ]
  },
  {
   "cell_type": "code",
   "execution_count": null,
   "metadata": {},
   "outputs": [],
   "source": []
  }
 ],
 "metadata": {
  "kernelspec": {
   "display_name": "Python 3",
   "language": "python",
   "name": "python3"
  },
  "language_info": {
   "codemirror_mode": {
    "name": "ipython",
    "version": 3
   },
   "file_extension": ".py",
   "mimetype": "text/x-python",
   "name": "python",
   "nbconvert_exporter": "python",
   "pygments_lexer": "ipython3",
   "version": "3.7.3"
  }
 },
 "nbformat": 4,
 "nbformat_minor": 2
}
