{
 "cells": [
  {
   "cell_type": "code",
   "execution_count": 2,
   "metadata": {},
   "outputs": [
    {
     "name": "stderr",
     "output_type": "stream",
     "text": [
      "WARNING:sevenbridges.http.client:Advance access features enabled. AA API calls can be subjected to changes\n"
     ]
    }
   ],
   "source": [
    "#!/usr/bin/env python3\n",
    "import sevenbridges as sbg\n",
    "from sevenbridges.errors import SbgError\n",
    "from sevenbridges.http.error_handlers import rate_limit_sleeper, maintenance_sleeper\n",
    "import sys\n",
    "import re\n",
    "import concurrent.futures\n",
    "import pdb\n",
    "config = sbg.Config(profile='cavatica')\n",
    "api = sbg.Api(config=config, error_handlers=[rate_limit_sleeper, maintenance_sleeper], advance_access=True)"
   ]
  },
  {
   "cell_type": "code",
   "execution_count": 11,
   "metadata": {},
   "outputs": [],
   "source": [
    "def get_refs(api, project):\n",
    "    ref_dict = {}\n",
    "    ref_dict['reference_fasta'] = api.files.query(project=project, names=['GRCh38.primary_assembly.genome.fa'])[0]\n",
    "    ref_dict['gtf_anno'] = api.files.query(project=project, names=['gencode.v27.primary_assembly.annotation.gtf'])[0]\n",
    "    return ref_dict"
   ]
  },
  {
   "cell_type": "code",
   "execution_count": 12,
   "metadata": {},
   "outputs": [],
   "source": [
    "def setup_task(ref_obj, task, prefix):\n",
    "    if re.search(prefix, task.name):\n",
    "        # sys.stderr.write('Processing ' + task.name + '\\n')\n",
    "        try:\n",
    "            inputs = {}\n",
    "            for key in ref_obj:\n",
    "                inputs[key] = ref_obj[key]\n",
    "\n",
    "            parts = task.name.split()\n",
    "            task_name = 'CBTTC_ARRIBA_FUSION: ' + parts[1] + ' ' + parts[2]\n",
    "            for j in range(len(out_keys)):\n",
    "                inputs[in_keys[j]] = task.outputs[out_keys[j]]\n",
    "            inputs['wf_strand_param'] = task.inputs['wf_strand_param']\n",
    "            arriba_task = api.tasks.create(name=task_name, project=project, app=app_name, inputs=inputs, run=False)\n",
    "            arriba_task.inputs['sample_name'] = arriba_task.id\n",
    "            arriba_task.save()\n",
    "            return arriba_task.name + '\\t' + arriba_task.id + '\\n'\n",
    "        except Exception as e:\n",
    "            sys.stderr.write('Got error ' + e + ' for task ' + task.id + ' ' + task.name + '\\n')\n",
    "            sys.exit(1)"
   ]
  },
  {
   "cell_type": "code",
   "execution_count": 13,
   "metadata": {},
   "outputs": [
    {
     "name": "stderr",
     "output_type": "stream",
     "text": [
      "50tasks set up\n",
      "100tasks set up\n",
      "WARNING:sevenbridges.http.error_handlers:Rate limit reached! Waiting for [134]s\n",
      "WARNING:sevenbridges.http.error_handlers:Rate limit reached! Waiting for [134]s\n",
      "WARNING:sevenbridges.http.error_handlers:Rate limit reached! Waiting for [134]s\n",
      "WARNING:sevenbridges.http.error_handlers:Rate limit reached! Waiting for [134]s\n",
      "WARNING:sevenbridges.http.error_handlers:Rate limit reached! Waiting for [134]s\n",
      "WARNING:sevenbridges.http.error_handlers:Rate limit reached! Waiting for [134]s\n",
      "WARNING:sevenbridges.http.error_handlers:Rate limit reached! Waiting for [134]s\n",
      "WARNING:sevenbridges.http.error_handlers:Rate limit reached! Waiting for [134]s\n",
      "150tasks set up\n",
      "200tasks set up\n",
      "250tasks set up\n",
      "300tasks set up\n",
      "WARNING:sevenbridges.http.error_handlers:Rate limit reached! Waiting for [262]s\n",
      "WARNING:sevenbridges.http.error_handlers:Rate limit reached! Waiting for [262]s\n",
      "WARNING:sevenbridges.http.error_handlers:Rate limit reached! Waiting for [262]s\n",
      "WARNING:sevenbridges.http.error_handlers:Rate limit reached! Waiting for [262]s\n",
      "WARNING:sevenbridges.http.error_handlers:Rate limit reached! Waiting for [262]s\n",
      "WARNING:sevenbridges.http.error_handlers:Rate limit reached! Waiting for [262]s\n",
      "WARNING:sevenbridges.http.error_handlers:Rate limit reached! Waiting for [261]s\n",
      "WARNING:sevenbridges.http.error_handlers:Rate limit reached! Waiting for [261]s\n",
      "350tasks set up\n",
      "400tasks set up\n",
      "450tasks set up\n",
      "WARNING:sevenbridges.http.error_handlers:Rate limit reached! Waiting for [263]s\n",
      "WARNING:sevenbridges.http.error_handlers:Rate limit reached! Waiting for [262]s\n",
      "WARNING:sevenbridges.http.error_handlers:Rate limit reached! Waiting for [262]s\n",
      "WARNING:sevenbridges.http.error_handlers:Rate limit reached! Waiting for [262]s\n",
      "WARNING:sevenbridges.http.error_handlers:Rate limit reached! Waiting for [262]s\n",
      "WARNING:sevenbridges.http.error_handlers:Rate limit reached! Waiting for [262]s\n",
      "WARNING:sevenbridges.http.error_handlers:Rate limit reached! Waiting for [262]s\n",
      "WARNING:sevenbridges.http.error_handlers:Rate limit reached! Waiting for [262]s\n",
      "500tasks set up\n",
      "550tasks set up\n",
      "600tasks set up\n",
      "WARNING:sevenbridges.http.error_handlers:Rate limit reached! Waiting for [257]s\n",
      "WARNING:sevenbridges.http.error_handlers:Rate limit reached! Waiting for [257]s\n",
      "WARNING:sevenbridges.http.error_handlers:Rate limit reached! Waiting for [257]s\n",
      "WARNING:sevenbridges.http.error_handlers:Rate limit reached! Waiting for [257]s\n",
      "WARNING:sevenbridges.http.error_handlers:Rate limit reached! Waiting for [257]s\n",
      "WARNING:sevenbridges.http.error_handlers:Rate limit reached! Waiting for [257]s\n",
      "WARNING:sevenbridges.http.error_handlers:Rate limit reached! Waiting for [257]s\n",
      "WARNING:sevenbridges.http.error_handlers:Rate limit reached! Waiting for [256]s\n",
      "650tasks set up\n",
      "700tasks set up\n",
      "750tasks set up\n",
      "WARNING:sevenbridges.http.error_handlers:Rate limit reached! Waiting for [261]s\n",
      "WARNING:sevenbridges.http.error_handlers:Rate limit reached! Waiting for [261]s\n",
      "WARNING:sevenbridges.http.error_handlers:Rate limit reached! Waiting for [261]s\n",
      "WARNING:sevenbridges.http.error_handlers:Rate limit reached! Waiting for [261]s\n",
      "WARNING:sevenbridges.http.error_handlers:Rate limit reached! Waiting for [261]s\n",
      "WARNING:sevenbridges.http.error_handlers:Rate limit reached! Waiting for [260]s\n",
      "WARNING:sevenbridges.http.error_handlers:Rate limit reached! Waiting for [260]s\n",
      "WARNING:sevenbridges.http.error_handlers:Rate limit reached! Waiting for [260]s\n",
      "800tasks set up\n",
      "850tasks set up\n",
      "900tasks set up\n",
      "950tasks set up\n",
      "WARNING:sevenbridges.http.error_handlers:Rate limit reached! Waiting for [261]s\n",
      "WARNING:sevenbridges.http.error_handlers:Rate limit reached! Waiting for [261]s\n",
      "WARNING:sevenbridges.http.error_handlers:Rate limit reached! Waiting for [261]s\n",
      "WARNING:sevenbridges.http.error_handlers:Rate limit reached! Waiting for [261]s\n",
      "WARNING:sevenbridges.http.error_handlers:Rate limit reached! Waiting for [261]s\n",
      "WARNING:sevenbridges.http.error_handlers:Rate limit reached! Waiting for [261]s\n",
      "WARNING:sevenbridges.http.error_handlers:Rate limit reached! Waiting for [261]s\n",
      "WARNING:sevenbridges.http.error_handlers:Rate limit reached! Waiting for [261]s\n",
      "1000tasks set up\n",
      "1050tasks set up\n"
     ]
    }
   ],
   "source": [
    "project = 'kfdrc-harmonization/sd-bhjxbdqk-06'\n",
    "app_name = project + '/temp-arriba-only-wf'\n",
    "prefix = 'RNAfusion-'\n",
    "in_keys = ['genome_aligned_bam', 'genome_aligned_bai', 'chimeric_sam_out']\n",
    "out_keys = ['STAR_sorted_genomic_bam', 'STAR_sorted_genomic_bai', 'STAR_chimeric_bam_out']\n",
    "tasks  = api.tasks.query(project=project, status='COMPLETED').all()\n",
    "# tasks = []\n",
    "# tasks.append(api.tasks.get('42ea7847-418a-4c2d-9b08-5a8cf6446cd5'))\n",
    "# tasks.append(api.tasks.get('879268d2-a158-4583-beb0-8352b0b9c6c0'))\n",
    "ref_obj = get_refs(api, project)\n",
    "i = 1\n",
    "n = 50\n",
    "out_fh = open('/Users/brownm28/Documents/2019-Jan-31_rna_fusion/arriba_re-run/arriba_tasks.txt', 'w')\n",
    "with concurrent.futures.ThreadPoolExecutor(8) as executor:\n",
    "    results = {executor.submit(setup_task, ref_obj, task, prefix): task for task in tasks}\n",
    "    for result in concurrent.futures.as_completed(results):\n",
    "        if result.result() is not None:\n",
    "            if i % n == 0:\n",
    "                sys.stderr.write(str(i) + 'tasks set up\\n')\n",
    "            i += 1\n",
    "            out_fh.write(result.result())\n",
    "out_fh.close()"
   ]
  },
  {
   "cell_type": "markdown",
   "metadata": {},
   "source": [
    "## copy tags from old arriba outputs to new"
   ]
  },
  {
   "cell_type": "code",
   "execution_count": 8,
   "metadata": {},
   "outputs": [
    {
     "name": "stderr",
     "output_type": "stream",
     "text": [
      "Processing 100 set\n",
      "988 calls left\n",
      "Processing 200 set\n",
      "987 calls left\n",
      "Processing 300 set\n",
      "986 calls left\n",
      "Processing 400 set\n",
      "985 calls left\n",
      "Processing 500 set\n",
      "984 calls left\n",
      "Processing 600 set\n",
      "983 calls left\n",
      "Processing 700 set\n",
      "982 calls left\n",
      "Processing 800 set\n",
      "981 calls left\n",
      "Processing 900 set\n",
      "980 calls left\n",
      "Processing 1000 set\n",
      "979 calls left\n",
      "Processing 1100 set\n",
      "978 calls left\n",
      "978 calls left\n"
     ]
    },
    {
     "ename": "AttributeError",
     "evalue": "'str' object has no attribute 'rsrtip'",
     "output_type": "error",
     "traceback": [
      "\u001b[0;31m---------------------------------------------------------------------------\u001b[0m",
      "\u001b[0;31mAttributeError\u001b[0m                            Traceback (most recent call last)",
      "\u001b[0;32m<ipython-input-8-986350bfc7c5>\u001b[0m in \u001b[0;36m<module>\u001b[0;34m()\u001b[0m\n\u001b[1;32m     28\u001b[0m     \u001b[0;32mif\u001b[0m \u001b[0mx\u001b[0m \u001b[0;34m%\u001b[0m \u001b[0mn\u001b[0m \u001b[0;34m==\u001b[0m \u001b[0;36m0\u001b[0m\u001b[0;34m:\u001b[0m\u001b[0;34m\u001b[0m\u001b[0m\n\u001b[1;32m     29\u001b[0m         \u001b[0msys\u001b[0m\u001b[0;34m.\u001b[0m\u001b[0mstderr\u001b[0m\u001b[0;34m.\u001b[0m\u001b[0mwrite\u001b[0m\u001b[0;34m(\u001b[0m\u001b[0;34m'Updated '\u001b[0m \u001b[0;34m+\u001b[0m \u001b[0mstr\u001b[0m\u001b[0;34m(\u001b[0m\u001b[0mx\u001b[0m\u001b[0;34m)\u001b[0m \u001b[0;34m+\u001b[0m \u001b[0;34m' outputs, '\u001b[0m \u001b[0;34m+\u001b[0m \u001b[0mstr\u001b[0m\u001b[0;34m(\u001b[0m\u001b[0mapi\u001b[0m\u001b[0;34m.\u001b[0m\u001b[0mremaining\u001b[0m\u001b[0;34m)\u001b[0m \u001b[0;34m+\u001b[0m \u001b[0;34m' api calls left\\n'\u001b[0m\u001b[0;34m)\u001b[0m\u001b[0;34m\u001b[0m\u001b[0m\n\u001b[0;32m---> 30\u001b[0;31m     \u001b[0;34m(\u001b[0m\u001b[0mtname\u001b[0m\u001b[0;34m,\u001b[0m \u001b[0mtid\u001b[0m\u001b[0;34m)\u001b[0m \u001b[0;34m=\u001b[0m \u001b[0mline\u001b[0m\u001b[0;34m.\u001b[0m\u001b[0mrsrtip\u001b[0m\u001b[0;34m(\u001b[0m\u001b[0;34m'\\n'\u001b[0m\u001b[0;34m)\u001b[0m\u001b[0;34m.\u001b[0m\u001b[0msplit\u001b[0m\u001b[0;34m(\u001b[0m\u001b[0;34m'\\t'\u001b[0m\u001b[0;34m)\u001b[0m\u001b[0;34m\u001b[0m\u001b[0m\n\u001b[0m\u001b[1;32m     31\u001b[0m     \u001b[0;34m(\u001b[0m\u001b[0mapp\u001b[0m\u001b[0;34m,\u001b[0m \u001b[0mbs_id\u001b[0m\u001b[0;34m,\u001b[0m \u001b[0msamp_id\u001b[0m\u001b[0;34m)\u001b[0m \u001b[0;34m=\u001b[0m \u001b[0mtname\u001b[0m\u001b[0;34m.\u001b[0m\u001b[0msplit\u001b[0m\u001b[0;34m(\u001b[0m\u001b[0;34m)\u001b[0m\u001b[0;34m\u001b[0m\u001b[0m\n\u001b[1;32m     32\u001b[0m     \u001b[0mouts\u001b[0m \u001b[0;34m=\u001b[0m \u001b[0mapi\u001b[0m\u001b[0;34m.\u001b[0m\u001b[0mfiles\u001b[0m\u001b[0;34m.\u001b[0m\u001b[0mquery\u001b[0m\u001b[0;34m(\u001b[0m\u001b[0mproject\u001b[0m\u001b[0;34m=\u001b[0m\u001b[0mproject\u001b[0m\u001b[0;34m,\u001b[0m \u001b[0morigin\u001b[0m\u001b[0;34m=\u001b[0m\u001b[0;34m{\u001b[0m\u001b[0;34m\"task\"\u001b[0m\u001b[0;34m:\u001b[0m\u001b[0mtid\u001b[0m\u001b[0;34m}\u001b[0m\u001b[0;34m)\u001b[0m\u001b[0;34m\u001b[0m\u001b[0m\n",
      "\u001b[0;31mAttributeError\u001b[0m: 'str' object has no attribute 'rsrtip'"
     ]
    }
   ],
   "source": [
    "project = 'kfdrc-harmonization/sd-bhjxbdqk-06'\n",
    "old_manifest = open('/Users/brownm28/Documents/2019-Jan-31_rna_fusion/arriba_re-run/old_out-manifest.csv')\n",
    "head = next(old_manifest)\n",
    "bulk_in = []\n",
    "for line in old_manifest:\n",
    "    info = line.rstrip('\\n').split(',')\n",
    "    bulk_in.append(info[0])\n",
    "in_metadata = {}\n",
    "max_j = 100\n",
    "total = len(bulk_in)\n",
    "for i in range(0, total, max_j):\n",
    "    uset = i + max_j\n",
    "    sys.stderr.write('Processing ' + str(uset) + ' set\\n')\n",
    "    if uset > total:\n",
    "        uset = total\n",
    "    subset = api.files.bulk_get(files=bulk_in[i:uset])\n",
    "    for obj in subset:\n",
    "        cur_meta = obj.resource.metadata\n",
    "        in_metadata[cur_meta['Kids First Biospecimen ID']] = cur_meta\n",
    "    sys.stderr.write(str(api.remaining) + ' calls left\\n')\n",
    "old_manifest.close()\n",
    "sys.stderr.write(str(api.remaining) + ' calls left\\n')\n",
    "task_manifest = open('/Users/brownm28/Documents/2019-Jan-31_rna_fusion/arriba_re-run/arriba_tasks.txt')\n",
    "bulk_up = []\n",
    "x = 1\n",
    "n = 50\n",
    "for line in task_manifest:\n",
    "    if x % n == 0:\n",
    "        sys.stderr.write('Updated ' + str(x) + ' outputs, ' + str(api.remaining) + ' api calls left\\n')\n",
    "    (tname, tid) = line.rstrip('\\n').split('\\t')\n",
    "    (app, bs_id, samp_id) = tname.split()\n",
    "    outs = api.files.query(project=project, origin={\"task\":tid})\n",
    "    for out in outs:\n",
    "        for key in in_metadata:\n",
    "            out.metadata[key] = in_metadata[key]\n",
    "        bulk_up.append(out)\n",
    "    x += 1\n",
    "    \n",
    "\n",
    "x = 1\n",
    "sys.stderr.write('Bulk updates queued\\n')\n",
    "max_j = 100\n",
    "total = len(bulk_up)\n",
    "for i in range(0, total, max_j):\n",
    "    uset = i + max_j\n",
    "    if uset > total:\n",
    "        uset = total\n",
    "    api.files.bulk_update(files=bulk_up[i:uset])\n"
   ]
  },
  {
   "cell_type": "code",
   "execution_count": 6,
   "metadata": {},
   "outputs": [
    {
     "name": "stdout",
     "output_type": "stream",
     "text": [
      "--Return--\n",
      "> <ipython-input-6-c1caf2bf5a44>(2)<module>()->None\n",
      "-> pdb.set_trace()\n",
      "(Pdb) test = api.files.query(project='kfdrc-harmonization/sd-bhjxbdqk-06', origin={\"task\":\"917a5438-4f3b-4829-9d4a-c1672613b05a\"})\n",
      "(Pdb) p test\n",
      "<Collection: total=2, available=2>\n",
      "(Pdb) p test[0]\n",
      "<File: id=5cc77a66e4b0359df2affb1f>\n",
      "(Pdb) p test[0].name\n",
      "'917a5438-4f3b-4829-9d4a-c1672613b05a.arriba.fusions.pdf'\n",
      "(Pdb) p test[1].name\n",
      "'917a5438-4f3b-4829-9d4a-c1672613b05a.arriba.fusions.tsv'\n",
      "(Pdb) p lent(test)\n",
      "*** NameError: name 'lent' is not defined\n",
      "(Pdb) p len(test)\n",
      "2\n",
      "(Pdb) q\n"
     ]
    },
    {
     "ename": "BdbQuit",
     "evalue": "",
     "output_type": "error",
     "traceback": [
      "\u001b[0;31m---------------------------------------------------------------------------\u001b[0m",
      "\u001b[0;31mBdbQuit\u001b[0m                                   Traceback (most recent call last)",
      "\u001b[0;32m<ipython-input-6-c1caf2bf5a44>\u001b[0m in \u001b[0;36m<module>\u001b[0;34m()\u001b[0m\n\u001b[1;32m      1\u001b[0m \u001b[0;31m# get api limit info\u001b[0m\u001b[0;34m\u001b[0m\u001b[0;34m\u001b[0m\u001b[0m\n\u001b[0;32m----> 2\u001b[0;31m \u001b[0mpdb\u001b[0m\u001b[0;34m.\u001b[0m\u001b[0mset_trace\u001b[0m\u001b[0;34m(\u001b[0m\u001b[0;34m)\u001b[0m\u001b[0;34m\u001b[0m\u001b[0m\n\u001b[0m\u001b[1;32m      3\u001b[0m \u001b[0mapi\u001b[0m\u001b[0;34m.\u001b[0m\u001b[0mlimit\u001b[0m\u001b[0;34m\u001b[0m\u001b[0m\n\u001b[1;32m      4\u001b[0m \u001b[0mapi\u001b[0m\u001b[0;34m.\u001b[0m\u001b[0mremaining\u001b[0m\u001b[0;34m\u001b[0m\u001b[0m\n\u001b[1;32m      5\u001b[0m \u001b[0mapi\u001b[0m\u001b[0;34m.\u001b[0m\u001b[0mreset_time\u001b[0m\u001b[0;34m\u001b[0m\u001b[0m\n",
      "\u001b[0;32m/anaconda3/lib/python3.7/bdb.py\u001b[0m in \u001b[0;36mtrace_dispatch\u001b[0;34m(self, frame, event, arg)\u001b[0m\n\u001b[1;32m     90\u001b[0m             \u001b[0;32mreturn\u001b[0m \u001b[0mself\u001b[0m\u001b[0;34m.\u001b[0m\u001b[0mdispatch_call\u001b[0m\u001b[0;34m(\u001b[0m\u001b[0mframe\u001b[0m\u001b[0;34m,\u001b[0m \u001b[0marg\u001b[0m\u001b[0;34m)\u001b[0m\u001b[0;34m\u001b[0m\u001b[0m\n\u001b[1;32m     91\u001b[0m         \u001b[0;32mif\u001b[0m \u001b[0mevent\u001b[0m \u001b[0;34m==\u001b[0m \u001b[0;34m'return'\u001b[0m\u001b[0;34m:\u001b[0m\u001b[0;34m\u001b[0m\u001b[0m\n\u001b[0;32m---> 92\u001b[0;31m             \u001b[0;32mreturn\u001b[0m \u001b[0mself\u001b[0m\u001b[0;34m.\u001b[0m\u001b[0mdispatch_return\u001b[0m\u001b[0;34m(\u001b[0m\u001b[0mframe\u001b[0m\u001b[0;34m,\u001b[0m \u001b[0marg\u001b[0m\u001b[0;34m)\u001b[0m\u001b[0;34m\u001b[0m\u001b[0m\n\u001b[0m\u001b[1;32m     93\u001b[0m         \u001b[0;32mif\u001b[0m \u001b[0mevent\u001b[0m \u001b[0;34m==\u001b[0m \u001b[0;34m'exception'\u001b[0m\u001b[0;34m:\u001b[0m\u001b[0;34m\u001b[0m\u001b[0m\n\u001b[1;32m     94\u001b[0m             \u001b[0;32mreturn\u001b[0m \u001b[0mself\u001b[0m\u001b[0;34m.\u001b[0m\u001b[0mdispatch_exception\u001b[0m\u001b[0;34m(\u001b[0m\u001b[0mframe\u001b[0m\u001b[0;34m,\u001b[0m \u001b[0marg\u001b[0m\u001b[0;34m)\u001b[0m\u001b[0;34m\u001b[0m\u001b[0m\n",
      "\u001b[0;32m/anaconda3/lib/python3.7/bdb.py\u001b[0m in \u001b[0;36mdispatch_return\u001b[0;34m(self, frame, arg)\u001b[0m\n\u001b[1;32m    152\u001b[0m             \u001b[0;32mfinally\u001b[0m\u001b[0;34m:\u001b[0m\u001b[0;34m\u001b[0m\u001b[0m\n\u001b[1;32m    153\u001b[0m                 \u001b[0mself\u001b[0m\u001b[0;34m.\u001b[0m\u001b[0mframe_returning\u001b[0m \u001b[0;34m=\u001b[0m \u001b[0;32mNone\u001b[0m\u001b[0;34m\u001b[0m\u001b[0m\n\u001b[0;32m--> 154\u001b[0;31m             \u001b[0;32mif\u001b[0m \u001b[0mself\u001b[0m\u001b[0;34m.\u001b[0m\u001b[0mquitting\u001b[0m\u001b[0;34m:\u001b[0m \u001b[0;32mraise\u001b[0m \u001b[0mBdbQuit\u001b[0m\u001b[0;34m\u001b[0m\u001b[0m\n\u001b[0m\u001b[1;32m    155\u001b[0m             \u001b[0;31m# The user issued a 'next' or 'until' command.\u001b[0m\u001b[0;34m\u001b[0m\u001b[0;34m\u001b[0m\u001b[0m\n\u001b[1;32m    156\u001b[0m             \u001b[0;32mif\u001b[0m \u001b[0mself\u001b[0m\u001b[0;34m.\u001b[0m\u001b[0mstopframe\u001b[0m \u001b[0;32mis\u001b[0m \u001b[0mframe\u001b[0m \u001b[0;32mand\u001b[0m \u001b[0mself\u001b[0m\u001b[0;34m.\u001b[0m\u001b[0mstoplineno\u001b[0m \u001b[0;34m!=\u001b[0m \u001b[0;34m-\u001b[0m\u001b[0;36m1\u001b[0m\u001b[0;34m:\u001b[0m\u001b[0;34m\u001b[0m\u001b[0m\n",
      "\u001b[0;31mBdbQuit\u001b[0m: "
     ]
    }
   ],
   "source": [
    "# get api limit info\n",
    "pdb.set_trace()\n",
    "api.limit\n",
    "api.remaining\n",
    "api.reset_time\n"
   ]
  },
  {
   "cell_type": "code",
   "execution_count": null,
   "metadata": {},
   "outputs": [],
   "source": []
  }
 ],
 "metadata": {
  "kernelspec": {
   "display_name": "Python 3",
   "language": "python",
   "name": "python3"
  },
  "language_info": {
   "codemirror_mode": {
    "name": "ipython",
    "version": 3
   },
   "file_extension": ".py",
   "mimetype": "text/x-python",
   "name": "python",
   "nbconvert_exporter": "python",
   "pygments_lexer": "ipython3",
   "version": "3.7.0"
  }
 },
 "nbformat": 4,
 "nbformat_minor": 2
}
