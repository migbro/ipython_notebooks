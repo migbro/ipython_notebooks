{
 "cells": [
  {
   "cell_type": "code",
   "execution_count": 1,
   "metadata": {},
   "outputs": [],
   "source": [
    "#!/usr/bin/env python3\n",
    "import sys\n",
    "import re\n",
    "import sevenbridges as sbg\n",
    "import pdb\n",
    "from sevenbridges.errors import SbgError\n",
    "from sevenbridges.http.error_handlers import rate_limit_sleeper, maintenance_sleeper\n",
    "import concurrent.futures\n",
    "config = sbg.Config(profile='cavatica')\n",
    "api = sbg.Api(config=config, error_handlers=[\n",
    "                sbg.http.error_handlers.rate_limit_sleeper,\n",
    "                sbg.http.error_handlers.maintenance_sleeper])"
   ]
  },
  {
   "cell_type": "code",
   "execution_count": 2,
   "metadata": {},
   "outputs": [
    {
     "name": "stderr",
     "output_type": "stream",
     "text": [
      "WARNING:sevenbridges.http.error_handlers:Rate limit reached! Waiting for [270]s\n"
     ]
    }
   ],
   "source": [
    "project = 'kfdrc-harmonization/sd-bhjxbdqk-06'\n",
    "manifest = open('/Users/brownm28/Documents/2019-Apr-16_RNAseq_qc/genomic_bam_output.csv')\n",
    "out_fh = open('/Users/brownm28/Documents/2019-Apr-16_RNAseq_qc/genomic_bam_flagstat_tasks.txt','w')\n",
    "head = next(manifest)\n",
    "bam_id_list = []\n",
    "for line in manifest:\n",
    "    info = line.split(',')\n",
    "    bam_id_list.append(api.files.get(id=info[0]))\n",
    "app_name = project + '/kfdrc-flagstat-qc'\n",
    "total = len(bam_id_list)\n",
    "ct = 1\n",
    "n = 36\n",
    "for i in range(0, total, n):\n",
    "    # pdb.set_trace()\n",
    "    inputs = {}\n",
    "    bset = i + n\n",
    "    if bset > total:\n",
    "        bset = total\n",
    "    inputs['input_bam'] = bam_id_list[i:bset]\n",
    "    task_name = 'CBTTC-RNASEQ-GBAM-FLAGSTAT: SET' + str(ct)\n",
    "    task = api.tasks.create(name=task_name, project=project, app=app_name, inputs=inputs, run=False)\n",
    "    task.save()\n",
    "    out_fh.write(task.name + '\\t' + task.id + '\\n')\n",
    "    ct += 1\n",
    "out_fh.close()"
   ]
  },
  {
   "cell_type": "code",
   "execution_count": 3,
   "metadata": {},
   "outputs": [
    {
     "name": "stderr",
     "output_type": "stream",
     "text": [
      "Hit limit, dump and pump!\n",
      "Hit limit, dump and pump!\n",
      "Hit limit, dump and pump!\n",
      "Hit limit, dump and pump!\n",
      "Hit limit, dump and pump!\n",
      "Hit limit, dump and pump!\n",
      "Hit limit, dump and pump!\n",
      "Hit limit, dump and pump!\n",
      "Hit limit, dump and pump!\n",
      "Hit limit, dump and pump!\n",
      "Hit limit, dump and pump!\n",
      "Hit limit, dump and pump!\n"
     ]
    }
   ],
   "source": [
    "task_file = open('/Users/brownm28/Documents/2019-Apr-16_RNAseq_qc/task_ids.txt')\n",
    "task_ids = []\n",
    "i = 0\n",
    "n = 99\n",
    "meta_task = []\n",
    "out = open('/Users/brownm28/Documents/2019-Apr-16_RNAseq_qc/task_basic_info.txt', 'w')\n",
    "tasks = None\n",
    "for line in task_file:\n",
    "    task_ids.append(line.rstrip('\\n'))\n",
    "    if i % n == 0:\n",
    "        tasks = api.tasks.bulk_get(task_ids)\n",
    "        meta_task.append(tasks)\n",
    "        sys.stderr.write('Hit limit, dump and pump!\\n')\n",
    "        task_ids = []\n",
    "    i += 1\n",
    "for batch in meta_task:\n",
    "    for task in batch:\n",
    "        out.write(task.resource.name + '\\t' + task.resource.id + '\\n')\n",
    "tasks = api.tasks.bulk_get(task_ids)\n",
    "if tasks != meta_task[-1]:\n",
    "    for task in tasks:\n",
    "        out.write(task.resource.name + '\\t' + task.resource.id + '\\n')\n",
    "out.close()"
   ]
  },
  {
   "cell_type": "code",
   "execution_count": null,
   "metadata": {},
   "outputs": [],
   "source": []
  }
 ],
 "metadata": {
  "kernelspec": {
   "display_name": "Python 3",
   "language": "python",
   "name": "python3"
  },
  "language_info": {
   "codemirror_mode": {
    "name": "ipython",
    "version": 3
   },
   "file_extension": ".py",
   "mimetype": "text/x-python",
   "name": "python",
   "nbconvert_exporter": "python",
   "pygments_lexer": "ipython3",
   "version": "3.7.0"
  }
 },
 "nbformat": 4,
 "nbformat_minor": 2
}
