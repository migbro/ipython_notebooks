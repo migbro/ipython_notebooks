{
 "cells": [
  {
   "cell_type": "markdown",
   "metadata": {},
   "source": [
    "# cram2gvcf Run for SD_RM8AFW0R, Rios-Wise"
   ]
  },
  {
   "cell_type": "markdown",
   "metadata": {},
   "source": [
    "## Imports"
   ]
  },
  {
   "cell_type": "code",
   "execution_count": 15,
   "metadata": {},
   "outputs": [],
   "source": [
    "#!/usr/bin/env python3\n",
    "import sevenbridges as sbg\n",
    "import sys\n",
    "import re\n",
    "import os\n",
    "from requests import request\n",
    "\n",
    "config = sbg.Config(profile='cavatica')\n",
    "api = sbg.Api(config=config)"
   ]
  },
  {
   "cell_type": "markdown",
   "metadata": {},
   "source": [
    "### Get Crams"
   ]
  },
  {
   "cell_type": "code",
   "execution_count": 24,
   "metadata": {},
   "outputs": [],
   "source": [
    "def get_crams(api, project):\n",
    "    proj_tasks = api.tasks.query(project=project, status='COMPLETED').all()\n",
    "    cram_dict = {}\n",
    "    for task in proj_tasks:\n",
    "        bs_id = task.name.replace('alignment-', '')\n",
    "        if bs_id in cram_dict:\n",
    "            sys.stderr.write('WARN:' + bs_id + ' listed twice!\\n')\n",
    "        cram_dict[bs_id] = {}\n",
    "        cram_dict[bs_id]['tid'] = task.id\n",
    "        cram_dict[bs_id]['obj'] = task.outputs['cram']\n",
    "    return cram_dict\n",
    "        "
   ]
  },
  {
   "cell_type": "markdown",
   "metadata": {},
   "source": [
    "### get refs"
   ]
  },
  {
   "cell_type": "code",
   "execution_count": 25,
   "metadata": {},
   "outputs": [],
   "source": [
    "def get_refs(api):\n",
    "    dbsnp_vcf = api.files.query(project=project, names=['Homo_sapiens_assembly38.dbsnp138.vcf'])[0]\n",
    "    indexed_reference_fasta = api.files.query(project=project, names=['Homo_sapiens_assembly38.fasta'])[0]\n",
    "    reference_dict = api.files.query(project=project, names=['Homo_sapiens_assembly38.dict'])[0]\n",
    "    contamination_sites_bed = api.files.query(project=project, names=['Homo_sapiens_assembly38.contam.bed'])[0]\n",
    "    contamination_sites_mu = api.files.query(project=project, names=['Homo_sapiens_assembly38.contam.mu'])[0]\n",
    "    contamination_sites_ud = api.files.query(project=project, names=['Homo_sapiens_assembly38.contam.UD'])[0]\n",
    "    wgs_calling_interval_list = api.files.query(project=project, names=['wgs_calling_regions.hg38.interval_list'])[0]\n",
    "    wgs_evaluation_interval_list = api.files.query(project=project, names=['wgs_evaluation_regions.hg38.interval_list'])[0]\n",
    "    return dbsnp_vcf, indexed_reference_fasta, reference_dict, contamination_sites_bed, contamination_sites_mu, contamination_sites_ud, wgs_calling_interval_list, wgs_evaluation_interval_list"
   ]
  },
  {
   "cell_type": "markdown",
   "metadata": {},
   "source": [
    "### set up tasks"
   ]
  },
  {
   "cell_type": "code",
   "execution_count": 26,
   "metadata": {},
   "outputs": [],
   "source": [
    "def setup_task(project, api, bs_id, cram, cram_tid, dbsnp_vcf, indexed_reference_fasta, reference_dict, contamination_sites_bed, contamination_sites_mu, contamination_sites_ud, wgs_calling_interval_list, wgs_evaluation_interval_list):\n",
    "    task_name = 'cram2gvcf-' + bs_id\n",
    "    app_name = project + '/kf-cram2gvcf-calc-contam'\n",
    "    \n",
    "    inputs = {}\n",
    "    inputs['dbsnp_vcf'] = dbsnp_vcf\n",
    "    inputs['indexed_reference_fasta'] = indexed_reference_fasta\n",
    "    inputs['reference_dict'] = reference_dict\n",
    "    inputs['contamination_sites_bed'] = contamination_sites_bed\n",
    "    inputs['contamination_sites_mu'] = contamination_sites_mu\n",
    "    inputs['contamination_sites_ud'] = contamination_sites_ud\n",
    "    inputs['wgs_calling_interval_list'] = wgs_calling_interval_list\n",
    "    inputs['wgs_evaluation_interval_list'] = wgs_evaluation_interval_list\n",
    "    inputs['input_cram'] = cram\n",
    "\n",
    "    task = api.tasks.create(name=task_name, project=project, app=app_name, inputs=inputs, run=False)\n",
    "    task.inputs['output_basename'] = task.id\n",
    "    task.save()\n",
    "    print ('\\t'.join((bs_id, cram_tid, task.id)))"
   ]
  },
  {
   "cell_type": "markdown",
   "metadata": {},
   "source": [
    "## Main"
   ]
  },
  {
   "cell_type": "code",
   "execution_count": 27,
   "metadata": {},
   "outputs": [
    {
     "name": "stdout",
     "output_type": "stream",
     "text": [
      "BS ID\tcram task ID\tgvcf_task ID\n",
      "BS_082CXWXG\td887e679-e06f-4fc0-bf59-f6dbf8f5e6f8\te4710b97-8d9a-4417-a2f6-30e7a8728d40\n",
      "BS_CXT1NEB5\tde9fd84a-38bf-451c-aaf9-0391dca204c4\t334d0f24-f774-4f98-8591-a0ada4e1782f\n",
      "BS_T87T4WYC\tebe5d9ea-f10f-4425-bc84-84c78e9e5679\t898114d1-2b54-4b27-a0d7-20d97c0837bc\n",
      "BS_T3ZTQY6D\tf50336f3-1043-4c47-a0be-ad75cfd4531b\t462effe5-dbb9-48f1-9935-206574bed65e\n"
     ]
    },
    {
     "name": "stderr",
     "output_type": "stream",
     "text": [
      "Quitting, TEST MODE!\n"
     ]
    }
   ],
   "source": [
    "project = 'kfdrc-harmonization/sd-rm8afw0r'\n",
    "cram_dict = get_crams(api, project)\n",
    "(dbsnp_vcf, indexed_reference_fasta, reference_dict, contamination_sites_bed, contamination_sites_mu, contamination_sites_ud, wgs_calling_interval_list, wgs_evaluation_interval_list) = get_refs(api)\n",
    "print ('BS ID\\tcram task ID\\tgvcf_task ID')\n",
    "x = 1\n",
    "n = 5\n",
    "for bs_id in cram_dict:\n",
    "    if x == 5:\n",
    "        sys.stderr.write('Quitting, TEST MODE!\\n')\n",
    "        break\n",
    "    x += 1\n",
    "    setup_task(project, api, bs_id, cram_dict[bs_id]['obj'], cram_dict[bs_id]['tid'], dbsnp_vcf, indexed_reference_fasta, reference_dict, contamination_sites_bed, contamination_sites_mu, contamination_sites_ud, wgs_calling_interval_list, wgs_evaluation_interval_list)\n",
    "    "
   ]
  },
  {
   "cell_type": "code",
   "execution_count": null,
   "metadata": {},
   "outputs": [],
   "source": []
  }
 ],
 "metadata": {
  "kernelspec": {
   "display_name": "Python 3",
   "language": "python",
   "name": "python3"
  },
  "language_info": {
   "codemirror_mode": {
    "name": "ipython",
    "version": 3
   },
   "file_extension": ".py",
   "mimetype": "text/x-python",
   "name": "python",
   "nbconvert_exporter": "python",
   "pygments_lexer": "ipython3",
   "version": "3.6.5"
  }
 },
 "nbformat": 4,
 "nbformat_minor": 2
}
