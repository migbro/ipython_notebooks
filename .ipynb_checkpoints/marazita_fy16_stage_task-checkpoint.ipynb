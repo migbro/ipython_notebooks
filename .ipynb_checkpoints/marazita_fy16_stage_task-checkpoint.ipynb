{
 "cells": [
  {
   "cell_type": "markdown",
   "metadata": {},
   "source": [
    "# cram2gvcf Run for SD_R0EPRSGS, Marazita FY16"
   ]
  },
  {
   "cell_type": "markdown",
   "metadata": {},
   "source": [
    "## Imports"
   ]
  },
  {
   "cell_type": "code",
   "execution_count": 6,
   "metadata": {},
   "outputs": [],
   "source": [
    "#!/usr/bin/env python3\n",
    "import sevenbridges as sbg\n",
    "import sys\n",
    "import re\n",
    "import os\n",
    "from requests import request\n",
    "\n",
    "config = sbg.Config(profile='cavatica')\n",
    "api = sbg.Api(config=config)"
   ]
  },
  {
   "cell_type": "markdown",
   "metadata": {},
   "source": [
    "### Get refs"
   ]
  },
  {
   "cell_type": "code",
   "execution_count": 7,
   "metadata": {},
   "outputs": [],
   "source": [
    "def get_refs(api):\n",
    "    dbsnp_vcf = api.files.query(project=project, names=['Homo_sapiens_assembly38.dbsnp138.vcf'])[0]\n",
    "    indexed_reference_fasta = api.files.query(project=project, names=['Homo_sapiens_assembly38.fasta'])[0]\n",
    "    reference_dict = api.files.query(project=project, names=['Homo_sapiens_assembly38.dict'])[0]\n",
    "    wgs_calling_interval_list = api.files.query(project=project, names=['wgs_calling_regions.hg38.interval_list'])[0]\n",
    "    wgs_evaluation_interval_list = api.files.query(project=project, names=['wgs_evaluation_regions.hg38.interval_list'])[0]\n",
    "    return dbsnp_vcf, indexed_reference_fasta, reference_dict, wgs_calling_interval_list, wgs_evaluation_interval_list"
   ]
  },
  {
   "cell_type": "markdown",
   "metadata": {},
   "source": [
    "### setup tasks"
   ]
  },
  {
   "cell_type": "code",
   "execution_count": 8,
   "metadata": {},
   "outputs": [],
   "source": [
    "def setup_task(project, api, bs_id, cram, contam, dbsnp_vcf, indexed_reference_fasta, reference_dict, wgs_calling_interval_list, wgs_evaluation_interval_list):\n",
    "    task_name = 'cram2gvcf-' + bs_id\n",
    "    app_name = project + '/kf-cram2gvcf-bam-input'\n",
    "    \n",
    "    inputs = {}\n",
    "    inputs['dbsnp_vcf'] = dbsnp_vcf\n",
    "    inputs['indexed_reference_fasta'] = indexed_reference_fasta\n",
    "    inputs['reference_dict'] = reference_dict\n",
    "    inputs['wgs_calling_interval_list'] = wgs_calling_interval_list\n",
    "    inputs['wgs_evaluation_interval_list'] = wgs_evaluation_interval_list\n",
    "    inputs['biospecimen_name'] = bs_id\n",
    "    inputs['contamination'] = contam\n",
    "    inputs['input_cram'] = api.files.query(project=project, names=[cram])[0]\n",
    "\n",
    "    task = api.tasks.create(name=task_name, project=project, app=app_name, inputs=inputs, run=False)\n",
    "    task.inputs['output_basename'] = task.id\n",
    "    task.save()\n",
    "    print ('Task name:' + task.name, 'Task ID:' + task.id)"
   ]
  },
  {
   "cell_type": "markdown",
   "metadata": {},
   "source": [
    "## Main"
   ]
  },
  {
   "cell_type": "code",
   "execution_count": 9,
   "metadata": {},
   "outputs": [
    {
     "name": "stdout",
     "output_type": "stream",
     "text": [
      "Task name:cram2gvcf-BS_W7PW914H Task ID:a8be25a9-4c60-483f-9f8d-e49c5dab63c0\n",
      "Task name:cram2gvcf-BS_CMTQKKJN Task ID:2edae207-679b-4ee0-8c23-59bad69918b6\n",
      "Task name:cram2gvcf-BS_H2FCSCK3 Task ID:847b5634-66b3-4d9b-9dcd-049aa49f0660\n",
      "Task name:cram2gvcf-BS_5PAP7GRQ Task ID:3e3e9897-926f-4450-9b47-5fa3b366251f\n"
     ]
    },
    {
     "name": "stderr",
     "output_type": "stream",
     "text": [
      "Test mode. Stopping\n"
     ]
    }
   ],
   "source": [
    "project = 'kfdrc-harmonization/sd-r0eprsgs'\n",
    "(dbsnp_vcf, indexed_reference_fasta, reference_dict, wgs_calling_interval_list, wgs_evaluation_interval_list) = get_refs(api)\n",
    "cram_info_dict = {}\n",
    "broad_contam = open('/Users/brownm28/Documents/2018-Sep-19_Marazita_FY16/fname_contam_only.txt')\n",
    "next(broad_contam)\n",
    "ds_load_file = open('/Users/brownm28/Documents/2018-Sep-19_Marazita_FY16/ds_bsid_cram_pairs.txt')\n",
    "for line in broad_contam:\n",
    "    info = line.rstrip('\\n').split('\\t')\n",
    "    cram_info_dict[os.path.basename(info[0])] = info[1]\n",
    "broad_contam.close()\n",
    "next(ds_load_file)\n",
    "x = 1\n",
    "n = 5\n",
    "for pair in ds_load_file:\n",
    "    if x==n:\n",
    "        sys.stderr.write('Test mode. Stopping\\n')\n",
    "        break\n",
    "    x+=1\n",
    "    (bs_id, cram) = pair.rstrip('\\n').split('\\t')\n",
    "    setup_task(project, api, bs_id, cram, float(cram_info_dict[cram]), dbsnp_vcf, indexed_reference_fasta, reference_dict, wgs_calling_interval_list, wgs_evaluation_interval_list)\n"
   ]
  },
  {
   "cell_type": "code",
   "execution_count": null,
   "metadata": {},
   "outputs": [],
   "source": []
  }
 ],
 "metadata": {
  "kernelspec": {
   "display_name": "Python 3",
   "language": "python",
   "name": "python3"
  },
  "language_info": {
   "codemirror_mode": {
    "name": "ipython",
    "version": 3
   },
   "file_extension": ".py",
   "mimetype": "text/x-python",
   "name": "python",
   "nbconvert_exporter": "python",
   "pygments_lexer": "ipython3",
   "version": "3.6.5"
  }
 },
 "nbformat": 4,
 "nbformat_minor": 2
}
