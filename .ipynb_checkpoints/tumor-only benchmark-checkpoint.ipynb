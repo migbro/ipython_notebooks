{
 "cells": [
  {
   "cell_type": "markdown",
   "id": "ee40fa3d",
   "metadata": {},
   "source": [
    "# Tumor-Only Workflow Benchmark\n",
    "This project uses existing T/N calls to bench our beta Tumor-only workflow from:\n",
    "https://github.com/kids-first/kf-tumor-workflow"
   ]
  },
  {
   "cell_type": "code",
   "execution_count": 1,
   "id": "f0e55c61",
   "metadata": {},
   "outputs": [],
   "source": [
    "import sevenbridges as sbg\n",
    "import re\n",
    "import sys\n",
    "import requests\n",
    "import pdb\n",
    "from sevenbridges.http.error_handlers import rate_limit_sleeper, maintenance_sleeper\n",
    "config = sbg.Config(profile='turbo')\n",
    "api = sbg.Api(config=config, error_handlers=[rate_limit_sleeper, maintenance_sleeper])"
   ]
  },
  {
   "cell_type": "markdown",
   "id": "4f991236",
   "metadata": {},
   "source": [
    "## Copy Files\n",
    "Using a manifest provided by Alvin. The PBTA portion has to be copied from Datasets while non-PBTA is copied from existing projects"
   ]
  },
  {
   "cell_type": "markdown",
   "id": "5b5c293f",
   "metadata": {},
   "source": [
    "### Copy PBTA\n",
    "All files are in a subdir - list from there, then cross-reference with a namifest by file name"
   ]
  },
  {
   "cell_type": "code",
   "execution_count": 6,
   "id": "7785f213",
   "metadata": {},
   "outputs": [],
   "source": [
    "cp_project = 'd3b-bixu/kf-tumor-only-wf-dev'\n",
    "pbta_manifest = open('/Users/brownm28/Documents/2022-Jul-5_T-O_benchmark/PBTA-only_manifest.tsv')\n",
    "file_dict = {}\n",
    "head = next(pbta_manifest)\n",
    "header = head.rstrip('\\n').split('\\t')\n",
    "n_idx = header.index('file_name')\n",
    "e_idx = header.index('experiment_strategy')\n",
    "for line in pbta_manifest:\n",
    "    info = line.rstrip('\\n').split('\\t')\n",
    "    (fname, exp) = (info[n_idx], info[e_idx])\n",
    "    file_dict[fname] = exp\n"
   ]
  },
  {
   "cell_type": "code",
   "execution_count": 15,
   "id": "3c5b03c5",
   "metadata": {},
   "outputs": [],
   "source": [
    "pbta_dataset_dir = api.files.get('61bcb355eb5e796b5a83ae28')\n",
    "flist = pbta_dataset_dir.list_files().all()"
   ]
  },
  {
   "cell_type": "code",
   "execution_count": 16,
   "id": "da92d057",
   "metadata": {},
   "outputs": [],
   "source": [
    "pbta_list = []\n",
    "for obj in flist:\n",
    "    if obj.name in file_dict:\n",
    "        pbta_list.append(obj)\n"
   ]
  },
  {
   "cell_type": "code",
   "execution_count": 18,
   "id": "5b951fa0",
   "metadata": {},
   "outputs": [],
   "source": [
    "for fobj in pbta_list:\n",
    "    new_cp = fobj.copy(project=cp_project, name=fobj.name)\n",
    "    new_cp.tags = ['BENCHMARK', file_dict[new_cp.name]]\n",
    "    new_cp.save()"
   ]
  },
  {
   "cell_type": "markdown",
   "id": "7216e298",
   "metadata": {},
   "source": [
    "### Copy non-PBTA\n",
    "File IDs from file_id column should be good enough"
   ]
  },
  {
   "cell_type": "code",
   "execution_count": 4,
   "id": "31951397",
   "metadata": {},
   "outputs": [],
   "source": [
    "cp_project = 'd3b-bixu/kf-tumor-only-wf-dev'\n",
    "non_pbta_manifest = open('/Users/brownm28/Documents/2022-Jul-5_T-O_benchmark/non-PBTA_filtered.txt')\n",
    "head = next(non_pbta_manifest)\n",
    "header = head.rstrip('\\n').split('\\t')\n",
    "f_idx = header.index('file_id')\n",
    "e_idx = header.index('experiment_strategy')\n",
    "for line in non_pbta_manifest:\n",
    "    info = line.rstrip('\\n').split('\\t')\n",
    "    try:\n",
    "        f_obj = api.files.get(info[f_idx])\n",
    "        new_cp = f_obj.copy(project=cp_project, name=f_obj.name)\n",
    "        new_cp.tags = ['BENCHMARK', info[e_idx]]\n",
    "        new_cp.save()\n",
    "    except Exception as e:\n",
    "        print (e)\n",
    "        pdb.set_trace()\n",
    "        hold=1\n"
   ]
  },
  {
   "cell_type": "code",
   "execution_count": null,
   "id": "55155ceb",
   "metadata": {},
   "outputs": [],
   "source": []
  }
 ],
 "metadata": {
  "kernelspec": {
   "display_name": "Python 3",
   "language": "python",
   "name": "python3"
  },
  "language_info": {
   "codemirror_mode": {
    "name": "ipython",
    "version": 3
   },
   "file_extension": ".py",
   "mimetype": "text/x-python",
   "name": "python",
   "nbconvert_exporter": "python",
   "pygments_lexer": "ipython3",
   "version": "3.9.6"
  }
 },
 "nbformat": 4,
 "nbformat_minor": 5
}
