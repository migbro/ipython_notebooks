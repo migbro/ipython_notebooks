{
 "cells": [
  {
   "cell_type": "code",
   "execution_count": 1,
   "metadata": {},
   "outputs": [],
   "source": [
    "#!/usr/bin/env python3\n",
    "import sevenbridges as sbg\n",
    "from sevenbridges.errors import SbgError\n",
    "from sevenbridges.http.error_handlers import rate_limit_sleeper, maintenance_sleeper\n",
    "import sys\n",
    "import re\n",
    "import concurrent.futures\n",
    "import pdb\n",
    "config = sbg.Config(profile='turbo')\n",
    "api = sbg.Api(config=config, error_handlers=[rate_limit_sleeper, maintenance_sleeper])"
   ]
  },
  {
   "cell_type": "code",
   "execution_count": 2,
   "metadata": {},
   "outputs": [],
   "source": [
    "def get_refs(api, project):\n",
    "    ref_dict = {}\n",
    "    ref_dict['RNAseQC_GTF'] = api.files.query(project=project, names=['gencode.v27.primary_assembly.RNAseQC.gtf'])[0]\n",
    "    return ref_dict"
   ]
  },
  {
   "cell_type": "code",
   "execution_count": 3,
   "metadata": {},
   "outputs": [],
   "source": [
    "def setup_task(ref_obj, task, prefix):\n",
    "    if re.search(prefix, task.name):\n",
    "        # sys.stderr.write('Processing ' + task.name + '\\n')\n",
    "        try:\n",
    "            inputs = {}\n",
    "            for key in ref_obj:\n",
    "                inputs[key] = ref_obj[key]\n",
    "\n",
    "            parts = task.name.split()\n",
    "            task_name = 'CBTTC_RNASeQC_COUNTS: ' + parts[1] + ' ' + parts[2]\n",
    "            for j in range(len(out_keys)):\n",
    "                inputs[in_keys[j]] = task.outputs[out_keys[j]]\n",
    "            inputs['wf_strand_param'] = task.inputs['wf_strand_param']\n",
    "            rnaseqc_task = api.tasks.create(name=task_name, project=project, app=app_name, inputs=inputs, run=False)\n",
    "            rnaseqc_task.inputs['sample_name'] = rnaseqc_task.id\n",
    "            rnaseqc_task.save()\n",
    "            return rnaseqc_task.name + '\\t' + rnaseqc_task.id + '\\n'\n",
    "        except Exception as e:\n",
    "            sys.stderr.write('Got error ' + e + ' for task ' + task.id + ' ' + task.name + '\\n')\n",
    "            sys.exit(1)"
   ]
  },
  {
   "cell_type": "code",
   "execution_count": 4,
   "metadata": {},
   "outputs": [
    {
     "name": "stderr",
     "output_type": "stream",
     "text": [
      "50tasks set up\n",
      "100tasks set up\n",
      "150tasks set up\n",
      "200tasks set up\n",
      "250tasks set up\n",
      "300tasks set up\n",
      "350tasks set up\n",
      "400tasks set up\n",
      "450tasks set up\n",
      "500tasks set up\n",
      "550tasks set up\n",
      "600tasks set up\n",
      "650tasks set up\n",
      "700tasks set up\n",
      "750tasks set up\n",
      "800tasks set up\n",
      "850tasks set up\n",
      "900tasks set up\n",
      "950tasks set up\n",
      "1000tasks set up\n",
      "1050tasks set up\n"
     ]
    }
   ],
   "source": [
    "project = 'kfdrc-harmonization/sd-bhjxbdqk-06'\n",
    "app_name = project + '/temp-rnaseqc-only-wf'\n",
    "prefix = 'RNAfusion-'\n",
    "in_keys = ['genome_aligned_bam']\n",
    "out_keys = ['STAR_sorted_genomic_bam']\n",
    "tasks  = api.tasks.query(project=project, status='COMPLETED').all()\n",
    "# tasks = []\n",
    "# tasks.append(api.tasks.get('42ea7847-418a-4c2d-9b08-5a8cf6446cd5'))\n",
    "# tasks.append(api.tasks.get('879268d2-a158-4583-beb0-8352b0b9c6c0'))\n",
    "ref_obj = get_refs(api, project)\n",
    "i = 1\n",
    "n = 50\n",
    "out_fh = open('/Users/brownm28/Documents/2019-Jan-31_rna_fusion/rnaseqc_rpt/rnaseqc_tasks.txt', 'w')\n",
    "with concurrent.futures.ThreadPoolExecutor(8) as executor:\n",
    "    results = {executor.submit(setup_task, ref_obj, task, prefix): task for task in tasks}\n",
    "    for result in concurrent.futures.as_completed(results):\n",
    "        if result.result() is not None:\n",
    "            if i % n == 0:\n",
    "                sys.stderr.write(str(i) + 'tasks set up\\n')\n",
    "            i += 1\n",
    "            out_fh.write(result.result())\n",
    "out_fh.close()"
   ]
  },
  {
   "cell_type": "code",
   "execution_count": null,
   "metadata": {},
   "outputs": [],
   "source": []
  }
 ],
 "metadata": {
  "kernelspec": {
   "display_name": "Python 3",
   "language": "python",
   "name": "python3"
  },
  "language_info": {
   "codemirror_mode": {
    "name": "ipython",
    "version": 3
   },
   "file_extension": ".py",
   "mimetype": "text/x-python",
   "name": "python",
   "nbconvert_exporter": "python",
   "pygments_lexer": "ipython3",
   "version": "3.7.0"
  }
 },
 "nbformat": 4,
 "nbformat_minor": 2
}
