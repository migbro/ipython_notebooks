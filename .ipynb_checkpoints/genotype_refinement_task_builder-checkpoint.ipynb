{
 "cells": [
  {
   "cell_type": "markdown",
   "metadata": {},
   "source": [
    "## Initialize api and imports"
   ]
  },
  {
   "cell_type": "code",
   "execution_count": 1,
   "metadata": {},
   "outputs": [],
   "source": [
    "import sevenbridges as sbg\n",
    "import sys\n",
    "from requests import request\n",
    "\n",
    "config = sbg.Config(profile='cavatica')\n",
    "api = sbg.Api(config=config)"
   ]
  },
  {
   "cell_type": "markdown",
   "metadata": {},
   "source": [
    "## Setup helper defs"
   ]
  },
  {
   "cell_type": "code",
   "execution_count": 8,
   "metadata": {},
   "outputs": [],
   "source": [
    "def get_bs_id(url):\n",
    "    pt_info = request('GET', url)\n",
    "    return pt_info.json()['results'][0]['kf_id']\n",
    "\n",
    "\n",
    "def build_ped_entry(url, fam_id, out):\n",
    "    info = request('GET', url)\n",
    "    patient_sex = 'unkown'\n",
    "    ind_id = ''\n",
    "    paternal_id = ''\n",
    "    maternal_id = ''\n",
    "    # currently assumed all probands have phenotype!!! can actually check iof needed\n",
    "    phenotype = '2'\n",
    "    sex = {'Male': '1', 'Female': '2'}\n",
    "    # ped file output format:\n",
    "    # fam_id\\tindividual_id\\tpaternal_id\\tmaternal_id\\tsex<0,1,2>\\tphenotype<-9,0,1,2>\n",
    "    for person in info.json()['results']:\n",
    "        bs_url = 'http://localhost:1080' + person['_links']['biospecimens']\n",
    "        bs_id = get_bs_id(bs_url)\n",
    "        if person['is_proband'] == True:\n",
    "            if person['gender'] in sex:\n",
    "                patient_sex = sex[person['gender']]\n",
    "            ind_id = bs_id\n",
    "        elif person['gender'] == 'Female':\n",
    "            maternal_id = bs_id\n",
    "        else:\n",
    "            paternal_id = bs_id\n",
    "    new_ped = open(out, 'w')\n",
    "    new_ped.write('\\t'.join((fam_id, ind_id, paternal_id, maternal_id, patient_sex, phenotype)) + '\\n')\n",
    "    new_ped.close()\n",
    "\n",
    "def create_task(fam_id, ped_out, api, vcf, project):\n",
    "    task_name = 'refinement-' + fam_id\n",
    "    app_name = project + '/gatk-genotype-refinement'\n",
    "    inputs = {}\n",
    "    inputs['vqsr_vcf'] = vcf\n",
    "    inputs['snp_sites'] = api.files.query(project=project, names=['1000G_phase3_v4_20130502.sites.hg38.vcf'])[0]\n",
    "    inputs['reference'] =  api.files.query(project=project, names=['Homo_sapiens_assembly38.fasta'])[0]\n",
    "    inputs['ped'] =  api.files.query(project=project, names=[ped_out])[0]\n",
    "    try:\n",
    "        task = api.tasks.create(name=task_name, project=project, app=app_name, inputs=inputs, run=False)\n",
    "        task.inputs['output_basename'] = task.id\n",
    "        task.save()\n",
    "        print (task.inputs['vqsr_vcf'].name, fam_id, task.id)\n",
    "    except SbError:\n",
    "        print('Could not create task for ' + task_name + '!\\n')\n",
    "    "
   ]
  },
  {
   "cell_type": "markdown",
   "metadata": {},
   "source": [
    "## Initialize inputs\n",
    "#### May want to switch to stdin in if running outside of notebook"
   ]
  },
  {
   "cell_type": "code",
   "execution_count": 3,
   "metadata": {},
   "outputs": [],
   "source": [
    "project = 'brownm28/kf-genotype-refinement-workflow'\n",
    "tag_search = 'Trio Joint Genotyping'"
   ]
  },
  {
   "cell_type": "markdown",
   "metadata": {},
   "source": [
    "## Get vcf object list"
   ]
  },
  {
   "cell_type": "code",
   "execution_count": 4,
   "metadata": {},
   "outputs": [
    {
     "name": "stderr",
     "output_type": "stream",
     "text": [
      "Getting files for brownm28/kf-genotype-refinement-workflow\n",
      "Found relevant file 5077c39a-d456-437c-89ac-f3854d2575d4.vcf.gz\n",
      "Found relevant file fc46610e-f873-4998-805c-b2cd76e56c00.vcf.gz\n",
      "Found relevant file fcc6436b-5874-43d8-98a7-973c421ea96c.vcf.gz\n",
      "Found relevant file fcd0830b-3fd9-4220-a83e-47d2659605eb.vcf.gz\n",
      "Found relevant file fceead3c-2b03-46ee-b958-bd5648d1979a.vcf.gz\n",
      "Found relevant file fe6cb487-f7de-43ba-8090-f68ae0d1fba0.vcf.gz\n"
     ]
    }
   ],
   "source": [
    "\n",
    "files = api.files.query(project=project, tags=tag_search).all()\n",
    "sys.stderr.write('Getting files for ' + project + '\\n')\n",
    "# dir(files)\n",
    "vcf_list = []\n",
    "i = 0\n",
    "for file_obj in files:\n",
    "    #    for tag in file_obj.tags:\n",
    "    #        if tag == tag_search and file_obj.name[-7:] == '.vcf.gz':\n",
    "    if file_obj.name[-7:] == '.vcf.gz':\n",
    "        if file_obj.name in exclude_dict:\n",
    "            sys.stderr.write('File ' + file_obj.name + ' in exclude list, skipping!\\n')\n",
    "        else:\n",
    "            vcf_list.append(file_obj)\n",
    "            sys.stderr.write('Found relevant file ' + file_obj.name + '\\n')\n",
    "    i += 1\n",
    "sys.stderr.write('Searched ' + str(i) + ' files for desired criteria\\n')"
   ]
  },
  {
   "cell_type": "markdown",
   "metadata": {},
   "source": [
    "## Create .ped files and set up cavatica jobs.  Requires data service running"
   ]
  },
  {
   "cell_type": "code",
   "execution_count": 9,
   "metadata": {},
   "outputs": [
    {
     "name": "stderr",
     "output_type": "stream",
     "text": [
      "Building and uploading .ped files to project\n",
      "Uploading FM_KXC88W01.ped to cavatica for project brownm28/kf-genotype-refinement-workflow\n",
      "Exception in thread Thread-6:\n",
      "Traceback (most recent call last):\n",
      "  File \"/usr/local/lib/python3.6/site-packages/sevenbridges/transfer/upload.py\", line 344, in _initialize_upload\n",
      "    self._URL['upload_init'], data=init_data, params=init_params\n",
      "  File \"/usr/local/lib/python3.6/site-packages/sevenbridges/http/client.py\", line 226, in post\n",
      "    data=data, append_base=append_base)\n",
      "  File \"/usr/local/lib/python3.6/site-packages/sevenbridges/decorators.py\", line 134, in wrapper\n",
      "    raise e\n",
      "sevenbridges.errors.Conflict: Requested file already exists.\n",
      "\n",
      "During handling of the above exception, another exception occurred:\n",
      "\n",
      "Traceback (most recent call last):\n",
      "  File \"/usr/local/Cellar/python/3.6.5/Frameworks/Python.framework/Versions/3.6/lib/python3.6/threading.py\", line 916, in _bootstrap_inner\n",
      "    self.run()\n",
      "  File \"/usr/local/lib/python3.6/site-packages/sevenbridges/transfer/upload.py\", line 492, in run\n",
      "    self._initialize_upload()\n",
      "  File \"/usr/local/lib/python3.6/site-packages/sevenbridges/transfer/upload.py\", line 351, in _initialize_upload\n",
      "    'Reason: {}'.format(e.message)\n",
      "sevenbridges.errors.SbgError: Unable to initialize upload! Failed to get upload id! Reason: Requested file already exists.\n",
      "\n"
     ]
    },
    {
     "name": "stdout",
     "output_type": "stream",
     "text": [
      "5077c39a-d456-437c-89ac-f3854d2575d4.vcf.gz FM_KXC88W01 50c5047e-2e59-41aa-9b22-c2e8de103e89\n"
     ]
    },
    {
     "name": "stderr",
     "output_type": "stream",
     "text": [
      "Uploading FM_0RY3PYCS.ped to cavatica for project brownm28/kf-genotype-refinement-workflow\n"
     ]
    },
    {
     "name": "stdout",
     "output_type": "stream",
     "text": [
      "fc46610e-f873-4998-805c-b2cd76e56c00.vcf.gz FM_0RY3PYCS d05e868f-d644-49d9-9d76-5e350513c921\n"
     ]
    },
    {
     "name": "stderr",
     "output_type": "stream",
     "text": [
      "Uploading FM_DFW18WG8.ped to cavatica for project brownm28/kf-genotype-refinement-workflow\n"
     ]
    },
    {
     "name": "stdout",
     "output_type": "stream",
     "text": [
      "fcc6436b-5874-43d8-98a7-973c421ea96c.vcf.gz FM_DFW18WG8 5ffcff4f-8d12-4f30-aa60-1bdd72aface1\n"
     ]
    },
    {
     "name": "stderr",
     "output_type": "stream",
     "text": [
      "Uploading FM_FHTAKY86.ped to cavatica for project brownm28/kf-genotype-refinement-workflow\n"
     ]
    },
    {
     "name": "stdout",
     "output_type": "stream",
     "text": [
      "fcd0830b-3fd9-4220-a83e-47d2659605eb.vcf.gz FM_FHTAKY86 227a59ce-3b22-448b-889d-56040b898070\n"
     ]
    },
    {
     "name": "stderr",
     "output_type": "stream",
     "text": [
      "Uploading FM_35J5Y5NS.ped to cavatica for project brownm28/kf-genotype-refinement-workflow\n"
     ]
    },
    {
     "name": "stdout",
     "output_type": "stream",
     "text": [
      "fceead3c-2b03-46ee-b958-bd5648d1979a.vcf.gz FM_35J5Y5NS 4b8ea9f0-cbbe-41bd-a30a-59192863e288\n"
     ]
    },
    {
     "name": "stderr",
     "output_type": "stream",
     "text": [
      "Uploading FM_ZFMCW3G3.ped to cavatica for project brownm28/kf-genotype-refinement-workflow\n"
     ]
    },
    {
     "name": "stdout",
     "output_type": "stream",
     "text": [
      "fe6cb487-f7de-43ba-8090-f68ae0d1fba0.vcf.gz FM_ZFMCW3G3 1ebd67ac-5c78-415d-ab78-3ce6c2a8621d\n"
     ]
    }
   ],
   "source": [
    "sys.stderr.write('Building and uploading .ped files to project\\n')\n",
    "for vcf in vcf_list:\n",
    "    fam_id =  vcf.metadata['Kids First ID']\n",
    "    url = 'http://localhost:1080/participants?family_id=' + fam_id\n",
    "    ped_out = fam_id + '.ped'\n",
    "    build_ped_entry(url, fam_id, ped_out)\n",
    "    sys.stderr.write('Uploading ' + ped_out + ' to cavatica for project ' + project + '\\n')\n",
    "    api.files.upload(project=project, path=ped_out)\n",
    "    create_task(fam_id, ped_out, api, vcf, project)\n",
    "sys.stderr.write('Completed setting up tasks, check output logs\\n')"
   ]
  },
  {
   "cell_type": "code",
   "execution_count": 11,
   "metadata": {},
   "outputs": [
    {
     "name": "stdout",
     "output_type": "stream",
     "text": [
      "688674957\n"
     ]
    },
    {
     "ename": "NameError",
     "evalue": "name 'size' is not defined",
     "output_type": "error",
     "traceback": [
      "\u001b[0;31m---------------------------------------------------------------------------\u001b[0m",
      "\u001b[0;31mNameError\u001b[0m                                 Traceback (most recent call last)",
      "\u001b[0;32m<ipython-input-11-6be8be8ce1a3>\u001b[0m in \u001b[0;36m<module>\u001b[0;34m()\u001b[0m\n\u001b[1;32m      3\u001b[0m \u001b[0mtask\u001b[0m \u001b[0;34m=\u001b[0m \u001b[0mapi\u001b[0m\u001b[0;34m.\u001b[0m\u001b[0mtasks\u001b[0m\u001b[0;34m.\u001b[0m\u001b[0mget\u001b[0m\u001b[0;34m(\u001b[0m\u001b[0mid\u001b[0m\u001b[0;34m=\u001b[0m\u001b[0mtid\u001b[0m\u001b[0;34m)\u001b[0m\u001b[0;34m\u001b[0m\u001b[0m\n\u001b[1;32m      4\u001b[0m \u001b[0mprint\u001b[0m \u001b[0;34m(\u001b[0m\u001b[0mtask\u001b[0m\u001b[0;34m.\u001b[0m\u001b[0moutputs\u001b[0m\u001b[0;34m[\u001b[0m\u001b[0;34m'finalgathervcf'\u001b[0m\u001b[0;34m]\u001b[0m\u001b[0;34m.\u001b[0m\u001b[0msize\u001b[0m\u001b[0;34m)\u001b[0m\u001b[0;34m\u001b[0m\u001b[0m\n\u001b[0;32m----> 5\u001b[0;31m \u001b[0mprint\u001b[0m \u001b[0;34m(\u001b[0m\u001b[0msize\u001b[0m \u001b[0;32min\u001b[0m \u001b[0mtask\u001b[0m\u001b[0;34m.\u001b[0m\u001b[0moutputs\u001b[0m\u001b[0;34m[\u001b[0m\u001b[0;34m'finalgathervcf'\u001b[0m\u001b[0;34m]\u001b[0m\u001b[0;34m)\u001b[0m\u001b[0;34m\u001b[0m\u001b[0m\n\u001b[0m",
      "\u001b[0;31mNameError\u001b[0m: name 'size' is not defined"
     ]
    }
   ],
   "source": [
    "project = 'kfdrc-harmonization/sd-9pyzahhe-09'\n",
    "tid = 'b4f447ad-8e69-4c6a-86ef-ed8892a94cb3'\n",
    "task = api.tasks.get(id=tid)\n",
    "print (task.outputs['finalgathervcf'].size)\n",
    "print (size in task.outputs['finalgathervcf'])"
   ]
  },
  {
   "cell_type": "code",
   "execution_count": null,
   "metadata": {},
   "outputs": [],
   "source": []
  }
 ],
 "metadata": {
  "kernelspec": {
   "display_name": "Python 3",
   "language": "python",
   "name": "python3"
  },
  "language_info": {
   "codemirror_mode": {
    "name": "ipython",
    "version": 3
   },
   "file_extension": ".py",
   "mimetype": "text/x-python",
   "name": "python",
   "nbconvert_exporter": "python",
   "pygments_lexer": "ipython3",
   "version": "3.7.0"
  }
 },
 "nbformat": 4,
 "nbformat_minor": 2
}
