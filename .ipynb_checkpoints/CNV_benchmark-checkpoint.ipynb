{
 "cells": [
  {
   "cell_type": "markdown",
   "id": "2bbce04c",
   "metadata": {},
   "source": [
    "# CNV Benchmarking\n",
    "This notebook is mostly for file copying to set up benchmarking tasks"
   ]
  },
  {
   "cell_type": "code",
   "execution_count": null,
   "id": "9fd00459",
   "metadata": {},
   "outputs": [],
   "source": [
    "#!/usr/bin/env python3\n",
    "import sevenbridges as sbg\n",
    "from sevenbridges.errors import SbgError\n",
    "from sevenbridges.http.error_handlers import rate_limit_sleeper, maintenance_sleeper\n",
    "\n",
    "import sys\n",
    "import re\n",
    "import os\n",
    "import pdb\n",
    "from requests import request\n",
    "from datetime import datetime\n",
    "config = sbg.Config(profile='turbo')\n",
    "api = sbg.Api(config=config, error_handlers=[rate_limit_sleeper, maintenance_sleeper])"
   ]
  },
  {
   "cell_type": "markdown",
   "id": "c266400d",
   "metadata": {},
   "source": [
    "## Get crams and create a manifest"
   ]
  },
  {
   "cell_type": "code",
   "execution_count": null,
   "id": "dfbc4708",
   "metadata": {},
   "outputs": [],
   "source": [
    "def cp_obj(obj, new_proj, cp_path):\n",
    "    \"\"\"\n",
    "    take file obj, copy, and return new file id\n",
    "    \"\"\"\n",
    "    copied = obj.copy(project=new_proj, name=obj.name).move_to_folder(parent=cp_path, name=obj.name)\n",
    "    return copied"
   ]
  },
  {
   "cell_type": "code",
   "execution_count": null,
   "id": "ba7fdf08",
   "metadata": {},
   "outputs": [],
   "source": [
    "def find_file(fname, project):\n",
    "    \"\"\"\n",
    "    Search project and get file id using file name\n",
    "    \"\"\"\n",
    "    try:\n",
    "        file_obj = api.files.query(project=project, names=[fname])[0]\n",
    "    except Exception as e:\n",
    "        sys.stderr.write(\"Could not find \" + fname + \"\\n\")\n",
    "        return 1\n",
    "    return file_obj"
   ]
  },
  {
   "cell_type": "code",
   "execution_count": null,
   "id": "dea6975a",
   "metadata": {},
   "outputs": [],
   "source": [
    "def build_str_array(tum_id, tum_obj, norm_id, norm_name, norm_info, cp_project, cp_folder_obj):\n",
    "    out_str_array = []\n",
    "    out_str_array.append(tum_id)\n",
    "    copied_tum = cp_obj(tum_obj, cp_project, cp_folder_obj)\n",
    "    out_str_array.extend([copied_tum.id, copied_tum.name, norm_id])\n",
    "    # normals were already copied, so just going to find the file\n",
    "    out_str_array.extend([norm_info[norm_name], norm_name])\n",
    "    return out_str_array\n"
   ]
  },
  {
   "cell_type": "code",
   "execution_count": null,
   "id": "1fcaf088",
   "metadata": {},
   "outputs": [],
   "source": [
    "def get_norm_info(cp_folder_obj):\n",
    "    cp_list = []\n",
    "    j = 0\n",
    "    cp_list.append(cp_folder_obj.list_files())\n",
    "\n",
    "    total = cp_folder_obj.list_files().total\n",
    "    i = len(cp_list[j])\n",
    "    norm_dict = {}\n",
    "    # pdb.set_trace()\n",
    "    for obj in cp_list[j]:\n",
    "        norm_dict[obj.name] = obj.id\n",
    "    while i < (total - 1):\n",
    "        cp_list.append(cp_list[j].next_page())\n",
    "        j += 1\n",
    "        for obj in cp_list[j]:\n",
    "            norm_dict[obj.name] = obj.id\n",
    "        i += len(cp_list[j])\n",
    "    return norm_dict\n"
   ]
  },
  {
   "cell_type": "code",
   "execution_count": null,
   "id": "aec0fde2",
   "metadata": {},
   "outputs": [],
   "source": [
    "src_project = 'kfdrc-harmonization/sd-dypmehhf-05'\n",
    "cp_project = 'danmiller/kf-gatk-cnv-dev'\n",
    "cp_path = 'somatic-benchmarking/maris_array_compare'\n",
    "cp_folder_obj = api.files.get('61562156be6b86435184baae')\n",
    "manifest = open('/Users/brownm28/Documents/2021-Sep-30_CNV_benchmarking/kfnbl_paired_snp_array_intersect_histologies_test_set.txt')\n",
    "head = next(manifest)\n",
    "bs_ids = {}\n",
    "for line in manifest:\n",
    "    info = line.rstrip('\\n').split('\\t')\n",
    "    bs_ids[info[0]] = info[1]\n",
    "tasks = api.tasks.query(project=src_project, status=\"COMPLETED\").all()\n",
    "cramifest = open('/Users/brownm28/Documents/2021-Sep-30_CNV_benchmarking/cramifest.tsv', 'w')\n",
    "cramifest.write('tum_bs_id\\ttumor_file_id\\ttumor_file_name\\tnorm_bs_id\\tnormal_file_id\\tnormal_file_name\\n')\n",
    "norm_info = get_norm_info(cp_folder_obj)\n",
    "for task in tasks:\n",
    "    if re.search(\"Maris-dna-somatic\", task.name) and task.inputs['input_tumor_name'] in bs_ids:\n",
    "        tum_id = task.inputs['input_tumor_name']\n",
    "        norm_id = task.inputs['input_normal_name']\n",
    "        tum_cram = task.inputs['input_tumor_aligned']\n",
    "        # norm files were already copied, just going to find them instead\n",
    "        norm_cram_name = task.inputs['input_normal_aligned'].name\n",
    "        print_array = build_str_array(tum_id, tum_cram, norm_id, norm_cram_name, norm_info, cp_project, cp_folder_obj)\n",
    "        cramifest.write(\"\\t\".join(print_array) + \"\\n\")\n",
    "        tum_crai = find_file(tum_cram.name + '.crai', src_project)\n",
    "        norm_crai_name = norm_cram_name + '.crai'\n",
    "        print_array = build_str_array(tum_id, tum_crai, norm_id, norm_crai_name, norm_info, cp_project, cp_folder_obj)\n",
    "        cramifest.write(\"\\t\".join(print_array) + \"\\n\")\n",
    "        sys.stderr.write('Copied cram and crai for ' + tum_id + ' ' + norm_id + '\\n')\n",
    "cramifest.close()\n",
    "        "
   ]
  },
  {
   "cell_type": "markdown",
   "id": "f7b908fe",
   "metadata": {},
   "source": [
    "## Copy over b allele files"
   ]
  },
  {
   "cell_type": "code",
   "execution_count": null,
   "id": "5c3590e7",
   "metadata": {},
   "outputs": [],
   "source": [
    "pattern = '.postCGP.Gfiltered.vcf.gz'\n",
    "cram_manifest = open('/Users/brownm28/Documents/2021-Sep-30_CNV_benchmarking/cramifest.tsv')\n",
    "norm_bs_ids = {}\n",
    "head = next(cram_manifest)\n",
    "header = head.rstrip('\\n').split('\\t')\n",
    "n_idx = header.index('norm_bs_id')\n",
    "for line in cram_manifest:\n",
    "    info = line.rstrip('\\n').split('\\t')\n",
    "    norm_bs_ids[info[n_idx]] = 0\n",
    "src_project = 'kfdrc-harmonization/sd-dypmehhf-05'\n",
    "cp_project = 'danmiller/kf-gatk-cnv-dev'\n",
    "cp_path = 'somatic-benchmarking/maris_array_compare'\n",
    "cp_folder_obj = api.files.get('61562156be6b86435184baae')\n",
    "\n",
    "b_allele_manifest = open('/Users/brownm28/Documents/2021-Sep-30_CNV_benchmarking/ballele_manifest.tsv', 'w')\n",
    "b_allele_manifest.write('bs_id\\tfile_id\\tfile_name\\n')\n",
    "for bs_id in norm_bs_ids:\n",
    "    related = api.files.query(project=src_project, metadata = {'Kids First Biospecimen ID': bs_id} )\n",
    "    for obj in related:\n",
    "        if re.search(pattern, obj.name):\n",
    "            copied = cp_obj(obj, cp_project, cp_folder_obj)\n",
    "            b_allele_manifest.write(\"\\t\".join([bs_id, copied.id, copied.name]) + \"\\n\")\n",
    "            tbi_name = copied.name + '.tbi'\n",
    "            tbi = find_file(tbi_name, src_project)\n",
    "            cp_tbi = cp_obj(tbi, cp_project, cp_folder_obj)\n",
    "            b_allele_manifest.write(\"\\t\".join([bs_id, cp_tbi.id, cp_tbi.name]) + \"\\n\")\n",
    "            sys.stderr.write('Copied vcf and tbi for ' + bs_id + '\\n')\n",
    "            \n",
    "b_allele_manifest.close()"
   ]
  },
  {
   "cell_type": "markdown",
   "id": "bc1e53cc",
   "metadata": {},
   "source": [
    "## Task set up"
   ]
  },
  {
   "cell_type": "code",
   "execution_count": null,
   "id": "9e28636e",
   "metadata": {},
   "outputs": [],
   "source": [
    "def get_refs(project):\n",
    "    ref_objs = {}\n",
    "    ref_objs['count_panel_of_normals'] = api.files.query(project=project, names=['marris_male_pon.cnv.pon.hdf5'])[0]\n",
    "    ref_objs['funcotator_data_sources_tgz'] = api.files.query(project=project, names=['funcotator_dataSources.v1.6.20190124s.tar.gz'])[0]\n",
    "    ref_objs['input_exclude_interval_list'] = api.files.query(project=project, names=['somatic-hg38_CNV_and_centromere_blacklist.hg38liftover.list'])[0]\n",
    "    ref_objs['input_interval_list'] = api.files.query(project=project, names=['wgs_calling_regions.hg38.interval_list'])[0]\n",
    "    ref_objs['reference_dict'] = api.files.query(project=project, names=['Homo_sapiens_assembly38.dict'])[0]\n",
    "    ref_objs['reference_fasta'] = api.files.query(project=project, names=['Homo_sapiens_assembly38.fasta'])[0]\n",
    "    ref_objs['run_funcotatesegments'] = True\n",
    "    return ref_objs\n",
    "    "
   ]
  },
  {
   "cell_type": "code",
   "execution_count": null,
   "id": "117de25d",
   "metadata": {},
   "outputs": [],
   "source": [
    "def draft_tasks(project, input_list, ref_dict, app_name):\n",
    "    input_dict = {}\n",
    "    for key in ref_dict:\n",
    "        input_dict[key] = ref_dict[key]\n",
    "    pt_id = input_list['input_aligned_reads_tumor'].metadata['Kids First Participant ID']\n",
    "    for key in input_list:\n",
    "        input_dict[key] = input_list[key]\n",
    "    task_name = pt_id + \" KFDRC GATK CNV Somatic Pair Workflow\"\n",
    "    task = api.tasks.create(name=task_name, project=project, app=app_name, inputs=input_dict, run=False)\n",
    "\n"
   ]
  },
  {
   "cell_type": "code",
   "execution_count": null,
   "id": "980368df",
   "metadata": {},
   "outputs": [],
   "source": [
    "cram_manifest = open('/Users/brownm28/Documents/2021-Sep-30_CNV_benchmarking/cramifest.tsv')\n",
    "b_allele_manifest = open('/Users/brownm28/Documents/2021-Sep-30_CNV_benchmarking/ballele_manifest.tsv')\n",
    "project = 'danmiller/kf-gatk-cnv-dev'\n",
    "app_name = project + '/kf_cnv_somatic_pair_wf'\n",
    "ref_dict = get_refs(project)\n",
    "inputs = {}\n",
    "head = next(cram_manifest)\n",
    "norm_ids = {}\n",
    "for line in cram_manifest:\n",
    "    info = line.rstrip('\\n').split('\\t')\n",
    "    tum_cram = api.files.get(info[1])\n",
    "    # for male-only cohort\n",
    "    if tum_cram.metadata['gender'] == 'Male':\n",
    "        inputs[info[0]] = {}\n",
    "        norm_ids[info[3]] = info[0]\n",
    "        inputs[info[0]]['input_aligned_reads_tumor'] = tum_cram\n",
    "        inputs[info[0]]['input_aligned_reads_normal'] = api.files.get(info[-2])\n",
    "    skip = next(cram_manifest)\n",
    "\n",
    "head = next(b_allele_manifest)\n",
    "for line in b_allele_manifest:\n",
    "    info = line.rstrip('\\n').split('\\t')\n",
    "    if info[0] in norm_ids:\n",
    "        inputs[norm_ids[info[0]]]['common_sites'] = api.files.get(info[-2])\n",
    "    skip = next(b_allele_manifest)\n",
    "for bs_id in inputs:\n",
    "    draft_tasks(project, inputs[bs_id], ref_dict, app_name)\n"
   ]
  },
  {
   "cell_type": "markdown",
   "id": "5ef75938",
   "metadata": {},
   "source": [
    "## Run Draft Tasks"
   ]
  },
  {
   "cell_type": "code",
   "execution_count": null,
   "id": "5c2ec14a",
   "metadata": {},
   "outputs": [],
   "source": [
    "project = 'danmiller/kf-gatk-cnv-dev'\n",
    "# pattern = \"\\w+ KFDRC GATK CNV Somatic Pair Workflow\"\n",
    "pattern = \"KFDRC CNVkit Theta2\"\n",
    "tasks = api.tasks.query(project=project, status = \"DRAFT\")\n",
    "for task in tasks:\n",
    "    if re.search(pattern, task.name):\n",
    "        task.run()"
   ]
  },
  {
   "cell_type": "markdown",
   "id": "9687310f",
   "metadata": {},
   "source": [
    "# Set up CNVkit run"
   ]
  },
  {
   "cell_type": "markdown",
   "id": "7f87020a",
   "metadata": {},
   "source": [
    "## Copy over cnn files for cnvkit"
   ]
  },
  {
   "cell_type": "code",
   "execution_count": null,
   "id": "c6132adb",
   "metadata": {},
   "outputs": [],
   "source": [
    "src_project = \"kfdrc-harmonization/sd-dypmehhf-ad-hoc-caller-rerun\"\n",
    "b_allele_manifest = open('/Users/brownm28/Documents/2021-Sep-30_CNV_benchmarking/ballele_manifest.tsv')\n",
    "cp_project = 'danmiller/kf-gatk-cnv-dev'\n",
    "cp_path = 'somatic-benchmarking/maris_array_compare'\n",
    "cp_folder_obj = api.files.get('61562156be6b86435184baae')\n",
    "\n",
    "cnn_manifest = open('/Users/brownm28/Documents/2021-Sep-30_CNV_benchmarking/cnn_manifest.tsv', 'w')\n",
    "cnn_manifest.write('bs_id\\tfile_id\\tfile_name\\n')\n",
    "pattern = \"_cnvkit_reference.cnn\"\n",
    "head = next(b_allele_manifest)\n",
    "for line in b_allele_manifest:\n",
    "    info = line.rstrip('\\n').split('\\t')\n",
    "    related = api.files.query(project=src_project, metadata = {'Kids First Biospecimen ID Normal': info[0]} )\n",
    "    for obj in related:\n",
    "        if re.search(pattern, obj.name):\n",
    "            copied = cp_obj(obj, cp_project, cp_folder_obj)\n",
    "            cnn_manifest.write(\"\\t\".join([info[0], copied.id, copied.name]) + \"\\n\")\n",
    "            sys.stderr.write('Copied CNN file for ' + info[0] + '\\n')\n",
    "            break\n",
    "    skip = next(b_allele_manifest)\n",
    "cnn_manifest.close()"
   ]
  },
  {
   "cell_type": "markdown",
   "id": "011bc546",
   "metadata": {},
   "source": [
    "## Copy over vardict files"
   ]
  },
  {
   "cell_type": "code",
   "execution_count": null,
   "id": "a7dadd66",
   "metadata": {},
   "outputs": [],
   "source": [
    "src_project = \"kfdrc-harmonization/sd-dypmehhf-ad-hoc-caller-rerun\"\n",
    "b_allele_manifest = open('/Users/brownm28/Documents/2021-Sep-30_CNV_benchmarking/ballele_manifest.tsv')\n",
    "cp_project = 'danmiller/kf-gatk-cnv-dev'\n",
    "cp_path = 'somatic-benchmarking/maris_array_compare'\n",
    "cp_folder_obj = api.files.get('61562156be6b86435184baae')\n",
    "\n",
    "vardict_manifest = open('/Users/brownm28/Documents/2021-Sep-30_CNV_benchmarking/vardict_manifest.tsv', 'w')\n",
    "vardict_manifest.write('bs_id\\tfile_id\\tfile_name\\n')\n",
    "pattern = \".vardict_somatic.merged.vcf.gz\"\n",
    "head = next(b_allele_manifest)\n",
    "for line in b_allele_manifest:\n",
    "    info = line.rstrip('\\n').split('\\t')\n",
    "    related = api.files.query(project=src_project, metadata = {'Kids First Biospecimen ID Normal': info[0]} )\n",
    "    for obj in related:\n",
    "        if re.search(pattern, obj.name):\n",
    "            copied = cp_obj(obj, cp_project, cp_folder_obj)\n",
    "            vardict_manifest.write(\"\\t\".join([info[0], copied.id, copied.name]) + \"\\n\")\n",
    "            tbi_name = copied.name + '.tbi'\n",
    "            tbi_obj = find_file(tbi_name, src_project)\n",
    "            copied = cp_obj(tbi_obj, cp_project, cp_folder_obj)\n",
    "            vardict_manifest.write(\"\\t\".join([info[0], copied.id, copied.name]) + \"\\n\")\n",
    "           \n",
    "            sys.stderr.write('Copied vardict file for ' + info[0] + '\\n')\n",
    "            break\n",
    "    skip = next(b_allele_manifest)\n",
    "vardict_manifest.close()   \n"
   ]
  },
  {
   "cell_type": "markdown",
   "id": "14c77894",
   "metadata": {},
   "source": [
    "## Draft tasks for CNVkit WF"
   ]
  },
  {
   "cell_type": "code",
   "execution_count": null,
   "id": "6dedb712",
   "metadata": {},
   "outputs": [],
   "source": [
    "def get_cnvkit_refs(project):\n",
    "    ref_objs = {}\n",
    "    ref_objs['cnvkit_annotation_file'] = api.files.query(project=project, names=['refFlat_HG38.txt'])[0]\n",
    "    ref_objs['reference_fai'] = api.files.query(project=project, names=['Homo_sapiens_assembly38.fasta.fai'])[0]\n",
    "    ref_objs['cnvkit_wgs_mode'] = 'Y'\n",
    "    ref_objs['reference_dict'] = api.files.query(project=project, names=['Homo_sapiens_assembly38.dict'])[0]\n",
    "    ref_objs['reference_fasta'] = api.files.query(project=project, names=['Homo_sapiens_assembly38.fasta'])[0]\n",
    "\n",
    "    ref_objs['i_flag'] = 'N'\n",
    "    ref_objs['wgs_or_wxs'] = 'WGS'\n",
    "    ref_objs['combined_include_expression'] = 'FILTER=\"PASS\" && (INFO/STATUS=\"Germline\" | INFO/STATUS=\"StrongSomatic\")'\n",
    "    return ref_objs\n"
   ]
  },
  {
   "cell_type": "code",
   "execution_count": null,
   "id": "91277872",
   "metadata": {},
   "outputs": [],
   "source": [
    "def draft_cnvkit_tasks(project, input_list, ref_dict, app_name):\n",
    "    input_dict = {}\n",
    "    for key in ref_dict:\n",
    "        input_dict[key] = ref_dict[key]\n",
    "    pt_id = input_list['input_tumor_aligned'].metadata['Kids First Participant ID']\n",
    "    for key in input_list:\n",
    "        input_dict[key] = input_list[key]\n",
    "    task_name = \"KFDRC CNVkit Theta2: \" + pt_id\n",
    "    task = api.tasks.create(name=task_name, project=project, app=app_name, inputs=input_dict, run=False)\n",
    "    task.inputs['output_basename'] = task.id\n",
    "    task.save()\n"
   ]
  },
  {
   "cell_type": "code",
   "execution_count": null,
   "id": "f580a6fa",
   "metadata": {},
   "outputs": [],
   "source": [
    "cram_manifest = open('/Users/brownm28/Documents/2021-Sep-30_CNV_benchmarking/cramifest.tsv')\n",
    "b_allele_manifest = open('/Users/brownm28/Documents/2021-Sep-30_CNV_benchmarking/ballele_manifest.tsv')\n",
    "cnn_manifest = open('/Users/brownm28/Documents/2021-Sep-30_CNV_benchmarking/cnn_manifest.tsv')\n",
    "vardict_manifest = open('/Users/brownm28/Documents/2021-Sep-30_CNV_benchmarking/vardict_manifest.tsv')\n",
    "project = 'danmiller/kf-gatk-cnv-dev'\n",
    "app_name = project + '/kfdrc-production-cnvkit-theta2-wf'\n",
    "ref_dict = get_cnvkit_refs(project)\n",
    "inputs = {}\n",
    "head = next(cram_manifest)\n",
    "norm_ids = {}\n",
    "for line in cram_manifest:\n",
    "    info = line.rstrip('\\n').split('\\t')\n",
    "    tum_cram = api.files.get(info[1])\n",
    "    inputs[info[0]] = {}\n",
    "    norm_ids[info[3]] = info[0]\n",
    "    inputs[info[0]]['input_normal_name'] = info[3]\n",
    "    inputs[info[0]]['input_tumor_name'] = info[0]\n",
    "    inputs[info[0]]['input_tumor_aligned'] = tum_cram\n",
    "    inputs[info[0]]['input_normal_aligned'] = api.files.get(info[-2])\n",
    "    if tum_cram.metadata['gender'] == 'Male':\n",
    "        inputs[info[0]]['cnvkit_sex'] = 'y'\n",
    "    else:\n",
    "        inputs[info[0]]['cnvkit_sex'] = 'x'\n",
    "    skip = next(cram_manifest)\n",
    "# process b allele inputs\n",
    "head = next(b_allele_manifest)\n",
    "for line in b_allele_manifest:\n",
    "    info = line.rstrip('\\n').split('\\t')\n",
    "    if info[0] in norm_ids:\n",
    "        inputs[norm_ids[info[0]]]['b_allele'] = api.files.get(info[-2])\n",
    "    index = next(b_allele_manifest)\n",
    "    info = index.rstrip('\\n').split('\\t')\n",
    "    if info[0] in norm_ids:\n",
    "        inputs[norm_ids[info[0]]]['b_allele_index'] = api.files.get(info[-2])\n",
    "# process cnn inputs   \n",
    "head = next(cnn_manifest)\n",
    "for line in cnn_manifest:\n",
    "    info = line.rstrip('\\n').split('\\t')\n",
    "    if info[0] in norm_ids:\n",
    "        inputs[norm_ids[info[0]]]['cnvkit_cnn'] = api.files.get(info[-2])\n",
    "# process vardict inputs\n",
    "head = next(vardict_manifest)\n",
    "for line in vardict_manifest:\n",
    "    info = line.rstrip('\\n').split('\\t')\n",
    "    if info[0] in norm_ids:\n",
    "        inputs[norm_ids[info[0]]]['vardict_prepass_vcf'] = api.files.get(info[-2])\n",
    "    skip = next(vardict_manifest)\n",
    "\n",
    "for bs_id in inputs:\n",
    "    draft_cnvkit_tasks(project, inputs[bs_id], ref_dict, app_name)\n"
   ]
  },
  {
   "cell_type": "markdown",
   "id": "2d8f76a0",
   "metadata": {},
   "source": [
    "## Copy over controlfreec results"
   ]
  },
  {
   "cell_type": "code",
   "execution_count": null,
   "id": "fff78133",
   "metadata": {},
   "outputs": [],
   "source": [
    "pattern = \".controlfreec.CNVs.p.value.txt\"\n",
    "src_project = 'kfdrc-harmonization/sd-dypmehhf-05'\n",
    "cp_project = 'danmiller/kf-gatk-cnv-dev'\n",
    "cp_folder_obj = api.files.get('5e9753d8e4b0efd83ca85b24')\n",
    "b_allele_manifest = open('/Users/brownm28/Documents/2021-Sep-30_CNV_benchmarking/ballele_manifest.tsv')\n",
    "\n",
    "cfree_manifest = open('/Users/brownm28/Documents/2021-Sep-30_CNV_benchmarking/controlfreec_value_manifest.tsv', 'w')\n",
    "cfree_manifest.write('bs_id\\tfile_id\\tfile_name\\n')\n",
    "head = next(b_allele_manifest)\n",
    "for line in b_allele_manifest:\n",
    "    info = line.rstrip('\\n').split('\\t')\n",
    "    related = api.files.query(project=src_project, metadata = {'Kids First Biospecimen ID Normal': info[0]} )\n",
    "    for obj in related:\n",
    "        if re.search(pattern, obj.name):\n",
    "            copied = cp_obj(obj, cp_project, cp_folder_obj)\n",
    "            cfree_manifest.write(\"\\t\".join([info[0], copied.id, copied.name]) + \"\\n\")\n",
    "            sys.stderr.write('Copied cfree file for ' + info[0] + '\\n')\n",
    "            break\n",
    "    skip = next(b_allele_manifest)\n",
    "cfree_manifest.close()   \n",
    "\n"
   ]
  },
  {
   "cell_type": "code",
   "execution_count": null,
   "id": "8397149e",
   "metadata": {},
   "outputs": [],
   "source": []
  }
 ],
 "metadata": {
  "kernelspec": {
   "display_name": "Python 3",
   "language": "python",
   "name": "python3"
  },
  "language_info": {
   "codemirror_mode": {
    "name": "ipython",
    "version": 3
   },
   "file_extension": ".py",
   "mimetype": "text/x-python",
   "name": "python",
   "nbconvert_exporter": "python",
   "pygments_lexer": "ipython3",
   "version": "3.9.6"
  }
 },
 "nbformat": 4,
 "nbformat_minor": 5
}
