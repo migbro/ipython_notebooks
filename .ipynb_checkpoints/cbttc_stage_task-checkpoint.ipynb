{
 "cells": [
  {
   "cell_type": "code",
   "execution_count": 17,
   "metadata": {},
   "outputs": [],
   "source": [
    "#!/usr/bin/env python3\n",
    "import sevenbridges as sbg\n",
    "from sevenbridges.errors import SbgError\n",
    "import sys\n",
    "from requests import request\n",
    "\n",
    "config = sbg.Config(profile='cavatica')\n",
    "api = sbg.Api(config=config)"
   ]
  },
  {
   "cell_type": "code",
   "execution_count": 2,
   "metadata": {},
   "outputs": [],
   "source": [
    "def get_bsid(url, aliquot_id):\n",
    "    ali_url = url + '/biospecimens?external_aliquot_id=' + aliquot_id\n",
    "    # sys.stderr.write(ali_url)\n",
    "    bs_info = request('GET', ali_url)\n",
    "    return bs_info.json()['results'][0]['kf_id']"
   ]
  },
  {
   "cell_type": "code",
   "execution_count": 28,
   "metadata": {},
   "outputs": [],
   "source": [
    "def find_copy_cram(cur_project, source_project, bs_id):\n",
    "    f = 0\n",
    "\n",
    "    bs_id_objs = api.files.query(project=cur_project, metadata = {'Kids First Biospecimen ID': bs_id})\n",
    "    for obj in bs_id_objs:\n",
    "        if obj.name[-4:] == 'cram':\n",
    "            f = 1\n",
    "            sys.stderr.write('Found related cram ' + obj.name + ' for ' + bs_id + '\\n')\n",
    "            return obj\n",
    "    if f == 0:\n",
    "        sys.stderr.write('cram for ' + bs_id + ' not in ' + cur_project + ', copying from ' + source_project + '\\n')\n",
    "        cram_name = ''\n",
    "        source_objs = api.files.query(project=source_project, metadata = {'Kids First Biospecimen ID': bs_id})\n",
    "        for obj in source_objs:\n",
    "            if f == 2:\n",
    "                break\n",
    "            if obj.name[-4:] == 'cram':\n",
    "                obj.copy(project=cur_project, name=obj.name)\n",
    "                cram_name = obj.name\n",
    "                f += 1\n",
    "            elif obj.name[-4:] == 'crai':\n",
    "                obj.copy(project=cur_project, name=obj.name)\n",
    "                f += 1\n",
    "        \n",
    "        if f != 2:\n",
    "            sys.stderr.write('Did not find cram files for ' + bs_id + '\\n')\n",
    "            return bs_id\n",
    "        cur_cram = api.files.query(project=cur_project, names=[cram_name])[0]\n",
    "        sys.stderr.write('Found related cram ' + cur_cram.name + ' for ' + bs_id + '\\n')\n",
    "        return cur_cram\n"
   ]
  },
  {
   "cell_type": "code",
   "execution_count": 3,
   "metadata": {},
   "outputs": [
    {
     "name": "stdout",
     "output_type": "stream",
     "text": [
      "['FOLDER_TYPE', '_API', '_URL', '__class__', '__delattr__', '__dict__', '__dir__', '__doc__', '__eq__', '__format__', '__ge__', '__getattribute__', '__gt__', '__hash__', '__init__', '__init_subclass__', '__le__', '__lt__', '__module__', '__ne__', '__new__', '__reduce__', '__reduce_ex__', '__repr__', '__setattr__', '__sizeof__', '__str__', '__subclasshook__', '__weakref__', '_api', '_data', '_dirty', '_fields', '_modified_data', '_old', '_query', 'bulk_delete', 'bulk_edit', 'bulk_get', 'bulk_update', 'content', 'copy', 'copy_to_folder', 'create_folder', 'created_on', 'deepcopy', 'delete', 'download', 'download_info', 'equals', 'field', 'get', 'href', 'id', 'is_folder', 'list_files', 'metadata', 'modified_on', 'move_to_folder', 'name', 'origin', 'parent', 'project', 'query', 'reload', 'save', 'size', 'storage', 'stream', 'tags', 'type', 'upload']\n",
      "dict_keys(['gender', 'race', 'ethnicity', 'Kids First Participant ID', 'disease_type', 'sample_id', 'sample_type', 'platform', 'Kids First Biospecimen ID', 'primary_site', 'aliquot_id', 'reference_genome', 'case_id', 'experimental_strategy'])\n"
     ]
    }
   ],
   "source": [
    "fid = '5b154c9aec7012f2daecce9b'\n",
    "cur_project = 'kfdrc-harmonization/sd-bhjxbdqk-08'\n",
    "check = api.files.get(id=fid)\n",
    "print (dir(check))\n",
    "print (check.metadata.keys())"
   ]
  },
  {
   "cell_type": "code",
   "execution_count": 21,
   "metadata": {},
   "outputs": [],
   "source": [
    "def create_task(tumor_id, normal_id, tumor_cram_obj, normal_cram_obj, api, project, ref_dict):\n",
    "    task_name = 'cbttc-dna-somatic-' + tumor_id + '_' + normal_id\n",
    "    app_name = project + '/cbttc-pipe-with-maf'\n",
    "\n",
    "    inputs = ref_dict\n",
    "    inputs['tumor_cram'] = tumor_cram_obj\n",
    "    inputs['normal_cram'] = normal_cram_obj\n",
    "    inputs['tumor_id'] = tumor_id\n",
    "    inputs['normal_id'] = normal_id\n",
    "    inputs['threads'] = 36\n",
    "    \n",
    "    try:\n",
    "        task = api.tasks.create(name=task_name, project=project, app=app_name, inputs=inputs, run=False)\n",
    "        task.inputs['output_basename'] = task.id\n",
    "        task.save()\n",
    "        print ('Tumor: ',tumor_id, tumor_cram_obj.name, 'Normal:', normal_id, normal_cram_obj.name, 'Task:' + task.id)\n",
    "    except SbgError:\n",
    "        print('Could not create task for ' + task_name + '!\\n')"
   ]
  },
  {
   "cell_type": "code",
   "execution_count": 19,
   "metadata": {},
   "outputs": [],
   "source": [
    "def get_refs(api, project):\n",
    "    ref_dict = {}\n",
    "    ref_dict['reference'] = api.files.query(project=project, names=['Homo_sapiens_assembly38.fasta'])[0]\n",
    "    ref_dict['chr_len'] = api.files.query(project=project, names=['hs38_chr.len'])[0]\n",
    "    ref_dict['ref_chrs'] = api.files.query(project=project, names=['GRCh38_everyChrs.tar.gz'])[0]\n",
    "    ref_dict['ref_tar_gz'] = api.files.query(project=project, names=['hg38_snpeff.tgz'])[0]\n",
    "    ref_dict['hg38_strelka_bed'] = api.files.query(project=project, names=['hg38_strelka.bed.gz'])[0]\n",
    "    ref_dict['vep_cache'] = api.files.query(project=project, names=['homo_sapiens_vep_93_GRCh38_convert_cache.tar.gz'])[0]\n",
    "    return ref_dict"
   ]
  },
  {
   "cell_type": "code",
   "execution_count": 29,
   "metadata": {
    "scrolled": true
   },
   "outputs": [
    {
     "name": "stderr",
     "output_type": "stream",
     "text": [
      "Found related cram bdeccefa-17a1-4e08-af87-60f1a1f642cc.cram for BS_1AZ8YJSH\n",
      "Found related cram 54deedc0-df36-4509-b6c5-38bd30d4049c.cram for BS_0Y1Y2WA4\n"
     ]
    },
    {
     "name": "stdout",
     "output_type": "stream",
     "text": [
      "Tumor:  BS_1AZ8YJSH bdeccefa-17a1-4e08-af87-60f1a1f642cc.cram Normal: BS_0Y1Y2WA4 54deedc0-df36-4509-b6c5-38bd30d4049c.cram Task:ec99d6a3-52b0-421e-bed7-87bdb99dfb4e\n"
     ]
    },
    {
     "name": "stderr",
     "output_type": "stream",
     "text": [
      "Found related cram fad26a01-4466-4bdb-a0b3-c41675826c0b.cram for BS_KXGJ1HMG\n",
      "Found related cram 2dafe8c0-a9db-487e-b2d4-5d23a7c4b971.cram for BS_R7TZRSZT\n"
     ]
    },
    {
     "name": "stdout",
     "output_type": "stream",
     "text": [
      "Tumor:  BS_KXGJ1HMG fad26a01-4466-4bdb-a0b3-c41675826c0b.cram Normal: BS_R7TZRSZT 2dafe8c0-a9db-487e-b2d4-5d23a7c4b971.cram Task:7b56af36-bc04-4a8f-a9f6-c1488fa3b316\n"
     ]
    },
    {
     "name": "stderr",
     "output_type": "stream",
     "text": [
      "Found related cram 7a72a168-0ee9-4870-ad1c-bdc39f77dc7a.cram for BS_9E632VPJ\n",
      "Found related cram f5899fd6-40cc-4ded-85eb-adf25ad3eb8e.cram for BS_ZDBEHEPY\n"
     ]
    },
    {
     "name": "stdout",
     "output_type": "stream",
     "text": [
      "Tumor:  BS_9E632VPJ 7a72a168-0ee9-4870-ad1c-bdc39f77dc7a.cram Normal: BS_ZDBEHEPY f5899fd6-40cc-4ded-85eb-adf25ad3eb8e.cram Task:fb0ef3ed-4088-4bf5-bcad-17e6c9038ccd\n"
     ]
    },
    {
     "name": "stderr",
     "output_type": "stream",
     "text": [
      "Found related cram 20707ebc-f9aa-4a17-9dfd-2ba3eb3a7ba0.cram for BS_MGBEMNYR\n",
      "Found related cram 23c62407-60d8-48b5-bc88-92f84bf53bc7.cram for BS_MVK4CG1G\n"
     ]
    },
    {
     "name": "stdout",
     "output_type": "stream",
     "text": [
      "Tumor:  BS_MGBEMNYR 20707ebc-f9aa-4a17-9dfd-2ba3eb3a7ba0.cram Normal: BS_MVK4CG1G 23c62407-60d8-48b5-bc88-92f84bf53bc7.cram Task:64a6ca54-9b3b-4e98-b777-0a78b162f655\n"
     ]
    },
    {
     "name": "stderr",
     "output_type": "stream",
     "text": [
      "Found related cram 602ea2bd-87d2-408e-9b9a-1ea80cb69c5c.cram for BS_9R82A3VT\n",
      "Found related cram 9f6d26d6-a634-4cce-aa52-b9898fc86af0.cram for BS_Q5AH9TH0\n"
     ]
    },
    {
     "name": "stdout",
     "output_type": "stream",
     "text": [
      "Tumor:  BS_9R82A3VT 602ea2bd-87d2-408e-9b9a-1ea80cb69c5c.cram Normal: BS_Q5AH9TH0 9f6d26d6-a634-4cce-aa52-b9898fc86af0.cram Task:ed95231a-8231-44a9-8b78-8e7673a30a81\n"
     ]
    },
    {
     "name": "stderr",
     "output_type": "stream",
     "text": [
      "Found related cram 68576b90-5c9e-46e4-8e8f-ca3c1356547f.cram for BS_83MSWR59\n",
      "Found related cram d23a2239-a048-4674-b78d-34b7e6b553b7.cram for BS_1NWVFBTQ\n"
     ]
    },
    {
     "name": "stdout",
     "output_type": "stream",
     "text": [
      "Tumor:  BS_83MSWR59 68576b90-5c9e-46e4-8e8f-ca3c1356547f.cram Normal: BS_1NWVFBTQ d23a2239-a048-4674-b78d-34b7e6b553b7.cram Task:0f931a5b-c710-4ff9-a251-d9693900283e\n"
     ]
    },
    {
     "name": "stderr",
     "output_type": "stream",
     "text": [
      "Found related cram 6c217bd9-80fd-4411-9833-d1173ca1a3bc.cram for BS_ZS1QRMXS\n",
      "Found related cram 38f8dbbc-4347-41c3-aaf3-a89bd51de3e6.cram for BS_J9M165VZ\n"
     ]
    },
    {
     "name": "stdout",
     "output_type": "stream",
     "text": [
      "Tumor:  BS_ZS1QRMXS 6c217bd9-80fd-4411-9833-d1173ca1a3bc.cram Normal: BS_J9M165VZ 38f8dbbc-4347-41c3-aaf3-a89bd51de3e6.cram Task:d5228f21-fcd2-4ae3-8d80-05aca21bdf60\n"
     ]
    },
    {
     "name": "stderr",
     "output_type": "stream",
     "text": [
      "Found related cram 13597e44-39ad-48ff-ac74-4a0bb7974e2b.cram for BS_AG0BZN6F\n",
      "Found related cram 23aca3f5-0dec-4113-b30a-55430df9d1a5.cram for BS_N559C2Y0\n"
     ]
    },
    {
     "name": "stdout",
     "output_type": "stream",
     "text": [
      "Tumor:  BS_AG0BZN6F 13597e44-39ad-48ff-ac74-4a0bb7974e2b.cram Normal: BS_N559C2Y0 23aca3f5-0dec-4113-b30a-55430df9d1a5.cram Task:f8a6a123-2f55-41fa-ad81-277a64b9c16a\n"
     ]
    },
    {
     "name": "stderr",
     "output_type": "stream",
     "text": [
      "Found related cram 6f52c14e-6539-4017-b780-99a0cbac825a.cram for BS_BQWMQM2Y\n",
      "Found related cram acff0dde-a011-49fa-a399-7883ea15652f.cram for BS_RB3PE7G3\n"
     ]
    },
    {
     "name": "stdout",
     "output_type": "stream",
     "text": [
      "Tumor:  BS_BQWMQM2Y 6f52c14e-6539-4017-b780-99a0cbac825a.cram Normal: BS_RB3PE7G3 acff0dde-a011-49fa-a399-7883ea15652f.cram Task:e9803a6b-3389-4a7b-85c9-e3ee89eccadd\n"
     ]
    },
    {
     "name": "stderr",
     "output_type": "stream",
     "text": [
      "Found related cram 116f2258-b8f9-4e73-8b2c-db6386c80560.cram for BS_EPM623G4\n",
      "Found related cram c4533602-9b5a-4d4a-87e3-d3006fa0eceb.cram for BS_JJ593ZW7\n"
     ]
    },
    {
     "name": "stdout",
     "output_type": "stream",
     "text": [
      "Tumor:  BS_EPM623G4 116f2258-b8f9-4e73-8b2c-db6386c80560.cram Normal: BS_JJ593ZW7 c4533602-9b5a-4d4a-87e3-d3006fa0eceb.cram Task:1273e489-8987-4e53-9768-69658534fe74\n"
     ]
    },
    {
     "name": "stderr",
     "output_type": "stream",
     "text": [
      "Found related cram 9cd5bbbb-d5d0-48c8-afeb-ca7a75383adf.cram for BS_KBPBCWA0\n",
      "Found related cram 99c2c5ef-55f1-4916-b106-41c441f13b0a.cram for BS_2QF33SK7\n"
     ]
    },
    {
     "name": "stdout",
     "output_type": "stream",
     "text": [
      "Tumor:  BS_KBPBCWA0 9cd5bbbb-d5d0-48c8-afeb-ca7a75383adf.cram Normal: BS_2QF33SK7 99c2c5ef-55f1-4916-b106-41c441f13b0a.cram Task:cb29236d-9276-488a-a780-972f402fd4da\n"
     ]
    },
    {
     "name": "stderr",
     "output_type": "stream",
     "text": [
      "Found related cram d1ecb768-c68a-4080-b1ec-34e4e0c94eb6.cram for BS_BFDEZK1C\n",
      "Found related cram cdcc2a84-39a4-4ae7-adb9-2c6616b2bf2e.cram for BS_85TADN40\n"
     ]
    },
    {
     "name": "stdout",
     "output_type": "stream",
     "text": [
      "Tumor:  BS_BFDEZK1C d1ecb768-c68a-4080-b1ec-34e4e0c94eb6.cram Normal: BS_85TADN40 cdcc2a84-39a4-4ae7-adb9-2c6616b2bf2e.cram Task:31d6a262-567d-4807-b5d7-ed2356d23438\n"
     ]
    },
    {
     "name": "stderr",
     "output_type": "stream",
     "text": [
      "Found related cram 8f7bc73a-94e9-4f33-9df1-1578243c1d18.cram for BS_6ZP2KRPW\n",
      "Found related cram 6cb64ee7-47f6-4d99-82e9-af41c21c2c79.cram for BS_82HQ2RBJ\n"
     ]
    },
    {
     "name": "stdout",
     "output_type": "stream",
     "text": [
      "Tumor:  BS_6ZP2KRPW 8f7bc73a-94e9-4f33-9df1-1578243c1d18.cram Normal: BS_82HQ2RBJ 6cb64ee7-47f6-4d99-82e9-af41c21c2c79.cram Task:daa6b613-03be-4a00-a8ba-75861cb88479\n"
     ]
    },
    {
     "name": "stderr",
     "output_type": "stream",
     "text": [
      "Found related cram 6c28f2e2-aed5-49b0-9318-ca07b8fe1718.cram for BS_R7YMKNJN\n",
      "Found related cram aedf6799-7f4e-49a5-83d3-bd0e61d98bb4.cram for BS_63JFFF51\n"
     ]
    },
    {
     "name": "stdout",
     "output_type": "stream",
     "text": [
      "Tumor:  BS_R7YMKNJN 6c28f2e2-aed5-49b0-9318-ca07b8fe1718.cram Normal: BS_63JFFF51 aedf6799-7f4e-49a5-83d3-bd0e61d98bb4.cram Task:437d9052-0df2-4df4-8d7c-8b729f0afcde\n"
     ]
    },
    {
     "name": "stderr",
     "output_type": "stream",
     "text": [
      "Found related cram cf808536-88c7-48c2-8853-8fdeb4731dcc.cram for BS_8JFMP1T1\n",
      "Found related cram 54ca24fd-840d-4c6a-a3a8-15ccbaa41c8c.cram for BS_RK06RAFZ\n"
     ]
    },
    {
     "name": "stdout",
     "output_type": "stream",
     "text": [
      "Tumor:  BS_8JFMP1T1 cf808536-88c7-48c2-8853-8fdeb4731dcc.cram Normal: BS_RK06RAFZ 54ca24fd-840d-4c6a-a3a8-15ccbaa41c8c.cram Task:d9e6dce0-088b-47e2-8eb0-2f042ec6a964\n"
     ]
    },
    {
     "name": "stderr",
     "output_type": "stream",
     "text": [
      "Found related cram d3c9c0be-733e-40a7-a0bd-4a8c495449da.cram for BS_A9S5HT6P\n",
      "Found related cram 99b9e17b-205b-4127-85c9-9ceb21e49bbb.cram for BS_JQDT3FKQ\n"
     ]
    },
    {
     "name": "stdout",
     "output_type": "stream",
     "text": [
      "Tumor:  BS_A9S5HT6P d3c9c0be-733e-40a7-a0bd-4a8c495449da.cram Normal: BS_JQDT3FKQ 99b9e17b-205b-4127-85c9-9ceb21e49bbb.cram Task:85aeb7db-86f8-4c4a-85ec-efa3ac99b81b\n"
     ]
    },
    {
     "name": "stderr",
     "output_type": "stream",
     "text": [
      "Found related cram 76b24a19-39a8-4a5a-bcf8-cf26c5312502.cram for BS_P8WN8XEQ\n",
      "Found related cram 59ad1170-d8fe-475c-ab6e-833be15bd005.cram for BS_GWFF9E3C\n"
     ]
    },
    {
     "name": "stdout",
     "output_type": "stream",
     "text": [
      "Tumor:  BS_P8WN8XEQ 76b24a19-39a8-4a5a-bcf8-cf26c5312502.cram Normal: BS_GWFF9E3C 59ad1170-d8fe-475c-ab6e-833be15bd005.cram Task:bfc3e69f-3565-4681-ba94-247dc4f48295\n"
     ]
    },
    {
     "name": "stderr",
     "output_type": "stream",
     "text": [
      "Found related cram c3ce6d3f-f4da-4e6b-b99e-51b5f654fbae.cram for BS_823V5X6Z\n",
      "Found related cram 87028931-de5e-4824-931c-34748ef8e3e1.cram for BS_872YDFKD\n"
     ]
    },
    {
     "name": "stdout",
     "output_type": "stream",
     "text": [
      "Tumor:  BS_823V5X6Z c3ce6d3f-f4da-4e6b-b99e-51b5f654fbae.cram Normal: BS_872YDFKD 87028931-de5e-4824-931c-34748ef8e3e1.cram Task:e11a3166-a373-4128-935a-8f1db4e4b9cf\n"
     ]
    },
    {
     "name": "stderr",
     "output_type": "stream",
     "text": [
      "Found related cram ae1ebf7a-dbb4-4562-b22f-80701132abdb.cram for BS_K2G05P1M\n",
      "Found related cram 937dd640-da3e-45f2-8741-da3cf65414e5.cram for BS_WME3JQ4Q\n"
     ]
    },
    {
     "name": "stdout",
     "output_type": "stream",
     "text": [
      "Tumor:  BS_K2G05P1M ae1ebf7a-dbb4-4562-b22f-80701132abdb.cram Normal: BS_WME3JQ4Q 937dd640-da3e-45f2-8741-da3cf65414e5.cram Task:30f36f7a-bc98-4993-902e-2f35979ee560\n"
     ]
    },
    {
     "name": "stderr",
     "output_type": "stream",
     "text": [
      "Found related cram c2ac86fb-a627-47fd-a22b-f06e9213e3e5.cram for BS_W2QCHQ7E\n",
      "Found related cram 735d4f5c-ba79-4c5e-815e-cc24e82668de.cram for BS_ZY319KJ4\n"
     ]
    },
    {
     "name": "stdout",
     "output_type": "stream",
     "text": [
      "Tumor:  BS_W2QCHQ7E c2ac86fb-a627-47fd-a22b-f06e9213e3e5.cram Normal: BS_ZY319KJ4 735d4f5c-ba79-4c5e-815e-cc24e82668de.cram Task:2a2e5e3e-8edf-4308-829b-0fbde290130b\n"
     ]
    },
    {
     "name": "stderr",
     "output_type": "stream",
     "text": [
      "Found related cram 68fc48d4-0fcc-4189-99eb-edcced8adc95.cram for BS_MDVMT75X\n",
      "Found related cram 81321f6a-ef10-4013-abed-a314a56f5460.cram for BS_1G71S350\n"
     ]
    },
    {
     "name": "stdout",
     "output_type": "stream",
     "text": [
      "Tumor:  BS_MDVMT75X 68fc48d4-0fcc-4189-99eb-edcced8adc95.cram Normal: BS_1G71S350 81321f6a-ef10-4013-abed-a314a56f5460.cram Task:3960ab51-113f-4a6b-8951-d2ad883be3c2\n"
     ]
    },
    {
     "name": "stderr",
     "output_type": "stream",
     "text": [
      "Found related cram d21ce221-e9ad-4efc-ad89-e12a54f56d94.cram for BS_TF6H437Q\n",
      "Found related cram fdd351f1-2894-4662-bd7f-1b3960e271aa.cram for BS_VA9JGYAX\n"
     ]
    },
    {
     "name": "stdout",
     "output_type": "stream",
     "text": [
      "Tumor:  BS_TF6H437Q d21ce221-e9ad-4efc-ad89-e12a54f56d94.cram Normal: BS_VA9JGYAX fdd351f1-2894-4662-bd7f-1b3960e271aa.cram Task:c54c2760-a565-476e-8d42-43f5094b5de0\n"
     ]
    },
    {
     "name": "stderr",
     "output_type": "stream",
     "text": [
      "Found related cram 55a2b335-6fad-489a-b2c0-5138d3b447e9.cram for BS_MVC1NCZX\n",
      "Found related cram 30ce9d1f-69e6-41fd-9803-0fc62e05f9d8.cram for BS_Y8FH8822\n"
     ]
    },
    {
     "name": "stdout",
     "output_type": "stream",
     "text": [
      "Tumor:  BS_MVC1NCZX 55a2b335-6fad-489a-b2c0-5138d3b447e9.cram Normal: BS_Y8FH8822 30ce9d1f-69e6-41fd-9803-0fc62e05f9d8.cram Task:4fd56b89-7f49-42e1-8f28-61a45c1c7f87\n"
     ]
    },
    {
     "name": "stderr",
     "output_type": "stream",
     "text": [
      "Found related cram a2fcfbc6-6970-48c7-9a6e-81e53dc72ef8.cram for BS_BBCM52QE\n",
      "Found related cram c7fb8cf4-8b6d-4b9a-af71-438073085939.cram for BS_GFKX8YM0\n"
     ]
    },
    {
     "name": "stdout",
     "output_type": "stream",
     "text": [
      "Tumor:  BS_BBCM52QE a2fcfbc6-6970-48c7-9a6e-81e53dc72ef8.cram Normal: BS_GFKX8YM0 c7fb8cf4-8b6d-4b9a-af71-438073085939.cram Task:8f6b9e03-2672-43b7-a908-80929ad87f84\n"
     ]
    },
    {
     "name": "stderr",
     "output_type": "stream",
     "text": [
      "Found related cram 974a5ec7-3147-4270-b789-4f836d21cfee.cram for BS_EP25TTAG\n",
      "Found related cram 2d3aafd9-3d70-48f9-bc23-e2d962ec4d2a.cram for BS_35M8GBJ4\n"
     ]
    },
    {
     "name": "stdout",
     "output_type": "stream",
     "text": [
      "Tumor:  BS_EP25TTAG 974a5ec7-3147-4270-b789-4f836d21cfee.cram Normal: BS_35M8GBJ4 2d3aafd9-3d70-48f9-bc23-e2d962ec4d2a.cram Task:57cb7359-25d1-48f2-8f8b-4e977d6aead4\n"
     ]
    },
    {
     "name": "stderr",
     "output_type": "stream",
     "text": [
      "Found related cram ac001569-a8e6-4493-943b-7c688969bb29.cram for BS_9DM8H1RX\n",
      "Found related cram 8953139f-84f4-4102-a404-ef1bd0ea8b13.cram for BS_CCZZ0NQF\n"
     ]
    },
    {
     "name": "stdout",
     "output_type": "stream",
     "text": [
      "Tumor:  BS_9DM8H1RX ac001569-a8e6-4493-943b-7c688969bb29.cram Normal: BS_CCZZ0NQF 8953139f-84f4-4102-a404-ef1bd0ea8b13.cram Task:fcaab582-6919-43c7-904c-2f2d1d1610b3\n"
     ]
    },
    {
     "name": "stderr",
     "output_type": "stream",
     "text": [
      "Found related cram 70caabbd-d41c-474e-86c7-fcb5bd51f351.cram for BS_T8C13KNH\n",
      "Found related cram 0c64e34e-f4fd-487e-acc5-fc57c3c244d1.cram for BS_E951SZ7T\n"
     ]
    },
    {
     "name": "stdout",
     "output_type": "stream",
     "text": [
      "Tumor:  BS_T8C13KNH 70caabbd-d41c-474e-86c7-fcb5bd51f351.cram Normal: BS_E951SZ7T 0c64e34e-f4fd-487e-acc5-fc57c3c244d1.cram Task:22dcb7f1-a004-461f-b086-96dc2d9580aa\n"
     ]
    },
    {
     "name": "stderr",
     "output_type": "stream",
     "text": [
      "Found related cram d1b4a15d-4bfb-4b00-98e6-06984ae134db.cram for BS_H8E4K1DT\n",
      "Found related cram 8e40d92a-5eb4-4baa-b002-e10e7b2c3a10.cram for BS_PVJXA07K\n"
     ]
    },
    {
     "name": "stdout",
     "output_type": "stream",
     "text": [
      "Tumor:  BS_H8E4K1DT d1b4a15d-4bfb-4b00-98e6-06984ae134db.cram Normal: BS_PVJXA07K 8e40d92a-5eb4-4baa-b002-e10e7b2c3a10.cram Task:8102b9c1-b9aa-4ba3-b50a-89c05b09b834\n"
     ]
    },
    {
     "name": "stderr",
     "output_type": "stream",
     "text": [
      "Found related cram b461e9c4-7916-4049-b686-38760eeb4e1c.cram for BS_3ZASRA3A\n",
      "Found related cram 00ad0b7b-ee97-4074-ab17-62d8bbfaec86.cram for BS_SYGXZY9V\n"
     ]
    },
    {
     "name": "stdout",
     "output_type": "stream",
     "text": [
      "Tumor:  BS_3ZASRA3A b461e9c4-7916-4049-b686-38760eeb4e1c.cram Normal: BS_SYGXZY9V 00ad0b7b-ee97-4074-ab17-62d8bbfaec86.cram Task:b5a715f2-4c45-4e7f-9371-b20491a2c92c\n"
     ]
    },
    {
     "name": "stderr",
     "output_type": "stream",
     "text": [
      "Found related cram dc47fb8b-4670-4225-a69d-0e25e46295dd.cram for BS_SK4H5MJQ\n",
      "Found related cram c24f5f73-fde4-48e3-8c50-870c5d73c1d5.cram for BS_VNBX1SEV\n"
     ]
    },
    {
     "name": "stdout",
     "output_type": "stream",
     "text": [
      "Tumor:  BS_SK4H5MJQ dc47fb8b-4670-4225-a69d-0e25e46295dd.cram Normal: BS_VNBX1SEV c24f5f73-fde4-48e3-8c50-870c5d73c1d5.cram Task:5cb5a579-db15-47f4-9f86-a68f23e67e1e\n"
     ]
    },
    {
     "name": "stderr",
     "output_type": "stream",
     "text": [
      "Found related cram ad73d66a-bf59-4d0c-bafd-6b1dbedf5d84.cram for BS_QA0PBKY1\n",
      "Found related cram 0686d438-e6d7-4501-af21-8bbea932d092.cram for BS_SW0HDKGJ\n"
     ]
    },
    {
     "name": "stdout",
     "output_type": "stream",
     "text": [
      "Tumor:  BS_QA0PBKY1 ad73d66a-bf59-4d0c-bafd-6b1dbedf5d84.cram Normal: BS_SW0HDKGJ 0686d438-e6d7-4501-af21-8bbea932d092.cram Task:1d983f0e-0933-4b74-986a-6124799c85ad\n"
     ]
    },
    {
     "name": "stderr",
     "output_type": "stream",
     "text": [
      "Found related cram 17a34e41-50a4-480a-89d4-7c218606d88c.cram for BS_BM95DGCQ\n",
      "Found related cram a6b1eaf6-f670-4d27-aac3-ce8bf845412e.cram for BS_NF8F99FQ\n"
     ]
    },
    {
     "name": "stdout",
     "output_type": "stream",
     "text": [
      "Tumor:  BS_BM95DGCQ 17a34e41-50a4-480a-89d4-7c218606d88c.cram Normal: BS_NF8F99FQ a6b1eaf6-f670-4d27-aac3-ce8bf845412e.cram Task:9f829a57-1c2e-40fa-ab28-80343467e693\n"
     ]
    },
    {
     "name": "stderr",
     "output_type": "stream",
     "text": [
      "Found related cram db6fe558-7c22-4e4e-9184-5e362a47b90b.cram for BS_X2G3JMM1\n",
      "Found related cram eb1d245d-a17e-4f34-8ea1-87d67ae373fc.cram for BS_5Y6EK1XC\n"
     ]
    },
    {
     "name": "stdout",
     "output_type": "stream",
     "text": [
      "Tumor:  BS_X2G3JMM1 db6fe558-7c22-4e4e-9184-5e362a47b90b.cram Normal: BS_5Y6EK1XC eb1d245d-a17e-4f34-8ea1-87d67ae373fc.cram Task:0a746a1f-ce55-4f0c-8378-be1f351d4b61\n"
     ]
    },
    {
     "name": "stderr",
     "output_type": "stream",
     "text": [
      "cram for BS_7F596PRZ not in kfdrc-harmonization/sd-bhjxbdqk-08, copying from kids-first-drc/sd-bhjxbdqk-har\n",
      "Did not find cram files for BS_7F596PRZ\n",
      "cram for BS_8E0JGN14 not in kfdrc-harmonization/sd-bhjxbdqk-08, copying from kids-first-drc/sd-bhjxbdqk-har\n",
      "Found related cram 939bfa9a-645a-412e-8b39-2628baec57f1.cram for BS_8E0JGN14\n",
      "ERROR: One or more cram files missing for pair BS_7F596PRZ BS_8E0JGN14\n",
      "cram for BS_0PQGSCJA not in kfdrc-harmonization/sd-bhjxbdqk-08, copying from kids-first-drc/sd-bhjxbdqk-har\n",
      "Found related cram ee35cbf9-b162-46bb-ac45-3dc141079252.cram for BS_0PQGSCJA\n",
      "cram for BS_G3PJTB8B not in kfdrc-harmonization/sd-bhjxbdqk-08, copying from kids-first-drc/sd-bhjxbdqk-har\n",
      "Found related cram 3c367e53-984b-4e49-9c95-c14d0e60ecb9.cram for BS_G3PJTB8B\n"
     ]
    },
    {
     "name": "stdout",
     "output_type": "stream",
     "text": [
      "Tumor:  BS_0PQGSCJA ee35cbf9-b162-46bb-ac45-3dc141079252.cram Normal: BS_G3PJTB8B 3c367e53-984b-4e49-9c95-c14d0e60ecb9.cram Task:4fd76d9b-0ddd-41da-8d12-d822a6f42f9c\n"
     ]
    },
    {
     "name": "stderr",
     "output_type": "stream",
     "text": [
      "cram for BS_C19DFVR5 not in kfdrc-harmonization/sd-bhjxbdqk-08, copying from kids-first-drc/sd-bhjxbdqk-har\n",
      "Found related cram 4684e161-6e56-4471-9d9d-e1aa673268c7.cram for BS_C19DFVR5\n",
      "cram for BS_N2A2JA32 not in kfdrc-harmonization/sd-bhjxbdqk-08, copying from kids-first-drc/sd-bhjxbdqk-har\n",
      "Found related cram 2f6187f9-4dec-4e72-ad86-84a7fe9b1389.cram for BS_N2A2JA32\n"
     ]
    },
    {
     "name": "stdout",
     "output_type": "stream",
     "text": [
      "Tumor:  BS_C19DFVR5 4684e161-6e56-4471-9d9d-e1aa673268c7.cram Normal: BS_N2A2JA32 2f6187f9-4dec-4e72-ad86-84a7fe9b1389.cram Task:e77f8aff-3ea5-495d-a5a7-e0f9efd3e38b\n"
     ]
    },
    {
     "name": "stderr",
     "output_type": "stream",
     "text": [
      "cram for BS_D59VEERR not in kfdrc-harmonization/sd-bhjxbdqk-08, copying from kids-first-drc/sd-bhjxbdqk-har\n",
      "Found related cram b2d665b2-f0cb-4887-8f06-06d57f607187.cram for BS_D59VEERR\n",
      "cram for BS_5T9PYCRT not in kfdrc-harmonization/sd-bhjxbdqk-08, copying from kids-first-drc/sd-bhjxbdqk-har\n",
      "Found related cram 7e5440e2-9d47-4db0-b9f5-4dfa6df19111.cram for BS_5T9PYCRT\n"
     ]
    },
    {
     "name": "stdout",
     "output_type": "stream",
     "text": [
      "Tumor:  BS_D59VEERR b2d665b2-f0cb-4887-8f06-06d57f607187.cram Normal: BS_5T9PYCRT 7e5440e2-9d47-4db0-b9f5-4dfa6df19111.cram Task:0d21748f-c747-43ff-b5b8-5acd7f007d73\n"
     ]
    },
    {
     "name": "stderr",
     "output_type": "stream",
     "text": [
      "cram for BS_KSRYKCDE not in kfdrc-harmonization/sd-bhjxbdqk-08, copying from kids-first-drc/sd-bhjxbdqk-har\n",
      "Found related cram 635bfcf0-5f18-441f-820f-b6c537c7c12a.cram for BS_KSRYKCDE\n",
      "cram for BS_T3FD64Z7 not in kfdrc-harmonization/sd-bhjxbdqk-08, copying from kids-first-drc/sd-bhjxbdqk-har\n",
      "Found related cram e24fe25d-996f-4993-a9c2-f8e240c28ad8.cram for BS_T3FD64Z7\n"
     ]
    },
    {
     "name": "stdout",
     "output_type": "stream",
     "text": [
      "Tumor:  BS_KSRYKCDE 635bfcf0-5f18-441f-820f-b6c537c7c12a.cram Normal: BS_T3FD64Z7 e24fe25d-996f-4993-a9c2-f8e240c28ad8.cram Task:2c218ec5-2e28-480d-9d62-188dfae800dd\n"
     ]
    },
    {
     "name": "stderr",
     "output_type": "stream",
     "text": [
      "cram for BS_41SWNWAG not in kfdrc-harmonization/sd-bhjxbdqk-08, copying from kids-first-drc/sd-bhjxbdqk-har\n",
      "Found related cram e3be2a48-7cf8-4977-aca0-741b5a6e1455.cram for BS_41SWNWAG\n",
      "cram for BS_NHEDGJ66 not in kfdrc-harmonization/sd-bhjxbdqk-08, copying from kids-first-drc/sd-bhjxbdqk-har\n",
      "Found related cram 47cddf79-c7cf-4ed5-8fea-fbdc4e83cec8.cram for BS_NHEDGJ66\n"
     ]
    },
    {
     "name": "stdout",
     "output_type": "stream",
     "text": [
      "Tumor:  BS_41SWNWAG e3be2a48-7cf8-4977-aca0-741b5a6e1455.cram Normal: BS_NHEDGJ66 47cddf79-c7cf-4ed5-8fea-fbdc4e83cec8.cram Task:cd7611fd-d1ad-446a-80c5-bf2ef9bcbacc\n"
     ]
    },
    {
     "name": "stderr",
     "output_type": "stream",
     "text": [
      "cram for BS_BS5X4H0Y not in kfdrc-harmonization/sd-bhjxbdqk-08, copying from kids-first-drc/sd-bhjxbdqk-har\n",
      "Found related cram 37feb8ad-5a56-49fe-9c38-ab8d38cbd896.cram for BS_BS5X4H0Y\n",
      "cram for BS_ZAN8EYCC not in kfdrc-harmonization/sd-bhjxbdqk-08, copying from kids-first-drc/sd-bhjxbdqk-har\n",
      "Found related cram 1611dc06-ce98-4cf3-9e45-0a1796d30b57.cram for BS_ZAN8EYCC\n"
     ]
    },
    {
     "name": "stdout",
     "output_type": "stream",
     "text": [
      "Tumor:  BS_BS5X4H0Y 37feb8ad-5a56-49fe-9c38-ab8d38cbd896.cram Normal: BS_ZAN8EYCC 1611dc06-ce98-4cf3-9e45-0a1796d30b57.cram Task:ab986dc9-cb24-447e-a7a3-334d91494962\n"
     ]
    },
    {
     "name": "stderr",
     "output_type": "stream",
     "text": [
      "cram for BS_10HD18B8 not in kfdrc-harmonization/sd-bhjxbdqk-08, copying from kids-first-drc/sd-bhjxbdqk-har\n",
      "Found related cram e73b1558-8f8c-4800-9160-53c6225b6ded.cram for BS_10HD18B8\n",
      "cram for BS_1K0Q5YZY not in kfdrc-harmonization/sd-bhjxbdqk-08, copying from kids-first-drc/sd-bhjxbdqk-har\n",
      "Found related cram 35eb7ab9-120d-4bbd-aadb-cb0d6c044013.cram for BS_1K0Q5YZY\n"
     ]
    },
    {
     "name": "stdout",
     "output_type": "stream",
     "text": [
      "Tumor:  BS_10HD18B8 e73b1558-8f8c-4800-9160-53c6225b6ded.cram Normal: BS_1K0Q5YZY 35eb7ab9-120d-4bbd-aadb-cb0d6c044013.cram Task:849a4c8e-5f39-4d5d-82bf-f56857d1a08f\n"
     ]
    },
    {
     "name": "stderr",
     "output_type": "stream",
     "text": [
      "cram for BS_H0638GZT not in kfdrc-harmonization/sd-bhjxbdqk-08, copying from kids-first-drc/sd-bhjxbdqk-har\n",
      "Found related cram 901dfbd7-c432-42c1-9162-2993293ccba4.cram for BS_H0638GZT\n",
      "cram for BS_H4KBJDGN not in kfdrc-harmonization/sd-bhjxbdqk-08, copying from kids-first-drc/sd-bhjxbdqk-har\n",
      "Found related cram 8856a489-e62c-4fbe-8adf-0d845f6e1b43.cram for BS_H4KBJDGN\n"
     ]
    },
    {
     "name": "stdout",
     "output_type": "stream",
     "text": [
      "Tumor:  BS_H0638GZT 901dfbd7-c432-42c1-9162-2993293ccba4.cram Normal: BS_H4KBJDGN 8856a489-e62c-4fbe-8adf-0d845f6e1b43.cram Task:b10aa9ab-b65d-4460-b3b8-b1307fdc01d6\n"
     ]
    },
    {
     "name": "stderr",
     "output_type": "stream",
     "text": [
      "cram for BS_B9QP40ER not in kfdrc-harmonization/sd-bhjxbdqk-08, copying from kids-first-drc/sd-bhjxbdqk-har\n",
      "Found related cram 6ff66115-d115-4853-9e1b-a0610f97e08b.cram for BS_B9QP40ER\n",
      "cram for BS_THDBV4G0 not in kfdrc-harmonization/sd-bhjxbdqk-08, copying from kids-first-drc/sd-bhjxbdqk-har\n",
      "Found related cram 829fc6d0-a566-4820-83e2-e9940b12cb9a.cram for BS_THDBV4G0\n"
     ]
    },
    {
     "name": "stdout",
     "output_type": "stream",
     "text": [
      "Tumor:  BS_B9QP40ER 6ff66115-d115-4853-9e1b-a0610f97e08b.cram Normal: BS_THDBV4G0 829fc6d0-a566-4820-83e2-e9940b12cb9a.cram Task:209e1b8a-8950-445b-854e-c20e3eb5217e\n"
     ]
    },
    {
     "name": "stderr",
     "output_type": "stream",
     "text": [
      "cram for BS_G9MQM1KK not in kfdrc-harmonization/sd-bhjxbdqk-08, copying from kids-first-drc/sd-bhjxbdqk-har\n",
      "Found related cram baaf3a17-848c-4871-95a4-827acce2bcba.cram for BS_G9MQM1KK\n",
      "cram for BS_XHT3F34T not in kfdrc-harmonization/sd-bhjxbdqk-08, copying from kids-first-drc/sd-bhjxbdqk-har\n",
      "Found related cram 06e9b62a-c864-4be0-9801-ecbfcd71b093.cram for BS_XHT3F34T\n"
     ]
    },
    {
     "name": "stdout",
     "output_type": "stream",
     "text": [
      "Tumor:  BS_G9MQM1KK baaf3a17-848c-4871-95a4-827acce2bcba.cram Normal: BS_XHT3F34T 06e9b62a-c864-4be0-9801-ecbfcd71b093.cram Task:b1719585-1683-48f0-b4ea-b76cf78f1708\n"
     ]
    },
    {
     "name": "stderr",
     "output_type": "stream",
     "text": [
      "cram for BS_T7WMJ08W not in kfdrc-harmonization/sd-bhjxbdqk-08, copying from kids-first-drc/sd-bhjxbdqk-har\n",
      "Found related cram f694cc2c-6bba-483b-a9dd-a2cc284ae199.cram for BS_T7WMJ08W\n",
      "cram for BS_DDH5HKJK not in kfdrc-harmonization/sd-bhjxbdqk-08, copying from kids-first-drc/sd-bhjxbdqk-har\n",
      "Found related cram de0b8de3-e9d2-441f-bb20-29d67b478325.cram for BS_DDH5HKJK\n"
     ]
    },
    {
     "name": "stdout",
     "output_type": "stream",
     "text": [
      "Tumor:  BS_T7WMJ08W f694cc2c-6bba-483b-a9dd-a2cc284ae199.cram Normal: BS_DDH5HKJK de0b8de3-e9d2-441f-bb20-29d67b478325.cram Task:958b7f4a-affc-49c8-b4ab-c0427b376271\n"
     ]
    }
   ],
   "source": [
    "master_file = '/Users/brownm28/Documents/2018-Aug-15_cbttc_launch/2018-Oct-17_sample_update/missed_samp_tbl.txt'\n",
    "bsid_skip_file = 'none'\n",
    "kfdrc_url = 'https://kf-api-dataservice.kidsfirstdrc.org'\n",
    "mh = open(master_file)\n",
    "cur_project = 'kfdrc-harmonization/sd-bhjxbdqk-08'\n",
    "source_project = 'kids-first-drc/sd-bhjxbdqk-har'\n",
    "head = next(mh)\n",
    "bs_id_skip = {}\n",
    "if bsid_skip_file != 'none':\n",
    "    for bs_id in open(bsid_skip_file):\n",
    "        bs_id_skip[bs_id.rstrip('\\n')] = 0\n",
    "ref_dict = get_refs(api, cur_project)\n",
    "for line in (mh):\n",
    "    info = line.rstrip('\\n').split('\\t')\n",
    "    tumor_id = info[3]\n",
    "    normal_id = info[6]\n",
    "    if tumor_id in bs_id_skip or normal_id in bs_id_skip:\n",
    "        sys.stderr.write('BS ID to skip found in line, skipping!\\n' + line)\n",
    "        continue\n",
    "    tumor_cram_obj = find_copy_cram(cur_project, source_project, tumor_id)\n",
    "    normal_cram_obj = find_copy_cram(cur_project, source_project, normal_id)\n",
    "    if tumor_cram_obj != tumor_id and normal_cram_obj != normal_id:\n",
    "        create_task(tumor_id, normal_id, tumor_cram_obj, normal_cram_obj, api, cur_project, ref_dict)\n",
    "    else:\n",
    "        sys.stderr.write('ERROR: One or more cram files missing for pair ' + tumor_id + ' ' + normal_id + '\\n')"
   ]
  },
  {
   "cell_type": "code",
   "execution_count": null,
   "metadata": {},
   "outputs": [],
   "source": []
  }
 ],
 "metadata": {
  "kernelspec": {
   "display_name": "Python 3",
   "language": "python",
   "name": "python3"
  },
  "language_info": {
   "codemirror_mode": {
    "name": "ipython",
    "version": 3
   },
   "file_extension": ".py",
   "mimetype": "text/x-python",
   "name": "python",
   "nbconvert_exporter": "python",
   "pygments_lexer": "ipython3",
   "version": "3.6.5"
  }
 },
 "nbformat": 4,
 "nbformat_minor": 2
}
