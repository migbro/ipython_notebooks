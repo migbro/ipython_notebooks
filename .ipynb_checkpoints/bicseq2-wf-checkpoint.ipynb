{
 "cells": [
  {
   "cell_type": "code",
   "execution_count": 1,
   "metadata": {},
   "outputs": [],
   "source": [
    "#!/usr/bin/env python3\n",
    "import sevenbridges as sbg\n",
    "from sevenbridges.errors import SbgError\n",
    "from sevenbridges.http.error_handlers import rate_limit_sleeper, maintenance_sleeper\n",
    "import sys\n",
    "import re\n",
    "import concurrent.futures\n",
    "import pdb\n",
    "config = sbg.Config(profile='turbo')\n",
    "api = sbg.Api(config=config, error_handlers=[rate_limit_sleeper, maintenance_sleeper])"
   ]
  },
  {
   "cell_type": "code",
   "execution_count": 19,
   "metadata": {},
   "outputs": [],
   "source": [
    "def get_refs(api, project, read_len):\n",
    "    ref_dict = {}\n",
    "    ref_dict['reference'] = api.files.query(project=project, names=['Homo_sapiens_assembly38.fasta'])[0]\n",
    "    ref_dict['ref_chrs'] = api.files.query(project=project, names=['GRCh38_everyChrs.tar.gz'])[0]\n",
    "    ref_dict['interval_list'] = api.files.query(project=project, names=['GRCh38.d1.vd1.fa.150mer.merged.bed'])[0]\n",
    "    ref_dict['rlen'] = read_len\n",
    "    return ref_dict"
   ]
  },
  {
   "cell_type": "code",
   "execution_count": 20,
   "metadata": {},
   "outputs": [],
   "source": [
    "def draft_task(case_id):\n",
    "    try:\n",
    "        for bs_id in cram_meta[case_id]['Tumor']:\n",
    "            in_dict = {}\n",
    "            for key in ref_objs:\n",
    "                in_dict[key] = ref_objs[key]\n",
    "            norm_bs_id = list(cram_meta[case_id]['Normal'].keys())[0]\n",
    "            task_name = 'BIC-SEQ2: ' + case_id + \" \" + bs_id + \" \" + norm_bs_id\n",
    "            tum_cram_id = cram_meta[case_id]['Tumor'][bs_id]\n",
    "            norm_cram_id = cram_meta[case_id]['Normal'][norm_bs_id]\n",
    "            in_dict['input_tumor_align'] = cram_objs[tum_cram_id]\n",
    "            in_dict['input_normal_align'] = cram_objs[norm_cram_id]\n",
    "            #pdb.set_trace()\n",
    "            task = api.tasks.create(name=task_name, project=project, app=app_name, inputs=in_dict, run=False)\n",
    "            task.inputs['output_basename'] = task.id\n",
    "            task.save()\n",
    "            return '\\t'.join((task_name, task.id)) + '\\n'\n",
    "    except Exception as e:\n",
    "        sys.stderr.write(str(e) + '\\n')\n",
    "        sys.stderr.write('Failed to create task for ' + task_name + '\\n')\n",
    "        exit(1)\n"
   ]
  },
  {
   "cell_type": "code",
   "execution_count": 21,
   "metadata": {},
   "outputs": [
    {
     "name": "stderr",
     "output_type": "stream",
     "text": [
      "50 task sets drafted, 9820 api calls left\n",
      "100 task sets drafted, 9677 api calls left\n",
      "150 task sets drafted, 9527 api calls left\n"
     ]
    }
   ],
   "source": [
    "project='kfdrc-harmonization/proteomics-bic-seq2'\n",
    "read_len = 150\n",
    "app_name = project + '/kfdrc-bic-seq2-workflow'\n",
    "manifest = open('/Users/brownm28/Documents/2019-May-17_proteomics_bicseq2/1558118472415-manifest.csv')\n",
    "out_task = open('/Users/brownm28/Documents/2019-May-17_proteomics_bicseq2/tasks_drafted.txt', 'w')\n",
    "cram_meta = {}\n",
    "file_id_list = []\n",
    "head = next(manifest)\n",
    "c_idx = 18\n",
    "bs_idx = 12\n",
    "s_idx = 10\n",
    "for line in manifest:\n",
    "    info = line.rstrip('\\n').split(',')\n",
    "    (case_id, bs_id, stype) = (info[c_idx], info[bs_idx], info[s_idx])\n",
    "    file_id_list.append(info[0])\n",
    "    if case_id not in cram_meta:\n",
    "        cram_meta[case_id] = {}\n",
    "    if stype not in cram_meta[case_id]:\n",
    "        cram_meta[case_id][stype] = {}\n",
    "    cram_meta[case_id][stype][bs_id] = info[0]\n",
    "file_bulk = []\n",
    "x = 1\n",
    "max_j = 100\n",
    "total = len(file_id_list)\n",
    "for i in range(0, total, max_j):\n",
    "    uset = i + max_j\n",
    "    if uset > total:\n",
    "        uset = total\n",
    "    file_bulk.extend(api.files.bulk_get(files=file_id_list[i:uset]))\n",
    "cram_objs = {}\n",
    "for file_res in file_bulk:\n",
    "    cram_objs[file_res.resource.id] = file_res.resource\n",
    "    \n",
    "ref_objs = get_refs(api, project, read_len)\n",
    "x = 1\n",
    "n = 50\n",
    "with concurrent.futures.ThreadPoolExecutor(8) as executor:\n",
    "    results = {executor.submit(draft_task, case_id): case_id for case_id in cram_meta}\n",
    "    for result in concurrent.futures.as_completed(results):\n",
    "        out_task.write(result.result())\n",
    "        if x % n == 0:\n",
    "            sys.stderr.write(str(x) + ' task sets drafted, ' + str(api.remaining) + ' api calls left\\n')\n",
    "        x += 1\n"
   ]
  },
  {
   "cell_type": "markdown",
   "metadata": {},
   "source": [
    "## Copy metadata from tumor cram to outputs"
   ]
  },
  {
   "cell_type": "code",
   "execution_count": 5,
   "metadata": {},
   "outputs": [],
   "source": [
    "def tag_outputs(task):\n",
    "    try:\n",
    "        metadata = task.inputs['input_tumor_align'].metadata\n",
    "        norm_bs_id = task.inputs['input_normal_align'].metadata['Kids First Biospecimen ID']\n",
    "        for output in task.outputs:\n",
    "            cur_file = task.outputs[output]\n",
    "            for key in metadata:\n",
    "                if key not in black_list:\n",
    "                    cur_file.metadata[key] = metadata[key]\n",
    "            cur_file.metadata['Kids First Biospecimen ID Tumor'] = task.inputs['input_tumor_align'].metadata['Kids First Biospecimen ID']\n",
    "            cur_file.metadata['Kids First Biospecimen ID Normal'] = norm_bs_id\n",
    "            cur_file.save()\n",
    "    except Exception as e:\n",
    "        print(e)\n"
   ]
  },
  {
   "cell_type": "code",
   "execution_count": 6,
   "metadata": {},
   "outputs": [],
   "source": [
    "project='kfdrc-harmonization/proteomics-bic-seq2'\n",
    "prefix = \"BIC-SEQ2:\"\n",
    "tasks = api.tasks.query(project=\"kfdrc-harmonization/proteomics-bic-seq2\", status=\"COMPLETED\").all()\n",
    "black_list = ['sample_id', 'aliquot_id', 'Kids First Biospecimen ID', 'sample_type']\n",
    "with concurrent.futures.ThreadPoolExecutor(8) as executor:\n",
    "    results = {executor.submit(tag_outputs, task): task for task in tasks} \n",
    "        "
   ]
  },
  {
   "cell_type": "markdown",
   "metadata": {},
   "source": [
    "## Assess failed tasks"
   ]
  },
  {
   "cell_type": "code",
   "execution_count": 25,
   "metadata": {},
   "outputs": [
    {
     "name": "stdout",
     "output_type": "stream",
     "text": [
      "77656683-f06e-425a-b7a4-29f5c31a4f24\n",
      "7b5b391b-19a7-493b-a1d2-88bf48b10669\n",
      "01a62537-ccb9-48f1-bf62-5c1161966388\n",
      "c5ff6a45-5dff-40a2-9eca-aff1ee8b2f6f\n",
      "fb332b06-f6b6-47a5-b5d2-b9ae29d9b730\n",
      "c4f818f6-bda8-4d6d-9c52-8c21c72ffb4e\n",
      "f060a561-fc9e-4273-838e-8859daa58772\n",
      "5da3de1f-7fb2-446d-acae-e69e307b3441\n",
      "fe7fc999-64a2-4d8f-ad8e-a38b8967495f\n",
      "794d79db-f185-49f1-bc62-f5709255aa66\n",
      "820c0ad2-5ed4-4e89-b509-efebd4d21115\n",
      "b6a0968f-8294-40b5-9d58-d2a1b6c65499\n",
      "7b6620da-bb63-43a8-874d-7daba2868ebe\n",
      "95a13810-a92f-451c-9f6b-554645056b49\n",
      "ecc59649-a797-4daa-bfa1-1b211fd3eda5\n",
      "a510bb99-8d56-44e7-b987-2e8fdb71f2dd\n",
      "2d33e964-a033-41a1-8bbb-f704c3f53c93\n",
      "334456b7-bfec-4806-961a-1e05e66b61cd\n",
      "c5ceb0af-fb5b-4045-80bb-715f82f89322\n",
      "f7635469-eb56-45e3-aa6a-42ae5fad1502\n",
      "08861d17-6e38-4aa1-b607-93cd0f748a8c\n",
      "aca45a5c-dec0-41ab-9330-1c1fd3282b49\n",
      "401bc480-1b5f-49db-b596-c955907fe1bc\n",
      "5958b219-3452-4177-a6c6-6a9dbf042f76\n",
      "6f3907dd-7ff4-4b0f-86e1-2286ab426799\n",
      "39604bec-5d3a-43c7-8607-daee4a03fa47\n",
      "dec382cf-95b3-4e38-bb0e-096a3d0c0be2\n",
      "099cb503-7d8d-4244-b5b0-f701722b9a31\n",
      "4374f92e-e7b6-490a-bfd9-74dd9b25d0e6\n",
      "03ffe8b7-13db-4db0-a5b7-811b972f5dbc\n",
      "9f3c3d02-d76c-4c38-b124-fe8bef713f64\n",
      "7fb230e8-e658-4e5a-964b-ddae2bf87e7a\n",
      "8eb99962-204b-4b35-ace0-6cfe2cd81d76\n",
      "cfd2fa02-905d-41c7-89e3-5c26f4c4d816\n",
      "ca5bb21c-24ca-425d-b78a-a2274404640f\n",
      "cb8a82ae-1ddb-496e-aa7f-7ff0321c6058\n",
      "0e4a5a54-463f-4732-81d9-c7fcc5358a49\n",
      "eb0b6d86-1e75-4692-affe-c812780bce08\n",
      "200328ec-2a0b-445e-96b6-c51018d0b597\n",
      "11cc2947-ac01-4fa4-bd6b-2d5b3bcc923b\n",
      "defade0d-981d-4560-9c13-bd94d8d7e281\n",
      "f953a8f6-8325-4e23-90a9-67c5277bdfde\n",
      "a5293daf-3617-40c1-bcfc-9f6c40342495\n",
      "7c9b25a1-440a-4223-b791-ce6bffcf4ab7\n",
      "90982102-c642-42f9-b37f-65bc3e1b6a9d\n",
      "50591b37-af87-4dfb-b611-a1a1fee4fb8e\n",
      "16f933ae-350e-4f01-a14e-c65d58ca9291\n",
      "6b3d99b5-6364-4988-a624-4802aff98a00\n",
      "eca3421a-1584-49f0-9dab-0c142dd67cf1\n",
      "c45137be-5be6-4957-99de-34aa201fc25b\n"
     ]
    }
   ],
   "source": [
    "project='kfdrc-harmonization/proteomics-bic-seq2'\n",
    "tasks = api.tasks.query(project=project, status=\"FAILED\")\n",
    "for task in tasks:\n",
    "    i = 0\n",
    "    print (task.id)\n",
    "    for job in task.get_execution_details().jobs:\n",
    "        if job.status == 'FAILED':\n",
    "            log_obj = api.files.get(id=job.logs['job.err.log'].id)\n",
    "            log_obj.download('/Users/brownm28/Documents/2019-May-17_proteomics_bicseq2/' + task.id + '_' + job.name + '.' + log_obj.name)"
   ]
  },
  {
   "cell_type": "markdown",
   "metadata": {},
   "source": [
    "## Re-run failed tasks"
   ]
  },
  {
   "cell_type": "code",
   "execution_count": 5,
   "metadata": {},
   "outputs": [],
   "source": [
    "def get_fa_refs(api, project):\n",
    "    ref_dict = {}\n",
    "    ref_dict['reference'] = api.files.query(project=project, names=['Homo_sapiens_assembly38.fasta'])[0]\n",
    "    ref_dict['ref_chrs'] = api.files.query(project=project, names=['GRCh38_everyChrs.tar.gz'])[0]\n",
    "    return ref_dict"
   ]
  },
  {
   "cell_type": "code",
   "execution_count": 6,
   "metadata": {},
   "outputs": [],
   "source": [
    "def get_invtl_refs(api, project):\n",
    "    intvl_dict = {}\n",
    "    intvl_dict['150'] = api.files.query(project=project, names=['GRCh38.d1.vd1.fa.150mer.merged.bed'])[0]\n",
    "    intvl_dict['100'] = api.files.query(project=project, names=['hg38_100bp_gem_mm2_mappability.merged.bed'])[0]\n",
    "    return intvl_dict"
   ]
  },
  {
   "cell_type": "code",
   "execution_count": 7,
   "metadata": {},
   "outputs": [
    {
     "name": "stdout",
     "output_type": "stream",
     "text": [
      "BIC-SEQ2: C28659 BS_HW4MYBZ2 BS_8DTDM1MK\t39ba4d07-2a3c-4202-a02f-dad4540936ab\n",
      "BIC-SEQ2: C82041 BS_ZX1YPQ88 BS_F4V6RWJ9\td288d55c-1bcc-4d34-9847-5f101297bd1b\n",
      "BIC-SEQ2: C33825 BS_16FT8V4B BS_APFT88Y3\t9f2ac3a6-4a6d-4f63-83d9-009a91fe7925\n",
      "BIC-SEQ2: C39606 BS_17AXPP1Y BS_4KXBM5J8\t2f5d2ec4-c082-4d03-8960-dd17f302d333\n",
      "BIC-SEQ2: C71094 BS_S7S6YEHA BS_ZDSXV5N1\td943e27e-60c3-4709-ac59-75a1303481e8\n",
      "BIC-SEQ2: C65559 BS_K14VJ1E3 BS_6PFQJMM3\t518e4efc-c505-403a-8b94-5c5c2aefe850\n",
      "BIC-SEQ2: C70971 BS_MWXDJFWW BS_WCQW99V3\tdad8ef56-dd7d-443f-82a2-86883682f09a\n",
      "BIC-SEQ2: C29151 BS_XSWF2MR1 BS_4RT8H37A\t3f9a8e6c-d546-47e3-bf4e-dc3ea49b2f40\n",
      "BIC-SEQ2: C41451 BS_5Z4XQC9X BS_JNFPEM6F\t6000b8f1-3be5-4309-98c6-3dfa3a673728\n"
     ]
    }
   ],
   "source": [
    "project='kfdrc-harmonization/proteomics-bic-seq2'\n",
    "ref_fa = get_fa_refs(api, project)\n",
    "ref_intvl = get_invtl_refs(api, project)\n",
    "app_name = project + '/kfdrc-bic-seq2-workflow'\n",
    "task_list = open ('/Users/brownm28/Documents/2019-May-17_proteomics_bicseq2/rlen_fail_re-run/task_summary.txt')\n",
    "for line in task_list:\n",
    "    info = line.rstrip('\\n').split('\\t')\n",
    "    task_name = info[0]\n",
    "    old_task_id = info[1]\n",
    "    old_task = api.tasks.get(old_task_id)\n",
    "    t_rlen = info[7]\n",
    "    n_rlen = info[8]\n",
    "    in_dict = {}\n",
    "    for key in ref_fa:\n",
    "        in_dict[key] = ref_fa[key]\n",
    "    in_dict['t_rlen'] = int(t_rlen)\n",
    "    in_dict['n_rlen'] = int(n_rlen)\n",
    "    in_dict['t_interval_list'] = ref_intvl[t_rlen]\n",
    "    in_dict['n_interval_list'] = ref_intvl[n_rlen]\n",
    "    in_dict['input_tumor_align'] = old_task.inputs['input_tumor_align']\n",
    "    in_dict['input_normal_align'] = old_task.inputs['input_normal_align']\n",
    "    task = api.tasks.create(name=task_name, project=project, app=app_name, inputs=in_dict, run=False)\n",
    "    task.inputs['output_basename'] = task.id\n",
    "    task.save()\n",
    "    print ('\\t'.join((task_name, task.id)))\n"
   ]
  },
  {
   "cell_type": "code",
   "execution_count": 8,
   "metadata": {},
   "outputs": [],
   "source": [
    "task_file = open('/Users/brownm28/Documents/2019-May-17_proteomics_bicseq2/rlen_fail_re-run/rerun-tasks.txt')\n",
    "for line in task_file:\n",
    "    (tname, tid) = line.rstrip('\\n').split('\\t')\n",
    "    task = api.tasks.get(tid)\n",
    "    task.run()"
   ]
  },
  {
   "cell_type": "markdown",
   "metadata": {},
   "source": [
    "### Get matched controlfreeC calls"
   ]
  },
  {
   "cell_type": "code",
   "execution_count": null,
   "metadata": {},
   "outputs": [],
   "source": [
    "project = 'kfdrc-harmonization/sd-bhjxbdqk-08'\n",
    "manifest = open('/Users/brownm28/Documents/2019-May-17_proteomics_bicseq2/completed_results.csv')\n",
    "head = next(manifest)\n",
    "for line in manifest:\n",
    "    info = line.rstrip('\\n').split(',')    \n",
    "    flist = api.files.query(project=project, metadata = {'Kids First Biospecimen ID Tumor': info[14]}, tags = ['CONTROLFREEC'] )\n",
    "    pdb.set_trace()\n",
    "    hold=1\n",
    "    print(flist[0].id + '\\t' flist[0].name)\n"
   ]
  },
  {
   "cell_type": "code",
   "execution_count": null,
   "metadata": {},
   "outputs": [],
   "source": []
  }
 ],
 "metadata": {
  "kernelspec": {
   "display_name": "Python 3",
   "language": "python",
   "name": "python3"
  },
  "language_info": {
   "codemirror_mode": {
    "name": "ipython",
    "version": 3
   },
   "file_extension": ".py",
   "mimetype": "text/x-python",
   "name": "python",
   "nbconvert_exporter": "python",
   "pygments_lexer": "ipython3",
   "version": "3.7.0"
  }
 },
 "nbformat": 4,
 "nbformat_minor": 2
}
