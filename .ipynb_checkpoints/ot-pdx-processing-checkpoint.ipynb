{
 "cells": [
  {
   "cell_type": "code",
   "execution_count": null,
   "id": "f042c146",
   "metadata": {},
   "outputs": [],
   "source": [
    "import sevenbridges as sbg\n",
    "from sevenbridges.errors import SbgError\n",
    "from sevenbridges.http.error_handlers import rate_limit_sleeper, maintenance_sleeper\n",
    "import sys\n",
    "import re\n",
    "import concurrent.futures\n",
    "import pdb\n",
    "config = sbg.Config(profile='turbo') # assumes sbg credentials file, use your profile name here\n",
    "api = sbg.Api(config=config, error_handlers=[rate_limit_sleeper, maintenance_sleeper])"
   ]
  },
  {
   "cell_type": "markdown",
   "id": "228ff130",
   "metadata": {},
   "source": [
    "## Patch input bams"
   ]
  },
  {
   "cell_type": "code",
   "execution_count": null,
   "id": "8fb3441f",
   "metadata": {},
   "outputs": [],
   "source": [
    "def patch_metadata(info):\n",
    "    try:\n",
    "        field = info.rstrip('\\n').split('\\t')\n",
    "        cur_file = api.files.get(field[0])\n",
    "        metadata = {}\n",
    "        for i in range(start, len(field)):\n",
    "            metadata[header[i]] = field[i]\n",
    "        cur_file.metadata = metadata\n",
    "        cur_file.save()\n",
    "        return 0\n",
    "    except Exception as e:\n",
    "        sys.stderr.write(str(e))\n",
    "        sys.stderr.write('Failed processing ' + info)\n",
    "        return 1"
   ]
  },
  {
   "cell_type": "code",
   "execution_count": null,
   "id": "94944c4c",
   "metadata": {},
   "outputs": [],
   "source": [
    "manifest = '/Users/brownm28/Documents/2021-Dec-01_OT_PDX/bam_metadata_to_update.tsv'\n",
    "file_data = open(manifest)\n",
    "head = next(file_data)\n",
    "header = head.rstrip('\\n').split('\\t')\n",
    "start = 5 # which array position to start reading data from\n",
    "\n",
    "i = 1\n",
    "n = 100\n",
    "\n",
    "with concurrent.futures.ThreadPoolExecutor(16) as executor:\n",
    "    results = {executor.submit(patch_metadata, line): line for line in file_data}\n",
    "    for result in concurrent.futures.as_completed(results):\n",
    "        if result.result() == 1:\n",
    "            exit(1)\n",
    "        if i % n == 0:\n",
    "            sys.stderr.write(str(i) + ' files updated\\n')\n",
    "        i += 1\n",
    "\n"
   ]
  },
  {
   "cell_type": "markdown",
   "id": "b8767fa9",
   "metadata": {},
   "source": [
    "## Patch batch task outputs"
   ]
  },
  {
   "cell_type": "code",
   "execution_count": null,
   "id": "ca797677",
   "metadata": {},
   "outputs": [],
   "source": [
    "def patch_bam_fastq(task):\n",
    "    \"\"\"\n",
    "    Reads rg.txt output, add read group info to output fastqs and back into source bam.\n",
    "    Also patches over some data from bam to fastq\n",
    "    \"\"\"\n",
    "    try:\n",
    "        api_rg_dict = {\"ID\": \"sample_id\", \"PL\": \"platform\", \"PU\": \"platform_unit_id\", \"LB\": \"library_id\", \"CN\": \"center\"}\n",
    "        rg_str = task.outputs['rg_string'].content()\n",
    "        rg_array = rg_str.rstrip('\\n').split('\\t')\n",
    "        rg_dict = {}\n",
    "        for pairs in rg_array:\n",
    "            item = pairs.split(':')\n",
    "            if item[0] in api_rg_dict:\n",
    "                rg_dict[api_rg_dict[item[0]]] = item[1]\n",
    "        # add rg info to input bam\n",
    "        bam_meta = {}\n",
    "\n",
    "        for key in task.inputs['input_bam'].metadata:\n",
    "            bam_meta[key] = task.inputs['input_bam'].metadata[key]\n",
    "        for key in rg_dict:\n",
    "            bam_meta[key] = rg_dict[key]\n",
    "        \n",
    "        # need to get actual file obj to mod\n",
    "        input_bam = api.files.get(task.inputs['input_bam'].id)\n",
    "        input_bam.metadata = bam_meta\n",
    "        try:\n",
    "            input_bam.save()\n",
    "        except Exception as e:\n",
    "            print(e)\n",
    "        # add same info to output fastq except genome\n",
    "        bam_meta.pop('reference_genome')\n",
    "        for i in range(0, len(task.outputs['output'])):\n",
    "            fastq = api.files.get(task.outputs['output'][i].id)\n",
    "            fastq.metadata = bam_meta\n",
    "            if re.search(\"R1\", fastq.name):\n",
    "                fastq.metadata['paired_end'] = '1'\n",
    "            else:\n",
    "                fastq.metadata['paired_end'] = '2'\n",
    "            try:\n",
    "                fastq.save()\n",
    "            except Exception as e:\n",
    "                print(e)\n",
    "        return 0\n",
    "    except Exception as e:\n",
    "        return(e)\n",
    "    \n",
    "    "
   ]
  },
  {
   "cell_type": "code",
   "execution_count": null,
   "id": "4b56e184",
   "metadata": {},
   "outputs": [],
   "source": [
    "batch_obj = api.tasks.get('affaaaea-7c37-4703-af2d-8a2e54c59353')\n",
    "child_tasks = batch_obj.get_batch_children(status=\"COMPLETED\").all()\n",
    "n = 0\n",
    "for task in child_tasks:\n",
    "    n +=1\n",
    "print(n)\n",
    "exit(0)\n",
    "#pdb.set_trace()\n",
    "i = 1\n",
    "n = 100\n",
    "with concurrent.futures.ThreadPoolExecutor(16) as executor:\n",
    "    results = {executor.submit(patch_bam_fastq, task): task for task in child_tasks}\n",
    "    for result in concurrent.futures.as_completed(results):\n",
    "        if result.result() != 0:\n",
    "            print(result.result())\n",
    "            # exit(1)\n",
    "        if i % n == 0:\n",
    "            sys.stderr.write(str(i) + ' files updated\\n')\n",
    "        i += 1\n"
   ]
  },
  {
   "cell_type": "markdown",
   "id": "01420103",
   "metadata": {},
   "source": [
    "## Set up PIVOT/JAX RNAseq WF Tasks"
   ]
  },
  {
   "cell_type": "code",
   "execution_count": null,
   "id": "f2ebf414",
   "metadata": {},
   "outputs": [],
   "source": [
    "def get_fastqs(project):\n",
    "    \"\"\"\n",
    "    Get all RNAseq fastqs, organize into a dict by sample and read1/2\n",
    "    Used for both workflows!\n",
    "    \"\"\"\n",
    "    fastqs = api.files.query(project=project, metadata = {'experimental_strategy': 'RNA-Seq', 'reference_genome': None}).all()\n",
    "    fq_dict = {}\n",
    "    for fastq in fastqs:\n",
    "        if fastq.metadata['experimental_strategy'] == 'RNA-Seq' and  fastq.metadata['reference_genome'] == None and 'fastq.gz' in fastq.name:\n",
    "            if fastq.metadata['sample_id'] not in fq_dict:\n",
    "                fq_dict[fastq.metadata['sample_id']] = {}\n",
    "            fq_dict[fastq.metadata['sample_id']][fastq.metadata['paired_end']] = api.files.get(fastq.id)\n",
    "    return fq_dict"
   ]
  },
  {
   "cell_type": "code",
   "execution_count": null,
   "id": "0b3ef60b",
   "metadata": {},
   "outputs": [],
   "source": [
    "def get_jax_refs():\n",
    "    ref_dict = {}\n",
    "    ref_dict['ref_flat'] = api.files.get('61ae801faad1f926aea3031d')\n",
    "    ref_dict['rsem_prepare_reference_archive'] = api.files.get('61ae7f30aad1f926aea3030f')\n",
    "    ref_dict['ribosomal_intervals'] = api.files.get('61ae7f2faad1f926aea30309')\n",
    "    ref_dict['index_file'] = api.files.get('61ae7fbeaad1f926aea30317')\n",
    "    ref_dict['Sites'] = api.files.get('61ae8141aad1f926aea30329')\n",
    "    ref_dict['Reference'] = api.files.get('61a923b3aad1f926aea19eb7')\n",
    "    ref_dict['forward_prob'] = 0\n",
    "    ref_dict['strand_specificity'] = 'SECOND_READ_TRANSCRIPTION_STRAND'\n",
    "    return ref_dict\n",
    "    "
   ]
  },
  {
   "cell_type": "code",
   "execution_count": null,
   "id": "8693f04d",
   "metadata": {},
   "outputs": [],
   "source": [
    "def draft_jax_task(samp_id,fq_dict, ref_dict, app_name):\n",
    "    try:\n",
    "        input_dict = {}\n",
    "        for key in ref_dict:\n",
    "            input_dict[key] = ref_dict[key]\n",
    "        input_dict['input_pair'] = [fq_dict[samp_id]['1'], fq_dict[samp_id]['2']]\n",
    "        task_name = 'PDX RNA Expression Estimation Workflow: ' + samp_id\n",
    "        task = api.tasks.create(name=task_name, project=project, app=app_name, inputs=input_dict, run=False)\n",
    "        task.save()\n",
    "    except Exception as e:\n",
    "        pdb.set_trace()\n",
    "        hold = 1\n",
    "        \n"
   ]
  },
  {
   "cell_type": "code",
   "execution_count": null,
   "id": "3a483419",
   "metadata": {},
   "outputs": [],
   "source": [
    "project = 'd3b-bixu/open-targets-pdx-workflow-dev'\n",
    "fastq_dict = get_fastqs(project) # only run once depending on wf\n",
    "jax_refs = get_jax_refs()\n"
   ]
  },
  {
   "cell_type": "code",
   "execution_count": null,
   "id": "4b40c902",
   "metadata": {},
   "outputs": [],
   "source": [
    "app_name = 'd3b-bixu/open-targets-pdx-workflow-dev/pdx-rna-tumor-only'\n",
    "i = 0\n",
    "n = 20\n",
    "for samp_id in fastq_dict:\n",
    "    if i % n == 0:\n",
    "        print (\"Drafted \" + str(i) + \" tasks\")\n",
    "    draft_jax_task(samp_id, fastq_dict, jax_refs, app_name)\n",
    "    i+=1"
   ]
  },
  {
   "cell_type": "markdown",
   "id": "da1355d4",
   "metadata": {},
   "source": [
    "## Set up KF RNAseq wf"
   ]
  },
  {
   "cell_type": "code",
   "execution_count": null,
   "id": "f44c27fe",
   "metadata": {},
   "outputs": [],
   "source": [
    "def get_kf_refs():\n",
    "    ref_dict = {}\n",
    "    ref_dict['xenome_index'] = api.files.get('61ae7fbeaad1f926aea30317')\n",
    "    ref_dict['input_type'] = 'FASTQ'\n",
    "    ref_dict['runThread'] = 36\n",
    "    ref_dict['wf_strand_param'] = 'rf-stranded'\n",
    "    ref_dict['idx_prefix'] = 'hg38_broad_NOD_based_on_mm10_k25'\n",
    "    return ref_dict\n",
    "    "
   ]
  },
  {
   "cell_type": "code",
   "execution_count": null,
   "id": "f256349f",
   "metadata": {},
   "outputs": [],
   "source": [
    "def draft_kf_ot_task(samp_id,fq_dict, ref_dict, app_name):\n",
    "    try:\n",
    "        input_dict = {}\n",
    "        for key in ref_dict:\n",
    "            input_dict[key] = ref_dict[key]\n",
    "        input_dict['reads1'] = fq_dict[samp_id]['1']\n",
    "        input_dict['reads2'] = fq_dict[samp_id]['2']\n",
    "        input_dict['sample_name'] = samp_id\n",
    "        # some vars with rg info for ease of reading\n",
    "        rid = \"ID:\" + samp_id\n",
    "        pl = \"PL:\" + fq_dict[samp_id]['1'].metadata['platform']\n",
    "        pu = \"PU:\" + fq_dict[samp_id]['1'].metadata['platform_unit_id']\n",
    "        lb = \"LB:\" + fq_dict[samp_id]['1'].metadata['library_id']\n",
    "        sm = \"SM:\" + samp_id\n",
    "        cn = \"CN:\" + fq_dict[samp_id]['1'].metadata['center']\n",
    "        # ID:PPTC-AF06-XTP1-A-1-0-R PL:Illumina PU:7007001353_20171208_CBK13ACXX-6-ID11 LB:ICD_IND-PPCTC.PPTC-AF06-XTP1-A-1-0-R-1_1pA SM:PPTC-AF06-XTP1-A-1-0-R CN:BCM\n",
    "        input_dict['STAR_outSAMattrRGline'] = \"\\t\".join([rid, pl, pu, lb, sm, cn])\n",
    "        task_name = 'Kids First OT PDX RNA-Seq Workflow: ' + samp_id\n",
    "        task = api.tasks.create(name=task_name, project=project, app=app_name, inputs=input_dict, run=False)\n",
    "        task.inputs['output_basename'] = task.id\n",
    "        task.save()\n",
    "    except Exception as e:\n",
    "        pdb.set_trace()\n",
    "        hold = 1\n"
   ]
  },
  {
   "cell_type": "code",
   "execution_count": null,
   "id": "79c15049",
   "metadata": {},
   "outputs": [],
   "source": [
    "project = 'd3b-bixu/open-targets-pdx-workflow-dev'\n",
    "# fastq_dict = get_fastqs(project) # only run once depending on wf\n",
    "kf_refs = get_kf_refs()\n",
    "app_name = 'd3b-bixu/open-targets-pdx-workflow-dev/kfdrc-pdx-rnaseq-wf'\n",
    "i = 0\n",
    "n = 20\n",
    "for samp_id in fastq_dict:\n",
    "    if i % n == 0:\n",
    "        print (\"Drafted \" + str(i) + \" tasks\")\n",
    "    draft_kf_ot_task(samp_id, fastq_dict, kf_refs, app_name)\n",
    "    i+=1\n"
   ]
  },
  {
   "cell_type": "markdown",
   "id": "d9a06b0a",
   "metadata": {},
   "source": [
    "## Re-draft failed tasks"
   ]
  },
  {
   "cell_type": "code",
   "execution_count": null,
   "id": "c11c2471",
   "metadata": {},
   "outputs": [],
   "source": [
    "project = 'd3b-bixu/open-targets-pdx-workflow-dev'\n",
    "failed = api.tasks.query(project=project, status=\"FAILED\").all()\n",
    "for fail in failed:\n",
    "    if fail.name.startswith('PDX RNA Expression Estimation Workflow:') or fail.name.startswith('Kids First OT PDX RNA-Seq Workflow:'):\n",
    "        print(\"Re-drafting \" + fail.id + \" \" + fail.name)\n",
    "        rerun = fail.clone(run=False)\n",
    "        rerun.save()"
   ]
  },
  {
   "cell_type": "markdown",
   "id": "2649d674",
   "metadata": {},
   "source": [
    "## Patch metadata to outputs"
   ]
  },
  {
   "cell_type": "code",
   "execution_count": null,
   "id": "e19eb121",
   "metadata": {},
   "outputs": [],
   "source": [
    "def patch_jax_output(task):\n",
    "    # just add workflow to files\n",
    "    for output in task.outputs:\n",
    "        if type(task.outputs[output]) is list:\n",
    "            for obj in task.outputs[output]:\n",
    "                file_obj = api.files.get(obj.id)\n",
    "                file_obj.metadata['workflow'] = 'd3b-bixu/open-targets-pdx-workflow-dev/pdx-rna-tumor-only'\n",
    "                file_obj.save()\n",
    "        else:\n",
    "            file_obj = api.files.get(task.outputs[output].id)\n",
    "            file_obj.metadata['workflow'] = 'd3b-bixu/open-targets-pdx-workflow-dev/pdx-rna-tumor-only'\n",
    "            file_obj.save()\n",
    "    return 0\n"
   ]
  },
  {
   "cell_type": "code",
   "execution_count": null,
   "id": "29b1ea03",
   "metadata": {},
   "outputs": [],
   "source": [
    "def patch_kf_ot_output(task):\n",
    "    try:\n",
    "        metadata = {}\n",
    "        for key in task.inputs['reads1'].metadata:\n",
    "            metadata[key] = task.inputs['reads1'].metadata[key]\n",
    "        metadata.pop('paired_end')\n",
    "        metadata['workflow'] = 'd3b-bixu/open-targets-pdx-workflow-dev/kfdrc-pdx-rnaseq-wf'\n",
    "        metadata['reference_genome'] = 'GRCh38'\n",
    "        metadata['annotation'] = 'GENCODE27'\n",
    "        for output in task.outputs:\n",
    "            if task.outputs[output] is not None:\n",
    "                if type(task.outputs[output]) is list:\n",
    "                    for obj in task.outputs[output]:\n",
    "                        file_obj = api.files.get(obj.id)\n",
    "                        file_obj.metadata = metadata\n",
    "                        file_obj.save()\n",
    "                else:\n",
    "                    file_obj = api.files.get(task.outputs[output].id)\n",
    "                    file_obj.metadata = metadata\n",
    "                    file_obj.save()\n",
    "    except Exception as e:\n",
    "        print(e)\n",
    "    return 0\n"
   ]
  },
  {
   "cell_type": "code",
   "execution_count": null,
   "id": "411ffb30",
   "metadata": {},
   "outputs": [],
   "source": [
    "def filter_task(task):\n",
    "#     if task.name.startswith('PDX RNA Expression Estimation Workflow:'):\n",
    "#         try:\n",
    "#             patch_jax_output(task)\n",
    "#         except Exception as e:\n",
    "#             sys.stderr.write(str(e) + '\\n')\n",
    "#         return 1\n",
    "        \n",
    "    if task.name.startswith('Kids First OT PDX RNA-Seq Workflow:'):\n",
    "        patch_kf_ot_output(task)\n",
    "        return 1\n",
    "    return 0\n"
   ]
  },
  {
   "cell_type": "code",
   "execution_count": null,
   "id": "83aed15b",
   "metadata": {},
   "outputs": [],
   "source": [
    "project = 'd3b-bixu/open-targets-pdx-workflow-dev'\n",
    "completed = api.tasks.query(project=project, status=\"COMPLETED\").all()\n",
    "i = 1\n",
    "n = 50\n",
    "        \n",
    "with concurrent.futures.ThreadPoolExecutor(16) as executor:\n",
    "    results = {executor.submit(filter_task, task): task for task in completed}\n",
    "    for result in concurrent.futures.as_completed(results):\n",
    "        i += result.result()\n",
    "        if i % n == 0:\n",
    "            sys.stderr.write(\"Patched \" + str(i) + \" task outputs\\n\")\n",
    "\n",
    "# for task in completed:\n",
    "#     filter_task(task)"
   ]
  },
  {
   "cell_type": "markdown",
   "id": "7194e167",
   "metadata": {},
   "source": [
    "## Cleanup failed tasks and file names"
   ]
  },
  {
   "cell_type": "code",
   "execution_count": null,
   "id": "34f11e90",
   "metadata": {},
   "outputs": [],
   "source": [
    "project = 'd3b-bixu/open-targets-pdx-workflow-dev'\n",
    "failed = api.tasks.query(project=project, status=\"FAILED\").all()\n",
    "for task in failed:\n",
    "    if task.name.startswith('PDX RNA Expression Estimation Workflow:') or task.name.startswith('Kids First OT PDX RNA-Seq Workflow:'):\n",
    "        for output in task.outputs:\n",
    "            if task.outputs[output] is not None:\n",
    "                if type(task.outputs[output]) is list:\n",
    "                    for obj in task.outputs[output]:\n",
    "                        file_obj = api.files.get(obj.id)\n",
    "                        file_obj.delete()\n",
    "                        print (\"Deleted \" + file_obj.name + \" from task \" + task.name)\n",
    "                else:\n",
    "                    file_obj = api.files.get(task.outputs[output].id)\n",
    "                    file_obj.delete()\n",
    "                    print (\"Deleted \" + file_obj.name + \" from task \" + task.name)\n"
   ]
  },
  {
   "cell_type": "code",
   "execution_count": null,
   "id": "b854f4a9",
   "metadata": {},
   "outputs": [],
   "source": [
    "task_file = open('/Users/brownm28/Documents/2021-Dec-01_OT_PDX/cleanup_task_outputs.txt')\n",
    "task_dict = {}\n",
    "for line in task_file:\n",
    "    task_dict[line.rstrip('\\n')] = 0\n",
    "project = 'd3b-bixu/open-targets-pdx-workflow-dev'\n",
    "completed = api.tasks.query(project=project, status=\"COMPLETED\").all()\n",
    "for task in completed:\n",
    "    if task.name in task_dict:\n",
    "        sys.stderr.write(\"processing \" + task.name + \"\\n\")\n",
    "        for output in task.outputs:\n",
    "            if task.outputs[output] is not None:\n",
    "                if type(task.outputs[output]) is list:\n",
    "                    for obj in task.outputs[output]:\n",
    "                        if obj.name.startswith('_1_'):\n",
    "                            file_obj = api.files.get(obj.id)\n",
    "                            file_obj.name = file_obj.name.replace('_1_','', 1)\n",
    "                            file_obj.save()\n",
    "                            print (\"Renamed \" + file_obj.name + \" from task \" + task.name)\n",
    "                elif task.outputs[output].name.startswith('_1_'):\n",
    "                    file_obj = api.files.get(task.outputs[output].id)\n",
    "                    file_obj.name = file_obj.name.replace('_1_','', 1)\n",
    "                    file_obj.save()\n",
    "                    print (\"Renamed \" + file_obj.name + \" from task \" + task.name)\n",
    "\n",
    "\n"
   ]
  },
  {
   "cell_type": "code",
   "execution_count": null,
   "id": "ddf8d529",
   "metadata": {},
   "outputs": [],
   "source": []
  }
 ],
 "metadata": {
  "kernelspec": {
   "display_name": "Python 3",
   "language": "python",
   "name": "python3"
  },
  "language_info": {
   "codemirror_mode": {
    "name": "ipython",
    "version": 3
   },
   "file_extension": ".py",
   "mimetype": "text/x-python",
   "name": "python",
   "nbconvert_exporter": "python",
   "pygments_lexer": "ipython3",
   "version": "3.9.6"
  }
 },
 "nbformat": 4,
 "nbformat_minor": 5
}
