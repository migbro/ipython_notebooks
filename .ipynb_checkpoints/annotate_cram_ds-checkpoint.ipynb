{
 "cells": [
  {
   "cell_type": "code",
   "execution_count": 14,
   "metadata": {},
   "outputs": [],
   "source": [
    "import sys\n",
    "from requests import request\n",
    "import concurrent.futures\n",
    "import os\n",
    "import pdb\n",
    "url = 'https://localhost:1443/'"
   ]
  },
  {
   "cell_type": "code",
   "execution_count": 15,
   "metadata": {},
   "outputs": [],
   "source": [
    "def query_ds(bs_id, url, cram_fn, gvcf_fn):\n",
    "    gf_url = url + 'genomic-files?biospecimen_id=' + bs_id\n",
    "    gf_related = request('GET', gf_url, verify=False)\n",
    "    i = 0\n",
    "    n = 4\n",
    "    crai_fn = cram_fn + '.crai'\n",
    "    tbi_fn = gvcf_fn + '.tbi'\n",
    "    fn_dict = {cram_fn: 0, crai_fn: 0, gvcf_fn: 0, tbi_fn: 0}\n",
    "    results = []\n",
    "    # pdb.set_trace()\n",
    "    for result in gf_related.json()['results']:\n",
    "        gf_id = result['_links']['self'].split('/')[2]\n",
    "        fname = result['file_name']\n",
    "        if fname in fn_dict:\n",
    "            i+=1\n",
    "            results.append(bs_id + '\\t' + gf_id + '\\t' + fname)\n",
    "            fn_dict[fname] = 1\n",
    "    return results\n",
    "    \n",
    "    "
   ]
  },
  {
   "cell_type": "code",
   "execution_count": 16,
   "metadata": {},
   "outputs": [
    {
     "name": "stderr",
     "output_type": "stream",
     "text": [
      "/anaconda3/lib/python3.7/site-packages/urllib3/connectionpool.py:857: InsecureRequestWarning: Unverified HTTPS request is being made. Adding certificate verification is strongly advised. See: https://urllib3.readthedocs.io/en/latest/advanced-usage.html#ssl-warnings\n",
      "  InsecureRequestWarning)\n"
     ]
    },
    {
     "name": "stdout",
     "output_type": "stream",
     "text": [
      "BS_ZAH8CKZN\tGF_X5PR8G3D\t75de34c8-0b54-47c5-a3af-61efb7c38db8.g.vcf.gz\n",
      "BS_ZAH8CKZN\tGF_QHNZS2KD\t75de34c8-0b54-47c5-a3af-61efb7c38db8.g.vcf.gz.tbi\n",
      "BS_ZAH8CKZN\tGF_H387W8YK\t75de34c8-0b54-47c5-a3af-61efb7c38db8.cram\n",
      "BS_ZAH8CKZN\tGF_4SCAA9CM\t75de34c8-0b54-47c5-a3af-61efb7c38db8.cram.crai\n"
     ]
    }
   ],
   "source": [
    "gvcf_fn = '75de34c8-0b54-47c5-a3af-61efb7c38db8.g.vcf.gz'\n",
    "cram_fn = '75de34c8-0b54-47c5-a3af-61efb7c38db8.cram'\n",
    "bs_id = 'BS_ZAH8CKZN'\n",
    "\n",
    "test = query_ds(bs_id, url, cram_fn, gvcf_fn)\n",
    "for item in test:\n",
    "    print(item)"
   ]
  },
  {
   "cell_type": "code",
   "execution_count": null,
   "metadata": {},
   "outputs": [],
   "source": []
  }
 ],
 "metadata": {
  "kernelspec": {
   "display_name": "Python 3",
   "language": "python",
   "name": "python3"
  },
  "language_info": {
   "codemirror_mode": {
    "name": "ipython",
    "version": 3
   },
   "file_extension": ".py",
   "mimetype": "text/x-python",
   "name": "python",
   "nbconvert_exporter": "python",
   "pygments_lexer": "ipython3",
   "version": "3.7.0"
  }
 },
 "nbformat": 4,
 "nbformat_minor": 2
}
