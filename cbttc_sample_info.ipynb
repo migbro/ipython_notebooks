{
 "cells": [
  {
   "cell_type": "markdown",
   "metadata": {},
   "source": [
    "### get info using bs id"
   ]
  },
  {
   "cell_type": "code",
   "execution_count": 4,
   "metadata": {},
   "outputs": [],
   "source": [
    "def query_dataservice_bs_id(url, bs_id, bs_attrs, pt_attrs, dx_attrs):\n",
    "    bs_id = bs_id.rstrip('\\n')\n",
    "    bs_url = url + '/biospecimens/' + bs_id\n",
    "    # sys.stderr.write(bs_url + '\\n')\n",
    "    bs_info = request('GET', bs_url)\n",
    "    result = []\n",
    "    if bs_info.json()['_status']['code'] == 404:\n",
    "        result.append(bs_info.json()['_status']['message'])\n",
    "        sys.stderr.write(bs_id + ' not found!\\n')\n",
    "        return bs_id, result\n",
    "    dx_url = url + bs_info.json()['_links']['diagnoses']\n",
    "    dx_dict = {}\n",
    "    dx_obj = request('GET', dx_url) if len(dx_attrs) > 0 else 'NoDX'\n",
    "    # dir(bs_info)\n",
    "    pt_url = bs_info.json()['_links']['participant']\n",
    "    pt_info = request('GET', url + pt_url)\n",
    "    result.append(pt_info.json()['results']['kf_id'])\n",
    "    for attr in bs_attrs:\n",
    "        # sys.stderr.write(attr + ': ')\n",
    "        res = bs_info.json()['results'][attr]\n",
    "        if res is None:\n",
    "            res = 'NULL'\n",
    "        # sys.stderr.write(res + '\\n')\n",
    "        result.append(str(res))\n",
    "    for attr in pt_attrs:\n",
    "        # sys.stderr.write(attr + ': ')\n",
    "        res = pt_info.json()['results'][attr]\n",
    "        if res is None:\n",
    "            res = 'NULL'\n",
    "        # sys.stderr.write(res + '\\n')\n",
    "        result.append(res)\n",
    "    for attr in dx_attrs:\n",
    "        dx_dict[attr] = []\n",
    "        for cur_res in dx_obj.json()['results']:\n",
    "            dx_dict[attr].append(str(cur_res[attr]))\n",
    "        result.append(','.join(dx_dict[attr]))\n",
    "                                 \n",
    "    return bs_id, result\n",
    "    "
   ]
  },
  {
   "cell_type": "markdown",
   "metadata": {},
   "source": [
    "### Query dataservice by pt ID"
   ]
  },
  {
   "cell_type": "code",
   "execution_count": 5,
   "metadata": {},
   "outputs": [],
   "source": [
    "def query_dataservice_pt_id(url, pt_id, bs_attrs, pt_attrs, dx_attrs, out_fh):\n",
    "    pt_url = url + '/participants/' + pt_id\n",
    "    # sys.stderr.write(bs_url + '\\n')\n",
    "    pt_info = request('GET', pt_url)\n",
    "    bs_url = pt_info.json()['_links']['biospecimens']\n",
    "    bs_list = request('GET', url + bs_url)\n",
    "    for bs_info in bs_list.json()['results']:\n",
    "        dx_url = url + bs_info['_links']['diagnoses']\n",
    "        dx_dict = {}\n",
    "        dx_obj = request('GET', dx_url) if len(dx_attrs) > 0 else 'NoDX'\n",
    "        # dir(bs_info)\n",
    "\n",
    "        result = []\n",
    "        result.append(bs_info['kf_id'])\n",
    "        result.append(pt_info.json()['results']['kf_id'])\n",
    "        \n",
    "        for attr in bs_attrs:\n",
    "            # sys.stderr.write(attr + ': ')\n",
    "            res = bs_info[attr]\n",
    "            if res is None:\n",
    "                res = 'NULL'\n",
    "            # sys.stderr.write(res + '\\n')\n",
    "            result.append(res)\n",
    "        for attr in pt_attrs:\n",
    "            # sys.stderr.write(attr + ': ')\n",
    "            res = pt_info.json()['results'][attr]\n",
    "            if res is None:\n",
    "                res = 'NULL'\n",
    "            # sys.stderr.write(res + '\\n')\n",
    "            result.append(res)\n",
    "        for attr in dx_attrs:\n",
    "            dx_dict[attr] = []\n",
    "            for cur_res in dx_obj.json()['results']:\n",
    "                dx_dict[attr].append(str(cur_res[attr]))\n",
    "            result.append(','.join(dx_dict[attr]))\n",
    "        out_fh.write('\\t'.join(result) + '\\n')\n",
    "                                     \n",
    "    "
   ]
  },
  {
   "cell_type": "markdown",
   "metadata": {},
   "source": [
    "## set up imports and output file"
   ]
  },
  {
   "cell_type": "code",
   "execution_count": 12,
   "metadata": {},
   "outputs": [
    {
     "data": {
      "text/plain": [
       "1"
      ]
     },
     "execution_count": 12,
     "metadata": {},
     "output_type": "execute_result"
    }
   ],
   "source": [
    "import sys\n",
    "from requests import request\n",
    "import concurrent.futures\n",
    "\n",
    "fname = '/Users/brownm28/Documents/2018-Oct-23_peddy_run/project_summaries/investigator_reports/schiffman/bs_ids_to_search.txt'\n",
    "file_list = fname\n",
    "bs_attrs = ['external_aliquot_id', 'analyte_type', 'source_text_tissue_type', 'composition', 'external_sample_id','age_at_event_days']\n",
    "pt_attrs = ['external_id', 'gender', 'ethnicity', 'race']\n",
    "dx_attrs = []\n",
    "# dx_attrs = ['source_text_diagnosis', 'source_text_tumor_location']\n",
    "url = 'https://kf-api-dataservice.kidsfirstdrc.org'\n",
    "out_fh = open('/Users/brownm28/Documents/2018-Oct-23_peddy_run/project_summaries/investigator_reports/schiffman/bs_info.txt', 'w')\n",
    "out_fh.write('BS_ID\\tPT_ID\\t' + '\\t'.join(bs_attrs) + '\\t' + '\\t'.join(pt_attrs))\n",
    "if len(dx_attrs) > 0:\n",
    "    sys.stdout.write('\\t' + '\\t'.join(dx_attrs) )\n",
    "out_fh.write('\\n')\n",
    "\n",
    "    "
   ]
  },
  {
   "cell_type": "markdown",
   "metadata": {},
   "source": [
    "## get by bs id"
   ]
  },
  {
   "cell_type": "code",
   "execution_count": 13,
   "metadata": {
    "scrolled": true
   },
   "outputs": [
    {
     "name": "stderr",
     "output_type": "stream",
     "text": [
      "Processed 10 bs ids\n",
      "Processed 20 bs ids\n",
      "Processed 30 bs ids\n",
      "Done!"
     ]
    }
   ],
   "source": [
    "\n",
    "x = 1\n",
    "m = 10\n",
    "th = 40\n",
    "with concurrent.futures.ThreadPoolExecutor(th) as bs_exec:\n",
    "    bs_results = {\n",
    "    bs_exec.submit(query_dataservice_bs_id, url, bs_id, bs_attrs, pt_attrs, dx_attrs): bs_id for bs_id in open(file_list)}\n",
    "    for bs_result in concurrent.futures.as_completed(bs_results):\n",
    "        if x % m == 0:\n",
    "            sys.stderr.write('Processed ' + str(x) + ' bs ids\\n')\n",
    "        (cur_bs_id, bs_info) = bs_result.result()\n",
    "        out_fh.write(cur_bs_id + '\\t' + '\\t'.join(bs_info) + '\\n')\n",
    "        x += 1\n",
    "out_fh.close()\n",
    "sys.stderr.write('Done!')"
   ]
  },
  {
   "cell_type": "markdown",
   "metadata": {},
   "source": [
    "## Get by pt id"
   ]
  },
  {
   "cell_type": "code",
   "execution_count": 6,
   "metadata": {},
   "outputs": [],
   "source": [
    "out_fh = open('/Users/brownm28/Documents/2018-Aug-15_cbttc_launch/portal_metadata/check_and_balances/audit/PHGG_PATCH/pt_to_patch.txt', 'w')\n",
    "for pt_id in open(file_list):\n",
    "    pt_id = pt_id.strip('\\n')\n",
    "    query_dataservice_pt_id(url, pt_id, bs_attrs, pt_attrs, dx_attrs, out_fh)\n",
    "out_fh.close()\n",
    "sys.stderr.write('Completed')\n"
   ]
  },
  {
   "cell_type": "markdown",
   "metadata": {},
   "source": [
    "## get info using cram - bs id pairs"
   ]
  },
  {
   "cell_type": "code",
   "execution_count": null,
   "metadata": {},
   "outputs": [],
   "source": [
    "for cram_id_pair in open(file_list):\n",
    "    (cram, bs_id) = cram_id_pair.rstrip('\\n').split('\\t')\n",
    "    sys.stderr.write(cram + '\\t' + bs_id + '\\n')\n",
    "    bs_info = query_dataservice(url, bs_id, bs_attrs, pt_attrs)\n",
    "    sys.stdout.write(bs_id + '\\t' + '\\t'.join(bs_info) + '\\t' + cram + '\\n')"
   ]
  },
  {
   "cell_type": "code",
   "execution_count": null,
   "metadata": {},
   "outputs": [],
   "source": []
  }
 ],
 "metadata": {
  "kernelspec": {
   "display_name": "Python 3",
   "language": "python",
   "name": "python3"
  },
  "language_info": {
   "codemirror_mode": {
    "name": "ipython",
    "version": 3
   },
   "file_extension": ".py",
   "mimetype": "text/x-python",
   "name": "python",
   "nbconvert_exporter": "python",
   "pygments_lexer": "ipython3",
   "version": "3.7.0"
  }
 },
 "nbformat": 4,
 "nbformat_minor": 2
}
