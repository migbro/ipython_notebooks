{
 "cells": [
  {
   "cell_type": "code",
   "execution_count": 1,
   "id": "14474c90",
   "metadata": {},
   "outputs": [],
   "source": [
    "import sevenbridges as sbg\n",
    "from sevenbridges.errors import SbgError\n",
    "from sevenbridges.http.error_handlers import rate_limit_sleeper, maintenance_sleeper\n",
    "import sys\n",
    "import re\n",
    "import pdb\n",
    "import concurrent.futures\n",
    "from requests import request\n",
    "import json\n",
    "config = sbg.Config(profile='turbo')\n",
    "api = sbg.Api(config=config, error_handlers=[rate_limit_sleeper, maintenance_sleeper])"
   ]
  },
  {
   "cell_type": "markdown",
   "id": "c4ae2053",
   "metadata": {},
   "source": [
    "## Set up tasks"
   ]
  },
  {
   "cell_type": "code",
   "execution_count": 10,
   "id": "7350d35e",
   "metadata": {},
   "outputs": [],
   "source": [
    "def get_refs(project):\n",
    "    ref_objs = {}\n",
    "    ref_objs['reference_genome'] = api.files.query(project=project, names=['Homo_sapiens_assembly38.fasta'])[0]\n",
    "    ref_objs['normalize_flag'] = True\n",
    "    return ref_objs"
   ]
  },
  {
   "cell_type": "code",
   "execution_count": 11,
   "id": "d5091c51",
   "metadata": {},
   "outputs": [],
   "source": [
    "def draft_tasks(project, bs_id, ref_dict, app_name):\n",
    "    input_dict = {}\n",
    "    for key in ref_dict:\n",
    "        input_dict[key] = ref_dict[key]\n",
    "    input_dict['input_vcf'] = inputs[bs_id]\n",
    "    task_name = \"pyspark vcf2parquet: \" + bs_id\n",
    "    task = api.tasks.create(name=task_name, project=project, app=app_name, inputs=input_dict, run=False)\n",
    "    task.inputs['output_basename'] = bs_id\n",
    "    task.save()\n"
   ]
  },
  {
   "cell_type": "code",
   "execution_count": 12,
   "id": "e545aea9",
   "metadata": {},
   "outputs": [],
   "source": [
    "gvcf_manifest = open('/Users/brownm28/Documents/2022-Feb-7_vcf2parquet/manifest_20220207_162148.tsv')\n",
    "project = 'd3b-bixu/kf-gvcf-merge-dev'\n",
    "app_name = project + '/pyspark_vcf2parquet'\n",
    "ref_dict = get_refs(project)\n",
    "inputs = {}\n",
    "head = next(gvcf_manifest)\n",
    "# get field position of sample ID\n",
    "header = head.rstrip('\\n').split('\\t')\n",
    "s_idx = header.index('sample_id')\n",
    "for line in gvcf_manifest:\n",
    "    info = line.rstrip('\\n').split('\\t')\n",
    "    gvcf_obj = api.files.get(info[0])\n",
    "    inputs[info[s_idx]] = gvcf_obj\n",
    "gvcf_manifest.close()\n",
    "for bs_id in inputs:\n",
    "    draft_tasks(project, bs_id, ref_dict, app_name)\n"
   ]
  },
  {
   "cell_type": "markdown",
   "id": "e1d227c8",
   "metadata": {},
   "source": [
    "## Run tasks"
   ]
  },
  {
   "cell_type": "code",
   "execution_count": 13,
   "id": "ccfe7f46",
   "metadata": {},
   "outputs": [],
   "source": [
    "project = 'd3b-bixu/kf-gvcf-merge-dev'\n",
    "tasks = api.tasks.query(project=project, status=\"DRAFT\")\n",
    "phrase = 'pyspark vcf2parquet'\n",
    "for task in tasks:\n",
    "    if phrase in task.name:\n",
    "        task.run()\n",
    "\n",
    "    "
   ]
  },
  {
   "cell_type": "code",
   "execution_count": null,
   "id": "f6c2e5d5",
   "metadata": {},
   "outputs": [],
   "source": []
  }
 ],
 "metadata": {
  "kernelspec": {
   "display_name": "Python 3",
   "language": "python",
   "name": "python3"
  },
  "language_info": {
   "codemirror_mode": {
    "name": "ipython",
    "version": 3
   },
   "file_extension": ".py",
   "mimetype": "text/x-python",
   "name": "python",
   "nbconvert_exporter": "python",
   "pygments_lexer": "ipython3",
   "version": "3.9.6"
  }
 },
 "nbformat": 4,
 "nbformat_minor": 5
}
