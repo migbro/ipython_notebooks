{
 "cells": [
  {
   "cell_type": "markdown",
   "metadata": {},
   "source": [
    "## Setup imports"
   ]
  },
  {
   "cell_type": "code",
   "execution_count": 9,
   "metadata": {},
   "outputs": [],
   "source": [
    "#!/usr/bin/env python3\n",
    "\n",
    "import sevenbridges as sbg\n",
    "import sys\n",
    "import pdb\n",
    "import copy\n",
    "#from requests import request\n",
    "\n",
    "#token = sys.argv[2]\n",
    "config = sbg.Config(profile='cavatica')\n",
    "api = sbg.Api(config=config)"
   ]
  },
  {
   "cell_type": "markdown",
   "metadata": {},
   "source": [
    "## Get cram name using bs ids"
   ]
  },
  {
   "cell_type": "code",
   "execution_count": 10,
   "metadata": {},
   "outputs": [
    {
     "name": "stdout",
     "output_type": "stream",
     "text": [
      "e252616f-bb41-48c0-b6c5-b01733dd4829.cram\n",
      "e252616f-bb41-48c0-b6c5-b01733dd4829.cram.crai\n",
      "f64f46a7-2d4a-4b93-b8ed-91cb11cd54f9.cram\n",
      "f64f46a7-2d4a-4b93-b8ed-91cb11cd54f9.cram.crai\n",
      "8f841d87-93ed-4339-b6ca-b55d96ce6adb.cram\n",
      "8f841d87-93ed-4339-b6ca-b55d96ce6adb.cram.crai\n",
      "24b7bdb6-9ab9-44d0-909c-e6d1271f1de1.cram\n",
      "24b7bdb6-9ab9-44d0-909c-e6d1271f1de1.cram.crai\n",
      "878c8533-24ae-4088-90db-d4e7949592bd.cram\n",
      "878c8533-24ae-4088-90db-d4e7949592bd.cram.crai\n",
      "3e52b97d-287b-49e9-b91f-be0f57358a9b.cram\n",
      "3e52b97d-287b-49e9-b91f-be0f57358a9b.cram.crai\n",
      "4622513a-c1fc-4027-a603-5e4af572c856.cram\n",
      "4622513a-c1fc-4027-a603-5e4af572c856.cram.crai\n",
      "d2a1e810-f420-47e9-87fb-d63c77fa61e8.cram\n",
      "d2a1e810-f420-47e9-87fb-d63c77fa61e8.cram.crai\n",
      "ceea70c8-a5ea-4ac3-b182-eae81566c1b7.cram\n",
      "ceea70c8-a5ea-4ac3-b182-eae81566c1b7.cram.crai\n",
      "adf5af38-0366-481c-9e26-4e11f47be50e.cram\n",
      "adf5af38-0366-481c-9e26-4e11f47be50e.cram.crai\n",
      "cec39440-5679-42f2-ba9d-188080fb8d48.cram\n",
      "cec39440-5679-42f2-ba9d-188080fb8d48.cram.crai\n",
      "ebfa8274-a152-48ab-9fb0-afd1afd9c07e.cram\n",
      "ebfa8274-a152-48ab-9fb0-afd1afd9c07e.cram.crai\n",
      "dfd6b260-1012-4926-9b97-fa4a7b74a589.cram\n",
      "dfd6b260-1012-4926-9b97-fa4a7b74a589.cram.crai\n",
      "ca1c0017-3ec7-48ac-9d46-ee225a1dad03.cram\n",
      "ca1c0017-3ec7-48ac-9d46-ee225a1dad03.cram.crai\n",
      "d23a2239-a048-4674-b78d-34b7e6b553b7.cram\n",
      "d23a2239-a048-4674-b78d-34b7e6b553b7.cram.crai\n",
      "80ea4a6a-dc99-4036-8ab6-f1277392c21d.cram\n",
      "80ea4a6a-dc99-4036-8ab6-f1277392c21d.cram.crai\n",
      "edc0aa2e-ba54-40b0-85a1-e392e7a4e84f.cram\n",
      "edc0aa2e-ba54-40b0-85a1-e392e7a4e84f.cram.crai\n",
      "29997c0d-d2ef-4a1f-b631-727b338692b2.cram\n",
      "29997c0d-d2ef-4a1f-b631-727b338692b2.cram.crai\n",
      "c82d29fe-9833-4cd9-9528-5b83cc3df883.cram\n",
      "c82d29fe-9833-4cd9-9528-5b83cc3df883.cram.crai\n",
      "7a6d7bf6-a033-477c-aee3-014e11144547.cram\n",
      "7a6d7bf6-a033-477c-aee3-014e11144547.cram.crai\n",
      "93138aab-1084-4887-b971-18ac1d53fadd.cram\n",
      "93138aab-1084-4887-b971-18ac1d53fadd.cram.crai\n",
      "805ca5a6-39bd-4ba0-ac03-983a81cde8be.cram\n",
      "805ca5a6-39bd-4ba0-ac03-983a81cde8be.cram.crai\n",
      "3de5b854-9a3c-4a45-9a7e-f18b166cf215.cram\n",
      "3de5b854-9a3c-4a45-9a7e-f18b166cf215.cram.crai\n",
      "8bfc52e5-9907-48e0-9ce3-0fc40995b7f5.cram\n",
      "8bfc52e5-9907-48e0-9ce3-0fc40995b7f5.cram.crai\n",
      "bcf54656-7874-4068-a680-332a74e7d167.cram\n",
      "bcf54656-7874-4068-a680-332a74e7d167.cram.crai\n",
      "c9a49c87-c00f-4a64-b792-700a5b29be5a.cram\n",
      "c9a49c87-c00f-4a64-b792-700a5b29be5a.cram.crai\n",
      "cb012bff-0dbc-4d77-a936-428e5d0d4808.cram\n",
      "cb012bff-0dbc-4d77-a936-428e5d0d4808.cram.crai\n",
      "18bffd79-c128-4bb1-8be0-f4d0fcdd849f.cram\n",
      "18bffd79-c128-4bb1-8be0-f4d0fcdd849f.cram.crai\n",
      "39a54746-b2b1-47de-8dcd-6db2648352fb.cram\n",
      "39a54746-b2b1-47de-8dcd-6db2648352fb.cram.crai\n",
      "59f57680-45fa-491f-94e8-7136eacf2bec.cram\n",
      "59f57680-45fa-491f-94e8-7136eacf2bec.cram.crai\n",
      "5688c89d-8225-46ce-bc42-f1234bcaf640.cram\n",
      "5688c89d-8225-46ce-bc42-f1234bcaf640.cram.crai\n",
      "92f3eff6-013a-45be-965c-656885d63126.cram\n",
      "92f3eff6-013a-45be-965c-656885d63126.cram.crai\n",
      "684fab30-0dbb-44df-a400-44df8b7c7628.cram\n",
      "684fab30-0dbb-44df-a400-44df8b7c7628.cram.crai\n",
      "4947ca64-703d-4ad7-882a-23817fcf1585.cram\n",
      "4947ca64-703d-4ad7-882a-23817fcf1585.cram.crai\n",
      "2cbca84d-731c-496b-975c-dd58b1cbe9c6.cram\n",
      "2cbca84d-731c-496b-975c-dd58b1cbe9c6.cram.crai\n",
      "5bc7d5c8-9516-4ea8-b6c2-f04b879e1ca6.cram\n",
      "5bc7d5c8-9516-4ea8-b6c2-f04b879e1ca6.cram.crai\n"
     ]
    }
   ],
   "source": [
    "project = 'kids-first-drc/sd-bhjxbdqk-har'\n",
    "bs_list = open('/Users/brownm28/Documents/2018-Sep-10_proteomics_update/other_nantomics_file_update/matched_norm_bs_ids.txt')\n",
    "\n",
    "for bs_id in bs_list:\n",
    "    bs_id = bs_id.rstrip('\\n')\n",
    "    related = api.files.query(project=project, metadata = {'Kids First Biospecimen ID': bs_id})\n",
    "    for f_obj in related:\n",
    "        fn = f_obj.name\n",
    "        parts = fn.split('.')\n",
    "        if parts[-1] == 'cram':\n",
    "            print (fn)"
   ]
  },
  {
   "cell_type": "markdown",
   "metadata": {},
   "source": [
    "### Get DNA Info From Tasks"
   ]
  },
  {
   "cell_type": "code",
   "execution_count": 58,
   "metadata": {},
   "outputs": [],
   "source": [
    "def find_dna_info(dna_proj, dna_list, api):\n",
    "    dna_tasks = api.tasks.query(project=dna_proj).all()\n",
    "    with open(dna_list) as f:\n",
    "        dna_bs_ids = f.read()\n",
    "    # pdb.set_trace()\n",
    "    dna_t_names = {}\n",
    "\n",
    "    for bs_id in dna_bs_ids.split('\\n'):\n",
    "        dna_t_names['alignment-' + bs_id] = 0\n",
    "    for task in dna_tasks:\n",
    "        if task.name in dna_t_names:\n",
    "            try:\n",
    "                fname = task.outputs['cram'].name\n",
    "                dna_t_names[task.name] = 1\n",
    "                print('\\t'.join((task.name, task.id, fname)))\n",
    "            except:\n",
    "                sys.stderr.write(task.name + '\\t' + task.status + '\\n')\n",
    "    for task in dna_t_names:\n",
    "        if dna_t_names[task] == 0:\n",
    "            sys.stderr.write('Missing\\t' + task + '\\n')"
   ]
  },
  {
   "cell_type": "markdown",
   "metadata": {},
   "source": [
    "### Get RNA info from Tasks"
   ]
  },
  {
   "cell_type": "code",
   "execution_count": 36,
   "metadata": {},
   "outputs": [],
   "source": [
    "def find_rna_info(rna_proj, rna_list, api):\n",
    "    rna_tasks = api.tasks.query(project=rna_proj).all()\n",
    "    with open(rna_list) as f:\n",
    "        rna_t_names = f.read()\n",
    "    for task in rna_tasks:\n",
    "        if task.name in rna_t_names:\n",
    "            fname = task.inputs['readFilesIn'][0].name.split('.')\n",
    "            info = task.name.split(' ')\n",
    "            print('\\t'.join((task.name, task.id, fname[0], info[1])))\n",
    "    "
   ]
  },
  {
   "cell_type": "markdown",
   "metadata": {},
   "source": [
    "### copy files between projects"
   ]
  },
  {
   "cell_type": "code",
   "execution_count": 115,
   "metadata": {},
   "outputs": [],
   "source": [
    "def find_copy_file(cur_project, source_project, fname, flag, suffix):\n",
    "   \n",
    "    try:\n",
    "        fname = api.files.query(project=cur_project, names=[fname])[0]\n",
    "        # return cur_cram\n",
    "    except:\n",
    "        sys.stderr.write(fname + ' not in' + cur_project + ', copying from ' + source_project + '\\n')\n",
    "        fname2 = fname + suffix\n",
    "\n",
    "        try:\n",
    "            source_fname = api.files.query(project=source_project, names=[fname])[0]\n",
    "            source_fname.copy(project=cur_project, name=fname)\n",
    "            if flag == 1:\n",
    "                source_fname2 = api.files.query(project=source_project, names=[fname2])[0]\n",
    "                source_fname2.copy(project=cur_project, name=fname2)\n",
    "        except:\n",
    "            sys.stderr.write('Cannot find file ' + fname + '\\n')\n",
    "            # return 'missing'\n",
    "        # cur_fname = api.files.query(project=cur_project, names=[fname])[0]\n",
    "        # return cur_cram"
   ]
  },
  {
   "cell_type": "markdown",
   "metadata": {},
   "source": [
    "### Delete a metadata key"
   ]
  },
  {
   "cell_type": "code",
   "execution_count": 50,
   "metadata": {},
   "outputs": [],
   "source": [
    "def delete_metadata_key(project, fname, key_list, api, f):\n",
    "    flist = []\n",
    "    flist.append(fname)\n",
    "    if f == 1:\n",
    "        flist.append(fname + '.crai')\n",
    "    f_obj = api.files.query(project=project, names=flist)\n",
    "    for obj in f_obj:\n",
    "        cur = {}\n",
    "        for key in obj.metadata:\n",
    "            if key not in key_list:\n",
    "                cur[key] = obj.metadata[key]\n",
    "        obj.metadata = {}\n",
    "        obj.metadata = cur\n",
    "        obj.save()"
   ]
  },
  {
   "cell_type": "markdown",
   "metadata": {},
   "source": [
    "### metadata update function"
   ]
  },
  {
   "cell_type": "code",
   "execution_count": 11,
   "metadata": {},
   "outputs": [],
   "source": [
    "def update_meta(project, fname, meta_dict, api, f):\n",
    "    flist = []\n",
    "    flist.append(fname)\n",
    "    if f == 1:\n",
    "        flist.append(fname + '.crai')\n",
    "    f_obj = api.files.query(project=project, names=flist)\n",
    "    for obj in f_obj:\n",
    "        for key in meta_dict:\n",
    "            obj.metadata[key] = meta_dict[key]\n",
    "            print (obj.name + '\\t' + key + '\\t' +  meta_dict[key])\n",
    "        #obj.save()"
   ]
  },
  {
   "cell_type": "markdown",
   "metadata": {},
   "source": [
    "## Query RNA"
   ]
  },
  {
   "cell_type": "code",
   "execution_count": 37,
   "metadata": {},
   "outputs": [
    {
     "name": "stdout",
     "output_type": "stream",
     "text": [
      "RNAseq-BS_X67GTEM6 7316-1886\t5ac55d70-6489-4731-bc9d-ccf946d833a0\t723fc88f-132c-4ae5-ab16-23f8cd7951c2\t7316-1886\n",
      "RNAseq-BS_F4E8R9VY 7316-914\t819f7898-3e4f-4749-becd-1e2ffbd9197f\tc23dff00-99e5-4f39-81fe-51e0c2876157\t7316-914\n"
     ]
    }
   ],
   "source": [
    "rna_proj = 'kfdrc-harmonization/sd-bhjxbdqk-06'\n",
    "rna_list = '/Users/brownm28/Documents/2018-Sep-10_proteomics_update/query_inputs/rnaseq_task_names.txt'\n",
    "\n",
    "rna_info = find_rna_info(rna_proj, rna_list, api)"
   ]
  },
  {
   "cell_type": "markdown",
   "metadata": {},
   "source": [
    "## Query DNA"
   ]
  },
  {
   "cell_type": "code",
   "execution_count": 59,
   "metadata": {},
   "outputs": [
    {
     "name": "stdout",
     "output_type": "stream",
     "text": [
      "alignment-BS_GXACEYKB\td07126f5-120d-431f-b396-637741770dba\td07126f5-120d-431f-b396-637741770dba.cram\n"
     ]
    },
    {
     "name": "stderr",
     "output_type": "stream",
     "text": [
      "alignment-BS_QMY84KF4\tFAILED\n"
     ]
    },
    {
     "name": "stdout",
     "output_type": "stream",
     "text": [
      "alignment-BS_P3EVK3C2\tc3f22937-b40c-4477-817e-592c1672b52b\tc3f22937-b40c-4477-817e-592c1672b52b.cram\n",
      "alignment-BS_GDPZN3SD\t11f937ea-6562-4cf0-9983-c25051702ad8\t11f937ea-6562-4cf0-9983-c25051702ad8.cram\n",
      "alignment-BS_Z4Q8RH5M\t7631868f-ba56-4dfa-a801-97838f9e3245\t7631868f-ba56-4dfa-a801-97838f9e3245.cram\n",
      "alignment-BS_JQNF0FQP\tf35e0736-088c-4fa9-b111-4c14e698a720\tf35e0736-088c-4fa9-b111-4c14e698a720.cram\n",
      "alignment-BS_AG6M7TJE\tcd3a4b45-81e0-47cb-b23b-92ef54a5e152\tcd3a4b45-81e0-47cb-b23b-92ef54a5e152.cram\n",
      "alignment-BS_RZNNEX1Y\t59a2ab74-bd1d-48b4-8119-51971a1bce62\t59a2ab74-bd1d-48b4-8119-51971a1bce62.cram\n",
      "alignment-BS_8WJR4AA3\tc2577280-05dc-4e28-a5c6-74b8f74e6a35\tc2577280-05dc-4e28-a5c6-74b8f74e6a35.cram\n",
      "alignment-BS_KYG3H6C6\td29137b5-c829-4e4e-9e21-e6cf89bac551\td29137b5-c829-4e4e-9e21-e6cf89bac551.cram\n",
      "alignment-BS_THH0CE5A\t3777448a-ef18-478f-b454-55fe0a01818a\t3777448a-ef18-478f-b454-55fe0a01818a.cram\n",
      "alignment-BS_A94A7EJ4\t06175147-3479-41ad-a44f-398760208223\t06175147-3479-41ad-a44f-398760208223.cram\n",
      "alignment-BS_85Q5P8GF\t7bb4ce67-1877-4ae6-bb37-59be62140426\t7bb4ce67-1877-4ae6-bb37-59be62140426.cram\n"
     ]
    },
    {
     "name": "stderr",
     "output_type": "stream",
     "text": [
      "Missing\talignment-BS_QMY84KF4\n",
      "Missing\talignment-\n"
     ]
    }
   ],
   "source": [
    "tum_proj = 'kfdrc-harmonization/sd-bhjxbdqk-02'\n",
    "tum_list = '/Users/brownm28/Documents/2018-Sep-10_proteomics_update/query_inputs/tumor_bsids.txt'\n",
    "find_dna_info(tum_proj, tum_list, api)"
   ]
  },
  {
   "cell_type": "markdown",
   "metadata": {},
   "source": [
    "## Update File Metadata"
   ]
  },
  {
   "cell_type": "code",
   "execution_count": 8,
   "metadata": {},
   "outputs": [
    {
     "name": "stderr",
     "output_type": "stream",
     "text": [
      "7316-242_750189.Aligned.toTranscriptome.out.bam\tBS_W72364MN\n",
      "7316-2502_746095.Aligned.toTranscriptome.out.bam\tBS_FXHXQRKE\n"
     ]
    },
    {
     "name": "stdout",
     "output_type": "stream",
     "text": [
      "7316-242_750189.Aligned.toTranscriptome.out.bam\tsample_id\t7316-242\n",
      "7316-242_750189.Aligned.toTranscriptome.out.bam\tcase_id\tC752883\n",
      "7316-242_750189.Aligned.toTranscriptome.out.bam\tdisease_type\tMeningioma\n",
      "7316-242_750189.Aligned.toTranscriptome.out.bam\treference_genome\tGRCh38\n",
      "7316-242_750189.Aligned.toTranscriptome.out.bam\tgender\tMale\n",
      "7316-242_750189.Aligned.toTranscriptome.out.bam\tethnicity\tNot Hispanic or Latino\n",
      "7316-242_750189.Aligned.toTranscriptome.out.bam\trace\tWhite\n",
      "7316-242_750189.Aligned.toTranscriptome.out.bam\tKids First Biospecimen ID\tBS_W72364MN\n",
      "7316-242_750189.Aligned.toTranscriptome.out.bam\tsample_type\tTumor\n",
      "7316-242_750189.Aligned.toTranscriptome.out.bam\texperimental_strategy\tRNA-seq\n",
      "7316-242_750189.Aligned.toTranscriptome.out.bam\taliquot_id\t750189\n",
      "7316-2502_746095.Aligned.toTranscriptome.out.bam\tsample_id\t7316-2502\n",
      "7316-2502_746095.Aligned.toTranscriptome.out.bam\tcase_id\tC564078\n",
      "7316-2502_746095.Aligned.toTranscriptome.out.bam\tdisease_type\tMedulloblastoma\n",
      "7316-2502_746095.Aligned.toTranscriptome.out.bam\treference_genome\tGRCh38\n",
      "7316-2502_746095.Aligned.toTranscriptome.out.bam\tgender\tFemale\n",
      "7316-2502_746095.Aligned.toTranscriptome.out.bam\tethnicity\tReported Unknown\n",
      "7316-2502_746095.Aligned.toTranscriptome.out.bam\trace\tWhite\n",
      "7316-2502_746095.Aligned.toTranscriptome.out.bam\tKids First Biospecimen ID\tBS_FXHXQRKE\n",
      "7316-2502_746095.Aligned.toTranscriptome.out.bam\tsample_type\tTumor\n",
      "7316-2502_746095.Aligned.toTranscriptome.out.bam\texperimental_strategy\tRNA-seq\n",
      "7316-2502_746095.Aligned.toTranscriptome.out.bam\taliquot_id\t746095\n",
      "7316-2483_746086.Aligned.toTranscriptome.out.bam\tsample_id\t7316-2483\n",
      "7316-2483_746086.Aligned.toTranscriptome.out.bam\tcase_id\tC563463\n",
      "7316-2483_746086.Aligned.toTranscriptome.out.bam\tdisease_type\tLow-grade glioma/astrocytoma (WHO grade I/II)\n",
      "7316-2483_746086.Aligned.toTranscriptome.out.bam\treference_genome\tGRCh38\n",
      "7316-2483_746086.Aligned.toTranscriptome.out.bam\tgender\tMale\n",
      "7316-2483_746086.Aligned.toTranscriptome.out.bam\tethnicity\tNot Hispanic or Latino\n",
      "7316-2483_746086.Aligned.toTranscriptome.out.bam\trace\tWhite\n",
      "7316-2483_746086.Aligned.toTranscriptome.out.bam\tKids First Biospecimen ID\tBS_89M3B9GR\n",
      "7316-2483_746086.Aligned.toTranscriptome.out.bam\tsample_type\tTumor\n",
      "7316-2483_746086.Aligned.toTranscriptome.out.bam\texperimental_strategy\tRNA-seq\n",
      "7316-2483_746086.Aligned.toTranscriptome.out.bam\taliquot_id\t746086\n"
     ]
    },
    {
     "name": "stderr",
     "output_type": "stream",
     "text": [
      "7316-2483_746086.Aligned.toTranscriptome.out.bam\tBS_89M3B9GR\n",
      "7316-2354_746083.Aligned.toTranscriptome.out.bam\tBS_VSSDSYE8\n",
      "7316-240_746085.Aligned.toTranscriptome.out.bam\tBS_NDRDM2A9\n"
     ]
    },
    {
     "name": "stdout",
     "output_type": "stream",
     "text": [
      "7316-2354_746083.Aligned.toTranscriptome.out.bam\tsample_id\t7316-2354\n",
      "7316-2354_746083.Aligned.toTranscriptome.out.bam\tcase_id\tC562848\n",
      "7316-2354_746083.Aligned.toTranscriptome.out.bam\tdisease_type\tLow-grade glioma/astrocytoma (WHO grade I/II)\n",
      "7316-2354_746083.Aligned.toTranscriptome.out.bam\treference_genome\tGRCh38\n",
      "7316-2354_746083.Aligned.toTranscriptome.out.bam\tgender\tMale\n",
      "7316-2354_746083.Aligned.toTranscriptome.out.bam\tethnicity\tReported Unknown\n",
      "7316-2354_746083.Aligned.toTranscriptome.out.bam\trace\tWhite\n",
      "7316-2354_746083.Aligned.toTranscriptome.out.bam\tKids First Biospecimen ID\tBS_VSSDSYE8\n",
      "7316-2354_746083.Aligned.toTranscriptome.out.bam\tsample_type\tTumor\n",
      "7316-2354_746083.Aligned.toTranscriptome.out.bam\texperimental_strategy\tRNA-seq\n",
      "7316-2354_746083.Aligned.toTranscriptome.out.bam\taliquot_id\t746083\n",
      "7316-240_746085.Aligned.toTranscriptome.out.bam\tsample_id\t7316-240\n",
      "7316-240_746085.Aligned.toTranscriptome.out.bam\tcase_id\tC55842\n",
      "7316-240_746085.Aligned.toTranscriptome.out.bam\tdisease_type\tNeurofibroma/Plexiform\n",
      "7316-240_746085.Aligned.toTranscriptome.out.bam\treference_genome\tGRCh38\n",
      "7316-240_746085.Aligned.toTranscriptome.out.bam\tgender\tMale\n",
      "7316-240_746085.Aligned.toTranscriptome.out.bam\tethnicity\tNot Hispanic or Latino\n",
      "7316-240_746085.Aligned.toTranscriptome.out.bam\trace\tWhite\n",
      "7316-240_746085.Aligned.toTranscriptome.out.bam\tKids First Biospecimen ID\tBS_NDRDM2A9\n",
      "7316-240_746085.Aligned.toTranscriptome.out.bam\tsample_type\tTumor\n",
      "7316-240_746085.Aligned.toTranscriptome.out.bam\texperimental_strategy\tRNA-seq\n",
      "7316-240_746085.Aligned.toTranscriptome.out.bam\taliquot_id\t746085\n",
      "7316-2453_746094.Aligned.toTranscriptome.out.bam\tsample_id\t7316-2453\n",
      "7316-2453_746094.Aligned.toTranscriptome.out.bam\tcase_id\tC546243\n",
      "7316-2453_746094.Aligned.toTranscriptome.out.bam\tdisease_type\tLow-grade glioma/astrocytoma (WHO grade I/II)\n",
      "7316-2453_746094.Aligned.toTranscriptome.out.bam\treference_genome\tGRCh38\n",
      "7316-2453_746094.Aligned.toTranscriptome.out.bam\tgender\tMale\n",
      "7316-2453_746094.Aligned.toTranscriptome.out.bam\tethnicity\tHispanic or Latino\n",
      "7316-2453_746094.Aligned.toTranscriptome.out.bam\trace\tBlack or African American\n",
      "7316-2453_746094.Aligned.toTranscriptome.out.bam\tKids First Biospecimen ID\tBS_8MSZR1JN\n",
      "7316-2453_746094.Aligned.toTranscriptome.out.bam\tsample_type\tTumor\n",
      "7316-2453_746094.Aligned.toTranscriptome.out.bam\texperimental_strategy\tRNA-seq\n",
      "7316-2453_746094.Aligned.toTranscriptome.out.bam\taliquot_id\t746094\n"
     ]
    },
    {
     "name": "stderr",
     "output_type": "stream",
     "text": [
      "7316-2453_746094.Aligned.toTranscriptome.out.bam\tBS_8MSZR1JN\n",
      "7316-2534_746087.Aligned.toTranscriptome.out.bam\tBS_85FRR415\n",
      "7316-2389_746084.Aligned.toTranscriptome.out.bam\tBS_0FRZD0VR\n"
     ]
    },
    {
     "name": "stdout",
     "output_type": "stream",
     "text": [
      "7316-2534_746087.Aligned.toTranscriptome.out.bam\tsample_id\t7316-2534\n",
      "7316-2534_746087.Aligned.toTranscriptome.out.bam\tcase_id\tC541692\n",
      "7316-2534_746087.Aligned.toTranscriptome.out.bam\tdisease_type\tLow-grade glioma/astrocytoma (WHO grade I/II)\n",
      "7316-2534_746087.Aligned.toTranscriptome.out.bam\treference_genome\tGRCh38\n",
      "7316-2534_746087.Aligned.toTranscriptome.out.bam\tgender\tFemale\n",
      "7316-2534_746087.Aligned.toTranscriptome.out.bam\tethnicity\tNot Hispanic or Latino\n",
      "7316-2534_746087.Aligned.toTranscriptome.out.bam\trace\tWhite\n",
      "7316-2534_746087.Aligned.toTranscriptome.out.bam\tKids First Biospecimen ID\tBS_85FRR415\n",
      "7316-2534_746087.Aligned.toTranscriptome.out.bam\tsample_type\tTumor\n",
      "7316-2534_746087.Aligned.toTranscriptome.out.bam\texperimental_strategy\tRNA-seq\n",
      "7316-2534_746087.Aligned.toTranscriptome.out.bam\taliquot_id\t746087\n",
      "7316-2389_746084.Aligned.toTranscriptome.out.bam\tsample_id\t7316-2389\n",
      "7316-2389_746084.Aligned.toTranscriptome.out.bam\tcase_id\tC529392\n",
      "7316-2389_746084.Aligned.toTranscriptome.out.bam\tdisease_type\tLow-grade glioma/astrocytoma (WHO grade I/II)\n",
      "7316-2389_746084.Aligned.toTranscriptome.out.bam\treference_genome\tGRCh38\n",
      "7316-2389_746084.Aligned.toTranscriptome.out.bam\tgender\tMale\n",
      "7316-2389_746084.Aligned.toTranscriptome.out.bam\tethnicity\tReported Unknown\n",
      "7316-2389_746084.Aligned.toTranscriptome.out.bam\trace\tWhite\n",
      "7316-2389_746084.Aligned.toTranscriptome.out.bam\tKids First Biospecimen ID\tBS_0FRZD0VR\n",
      "7316-2389_746084.Aligned.toTranscriptome.out.bam\tsample_type\tTumor\n",
      "7316-2389_746084.Aligned.toTranscriptome.out.bam\texperimental_strategy\tRNA-seq\n",
      "7316-2389_746084.Aligned.toTranscriptome.out.bam\taliquot_id\t746084\n",
      "7316-2378_746093.Aligned.toTranscriptome.out.bam\tsample_id\t7316-2378\n",
      "7316-2378_746093.Aligned.toTranscriptome.out.bam\tcase_id\tC528408\n",
      "7316-2378_746093.Aligned.toTranscriptome.out.bam\tdisease_type\tLow-grade glioma/astrocytoma (WHO grade I/II)\n",
      "7316-2378_746093.Aligned.toTranscriptome.out.bam\treference_genome\tGRCh38\n",
      "7316-2378_746093.Aligned.toTranscriptome.out.bam\tgender\tFemale\n",
      "7316-2378_746093.Aligned.toTranscriptome.out.bam\tethnicity\tNot Hispanic or Latino\n",
      "7316-2378_746093.Aligned.toTranscriptome.out.bam\trace\tWhite\n",
      "7316-2378_746093.Aligned.toTranscriptome.out.bam\tKids First Biospecimen ID\tBS_6JRS8YMM\n",
      "7316-2378_746093.Aligned.toTranscriptome.out.bam\tsample_type\tTumor\n",
      "7316-2378_746093.Aligned.toTranscriptome.out.bam\texperimental_strategy\tRNA-seq\n",
      "7316-2378_746093.Aligned.toTranscriptome.out.bam\taliquot_id\t746093\n"
     ]
    },
    {
     "name": "stderr",
     "output_type": "stream",
     "text": [
      "7316-2378_746093.Aligned.toTranscriptome.out.bam\tBS_6JRS8YMM\n",
      "7316-262_750190.Aligned.toTranscriptome.out.bam\tBS_XKKB4MZV\n",
      "7316-229_746088.Aligned.toTranscriptome.out.bam\tBS_JXF8A2A6\n"
     ]
    },
    {
     "name": "stdout",
     "output_type": "stream",
     "text": [
      "7316-262_750190.Aligned.toTranscriptome.out.bam\tsample_id\t7316-262\n",
      "7316-262_750190.Aligned.toTranscriptome.out.bam\tcase_id\tC52521\n",
      "7316-262_750190.Aligned.toTranscriptome.out.bam\tdisease_type\tLow-grade glioma/astrocytoma (WHO grade I/II)\n",
      "7316-262_750190.Aligned.toTranscriptome.out.bam\treference_genome\tGRCh38\n",
      "7316-262_750190.Aligned.toTranscriptome.out.bam\tgender\tMale\n",
      "7316-262_750190.Aligned.toTranscriptome.out.bam\tethnicity\tNot Hispanic or Latino\n",
      "7316-262_750190.Aligned.toTranscriptome.out.bam\trace\tWhite\n",
      "7316-262_750190.Aligned.toTranscriptome.out.bam\tKids First Biospecimen ID\tBS_XKKB4MZV\n",
      "7316-262_750190.Aligned.toTranscriptome.out.bam\tsample_type\tTumor\n",
      "7316-262_750190.Aligned.toTranscriptome.out.bam\texperimental_strategy\tRNA-seq\n",
      "7316-262_750190.Aligned.toTranscriptome.out.bam\taliquot_id\t750190\n",
      "7316-229_746088.Aligned.toTranscriptome.out.bam\tsample_id\t7316-229\n",
      "7316-229_746088.Aligned.toTranscriptome.out.bam\tcase_id\tC52152\n",
      "7316-229_746088.Aligned.toTranscriptome.out.bam\tdisease_type\tCraniopharyngioma\n",
      "7316-229_746088.Aligned.toTranscriptome.out.bam\treference_genome\tGRCh38\n",
      "7316-229_746088.Aligned.toTranscriptome.out.bam\tgender\tFemale\n",
      "7316-229_746088.Aligned.toTranscriptome.out.bam\tethnicity\tNot Hispanic or Latino\n",
      "7316-229_746088.Aligned.toTranscriptome.out.bam\trace\tWhite\n",
      "7316-229_746088.Aligned.toTranscriptome.out.bam\tKids First Biospecimen ID\tBS_JXF8A2A6\n",
      "7316-229_746088.Aligned.toTranscriptome.out.bam\tsample_type\tTumor\n",
      "7316-229_746088.Aligned.toTranscriptome.out.bam\texperimental_strategy\tRNA-seq\n",
      "7316-229_746088.Aligned.toTranscriptome.out.bam\taliquot_id\t746088\n"
     ]
    },
    {
     "name": "stderr",
     "output_type": "stream",
     "text": [
      "7316-261_750191.Aligned.toTranscriptome.out.bam\tBS_593HEWBF\n",
      "7316-1861_746092.Aligned.toTranscriptome.out.bam\tBS_ZF8KKCKY\n",
      "7316-1880_746091.Aligned.toTranscriptome.out.bam\tBS_Y5CG43TJ\n"
     ]
    },
    {
     "name": "stdout",
     "output_type": "stream",
     "text": [
      "7316-261_750191.Aligned.toTranscriptome.out.bam\tsample_id\t7316-261\n",
      "7316-261_750191.Aligned.toTranscriptome.out.bam\tcase_id\tC48093\n",
      "7316-261_750191.Aligned.toTranscriptome.out.bam\tdisease_type\tGanglioglioma\n",
      "7316-261_750191.Aligned.toTranscriptome.out.bam\treference_genome\tGRCh38\n",
      "7316-261_750191.Aligned.toTranscriptome.out.bam\tgender\tMale\n",
      "7316-261_750191.Aligned.toTranscriptome.out.bam\tethnicity\tNot Hispanic or Latino\n",
      "7316-261_750191.Aligned.toTranscriptome.out.bam\trace\tWhite\n",
      "7316-261_750191.Aligned.toTranscriptome.out.bam\tKids First Biospecimen ID\tBS_593HEWBF\n",
      "7316-261_750191.Aligned.toTranscriptome.out.bam\tsample_type\tTumor\n",
      "7316-261_750191.Aligned.toTranscriptome.out.bam\texperimental_strategy\tRNA-seq\n",
      "7316-261_750191.Aligned.toTranscriptome.out.bam\taliquot_id\t750191\n",
      "7316-1861_746092.Aligned.toTranscriptome.out.bam\tsample_id\t7316-1861\n",
      "7316-1861_746092.Aligned.toTranscriptome.out.bam\tcase_id\tC431976\n",
      "7316-1861_746092.Aligned.toTranscriptome.out.bam\tdisease_type\tGanglioglioma\n",
      "7316-1861_746092.Aligned.toTranscriptome.out.bam\treference_genome\tGRCh38\n",
      "7316-1861_746092.Aligned.toTranscriptome.out.bam\tgender\tFemale\n",
      "7316-1861_746092.Aligned.toTranscriptome.out.bam\tethnicity\tReported Unknown\n",
      "7316-1861_746092.Aligned.toTranscriptome.out.bam\trace\tWhite\n",
      "7316-1861_746092.Aligned.toTranscriptome.out.bam\tKids First Biospecimen ID\tBS_ZF8KKCKY\n",
      "7316-1861_746092.Aligned.toTranscriptome.out.bam\tsample_type\tTumor\n",
      "7316-1861_746092.Aligned.toTranscriptome.out.bam\texperimental_strategy\tRNA-seq\n",
      "7316-1861_746092.Aligned.toTranscriptome.out.bam\taliquot_id\t746092\n",
      "7316-1880_746091.Aligned.toTranscriptome.out.bam\tsample_id\t7316-1880\n",
      "7316-1880_746091.Aligned.toTranscriptome.out.bam\tcase_id\tC431115\n",
      "7316-1880_746091.Aligned.toTranscriptome.out.bam\tdisease_type\tMeningioma\n",
      "7316-1880_746091.Aligned.toTranscriptome.out.bam\treference_genome\tGRCh38\n",
      "7316-1880_746091.Aligned.toTranscriptome.out.bam\tgender\tMale\n",
      "7316-1880_746091.Aligned.toTranscriptome.out.bam\tethnicity\tNot Hispanic or Latino\n",
      "7316-1880_746091.Aligned.toTranscriptome.out.bam\trace\tBlack or African American\n",
      "7316-1880_746091.Aligned.toTranscriptome.out.bam\tKids First Biospecimen ID\tBS_Y5CG43TJ\n",
      "7316-1880_746091.Aligned.toTranscriptome.out.bam\tsample_type\tTumor\n",
      "7316-1880_746091.Aligned.toTranscriptome.out.bam\texperimental_strategy\tRNA-seq\n",
      "7316-1880_746091.Aligned.toTranscriptome.out.bam\taliquot_id\t746091\n",
      "7316-554_746089.Aligned.toTranscriptome.out.bam\tsample_id\t7316-554\n",
      "7316-554_746089.Aligned.toTranscriptome.out.bam\tcase_id\tC137760\n",
      "7316-554_746089.Aligned.toTranscriptome.out.bam\tdisease_type\tLow-grade glioma/astrocytoma (WHO grade I/II)\n",
      "7316-554_746089.Aligned.toTranscriptome.out.bam\treference_genome\tGRCh38\n",
      "7316-554_746089.Aligned.toTranscriptome.out.bam\tgender\tMale\n",
      "7316-554_746089.Aligned.toTranscriptome.out.bam\tethnicity\tNot Hispanic or Latino\n",
      "7316-554_746089.Aligned.toTranscriptome.out.bam\trace\tWhite\n",
      "7316-554_746089.Aligned.toTranscriptome.out.bam\tKids First Biospecimen ID\tBS_MY9D8XZ1\n",
      "7316-554_746089.Aligned.toTranscriptome.out.bam\tsample_type\tTumor\n",
      "7316-554_746089.Aligned.toTranscriptome.out.bam\texperimental_strategy\tRNA-seq\n",
      "7316-554_746089.Aligned.toTranscriptome.out.bam\taliquot_id\t746089\n"
     ]
    },
    {
     "name": "stderr",
     "output_type": "stream",
     "text": [
      "7316-554_746089.Aligned.toTranscriptome.out.bam\tBS_MY9D8XZ1\n",
      "7316-544_577731.Aligned.toTranscriptome.out.bam\tBS_7GJT4A6A\n",
      "7316-364_570114.Aligned.toTranscriptome.out.bam\tBS_0448A413\n"
     ]
    },
    {
     "name": "stdout",
     "output_type": "stream",
     "text": [
      "7316-544_577731.Aligned.toTranscriptome.out.bam\tsample_id\t7316-544\n",
      "7316-544_577731.Aligned.toTranscriptome.out.bam\tcase_id\tC122877\n",
      "7316-544_577731.Aligned.toTranscriptome.out.bam\tdisease_type\tBrainstem glioma- Diffuse intrinsic pontine glioma\n",
      "7316-544_577731.Aligned.toTranscriptome.out.bam\treference_genome\tGRCh38\n",
      "7316-544_577731.Aligned.toTranscriptome.out.bam\tgender\tMale\n",
      "7316-544_577731.Aligned.toTranscriptome.out.bam\tethnicity\tNot Hispanic or Latino\n",
      "7316-544_577731.Aligned.toTranscriptome.out.bam\trace\tOther\n",
      "7316-544_577731.Aligned.toTranscriptome.out.bam\tKids First Biospecimen ID\tBS_7GJT4A6A\n",
      "7316-544_577731.Aligned.toTranscriptome.out.bam\tsample_type\tTumor\n",
      "7316-544_577731.Aligned.toTranscriptome.out.bam\texperimental_strategy\tRNA-seq\n",
      "7316-544_577731.Aligned.toTranscriptome.out.bam\taliquot_id\t577731\n",
      "7316-364_570114.Aligned.toTranscriptome.out.bam\tsample_id\t7316-364\n",
      "7316-364_570114.Aligned.toTranscriptome.out.bam\tcase_id\tC76137\n",
      "7316-364_570114.Aligned.toTranscriptome.out.bam\tdisease_type\tEwing's Sarcoma\n",
      "7316-364_570114.Aligned.toTranscriptome.out.bam\treference_genome\tGRCh38\n",
      "7316-364_570114.Aligned.toTranscriptome.out.bam\tgender\tMale\n",
      "7316-364_570114.Aligned.toTranscriptome.out.bam\tethnicity\tNot Hispanic or Latino\n",
      "7316-364_570114.Aligned.toTranscriptome.out.bam\trace\tOther\n",
      "7316-364_570114.Aligned.toTranscriptome.out.bam\tKids First Biospecimen ID\tBS_0448A413\n",
      "7316-364_570114.Aligned.toTranscriptome.out.bam\tsample_type\tTumor\n",
      "7316-364_570114.Aligned.toTranscriptome.out.bam\texperimental_strategy\tRNA-seq\n",
      "7316-364_570114.Aligned.toTranscriptome.out.bam\taliquot_id\t570114\n"
     ]
    },
    {
     "ename": "BadRequest",
     "evalue": "The Disease type may only contain English letters, numbers, spaces, parentheses, and the symbols: '-', '_', '/', ';' and '.'.",
     "output_type": "error",
     "traceback": [
      "\u001b[0;31m---------------------------------------------------------------------------\u001b[0m",
      "\u001b[0;31mBadRequest\u001b[0m                                Traceback (most recent call last)",
      "\u001b[0;32m<ipython-input-8-ecd0722672d1>\u001b[0m in \u001b[0;36m<module>\u001b[0;34m()\u001b[0m\n\u001b[1;32m     40\u001b[0m         \u001b[0mcur_meta\u001b[0m\u001b[0;34m[\u001b[0m\u001b[0;34m'experimental_strategy'\u001b[0m\u001b[0;34m]\u001b[0m \u001b[0;34m=\u001b[0m \u001b[0;34m'RNA-seq'\u001b[0m\u001b[0;34m\u001b[0m\u001b[0m\n\u001b[1;32m     41\u001b[0m         \u001b[0mcur_meta\u001b[0m\u001b[0;34m[\u001b[0m\u001b[0;34m'aliquot_id'\u001b[0m\u001b[0;34m]\u001b[0m \u001b[0;34m=\u001b[0m \u001b[0mdata\u001b[0m\u001b[0;34m[\u001b[0m\u001b[0;36m8\u001b[0m\u001b[0;34m]\u001b[0m\u001b[0;34m\u001b[0m\u001b[0m\n\u001b[0;32m---> 42\u001b[0;31m         \u001b[0mupdate_meta\u001b[0m\u001b[0;34m(\u001b[0m\u001b[0mrna_proj\u001b[0m\u001b[0;34m,\u001b[0m \u001b[0mrna_bam\u001b[0m\u001b[0;34m,\u001b[0m \u001b[0mcur_meta\u001b[0m\u001b[0;34m,\u001b[0m \u001b[0mapi\u001b[0m\u001b[0;34m,\u001b[0m \u001b[0;36m0\u001b[0m\u001b[0;34m)\u001b[0m\u001b[0;34m\u001b[0m\u001b[0m\n\u001b[0m",
      "\u001b[0;32m<ipython-input-7-a0ff426e0be4>\u001b[0m in \u001b[0;36mupdate_meta\u001b[0;34m(project, fname, meta_dict, api, f)\u001b[0m\n\u001b[1;32m      9\u001b[0m             \u001b[0mobj\u001b[0m\u001b[0;34m.\u001b[0m\u001b[0mmetadata\u001b[0m\u001b[0;34m[\u001b[0m\u001b[0mkey\u001b[0m\u001b[0;34m]\u001b[0m \u001b[0;34m=\u001b[0m \u001b[0mmeta_dict\u001b[0m\u001b[0;34m[\u001b[0m\u001b[0mkey\u001b[0m\u001b[0;34m]\u001b[0m\u001b[0;34m\u001b[0m\u001b[0m\n\u001b[1;32m     10\u001b[0m             \u001b[0mprint\u001b[0m \u001b[0;34m(\u001b[0m\u001b[0mobj\u001b[0m\u001b[0;34m.\u001b[0m\u001b[0mname\u001b[0m \u001b[0;34m+\u001b[0m \u001b[0;34m'\\t'\u001b[0m \u001b[0;34m+\u001b[0m \u001b[0mkey\u001b[0m \u001b[0;34m+\u001b[0m \u001b[0;34m'\\t'\u001b[0m \u001b[0;34m+\u001b[0m  \u001b[0mmeta_dict\u001b[0m\u001b[0;34m[\u001b[0m\u001b[0mkey\u001b[0m\u001b[0;34m]\u001b[0m\u001b[0;34m)\u001b[0m\u001b[0;34m\u001b[0m\u001b[0m\n\u001b[0;32m---> 11\u001b[0;31m         \u001b[0mobj\u001b[0m\u001b[0;34m.\u001b[0m\u001b[0msave\u001b[0m\u001b[0;34m(\u001b[0m\u001b[0;34m)\u001b[0m\u001b[0;34m\u001b[0m\u001b[0m\n\u001b[0m",
      "\u001b[0;32m/anaconda3/lib/python3.6/site-packages/sevenbridges/decorators.py\u001b[0m in \u001b[0;36mwrapped\u001b[0;34m(obj, *args, **kwargs)\u001b[0m\n\u001b[1;32m     25\u001b[0m     \u001b[0;32mdef\u001b[0m \u001b[0mwrapped\u001b[0m\u001b[0;34m(\u001b[0m\u001b[0mobj\u001b[0m\u001b[0;34m,\u001b[0m \u001b[0;34m*\u001b[0m\u001b[0margs\u001b[0m\u001b[0;34m,\u001b[0m \u001b[0;34m**\u001b[0m\u001b[0mkwargs\u001b[0m\u001b[0;34m)\u001b[0m\u001b[0;34m:\u001b[0m\u001b[0;34m\u001b[0m\u001b[0m\n\u001b[1;32m     26\u001b[0m         \u001b[0min_place\u001b[0m \u001b[0;34m=\u001b[0m \u001b[0;32mTrue\u001b[0m \u001b[0;32mif\u001b[0m \u001b[0mkwargs\u001b[0m\u001b[0;34m.\u001b[0m\u001b[0mget\u001b[0m\u001b[0;34m(\u001b[0m\u001b[0;34m'inplace'\u001b[0m\u001b[0;34m)\u001b[0m \u001b[0;32min\u001b[0m \u001b[0;34m(\u001b[0m\u001b[0;32mTrue\u001b[0m\u001b[0;34m,\u001b[0m \u001b[0;32mNone\u001b[0m\u001b[0;34m)\u001b[0m \u001b[0;32melse\u001b[0m \u001b[0;32mFalse\u001b[0m\u001b[0;34m\u001b[0m\u001b[0m\n\u001b[0;32m---> 27\u001b[0;31m         \u001b[0mapi_object\u001b[0m \u001b[0;34m=\u001b[0m \u001b[0mmethod\u001b[0m\u001b[0;34m(\u001b[0m\u001b[0mobj\u001b[0m\u001b[0;34m,\u001b[0m \u001b[0;34m*\u001b[0m\u001b[0margs\u001b[0m\u001b[0;34m,\u001b[0m \u001b[0;34m**\u001b[0m\u001b[0mkwargs\u001b[0m\u001b[0;34m)\u001b[0m\u001b[0;34m\u001b[0m\u001b[0m\n\u001b[0m\u001b[1;32m     28\u001b[0m         \u001b[0;32mif\u001b[0m \u001b[0min_place\u001b[0m \u001b[0;32mand\u001b[0m \u001b[0mapi_object\u001b[0m\u001b[0;34m:\u001b[0m\u001b[0;34m\u001b[0m\u001b[0m\n\u001b[1;32m     29\u001b[0m             \u001b[0mobj\u001b[0m\u001b[0;34m.\u001b[0m\u001b[0m_data\u001b[0m \u001b[0;34m=\u001b[0m \u001b[0mapi_object\u001b[0m\u001b[0;34m.\u001b[0m\u001b[0m_data\u001b[0m\u001b[0;34m\u001b[0m\u001b[0m\n",
      "\u001b[0;32m/anaconda3/lib/python3.6/site-packages/sevenbridges/models/file.py\u001b[0m in \u001b[0;36msave\u001b[0;34m(self, inplace, silent)\u001b[0m\n\u001b[1;32m    284\u001b[0m                     self._api.patch(\n\u001b[1;32m    285\u001b[0m                         \u001b[0murl\u001b[0m\u001b[0;34m=\u001b[0m\u001b[0mself\u001b[0m\u001b[0;34m.\u001b[0m\u001b[0m_URL\u001b[0m\u001b[0;34m[\u001b[0m\u001b[0;34m'metadata'\u001b[0m\u001b[0;34m]\u001b[0m\u001b[0;34m.\u001b[0m\u001b[0mformat\u001b[0m\u001b[0;34m(\u001b[0m\u001b[0mid\u001b[0m\u001b[0;34m=\u001b[0m\u001b[0mself\u001b[0m\u001b[0;34m.\u001b[0m\u001b[0mid\u001b[0m\u001b[0;34m)\u001b[0m\u001b[0;34m,\u001b[0m\u001b[0;34m\u001b[0m\u001b[0m\n\u001b[0;32m--> 286\u001b[0;31m                         \u001b[0mdata\u001b[0m\u001b[0;34m=\u001b[0m\u001b[0mmodified_data\u001b[0m\u001b[0;34m[\u001b[0m\u001b[0;34m'metadata'\u001b[0m\u001b[0;34m]\u001b[0m\u001b[0;34m\u001b[0m\u001b[0m\n\u001b[0m\u001b[1;32m    287\u001b[0m                     )\n\u001b[1;32m    288\u001b[0m                 \u001b[0mmodified_data\u001b[0m\u001b[0;34m.\u001b[0m\u001b[0mpop\u001b[0m\u001b[0;34m(\u001b[0m\u001b[0;34m'metadata'\u001b[0m\u001b[0;34m)\u001b[0m\u001b[0;34m\u001b[0m\u001b[0m\n",
      "\u001b[0;32m/anaconda3/lib/python3.6/site-packages/sevenbridges/http/client.py\u001b[0m in \u001b[0;36mpatch\u001b[0;34m(self, url, headers, params, data, append_base)\u001b[0m\n\u001b[1;32m    233\u001b[0m               append_base=True):\n\u001b[1;32m    234\u001b[0m         return self._request('PATCH', url=url, headers=headers, params=params,\n\u001b[0;32m--> 235\u001b[0;31m                              data=data, append_base=append_base)\n\u001b[0m\u001b[1;32m    236\u001b[0m \u001b[0;34m\u001b[0m\u001b[0m\n\u001b[1;32m    237\u001b[0m     \u001b[0;32mdef\u001b[0m \u001b[0mdelete\u001b[0m\u001b[0;34m(\u001b[0m\u001b[0mself\u001b[0m\u001b[0;34m,\u001b[0m \u001b[0murl\u001b[0m\u001b[0;34m,\u001b[0m \u001b[0mheaders\u001b[0m\u001b[0;34m=\u001b[0m\u001b[0;32mNone\u001b[0m\u001b[0;34m,\u001b[0m \u001b[0mparams\u001b[0m\u001b[0;34m=\u001b[0m\u001b[0;32mNone\u001b[0m\u001b[0;34m,\u001b[0m \u001b[0mappend_base\u001b[0m\u001b[0;34m=\u001b[0m\u001b[0;32mTrue\u001b[0m\u001b[0;34m)\u001b[0m\u001b[0;34m:\u001b[0m\u001b[0;34m\u001b[0m\u001b[0m\n",
      "\u001b[0;32m/anaconda3/lib/python3.6/site-packages/sevenbridges/decorators.py\u001b[0m in \u001b[0;36mwrapper\u001b[0;34m(*args, **kwargs)\u001b[0m\n\u001b[1;32m    132\u001b[0m             \u001b[0;32mif\u001b[0m \u001b[0;34m'more_info'\u001b[0m \u001b[0;32min\u001b[0m \u001b[0mdata\u001b[0m\u001b[0;34m:\u001b[0m\u001b[0;34m\u001b[0m\u001b[0m\n\u001b[1;32m    133\u001b[0m                 \u001b[0me\u001b[0m\u001b[0;34m.\u001b[0m\u001b[0mmore_info\u001b[0m \u001b[0;34m=\u001b[0m \u001b[0mdata\u001b[0m\u001b[0;34m[\u001b[0m\u001b[0;34m'more_info'\u001b[0m\u001b[0;34m]\u001b[0m\u001b[0;34m\u001b[0m\u001b[0m\n\u001b[0;32m--> 134\u001b[0;31m             \u001b[0;32mraise\u001b[0m \u001b[0me\u001b[0m\u001b[0;34m\u001b[0m\u001b[0m\n\u001b[0m\u001b[1;32m    135\u001b[0m         \u001b[0;32mexcept\u001b[0m \u001b[0mrequests\u001b[0m\u001b[0;34m.\u001b[0m\u001b[0mRequestException\u001b[0m \u001b[0;32mas\u001b[0m \u001b[0me\u001b[0m\u001b[0;34m:\u001b[0m\u001b[0;34m\u001b[0m\u001b[0m\n\u001b[1;32m    136\u001b[0m             \u001b[0;32mraise\u001b[0m \u001b[0mSbgError\u001b[0m\u001b[0;34m(\u001b[0m\u001b[0mmessage\u001b[0m\u001b[0;34m=\u001b[0m\u001b[0msix\u001b[0m\u001b[0;34m.\u001b[0m\u001b[0mtext_type\u001b[0m\u001b[0;34m(\u001b[0m\u001b[0me\u001b[0m\u001b[0;34m)\u001b[0m\u001b[0;34m)\u001b[0m\u001b[0;34m\u001b[0m\u001b[0m\n",
      "\u001b[0;31mBadRequest\u001b[0m: The Disease type may only contain English letters, numbers, spaces, parentheses, and the symbols: '-', '_', '/', ';' and '.'."
     ]
    }
   ],
   "source": [
    "update_file = open('/Users/brownm28/Documents/2018-Sep-10_proteomics_update/other_nantomics_file_update/dna_meta_update.txt')\n",
    "head = next(update_file)\n",
    "tum_proj = 'kfdrc-harmonization/sd-bhjxbdqk-02'\n",
    "norm_proj = 'kids-first-drc/sd-bhjxbdqk-har'\n",
    "rna_proj = 'kfdrc-harmonization/sd-bhjxbdqk-06'\n",
    "\n",
    "for line in update_file:\n",
    "    data = line.rstrip('\\n').split('\\t')\n",
    "    (n, t, r) = (9, -1, -1)\n",
    "    #norm_cram = data[n]\n",
    "    norm_cram = 'NULL'\n",
    "    tum_cram = data[t]\n",
    "    # tum_cram = 'NULL'\n",
    "    # rna_bam = data[r]\n",
    "    rna_bam = 'NULL'\n",
    "    cur_meta = {}\n",
    "    # cur_meta['sample_id'] = data[12]\n",
    "    cur_meta['case_id'] = data[11]\n",
    "    # there are 3 bs id columns, offset depends on working column of normal = 3, tumor = 4, rna = 5\n",
    "    cur_meta['disease_type'] = data[-3]\n",
    "    cur_meta['reference_genome'] = 'GRCh38'\n",
    "    cur_meta['gender'] = data[12]\n",
    "    cur_meta['ethnicity'] = data[13]\n",
    "    cur_meta['race'] = data[14]\n",
    "    if norm_cram != 'NULL':\n",
    "        sys.stderr.write(norm_cram + '\\t' + data[2] + '\\n')\n",
    "        cur_meta['sample_type'] = 'Normal'\n",
    "        cur_meta['Kids First Biospecimen ID'] = data[2]\n",
    "        cur_meta['experimental_strategy'] = 'WGS'\n",
    "        update_meta(norm_proj, norm_cram, cur_meta, api, 1)\n",
    "    if tum_cram != 'NULL':\n",
    "        sys.stderr.write(tum_cram + '\\t' + data[3] + '\\n')\n",
    "        cur_meta['Kids First Biospecimen ID'] = data[3]\n",
    "        cur_meta['sample_type'] = 'Tumor'\n",
    "        cur_meta['experimental_strategy'] = 'WGS'\n",
    "        cur_meta['aliquot_id'] = \n",
    "        update_meta(tum_proj, tum_cram, cur_meta, api, 1)\n",
    "    if rna_bam != 'NULL':\n",
    "        sys.stderr.write(rna_bam + '\\t' + data[6] + '\\n')\n",
    "        cur_meta['Kids First Biospecimen ID'] = data[6]\n",
    "        cur_meta['sample_type'] = 'Tumor'\n",
    "        cur_meta['experimental_strategy'] = 'RNA-seq'\n",
    "        cur_meta['aliquot_id'] = data[8]\n",
    "        update_meta(rna_proj, rna_bam, cur_meta, api, 0)"
   ]
  },
  {
   "cell_type": "markdown",
   "metadata": {},
   "source": [
    "## patch aliquot id"
   ]
  },
  {
   "cell_type": "code",
   "execution_count": 53,
   "metadata": {},
   "outputs": [
    {
     "name": "stderr",
     "output_type": "stream",
     "text": [
      "29997c0d-d2ef-4a1f-b631-727b338692b2.cram\tBS_92HPNHFB\n"
     ]
    },
    {
     "name": "stdout",
     "output_type": "stream",
     "text": [
      "['_API', '__class__', '__contains__', '__delattr__', '__delitem__', '__dict__', '__dir__', '__doc__', '__eq__', '__format__', '__ge__', '__getattribute__', '__getitem__', '__gt__', '__hash__', '__init__', '__init_subclass__', '__iter__', '__le__', '__len__', '__lt__', '__module__', '__ne__', '__new__', '__reduce__', '__reduce_ex__', '__repr__', '__setattr__', '__setitem__', '__sizeof__', '__slotnames__', '__str__', '__subclasshook__', '__weakref__', '_api', '_fields', '_name', '_parent', '_query', 'clear', 'copy', 'delete', 'equals', 'field', 'fromkeys', 'get', 'items', 'keys', 'pop', 'popitem', 'reload', 'setdefault', 'update', 'values']\n",
      "29997c0d-d2ef-4a1f-b631-727b338692b2.cram\taliquot_id\t550040\n",
      "['_API', '__class__', '__contains__', '__delattr__', '__delitem__', '__dict__', '__dir__', '__doc__', '__eq__', '__format__', '__ge__', '__getattribute__', '__getitem__', '__gt__', '__hash__', '__init__', '__init_subclass__', '__iter__', '__le__', '__len__', '__lt__', '__module__', '__ne__', '__new__', '__reduce__', '__reduce_ex__', '__repr__', '__setattr__', '__setitem__', '__sizeof__', '__slotnames__', '__str__', '__subclasshook__', '__weakref__', '_api', '_fields', '_name', '_parent', '_query', 'clear', 'copy', 'delete', 'equals', 'field', 'fromkeys', 'get', 'items', 'keys', 'pop', 'popitem', 'reload', 'setdefault', 'update', 'values']\n",
      "29997c0d-d2ef-4a1f-b631-727b338692b2.cram.crai\taliquot_id\t550040\n",
      "['_API', '__class__', '__contains__', '__delattr__', '__delitem__', '__dict__', '__dir__', '__doc__', '__eq__', '__format__', '__ge__', '__getattribute__', '__getitem__', '__gt__', '__hash__', '__init__', '__init_subclass__', '__iter__', '__le__', '__len__', '__lt__', '__module__', '__ne__', '__new__', '__reduce__', '__reduce_ex__', '__repr__', '__setattr__', '__setitem__', '__sizeof__', '__slotnames__', '__str__', '__subclasshook__', '__weakref__', '_api', '_fields', '_name', '_parent', '_query', 'clear', 'copy', 'delete', 'equals', 'field', 'fromkeys', 'get', 'items', 'keys', 'pop', 'popitem', 'reload', 'setdefault', 'update', 'values']\n",
      "f35e0736-088c-4fa9-b111-4c14e698a720.cram\taliquot_id\t571315\n"
     ]
    },
    {
     "name": "stderr",
     "output_type": "stream",
     "text": [
      "f35e0736-088c-4fa9-b111-4c14e698a720.cram\tBS_JQNF0FQP\n",
      "7316-120_571417.Aligned.toTranscriptome.out.bam\tBS_B7X8VXQ3\n"
     ]
    },
    {
     "name": "stdout",
     "output_type": "stream",
     "text": [
      "['_API', '__class__', '__contains__', '__delattr__', '__delitem__', '__dict__', '__dir__', '__doc__', '__eq__', '__format__', '__ge__', '__getattribute__', '__getitem__', '__gt__', '__hash__', '__init__', '__init_subclass__', '__iter__', '__le__', '__len__', '__lt__', '__module__', '__ne__', '__new__', '__reduce__', '__reduce_ex__', '__repr__', '__setattr__', '__setitem__', '__sizeof__', '__slotnames__', '__str__', '__subclasshook__', '__weakref__', '_api', '_fields', '_name', '_parent', '_query', 'clear', 'copy', 'delete', 'equals', 'field', 'fromkeys', 'get', 'items', 'keys', 'pop', 'popitem', 'reload', 'setdefault', 'update', 'values']\n",
      "f35e0736-088c-4fa9-b111-4c14e698a720.cram.crai\taliquot_id\t571315\n",
      "['_API', '__class__', '__contains__', '__delattr__', '__delitem__', '__dict__', '__dir__', '__doc__', '__eq__', '__format__', '__ge__', '__getattribute__', '__getitem__', '__gt__', '__hash__', '__init__', '__init_subclass__', '__iter__', '__le__', '__len__', '__lt__', '__module__', '__ne__', '__new__', '__reduce__', '__reduce_ex__', '__repr__', '__setattr__', '__setitem__', '__sizeof__', '__slotnames__', '__str__', '__subclasshook__', '__weakref__', '_api', '_fields', '_name', '_parent', '_query', 'clear', 'copy', 'delete', 'equals', 'field', 'fromkeys', 'get', 'items', 'keys', 'pop', 'popitem', 'reload', 'setdefault', 'update', 'values']\n",
      "7316-120_571417.Aligned.toTranscriptome.out.bam\taliquot_id\t571417\n",
      "['_API', '__class__', '__contains__', '__delattr__', '__delitem__', '__dict__', '__dir__', '__doc__', '__eq__', '__format__', '__ge__', '__getattribute__', '__getitem__', '__gt__', '__hash__', '__init__', '__init_subclass__', '__iter__', '__le__', '__len__', '__lt__', '__module__', '__ne__', '__new__', '__reduce__', '__reduce_ex__', '__repr__', '__setattr__', '__setitem__', '__sizeof__', '__slotnames__', '__str__', '__subclasshook__', '__weakref__', '_api', '_fields', '_name', '_parent', '_query', 'clear', 'copy', 'delete', 'equals', 'field', 'fromkeys', 'get', 'items', 'keys', 'pop', 'popitem', 'reload', 'setdefault', 'update', 'values']\n",
      "e252616f-bb41-48c0-b6c5-b01733dd4829.cram\taliquot_id\t549860\n"
     ]
    },
    {
     "name": "stderr",
     "output_type": "stream",
     "text": [
      "e252616f-bb41-48c0-b6c5-b01733dd4829.cram\tBS_JQB0CTE7\n",
      "7631868f-ba56-4dfa-a801-97838f9e3245.cram\tBS_Z4Q8RH5M\n"
     ]
    },
    {
     "name": "stdout",
     "output_type": "stream",
     "text": [
      "['_API', '__class__', '__contains__', '__delattr__', '__delitem__', '__dict__', '__dir__', '__doc__', '__eq__', '__format__', '__ge__', '__getattribute__', '__getitem__', '__gt__', '__hash__', '__init__', '__init_subclass__', '__iter__', '__le__', '__len__', '__lt__', '__module__', '__ne__', '__new__', '__reduce__', '__reduce_ex__', '__repr__', '__setattr__', '__setitem__', '__sizeof__', '__slotnames__', '__str__', '__subclasshook__', '__weakref__', '_api', '_fields', '_name', '_parent', '_query', 'clear', 'copy', 'delete', 'equals', 'field', 'fromkeys', 'get', 'items', 'keys', 'pop', 'popitem', 'reload', 'setdefault', 'update', 'values']\n",
      "e252616f-bb41-48c0-b6c5-b01733dd4829.cram.crai\taliquot_id\t549860\n",
      "['_API', '__class__', '__contains__', '__delattr__', '__delitem__', '__dict__', '__dir__', '__doc__', '__eq__', '__format__', '__ge__', '__getattribute__', '__getitem__', '__gt__', '__hash__', '__init__', '__init_subclass__', '__iter__', '__le__', '__len__', '__lt__', '__module__', '__ne__', '__new__', '__reduce__', '__reduce_ex__', '__repr__', '__setattr__', '__setitem__', '__sizeof__', '__slotnames__', '__str__', '__subclasshook__', '__weakref__', '_api', '_fields', '_name', '_parent', '_query', 'clear', 'copy', 'delete', 'equals', 'field', 'fromkeys', 'get', 'items', 'keys', 'pop', 'popitem', 'reload', 'setdefault', 'update', 'values']\n",
      "7631868f-ba56-4dfa-a801-97838f9e3245.cram\taliquot_id\t571314\n",
      "['_API', '__class__', '__contains__', '__delattr__', '__delitem__', '__dict__', '__dir__', '__doc__', '__eq__', '__format__', '__ge__', '__getattribute__', '__getitem__', '__gt__', '__hash__', '__init__', '__init_subclass__', '__iter__', '__le__', '__len__', '__lt__', '__module__', '__ne__', '__new__', '__reduce__', '__reduce_ex__', '__repr__', '__setattr__', '__setitem__', '__sizeof__', '__slotnames__', '__str__', '__subclasshook__', '__weakref__', '_api', '_fields', '_name', '_parent', '_query', 'clear', 'copy', 'delete', 'equals', 'field', 'fromkeys', 'get', 'items', 'keys', 'pop', 'popitem', 'reload', 'setdefault', 'update', 'values']\n",
      "7631868f-ba56-4dfa-a801-97838f9e3245.cram.crai\taliquot_id\t571314\n"
     ]
    },
    {
     "name": "stderr",
     "output_type": "stream",
     "text": [
      "7316-121_571416.Aligned.toTranscriptome.out.bam\tBS_66ABA973\n",
      "edc0aa2e-ba54-40b0-85a1-e392e7a4e84f.cram\tBS_W75GCHPW\n",
      "06175147-3479-41ad-a44f-398760208223.cram\tBS_A94A7EJ4\n"
     ]
    },
    {
     "name": "stdout",
     "output_type": "stream",
     "text": [
      "['_API', '__class__', '__contains__', '__delattr__', '__delitem__', '__dict__', '__dir__', '__doc__', '__eq__', '__format__', '__ge__', '__getattribute__', '__getitem__', '__gt__', '__hash__', '__init__', '__init_subclass__', '__iter__', '__le__', '__len__', '__lt__', '__module__', '__ne__', '__new__', '__reduce__', '__reduce_ex__', '__repr__', '__setattr__', '__setitem__', '__sizeof__', '__slotnames__', '__str__', '__subclasshook__', '__weakref__', '_api', '_fields', '_name', '_parent', '_query', 'clear', 'copy', 'delete', 'equals', 'field', 'fromkeys', 'get', 'items', 'keys', 'pop', 'popitem', 'reload', 'setdefault', 'update', 'values']\n",
      "7316-121_571416.Aligned.toTranscriptome.out.bam\taliquot_id\t571416\n",
      "['_API', '__class__', '__contains__', '__delattr__', '__delitem__', '__dict__', '__dir__', '__doc__', '__eq__', '__format__', '__ge__', '__getattribute__', '__getitem__', '__gt__', '__hash__', '__init__', '__init_subclass__', '__iter__', '__le__', '__len__', '__lt__', '__module__', '__ne__', '__new__', '__reduce__', '__reduce_ex__', '__repr__', '__setattr__', '__setitem__', '__sizeof__', '__slotnames__', '__str__', '__subclasshook__', '__weakref__', '_api', '_fields', '_name', '_parent', '_query', 'clear', 'copy', 'delete', 'equals', 'field', 'fromkeys', 'get', 'items', 'keys', 'pop', 'popitem', 'reload', 'setdefault', 'update', 'values']\n",
      "edc0aa2e-ba54-40b0-85a1-e392e7a4e84f.cram\taliquot_id\t550113\n",
      "['_API', '__class__', '__contains__', '__delattr__', '__delitem__', '__dict__', '__dir__', '__doc__', '__eq__', '__format__', '__ge__', '__getattribute__', '__getitem__', '__gt__', '__hash__', '__init__', '__init_subclass__', '__iter__', '__le__', '__len__', '__lt__', '__module__', '__ne__', '__new__', '__reduce__', '__reduce_ex__', '__repr__', '__setattr__', '__setitem__', '__sizeof__', '__slotnames__', '__str__', '__subclasshook__', '__weakref__', '_api', '_fields', '_name', '_parent', '_query', 'clear', 'copy', 'delete', 'equals', 'field', 'fromkeys', 'get', 'items', 'keys', 'pop', 'popitem', 'reload', 'setdefault', 'update', 'values']\n",
      "06175147-3479-41ad-a44f-398760208223.cram\taliquot_id\t573080\n",
      "['_API', '__class__', '__contains__', '__delattr__', '__delitem__', '__dict__', '__dir__', '__doc__', '__eq__', '__format__', '__ge__', '__getattribute__', '__getitem__', '__gt__', '__hash__', '__init__', '__init_subclass__', '__iter__', '__le__', '__len__', '__lt__', '__module__', '__ne__', '__new__', '__reduce__', '__reduce_ex__', '__repr__', '__setattr__', '__setitem__', '__sizeof__', '__slotnames__', '__str__', '__subclasshook__', '__weakref__', '_api', '_fields', '_name', '_parent', '_query', 'clear', 'copy', 'delete', 'equals', 'field', 'fromkeys', 'get', 'items', 'keys', 'pop', 'popitem', 'reload', 'setdefault', 'update', 'values']\n",
      "06175147-3479-41ad-a44f-398760208223.cram.crai\taliquot_id\t573080\n",
      "['_API', '__class__', '__contains__', '__delattr__', '__delitem__', '__dict__', '__dir__', '__doc__', '__eq__', '__format__', '__ge__', '__getattribute__', '__getitem__', '__gt__', '__hash__', '__init__', '__init_subclass__', '__iter__', '__le__', '__len__', '__lt__', '__module__', '__ne__', '__new__', '__reduce__', '__reduce_ex__', '__repr__', '__setattr__', '__setitem__', '__sizeof__', '__slotnames__', '__str__', '__subclasshook__', '__weakref__', '_api', '_fields', '_name', '_parent', '_query', 'clear', 'copy', 'delete', 'equals', 'field', 'fromkeys', 'get', 'items', 'keys', 'pop', 'popitem', 'reload', 'setdefault', 'update', 'values']\n",
      "7316-1790_573148.Aligned.toTranscriptome.out.bam\taliquot_id\t573148\n",
      "['_API', '__class__', '__contains__', '__delattr__', '__delitem__', '__dict__', '__dir__', '__doc__', '__eq__', '__format__', '__ge__', '__getattribute__', '__getitem__', '__gt__', '__hash__', '__init__', '__init_subclass__', '__iter__', '__le__', '__len__', '__lt__', '__module__', '__ne__', '__new__', '__reduce__', '__reduce_ex__', '__repr__', '__setattr__', '__setitem__', '__sizeof__', '__slotnames__', '__str__', '__subclasshook__', '__weakref__', '_api', '_fields', '_name', '_parent', '_query', 'clear', 'copy', 'delete', 'equals', 'field', 'fromkeys', 'get', 'items', 'keys', 'pop', 'popitem', 'reload', 'setdefault', 'update', 'values']\n",
      "8e91ab29-acff-4a68-941b-8171f3dcc4fb.cram\taliquot_id\t654374\n"
     ]
    },
    {
     "name": "stderr",
     "output_type": "stream",
     "text": [
      "7316-1790_573148.Aligned.toTranscriptome.out.bam\tBS_MV6ASWV9\n",
      "8e91ab29-acff-4a68-941b-8171f3dcc4fb.cram\tBS_S5SSWSVM\n"
     ]
    },
    {
     "name": "stdout",
     "output_type": "stream",
     "text": [
      "['_API', '__class__', '__contains__', '__delattr__', '__delitem__', '__dict__', '__dir__', '__doc__', '__eq__', '__format__', '__ge__', '__getattribute__', '__getitem__', '__gt__', '__hash__', '__init__', '__init_subclass__', '__iter__', '__le__', '__len__', '__lt__', '__module__', '__ne__', '__new__', '__reduce__', '__reduce_ex__', '__repr__', '__setattr__', '__setitem__', '__sizeof__', '__slotnames__', '__str__', '__subclasshook__', '__weakref__', '_api', '_fields', '_name', '_parent', '_query', 'clear', 'copy', 'delete', 'equals', 'field', 'fromkeys', 'get', 'items', 'keys', 'pop', 'popitem', 'reload', 'setdefault', 'update', 'values']\n",
      "8e91ab29-acff-4a68-941b-8171f3dcc4fb.cram.crai\taliquot_id\t654374\n",
      "['_API', '__class__', '__contains__', '__delattr__', '__delitem__', '__dict__', '__dir__', '__doc__', '__eq__', '__format__', '__ge__', '__getattribute__', '__getitem__', '__gt__', '__hash__', '__init__', '__init_subclass__', '__iter__', '__le__', '__len__', '__lt__', '__module__', '__ne__', '__new__', '__reduce__', '__reduce_ex__', '__repr__', '__setattr__', '__setitem__', '__sizeof__', '__slotnames__', '__str__', '__subclasshook__', '__weakref__', '_api', '_fields', '_name', '_parent', '_query', 'clear', 'copy', 'delete', 'equals', 'field', 'fromkeys', 'get', 'items', 'keys', 'pop', 'popitem', 'reload', 'setdefault', 'update', 'values']\n",
      "7316-1886_711732.Aligned.toTranscriptome.out.bam\taliquot_id\t711732\n",
      "['_API', '__class__', '__contains__', '__delattr__', '__delitem__', '__dict__', '__dir__', '__doc__', '__eq__', '__format__', '__ge__', '__getattribute__', '__getitem__', '__gt__', '__hash__', '__init__', '__init_subclass__', '__iter__', '__le__', '__len__', '__lt__', '__module__', '__ne__', '__new__', '__reduce__', '__reduce_ex__', '__repr__', '__setattr__', '__setitem__', '__sizeof__', '__slotnames__', '__str__', '__subclasshook__', '__weakref__', '_api', '_fields', '_name', '_parent', '_query', 'clear', 'copy', 'delete', 'equals', 'field', 'fromkeys', 'get', 'items', 'keys', 'pop', 'popitem', 'reload', 'setdefault', 'update', 'values']\n",
      "39a54746-b2b1-47de-8dcd-6db2648352fb.cram\taliquot_id\t550022\n"
     ]
    },
    {
     "name": "stderr",
     "output_type": "stream",
     "text": [
      "7316-1886_711732.Aligned.toTranscriptome.out.bam\tBS_X67GTEM6\n",
      "39a54746-b2b1-47de-8dcd-6db2648352fb.cram\tBS_Q1SPJ467\n"
     ]
    },
    {
     "name": "stdout",
     "output_type": "stream",
     "text": [
      "['_API', '__class__', '__contains__', '__delattr__', '__delitem__', '__dict__', '__dir__', '__doc__', '__eq__', '__format__', '__ge__', '__getattribute__', '__getitem__', '__gt__', '__hash__', '__init__', '__init_subclass__', '__iter__', '__le__', '__len__', '__lt__', '__module__', '__ne__', '__new__', '__reduce__', '__reduce_ex__', '__repr__', '__setattr__', '__setitem__', '__sizeof__', '__slotnames__', '__str__', '__subclasshook__', '__weakref__', '_api', '_fields', '_name', '_parent', '_query', 'clear', 'copy', 'delete', 'equals', 'field', 'fromkeys', 'get', 'items', 'keys', 'pop', 'popitem', 'reload', 'setdefault', 'update', 'values']\n",
      "39a54746-b2b1-47de-8dcd-6db2648352fb.cram.crai\taliquot_id\t550022\n",
      "['_API', '__class__', '__contains__', '__delattr__', '__delitem__', '__dict__', '__dir__', '__doc__', '__eq__', '__format__', '__ge__', '__getattribute__', '__getitem__', '__gt__', '__hash__', '__init__', '__init_subclass__', '__iter__', '__le__', '__len__', '__lt__', '__module__', '__ne__', '__new__', '__reduce__', '__reduce_ex__', '__repr__', '__setattr__', '__setitem__', '__sizeof__', '__slotnames__', '__str__', '__subclasshook__', '__weakref__', '_api', '_fields', '_name', '_parent', '_query', 'clear', 'copy', 'delete', 'equals', 'field', 'fromkeys', 'get', 'items', 'keys', 'pop', 'popitem', 'reload', 'setdefault', 'update', 'values']\n",
      "c2577280-05dc-4e28-a5c6-74b8f74e6a35.cram\taliquot_id\t571359\n",
      "['_API', '__class__', '__contains__', '__delattr__', '__delitem__', '__dict__', '__dir__', '__doc__', '__eq__', '__format__', '__ge__', '__getattribute__', '__getitem__', '__gt__', '__hash__', '__init__', '__init_subclass__', '__iter__', '__le__', '__len__', '__lt__', '__module__', '__ne__', '__new__', '__reduce__', '__reduce_ex__', '__repr__', '__setattr__', '__setitem__', '__sizeof__', '__slotnames__', '__str__', '__subclasshook__', '__weakref__', '_api', '_fields', '_name', '_parent', '_query', 'clear', 'copy', 'delete', 'equals', 'field', 'fromkeys', 'get', 'items', 'keys', 'pop', 'popitem', 'reload', 'setdefault', 'update', 'values']\n",
      "c2577280-05dc-4e28-a5c6-74b8f74e6a35.cram.crai\taliquot_id\t571359\n"
     ]
    },
    {
     "name": "stderr",
     "output_type": "stream",
     "text": [
      "c2577280-05dc-4e28-a5c6-74b8f74e6a35.cram\tBS_8WJR4AA3\n",
      "7316-2141_571446.Aligned.toTranscriptome.out.bam\tBS_MMNRZ1EQ\n"
     ]
    },
    {
     "name": "stdout",
     "output_type": "stream",
     "text": [
      "['_API', '__class__', '__contains__', '__delattr__', '__delitem__', '__dict__', '__dir__', '__doc__', '__eq__', '__format__', '__ge__', '__getattribute__', '__getitem__', '__gt__', '__hash__', '__init__', '__init_subclass__', '__iter__', '__le__', '__len__', '__lt__', '__module__', '__ne__', '__new__', '__reduce__', '__reduce_ex__', '__repr__', '__setattr__', '__setitem__', '__sizeof__', '__slotnames__', '__str__', '__subclasshook__', '__weakref__', '_api', '_fields', '_name', '_parent', '_query', 'clear', 'copy', 'delete', 'equals', 'field', 'fromkeys', 'get', 'items', 'keys', 'pop', 'popitem', 'reload', 'setdefault', 'update', 'values']\n",
      "7316-2141_571446.Aligned.toTranscriptome.out.bam\taliquot_id\t571446\n",
      "['_API', '__class__', '__contains__', '__delattr__', '__delitem__', '__dict__', '__dir__', '__doc__', '__eq__', '__format__', '__ge__', '__getattribute__', '__getitem__', '__gt__', '__hash__', '__init__', '__init_subclass__', '__iter__', '__le__', '__len__', '__lt__', '__module__', '__ne__', '__new__', '__reduce__', '__reduce_ex__', '__repr__', '__setattr__', '__setitem__', '__sizeof__', '__slotnames__', '__str__', '__subclasshook__', '__weakref__', '_api', '_fields', '_name', '_parent', '_query', 'clear', 'copy', 'delete', 'equals', 'field', 'fromkeys', 'get', 'items', 'keys', 'pop', 'popitem', 'reload', 'setdefault', 'update', 'values']\n",
      "805ca5a6-39bd-4ba0-ac03-983a81cde8be.cram\taliquot_id\t550122\n",
      "['_API', '__class__', '__contains__', '__delattr__', '__delitem__', '__dict__', '__dir__', '__doc__', '__eq__', '__format__', '__ge__', '__getattribute__', '__getitem__', '__gt__', '__hash__', '__init__', '__init_subclass__', '__iter__', '__le__', '__len__', '__lt__', '__module__', '__ne__', '__new__', '__reduce__', '__reduce_ex__', '__repr__', '__setattr__', '__setitem__', '__sizeof__', '__slotnames__', '__str__', '__subclasshook__', '__weakref__', '_api', '_fields', '_name', '_parent', '_query', 'clear', 'copy', 'delete', 'equals', 'field', 'fromkeys', 'get', 'items', 'keys', 'pop', 'popitem', 'reload', 'setdefault', 'update', 'values']\n",
      "805ca5a6-39bd-4ba0-ac03-983a81cde8be.cram.crai\taliquot_id\t550122\n"
     ]
    },
    {
     "name": "stderr",
     "output_type": "stream",
     "text": [
      "805ca5a6-39bd-4ba0-ac03-983a81cde8be.cram\tBS_XRF8D151\n",
      "d29137b5-c829-4e4e-9e21-e6cf89bac551.cram\tBS_KYG3H6C6\n"
     ]
    },
    {
     "name": "stdout",
     "output_type": "stream",
     "text": [
      "['_API', '__class__', '__contains__', '__delattr__', '__delitem__', '__dict__', '__dir__', '__doc__', '__eq__', '__format__', '__ge__', '__getattribute__', '__getitem__', '__gt__', '__hash__', '__init__', '__init_subclass__', '__iter__', '__le__', '__len__', '__lt__', '__module__', '__ne__', '__new__', '__reduce__', '__reduce_ex__', '__repr__', '__setattr__', '__setitem__', '__sizeof__', '__slotnames__', '__str__', '__subclasshook__', '__weakref__', '_api', '_fields', '_name', '_parent', '_query', 'clear', 'copy', 'delete', 'equals', 'field', 'fromkeys', 'get', 'items', 'keys', 'pop', 'popitem', 'reload', 'setdefault', 'update', 'values']\n",
      "d29137b5-c829-4e4e-9e21-e6cf89bac551.cram\taliquot_id\t571364\n",
      "['_API', '__class__', '__contains__', '__delattr__', '__delitem__', '__dict__', '__dir__', '__doc__', '__eq__', '__format__', '__ge__', '__getattribute__', '__getitem__', '__gt__', '__hash__', '__init__', '__init_subclass__', '__iter__', '__le__', '__len__', '__lt__', '__module__', '__ne__', '__new__', '__reduce__', '__reduce_ex__', '__repr__', '__setattr__', '__setitem__', '__sizeof__', '__slotnames__', '__str__', '__subclasshook__', '__weakref__', '_api', '_fields', '_name', '_parent', '_query', 'clear', 'copy', 'delete', 'equals', 'field', 'fromkeys', 'get', 'items', 'keys', 'pop', 'popitem', 'reload', 'setdefault', 'update', 'values']\n",
      "d29137b5-c829-4e4e-9e21-e6cf89bac551.cram.crai\taliquot_id\t571364\n",
      "['_API', '__class__', '__contains__', '__delattr__', '__delitem__', '__dict__', '__dir__', '__doc__', '__eq__', '__format__', '__ge__', '__getattribute__', '__getitem__', '__gt__', '__hash__', '__init__', '__init_subclass__', '__iter__', '__le__', '__len__', '__lt__', '__module__', '__ne__', '__new__', '__reduce__', '__reduce_ex__', '__repr__', '__setattr__', '__setitem__', '__sizeof__', '__slotnames__', '__str__', '__subclasshook__', '__weakref__', '_api', '_fields', '_name', '_parent', '_query', 'clear', 'copy', 'delete', 'equals', 'field', 'fromkeys', 'get', 'items', 'keys', 'pop', 'popitem', 'reload', 'setdefault', 'update', 'values']\n",
      "7316-2172_571451.Aligned.toTranscriptome.out.bam\taliquot_id\t571451\n"
     ]
    },
    {
     "name": "stderr",
     "output_type": "stream",
     "text": [
      "7316-2172_571451.Aligned.toTranscriptome.out.bam\tBS_S50KQEXV\n",
      "878c8533-24ae-4088-90db-d4e7949592bd.cram\tBS_WYX72YAC\n"
     ]
    },
    {
     "name": "stdout",
     "output_type": "stream",
     "text": [
      "['_API', '__class__', '__contains__', '__delattr__', '__delitem__', '__dict__', '__dir__', '__doc__', '__eq__', '__format__', '__ge__', '__getattribute__', '__getitem__', '__gt__', '__hash__', '__init__', '__init_subclass__', '__iter__', '__le__', '__len__', '__lt__', '__module__', '__ne__', '__new__', '__reduce__', '__reduce_ex__', '__repr__', '__setattr__', '__setitem__', '__sizeof__', '__slotnames__', '__str__', '__subclasshook__', '__weakref__', '_api', '_fields', '_name', '_parent', '_query', 'clear', 'copy', 'delete', 'equals', 'field', 'fromkeys', 'get', 'items', 'keys', 'pop', 'popitem', 'reload', 'setdefault', 'update', 'values']\n",
      "878c8533-24ae-4088-90db-d4e7949592bd.cram\taliquot_id\t550037\n",
      "['_API', '__class__', '__contains__', '__delattr__', '__delitem__', '__dict__', '__dir__', '__doc__', '__eq__', '__format__', '__ge__', '__getattribute__', '__getitem__', '__gt__', '__hash__', '__init__', '__init_subclass__', '__iter__', '__le__', '__len__', '__lt__', '__module__', '__ne__', '__new__', '__reduce__', '__reduce_ex__', '__repr__', '__setattr__', '__setitem__', '__sizeof__', '__slotnames__', '__str__', '__subclasshook__', '__weakref__', '_api', '_fields', '_name', '_parent', '_query', 'clear', 'copy', 'delete', 'equals', 'field', 'fromkeys', 'get', 'items', 'keys', 'pop', 'popitem', 'reload', 'setdefault', 'update', 'values']\n",
      "878c8533-24ae-4088-90db-d4e7949592bd.cram.crai\taliquot_id\t550037\n",
      "['_API', '__class__', '__contains__', '__delattr__', '__delitem__', '__dict__', '__dir__', '__doc__', '__eq__', '__format__', '__ge__', '__getattribute__', '__getitem__', '__gt__', '__hash__', '__init__', '__init_subclass__', '__iter__', '__le__', '__len__', '__lt__', '__module__', '__ne__', '__new__', '__reduce__', '__reduce_ex__', '__repr__', '__setattr__', '__setitem__', '__sizeof__', '__slotnames__', '__str__', '__subclasshook__', '__weakref__', '_api', '_fields', '_name', '_parent', '_query', 'clear', 'copy', 'delete', 'equals', 'field', 'fromkeys', 'get', 'items', 'keys', 'pop', 'popitem', 'reload', 'setdefault', 'update', 'values']\n",
      "3777448a-ef18-478f-b454-55fe0a01818a.cram\taliquot_id\t571369\n"
     ]
    },
    {
     "name": "stderr",
     "output_type": "stream",
     "text": [
      "3777448a-ef18-478f-b454-55fe0a01818a.cram\tBS_THH0CE5A\n",
      "7316-2184_571456.Aligned.toTranscriptome.out.bam\tBS_GHNJ4CYC\n"
     ]
    },
    {
     "name": "stdout",
     "output_type": "stream",
     "text": [
      "['_API', '__class__', '__contains__', '__delattr__', '__delitem__', '__dict__', '__dir__', '__doc__', '__eq__', '__format__', '__ge__', '__getattribute__', '__getitem__', '__gt__', '__hash__', '__init__', '__init_subclass__', '__iter__', '__le__', '__len__', '__lt__', '__module__', '__ne__', '__new__', '__reduce__', '__reduce_ex__', '__repr__', '__setattr__', '__setitem__', '__sizeof__', '__slotnames__', '__str__', '__subclasshook__', '__weakref__', '_api', '_fields', '_name', '_parent', '_query', 'clear', 'copy', 'delete', 'equals', 'field', 'fromkeys', 'get', 'items', 'keys', 'pop', 'popitem', 'reload', 'setdefault', 'update', 'values']\n",
      "3777448a-ef18-478f-b454-55fe0a01818a.cram.crai\taliquot_id\t571369\n",
      "['_API', '__class__', '__contains__', '__delattr__', '__delitem__', '__dict__', '__dir__', '__doc__', '__eq__', '__format__', '__ge__', '__getattribute__', '__getitem__', '__gt__', '__hash__', '__init__', '__init_subclass__', '__iter__', '__le__', '__len__', '__lt__', '__module__', '__ne__', '__new__', '__reduce__', '__reduce_ex__', '__repr__', '__setattr__', '__setitem__', '__sizeof__', '__slotnames__', '__str__', '__subclasshook__', '__weakref__', '_api', '_fields', '_name', '_parent', '_query', 'clear', 'copy', 'delete', 'equals', 'field', 'fromkeys', 'get', 'items', 'keys', 'pop', 'popitem', 'reload', 'setdefault', 'update', 'values']\n",
      "7316-2184_571456.Aligned.toTranscriptome.out.bam\taliquot_id\t571456\n",
      "['_API', '__class__', '__contains__', '__delattr__', '__delitem__', '__dict__', '__dir__', '__doc__', '__eq__', '__format__', '__ge__', '__getattribute__', '__getitem__', '__gt__', '__hash__', '__init__', '__init_subclass__', '__iter__', '__le__', '__len__', '__lt__', '__module__', '__ne__', '__new__', '__reduce__', '__reduce_ex__', '__repr__', '__setattr__', '__setitem__', '__sizeof__', '__slotnames__', '__str__', '__subclasshook__', '__weakref__', '_api', '_fields', '_name', '_parent', '_query', 'clear', 'copy', 'delete', 'equals', 'field', 'fromkeys', 'get', 'items', 'keys', 'pop', 'popitem', 'reload', 'setdefault', 'update', 'values']\n",
      "7a6d7bf6-a033-477c-aee3-014e11144547.cram\taliquot_id\t550094\n"
     ]
    },
    {
     "name": "stderr",
     "output_type": "stream",
     "text": [
      "7a6d7bf6-a033-477c-aee3-014e11144547.cram\tBS_SGS26NXP\n",
      "7bb4ce67-1877-4ae6-bb37-59be62140426.cram\tBS_85Q5P8GF\n"
     ]
    },
    {
     "name": "stdout",
     "output_type": "stream",
     "text": [
      "['_API', '__class__', '__contains__', '__delattr__', '__delitem__', '__dict__', '__dir__', '__doc__', '__eq__', '__format__', '__ge__', '__getattribute__', '__getitem__', '__gt__', '__hash__', '__init__', '__init_subclass__', '__iter__', '__le__', '__len__', '__lt__', '__module__', '__ne__', '__new__', '__reduce__', '__reduce_ex__', '__repr__', '__setattr__', '__setitem__', '__sizeof__', '__slotnames__', '__str__', '__subclasshook__', '__weakref__', '_api', '_fields', '_name', '_parent', '_query', 'clear', 'copy', 'delete', 'equals', 'field', 'fromkeys', 'get', 'items', 'keys', 'pop', 'popitem', 'reload', 'setdefault', 'update', 'values']\n",
      "7a6d7bf6-a033-477c-aee3-014e11144547.cram.crai\taliquot_id\t550094\n",
      "['_API', '__class__', '__contains__', '__delattr__', '__delitem__', '__dict__', '__dir__', '__doc__', '__eq__', '__format__', '__ge__', '__getattribute__', '__getitem__', '__gt__', '__hash__', '__init__', '__init_subclass__', '__iter__', '__le__', '__len__', '__lt__', '__module__', '__ne__', '__new__', '__reduce__', '__reduce_ex__', '__repr__', '__setattr__', '__setitem__', '__sizeof__', '__slotnames__', '__str__', '__subclasshook__', '__weakref__', '_api', '_fields', '_name', '_parent', '_query', 'clear', 'copy', 'delete', 'equals', 'field', 'fromkeys', 'get', 'items', 'keys', 'pop', 'popitem', 'reload', 'setdefault', 'update', 'values']\n",
      "7bb4ce67-1877-4ae6-bb37-59be62140426.cram\taliquot_id\t574340\n",
      "['_API', '__class__', '__contains__', '__delattr__', '__delitem__', '__dict__', '__dir__', '__doc__', '__eq__', '__format__', '__ge__', '__getattribute__', '__getitem__', '__gt__', '__hash__', '__init__', '__init_subclass__', '__iter__', '__le__', '__len__', '__lt__', '__module__', '__ne__', '__new__', '__reduce__', '__reduce_ex__', '__repr__', '__setattr__', '__setitem__', '__sizeof__', '__slotnames__', '__str__', '__subclasshook__', '__weakref__', '_api', '_fields', '_name', '_parent', '_query', 'clear', 'copy', 'delete', 'equals', 'field', 'fromkeys', 'get', 'items', 'keys', 'pop', 'popitem', 'reload', 'setdefault', 'update', 'values']\n",
      "7bb4ce67-1877-4ae6-bb37-59be62140426.cram.crai\taliquot_id\t574340\n"
     ]
    },
    {
     "name": "stderr",
     "output_type": "stream",
     "text": [
      "7316-2594_574553.Aligned.toTranscriptome.out.bam\tBS_VF5XWFXD\n",
      "c82d29fe-9833-4cd9-9528-5b83cc3df883.cram\tBS_KA6B8TG8\n"
     ]
    },
    {
     "name": "stdout",
     "output_type": "stream",
     "text": [
      "['_API', '__class__', '__contains__', '__delattr__', '__delitem__', '__dict__', '__dir__', '__doc__', '__eq__', '__format__', '__ge__', '__getattribute__', '__getitem__', '__gt__', '__hash__', '__init__', '__init_subclass__', '__iter__', '__le__', '__len__', '__lt__', '__module__', '__ne__', '__new__', '__reduce__', '__reduce_ex__', '__repr__', '__setattr__', '__setitem__', '__sizeof__', '__slotnames__', '__str__', '__subclasshook__', '__weakref__', '_api', '_fields', '_name', '_parent', '_query', 'clear', 'copy', 'delete', 'equals', 'field', 'fromkeys', 'get', 'items', 'keys', 'pop', 'popitem', 'reload', 'setdefault', 'update', 'values']\n",
      "7316-2594_574553.Aligned.toTranscriptome.out.bam\taliquot_id\t574553\n",
      "['_API', '__class__', '__contains__', '__delattr__', '__delitem__', '__dict__', '__dir__', '__doc__', '__eq__', '__format__', '__ge__', '__getattribute__', '__getitem__', '__gt__', '__hash__', '__init__', '__init_subclass__', '__iter__', '__le__', '__len__', '__lt__', '__module__', '__ne__', '__new__', '__reduce__', '__reduce_ex__', '__repr__', '__setattr__', '__setitem__', '__sizeof__', '__slotnames__', '__str__', '__subclasshook__', '__weakref__', '_api', '_fields', '_name', '_parent', '_query', 'clear', 'copy', 'delete', 'equals', 'field', 'fromkeys', 'get', 'items', 'keys', 'pop', 'popitem', 'reload', 'setdefault', 'update', 'values']\n",
      "c82d29fe-9833-4cd9-9528-5b83cc3df883.cram\taliquot_id\t550092\n",
      "['_API', '__class__', '__contains__', '__delattr__', '__delitem__', '__dict__', '__dir__', '__doc__', '__eq__', '__format__', '__ge__', '__getattribute__', '__getitem__', '__gt__', '__hash__', '__init__', '__init_subclass__', '__iter__', '__le__', '__len__', '__lt__', '__module__', '__ne__', '__new__', '__reduce__', '__reduce_ex__', '__repr__', '__setattr__', '__setitem__', '__sizeof__', '__slotnames__', '__str__', '__subclasshook__', '__weakref__', '_api', '_fields', '_name', '_parent', '_query', 'clear', 'copy', 'delete', 'equals', 'field', 'fromkeys', 'get', 'items', 'keys', 'pop', 'popitem', 'reload', 'setdefault', 'update', 'values']\n",
      "c82d29fe-9833-4cd9-9528-5b83cc3df883.cram.crai\taliquot_id\t550092\n"
     ]
    },
    {
     "name": "stderr",
     "output_type": "stream",
     "text": [
      "11f937ea-6562-4cf0-9983-c25051702ad8.cram\tBS_GDPZN3SD\n",
      "7316-332_571415.Aligned.toTranscriptome.out.bam\tBS_17WYVEEC\n"
     ]
    },
    {
     "name": "stdout",
     "output_type": "stream",
     "text": [
      "['_API', '__class__', '__contains__', '__delattr__', '__delitem__', '__dict__', '__dir__', '__doc__', '__eq__', '__format__', '__ge__', '__getattribute__', '__getitem__', '__gt__', '__hash__', '__init__', '__init_subclass__', '__iter__', '__le__', '__len__', '__lt__', '__module__', '__ne__', '__new__', '__reduce__', '__reduce_ex__', '__repr__', '__setattr__', '__setitem__', '__sizeof__', '__slotnames__', '__str__', '__subclasshook__', '__weakref__', '_api', '_fields', '_name', '_parent', '_query', 'clear', 'copy', 'delete', 'equals', 'field', 'fromkeys', 'get', 'items', 'keys', 'pop', 'popitem', 'reload', 'setdefault', 'update', 'values']\n",
      "11f937ea-6562-4cf0-9983-c25051702ad8.cram\taliquot_id\t571313\n",
      "['_API', '__class__', '__contains__', '__delattr__', '__delitem__', '__dict__', '__dir__', '__doc__', '__eq__', '__format__', '__ge__', '__getattribute__', '__getitem__', '__gt__', '__hash__', '__init__', '__init_subclass__', '__iter__', '__le__', '__len__', '__lt__', '__module__', '__ne__', '__new__', '__reduce__', '__reduce_ex__', '__repr__', '__setattr__', '__setitem__', '__sizeof__', '__slotnames__', '__str__', '__subclasshook__', '__weakref__', '_api', '_fields', '_name', '_parent', '_query', 'clear', 'copy', 'delete', 'equals', 'field', 'fromkeys', 'get', 'items', 'keys', 'pop', 'popitem', 'reload', 'setdefault', 'update', 'values']\n",
      "11f937ea-6562-4cf0-9983-c25051702ad8.cram.crai\taliquot_id\t571313\n",
      "['_API', '__class__', '__contains__', '__delattr__', '__delitem__', '__dict__', '__dir__', '__doc__', '__eq__', '__format__', '__ge__', '__getattribute__', '__getitem__', '__gt__', '__hash__', '__init__', '__init_subclass__', '__iter__', '__le__', '__len__', '__lt__', '__module__', '__ne__', '__new__', '__reduce__', '__reduce_ex__', '__repr__', '__setattr__', '__setitem__', '__sizeof__', '__slotnames__', '__str__', '__subclasshook__', '__weakref__', '_api', '_fields', '_name', '_parent', '_query', 'clear', 'copy', 'delete', 'equals', 'field', 'fromkeys', 'get', 'items', 'keys', 'pop', 'popitem', 'reload', 'setdefault', 'update', 'values']\n",
      "7316-332_571415.Aligned.toTranscriptome.out.bam\taliquot_id\t571415\n"
     ]
    },
    {
     "name": "stderr",
     "output_type": "stream",
     "text": [
      "59f57680-45fa-491f-94e8-7136eacf2bec.cram\tBS_6QF29TRA\n",
      "59a2ab74-bd1d-48b4-8119-51971a1bce62.cram\tBS_RZNNEX1Y\n"
     ]
    },
    {
     "name": "stdout",
     "output_type": "stream",
     "text": [
      "['_API', '__class__', '__contains__', '__delattr__', '__delitem__', '__dict__', '__dir__', '__doc__', '__eq__', '__format__', '__ge__', '__getattribute__', '__getitem__', '__gt__', '__hash__', '__init__', '__init_subclass__', '__iter__', '__le__', '__len__', '__lt__', '__module__', '__ne__', '__new__', '__reduce__', '__reduce_ex__', '__repr__', '__setattr__', '__setitem__', '__sizeof__', '__slotnames__', '__str__', '__subclasshook__', '__weakref__', '_api', '_fields', '_name', '_parent', '_query', 'clear', 'copy', 'delete', 'equals', 'field', 'fromkeys', 'get', 'items', 'keys', 'pop', 'popitem', 'reload', 'setdefault', 'update', 'values']\n",
      "59f57680-45fa-491f-94e8-7136eacf2bec.cram\taliquot_id\t549921\n",
      "['_API', '__class__', '__contains__', '__delattr__', '__delitem__', '__dict__', '__dir__', '__doc__', '__eq__', '__format__', '__ge__', '__getattribute__', '__getitem__', '__gt__', '__hash__', '__init__', '__init_subclass__', '__iter__', '__le__', '__len__', '__lt__', '__module__', '__ne__', '__new__', '__reduce__', '__reduce_ex__', '__repr__', '__setattr__', '__setitem__', '__sizeof__', '__slotnames__', '__str__', '__subclasshook__', '__weakref__', '_api', '_fields', '_name', '_parent', '_query', 'clear', 'copy', 'delete', 'equals', 'field', 'fromkeys', 'get', 'items', 'keys', 'pop', 'popitem', 'reload', 'setdefault', 'update', 'values']\n",
      "59f57680-45fa-491f-94e8-7136eacf2bec.cram.crai\taliquot_id\t549921\n",
      "['_API', '__class__', '__contains__', '__delattr__', '__delitem__', '__dict__', '__dir__', '__doc__', '__eq__', '__format__', '__ge__', '__getattribute__', '__getitem__', '__gt__', '__hash__', '__init__', '__init_subclass__', '__iter__', '__le__', '__len__', '__lt__', '__module__', '__ne__', '__new__', '__reduce__', '__reduce_ex__', '__repr__', '__setattr__', '__setitem__', '__sizeof__', '__slotnames__', '__str__', '__subclasshook__', '__weakref__', '_api', '_fields', '_name', '_parent', '_query', 'clear', 'copy', 'delete', 'equals', 'field', 'fromkeys', 'get', 'items', 'keys', 'pop', 'popitem', 'reload', 'setdefault', 'update', 'values']\n",
      "59a2ab74-bd1d-48b4-8119-51971a1bce62.cram\taliquot_id\t571347\n",
      "['_API', '__class__', '__contains__', '__delattr__', '__delitem__', '__dict__', '__dir__', '__doc__', '__eq__', '__format__', '__ge__', '__getattribute__', '__getitem__', '__gt__', '__hash__', '__init__', '__init_subclass__', '__iter__', '__le__', '__len__', '__lt__', '__module__', '__ne__', '__new__', '__reduce__', '__reduce_ex__', '__repr__', '__setattr__', '__setitem__', '__sizeof__', '__slotnames__', '__str__', '__subclasshook__', '__weakref__', '_api', '_fields', '_name', '_parent', '_query', 'clear', 'copy', 'delete', 'equals', 'field', 'fromkeys', 'get', 'items', 'keys', 'pop', 'popitem', 'reload', 'setdefault', 'update', 'values']\n",
      "59a2ab74-bd1d-48b4-8119-51971a1bce62.cram.crai\taliquot_id\t571347\n",
      "['_API', '__class__', '__contains__', '__delattr__', '__delitem__', '__dict__', '__dir__', '__doc__', '__eq__', '__format__', '__ge__', '__getattribute__', '__getitem__', '__gt__', '__hash__', '__init__', '__init_subclass__', '__iter__', '__le__', '__len__', '__lt__', '__module__', '__ne__', '__new__', '__reduce__', '__reduce_ex__', '__repr__', '__setattr__', '__setitem__', '__sizeof__', '__slotnames__', '__str__', '__subclasshook__', '__weakref__', '_api', '_fields', '_name', '_parent', '_query', 'clear', 'copy', 'delete', 'equals', 'field', 'fromkeys', 'get', 'items', 'keys', 'pop', 'popitem', 'reload', 'setdefault', 'update', 'values']\n",
      "7316-345_571434.Aligned.toTranscriptome.out.bam\taliquot_id\t571434\n",
      "['_API', '__class__', '__contains__', '__delattr__', '__delitem__', '__dict__', '__dir__', '__doc__', '__eq__', '__format__', '__ge__', '__getattribute__', '__getitem__', '__gt__', '__hash__', '__init__', '__init_subclass__', '__iter__', '__le__', '__len__', '__lt__', '__module__', '__ne__', '__new__', '__reduce__', '__reduce_ex__', '__repr__', '__setattr__', '__setitem__', '__sizeof__', '__slotnames__', '__str__', '__subclasshook__', '__weakref__', '_api', '_fields', '_name', '_parent', '_query', 'clear', 'copy', 'delete', 'equals', 'field', 'fromkeys', 'get', 'items', 'keys', 'pop', 'popitem', 'reload', 'setdefault', 'update', 'values']\n",
      "c9a49c87-c00f-4a64-b792-700a5b29be5a.cram\taliquot_id\t549992\n"
     ]
    },
    {
     "name": "stderr",
     "output_type": "stream",
     "text": [
      "7316-345_571434.Aligned.toTranscriptome.out.bam\tBS_52DAPP1Y\n",
      "c9a49c87-c00f-4a64-b792-700a5b29be5a.cram\tBS_1HQWNZCB\n"
     ]
    },
    {
     "name": "stdout",
     "output_type": "stream",
     "text": [
      "['_API', '__class__', '__contains__', '__delattr__', '__delitem__', '__dict__', '__dir__', '__doc__', '__eq__', '__format__', '__ge__', '__getattribute__', '__getitem__', '__gt__', '__hash__', '__init__', '__init_subclass__', '__iter__', '__le__', '__len__', '__lt__', '__module__', '__ne__', '__new__', '__reduce__', '__reduce_ex__', '__repr__', '__setattr__', '__setitem__', '__sizeof__', '__slotnames__', '__str__', '__subclasshook__', '__weakref__', '_api', '_fields', '_name', '_parent', '_query', 'clear', 'copy', 'delete', 'equals', 'field', 'fromkeys', 'get', 'items', 'keys', 'pop', 'popitem', 'reload', 'setdefault', 'update', 'values']\n",
      "c9a49c87-c00f-4a64-b792-700a5b29be5a.cram.crai\taliquot_id\t549992\n",
      "['_API', '__class__', '__contains__', '__delattr__', '__delitem__', '__dict__', '__dir__', '__doc__', '__eq__', '__format__', '__ge__', '__getattribute__', '__getitem__', '__gt__', '__hash__', '__init__', '__init_subclass__', '__iter__', '__le__', '__len__', '__lt__', '__module__', '__ne__', '__new__', '__reduce__', '__reduce_ex__', '__repr__', '__setattr__', '__setitem__', '__sizeof__', '__slotnames__', '__str__', '__subclasshook__', '__weakref__', '_api', '_fields', '_name', '_parent', '_query', 'clear', 'copy', 'delete', 'equals', 'field', 'fromkeys', 'get', 'items', 'keys', 'pop', 'popitem', 'reload', 'setdefault', 'update', 'values']\n",
      "c3f22937-b40c-4477-817e-592c1672b52b.cram\taliquot_id\t568326\n",
      "['_API', '__class__', '__contains__', '__delattr__', '__delitem__', '__dict__', '__dir__', '__doc__', '__eq__', '__format__', '__ge__', '__getattribute__', '__getitem__', '__gt__', '__hash__', '__init__', '__init_subclass__', '__iter__', '__le__', '__len__', '__lt__', '__module__', '__ne__', '__new__', '__reduce__', '__reduce_ex__', '__repr__', '__setattr__', '__setitem__', '__sizeof__', '__slotnames__', '__str__', '__subclasshook__', '__weakref__', '_api', '_fields', '_name', '_parent', '_query', 'clear', 'copy', 'delete', 'equals', 'field', 'fromkeys', 'get', 'items', 'keys', 'pop', 'popitem', 'reload', 'setdefault', 'update', 'values']\n",
      "c3f22937-b40c-4477-817e-592c1672b52b.cram.crai\taliquot_id\t568326\n"
     ]
    },
    {
     "name": "stderr",
     "output_type": "stream",
     "text": [
      "c3f22937-b40c-4477-817e-592c1672b52b.cram\tBS_P3EVK3C2\n",
      "7316-362_570113.Aligned.toTranscriptome.out.bam\tBS_014EVM2D\n"
     ]
    },
    {
     "name": "stdout",
     "output_type": "stream",
     "text": [
      "['_API', '__class__', '__contains__', '__delattr__', '__delitem__', '__dict__', '__dir__', '__doc__', '__eq__', '__format__', '__ge__', '__getattribute__', '__getitem__', '__gt__', '__hash__', '__init__', '__init_subclass__', '__iter__', '__le__', '__len__', '__lt__', '__module__', '__ne__', '__new__', '__reduce__', '__reduce_ex__', '__repr__', '__setattr__', '__setitem__', '__sizeof__', '__slotnames__', '__str__', '__subclasshook__', '__weakref__', '_api', '_fields', '_name', '_parent', '_query', 'clear', 'copy', 'delete', 'equals', 'field', 'fromkeys', 'get', 'items', 'keys', 'pop', 'popitem', 'reload', 'setdefault', 'update', 'values']\n",
      "7316-362_570113.Aligned.toTranscriptome.out.bam\taliquot_id\t570113\n",
      "['_API', '__class__', '__contains__', '__delattr__', '__delitem__', '__dict__', '__dir__', '__doc__', '__eq__', '__format__', '__ge__', '__getattribute__', '__getitem__', '__gt__', '__hash__', '__init__', '__init_subclass__', '__iter__', '__le__', '__len__', '__lt__', '__module__', '__ne__', '__new__', '__reduce__', '__reduce_ex__', '__repr__', '__setattr__', '__setitem__', '__sizeof__', '__slotnames__', '__str__', '__subclasshook__', '__weakref__', '_api', '_fields', '_name', '_parent', '_query', 'clear', 'copy', 'delete', 'equals', 'field', 'fromkeys', 'get', 'items', 'keys', 'pop', 'popitem', 'reload', 'setdefault', 'update', 'values']\n",
      "d23a2239-a048-4674-b78d-34b7e6b553b7.cram\taliquot_id\t549899\n",
      "['_API', '__class__', '__contains__', '__delattr__', '__delitem__', '__dict__', '__dir__', '__doc__', '__eq__', '__format__', '__ge__', '__getattribute__', '__getitem__', '__gt__', '__hash__', '__init__', '__init_subclass__', '__iter__', '__le__', '__len__', '__lt__', '__module__', '__ne__', '__new__', '__reduce__', '__reduce_ex__', '__repr__', '__setattr__', '__setitem__', '__sizeof__', '__slotnames__', '__str__', '__subclasshook__', '__weakref__', '_api', '_fields', '_name', '_parent', '_query', 'clear', 'copy', 'delete', 'equals', 'field', 'fromkeys', 'get', 'items', 'keys', 'pop', 'popitem', 'reload', 'setdefault', 'update', 'values']\n",
      "d23a2239-a048-4674-b78d-34b7e6b553b7.cram.crai\taliquot_id\t549899\n"
     ]
    },
    {
     "name": "stderr",
     "output_type": "stream",
     "text": [
      "d23a2239-a048-4674-b78d-34b7e6b553b7.cram\tBS_1NWVFBTQ\n",
      "cd3a4b45-81e0-47cb-b23b-92ef54a5e152.cram\tBS_AG6M7TJE\n"
     ]
    },
    {
     "name": "stdout",
     "output_type": "stream",
     "text": [
      "['_API', '__class__', '__contains__', '__delattr__', '__delitem__', '__dict__', '__dir__', '__doc__', '__eq__', '__format__', '__ge__', '__getattribute__', '__getitem__', '__gt__', '__hash__', '__init__', '__init_subclass__', '__iter__', '__le__', '__len__', '__lt__', '__module__', '__ne__', '__new__', '__reduce__', '__reduce_ex__', '__repr__', '__setattr__', '__setitem__', '__sizeof__', '__slotnames__', '__str__', '__subclasshook__', '__weakref__', '_api', '_fields', '_name', '_parent', '_query', 'clear', 'copy', 'delete', 'equals', 'field', 'fromkeys', 'get', 'items', 'keys', 'pop', 'popitem', 'reload', 'setdefault', 'update', 'values']\n",
      "cd3a4b45-81e0-47cb-b23b-92ef54a5e152.cram\taliquot_id\t571331\n",
      "['_API', '__class__', '__contains__', '__delattr__', '__delitem__', '__dict__', '__dir__', '__doc__', '__eq__', '__format__', '__ge__', '__getattribute__', '__getitem__', '__gt__', '__hash__', '__init__', '__init_subclass__', '__iter__', '__le__', '__len__', '__lt__', '__module__', '__ne__', '__new__', '__reduce__', '__reduce_ex__', '__repr__', '__setattr__', '__setitem__', '__sizeof__', '__slotnames__', '__str__', '__subclasshook__', '__weakref__', '_api', '_fields', '_name', '_parent', '_query', 'clear', 'copy', 'delete', 'equals', 'field', 'fromkeys', 'get', 'items', 'keys', 'pop', 'popitem', 'reload', 'setdefault', 'update', 'values']\n",
      "cd3a4b45-81e0-47cb-b23b-92ef54a5e152.cram.crai\taliquot_id\t571331\n",
      "['_API', '__class__', '__contains__', '__delattr__', '__delitem__', '__dict__', '__dir__', '__doc__', '__eq__', '__format__', '__ge__', '__getattribute__', '__getitem__', '__gt__', '__hash__', '__init__', '__init_subclass__', '__iter__', '__le__', '__len__', '__lt__', '__module__', '__ne__', '__new__', '__reduce__', '__reduce_ex__', '__repr__', '__setattr__', '__setitem__', '__sizeof__', '__slotnames__', '__str__', '__subclasshook__', '__weakref__', '_api', '_fields', '_name', '_parent', '_query', 'clear', 'copy', 'delete', 'equals', 'field', 'fromkeys', 'get', 'items', 'keys', 'pop', 'popitem', 'reload', 'setdefault', 'update', 'values']\n",
      "7316-451_571397.Aligned.toTranscriptome.out.bam\taliquot_id\t571397\n"
     ]
    },
    {
     "name": "stderr",
     "output_type": "stream",
     "text": [
      "7316-451_571397.Aligned.toTranscriptome.out.bam\tBS_Z7890YNR\n",
      "d2a1e810-f420-47e9-87fb-d63c77fa61e8.cram\tBS_370TKZ48\n",
      "f633af8a-3198-414c-b491-78d1c2245d22.cram\tBS_QMY84KF4\n"
     ]
    },
    {
     "name": "stdout",
     "output_type": "stream",
     "text": [
      "['_API', '__class__', '__contains__', '__delattr__', '__delitem__', '__dict__', '__dir__', '__doc__', '__eq__', '__format__', '__ge__', '__getattribute__', '__getitem__', '__gt__', '__hash__', '__init__', '__init_subclass__', '__iter__', '__le__', '__len__', '__lt__', '__module__', '__ne__', '__new__', '__reduce__', '__reduce_ex__', '__repr__', '__setattr__', '__setitem__', '__sizeof__', '__slotnames__', '__str__', '__subclasshook__', '__weakref__', '_api', '_fields', '_name', '_parent', '_query', 'clear', 'copy', 'delete', 'equals', 'field', 'fromkeys', 'get', 'items', 'keys', 'pop', 'popitem', 'reload', 'setdefault', 'update', 'values']\n",
      "d2a1e810-f420-47e9-87fb-d63c77fa61e8.cram\taliquot_id\t725363\n",
      "['_API', '__class__', '__contains__', '__delattr__', '__delitem__', '__dict__', '__dir__', '__doc__', '__eq__', '__format__', '__ge__', '__getattribute__', '__getitem__', '__gt__', '__hash__', '__init__', '__init_subclass__', '__iter__', '__le__', '__len__', '__lt__', '__module__', '__ne__', '__new__', '__reduce__', '__reduce_ex__', '__repr__', '__setattr__', '__setitem__', '__sizeof__', '__slotnames__', '__str__', '__subclasshook__', '__weakref__', '_api', '_fields', '_name', '_parent', '_query', 'clear', 'copy', 'delete', 'equals', 'field', 'fromkeys', 'get', 'items', 'keys', 'pop', 'popitem', 'reload', 'setdefault', 'update', 'values']\n",
      "f633af8a-3198-414c-b491-78d1c2245d22.cram\taliquot_id\t568321\n",
      "['_API', '__class__', '__contains__', '__delattr__', '__delitem__', '__dict__', '__dir__', '__doc__', '__eq__', '__format__', '__ge__', '__getattribute__', '__getitem__', '__gt__', '__hash__', '__init__', '__init_subclass__', '__iter__', '__le__', '__len__', '__lt__', '__module__', '__ne__', '__new__', '__reduce__', '__reduce_ex__', '__repr__', '__setattr__', '__setitem__', '__sizeof__', '__slotnames__', '__str__', '__subclasshook__', '__weakref__', '_api', '_fields', '_name', '_parent', '_query', 'clear', 'copy', 'delete', 'equals', 'field', 'fromkeys', 'get', 'items', 'keys', 'pop', 'popitem', 'reload', 'setdefault', 'update', 'values']\n",
      "f633af8a-3198-414c-b491-78d1c2245d22.cram.crai\taliquot_id\t568321\n"
     ]
    },
    {
     "name": "stderr",
     "output_type": "stream",
     "text": [
      "7316-490_570108.Aligned.toTranscriptome.out.bam\tBS_99B1XRZQ\n",
      "0415e18c-f23f-4307-b85c-9ee6be968806.cram\tBS_BT4WRQCA\n"
     ]
    },
    {
     "name": "stdout",
     "output_type": "stream",
     "text": [
      "['_API', '__class__', '__contains__', '__delattr__', '__delitem__', '__dict__', '__dir__', '__doc__', '__eq__', '__format__', '__ge__', '__getattribute__', '__getitem__', '__gt__', '__hash__', '__init__', '__init_subclass__', '__iter__', '__le__', '__len__', '__lt__', '__module__', '__ne__', '__new__', '__reduce__', '__reduce_ex__', '__repr__', '__setattr__', '__setitem__', '__sizeof__', '__slotnames__', '__str__', '__subclasshook__', '__weakref__', '_api', '_fields', '_name', '_parent', '_query', 'clear', 'copy', 'delete', 'equals', 'field', 'fromkeys', 'get', 'items', 'keys', 'pop', 'popitem', 'reload', 'setdefault', 'update', 'values']\n",
      "7316-490_570108.Aligned.toTranscriptome.out.bam\taliquot_id\t570108\n",
      "['_API', '__class__', '__contains__', '__delattr__', '__delitem__', '__dict__', '__dir__', '__doc__', '__eq__', '__format__', '__ge__', '__getattribute__', '__getitem__', '__gt__', '__hash__', '__init__', '__init_subclass__', '__iter__', '__le__', '__len__', '__lt__', '__module__', '__ne__', '__new__', '__reduce__', '__reduce_ex__', '__repr__', '__setattr__', '__setitem__', '__sizeof__', '__slotnames__', '__str__', '__subclasshook__', '__weakref__', '_api', '_fields', '_name', '_parent', '_query', 'clear', 'copy', 'delete', 'equals', 'field', 'fromkeys', 'get', 'items', 'keys', 'pop', 'popitem', 'reload', 'setdefault', 'update', 'values']\n",
      "0415e18c-f23f-4307-b85c-9ee6be968806.cram\taliquot_id\t550048\n",
      "['_API', '__class__', '__contains__', '__delattr__', '__delitem__', '__dict__', '__dir__', '__doc__', '__eq__', '__format__', '__ge__', '__getattribute__', '__getitem__', '__gt__', '__hash__', '__init__', '__init_subclass__', '__iter__', '__le__', '__len__', '__lt__', '__module__', '__ne__', '__new__', '__reduce__', '__reduce_ex__', '__repr__', '__setattr__', '__setitem__', '__sizeof__', '__slotnames__', '__str__', '__subclasshook__', '__weakref__', '_api', '_fields', '_name', '_parent', '_query', 'clear', 'copy', 'delete', 'equals', 'field', 'fromkeys', 'get', 'items', 'keys', 'pop', 'popitem', 'reload', 'setdefault', 'update', 'values']\n",
      "0415e18c-f23f-4307-b85c-9ee6be968806.cram.crai\taliquot_id\t550048\n"
     ]
    },
    {
     "name": "stderr",
     "output_type": "stream",
     "text": [
      "d07126f5-120d-431f-b396-637741770dba.cram\tBS_GXACEYKB\n",
      "7316-914_571422.Aligned.toTranscriptome.out.bam\tBS_F4E8R9VY\n"
     ]
    },
    {
     "name": "stdout",
     "output_type": "stream",
     "text": [
      "['_API', '__class__', '__contains__', '__delattr__', '__delitem__', '__dict__', '__dir__', '__doc__', '__eq__', '__format__', '__ge__', '__getattribute__', '__getitem__', '__gt__', '__hash__', '__init__', '__init_subclass__', '__iter__', '__le__', '__len__', '__lt__', '__module__', '__ne__', '__new__', '__reduce__', '__reduce_ex__', '__repr__', '__setattr__', '__setitem__', '__sizeof__', '__slotnames__', '__str__', '__subclasshook__', '__weakref__', '_api', '_fields', '_name', '_parent', '_query', 'clear', 'copy', 'delete', 'equals', 'field', 'fromkeys', 'get', 'items', 'keys', 'pop', 'popitem', 'reload', 'setdefault', 'update', 'values']\n",
      "d07126f5-120d-431f-b396-637741770dba.cram\taliquot_id\t571328\n",
      "['_API', '__class__', '__contains__', '__delattr__', '__delitem__', '__dict__', '__dir__', '__doc__', '__eq__', '__format__', '__ge__', '__getattribute__', '__getitem__', '__gt__', '__hash__', '__init__', '__init_subclass__', '__iter__', '__le__', '__len__', '__lt__', '__module__', '__ne__', '__new__', '__reduce__', '__reduce_ex__', '__repr__', '__setattr__', '__setitem__', '__sizeof__', '__slotnames__', '__str__', '__subclasshook__', '__weakref__', '_api', '_fields', '_name', '_parent', '_query', 'clear', 'copy', 'delete', 'equals', 'field', 'fromkeys', 'get', 'items', 'keys', 'pop', 'popitem', 'reload', 'setdefault', 'update', 'values']\n",
      "d07126f5-120d-431f-b396-637741770dba.cram.crai\taliquot_id\t571328\n",
      "['_API', '__class__', '__contains__', '__delattr__', '__delitem__', '__dict__', '__dir__', '__doc__', '__eq__', '__format__', '__ge__', '__getattribute__', '__getitem__', '__gt__', '__hash__', '__init__', '__init_subclass__', '__iter__', '__le__', '__len__', '__lt__', '__module__', '__ne__', '__new__', '__reduce__', '__reduce_ex__', '__repr__', '__setattr__', '__setitem__', '__sizeof__', '__slotnames__', '__str__', '__subclasshook__', '__weakref__', '_api', '_fields', '_name', '_parent', '_query', 'clear', 'copy', 'delete', 'equals', 'field', 'fromkeys', 'get', 'items', 'keys', 'pop', 'popitem', 'reload', 'setdefault', 'update', 'values']\n",
      "7316-914_571422.Aligned.toTranscriptome.out.bam\taliquot_id\t571422\n"
     ]
    },
    {
     "name": "stderr",
     "output_type": "stream",
     "text": [
      "ca1c0017-3ec7-48ac-9d46-ee225a1dad03.cram\tBS_6M3B3TKJ\n",
      "9a533419-b725-4747-93af-264d52e059ad.cram\tBS_WB8P21ED\n"
     ]
    },
    {
     "name": "stdout",
     "output_type": "stream",
     "text": [
      "['_API', '__class__', '__contains__', '__delattr__', '__delitem__', '__dict__', '__dir__', '__doc__', '__eq__', '__format__', '__ge__', '__getattribute__', '__getitem__', '__gt__', '__hash__', '__init__', '__init_subclass__', '__iter__', '__le__', '__len__', '__lt__', '__module__', '__ne__', '__new__', '__reduce__', '__reduce_ex__', '__repr__', '__setattr__', '__setitem__', '__sizeof__', '__slotnames__', '__str__', '__subclasshook__', '__weakref__', '_api', '_fields', '_name', '_parent', '_query', 'clear', 'copy', 'delete', 'equals', 'field', 'fromkeys', 'get', 'items', 'keys', 'pop', 'popitem', 'reload', 'setdefault', 'update', 'values']\n",
      "ca1c0017-3ec7-48ac-9d46-ee225a1dad03.cram\taliquot_id\t549932\n",
      "['_API', '__class__', '__contains__', '__delattr__', '__delitem__', '__dict__', '__dir__', '__doc__', '__eq__', '__format__', '__ge__', '__getattribute__', '__getitem__', '__gt__', '__hash__', '__init__', '__init_subclass__', '__iter__', '__le__', '__len__', '__lt__', '__module__', '__ne__', '__new__', '__reduce__', '__reduce_ex__', '__repr__', '__setattr__', '__setitem__', '__sizeof__', '__slotnames__', '__str__', '__subclasshook__', '__weakref__', '_api', '_fields', '_name', '_parent', '_query', 'clear', 'copy', 'delete', 'equals', 'field', 'fromkeys', 'get', 'items', 'keys', 'pop', 'popitem', 'reload', 'setdefault', 'update', 'values']\n",
      "ca1c0017-3ec7-48ac-9d46-ee225a1dad03.cram.crai\taliquot_id\t549932\n",
      "['_API', '__class__', '__contains__', '__delattr__', '__delitem__', '__dict__', '__dir__', '__doc__', '__eq__', '__format__', '__ge__', '__getattribute__', '__getitem__', '__gt__', '__hash__', '__init__', '__init_subclass__', '__iter__', '__le__', '__len__', '__lt__', '__module__', '__ne__', '__new__', '__reduce__', '__reduce_ex__', '__repr__', '__setattr__', '__setitem__', '__sizeof__', '__slotnames__', '__str__', '__subclasshook__', '__weakref__', '_api', '_fields', '_name', '_parent', '_query', 'clear', 'copy', 'delete', 'equals', 'field', 'fromkeys', 'get', 'items', 'keys', 'pop', 'popitem', 'reload', 'setdefault', 'update', 'values']\n",
      "9a533419-b725-4747-93af-264d52e059ad.cram\taliquot_id\t571326\n",
      "['_API', '__class__', '__contains__', '__delattr__', '__delitem__', '__dict__', '__dir__', '__doc__', '__eq__', '__format__', '__ge__', '__getattribute__', '__getitem__', '__gt__', '__hash__', '__init__', '__init_subclass__', '__iter__', '__le__', '__len__', '__lt__', '__module__', '__ne__', '__new__', '__reduce__', '__reduce_ex__', '__repr__', '__setattr__', '__setitem__', '__sizeof__', '__slotnames__', '__str__', '__subclasshook__', '__weakref__', '_api', '_fields', '_name', '_parent', '_query', 'clear', 'copy', 'delete', 'equals', 'field', 'fromkeys', 'get', 'items', 'keys', 'pop', 'popitem', 'reload', 'setdefault', 'update', 'values']\n",
      "9a533419-b725-4747-93af-264d52e059ad.cram.crai\taliquot_id\t571326\n",
      "['_API', '__class__', '__contains__', '__delattr__', '__delitem__', '__dict__', '__dir__', '__doc__', '__eq__', '__format__', '__ge__', '__getattribute__', '__getitem__', '__gt__', '__hash__', '__init__', '__init_subclass__', '__iter__', '__le__', '__len__', '__lt__', '__module__', '__ne__', '__new__', '__reduce__', '__reduce_ex__', '__repr__', '__setattr__', '__setitem__', '__sizeof__', '__slotnames__', '__str__', '__subclasshook__', '__weakref__', '_api', '_fields', '_name', '_parent', '_query', 'clear', 'copy', 'delete', 'equals', 'field', 'fromkeys', 'get', 'items', 'keys', 'pop', 'popitem', 'reload', 'setdefault', 'update', 'values']\n",
      "7316-957_571420.Aligned.toTranscriptome.out.bam\taliquot_id\t571420\n"
     ]
    },
    {
     "name": "stderr",
     "output_type": "stream",
     "text": [
      "7316-957_571420.Aligned.toTranscriptome.out.bam\tBS_T4JFN54G\n"
     ]
    }
   ],
   "source": [
    "update_file = open('/Users/brownm28/Documents/2018-Sep-10_proteomics_update/add_aliquot_ids/metadata_table.txt')\n",
    "head = next(update_file)\n",
    "cheat_alias = 'cavatica/aysx-67gh'\n",
    "tum_proj = cheat_alias\n",
    "norm_proj = cheat_alias\n",
    "rna_proj = cheat_alias\n",
    "\n",
    "for line in update_file:\n",
    "    data = line.rstrip('\\n').split('\\t')\n",
    "    (n, t, r) = (9, 10, 11)\n",
    "    norm_cram = data[n]\n",
    "    tum_cram = data[t]\n",
    "    rna_bam = data[r]\n",
    "    cur_meta = {}\n",
    "    if norm_cram != 'NULL':\n",
    "        sys.stderr.write(norm_cram + '\\t' + data[2] + '\\n')\n",
    "        cur_meta['aliquot_id'] = data[-3]\n",
    "        update_meta(norm_proj, norm_cram, cur_meta, api, 1)\n",
    "    if tum_cram != 'NULL':\n",
    "        sys.stderr.write(tum_cram + '\\t' + data[3] + '\\n')\n",
    "        cur_meta['aliquot_id'] = data[-2]\n",
    "        update_meta(tum_proj, tum_cram, cur_meta, api, 1)\n",
    "    if rna_bam != 'NULL':\n",
    "        sys.stderr.write(rna_bam + '\\t' + data[4] + '\\n')\n",
    "        cur_meta['aliquot_id'] = data[-1]\n",
    "        update_meta(rna_proj, rna_bam, cur_meta, api, 0)"
   ]
  },
  {
   "cell_type": "markdown",
   "metadata": {},
   "source": [
    "## del key from metadata"
   ]
  },
  {
   "cell_type": "code",
   "execution_count": 51,
   "metadata": {},
   "outputs": [
    {
     "name": "stderr",
     "output_type": "stream",
     "text": [
      "29997c0d-d2ef-4a1f-b631-727b338692b2.cram\tBS_92HPNHFB\n",
      "f35e0736-088c-4fa9-b111-4c14e698a720.cram\tBS_JQNF0FQP\n",
      "7316-120_571417.Aligned.toTranscriptome.out.bam\tBS_B7X8VXQ3\n",
      "e252616f-bb41-48c0-b6c5-b01733dd4829.cram\tBS_JQB0CTE7\n",
      "7631868f-ba56-4dfa-a801-97838f9e3245.cram\tBS_Z4Q8RH5M\n",
      "7316-121_571416.Aligned.toTranscriptome.out.bam\tBS_66ABA973\n",
      "edc0aa2e-ba54-40b0-85a1-e392e7a4e84f.cram\tBS_W75GCHPW\n",
      "06175147-3479-41ad-a44f-398760208223.cram\tBS_A94A7EJ4\n",
      "7316-1790_573148.Aligned.toTranscriptome.out.bam\tBS_MV6ASWV9\n",
      "8e91ab29-acff-4a68-941b-8171f3dcc4fb.cram\tBS_S5SSWSVM\n",
      "7316-1886_711732.Aligned.toTranscriptome.out.bam\tBS_X67GTEM6\n",
      "39a54746-b2b1-47de-8dcd-6db2648352fb.cram\tBS_Q1SPJ467\n",
      "c2577280-05dc-4e28-a5c6-74b8f74e6a35.cram\tBS_8WJR4AA3\n",
      "7316-2141_571446.Aligned.toTranscriptome.out.bam\tBS_MMNRZ1EQ\n",
      "805ca5a6-39bd-4ba0-ac03-983a81cde8be.cram\tBS_XRF8D151\n",
      "d29137b5-c829-4e4e-9e21-e6cf89bac551.cram\tBS_KYG3H6C6\n",
      "7316-2172_571451.Aligned.toTranscriptome.out.bam\tBS_S50KQEXV\n",
      "878c8533-24ae-4088-90db-d4e7949592bd.cram\tBS_WYX72YAC\n",
      "3777448a-ef18-478f-b454-55fe0a01818a.cram\tBS_THH0CE5A\n",
      "7316-2184_571456.Aligned.toTranscriptome.out.bam\tBS_GHNJ4CYC\n",
      "7a6d7bf6-a033-477c-aee3-014e11144547.cram\tBS_SGS26NXP\n",
      "7bb4ce67-1877-4ae6-bb37-59be62140426.cram\tBS_85Q5P8GF\n",
      "7316-2594_574553.Aligned.toTranscriptome.out.bam\tBS_VF5XWFXD\n",
      "c82d29fe-9833-4cd9-9528-5b83cc3df883.cram\tBS_KA6B8TG8\n",
      "11f937ea-6562-4cf0-9983-c25051702ad8.cram\tBS_GDPZN3SD\n",
      "7316-332_571415.Aligned.toTranscriptome.out.bam\tBS_17WYVEEC\n",
      "59f57680-45fa-491f-94e8-7136eacf2bec.cram\tBS_6QF29TRA\n",
      "59a2ab74-bd1d-48b4-8119-51971a1bce62.cram\tBS_RZNNEX1Y\n",
      "7316-345_571434.Aligned.toTranscriptome.out.bam\tBS_52DAPP1Y\n",
      "c9a49c87-c00f-4a64-b792-700a5b29be5a.cram\tBS_1HQWNZCB\n",
      "c3f22937-b40c-4477-817e-592c1672b52b.cram\tBS_P3EVK3C2\n",
      "7316-362_570113.Aligned.toTranscriptome.out.bam\tBS_014EVM2D\n",
      "d23a2239-a048-4674-b78d-34b7e6b553b7.cram\tBS_1NWVFBTQ\n",
      "cd3a4b45-81e0-47cb-b23b-92ef54a5e152.cram\tBS_AG6M7TJE\n",
      "7316-451_571397.Aligned.toTranscriptome.out.bam\tBS_Z7890YNR\n",
      "d2a1e810-f420-47e9-87fb-d63c77fa61e8.cram\tBS_370TKZ48\n",
      "f633af8a-3198-414c-b491-78d1c2245d22.cram\tBS_QMY84KF4\n",
      "7316-490_570108.Aligned.toTranscriptome.out.bam\tBS_99B1XRZQ\n",
      "0415e18c-f23f-4307-b85c-9ee6be968806.cram\tBS_BT4WRQCA\n",
      "d07126f5-120d-431f-b396-637741770dba.cram\tBS_GXACEYKB\n",
      "7316-914_571422.Aligned.toTranscriptome.out.bam\tBS_F4E8R9VY\n",
      "ca1c0017-3ec7-48ac-9d46-ee225a1dad03.cram\tBS_6M3B3TKJ\n",
      "9a533419-b725-4747-93af-264d52e059ad.cram\tBS_WB8P21ED\n",
      "7316-957_571420.Aligned.toTranscriptome.out.bam\tBS_T4JFN54G\n"
     ]
    }
   ],
   "source": [
    "update_file = open('/Users/brownm28/Documents/2018-Sep-10_proteomics_update/add_aliquot_ids/metadata_table.txt')\n",
    "head = next(update_file)\n",
    "tum_proj = 'kfdrc-harmonization/sd-bhjxbdqk-02'\n",
    "norm_proj = 'kids-first-drc/sd-bhjxbdqk-har'\n",
    "rna_proj = 'kfdrc-harmonization/sd-bhjxbdqk-06'\n",
    "key_list = ['external_aliquot_id']\n",
    "for line in update_file:\n",
    "    data = line.rstrip('\\n').split('\\t')\n",
    "    (n, t, r) = (9, 10, 11)\n",
    "    norm_cram = data[n]\n",
    "    tum_cram = data[t]\n",
    "    rna_bam = data[r]\n",
    "    cur_meta = {}\n",
    "    if norm_cram != 'NULL':\n",
    "        sys.stderr.write(norm_cram + '\\t' + data[2] + '\\n')\n",
    "        delete_metadata_key(norm_proj, norm_cram, key_list, api, 1)\n",
    "    if tum_cram != 'NULL':\n",
    "        sys.stderr.write(tum_cram + '\\t' + data[3] + '\\n')\n",
    "        delete_metadata_key(tum_proj, tum_cram, key_list, api, 1)\n",
    "    if rna_bam != 'NULL':\n",
    "        sys.stderr.write(rna_bam + '\\t' + data[4] + '\\n')\n",
    "        delete_metadata_key(rna_proj, rna_bam, key_list, api, 0)"
   ]
  },
  {
   "cell_type": "markdown",
   "metadata": {},
   "source": [
    "## Copy files"
   ]
  },
  {
   "cell_type": "code",
   "execution_count": 116,
   "metadata": {},
   "outputs": [
    {
     "name": "stderr",
     "output_type": "stream",
     "text": [
      "29997c0d-d2ef-4a1f-b631-727b338692b2.cram\tBS_92HPNHFB\n",
      "f35e0736-088c-4fa9-b111-4c14e698a720.cram\tBS_JQNF0FQP\n",
      "7316-120_571417.Aligned.toTranscriptome.out.bam\tBS_B7X8VXQ3\n",
      "7316-120_571417.Aligned.toTranscriptome.out.bam not incavatica/aysx-67gh, copying from kfdrc-harmonization/sd-bhjxbdqk-06\n",
      "e252616f-bb41-48c0-b6c5-b01733dd4829.cram\tBS_JQB0CTE7\n",
      "e252616f-bb41-48c0-b6c5-b01733dd4829.cram not incavatica/aysx-67gh, copying from kids-first-drc/sd-bhjxbdqk-har\n",
      "7631868f-ba56-4dfa-a801-97838f9e3245.cram\tBS_Z4Q8RH5M\n",
      "7631868f-ba56-4dfa-a801-97838f9e3245.cram not incavatica/aysx-67gh, copying from kfdrc-harmonization/sd-bhjxbdqk-02\n",
      "7316-121_571416.Aligned.toTranscriptome.out.bam\tBS_66ABA973\n",
      "7316-121_571416.Aligned.toTranscriptome.out.bam not incavatica/aysx-67gh, copying from kfdrc-harmonization/sd-bhjxbdqk-06\n",
      "edc0aa2e-ba54-40b0-85a1-e392e7a4e84f.cram\tBS_W75GCHPW\n",
      "06175147-3479-41ad-a44f-398760208223.cram\tBS_A94A7EJ4\n",
      "06175147-3479-41ad-a44f-398760208223.cram not incavatica/aysx-67gh, copying from kfdrc-harmonization/sd-bhjxbdqk-02\n",
      "7316-1790_573148.Aligned.toTranscriptome.out.bam\tBS_MV6ASWV9\n",
      "7316-1790_573148.Aligned.toTranscriptome.out.bam not incavatica/aysx-67gh, copying from kfdrc-harmonization/sd-bhjxbdqk-06\n",
      "8e91ab29-acff-4a68-941b-8171f3dcc4fb.cram\tBS_S5SSWSVM\n",
      "8e91ab29-acff-4a68-941b-8171f3dcc4fb.cram not incavatica/aysx-67gh, copying from kids-first-drc/sd-bhjxbdqk-har\n",
      "7316-1886_711732.Aligned.toTranscriptome.out.bam\tBS_X67GTEM6\n",
      "7316-1886_711732.Aligned.toTranscriptome.out.bam not incavatica/aysx-67gh, copying from kfdrc-harmonization/sd-bhjxbdqk-06\n",
      "39a54746-b2b1-47de-8dcd-6db2648352fb.cram\tBS_Q1SPJ467\n",
      "39a54746-b2b1-47de-8dcd-6db2648352fb.cram not incavatica/aysx-67gh, copying from kids-first-drc/sd-bhjxbdqk-har\n",
      "c2577280-05dc-4e28-a5c6-74b8f74e6a35.cram\tBS_8WJR4AA3\n",
      "c2577280-05dc-4e28-a5c6-74b8f74e6a35.cram not incavatica/aysx-67gh, copying from kfdrc-harmonization/sd-bhjxbdqk-02\n",
      "7316-2141_571446.Aligned.toTranscriptome.out.bam\tBS_MMNRZ1EQ\n",
      "7316-2141_571446.Aligned.toTranscriptome.out.bam not incavatica/aysx-67gh, copying from kfdrc-harmonization/sd-bhjxbdqk-06\n",
      "805ca5a6-39bd-4ba0-ac03-983a81cde8be.cram\tBS_XRF8D151\n",
      "805ca5a6-39bd-4ba0-ac03-983a81cde8be.cram not incavatica/aysx-67gh, copying from kids-first-drc/sd-bhjxbdqk-har\n",
      "d29137b5-c829-4e4e-9e21-e6cf89bac551.cram\tBS_KYG3H6C6\n",
      "d29137b5-c829-4e4e-9e21-e6cf89bac551.cram not incavatica/aysx-67gh, copying from kfdrc-harmonization/sd-bhjxbdqk-02\n",
      "7316-2172_571451.Aligned.toTranscriptome.out.bam\tBS_S50KQEXV\n",
      "7316-2172_571451.Aligned.toTranscriptome.out.bam not incavatica/aysx-67gh, copying from kfdrc-harmonization/sd-bhjxbdqk-06\n",
      "878c8533-24ae-4088-90db-d4e7949592bd.cram\tBS_WYX72YAC\n",
      "878c8533-24ae-4088-90db-d4e7949592bd.cram not incavatica/aysx-67gh, copying from kids-first-drc/sd-bhjxbdqk-har\n",
      "3777448a-ef18-478f-b454-55fe0a01818a.cram\tBS_THH0CE5A\n",
      "3777448a-ef18-478f-b454-55fe0a01818a.cram not incavatica/aysx-67gh, copying from kfdrc-harmonization/sd-bhjxbdqk-02\n",
      "7316-2184_571456.Aligned.toTranscriptome.out.bam\tBS_GHNJ4CYC\n",
      "7316-2184_571456.Aligned.toTranscriptome.out.bam not incavatica/aysx-67gh, copying from kfdrc-harmonization/sd-bhjxbdqk-06\n",
      "7a6d7bf6-a033-477c-aee3-014e11144547.cram\tBS_SGS26NXP\n",
      "7a6d7bf6-a033-477c-aee3-014e11144547.cram not incavatica/aysx-67gh, copying from kids-first-drc/sd-bhjxbdqk-har\n",
      "7bb4ce67-1877-4ae6-bb37-59be62140426.cram\tBS_85Q5P8GF\n",
      "7bb4ce67-1877-4ae6-bb37-59be62140426.cram not incavatica/aysx-67gh, copying from kfdrc-harmonization/sd-bhjxbdqk-02\n",
      "7316-2594_574553.Aligned.toTranscriptome.out.bam\tBS_VF5XWFXD\n",
      "7316-2594_574553.Aligned.toTranscriptome.out.bam not incavatica/aysx-67gh, copying from kfdrc-harmonization/sd-bhjxbdqk-06\n",
      "c82d29fe-9833-4cd9-9528-5b83cc3df883.cram\tBS_KA6B8TG8\n",
      "c82d29fe-9833-4cd9-9528-5b83cc3df883.cram not incavatica/aysx-67gh, copying from kids-first-drc/sd-bhjxbdqk-har\n",
      "11f937ea-6562-4cf0-9983-c25051702ad8.cram\tBS_GDPZN3SD\n",
      "11f937ea-6562-4cf0-9983-c25051702ad8.cram not incavatica/aysx-67gh, copying from kfdrc-harmonization/sd-bhjxbdqk-02\n",
      "7316-332_571415.Aligned.toTranscriptome.out.bam\tBS_17WYVEEC\n",
      "7316-332_571415.Aligned.toTranscriptome.out.bam not incavatica/aysx-67gh, copying from kfdrc-harmonization/sd-bhjxbdqk-06\n",
      "59f57680-45fa-491f-94e8-7136eacf2bec.cram\tBS_6QF29TRA\n",
      "59f57680-45fa-491f-94e8-7136eacf2bec.cram not incavatica/aysx-67gh, copying from kids-first-drc/sd-bhjxbdqk-har\n",
      "59a2ab74-bd1d-48b4-8119-51971a1bce62.cram\tBS_RZNNEX1Y\n",
      "59a2ab74-bd1d-48b4-8119-51971a1bce62.cram not incavatica/aysx-67gh, copying from kfdrc-harmonization/sd-bhjxbdqk-02\n",
      "7316-345_571434.Aligned.toTranscriptome.out.bam\tBS_52DAPP1Y\n",
      "7316-345_571434.Aligned.toTranscriptome.out.bam not incavatica/aysx-67gh, copying from kfdrc-harmonization/sd-bhjxbdqk-06\n",
      "c9a49c87-c00f-4a64-b792-700a5b29be5a.cram\tBS_1HQWNZCB\n",
      "c9a49c87-c00f-4a64-b792-700a5b29be5a.cram not incavatica/aysx-67gh, copying from kids-first-drc/sd-bhjxbdqk-har\n",
      "c3f22937-b40c-4477-817e-592c1672b52b.cram\tBS_P3EVK3C2\n",
      "c3f22937-b40c-4477-817e-592c1672b52b.cram not incavatica/aysx-67gh, copying from kfdrc-harmonization/sd-bhjxbdqk-02\n",
      "7316-362_570113.Aligned.toTranscriptome.out.bam\tBS_014EVM2D\n",
      "7316-362_570113.Aligned.toTranscriptome.out.bam not incavatica/aysx-67gh, copying from kfdrc-harmonization/sd-bhjxbdqk-06\n",
      "d23a2239-a048-4674-b78d-34b7e6b553b7.cram\tBS_1NWVFBTQ\n",
      "d23a2239-a048-4674-b78d-34b7e6b553b7.cram not incavatica/aysx-67gh, copying from kids-first-drc/sd-bhjxbdqk-har\n",
      "cd3a4b45-81e0-47cb-b23b-92ef54a5e152.cram\tBS_AG6M7TJE\n",
      "cd3a4b45-81e0-47cb-b23b-92ef54a5e152.cram not incavatica/aysx-67gh, copying from kfdrc-harmonization/sd-bhjxbdqk-02\n",
      "7316-451_571397.Aligned.toTranscriptome.out.bam\tBS_Z7890YNR\n",
      "7316-451_571397.Aligned.toTranscriptome.out.bam not incavatica/aysx-67gh, copying from kfdrc-harmonization/sd-bhjxbdqk-06\n",
      "d2a1e810-f420-47e9-87fb-d63c77fa61e8.cram\tBS_370TKZ48\n",
      "f633af8a-3198-414c-b491-78d1c2245d22.cram\tBS_QMY84KF4\n",
      "f633af8a-3198-414c-b491-78d1c2245d22.cram not incavatica/aysx-67gh, copying from kfdrc-harmonization/sd-bhjxbdqk-02\n",
      "7316-490_570108.Aligned.toTranscriptome.out.bam\tBS_99B1XRZQ\n",
      "7316-490_570108.Aligned.toTranscriptome.out.bam not incavatica/aysx-67gh, copying from kfdrc-harmonization/sd-bhjxbdqk-06\n",
      "0415e18c-f23f-4307-b85c-9ee6be968806.cram\tBS_BT4WRQCA\n",
      "0415e18c-f23f-4307-b85c-9ee6be968806.cram not incavatica/aysx-67gh, copying from kids-first-drc/sd-bhjxbdqk-har\n",
      "d07126f5-120d-431f-b396-637741770dba.cram\tBS_GXACEYKB\n",
      "d07126f5-120d-431f-b396-637741770dba.cram not incavatica/aysx-67gh, copying from kfdrc-harmonization/sd-bhjxbdqk-02\n",
      "7316-914_571422.Aligned.toTranscriptome.out.bam\tBS_F4E8R9VY\n",
      "7316-914_571422.Aligned.toTranscriptome.out.bam not incavatica/aysx-67gh, copying from kfdrc-harmonization/sd-bhjxbdqk-06\n",
      "ca1c0017-3ec7-48ac-9d46-ee225a1dad03.cram\tBS_6M3B3TKJ\n",
      "ca1c0017-3ec7-48ac-9d46-ee225a1dad03.cram not incavatica/aysx-67gh, copying from kids-first-drc/sd-bhjxbdqk-har\n",
      "9a533419-b725-4747-93af-264d52e059ad.cram\tBS_WB8P21ED\n",
      "9a533419-b725-4747-93af-264d52e059ad.cram not incavatica/aysx-67gh, copying from kfdrc-harmonization/sd-bhjxbdqk-02\n",
      "7316-957_571420.Aligned.toTranscriptome.out.bam\tBS_T4JFN54G\n",
      "7316-957_571420.Aligned.toTranscriptome.out.bam not incavatica/aysx-67gh, copying from kfdrc-harmonization/sd-bhjxbdqk-06\n"
     ]
    }
   ],
   "source": [
    "update_file = open('/Users/brownm28/Documents/2018-Sep-10_proteomics_update/file_metadata_update.txt')\n",
    "head = next(update_file)\n",
    "tum_proj = 'kfdrc-harmonization/sd-bhjxbdqk-02'\n",
    "norm_proj = 'kids-first-drc/sd-bhjxbdqk-har'\n",
    "rna_proj = 'kfdrc-harmonization/sd-bhjxbdqk-06'\n",
    "dest_proj = 'cavatica/aysx-67gh'\n",
    "for line in update_file:\n",
    "    data = line.rstrip('\\n').split('\\t')\n",
    "    (n, t, r) = (9, 10, 11)\n",
    "    norm_cram = data[n]\n",
    "    tum_cram = data[t]\n",
    "    rna_bam = data[r]\n",
    "    # find_copy_file(cur_project, source_project, fname, f, suffix)\n",
    "    if norm_cram != 'NULL':\n",
    "        sys.stderr.write(norm_cram + '\\t' + data[2] + '\\n')\n",
    "        find_copy_file(dest_proj, norm_proj, norm_cram, 1, '.crai')\n",
    "    if tum_cram != 'NULL':\n",
    "        sys.stderr.write(tum_cram + '\\t' + data[3] + '\\n')\n",
    "        find_copy_file(dest_proj, tum_proj, tum_cram, 1, '.crai')\n",
    "    if rna_bam != 'NULL':\n",
    "        sys.stderr.write(rna_bam + '\\t' + data[4] + '\\n')\n",
    "        find_copy_file(dest_proj, rna_proj, rna_bam, 0, '')"
   ]
  },
  {
   "cell_type": "code",
   "execution_count": null,
   "metadata": {},
   "outputs": [],
   "source": []
  }
 ],
 "metadata": {
  "kernelspec": {
   "display_name": "Python 3",
   "language": "python",
   "name": "python3"
  },
  "language_info": {
   "codemirror_mode": {
    "name": "ipython",
    "version": 3
   },
   "file_extension": ".py",
   "mimetype": "text/x-python",
   "name": "python",
   "nbconvert_exporter": "python",
   "pygments_lexer": "ipython3",
   "version": "3.6.5"
  }
 },
 "nbformat": 4,
 "nbformat_minor": 2
}
