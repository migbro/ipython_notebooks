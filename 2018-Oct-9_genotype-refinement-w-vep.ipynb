{
 "cells": [
  {
   "cell_type": "code",
   "execution_count": 1,
   "metadata": {},
   "outputs": [],
   "source": [
    "import sevenbridges as sbg\n",
    "import sys\n",
    "from requests import request\n",
    "\n",
    "config = sbg.Config(profile='cavatica')\n",
    "api = sbg.Api(config=config)"
   ]
  },
  {
   "cell_type": "code",
   "execution_count": null,
   "metadata": {},
   "outputs": [],
   "source": [
    "def get_refs(api, project):\n",
    "    ref_dict = {}\n",
    "    ref_dict['cache'] = api.files.query(project=project, names=['homo_sapiens_vep_93_GRCh38_convert_cache.tar.gz'])[0]\n",
    "    ref_dict['reference'] = api.files.query(project=project, names=['Homo_sapiens_assembly38.fasta'])[0]\n",
    "    ref_dict['snp_sites'] = api.files.query(project=project, names=['1000G_phase3_v4_20130502.sites.hg38.vcf'])[0]\n",
    "    return ref_dict"
   ]
  },
  {
   "cell_type": "code",
   "execution_count": null,
   "metadata": {},
   "outputs": [],
   "source": [
    "def get_inputs_by_task(api, project):\n",
    "    in_dict = {}\n",
    "    tasks = api.tasks.query(project = project, status = 'COMPLETED').all()\n",
    "    for task in tasks:\n",
    "        parts = task.name.split('-')\n",
    "        fm_id = parts[1]\n",
    "        ped_fn = fm_id + '.ped'\n",
    "        if fm_id in in_dict:\n",
    "            sys.stderr.write('ERROR: Repeat family ID ' + fm_id)\n",
    "            exit(1)\n",
    "        in_dict[fm_id] = {}\n",
    "        in_dict[fm_id]['vqsr_vcf'] = task.outputs['finalgathervcf']\n",
    "        in_dict[fm_id]['ped'] = api.files.query(project=project, names=[ped_fn])[0]\n",
    "    return in_dict"
   ]
  },
  {
   "cell_type": "code",
   "execution_count": null,
   "metadata": {},
   "outputs": [],
   "source": [
    "def stage_tasks(api, project, fm_id, in_dict, ref_dict):\n",
    "    task_name = 'kf_genotype_refinement_vep-' + fm_id\n",
    "    app_name = project + '/kf-genotype-refinement-workflow'\n",
    "    inputs = ref_dict\n",
    "    for key in in_dict:\n",
    "        inputs[key] = in_dict[key]\n",
    "    task = api.tasks.create(name=task_name, project=project, app=app_name, inputs=inputs, run=False)\n",
    "    task.inputs['output_basename'] = task.id\n",
    "    task.save()\n",
    "    print ('\\t'.join((task_name, task.id)))"
   ]
  },
  {
   "cell_type": "code",
   "execution_count": null,
   "metadata": {},
   "outputs": [],
   "source": [
    "engle = 'kfdrc-harmonization/sd-dztb5hrr-01'\n",
    "chung = 'kfdrc-harmonization/sd-46sk55a3-02'\n",
    "schiffman = 'kfdrc-harmonization/sd-ygva0e1c-01'\n",
    "cur_proj = engle\n",
    "sys.stderr.write('Getting refs for ' + cur_proj + '\\n')\n",
    "ref_dict = get_refs(api, cur_proj)\n",
    "sys.stderr.write('Getting inputs by task\\n')\n",
    "in_dict = get_inputs_by_task(api, cur_proj)\n",
    "\n",
    "for fm_id in in_dict:\n",
    "    sys.stderr.write('Staging task for ' + fm_id + '\\n')\n",
    "    stage_tasks(api, cur_proj, fm_id, in_dict[fm_id], ref_dict)\n",
    "\n"
   ]
  },
  {
   "cell_type": "markdown",
   "metadata": {},
   "source": [
    "## Delete files associated with certain tasks"
   ]
  },
  {
   "cell_type": "code",
   "execution_count": 23,
   "metadata": {},
   "outputs": [
    {
     "name": "stderr",
     "output_type": "stream",
     "text": [
      "Found task kf_genotype_refinement_vep-FM_8WPPZVN3 with outputs to delete\n",
      "No file output for vep_warn\n"
     ]
    },
    {
     "name": "stdout",
     "output_type": "stream",
     "text": [
      "8995faad-f0ae-45c1-9454-e579d2a68c16_stats.txt\n",
      "8995faad-f0ae-45c1-9454-e579d2a68c16.CGP.filtered.deNovo.vep.vcf.gz\n",
      "de52c8fa-88fb-4c25-b0bc-44ad7d4ed828_stats.txt\n",
      "de52c8fa-88fb-4c25-b0bc-44ad7d4ed828.CGP.filtered.deNovo.vep.vcf.gz\n"
     ]
    },
    {
     "name": "stderr",
     "output_type": "stream",
     "text": [
      "Found task kf_genotype_refinement_vep-FM_ZKK01N7M with outputs to delete\n",
      "No file output for vep_warn\n",
      "Found task kf_genotype_refinement_vep-FM_H95TPB6A with outputs to delete\n",
      "No file output for vep_warn\n"
     ]
    },
    {
     "name": "stdout",
     "output_type": "stream",
     "text": [
      "7707c336-3223-4ed5-a19c-92410187c3a7_stats.txt\n",
      "7707c336-3223-4ed5-a19c-92410187c3a7.CGP.filtered.deNovo.vep.vcf.gz\n"
     ]
    },
    {
     "name": "stderr",
     "output_type": "stream",
     "text": [
      "Found task kf_genotype_refinement_vep-FM_3Z42KBQ4 with outputs to delete\n",
      "No file output for vep_warn\n",
      "Found task kf_genotype_refinement_vep-FM_346Z2W1F with outputs to delete\n",
      "No file output for vep_warn\n"
     ]
    },
    {
     "name": "stdout",
     "output_type": "stream",
     "text": [
      "cff07c2a-14a3-4a6b-a26a-f2174ff8ee80_stats.txt\n",
      "cff07c2a-14a3-4a6b-a26a-f2174ff8ee80.CGP.filtered.deNovo.vep.vcf.gz\n",
      "425a575e-ee34-489b-ba47-49c34ed6ce22_stats.txt\n",
      "425a575e-ee34-489b-ba47-49c34ed6ce22.CGP.filtered.deNovo.vep.vcf.gz\n"
     ]
    },
    {
     "name": "stderr",
     "output_type": "stream",
     "text": [
      "Found task kf_genotype_refinement_vep-FM_G342GZE1 with outputs to delete\n",
      "No file output for vep_warn\n",
      "Found task kf_genotype_refinement_vep-FM_1AX45XF6 with outputs to delete\n",
      "No file output for vep_warn\n"
     ]
    },
    {
     "name": "stdout",
     "output_type": "stream",
     "text": [
      "4014586f-bf02-4527-8eb4-f83a807515d9_stats.txt\n",
      "4014586f-bf02-4527-8eb4-f83a807515d9.CGP.filtered.deNovo.vep.vcf.gz\n",
      "557204b9-1407-41cb-9b6c-d4f253194338_stats.txt\n",
      "557204b9-1407-41cb-9b6c-d4f253194338.CGP.filtered.deNovo.vep.vcf.gz\n"
     ]
    },
    {
     "name": "stderr",
     "output_type": "stream",
     "text": [
      "Found task kf_genotype_refinement_vep-FM_YXZQGKFS with outputs to delete\n",
      "No file output for vep_warn\n",
      "Found task kf_genotype_refinement_vep-FM_ECATPBSB with outputs to delete\n",
      "No file output for vep_warn\n"
     ]
    },
    {
     "name": "stdout",
     "output_type": "stream",
     "text": [
      "c349795f-9430-4b8d-a401-dc52c39ab61a_stats.txt\n",
      "c349795f-9430-4b8d-a401-dc52c39ab61a.CGP.filtered.deNovo.vep.vcf.gz\n",
      "5cf3e286-69f5-4948-a69e-6e2de491792a_stats.txt\n",
      "5cf3e286-69f5-4948-a69e-6e2de491792a.CGP.filtered.deNovo.vep.vcf.gz\n"
     ]
    },
    {
     "name": "stderr",
     "output_type": "stream",
     "text": [
      "Found task kf_genotype_refinement_vep-FM_E6Y9XB4Z with outputs to delete\n",
      "No file output for vep_warn\n",
      "Found task kf_genotype_refinement_vep-FM_7DB1ZCP9 with outputs to delete\n",
      "No file output for vep_warn\n"
     ]
    },
    {
     "name": "stdout",
     "output_type": "stream",
     "text": [
      "642b45a6-68f0-411f-a0f9-d3d13b0fe227_stats.txt\n",
      "642b45a6-68f0-411f-a0f9-d3d13b0fe227.CGP.filtered.deNovo.vep.vcf.gz\n",
      "db378e83-c0df-42a7-80f9-c06b242b1a1d_stats.txt\n",
      "db378e83-c0df-42a7-80f9-c06b242b1a1d.CGP.filtered.deNovo.vep.vcf.gz\n"
     ]
    },
    {
     "name": "stderr",
     "output_type": "stream",
     "text": [
      "Found task kf_genotype_refinement_vep-FM_YJTCZHTS with outputs to delete\n",
      "No file output for vep_warn\n",
      "Found task kf_genotype_refinement_vep-FM_FYS2JR5B with outputs to delete\n",
      "No file output for vep_warn\n"
     ]
    },
    {
     "name": "stdout",
     "output_type": "stream",
     "text": [
      "767f33f7-5f50-46e3-bd97-ebc2bb02f9da_stats.txt\n",
      "767f33f7-5f50-46e3-bd97-ebc2bb02f9da.CGP.filtered.deNovo.vep.vcf.gz\n",
      "6de57531-95ca-40f4-b972-37fedd078e57_stats.txt\n",
      "6de57531-95ca-40f4-b972-37fedd078e57.CGP.filtered.deNovo.vep.vcf.gz\n"
     ]
    },
    {
     "name": "stderr",
     "output_type": "stream",
     "text": [
      "Found task kf_genotype_refinement_vep-FM_F5RET3RA with outputs to delete\n",
      "No file output for vep_warn\n",
      "Found task kf_genotype_refinement_vep-FM_VR0AE7M5 with outputs to delete\n",
      "No file output for vep_warn\n"
     ]
    },
    {
     "name": "stdout",
     "output_type": "stream",
     "text": [
      "a85dc415-d7fc-4013-9e53-e9eec3dd03f4_stats.txt\n",
      "a85dc415-d7fc-4013-9e53-e9eec3dd03f4.CGP.filtered.deNovo.vep.vcf.gz\n",
      "c3817a21-9ee3-4729-ae6c-2c2dcb17d610_stats.txt\n",
      "c3817a21-9ee3-4729-ae6c-2c2dcb17d610.CGP.filtered.deNovo.vep.vcf.gz\n"
     ]
    },
    {
     "name": "stderr",
     "output_type": "stream",
     "text": [
      "Found task kf_genotype_refinement_vep-FM_2ZG2ZV0K with outputs to delete\n",
      "No file output for vep_warn\n",
      "Found task kf_genotype_refinement_vep-FM_1JDG4XDQ with outputs to delete\n",
      "No file output for vep_warn\n"
     ]
    },
    {
     "name": "stdout",
     "output_type": "stream",
     "text": [
      "7da771e6-1374-4ab8-b73a-026d9f446221_stats.txt\n",
      "7da771e6-1374-4ab8-b73a-026d9f446221.CGP.filtered.deNovo.vep.vcf.gz\n",
      "dc8ac158-1121-4cef-814f-bee4810e6db8_stats.txt\n",
      "dc8ac158-1121-4cef-814f-bee4810e6db8.CGP.filtered.deNovo.vep.vcf.gz\n"
     ]
    },
    {
     "name": "stderr",
     "output_type": "stream",
     "text": [
      "Found task kf_genotype_refinement_vep-FM_ZWMSZT40 with outputs to delete\n",
      "No file output for vep_warn\n",
      "Found task kf_genotype_refinement_vep-FM_9B5H8M71 with outputs to delete\n",
      "No file output for vep_warn\n"
     ]
    },
    {
     "name": "stdout",
     "output_type": "stream",
     "text": [
      "f83afbba-82cf-4f59-976b-959395e6b232_stats.txt\n",
      "f83afbba-82cf-4f59-976b-959395e6b232.CGP.filtered.deNovo.vep.vcf.gz\n",
      "a38675d8-3045-4168-91c5-377b4b901e13_stats.txt\n",
      "a38675d8-3045-4168-91c5-377b4b901e13.CGP.filtered.deNovo.vep.vcf.gz\n"
     ]
    },
    {
     "name": "stderr",
     "output_type": "stream",
     "text": [
      "Found task kf_genotype_refinement_vep-FM_QKY17RNS with outputs to delete\n",
      "No file output for vep_warn\n",
      "Found task kf_genotype_refinement_vep-FM_07GC0GW7 with outputs to delete\n",
      "No file output for vep_warn\n"
     ]
    },
    {
     "name": "stdout",
     "output_type": "stream",
     "text": [
      "757fedea-9433-4374-8c5e-b9b2597071a5_stats.txt\n",
      "757fedea-9433-4374-8c5e-b9b2597071a5.CGP.filtered.deNovo.vep.vcf.gz\n",
      "9dfa0d1d-d6f3-4bb5-86e7-34f1cfe5c6fa_stats.txt\n",
      "9dfa0d1d-d6f3-4bb5-86e7-34f1cfe5c6fa.CGP.filtered.deNovo.vep.vcf.gz\n"
     ]
    },
    {
     "name": "stderr",
     "output_type": "stream",
     "text": [
      "Found task kf_genotype_refinement_vep-FM_TQ9N8MVA with outputs to delete\n",
      "No file output for vep_warn\n",
      "Found task kf_genotype_refinement_vep-FM_AT2W3HKG with outputs to delete\n",
      "No file output for vep_warn\n"
     ]
    },
    {
     "name": "stdout",
     "output_type": "stream",
     "text": [
      "8384132c-6bf4-4888-8cc4-bcee0d0d88fe_stats.txt\n",
      "8384132c-6bf4-4888-8cc4-bcee0d0d88fe.CGP.filtered.deNovo.vep.vcf.gz\n",
      "1bb7b58d-a451-4aef-9da7-a69d2ec9cfa1_stats.txt\n",
      "1bb7b58d-a451-4aef-9da7-a69d2ec9cfa1.CGP.filtered.deNovo.vep.vcf.gz\n"
     ]
    }
   ],
   "source": [
    "fm_fn = '/Users/brownm28/Documents/2018-Oct-9_genotype_refinement_bonanza/ENGLE/fm_to_rpt.txt'\n",
    "fm_list = []\n",
    "for line in open(fm_fn):\n",
    "    fm_list.append(line.rstrip('\\n'))\n",
    "\n",
    "engle = 'kfdrc-harmonization/sd-dztb5hrr-01'\n",
    "tasks = api.tasks.query(project=engle, status = 'COMPLETED').all()\n",
    "\n",
    "f = 0\n",
    "for task in tasks:\n",
    "    check = task.name.split('-')\n",
    "    if f ==1:\n",
    "        break\n",
    "    if check[0] == 'kf_genotype_refinement_vep' and check[1] in fm_list:\n",
    "        sys.stderr.write('Found task ' + task.name + ' with outputs to delete\\n')\n",
    "\n",
    "        for out in task.outputs.keys():\n",
    "            try:\n",
    "                print (task.outputs[out].name)\n",
    "                task.outputs[out].delete()\n",
    "            except:\n",
    "                sys.stderr.write('No file output for ' + out + '\\n')\n",
    "        # f = 1"
   ]
  },
  {
   "cell_type": "code",
   "execution_count": null,
   "metadata": {},
   "outputs": [],
   "source": []
  }
 ],
 "metadata": {
  "kernelspec": {
   "display_name": "Python 3",
   "language": "python",
   "name": "python3"
  },
  "language_info": {
   "codemirror_mode": {
    "name": "ipython",
    "version": 3
   },
   "file_extension": ".py",
   "mimetype": "text/x-python",
   "name": "python",
   "nbconvert_exporter": "python",
   "pygments_lexer": "ipython3",
   "version": "3.5.5"
  }
 },
 "nbformat": 4,
 "nbformat_minor": 2
}
