{
 "cells": [
  {
   "cell_type": "code",
   "execution_count": 1,
   "metadata": {},
   "outputs": [],
   "source": [
    "import sevenbridges as sbg\n",
    "import sys\n",
    "import pdb\n",
    "from requests import request\n",
    "import concurrent.futures\n",
    "config = sbg.Config(profile='cavatica')\n",
    "api = sbg.Api(config=config)"
   ]
  },
  {
   "cell_type": "code",
   "execution_count": 2,
   "metadata": {},
   "outputs": [],
   "source": [
    "def get_refs(api, project):\n",
    "    ref_dict = {}\n",
    "    ref_dict['cache'] = api.files.query(project=project, names=['homo_sapiens_vep_93_GRCh38_convert_cache.tar.gz'])[0]\n",
    "    ref_dict['reference'] = api.files.query(project=project, names=['Homo_sapiens_assembly38.fasta'])[0]\n",
    "    ref_dict['snp_sites'] = api.files.query(project=project, names=['1000G_phase3_v4_20130502.sites.hg38.vcf'])[0]\n",
    "    return ref_dict"
   ]
  },
  {
   "cell_type": "code",
   "execution_count": 3,
   "metadata": {},
   "outputs": [],
   "source": [
    "def get_inputs_by_task(api, fm_run, project):\n",
    "    tasks = api.tasks.query(project = project, status = 'COMPLETED').all()\n",
    "    inputs = {}\n",
    "    x = 1\n",
    "    n = 50\n",
    "    for task in tasks:\n",
    "        parts = task.name.split('-')\n",
    "        fm_id = parts[1]\n",
    "        ped_fn = fm_id + '.ped'\n",
    "        if parts[0] == 'jointgenotyping' and fm_id in inputs:\n",
    "            sys.stderr.write('ERROR: Repeat family ID ' + fm_id + ' in task ' + task.name + '\\n' )\n",
    "            exit(1)\n",
    "        elif parts[0] == 'jointgenotyping' and fm_id in fm_run:\n",
    "            try: \n",
    "                sys.stderr.write('Found valid task for ' + fm_id + ' ' + task.name + '\\n')\n",
    "                ped = api.files.query(project=project, names=[(fm_id + '.ped')])[0]\n",
    "                vqsr_vcf = task.outputs['finalgathervcf']\n",
    "                inputs[fm_id] = {}\n",
    "                inputs[fm_id]['ped'] =  ped\n",
    "                inputs[fm_id]['vqsr_vcf'] = vqsr_vcf\n",
    "                fm_run[fm_id] = 1\n",
    "            except Exception as e:\n",
    "                print(e)\n",
    "                sys.stderr.write('Error handling ' + task.name + '. This is probably expected, continuing\\n')\n",
    "        if x % n == 0:\n",
    "            sys.stderr.write('Processed ' + str(x) + ' tasks\\n')\n",
    "        x += 1\n",
    "    return inputs"
   ]
  },
  {
   "cell_type": "code",
   "execution_count": 4,
   "metadata": {},
   "outputs": [],
   "source": [
    "def stage_tasks(api, project, fm_id, in_dict, ref_dict, suffix):\n",
    "    task_name = 'kf_genotype_refinement_vep-' + fm_id + suffix\n",
    "    app_name = project + '/kf-genotype-refinement-workflow'\n",
    "    inputs = ref_dict\n",
    "    for key in in_dict:\n",
    "        inputs[key] = in_dict[key]\n",
    "    task = api.tasks.create(name=task_name, project=project, app=app_name, inputs=inputs, run=False)\n",
    "    task.inputs['output_basename'] = task.id\n",
    "    task.save()\n",
    "    return '\\t'.join((task_name, task.id)) + '\\n'"
   ]
  },
  {
   "cell_type": "code",
   "execution_count": 6,
   "metadata": {
    "scrolled": true
   },
   "outputs": [
    {
     "name": "stderr",
     "output_type": "stream",
     "text": [
      "Getting refs for kfdrc-harmonization/sd-6fpyjqbr-02\n",
      "Getting inputs by task\n",
      "Found valid task for FM_08T1J7C6 jointgenotyping-FM_08T1J7C6\n",
      "Found valid task for FM_11MX5F3A jointgenotyping-FM_11MX5F3A\n",
      "Found valid task for FM_3CGWDWG9 jointgenotyping-FM_3CGWDWG9\n",
      "Found valid task for FM_446XWPHN jointgenotyping-FM_446XWPHN\n",
      "Found valid task for FM_6PCY22EF jointgenotyping-FM_6PCY22EF\n",
      "Found valid task for FM_7ZVDBHTV jointgenotyping-FM_7ZVDBHTV\n",
      "Found valid task for FM_81PS45A8 jointgenotyping-FM_81PS45A8\n",
      "Found valid task for FM_9FPDCWY5 jointgenotyping-FM_9FPDCWY5\n",
      "Found valid task for FM_ANSS9SWT jointgenotyping-FM_ANSS9SWT\n",
      "Found valid task for FM_C7YQB73E jointgenotyping-FM_C7YQB73E\n",
      "Found valid task for FM_CMVE09VR jointgenotyping-FM_CMVE09VR\n",
      "Found valid task for FM_CVK21HHS jointgenotyping-FM_CVK21HHS\n",
      "Found valid task for FM_E7GF64GB jointgenotyping-FM_E7GF64GB\n",
      "Found valid task for FM_EWA2Q3D4 jointgenotyping-FM_EWA2Q3D4\n",
      "Found valid task for FM_EYPG9H9S jointgenotyping-FM_EYPG9H9S\n",
      "Found valid task for FM_GATTK79X jointgenotyping-FM_GATTK79X\n",
      "Processed 50 tasks\n",
      "Found valid task for FM_HQXD54P3 jointgenotyping-FM_HQXD54P3\n",
      "Found valid task for FM_JJ74CJSB jointgenotyping-FM_JJ74CJSB\n",
      "Found valid task for FM_K35AT38B jointgenotyping-FM_K35AT38B\n",
      "Found valid task for FM_NHT1WD8W jointgenotyping-FM_NHT1WD8W\n",
      "Found valid task for FM_Q27G5SWC jointgenotyping-FM_Q27G5SWC\n",
      "Found valid task for FM_QZ6P6M7Y jointgenotyping-FM_QZ6P6M7Y\n",
      "Found valid task for FM_T4EFEAJ1 jointgenotyping-FM_T4EFEAJ1\n",
      "Found valid task for FM_T7ANDHBY jointgenotyping-FM_T7ANDHBY\n",
      "Found valid task for FM_X5C9GWC2 jointgenotyping-FM_X5C9GWC2\n",
      "Found valid task for FM_X60172TD jointgenotyping-FM_X60172TD\n",
      "Found valid task for FM_X7QY0CGW jointgenotyping-FM_X7QY0CGW\n",
      "Processed 100 tasks\n",
      "Processed 150 tasks\n",
      "Processed 200 tasks\n"
     ]
    }
   ],
   "source": [
    "engle = 'kfdrc-harmonization/sd-dztb5hrr-01'\n",
    "chung = 'kfdrc-harmonization/sd-46sk55a3-02'\n",
    "schiffman = 'kfdrc-harmonization/sd-ygva0e1c-01'\n",
    "rios_wise = 'kfdrc-harmonization/sd-rm8afw0r-01'\n",
    "seidman = 'kfdrc-harmonization/sd-preasa7s-02'\n",
    "vilain = 'kfdrc-harmonization/sd-6fpyjqbr-02'\n",
    "cur_proj = vilain\n",
    "out_fh = open('/Users/brownm28/Documents/2018-Oct-9_genotype_refinement_bonanza/VILAIN/rpt/r3-task_stage.txt', 'w')\n",
    "sys.stderr.write('Getting refs for ' + cur_proj + '\\n')\n",
    "ref_dict = get_refs(api, cur_proj)\n",
    "sys.stderr.write('Getting inputs by task\\n')\n",
    "in_fm = '/Users/brownm28/Documents/2018-Oct-9_genotype_refinement_bonanza/VILAIN/rpt/r3_rpt.txt'\n",
    "fm_run = {}\n",
    "for fm_id in open(in_fm):\n",
    "    fm_run[fm_id.rstrip('\\n')] = 0\n",
    "\n",
    "in_dict = get_inputs_by_task(api, fm_run, cur_proj)\n",
    "\n",
    "suffix = '-rerun4'\n",
    "with concurrent.futures.ThreadPoolExecutor(8) as executor:\n",
    "    results = {executor.submit(stage_tasks, api, cur_proj, fm_id, in_dict[fm_id], ref_dict, suffix): fm_id for fm_id in in_dict}\n",
    "    for result in concurrent.futures.as_completed(results):\n",
    "        out_fh.write(result.result())\n",
    "out_fh.close()"
   ]
  },
  {
   "cell_type": "code",
   "execution_count": 8,
   "metadata": {},
   "outputs": [
    {
     "name": "stdout",
     "output_type": "stream",
     "text": [
      "Running kf_genotype_refinement_vep-FM_08T1J7C6-rerun4 ee220ee1-1b2c-48f7-9e19-f2b2ebf670fc\n",
      "Running kf_genotype_refinement_vep-FM_6PCY22EF-rerun4 d00051d0-cc48-4cbb-8a2f-e92752b3da5f\n",
      "Running kf_genotype_refinement_vep-FM_9FPDCWY5-rerun4 745a9541-430c-4f19-8d74-f73c065a5d13\n",
      "Running kf_genotype_refinement_vep-FM_81PS45A8-rerun4 528008ea-a397-4e6d-a57a-c5d66636e7b0\n",
      "Running kf_genotype_refinement_vep-FM_446XWPHN-rerun4 d2d32b3e-7175-4494-96b4-19e1206326fd\n",
      "Running kf_genotype_refinement_vep-FM_7ZVDBHTV-rerun4 59d26754-a550-4a16-9b35-e746497a08a4\n",
      "Running kf_genotype_refinement_vep-FM_3CGWDWG9-rerun4 99331e3e-a6ae-490d-9682-fe89ca77166e\n",
      "Running kf_genotype_refinement_vep-FM_11MX5F3A-rerun4 3c2c4e62-919c-41a0-b371-448ab4945b7e\n",
      "Running kf_genotype_refinement_vep-FM_E7GF64GB-rerun4 d8805f64-b902-463b-9bd4-d3feee3fc7c6\n",
      "Running kf_genotype_refinement_vep-FM_CVK21HHS-rerun4 ecc729d8-b07d-479d-87cc-43b11408695f\n",
      "Running kf_genotype_refinement_vep-FM_C7YQB73E-rerun4 4933d13d-6560-4897-a6ad-2c86579d2aac\n",
      "Running kf_genotype_refinement_vep-FM_ANSS9SWT-rerun4 629c911b-eecf-4a62-a5a8-01b371052d44\n",
      "Running kf_genotype_refinement_vep-FM_CMVE09VR-rerun4 5423a4fe-6b78-44b2-b39d-f9174109374c\n",
      "Running kf_genotype_refinement_vep-FM_EWA2Q3D4-rerun4 6e93302d-baed-4414-97c6-6a804a862893\n",
      "Running kf_genotype_refinement_vep-FM_GATTK79X-rerun4 7d55dcbc-d2d0-4c3e-8709-d3ae0667d988\n",
      "Running kf_genotype_refinement_vep-FM_EYPG9H9S-rerun4 62816aa1-c05e-408a-9858-abfb356b6dbc\n",
      "Running kf_genotype_refinement_vep-FM_JJ74CJSB-rerun4 b7f66b67-a6c1-407e-9e01-0a221b72f2f1\n",
      "Running kf_genotype_refinement_vep-FM_K35AT38B-rerun4 d7224553-2b5c-48ed-a9d9-091120986abe\n",
      "Running kf_genotype_refinement_vep-FM_NHT1WD8W-rerun4 b66008ac-0429-461b-96e3-25109116ecf2\n",
      "Running kf_genotype_refinement_vep-FM_HQXD54P3-rerun4 cc20b5ef-e6a8-45ba-aa2c-40f1939ce7ea\n",
      "Running kf_genotype_refinement_vep-FM_Q27G5SWC-rerun4 f2e3add2-1aa0-4ab8-9417-a411c003da85\n",
      "Running kf_genotype_refinement_vep-FM_T7ANDHBY-rerun4 4532f330-ffd3-4611-afe1-15b119d8195f\n",
      "Running kf_genotype_refinement_vep-FM_T4EFEAJ1-rerun4 a99cd0e4-5ffe-4fed-baba-ce20d53d5105\n",
      "Running kf_genotype_refinement_vep-FM_QZ6P6M7Y-rerun4 2f619bdc-82e5-4420-8b4c-a52562a5adf9\n",
      "Running kf_genotype_refinement_vep-FM_X60172TD-rerun4 675a9e4e-c5b9-40f6-9f1e-de28a0043f18\n",
      "Running kf_genotype_refinement_vep-FM_X5C9GWC2-rerun4 41ab72a0-454a-440b-ad66-ec84ee2a8c8b\n",
      "Running kf_genotype_refinement_vep-FM_X7QY0CGW-rerun4 2c1d0767-9512-47bf-a486-b01f0529aa8b\n"
     ]
    }
   ],
   "source": [
    "task_list = '/Users/brownm28/Documents/2018-Oct-9_genotype_refinement_bonanza/VILAIN/rpt/r3-task_stage.txt'\n",
    "for line in open(task_list):\n",
    "    (tname, tid) = line.rstrip('\\n').split('\\t')\n",
    "    task = api.tasks.get(id=tid)\n",
    "    task.run()\n",
    "    print('Running', tname, tid)"
   ]
  },
  {
   "cell_type": "markdown",
   "metadata": {},
   "source": [
    "## Delete files associated with certain tasks"
   ]
  },
  {
   "cell_type": "code",
   "execution_count": 2,
   "metadata": {},
   "outputs": [
    {
     "name": "stderr",
     "output_type": "stream",
     "text": [
      "Found task kf_genotype_refinement_vep-FM_ZK0JTWJJ with outputs to delete\n",
      "No file output for vep_warn\n"
     ]
    },
    {
     "name": "stdout",
     "output_type": "stream",
     "text": [
      "af378737-a466-4eef-b868-32ae4611140b.CGP.filtered.deNovo.vep.vcf.gz\n",
      "af378737-a466-4eef-b868-32ae4611140b_stats.txt\n",
      "c19182cf-fa79-4512-be33-f02cb24ce09b.CGP.filtered.deNovo.vep.vcf.gz\n"
     ]
    },
    {
     "name": "stderr",
     "output_type": "stream",
     "text": [
      "Found task kf_genotype_refinement_vep-FM_CTEBPSDB with outputs to delete\n",
      "No file output for vep_warn\n"
     ]
    },
    {
     "name": "stdout",
     "output_type": "stream",
     "text": [
      "c19182cf-fa79-4512-be33-f02cb24ce09b_stats.txt\n"
     ]
    },
    {
     "name": "stderr",
     "output_type": "stream",
     "text": [
      "Found task kf_genotype_refinement_vep-FM_4972NB6B with outputs to delete\n",
      "No file output for vep_warn\n"
     ]
    },
    {
     "name": "stdout",
     "output_type": "stream",
     "text": [
      "541ff799-1c30-4686-a045-d0109eccef1b.CGP.filtered.deNovo.vep.vcf.gz\n",
      "541ff799-1c30-4686-a045-d0109eccef1b_stats.txt\n",
      "abafbfb7-66cb-43b3-a696-e62c84449021.CGP.filtered.deNovo.vep.vcf.gz\n",
      "abafbfb7-66cb-43b3-a696-e62c84449021_stats.txt\n",
      "33dc9a7c-35a4-4124-ab7f-4ac4d1ce2daf.CGP.filtered.deNovo.vep.vcf.gz\n"
     ]
    },
    {
     "name": "stderr",
     "output_type": "stream",
     "text": [
      "Found task kf_genotype_refinement_vep-FM_KN821VDX with outputs to delete\n",
      "No file output for vep_warn\n",
      "Found task kf_genotype_refinement_vep-FM_4FK6R5GX with outputs to delete\n",
      "No file output for vep_warn\n"
     ]
    },
    {
     "name": "stdout",
     "output_type": "stream",
     "text": [
      "33dc9a7c-35a4-4124-ab7f-4ac4d1ce2daf_stats.txt\n"
     ]
    },
    {
     "name": "stderr",
     "output_type": "stream",
     "text": [
      "Found task kf_genotype_refinement_vep-FM_JT5SA2GW with outputs to delete\n",
      "No file output for vep_warn\n",
      "Found task kf_genotype_refinement_vep-FM_69F4WMBF with outputs to delete\n",
      "No file output for vep_warn\n"
     ]
    },
    {
     "name": "stdout",
     "output_type": "stream",
     "text": [
      "9630d69a-3533-4829-88f2-d83b5cf363ab.CGP.filtered.deNovo.vep.vcf.gz\n",
      "9630d69a-3533-4829-88f2-d83b5cf363ab_stats.txt\n",
      "fe44ba9b-6ea9-44e8-ad7b-c1a7013008bf.CGP.filtered.deNovo.vep.vcf.gz\n",
      "fe44ba9b-6ea9-44e8-ad7b-c1a7013008bf_stats.txt\n"
     ]
    },
    {
     "name": "stderr",
     "output_type": "stream",
     "text": [
      "Found task kf_genotype_refinement_vep-FM_S0WWNAW3 with outputs to delete\n",
      "No file output for vep_warn\n",
      "Found task kf_genotype_refinement_vep-FM_YXZQGKFS with outputs to delete\n",
      "No file output for vep_warn\n",
      "No file output for cgp_vep_annotated_vcf\n",
      "No file output for vcf_summary_stats\n",
      "Found task kf_genotype_refinement_vep-FM_E6Y9XB4Z with outputs to delete\n",
      "No file output for vep_warn\n"
     ]
    },
    {
     "name": "stdout",
     "output_type": "stream",
     "text": [
      "0e6ce277-eec8-4672-8b49-be1b82d91fe9.CGP.filtered.deNovo.vep.vcf.gz\n",
      "0e6ce277-eec8-4672-8b49-be1b82d91fe9_stats.txt\n"
     ]
    },
    {
     "name": "stderr",
     "output_type": "stream",
     "text": [
      "No file output for cgp_vep_annotated_vcf\n",
      "No file output for vcf_summary_stats\n",
      "Found task kf_genotype_refinement_vep-FM_XSMC1HHS with outputs to delete\n",
      "No file output for vep_warn\n",
      "Found task kf_genotype_refinement_vep-FM_7DB1ZCP9 with outputs to delete\n",
      "No file output for vep_warn\n",
      "No file output for cgp_vep_annotated_vcf\n"
     ]
    },
    {
     "name": "stdout",
     "output_type": "stream",
     "text": [
      "d3192c79-73dd-4be9-a86b-fa5d2b9539f7.CGP.filtered.deNovo.vep.vcf.gz\n",
      "d3192c79-73dd-4be9-a86b-fa5d2b9539f7_stats.txt\n"
     ]
    },
    {
     "name": "stderr",
     "output_type": "stream",
     "text": [
      "No file output for vcf_summary_stats\n",
      "Found task kf_genotype_refinement_vep-FM_SMVT3DEP with outputs to delete\n",
      "No file output for vep_warn\n",
      "Found task kf_genotype_refinement_vep-FM_RB2BJP7J with outputs to delete\n",
      "No file output for vep_warn\n"
     ]
    },
    {
     "name": "stdout",
     "output_type": "stream",
     "text": [
      "1882532b-898d-4537-9214-90e78c374c1a.CGP.filtered.deNovo.vep.vcf.gz\n",
      "1882532b-898d-4537-9214-90e78c374c1a_stats.txt\n",
      "a94b8426-5d9a-47e3-b518-63c32ad8c3aa.CGP.filtered.deNovo.vep.vcf.gz\n",
      "a94b8426-5d9a-47e3-b518-63c32ad8c3aa_stats.txt\n"
     ]
    },
    {
     "name": "stderr",
     "output_type": "stream",
     "text": [
      "Found task kf_genotype_refinement_vep-FM_9GNE20X1 with outputs to delete\n",
      "No file output for vep_warn\n",
      "Found task kf_genotype_refinement_vep-FM_H11S5KTZ with outputs to delete\n",
      "No file output for vep_warn\n"
     ]
    },
    {
     "name": "stdout",
     "output_type": "stream",
     "text": [
      "b272721a-f4e9-4f6c-8b83-8a1a211aadfc.CGP.filtered.deNovo.vep.vcf.gz\n",
      "b272721a-f4e9-4f6c-8b83-8a1a211aadfc_stats.txt\n",
      "147983d7-1897-4917-8662-65df1ffd72d9.CGP.filtered.deNovo.vep.vcf.gz\n",
      "147983d7-1897-4917-8662-65df1ffd72d9_stats.txt\n"
     ]
    },
    {
     "name": "stderr",
     "output_type": "stream",
     "text": [
      "Found task kf_genotype_refinement_vep-FM_PNNKNN19 with outputs to delete\n",
      "No file output for vep_warn\n",
      "Found task kf_genotype_refinement_vep-FM_Y8B9NACA with outputs to delete\n",
      "No file output for vep_warn\n"
     ]
    },
    {
     "name": "stdout",
     "output_type": "stream",
     "text": [
      "be3e7480-978e-47c4-8bfc-5863a2fd6661.CGP.filtered.deNovo.vep.vcf.gz\n",
      "be3e7480-978e-47c4-8bfc-5863a2fd6661_stats.txt\n",
      "6ce7b95d-fe34-4e4f-9087-f0fb470a59a3.CGP.filtered.deNovo.vep.vcf.gz\n",
      "6ce7b95d-fe34-4e4f-9087-f0fb470a59a3_stats.txt\n"
     ]
    },
    {
     "name": "stderr",
     "output_type": "stream",
     "text": [
      "Found task kf_genotype_refinement_vep-FM_QSJP99Q6 with outputs to delete\n",
      "No file output for vep_warn\n",
      "Found task kf_genotype_refinement_vep-FM_AE8KWY8T with outputs to delete\n",
      "No file output for vep_warn\n"
     ]
    },
    {
     "name": "stdout",
     "output_type": "stream",
     "text": [
      "a2580fbd-74db-4979-a73c-63b9321f7dc3.CGP.filtered.deNovo.vep.vcf.gz\n",
      "a2580fbd-74db-4979-a73c-63b9321f7dc3_stats.txt\n",
      "41ffc0d1-46b6-4167-82c3-f3acb4a8b056.CGP.filtered.deNovo.vep.vcf.gz\n",
      "41ffc0d1-46b6-4167-82c3-f3acb4a8b056_stats.txt\n"
     ]
    },
    {
     "name": "stderr",
     "output_type": "stream",
     "text": [
      "Found task kf_genotype_refinement_vep-FM_FZNKBREA with outputs to delete\n",
      "No file output for vep_warn\n"
     ]
    },
    {
     "name": "stdout",
     "output_type": "stream",
     "text": [
      "12c91c8f-abac-4a11-b6e2-b6830bfef383.CGP.filtered.deNovo.vep.vcf.gz\n",
      "12c91c8f-abac-4a11-b6e2-b6830bfef383_stats.txt\n"
     ]
    },
    {
     "name": "stderr",
     "output_type": "stream",
     "text": [
      "Found task kf_genotype_refinement_vep-FM_M0BCB6FK with outputs to delete\n",
      "No file output for vep_warn\n"
     ]
    },
    {
     "name": "stdout",
     "output_type": "stream",
     "text": [
      "e909c59b-5fe5-471e-85b1-f3e0b3869171.CGP.filtered.deNovo.vep.vcf.gz\n",
      "e909c59b-5fe5-471e-85b1-f3e0b3869171_stats.txt\n"
     ]
    },
    {
     "name": "stderr",
     "output_type": "stream",
     "text": [
      "Found task kf_genotype_refinement_vep-FM_YH2T3CD8 with outputs to delete\n",
      "No file output for vep_warn\n",
      "Found task kf_genotype_refinement_vep-FM_C0YWP4XR with outputs to delete\n",
      "No file output for vep_warn\n"
     ]
    },
    {
     "name": "stdout",
     "output_type": "stream",
     "text": [
      "f1936787-3c2a-4dab-ac59-78fbe18b9efe.CGP.filtered.deNovo.vep.vcf.gz\n",
      "f1936787-3c2a-4dab-ac59-78fbe18b9efe_stats.txt\n",
      "48e94e64-b774-4d20-ab5f-358be66c09a4.CGP.filtered.deNovo.vep.vcf.gz\n",
      "48e94e64-b774-4d20-ab5f-358be66c09a4_stats.txt\n"
     ]
    },
    {
     "name": "stderr",
     "output_type": "stream",
     "text": [
      "Found task kf_genotype_refinement_vep-FM_BRK65FGM with outputs to delete\n",
      "No file output for vep_warn\n",
      "Found task kf_genotype_refinement_vep-FM_CZD00MB8 with outputs to delete\n",
      "No file output for vep_warn\n"
     ]
    },
    {
     "name": "stdout",
     "output_type": "stream",
     "text": [
      "db9200c5-b33e-4144-9285-604277997053.CGP.filtered.deNovo.vep.vcf.gz\n",
      "db9200c5-b33e-4144-9285-604277997053_stats.txt\n",
      "4522b3c2-1e08-4437-943e-841cd7623deb.CGP.filtered.deNovo.vep.vcf.gz\n",
      "4522b3c2-1e08-4437-943e-841cd7623deb_stats.txt\n"
     ]
    },
    {
     "name": "stderr",
     "output_type": "stream",
     "text": [
      "Found task kf_genotype_refinement_vep-FM_F5RET3RA with outputs to delete\n",
      "No file output for vep_warn\n",
      "No file output for cgp_vep_annotated_vcf\n",
      "No file output for vcf_summary_stats\n",
      "Found task kf_genotype_refinement_vep-FM_8RD001GM with outputs to delete\n",
      "No file output for vep_warn\n",
      "Found task kf_genotype_refinement_vep-FM_4G33MP1H with outputs to delete\n",
      "No file output for vep_warn\n"
     ]
    },
    {
     "name": "stdout",
     "output_type": "stream",
     "text": [
      "2af0e0c0-83e2-4855-8cc0-fa38c16bd5e0.CGP.filtered.deNovo.vep.vcf.gz\n",
      "2af0e0c0-83e2-4855-8cc0-fa38c16bd5e0_stats.txt\n",
      "080e015a-3427-48a9-b3f3-21a6b3d0a62a.CGP.filtered.deNovo.vep.vcf.gz\n",
      "080e015a-3427-48a9-b3f3-21a6b3d0a62a_stats.txt\n"
     ]
    },
    {
     "name": "stderr",
     "output_type": "stream",
     "text": [
      "Found task kf_genotype_refinement_vep-FM_A4N22TGJ with outputs to delete\n",
      "No file output for vep_warn\n",
      "Found task kf_genotype_refinement_vep-FM_1JDG4XDQ with outputs to delete\n",
      "No file output for vep_warn\n",
      "No file output for cgp_vep_annotated_vcf\n",
      "No file output for vcf_summary_stats\n",
      "Found task kf_genotype_refinement_vep-FM_PPP9C654 with outputs to delete\n",
      "No file output for vep_warn\n"
     ]
    },
    {
     "name": "stdout",
     "output_type": "stream",
     "text": [
      "43720e99-a6e2-4681-9100-332f588a22ab.CGP.filtered.deNovo.vep.vcf.gz\n",
      "43720e99-a6e2-4681-9100-332f588a22ab_stats.txt\n",
      "e25df335-5d23-468b-8b9b-f60024eb5265.CGP.filtered.deNovo.vep.vcf.gz\n",
      "e25df335-5d23-468b-8b9b-f60024eb5265_stats.txt\n",
      "0b140e9a-fc5e-431d-a5f2-e43e2a5f8e02.CGP.filtered.deNovo.vep.vcf.gz\n",
      "0b140e9a-fc5e-431d-a5f2-e43e2a5f8e02_stats.txt\n"
     ]
    },
    {
     "name": "stderr",
     "output_type": "stream",
     "text": [
      "Found task kf_genotype_refinement_vep-FM_1NXFY5EB with outputs to delete\n",
      "No file output for vep_warn\n",
      "Found task kf_genotype_refinement_vep-FM_5S6V92HX with outputs to delete\n",
      "No file output for vep_warn\n"
     ]
    },
    {
     "name": "stdout",
     "output_type": "stream",
     "text": [
      "043c0fa0-446f-40cc-9324-35cf1c512305.CGP.filtered.deNovo.vep.vcf.gz\n",
      "043c0fa0-446f-40cc-9324-35cf1c512305_stats.txt\n"
     ]
    },
    {
     "name": "stderr",
     "output_type": "stream",
     "text": [
      "Found task kf_genotype_refinement_vep-FM_YTXFQAAF with outputs to delete\n",
      "No file output for vep_warn\n",
      "Found task kf_genotype_refinement_vep-FM_X9CFDA8N with outputs to delete\n",
      "No file output for vep_warn\n"
     ]
    },
    {
     "name": "stdout",
     "output_type": "stream",
     "text": [
      "c38f08bf-7653-40a6-a1c0-3eac4472e951.CGP.filtered.deNovo.vep.vcf.gz\n",
      "c38f08bf-7653-40a6-a1c0-3eac4472e951_stats.txt\n",
      "0d7bed7d-6b4f-4127-9bd3-243a8b365683.CGP.filtered.deNovo.vep.vcf.gz\n",
      "0d7bed7d-6b4f-4127-9bd3-243a8b365683_stats.txt\n",
      "4b8b2220-b429-4c19-ae45-3576b61b6850.CGP.filtered.deNovo.vep.vcf.gz\n",
      "4b8b2220-b429-4c19-ae45-3576b61b6850_stats.txt\n"
     ]
    },
    {
     "name": "stderr",
     "output_type": "stream",
     "text": [
      "Found task kf_genotype_refinement_vep-FM_QVTZTFFY with outputs to delete\n",
      "No file output for vep_warn\n",
      "Found task kf_genotype_refinement_vep-FM_NAG3ZGXC with outputs to delete\n",
      "No file output for vep_warn\n"
     ]
    },
    {
     "name": "stdout",
     "output_type": "stream",
     "text": [
      "e3635a66-2a99-4272-851a-b5e79f3900a4.CGP.filtered.deNovo.vep.vcf.gz\n",
      "e3635a66-2a99-4272-851a-b5e79f3900a4_stats.txt\n",
      "7ba8f916-e580-4c82-909e-0d3bd54b884a.CGP.filtered.deNovo.vep.vcf.gz\n"
     ]
    },
    {
     "name": "stderr",
     "output_type": "stream",
     "text": [
      "Found task kf_genotype_refinement_vep-FM_ZWMSZT40 with outputs to delete\n",
      "No file output for vep_warn\n",
      "No file output for cgp_vep_annotated_vcf\n",
      "No file output for vcf_summary_stats\n",
      "Found task kf_genotype_refinement_vep-FM_9B5H8M71 with outputs to delete\n",
      "No file output for vep_warn\n",
      "No file output for cgp_vep_annotated_vcf\n",
      "No file output for vcf_summary_stats\n",
      "Found task kf_genotype_refinement_vep-FM_HAY9WV81 with outputs to delete\n",
      "No file output for vep_warn\n"
     ]
    },
    {
     "name": "stdout",
     "output_type": "stream",
     "text": [
      "7ba8f916-e580-4c82-909e-0d3bd54b884a_stats.txt\n",
      "bd2d2fd3-3944-4ac4-b48c-485f55a6ae7f.CGP.filtered.deNovo.vep.vcf.gz\n",
      "bd2d2fd3-3944-4ac4-b48c-485f55a6ae7f_stats.txt\n"
     ]
    },
    {
     "name": "stderr",
     "output_type": "stream",
     "text": [
      "Found task kf_genotype_refinement_vep-FM_07GC0GW7 with outputs to delete\n",
      "No file output for vep_warn\n",
      "No file output for cgp_vep_annotated_vcf\n",
      "No file output for vcf_summary_stats\n",
      "Found task kf_genotype_refinement_vep-FM_YXT8900R with outputs to delete\n",
      "No file output for vep_warn\n",
      "Found task kf_genotype_refinement_vep-FM_TQ9N8MVA with outputs to delete\n",
      "No file output for vep_warn\n",
      "No file output for cgp_vep_annotated_vcf\n",
      "No file output for vcf_summary_stats\n",
      "Found task kf_genotype_refinement_vep-FM_VJ3Z7921 with outputs to delete\n",
      "No file output for vep_warn\n",
      "Found task kf_genotype_refinement_vep-FM_ACVHVDEG with outputs to delete\n",
      "No file output for vep_warn\n"
     ]
    },
    {
     "name": "stdout",
     "output_type": "stream",
     "text": [
      "f765525a-adaa-4965-adf2-43105ccbe193.CGP.filtered.deNovo.vep.vcf.gz\n",
      "f765525a-adaa-4965-adf2-43105ccbe193_stats.txt\n",
      "a701dd0c-eb10-4852-b733-cb18b4ac5f85.CGP.filtered.deNovo.vep.vcf.gz\n",
      "a701dd0c-eb10-4852-b733-cb18b4ac5f85_stats.txt\n"
     ]
    },
    {
     "name": "stderr",
     "output_type": "stream",
     "text": [
      "Found task kf_genotype_refinement_vep-FM_YXZQGKFS-rerun1 with outputs to delete\n",
      "No file output for vep_warn\n",
      "Found task kf_genotype_refinement_vep-FM_TQ9N8MVA-rerun1 with outputs to delete\n",
      "No file output for vep_warn\n"
     ]
    },
    {
     "name": "stdout",
     "output_type": "stream",
     "text": [
      "786c1367-3713-48e0-bf57-363d7fbbae9f.CGP.filtered.deNovo.vep.vcf.gz\n",
      "786c1367-3713-48e0-bf57-363d7fbbae9f_stats.txt\n",
      "73e0019e-613f-450d-b310-884a1364d221.CGP.filtered.deNovo.vep.vcf.gz\n",
      "73e0019e-613f-450d-b310-884a1364d221_stats.txt\n"
     ]
    },
    {
     "name": "stderr",
     "output_type": "stream",
     "text": [
      "Found task kf_genotype_refinement_vep-FM_E6Y9XB4Z-rerun1 with outputs to delete\n",
      "No file output for vep_warn\n",
      "Found task kf_genotype_refinement_vep-FM_9B5H8M71-rerun1 with outputs to delete\n",
      "No file output for vep_warn\n"
     ]
    },
    {
     "name": "stdout",
     "output_type": "stream",
     "text": [
      "eb05d3bc-1db5-4e8b-bfe6-eb0bc0a59ab6.CGP.filtered.deNovo.vep.vcf.gz\n",
      "eb05d3bc-1db5-4e8b-bfe6-eb0bc0a59ab6_stats.txt\n",
      "86208e6f-dbc7-464c-bea7-45f3e24a1efd.CGP.filtered.deNovo.vep.vcf.gz\n",
      "86208e6f-dbc7-464c-bea7-45f3e24a1efd_stats.txt\n"
     ]
    },
    {
     "name": "stderr",
     "output_type": "stream",
     "text": [
      "Found task kf_genotype_refinement_vep-FM_ZWMSZT40-rerun1 with outputs to delete\n",
      "No file output for vep_warn\n",
      "Found task kf_genotype_refinement_vep-FM_1JDG4XDQ-rerun1 with outputs to delete\n",
      "No file output for vep_warn\n"
     ]
    },
    {
     "name": "stdout",
     "output_type": "stream",
     "text": [
      "4a3b5aac-4a27-478f-b892-7878541b3243.CGP.filtered.deNovo.vep.vcf.gz\n",
      "4a3b5aac-4a27-478f-b892-7878541b3243_stats.txt\n",
      "0d08a29e-10a9-449d-9070-6b04e03c095c.CGP.filtered.deNovo.vep.vcf.gz\n",
      "0d08a29e-10a9-449d-9070-6b04e03c095c_stats.txt\n",
      "f7bf0a06-a380-481e-a4fa-b336ad8b7914.CGP.filtered.deNovo.vep.vcf.gz\n",
      "f7bf0a06-a380-481e-a4fa-b336ad8b7914_stats.txt\n",
      "a7ec8804-0dd4-41a4-af5d-7fe248c5603f.CGP.filtered.deNovo.vep.vcf.gz\n"
     ]
    },
    {
     "name": "stderr",
     "output_type": "stream",
     "text": [
      "Found task kf_genotype_refinement_vep-FM_F5RET3RA-rerun1 with outputs to delete\n",
      "No file output for vep_warn\n",
      "Found task kf_genotype_refinement_vep-FM_7DB1ZCP9-rerun1 with outputs to delete\n",
      "No file output for vep_warn\n"
     ]
    },
    {
     "name": "stdout",
     "output_type": "stream",
     "text": [
      "a7ec8804-0dd4-41a4-af5d-7fe248c5603f_stats.txt\n"
     ]
    },
    {
     "name": "stderr",
     "output_type": "stream",
     "text": [
      "Found task kf_genotype_refinement_vep-FM_07GC0GW7-rerun1 with outputs to delete\n",
      "No file output for vep_warn\n"
     ]
    },
    {
     "name": "stdout",
     "output_type": "stream",
     "text": [
      "fff48624-03da-4e17-aa7b-1291d3278fe4.CGP.filtered.deNovo.vep.vcf.gz\n",
      "fff48624-03da-4e17-aa7b-1291d3278fe4_stats.txt\n"
     ]
    }
   ],
   "source": [
    "fm_fn = '/Users/brownm28/Documents/2018-Oct-9_genotype_refinement_bonanza/ENGLE/refine_rpt/FM_list.txt'\n",
    "fm_list = []\n",
    "for line in open(fm_fn):\n",
    "    fm_list.append(line.rstrip('\\n'))\n",
    "\n",
    "engle = 'kfdrc-harmonization/sd-dztb5hrr-01'\n",
    "tasks = api.tasks.query(project=engle, status = 'COMPLETED').all()\n",
    "\n",
    "f = 0\n",
    "for task in tasks:\n",
    "    check = task.name.split('-')\n",
    "    if f ==1:\n",
    "        break\n",
    "    if check[0] == 'kf_genotype_refinement_vep' and check[1] in fm_list:\n",
    "        sys.stderr.write('Found task ' + task.name + ' with outputs to delete\\n')\n",
    "\n",
    "        for out in task.outputs.keys():\n",
    "            try:\n",
    "                print (task.outputs[out].name)\n",
    "                task.outputs[out].delete()\n",
    "            except:\n",
    "                sys.stderr.write('No file output for ' + out + '\\n')\n",
    "        # f = 1"
   ]
  },
  {
   "cell_type": "code",
   "execution_count": null,
   "metadata": {},
   "outputs": [],
   "source": []
  }
 ],
 "metadata": {
  "kernelspec": {
   "display_name": "Python 3",
   "language": "python",
   "name": "python3"
  },
  "language_info": {
   "codemirror_mode": {
    "name": "ipython",
    "version": 3
   },
   "file_extension": ".py",
   "mimetype": "text/x-python",
   "name": "python",
   "nbconvert_exporter": "python",
   "pygments_lexer": "ipython3",
   "version": "3.8.3"
  }
 },
 "nbformat": 4,
 "nbformat_minor": 2
}
