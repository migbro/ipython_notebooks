{
 "cells": [
  {
   "cell_type": "code",
   "execution_count": 1,
   "metadata": {},
   "outputs": [],
   "source": [
    "import sys\n",
    "import requests\n",
    "from requests import request\n",
    "import concurrent.futures\n",
    "import pdb\n",
    "requests.packages.urllib3.disable_warnings()"
   ]
  },
  {
   "cell_type": "code",
   "execution_count": 2,
   "metadata": {},
   "outputs": [
    {
     "data": {
      "text/plain": [
       "281"
      ]
     },
     "execution_count": 2,
     "metadata": {},
     "output_type": "execute_result"
    }
   ],
   "source": [
    "fname = '/Users/brownm28/Documents/2019-Jan-31_rna_fusion/bs_id_check/bgi_manifest.csv'\n",
    "file_list = fname\n",
    "bs_attrs = ['external_aliquot_id', 'analyte_type', 'source_text_tissue_type', 'source_text_tumor_descriptor', 'composition', 'external_sample_id',]\n",
    "pt_attrs = ['external_id', 'gender', 'ethnicity', 'race']\n",
    "dx_attrs = ['source_text_diagnosis', 'source_text_tumor_location', 'age_at_event_days']\n",
    "gf_attrs = ['platform', 'experiment_strategy']\n",
    "url = 'https://kf-api-dataservice.kidsfirstdrc.org/'\n",
    "out_fh = open('/Users/brownm28/Documents/2019-Jan-31_rna_fusion/bs_id_check/bgi_ds_update.txt', 'w')\n",
    "out_fh.write('Cavatica file name\\tBS_ID\\tPT_ID\\t' + '\\t'.join(bs_attrs) + '\\t' + '\\t'.join(pt_attrs) + '\\t' + '\\t'.join(dx_attrs) + '\\t + ''\\t'.join(gf_attrs) + '\\n')\n",
    "\n",
    "\n"
   ]
  },
  {
   "cell_type": "code",
   "execution_count": 3,
   "metadata": {},
   "outputs": [],
   "source": [
    "def check_gf_file(gf_url, gf_name, url):\n",
    "    try:\n",
    "        all_gf = request('GET', gf_url, verify=False)\n",
    "        # pdb.set_trace()\n",
    "        for entry in all_gf.json()['results']:\n",
    "            if entry['file_name'] == gf_name:\n",
    "                # experiment details moved\n",
    "                sg_info = request('GET', url + entry['_links']['sequencing_experiments'])\n",
    "                return sg_info.json()['results'][0]\n",
    "    except Exception as e:\n",
    "        sys.stderr.write(str(e)+ '\\n')\n",
    "        sys.stderr.write('ERROR: Could not get info from ' + gf_url + ' for ' + gf_name + '\\n')\n",
    "        return {}\n",
    "    return matched\n"
   ]
  },
  {
   "cell_type": "code",
   "execution_count": 4,
   "metadata": {},
   "outputs": [],
   "source": [
    "def query_dataservice_bs_id(url, cur_line, bs_attrs, pt_attrs, dx_attrs, gf_attrs):\n",
    "    info = cur_line.split(',')\n",
    "    bs_col = 3\n",
    "    gf_col = 1\n",
    "    bs_id = info[bs_col]\n",
    "    gf_name = info[gf_col]\n",
    "    bs_id = bs_id.rstrip('\\n')\n",
    "    bs_url = url + '/biospecimens/' + bs_id\n",
    "    # sys.stderr.write('Processing ' + gf_name + '\\n')\n",
    "    try:\n",
    "        bs_info = request('GET', bs_url, verify=False)\n",
    "        result = []\n",
    "        if bs_info.json()['_status']['code'] == 404:\n",
    "            result.append(bs_info.json()['_status']['message'])\n",
    "            sys.stderr.write(bs_id + ' not found!\\n')\n",
    "            return bs_id, result\n",
    "        gf_url = url + bs_info.json()['_links']['genomic_files']\n",
    "        gf_surf = check_gf_file(gf_url, gf_name, url)\n",
    "        f = 0\n",
    "        if gf_surf:\n",
    "            f = 1\n",
    "        else:\n",
    "            sys.stderr.write('ERROR: bs id for ' + gf_name + ' does NOT match DS entry\\n' )\n",
    "            result = gf_name + '\\tERROR\\n'\n",
    "        if f == 1:\n",
    "            dx_url = url + bs_info.json()['_links']['diagnoses']\n",
    "            dx_dict = {}\n",
    "            dx_obj = request('GET', dx_url, verify=False) if len(dx_attrs) > 0 else 'NoDX'\n",
    "            # dir(bs_info)\n",
    "            pt_url = bs_info.json()['_links']['participant']\n",
    "            pt_info = request('GET', url + pt_url, verify=False)\n",
    "            result.append(pt_info.json()['results']['kf_id'])\n",
    "            for attr in bs_attrs:\n",
    "                # sys.stderr.write(attr + ': ')\n",
    "                res = bs_info.json()['results'][attr]\n",
    "                if res is None:\n",
    "                    res = 'NULL'\n",
    "                # sys.stderr.write(res + '\\n')\n",
    "                result.append(str(res))\n",
    "            for attr in pt_attrs:\n",
    "                # sys.stderr.write(attr + ': ')\n",
    "                res = pt_info.json()['results'][attr]\n",
    "                if res is None:\n",
    "                    res = 'NULL'\n",
    "                # sys.stderr.write(res + '\\n')\n",
    "                result.append(res)\n",
    "            for attr in dx_attrs:\n",
    "                dx_dict[attr] = []\n",
    "                for cur_res in dx_obj.json()['results']:\n",
    "                    dx_dict[attr].append(str(cur_res[attr]))\n",
    "                result.append(','.join(dx_dict[attr]))\n",
    "            for attr in gf_attrs:\n",
    "                res = gf_surf[attr]\n",
    "                if type(gf_surf[attr]) is list:\n",
    "                    res = ','.join(gf_surf[attr]) \n",
    "                result.append(res)\n",
    "    except Exception as e:\n",
    "        sys.stderr.write(str(e) + '\\n')\n",
    "        sys.stderr.write('Failed while processing ' + gf_url + '\\n')\n",
    "        sys.exit(1)\n",
    "    return gf_name, bs_id, result\n",
    "    "
   ]
  },
  {
   "cell_type": "code",
   "execution_count": 5,
   "metadata": {},
   "outputs": [
    {
     "name": "stderr",
     "output_type": "stream",
     "text": [
      "Processed 50 bs ids\n",
      "Processed 100 bs ids\n",
      "Processed 150 bs ids\n",
      "Done!"
     ]
    }
   ],
   "source": [
    "in_file = open(fname)\n",
    "head = next(in_file)\n",
    "x = 1\n",
    "m = 50\n",
    "th = 16\n",
    "#for line in in_file:\n",
    "#    query_dataservice_bs_id(url, line, bs_attrs, pt_attrs, dx_attrs, gf_attrs)\n",
    "with concurrent.futures.ThreadPoolExecutor(th) as bs_exec:\n",
    "    bs_results = {\n",
    "    bs_exec.submit(query_dataservice_bs_id, url, line, bs_attrs, pt_attrs, dx_attrs, gf_attrs): line for line in in_file}\n",
    "    for bs_result in concurrent.futures.as_completed(bs_results):\n",
    "        if x % m == 0:\n",
    "            sys.stderr.write('Processed ' + str(x) + ' bs ids\\n')\n",
    "            sys.stderr.flush()\n",
    "        (gf_name, cur_bs_id, bs_info) = bs_result.result()\n",
    "        try:\n",
    "            out_fh.write(gf_name + '\\t' + cur_bs_id + '\\t' + '\\t'.join(bs_info) + '\\n')\n",
    "        except:\n",
    "            sys.stderr.write('Could not output info for ' + cur_bs_id + '\\n')\n",
    "        x += 1\n",
    "out_fh.close()\n",
    "sys.stderr.write('Done!')"
   ]
  },
  {
   "cell_type": "code",
   "execution_count": null,
   "metadata": {},
   "outputs": [],
   "source": []
  }
 ],
 "metadata": {
  "kernelspec": {
   "display_name": "Python 3",
   "language": "python",
   "name": "python3"
  },
  "language_info": {
   "codemirror_mode": {
    "name": "ipython",
    "version": 3
   },
   "file_extension": ".py",
   "mimetype": "text/x-python",
   "name": "python",
   "nbconvert_exporter": "python",
   "pygments_lexer": "ipython3",
   "version": "3.7.0"
  }
 },
 "nbformat": 4,
 "nbformat_minor": 2
}
