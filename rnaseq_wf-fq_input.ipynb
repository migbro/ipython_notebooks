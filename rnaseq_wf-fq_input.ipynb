{
 "cells": [
  {
   "cell_type": "markdown",
   "metadata": {},
   "source": [
    "# Imports"
   ]
  },
  {
   "cell_type": "code",
   "execution_count": 11,
   "metadata": {},
   "outputs": [],
   "source": [
    "import sevenbridges as sbg\n",
    "from sevenbridges.errors import SbgError\n",
    "import sys\n",
    "import concurrent.futures\n",
    "import pdb\n",
    "from requests import request\n",
    "import re\n",
    "config = sbg.Config(profile='cavatica')\n",
    "api = sbg.Api(config=config)"
   ]
  },
  {
   "cell_type": "code",
   "execution_count": 2,
   "metadata": {
    "slideshow": {
     "slide_type": "-"
    }
   },
   "outputs": [],
   "source": [
    "def get_relevant_file_objs(api, project, adapt_flag):\n",
    "    ref_fn = {'STARgenome': 'STAR_GENCODE27.tar.gz',\n",
    "            'RSEMgenome': 'RSEM_GENCODE27.tar.gz',\n",
    "            'FusionGenome': 'GRCh38_v27_CTAT_lib_Feb092018.plug-n-play.tar.gz',\n",
    "            'reference_fasta': 'GRCh38.primary_assembly.genome.fa',\n",
    "            'RNAseQC_GTF': 'gencode.v27.primary_assembly.RNAseQC.gtf',\n",
    "            'gtf_anno': 'gencode.v27.primary_assembly.annotation.gtf',\n",
    "            'kallisto_idx': 'gencode.v27.kallisto.index',\n",
    "            'pizzly_transcript_ref': 'gencode.v27.transcripts.pizzly.fa.gz'}\n",
    "    ref_obj = {}\n",
    "    for in_name in ref_fn:\n",
    "        ref_obj[in_name] = api.files.query(project=project, names = [ref_fn[in_name]])[0]\n",
    "    # set some static vars\n",
    "    ref_obj['runThread'] = 36\n",
    "    if adapt_flag == 1:\n",
    "        ref_obj['r1_adapter'] = 'AGATCGGAAGAGCACACGTCTGAACTCCAGTCA'\n",
    "        ref_obj['r2_adapter'] = 'AGATCGGAAGAGCGTCGTGTAGGGAAAGAGTGT'\n",
    "    else:\n",
    "        ref_obj['r1_adapter'] = None\n",
    "        ref_obj['r2_adapter'] = None\n",
    "    return ref_obj\n"
   ]
  },
  {
   "cell_type": "code",
   "execution_count": 3,
   "metadata": {},
   "outputs": [],
   "source": [
    "def setup_task(api, ref_dict, info, fh):\n",
    "    try:\n",
    "        in_dict = {}\n",
    "        for key in ref_dict:\n",
    "            in_dict[key] = ref_dict[key]\n",
    "        #pdb.set_trace()\n",
    "        fq1 = info.rstrip('\\n').split('\\t')\n",
    "        strand = fq1[-1]\n",
    "        if strand is None:\n",
    "            in_dict['wf_strand_param'] = None\n",
    "        else:\n",
    "            in_dict['wf_strand_param'] = strand\n",
    "        fq2_data = next(fh)\n",
    "        fq2 = fq2_data.rstrip('\\n').split('\\t')\n",
    "        # uproject = fq1[2]\n",
    "        uproject = 'kfdrc-harmonization/sd-bhjxbdqk-06'\n",
    "        sname = fq1[6]\n",
    "        aliquot = fq1[4]\n",
    "        bs_id = fq1[3]\n",
    "        task_name = 'RNAfusion-FQ_INPUT: ' + bs_id + ' ' + sname\n",
    "        app_name = uproject + '/kfdrc-rnaseq-wf'\n",
    "        \n",
    "        star_rg = 'ID:' + sname + '\\tLB:' + aliquot + '\\tPL:ILLUMINA\\tSM:' + bs_id\n",
    "        in_dict['reads1'] = api.files.get(id=fq1[0])\n",
    "        in_dict['reads2'] = api.files.get(id=fq2[0])\n",
    "        in_dict['STAR_outSAMattrRGline'] = star_rg\n",
    "        # pdb.set_trace()\n",
    "        task = api.tasks.create(name=task_name, project=uproject, app=app_name, inputs=in_dict, run=False)\n",
    "        task.inputs['sample_name'] = task.id\n",
    "        task.save()\n",
    "        return '\\t'.join((task_name, task.id)) + '\\n'\n",
    "    except Exception as e:\n",
    "        sys.stderr.write(str(e) + '\\n')\n",
    "        sys.stderr.write('Failed to create task for ' + task_name + '\\n')\n",
    "        exit(1)\n",
    "    "
   ]
  },
  {
   "cell_type": "code",
   "execution_count": 4,
   "metadata": {},
   "outputs": [],
   "source": [
    "pname = 'kfdrc-harmonization/sd-bhjxbdqk-06'\n",
    "ref_obj = {}\n",
    "try:\n",
    "    ref_obj = get_relevant_file_objs(api, pname, 1)\n",
    "except Exception as e:\n",
    "    sys.stderr.write(str(e) + '\\n')\n",
    "    pdb.set_trace()\n",
    "\n",
    "input_metadata = open('/Users/brownm28/Documents/2019-Jan-31_rna_fusion/run_info/2019-Mar-4_re-run/2019-Mar-4_bgi_fq_w_strand.txt')\n",
    "out_fh = open('/Users/brownm28/Documents/2019-Jan-31_rna_fusion/run_info/2019-Mar-4_re-run/2019-Mar-4_bgi_tasks_fq_in.txt', 'w')\n",
    "head = next(input_metadata)\n",
    "for metadata in input_metadata:\n",
    "    task_info = setup_task(api, ref_obj, metadata, input_metadata)\n",
    "    out_fh.write(task_info)\n",
    "out_fh.close()"
   ]
  },
  {
   "cell_type": "markdown",
   "metadata": {},
   "source": [
    "## Run tasks set up from above"
   ]
  },
  {
   "cell_type": "code",
   "execution_count": 9,
   "metadata": {},
   "outputs": [],
   "source": [
    "def run_task_by_id(api, info):\n",
    "    (tname, task_id) = info.rstrip('\\n').split('\\t')\n",
    "    task = api.tasks.get(id=task_id)\n",
    "    task.run()"
   ]
  },
  {
   "cell_type": "code",
   "execution_count": 10,
   "metadata": {},
   "outputs": [
    {
     "name": "stdout",
     "output_type": "stream",
     "text": [
      "YASS\n"
     ]
    }
   ],
   "source": [
    "check = input()\n",
    "if check == 'YASS':\n",
    "    task_file = open('/Users/brownm28/Documents/2019-Mar-29_DGD_adhoc_rnaseq/dgd_tasks.txt')\n",
    "    with concurrent.futures.ThreadPoolExecutor(8) as executor:\n",
    "        results = {executor.submit(run_task_by_id, api, task_info): task_info for task_info in task_file}"
   ]
  },
  {
   "cell_type": "markdown",
   "metadata": {},
   "source": [
    "## Check running tasks"
   ]
  },
  {
   "cell_type": "code",
   "execution_count": 2,
   "metadata": {},
   "outputs": [],
   "source": [
    "import pdb\n",
    "pname = 'kfdrc-harmonization/sd-bhjxbdqk-06'\n",
    "# pname = 'kfdrc-harmonization/sd-preasa7s'\n",
    "tasks = api.tasks.query(project=pname).all()\n",
    "out_fn = '/Users/brownm28/Documents/2019-Jan-31_rna_fusion/run_info/status/full.txt'\n",
    "#out_fn = '/Users/brownm28/Documents/2019-Jan-30_reharmonization/seidman_fy15/completed_update.txt'\n",
    "out_fh = open(out_fn, 'w')\n",
    "out_fh.write('task id\\ttask name\\tcompleted steps\\tmessage code\\tmessage\\n')\n",
    "for task in tasks:\n",
    "    if task.name[0:4] == 'RNAf':\n",
    "        step = task.execution_status.steps_completed\n",
    "        if step is None:\n",
    "            step = 'NA'\n",
    "        else:\n",
    "            step = str(step)\n",
    "        ecode = task.execution_status.message_code\n",
    "        if task.execution_status.message_code is None:\n",
    "            ecode = 'NA'\n",
    "        try:\n",
    "            out_fh.write('\\t'.join((task.id, task.name, step, ecode, task.execution_status.message)) + '\\n')\n",
    "        except:\n",
    "            pdb.set_trace()\n",
    "            hold = 1\n",
    "out_fh.close()"
   ]
  },
  {
   "cell_type": "markdown",
   "metadata": {},
   "source": [
    "### Run PNOC"
   ]
  },
  {
   "cell_type": "code",
   "execution_count": 31,
   "metadata": {},
   "outputs": [],
   "source": [
    "def get_fq_inputs(api, project):\n",
    "    tasks = api.tasks.query(project=project).all()\n",
    "    prefix = 'star-rsem-for-disease-expression'\n",
    "    fq_list = []\n",
    "    for task in tasks:\n",
    "        if task.name[0:9] == 'star-rsem':\n",
    "            if task.batch:\n",
    "                children = list(task.get_batch_children().all())\n",
    "                for child in children:\n",
    "                    if child.status == 'COMPLETED':\n",
    "                        fq1 = child.inputs['readFilesIn'][0]\n",
    "                        fq2 = child.inputs['readFilesIn'][1]\n",
    "                        fq_list.append(fq1)\n",
    "                        fq_list.append(fq2)\n",
    "                        # sys.stderr.write(fq1.name + '\\t' + fq2.name + '\\n')\n",
    "            elif task.status == 'COMPLETED':\n",
    "                fq1 = task.inputs['readFilesIn'][0]\n",
    "                fq2 = task.inputs['readFilesIn'][1]\n",
    "                fq_list.append(fq1)\n",
    "                fq_list.append(fq2)\n",
    "                # sys.stderr.write(fq1.name + '\\t' + fq2.name + '\\n')\n",
    "    return fq_list\n",
    "                    "
   ]
  },
  {
   "cell_type": "code",
   "execution_count": 35,
   "metadata": {},
   "outputs": [],
   "source": [
    "def setup_pnoc_task(api, ref_dict, fq1, fq2, fh):\n",
    "    try:\n",
    "        in_dict = {}\n",
    "        for key in ref_dict:\n",
    "            in_dict[key] = ref_dict[key]\n",
    "        #pdb.set_trace()\n",
    "        strand = 'default'\n",
    "        if strand is None:\n",
    "            in_dict['wf_strand_param'] = None\n",
    "        else:\n",
    "            in_dict['wf_strand_param'] = strand\n",
    "        # uproject = fq1[2]\n",
    "        uproject = 'kfdrc-harmonization/sd-bhjxbdqk-11'\n",
    "        sname = fq1.metadata['sample_id']\n",
    "        aliquot = fq1.metadata['aliquot_id']\n",
    "        bs_id = fq1.metadata['Kids First Biospecimen ID']\n",
    "        task_name = 'RNAfusion-FQ_INPUT: ' + bs_id + ' ' + sname\n",
    "        app_name = uproject + '/kfdrc-rnaseq-wf'\n",
    "        \n",
    "        star_rg = 'ID:' + sname + '\\tLB:' + aliquot + '\\tPL:ILLUMINA\\tSM:' + bs_id\n",
    "        in_dict['reads1'] = fq1\n",
    "        in_dict['reads2'] = fq2\n",
    "        in_dict['STAR_outSAMattrRGline'] = star_rg\n",
    "        # pdb.set_trace()\n",
    "        task = api.tasks.create(name=task_name, project=uproject, app=app_name, inputs=in_dict, run=False)\n",
    "        task.inputs['sample_name'] = task.id\n",
    "        task.save()\n",
    "        fh.write('\\t'.join((task_name, task.id)) + '\\n')\n",
    "    except Exception as e:\n",
    "        sys.stderr.write(str(e) + '\\n')\n",
    "        sys.stderr.write('Failed to create task for ' + task_name + '\\n')\n",
    "        exit(1)\n"
   ]
  },
  {
   "cell_type": "code",
   "execution_count": 36,
   "metadata": {},
   "outputs": [],
   "source": [
    "project = 'kfdrc-harmonization/sd-bhjxbdqk-11'\n",
    "ref_obj = {}\n",
    "try:\n",
    "    ref_obj = get_relevant_file_objs(api, project, 1)\n",
    "except Exception as e:\n",
    "    sys.stderr.write(str(e) + '\\n')\n",
    "    pdb.set_trace()\n",
    "fq_pairs = get_fq_inputs(api, project)\n",
    "out_fh = open('/Users/brownm28/Documents/2019-Jan-31_rna_fusion/run_info/2019-Mar-4_re-run/pnoc_tasks.txt', 'w')\n",
    "for i in range(0, len(fq_pairs), 2):\n",
    "    setup_pnoc_task(api, ref_obj, fq_pairs[i], fq_pairs[(i + 1)], out_fh)\n",
    "out_fh.close()\n",
    "    "
   ]
  },
  {
   "cell_type": "markdown",
   "metadata": {},
   "source": [
    "#### Run DGD"
   ]
  },
  {
   "cell_type": "code",
   "execution_count": 3,
   "metadata": {},
   "outputs": [],
   "source": [
    "def setup_dgd_task(api, ref_dict, fq1, fq2, fh):\n",
    "    try:\n",
    "        in_dict = {}\n",
    "        for key in ref_dict:\n",
    "            in_dict[key] = ref_dict[key]\n",
    "        #pdb.set_trace()\n",
    "        strand = 'rf-stranded'\n",
    "        if strand is None:\n",
    "            in_dict['wf_strand_param'] = None\n",
    "        else:\n",
    "            in_dict['wf_strand_param'] = strand\n",
    "        # uproject = fq1[2]\n",
    "        parts = fq1.name.split('_')\n",
    "        sname = parts[0]\n",
    "        aliquot = sname\n",
    "        bs_id = sname\n",
    "        task_name = 'RNAfusion-FQ_INPUT: ' + sname\n",
    "        app_name = project + '/kfdrc-rnaseq-wf'\n",
    "        \n",
    "        star_rg = 'ID:' + sname + '\\tLB:' + aliquot + '\\tPL:ILLUMINA\\tSM:' + bs_id\n",
    "        in_dict['reads1'] = fq1\n",
    "        in_dict['reads2'] = fq2\n",
    "        in_dict['STAR_outSAMattrRGline'] = star_rg\n",
    "        # pdb.set_trace()\n",
    "        task = api.tasks.create(name=task_name, project=project, app=app_name, inputs=in_dict, run=False)\n",
    "        task.inputs['sample_name'] = task.id\n",
    "        task.save()\n",
    "        fh.write('\\t'.join((task_name, task.id)) + '\\n')\n",
    "    except Exception as e:\n",
    "        sys.stderr.write(str(e) + '\\n')\n",
    "        sys.stderr.write('Failed to create task for ' + task_name + '\\n')\n",
    "        exit(1)"
   ]
  },
  {
   "cell_type": "code",
   "execution_count": 4,
   "metadata": {},
   "outputs": [],
   "source": [
    "def get_dgd_fq_inputs(api):\n",
    "    fq_dir = api.files.query(names=[fq_folder_name], project=project)[0]\n",
    "    fq_dict = {}\n",
    "    for file_obj in fq_dir.list_files():\n",
    "        # pdb.set_trace()\n",
    "        fname = file_obj.name\n",
    "        fq_dict[fname] = file_obj\n",
    "    fq_list = []\n",
    "    for fastq in sorted(fq_dict.keys()):\n",
    "        fq_list.append(fq_dict[fastq])\n",
    "    return fq_list"
   ]
  },
  {
   "cell_type": "code",
   "execution_count": 8,
   "metadata": {},
   "outputs": [],
   "source": [
    "project = 'zhangb1/cancerdxdgd'\n",
    "fq_folder_name = 'dgd_rnaseq'\n",
    "ref_obj = {}\n",
    "\n",
    "try:\n",
    "    ref_obj = get_relevant_file_objs(api, project, 1)\n",
    "except Exception as e:\n",
    "    sys.stderr.write(str(e) + '\\n')\n",
    "    pdb.set_trace()\n",
    "fq_pairs = get_dgd_fq_inputs(api)\n",
    "out_fh = open('/Users/brownm28/Documents/2019-Mar-29_DGD_adhoc_rnaseq/dgd_tasks.txt', 'w')\n",
    "for i in range(0, len(fq_pairs), 2):\n",
    "    setup_dgd_task(api, ref_obj, fq_pairs[i], fq_pairs[(i + 1)], out_fh)\n",
    "out_fh.close()"
   ]
  },
  {
   "cell_type": "code",
   "execution_count": 3,
   "metadata": {},
   "outputs": [
    {
     "name": "stdout",
     "output_type": "stream",
     "text": [
      "--Return--\n",
      "> <ipython-input-3-1073e89724a3>(4)<module>()->None\n",
      "-> pdb.set_trace()\n",
      "(Pdb) p dir(fq_dir)\n",
      "['FOLDER_TYPE', '_API', '_URL', '__class__', '__delattr__', '__dict__', '__dir__', '__doc__', '__eq__', '__format__', '__ge__', '__getattribute__', '__gt__', '__hash__', '__init__', '__init_subclass__', '__le__', '__lt__', '__module__', '__ne__', '__new__', '__reduce__', '__reduce_ex__', '__repr__', '__setattr__', '__sizeof__', '__str__', '__subclasshook__', '__weakref__', '_api', '_data', '_dirty', '_fields', '_modified_data', '_old', '_query', 'bulk_delete', 'bulk_edit', 'bulk_get', 'bulk_update', 'content', 'copy', 'copy_to_folder', 'create_folder', 'created_on', 'deepcopy', 'delete', 'download', 'download_info', 'equals', 'field', 'get', 'href', 'id', 'is_folder', 'list_files', 'metadata', 'modified_on', 'move_to_folder', 'name', 'origin', 'parent', 'project', 'query', 'reload', 'save', 'size', 'storage', 'stream', 'tags', 'type', 'upload']\n",
      "(Pdb) fq_dir.list_files\n",
      "<bound method File.list_files of <File: id=5c9e6d2ce4b07ea20d066228>>\n",
      "(Pdb) fq_dir.list_files()\n",
      "[<File: id=5c9e6d02e4b0359d7e20db95>, <File: id=5c9e6d01e4b0359d7e20da3f>, <File: id=5c9e6d01e4b0359d7e20da45>, <File: id=5c9e6d01e4b0359d7e20da3b>, <File: id=5c9e6d02e4b0359d7e20dba7>, <File: id=5c9e6d02e4b0359d7e20dbab>, <File: id=5c9e6d01e4b0359d7e20db2f>, <File: id=5c9e6d00e4b0359d7e20da2a>, <File: id=5c9e6d02e4b0359d7e20dbc3>, <File: id=5c9e6d01e4b0359d7e20da8a>, <File: id=5c9e6d00e4b0359d7e20da24>, <File: id=5c9e6d00e4b0359d7e20da2e>, <File: id=5c9e6d01e4b0359d7e20da7b>, <File: id=5c9e6d00e4b0359d7e20da10>, <File: id=5c9e6d00e4b0359d7e20da20>, <File: id=5c9e6d02e4b0359d7e20dba3>, <File: id=5c9e6d00e4b0359d7e20da14>, <File: id=5c9e6d00e4b0359d7e20da28>, <File: id=5c9e6d00e4b0359d7e20da30>, <File: id=5c9e6d00e4b0359d7e20da1d>, <File: id=5c9e6d00e4b0359d7e20da0c>, <File: id=5c9e6d01e4b0359d7e20da8d>, <File: id=5c9e6d00e4b0359d7e20da16>, <File: id=5c9e6d00e4b0359d7e20da1e>, <File: id=5c9e6d01e4b0359d7e20db4c>, <File: id=5c9e6d01e4b0359d7e20db43>, <File: id=5c9e6d02e4b0359d7e20dbb5>, <File: id=5c9e6d02e4b0359d7e20dba9>, <File: id=5c9e6d00e4b0359d7e20da22>, <File: id=5c9e6d01e4b0359d7e20db01>, <File: id=5c9e6d01e4b0359d7e20da3e>, <File: id=5c9e6d02e4b0359d7e20dbbb>, <File: id=5c9e6d01e4b0359d7e20da82>, <File: id=5c9e6d00e4b0359d7e20da12>, <File: id=5c9e6d01e4b0359d7e20daf1>, <File: id=5c9e6d00e4b0359d7e20da2c>, <File: id=5c9e6d00e4b0359d7e20da34>, <File: id=5c9e6d01e4b0359d7e20da51>, <File: id=5c9e6d00e4b0359d7e20da26>, <File: id=5c9e6d02e4b0359d7e20dbae>, <File: id=5c9e6d00e4b0359d7e20da0e>, <File: id=5c9e6d02e4b0359d7e20dbb7>, <File: id=5c9e6d01e4b0359d7e20da47>, <File: id=5c9e6d00e4b0359d7e20da32>, <File: id=5c9e6d01e4b0359d7e20da91>, <File: id=5c9e6d01e4b0359d7e20db0f>, <File: id=5c9e6d01e4b0359d7e20da94>, <File: id=5c9e6d00e4b0359d7e20da1b>]\n",
      "(Pdb) fq_dir.list_files().all()\n",
      "*** AttributeError: 'list' object has no attribute 'all'\n",
      "(Pdb) q\n"
     ]
    },
    {
     "ename": "BdbQuit",
     "evalue": "",
     "output_type": "error",
     "traceback": [
      "\u001b[0;31m---------------------------------------------------------------------------\u001b[0m",
      "\u001b[0;31mBdbQuit\u001b[0m                                   Traceback (most recent call last)",
      "\u001b[0;32m<ipython-input-3-1073e89724a3>\u001b[0m in \u001b[0;36m<module>\u001b[0;34m()\u001b[0m\n\u001b[1;32m      2\u001b[0m \u001b[0mfq_folder_name\u001b[0m \u001b[0;34m=\u001b[0m \u001b[0;34m'dgd_rnaseq'\u001b[0m\u001b[0;34m\u001b[0m\u001b[0m\n\u001b[1;32m      3\u001b[0m \u001b[0mfq_dir\u001b[0m \u001b[0;34m=\u001b[0m \u001b[0mapi\u001b[0m\u001b[0;34m.\u001b[0m\u001b[0mfiles\u001b[0m\u001b[0;34m.\u001b[0m\u001b[0mquery\u001b[0m\u001b[0;34m(\u001b[0m\u001b[0mnames\u001b[0m\u001b[0;34m=\u001b[0m\u001b[0;34m[\u001b[0m\u001b[0mfq_folder_name\u001b[0m\u001b[0;34m]\u001b[0m\u001b[0;34m,\u001b[0m \u001b[0mproject\u001b[0m\u001b[0;34m=\u001b[0m\u001b[0mproject\u001b[0m\u001b[0;34m)\u001b[0m\u001b[0;34m[\u001b[0m\u001b[0;36m0\u001b[0m\u001b[0;34m]\u001b[0m\u001b[0;34m\u001b[0m\u001b[0m\n\u001b[0;32m----> 4\u001b[0;31m \u001b[0mpdb\u001b[0m\u001b[0;34m.\u001b[0m\u001b[0mset_trace\u001b[0m\u001b[0;34m(\u001b[0m\u001b[0;34m)\u001b[0m\u001b[0;34m\u001b[0m\u001b[0m\n\u001b[0m\u001b[1;32m      5\u001b[0m \u001b[0mhold\u001b[0m \u001b[0;34m=\u001b[0m \u001b[0;36m1\u001b[0m\u001b[0;34m\u001b[0m\u001b[0m\n",
      "\u001b[0;32m/anaconda3/lib/python3.7/bdb.py\u001b[0m in \u001b[0;36mtrace_dispatch\u001b[0;34m(self, frame, event, arg)\u001b[0m\n\u001b[1;32m     90\u001b[0m             \u001b[0;32mreturn\u001b[0m \u001b[0mself\u001b[0m\u001b[0;34m.\u001b[0m\u001b[0mdispatch_call\u001b[0m\u001b[0;34m(\u001b[0m\u001b[0mframe\u001b[0m\u001b[0;34m,\u001b[0m \u001b[0marg\u001b[0m\u001b[0;34m)\u001b[0m\u001b[0;34m\u001b[0m\u001b[0m\n\u001b[1;32m     91\u001b[0m         \u001b[0;32mif\u001b[0m \u001b[0mevent\u001b[0m \u001b[0;34m==\u001b[0m \u001b[0;34m'return'\u001b[0m\u001b[0;34m:\u001b[0m\u001b[0;34m\u001b[0m\u001b[0m\n\u001b[0;32m---> 92\u001b[0;31m             \u001b[0;32mreturn\u001b[0m \u001b[0mself\u001b[0m\u001b[0;34m.\u001b[0m\u001b[0mdispatch_return\u001b[0m\u001b[0;34m(\u001b[0m\u001b[0mframe\u001b[0m\u001b[0;34m,\u001b[0m \u001b[0marg\u001b[0m\u001b[0;34m)\u001b[0m\u001b[0;34m\u001b[0m\u001b[0m\n\u001b[0m\u001b[1;32m     93\u001b[0m         \u001b[0;32mif\u001b[0m \u001b[0mevent\u001b[0m \u001b[0;34m==\u001b[0m \u001b[0;34m'exception'\u001b[0m\u001b[0;34m:\u001b[0m\u001b[0;34m\u001b[0m\u001b[0m\n\u001b[1;32m     94\u001b[0m             \u001b[0;32mreturn\u001b[0m \u001b[0mself\u001b[0m\u001b[0;34m.\u001b[0m\u001b[0mdispatch_exception\u001b[0m\u001b[0;34m(\u001b[0m\u001b[0mframe\u001b[0m\u001b[0;34m,\u001b[0m \u001b[0marg\u001b[0m\u001b[0;34m)\u001b[0m\u001b[0;34m\u001b[0m\u001b[0m\n",
      "\u001b[0;32m/anaconda3/lib/python3.7/bdb.py\u001b[0m in \u001b[0;36mdispatch_return\u001b[0;34m(self, frame, arg)\u001b[0m\n\u001b[1;32m    152\u001b[0m             \u001b[0;32mfinally\u001b[0m\u001b[0;34m:\u001b[0m\u001b[0;34m\u001b[0m\u001b[0m\n\u001b[1;32m    153\u001b[0m                 \u001b[0mself\u001b[0m\u001b[0;34m.\u001b[0m\u001b[0mframe_returning\u001b[0m \u001b[0;34m=\u001b[0m \u001b[0;32mNone\u001b[0m\u001b[0;34m\u001b[0m\u001b[0m\n\u001b[0;32m--> 154\u001b[0;31m             \u001b[0;32mif\u001b[0m \u001b[0mself\u001b[0m\u001b[0;34m.\u001b[0m\u001b[0mquitting\u001b[0m\u001b[0;34m:\u001b[0m \u001b[0;32mraise\u001b[0m \u001b[0mBdbQuit\u001b[0m\u001b[0;34m\u001b[0m\u001b[0m\n\u001b[0m\u001b[1;32m    155\u001b[0m             \u001b[0;31m# The user issued a 'next' or 'until' command.\u001b[0m\u001b[0;34m\u001b[0m\u001b[0;34m\u001b[0m\u001b[0m\n\u001b[1;32m    156\u001b[0m             \u001b[0;32mif\u001b[0m \u001b[0mself\u001b[0m\u001b[0;34m.\u001b[0m\u001b[0mstopframe\u001b[0m \u001b[0;32mis\u001b[0m \u001b[0mframe\u001b[0m \u001b[0;32mand\u001b[0m \u001b[0mself\u001b[0m\u001b[0;34m.\u001b[0m\u001b[0mstoplineno\u001b[0m \u001b[0;34m!=\u001b[0m \u001b[0;34m-\u001b[0m\u001b[0;36m1\u001b[0m\u001b[0;34m:\u001b[0m\u001b[0;34m\u001b[0m\u001b[0m\n",
      "\u001b[0;31mBdbQuit\u001b[0m: "
     ]
    }
   ],
   "source": [
    "project = 'zhangb1/cancerdxdgd'\n",
    "fq_folder_name = 'dgd_rnaseq'\n",
    "fq_dir = api.files.query(names=[fq_folder_name], project=project)[0]\n",
    "pdb.set_trace()\n",
    "hold = 1"
   ]
  },
  {
   "cell_type": "markdown",
   "metadata": {},
   "source": [
    "### quick tag dgd outputs"
   ]
  },
  {
   "cell_type": "code",
   "execution_count": 12,
   "metadata": {},
   "outputs": [],
   "source": [
    "def parse_tag_outputs(task):\n",
    "    print (task.name)\n",
    "    if re.search('RNAfusion-FQ_INPUT', task.name):\n",
    "        sys.stderr.write('Found valid task ' + task.name + '\\n')\n",
    "        parts = task.name.split()\n",
    "        sname = parts[-1]\n",
    "        for key in task.outputs:\n",
    "            file_obj = api.files.get(id=task.outputs[key].id)\n",
    "            file_obj.metadata['sample_id'] = sname\n",
    "            file_obj.save()"
   ]
  },
  {
   "cell_type": "code",
   "execution_count": 13,
   "metadata": {},
   "outputs": [
    {
     "name": "stdout",
     "output_type": "stream",
     "text": [
      "Bam-to-fastqgz run - 11-10-17 21:36:25\n",
      "wgs-somatic-pipeline run 7492B  - 11-12-17 00:27:01\n",
      "wgs-somatic-pipeline run 7609B  - 11-12-17 00:27:01\n",
      "vcf2maf-gz-support-mem-expand run - 11-13-17 14:19:50\n",
      "zcat-vcf run - 11-13-17 14:43:44\n",
      "snpeff-v4.2 run - 11-13-17 14:50:02\n",
      "vcf2maf-gz-support-mem-expand run - 11-13-17 15:11:51RNAfusion-FQ_INPUT: 16-3400\n",
      "\n",
      "RNAfusion-FQ_INPUT: 16-3821\n",
      "RNAfusion-FQ_INPUT: 17-1115\n",
      "RNAfusion-FQ_INPUT: 17-1464\n",
      "RNAfusion-FQ_INPUT: 17-4417\n",
      "RNAfusion-FQ_INPUT: 17-4579\n",
      "RNAfusion-FQ_INPUT: 17-4666\n",
      "RNAfusion-FQ_INPUT: 17-4996\n",
      "RNAfusion-FQ_INPUT: 17-5865\n",
      "RNAfusion-FQ_INPUT: 17-683\n",
      "RNAfusion-FQ_INPUT: 18-1341RNAfusion-FQ_INPUT: 18-2044\n",
      "\n",
      "RNAfusion-FQ_INPUT: 18-2128\n",
      "RNAfusion-FQ_INPUT: 18-2743RNAfusion-FQ_INPUT: 18-2749\n",
      "\n",
      "RNAfusion-FQ_INPUT: 18-3724\n"
     ]
    },
    {
     "name": "stderr",
     "output_type": "stream",
     "text": [
      "Found valid task RNAfusion-FQ_INPUT: 16-3400\n",
      "Found valid task RNAfusion-FQ_INPUT: 16-3821\n",
      "Found valid task RNAfusion-FQ_INPUT: 17-1115\n",
      "Found valid task RNAfusion-FQ_INPUT: 17-1464\n",
      "Found valid task RNAfusion-FQ_INPUT: 17-4417\n",
      "Found valid task RNAfusion-FQ_INPUT: 17-4579\n",
      "Found valid task RNAfusion-FQ_INPUT: 17-4666\n",
      "Found valid task RNAfusion-FQ_INPUT: 17-4996\n",
      "Found valid task RNAfusion-FQ_INPUT: 17-5865\n",
      "Found valid task RNAfusion-FQ_INPUT: 17-683\n",
      "Found valid task RNAfusion-FQ_INPUT: 18-1341\n",
      "Found valid task RNAfusion-FQ_INPUT: 18-2044\n",
      "Found valid task RNAfusion-FQ_INPUT: 18-2128\n",
      "Found valid task RNAfusion-FQ_INPUT: 18-2749\n",
      "Found valid task RNAfusion-FQ_INPUT: 18-2743\n",
      "Found valid task RNAfusion-FQ_INPUT: 18-3724\n",
      "WARNING:urllib3.connectionpool:Connection pool is full, discarding connection: cavatica-api.sbgenomics.com\n",
      "WARNING:urllib3.connectionpool:Connection pool is full, discarding connection: cavatica-api.sbgenomics.com\n",
      "WARNING:urllib3.connectionpool:Connection pool is full, discarding connection: cavatica-api.sbgenomics.com\n",
      "WARNING:urllib3.connectionpool:Connection pool is full, discarding connection: cavatica-api.sbgenomics.com\n",
      "WARNING:urllib3.connectionpool:Connection pool is full, discarding connection: cavatica-api.sbgenomics.com\n",
      "WARNING:urllib3.connectionpool:Connection pool is full, discarding connection: cavatica-api.sbgenomics.com\n",
      "WARNING:urllib3.connectionpool:Connection pool is full, discarding connection: cavatica-api.sbgenomics.com\n",
      "WARNING:urllib3.connectionpool:Connection pool is full, discarding connection: cavatica-api.sbgenomics.com\n",
      "WARNING:urllib3.connectionpool:Connection pool is full, discarding connection: cavatica-api.sbgenomics.com\n",
      "WARNING:urllib3.connectionpool:Connection pool is full, discarding connection: cavatica-api.sbgenomics.com\n"
     ]
    },
    {
     "name": "stdout",
     "output_type": "stream",
     "text": [
      "RNAfusion-FQ_INPUT: 18-3819\n"
     ]
    },
    {
     "name": "stderr",
     "output_type": "stream",
     "text": [
      "Found valid task RNAfusion-FQ_INPUT: 18-3819\n",
      "Found valid task RNAfusion-FQ_INPUT: 18-3910\n",
      "Found valid task RNAfusion-FQ_INPUT: 18-4372\n",
      "Found valid task RNAfusion-FQ_INPUT: 18-5156\n",
      "WARNING:urllib3.connectionpool:Connection pool is full, discarding connection: cavatica-api.sbgenomics.com\n",
      "WARNING:urllib3.connectionpool:Connection pool is full, discarding connection: cavatica-api.sbgenomics.com\n"
     ]
    },
    {
     "name": "stdout",
     "output_type": "stream",
     "text": [
      "RNAfusion-FQ_INPUT: 18-3910\n",
      "RNAfusion-FQ_INPUT: 18-4372\n",
      "RNAfusion-FQ_INPUT: 18-5156\n",
      "RNAfusion-FQ_INPUT: 18-5574\n",
      "RNAfusion-FQ_INPUT: 18-5852\n"
     ]
    },
    {
     "name": "stderr",
     "output_type": "stream",
     "text": [
      "Found valid task RNAfusion-FQ_INPUT: 18-5574\n",
      "Found valid task RNAfusion-FQ_INPUT: 18-5852\n",
      "Found valid task RNAfusion-FQ_INPUT: 18-5996\n",
      "Found valid task RNAfusion-FQ_INPUT: 18-800\n",
      "WARNING:urllib3.connectionpool:Connection pool is full, discarding connection: cavatica-api.sbgenomics.com\n",
      "WARNING:urllib3.connectionpool:Connection pool is full, discarding connection: cavatica-api.sbgenomics.com\n",
      "WARNING:urllib3.connectionpool:Connection pool is full, discarding connection: cavatica-api.sbgenomics.com\n",
      "WARNING:urllib3.connectionpool:Connection pool is full, discarding connection: cavatica-api.sbgenomics.com\n"
     ]
    },
    {
     "name": "stdout",
     "output_type": "stream",
     "text": [
      "RNAfusion-FQ_INPUT: 18-5996\n",
      "RNAfusion-FQ_INPUT: 18-800\n"
     ]
    },
    {
     "name": "stderr",
     "output_type": "stream",
     "text": [
      "WARNING:urllib3.connectionpool:Connection pool is full, discarding connection: cavatica-api.sbgenomics.com\n",
      "WARNING:urllib3.connectionpool:Connection pool is full, discarding connection: cavatica-api.sbgenomics.com\n"
     ]
    }
   ],
   "source": [
    "project = 'zhangb1/cancerdxdgd'\n",
    "tasks = api.tasks.query(project=project, status='COMPLETED').all()\n",
    "with concurrent.futures.ThreadPoolExecutor(16) as executor:\n",
    "    results = {executor.submit(parse_tag_outputs, task): task for task in tasks}\n"
   ]
  },
  {
   "cell_type": "code",
   "execution_count": null,
   "metadata": {},
   "outputs": [],
   "source": []
  }
 ],
 "metadata": {
  "kernelspec": {
   "display_name": "Python 3",
   "language": "python",
   "name": "python3"
  },
  "language_info": {
   "codemirror_mode": {
    "name": "ipython",
    "version": 3
   },
   "file_extension": ".py",
   "mimetype": "text/x-python",
   "name": "python",
   "nbconvert_exporter": "python",
   "pygments_lexer": "ipython3",
   "version": "3.8.3"
  }
 },
 "nbformat": 4,
 "nbformat_minor": 2
}
