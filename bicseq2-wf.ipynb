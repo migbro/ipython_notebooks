{
 "cells": [
  {
   "cell_type": "code",
   "execution_count": 3,
   "metadata": {},
   "outputs": [],
   "source": [
    "#!/usr/bin/env python3\n",
    "import sevenbridges as sbg\n",
    "from sevenbridges.errors import SbgError\n",
    "from sevenbridges.http.error_handlers import rate_limit_sleeper, maintenance_sleeper\n",
    "import sys\n",
    "import re\n",
    "import concurrent.futures\n",
    "import pdb\n",
    "config = sbg.Config(profile='turbo')\n",
    "api = sbg.Api(config=config, error_handlers=[rate_limit_sleeper, maintenance_sleeper])"
   ]
  },
  {
   "cell_type": "code",
   "execution_count": 19,
   "metadata": {},
   "outputs": [],
   "source": [
    "def get_refs(api, project, read_len):\n",
    "    ref_dict = {}\n",
    "    ref_dict['reference'] = api.files.query(project=project, names=['Homo_sapiens_assembly38.fasta'])[0]\n",
    "    ref_dict['ref_chrs'] = api.files.query(project=project, names=['GRCh38_everyChrs.tar.gz'])[0]\n",
    "    ref_dict['interval_list'] = api.files.query(project=project, names=['GRCh38.d1.vd1.fa.150mer.merged.bed'])[0]\n",
    "    ref_dict['rlen'] = read_len\n",
    "    return ref_dict"
   ]
  },
  {
   "cell_type": "code",
   "execution_count": 20,
   "metadata": {},
   "outputs": [],
   "source": [
    "def draft_task(case_id):\n",
    "    try:\n",
    "        for bs_id in cram_meta[case_id]['Tumor']:\n",
    "            in_dict = {}\n",
    "            for key in ref_objs:\n",
    "                in_dict[key] = ref_objs[key]\n",
    "            norm_bs_id = list(cram_meta[case_id]['Normal'].keys())[0]\n",
    "            task_name = 'BIC-SEQ2: ' + case_id + \" \" + bs_id + \" \" + norm_bs_id\n",
    "            tum_cram_id = cram_meta[case_id]['Tumor'][bs_id]\n",
    "            norm_cram_id = cram_meta[case_id]['Normal'][norm_bs_id]\n",
    "            in_dict['input_tumor_align'] = cram_objs[tum_cram_id]\n",
    "            in_dict['input_normal_align'] = cram_objs[norm_cram_id]\n",
    "            #pdb.set_trace()\n",
    "            task = api.tasks.create(name=task_name, project=project, app=app_name, inputs=in_dict, run=False)\n",
    "            task.inputs['output_basename'] = task.id\n",
    "            task.save()\n",
    "            return '\\t'.join((task_name, task.id)) + '\\n'\n",
    "    except Exception as e:\n",
    "        sys.stderr.write(str(e) + '\\n')\n",
    "        sys.stderr.write('Failed to create task for ' + task_name + '\\n')\n",
    "        exit(1)\n"
   ]
  },
  {
   "cell_type": "code",
   "execution_count": 21,
   "metadata": {},
   "outputs": [
    {
     "name": "stderr",
     "output_type": "stream",
     "text": [
      "50 task sets drafted, 9820 api calls left\n",
      "100 task sets drafted, 9677 api calls left\n",
      "150 task sets drafted, 9527 api calls left\n"
     ]
    }
   ],
   "source": [
    "project='kfdrc-harmonization/proteomics-bic-seq2'\n",
    "read_len = 150\n",
    "app_name = project + '/kfdrc-bic-seq2-workflow'\n",
    "manifest = open('/Users/brownm28/Documents/2019-May-17_proteomics_bicseq2/1558118472415-manifest.csv')\n",
    "out_task = open('/Users/brownm28/Documents/2019-May-17_proteomics_bicseq2/tasks_drafted.txt', 'w')\n",
    "cram_meta = {}\n",
    "file_id_list = []\n",
    "head = next(manifest)\n",
    "c_idx = 18\n",
    "bs_idx = 12\n",
    "s_idx = 10\n",
    "for line in manifest:\n",
    "    info = line.rstrip('\\n').split(',')\n",
    "    (case_id, bs_id, stype) = (info[c_idx], info[bs_idx], info[s_idx])\n",
    "    file_id_list.append(info[0])\n",
    "    if case_id not in cram_meta:\n",
    "        cram_meta[case_id] = {}\n",
    "    if stype not in cram_meta[case_id]:\n",
    "        cram_meta[case_id][stype] = {}\n",
    "    cram_meta[case_id][stype][bs_id] = info[0]\n",
    "file_bulk = []\n",
    "x = 1\n",
    "max_j = 100\n",
    "total = len(file_id_list)\n",
    "for i in range(0, total, max_j):\n",
    "    uset = i + max_j\n",
    "    if uset > total:\n",
    "        uset = total\n",
    "    file_bulk.extend(api.files.bulk_get(files=file_id_list[i:uset]))\n",
    "cram_objs = {}\n",
    "for file_res in file_bulk:\n",
    "    cram_objs[file_res.resource.id] = file_res.resource\n",
    "    \n",
    "ref_objs = get_refs(api, project, read_len)\n",
    "x = 1\n",
    "n = 50\n",
    "with concurrent.futures.ThreadPoolExecutor(8) as executor:\n",
    "    results = {executor.submit(draft_task, case_id): case_id for case_id in cram_meta}\n",
    "    for result in concurrent.futures.as_completed(results):\n",
    "        out_task.write(result.result())\n",
    "        if x % n == 0:\n",
    "            sys.stderr.write(str(x) + ' task sets drafted, ' + str(api.remaining) + ' api calls left\\n')\n",
    "        x += 1\n"
   ]
  },
  {
   "cell_type": "markdown",
   "metadata": {},
   "source": [
    "## Copy metadata from tumor cram to outputs"
   ]
  },
  {
   "cell_type": "code",
   "execution_count": 5,
   "metadata": {},
   "outputs": [],
   "source": [
    "def tag_outputs(task):\n",
    "    try:\n",
    "        metadata = task.inputs['input_tumor_align'].metadata\n",
    "        norm_bs_id = task.inputs['input_normal_align'].metadata['Kids First Biospecimen ID']\n",
    "        for output in task.outputs:\n",
    "            cur_file = task.outputs[output]\n",
    "            for key in metadata:\n",
    "                if key not in black_list:\n",
    "                    cur_file.metadata[key] = metadata[key]\n",
    "            cur_file.metadata['Kids First Biospecimen ID Tumor'] = task.inputs['input_tumor_align'].metadata['Kids First Biospecimen ID']\n",
    "            cur_file.metadata['Kids First Biospecimen ID Normal'] = norm_bs_id\n",
    "            cur_file.save()\n",
    "    except Exception as e:\n",
    "        print(e)\n"
   ]
  },
  {
   "cell_type": "code",
   "execution_count": 6,
   "metadata": {},
   "outputs": [],
   "source": [
    "project='kfdrc-harmonization/proteomics-bic-seq2'\n",
    "prefix = \"BIC-SEQ2:\"\n",
    "tasks = api.tasks.query(project=\"kfdrc-harmonization/proteomics-bic-seq2\", status=\"COMPLETED\").all()\n",
    "black_list = ['sample_id', 'aliquot_id', 'Kids First Biospecimen ID', 'sample_type']\n",
    "with concurrent.futures.ThreadPoolExecutor(8) as executor:\n",
    "    results = {executor.submit(tag_outputs, task): task for task in tasks} \n",
    "        "
   ]
  },
  {
   "cell_type": "markdown",
   "metadata": {},
   "source": [
    "## Assess failed tasks"
   ]
  },
  {
   "cell_type": "code",
   "execution_count": 25,
   "metadata": {},
   "outputs": [
    {
     "name": "stdout",
     "output_type": "stream",
     "text": [
      "77656683-f06e-425a-b7a4-29f5c31a4f24\n",
      "7b5b391b-19a7-493b-a1d2-88bf48b10669\n",
      "01a62537-ccb9-48f1-bf62-5c1161966388\n",
      "c5ff6a45-5dff-40a2-9eca-aff1ee8b2f6f\n",
      "fb332b06-f6b6-47a5-b5d2-b9ae29d9b730\n",
      "c4f818f6-bda8-4d6d-9c52-8c21c72ffb4e\n",
      "f060a561-fc9e-4273-838e-8859daa58772\n",
      "5da3de1f-7fb2-446d-acae-e69e307b3441\n",
      "fe7fc999-64a2-4d8f-ad8e-a38b8967495f\n",
      "794d79db-f185-49f1-bc62-f5709255aa66\n",
      "820c0ad2-5ed4-4e89-b509-efebd4d21115\n",
      "b6a0968f-8294-40b5-9d58-d2a1b6c65499\n",
      "7b6620da-bb63-43a8-874d-7daba2868ebe\n",
      "95a13810-a92f-451c-9f6b-554645056b49\n",
      "ecc59649-a797-4daa-bfa1-1b211fd3eda5\n",
      "a510bb99-8d56-44e7-b987-2e8fdb71f2dd\n",
      "2d33e964-a033-41a1-8bbb-f704c3f53c93\n",
      "334456b7-bfec-4806-961a-1e05e66b61cd\n",
      "c5ceb0af-fb5b-4045-80bb-715f82f89322\n",
      "f7635469-eb56-45e3-aa6a-42ae5fad1502\n",
      "08861d17-6e38-4aa1-b607-93cd0f748a8c\n",
      "aca45a5c-dec0-41ab-9330-1c1fd3282b49\n",
      "401bc480-1b5f-49db-b596-c955907fe1bc\n",
      "5958b219-3452-4177-a6c6-6a9dbf042f76\n",
      "6f3907dd-7ff4-4b0f-86e1-2286ab426799\n",
      "39604bec-5d3a-43c7-8607-daee4a03fa47\n",
      "dec382cf-95b3-4e38-bb0e-096a3d0c0be2\n",
      "099cb503-7d8d-4244-b5b0-f701722b9a31\n",
      "4374f92e-e7b6-490a-bfd9-74dd9b25d0e6\n",
      "03ffe8b7-13db-4db0-a5b7-811b972f5dbc\n",
      "9f3c3d02-d76c-4c38-b124-fe8bef713f64\n",
      "7fb230e8-e658-4e5a-964b-ddae2bf87e7a\n",
      "8eb99962-204b-4b35-ace0-6cfe2cd81d76\n",
      "cfd2fa02-905d-41c7-89e3-5c26f4c4d816\n",
      "ca5bb21c-24ca-425d-b78a-a2274404640f\n",
      "cb8a82ae-1ddb-496e-aa7f-7ff0321c6058\n",
      "0e4a5a54-463f-4732-81d9-c7fcc5358a49\n",
      "eb0b6d86-1e75-4692-affe-c812780bce08\n",
      "200328ec-2a0b-445e-96b6-c51018d0b597\n",
      "11cc2947-ac01-4fa4-bd6b-2d5b3bcc923b\n",
      "defade0d-981d-4560-9c13-bd94d8d7e281\n",
      "f953a8f6-8325-4e23-90a9-67c5277bdfde\n",
      "a5293daf-3617-40c1-bcfc-9f6c40342495\n",
      "7c9b25a1-440a-4223-b791-ce6bffcf4ab7\n",
      "90982102-c642-42f9-b37f-65bc3e1b6a9d\n",
      "50591b37-af87-4dfb-b611-a1a1fee4fb8e\n",
      "16f933ae-350e-4f01-a14e-c65d58ca9291\n",
      "6b3d99b5-6364-4988-a624-4802aff98a00\n",
      "eca3421a-1584-49f0-9dab-0c142dd67cf1\n",
      "c45137be-5be6-4957-99de-34aa201fc25b\n"
     ]
    }
   ],
   "source": [
    "project='kfdrc-harmonization/proteomics-bic-seq2'\n",
    "tasks = api.tasks.query(project=project, status=\"FAILED\")\n",
    "for task in tasks:\n",
    "    i = 0\n",
    "    print (task.id)\n",
    "    for job in task.get_execution_details().jobs:\n",
    "        if job.status == 'FAILED':\n",
    "            log_obj = api.files.get(id=job.logs['job.err.log'].id)\n",
    "            log_obj.download('/Users/brownm28/Documents/2019-May-17_proteomics_bicseq2/' + task.id + '_' + job.name + '.' + log_obj.name)"
   ]
  },
  {
   "cell_type": "markdown",
   "metadata": {},
   "source": [
    "## Re-run failed tasks"
   ]
  },
  {
   "cell_type": "code",
   "execution_count": 5,
   "metadata": {},
   "outputs": [],
   "source": [
    "def get_fa_refs(api, project):\n",
    "    ref_dict = {}\n",
    "    ref_dict['reference'] = api.files.query(project=project, names=['Homo_sapiens_assembly38.fasta'])[0]\n",
    "    ref_dict['ref_chrs'] = api.files.query(project=project, names=['GRCh38_everyChrs.tar.gz'])[0]\n",
    "    return ref_dict"
   ]
  },
  {
   "cell_type": "code",
   "execution_count": 6,
   "metadata": {},
   "outputs": [],
   "source": [
    "def get_invtl_refs(api, project):\n",
    "    intvl_dict = {}\n",
    "    intvl_dict['150'] = api.files.query(project=project, names=['GRCh38.d1.vd1.fa.150mer.merged.bed'])[0]\n",
    "    intvl_dict['100'] = api.files.query(project=project, names=['hg38_100bp_gem_mm2_mappability.merged.bed'])[0]\n",
    "    return intvl_dict"
   ]
  },
  {
   "cell_type": "code",
   "execution_count": 7,
   "metadata": {},
   "outputs": [
    {
     "name": "stdout",
     "output_type": "stream",
     "text": [
      "BIC-SEQ2: C28659 BS_HW4MYBZ2 BS_8DTDM1MK\t39ba4d07-2a3c-4202-a02f-dad4540936ab\n",
      "BIC-SEQ2: C82041 BS_ZX1YPQ88 BS_F4V6RWJ9\td288d55c-1bcc-4d34-9847-5f101297bd1b\n",
      "BIC-SEQ2: C33825 BS_16FT8V4B BS_APFT88Y3\t9f2ac3a6-4a6d-4f63-83d9-009a91fe7925\n",
      "BIC-SEQ2: C39606 BS_17AXPP1Y BS_4KXBM5J8\t2f5d2ec4-c082-4d03-8960-dd17f302d333\n",
      "BIC-SEQ2: C71094 BS_S7S6YEHA BS_ZDSXV5N1\td943e27e-60c3-4709-ac59-75a1303481e8\n",
      "BIC-SEQ2: C65559 BS_K14VJ1E3 BS_6PFQJMM3\t518e4efc-c505-403a-8b94-5c5c2aefe850\n",
      "BIC-SEQ2: C70971 BS_MWXDJFWW BS_WCQW99V3\tdad8ef56-dd7d-443f-82a2-86883682f09a\n",
      "BIC-SEQ2: C29151 BS_XSWF2MR1 BS_4RT8H37A\t3f9a8e6c-d546-47e3-bf4e-dc3ea49b2f40\n",
      "BIC-SEQ2: C41451 BS_5Z4XQC9X BS_JNFPEM6F\t6000b8f1-3be5-4309-98c6-3dfa3a673728\n"
     ]
    }
   ],
   "source": [
    "project='kfdrc-harmonization/proteomics-bic-seq2'\n",
    "ref_fa = get_fa_refs(api, project)\n",
    "ref_intvl = get_invtl_refs(api, project)\n",
    "app_name = project + '/kfdrc-bic-seq2-workflow'\n",
    "task_list = open ('/Users/brownm28/Documents/2019-May-17_proteomics_bicseq2/rlen_fail_re-run/task_summary.txt')\n",
    "for line in task_list:\n",
    "    info = line.rstrip('\\n').split('\\t')\n",
    "    task_name = info[0]\n",
    "    old_task_id = info[1]\n",
    "    old_task = api.tasks.get(old_task_id)\n",
    "    t_rlen = info[7]\n",
    "    n_rlen = info[8]\n",
    "    in_dict = {}\n",
    "    for key in ref_fa:\n",
    "        in_dict[key] = ref_fa[key]\n",
    "    in_dict['t_rlen'] = int(t_rlen)\n",
    "    in_dict['n_rlen'] = int(n_rlen)\n",
    "    in_dict['t_interval_list'] = ref_intvl[t_rlen]\n",
    "    in_dict['n_interval_list'] = ref_intvl[n_rlen]\n",
    "    in_dict['input_tumor_align'] = old_task.inputs['input_tumor_align']\n",
    "    in_dict['input_normal_align'] = old_task.inputs['input_normal_align']\n",
    "    task = api.tasks.create(name=task_name, project=project, app=app_name, inputs=in_dict, run=False)\n",
    "    task.inputs['output_basename'] = task.id\n",
    "    task.save()\n",
    "    print ('\\t'.join((task_name, task.id)))\n"
   ]
  },
  {
   "cell_type": "code",
   "execution_count": 8,
   "metadata": {},
   "outputs": [],
   "source": [
    "task_file = open('/Users/brownm28/Documents/2019-May-17_proteomics_bicseq2/rlen_fail_re-run/rerun-tasks.txt')\n",
    "for line in task_file:\n",
    "    (tname, tid) = line.rstrip('\\n').split('\\t')\n",
    "    task = api.tasks.get(tid)\n",
    "    task.run()"
   ]
  },
  {
   "cell_type": "markdown",
   "metadata": {},
   "source": [
    "### Get matched controlfreeC calls"
   ]
  },
  {
   "cell_type": "code",
   "execution_count": 5,
   "metadata": {},
   "outputs": [
    {
     "name": "stdout",
     "output_type": "stream",
     "text": [
      "5c808e77e4b0c5cd4eba17e5\t8d6ef830-5b69-4e84-af5f-a325c86f81db.CNVs.p.value.txt\n",
      "5c810016e4b0359dd0e9628b\tc46d06b7-5748-416b-86e2-fd90e8cc9a02.CNVs.p.value.txt\n",
      "5c803051e4b0c5cd4eb91815\tad53961f-88b4-4fc9-b567-f52258d22b7b.CNVs.p.value.txt\n",
      "5c8103fde4b0359dd0e96b96\t1eec38cb-89c1-4a46-ae4b-69e2ed01f84c.CNVs.p.value.txt\n",
      "5c802d4ee4b0c5cd4eb90e12\tbd6ddf3b-4f44-4af7-b0c1-ee3e66f01593.CNVs.p.value.txt\n",
      "5c80efcae4b0c5cd4ebae59f\t03f29ac9-4682-4be1-b1fe-7c6f3671a3a5.CNVs.p.value.txt\n",
      "5c7fdc84e4b0359d91c703ed\t0c2b222b-e5fa-416e-8f1a-a27c23c014fe.CNVs.p.value.txt\n",
      "5c80d4c7e4b0c5cd4ebac835\t1487eb06-771e-46b9-b503-46ba5e317efb.CNVs.p.value.txt\n",
      "5c8081d8e4b0c5cd4eb9fc9b\tded2fa57-3fd3-44aa-804e-28398db0ed77.CNVs.p.value.txt\n",
      "5c81021fe4b0c5cd4ebaf924\t4250549e-d7af-4680-9021-06e72192451a.CNVs.p.value.txt\n",
      "5c808c19e4b0359dd0e88ada\tef261bd0-2da4-4b85-8e78-802acfa8dcdb.CNVs.p.value.txt\n",
      "5c7fa9d5e4b0359d91c6a6cd\te80bd786-9e86-4d10-a683-7c50cfcbc1ea.CNVs.p.value.txt\n",
      "5c802297e4b0c5cd4eb8f9b0\t6abcef08-bed7-4e7e-bf96-b6f91c9ba9fa.CNVs.p.value.txt\n",
      "5c8038b1e4b0c5cd4eb93b29\t7c85dd41-d21f-4fde-b9e4-9cf7939629d4.CNVs.p.value.txt\n",
      "5c80990ee4b0c5cd4eba387f\t0ffb11b1-5eef-4055-830b-49c5c45b4715.CNVs.p.value.txt\n",
      "5c809f86e4b0c5cd4eba4b5e\t35c87b1a-eea4-4841-bed3-4c9591f5f417.CNVs.p.value.txt\n",
      "5c80f65ae4b0359dd0e95941\t9d7eb085-78f9-4581-9950-334741548cb2.CNVs.p.value.txt\n",
      "5c80a522e4b0c5cd4eba5efc\t286972cb-cc7b-495e-8eab-a918f06f9b30.CNVs.p.value.txt\n",
      "5c802c0ee4b0359dd0e79433\t1af57a5d-e5d0-4368-9029-55d522ec4b32.CNVs.p.value.txt\n",
      "5c808ddce4b0359dd0e88e8a\t8caa69b5-47f7-4f1f-85f2-50a93d7f6f29.CNVs.p.value.txt\n",
      "5c802b2be4b0c5cd4eb90764\t9ee955e8-161c-4ac4-b9bf-f0f3a66063fe.CNVs.p.value.txt\n",
      "5c80dc2fe4b0c5cd4ebacf9f\tba276d70-2642-4eda-a469-bbf2f6ee36a4.CNVs.p.value.txt\n",
      "5c80f24ce4b0359dd0e9550d\te8a1f049-1efe-4ce2-a768-609967b6478e.CNVs.p.value.txt\n",
      "5c80f345e4b0359dd0e955fd\t7fe54e61-fb14-44dc-aeb0-bb41affd842c.CNVs.p.value.txt\n",
      "5c804266e4b0359dd0e7f00b\ta7301a01-21cd-4978-9b8a-c3945dbc1504.CNVs.p.value.txt\n",
      "5c80514fe4b0c5cd4eb9b400\t8d50b00f-8af1-4f66-ac77-91769e68fc7e.CNVs.p.value.txt\n",
      "5c808be0e4b0359dd0e88a29\t66d086ad-e486-4c70-a8e4-fd5e8b26cc2b.CNVs.p.value.txt\n",
      "5c812334e4b0359dd0e984fb\t5146d3ea-d870-43ca-95b5-365497201bdd.CNVs.p.value.txt\n",
      "5c80a4aae4b0c5cd4eba5d7f\tda9d40ec-9750-4305-af97-180fc6519d14.CNVs.p.value.txt\n",
      "5c7fa3d8e4b0359d91c69881\t55fc2a02-1963-44b0-9e3e-3f251c883ffb.CNVs.p.value.txt\n",
      "5c808c74e4b0c5cd4eba13b3\t53c55400-9c0f-4637-a62e-fb5b9dca03a0.CNVs.p.value.txt\n",
      "5c80aafce4b0359dd0e8e2b3\t73ccf1bc-384c-47ac-8d0f-6d1b9acd7a36.CNVs.p.value.txt\n",
      "5c81070ae4b0359dd0e979d9\t4a6ded5d-1870-4c51-97a0-4a7ca27191e8.CNVs.p.value.txt\n",
      "5c80ecbce4b0c5cd4ebae2ee\t30e05b01-b2be-477c-93eb-8e3625acb55a.CNVs.p.value.txt\n",
      "5c804673e4b0c5cd4eb97ee8\tf247ff08-65ba-46d6-9ab6-3257f92519f3.CNVs.p.value.txt\n",
      "5c802f63e4b0c5cd4eb9145e\t3d2443b0-34e0-4045-8711-76960cb1f5ae.CNVs.p.value.txt\n",
      "5c800b6de4b0c5cd4eb8eca5\t0508c6d3-0128-48e1-aa5e-2701fc2a787a.CNVs.p.value.txt\n",
      "5c80e130e4b0359dd0e942f4\t4fef999c-6ba5-428b-901e-033cafc33c85.CNVs.p.value.txt\n",
      "5c7fb29ce4b0c5cd2e271156\t636cb99c-1e2a-45cb-999e-0f14d8df2761.CNVs.p.value.txt\n",
      "5c7f79fae4b0c5cd2e268219\t3467be35-2c73-40fb-8aed-a1d7fa4ed3ac.CNVs.p.value.txt\n",
      "5c812cbae4b0c5cd4ebb2a1c\t2232df4a-702a-4c23-b1be-bc1f5fa7f855.CNVs.p.value.txt\n",
      "5c80472ae4b0c5cd4eb981da\tcb7ce096-294d-4654-ac3b-c056ada23010.CNVs.p.value.txt\n",
      "5c804865e4b0359dd0e80999\td28a4b17-1efb-48cc-a814-4760c44dbbd5.CNVs.p.value.txt\n",
      "5c804f42e4b0359dd0e82b42\t290a780f-2c75-44a4-9e86-c0497af7119f.CNVs.p.value.txt\n",
      "5c810f14e4b0c5cd4ebb2100\t8c708fcc-4a6a-4382-bf93-72389083bd92.CNVs.p.value.txt\n",
      "5c803214e4b0359dd0e7a9d1\te8b7cb4e-fc63-4336-b43f-ccca155e497d.CNVs.p.value.txt\n",
      "5c802405e4b0359dd0e77d0f\t52989729-b3d3-41bd-8bc4-14e04019e1ef.CNVs.p.value.txt\n",
      "5c803e36e4b0359dd0e7de2c\tfa3d9081-873e-437f-97e5-39653a9223df.CNVs.p.value.txt\n",
      "5c808724e4b0c5cd4eba073a\t4b58c4a5-4ca3-46c3-9e1f-ae53c0cb1f0f.CNVs.p.value.txt\n",
      "5c804d51e4b0359dd0e81ea8\t1dbab59d-1a93-4b12-9d24-e985fa74a8e1.CNVs.p.value.txt\n",
      "5c7fc1a2e4b0359d91c6db3b\t8b9dac97-5174-4f54-b45f-23be7d849080.CNVs.p.value.txt\n",
      "5c804828e4b0359dd0e8089d\t89a10dfc-50e7-47b6-97bc-3e5bb3b4b8a7.CNVs.p.value.txt\n",
      "5c80ce78e4b0359dd0e92e7e\t95ae222c-1827-4cad-90f7-bfaa73c8772c.CNVs.p.value.txt\n",
      "5c80fe04e4b0c5cd4ebaf296\t8f8caebb-50ef-403d-b1f6-4c5cf78bb58b.CNVs.p.value.txt\n",
      "5c803b10e4b0359dd0e7cf92\tad494820-1dbc-4321-85e3-9aab0d15e845.CNVs.p.value.txt\n",
      "5c80db07e4b0359dd0e93a6d\t5b678de4-ce6f-4ae1-8c71-4bddbd0f3380.CNVs.p.value.txt\n",
      "5c8100e1e4b0359dd0e96342\t09ab0605-ecee-4620-9cb9-3fec32831cd7.CNVs.p.value.txt\n",
      "5c80a926e4b0c5cd4eba6c43\tf184f7d6-10ef-4127-afc1-8aa5bc5e6581.CNVs.p.value.txt\n",
      "5c80407ae4b0359dd0e7e691\t6e222021-5f17-4f95-b9fb-c4749ecb5efe.CNVs.p.value.txt\n",
      "5c80ff12e4b0c5cd4ebaf344\t85ff9b21-2000-470a-9e85-b7329b0a54ae.CNVs.p.value.txt\n",
      "5c7fdfc3e4b0359d91c70aec\t7a3e5bec-bea6-4a89-afc6-51dab0af1c8d.CNVs.p.value.txt\n",
      "5c7f819be4b0359d91c64358\tecdd7810-0f0d-405c-bb0f-0f01cea4f558.CNVs.p.value.txt\n",
      "5c80a07de4b0359dd0e8c0b7\tbd7633ba-41d0-43b8-a9ad-e40939c5ad23.CNVs.p.value.txt\n",
      "5c807ca4e4b0359dd0e8742d\t5e185ee2-1f85-445e-b985-8dbda4cfc4c5.CNVs.p.value.txt\n",
      "5c7fd67ee4b0359d91c6f5b0\t06180684-6bb1-476f-8794-9a52f5773dbf.CNVs.p.value.txt\n",
      "5c810715e4b0359dd0e979dc\t72c04397-7d70-4622-b5c5-004b247c256c.CNVs.p.value.txt\n",
      "5c80a8a7e4b0c5cd4eba6a70\tb12dbf41-c06a-432b-80ad-7934789f6052.CNVs.p.value.txt\n",
      "5c802989e4b0c5cd4eb904b0\t777a49b9-a1d4-4036-aafd-73c226a05c5a.CNVs.p.value.txt\n",
      "5c803e28e4b0359dd0e7dc87\tf9edb5c8-e4dd-47f3-ad5b-4262a1cd02c4.CNVs.p.value.txt\n",
      "5c808acae4b0359dd0e88757\td1aeed29-ab80-4d07-a26a-0ecb387d9f90.CNVs.p.value.txt\n",
      "5c810e17e4b0c5cd4ebb2079\tbdaaeda3-53af-4457-9840-d695409c4410.CNVs.p.value.txt\n",
      "5c8044bbe4b0c5cd4eb97522\t9e31f39c-1fa3-43e4-a6d5-c8656b0945f5.CNVs.p.value.txt\n",
      "5c80373ee4b0c5cd4eb9337d\t0c1bfb3c-acde-4314-8a1f-c92f4c461365.CNVs.p.value.txt\n",
      "5c80e790e4b0c5cd4ebadd5b\t186798aa-79d0-41ac-ad84-0176c0a933b2.CNVs.p.value.txt\n",
      "5c80a13ee4b0359dd0e8c366\t0d2ad827-fe6a-466f-abe2-4b125bd22397.CNVs.p.value.txt\n",
      "5c8039cfe4b0c5cd4eb940ac\t91801851-04e6-4ec3-9170-fc101826b8c5.CNVs.p.value.txt\n",
      "5c80d7fee4b0c5cd4ebacb68\t54248256-3580-46f6-81b3-6a754a0143af.CNVs.p.value.txt\n",
      "5c8040d8e4b0c5cd4eb95f3e\t871eeb00-e252-4175-815f-0a2b8614ca5b.CNVs.p.value.txt\n",
      "5c80f4dbe4b0359dd0e95797\t7e4bd0ad-097e-4f13-b5b1-41c9db47424e.CNVs.p.value.txt\n",
      "5c809781e4b0359dd0e8a91a\t9db1012f-7c80-41ce-a498-d0d63da8bc3b.CNVs.p.value.txt\n",
      "5c7fad3fe4b0359d91c6ae94\taa14eee3-4985-4b91-b8e8-e9485e18635e.CNVs.p.value.txt\n",
      "5c7f80afe4b0c5cd2e2696a6\t7e6fbb00-4313-48d7-aefd-d5e98b2beb4e.CNVs.p.value.txt\n",
      "5c803ef1e4b0c5cd4eb955e5\t2096c1cf-3cab-4d67-a7b8-05cb7b8a3269.CNVs.p.value.txt\n",
      "5c8032a1e4b0c5cd4eb9211f\t2af77ef3-bd8a-45b1-8363-195e70b718c0.CNVs.p.value.txt\n",
      "5c8115d2e4b0359dd0e98153\tc721dad6-23aa-4d88-8845-cdae81bd58de.CNVs.p.value.txt\n",
      "5c8033d0e4b0359dd0e7adfa\tc297bb92-0102-4f19-bf5f-5ece221d9cea.CNVs.p.value.txt\n",
      "5c802fcae4b0359dd0e7a01f\t648a923f-b434-4c25-939a-5b8116e7b46e.CNVs.p.value.txt\n",
      "5c804fcde4b0359dd0e82e0c\t0de9741e-f743-4bd7-877e-88c88b81143c.CNVs.p.value.txt\n",
      "5c80eaa3e4b0c5cd4ebae144\t4791015a-e7f4-4ea0-aa25-96e998219a6f.CNVs.p.value.txt\n",
      "5c80a7ace4b0c5cd4eba67ae\t96cb8b1b-b788-47cd-81b3-9cfe0e4931b2.CNVs.p.value.txt\n",
      "5c803ec2e4b0c5cd4eb954cf\t235cb1e1-266a-4a26-8f20-926497ee0084.CNVs.p.value.txt\n",
      "5c80e493e4b0c5cd4ebad9c9\tc84835df-78d6-4255-be44-1d88530583ea.CNVs.p.value.txt\n",
      "5c7fa42ee4b0359d91c6998c\t4d043a63-9014-4210-b3ad-897183fcdebb.CNVs.p.value.txt\n",
      "5c80f91de4b0359dd0e95b9b\t45c2e039-2d8e-49a2-8c28-abb1a77b5dfc.CNVs.p.value.txt\n",
      "5c812548e4b0359dd0e9856f\t9a78a7ec-b7d5-4a4f-a261-9f14ac5c4231.CNVs.p.value.txt\n",
      "5c80401ee4b0c5cd4eb95c0b\te5b746e9-db1f-4147-b50a-93d1753d2fc1.CNVs.p.value.txt\n",
      "5c7f8931e4b0c5cd2e26acfa\t6dd41094-268a-48e7-9a96-021a8e2c9c0f.CNVs.p.value.txt\n",
      "5c80a521e4b0c5cd4eba5ef2\td3f0ec5b-7a5a-4639-983a-15ef55b5f014.CNVs.p.value.txt\n",
      "5c808a1ce4b0359dd0e88647\t36bce5f3-504e-4340-b436-c65d4aec732d.CNVs.p.value.txt\n",
      "5c8042e0e4b0359dd0e7f1cf\t697889ce-dd00-44e8-b117-689a1f55ea7b.CNVs.p.value.txt\n",
      "5c80ebfbe4b0359dd0e94f08\tb2f542c9-bc07-4322-ab27-444a4ef52242.CNVs.p.value.txt\n",
      "5c809d3ce4b0359dd0e8b943\t2026b231-3964-42e0-a961-6e83660a2b5a.CNVs.p.value.txt\n",
      "5c7fffbee4b0359dd0e74573\t535fe926-2ca1-4848-807d-102af14e49f2.CNVs.p.value.txt\n",
      "5c805909e4b0359dd0e84fec\t0a170000-8b6a-4c81-8a8f-c2faa4f876a5.CNVs.p.value.txt\n"
     ]
    },
    {
     "name": "stdout",
     "output_type": "stream",
     "text": [
      "5c804652e4b0c5cd4eb97e05\td95cc8d0-abcf-48d7-a90a-f523f2236e68.CNVs.p.value.txt\n",
      "5c80a74fe4b0359dd0e8d71c\tfee36e71-3594-45e5-92b0-589cdab8809e.CNVs.p.value.txt\n",
      "5c7fd81fe4b0c5cd2e274e1d\t804ab91e-2cef-449e-87d8-2dde533584a5.CNVs.p.value.txt\n",
      "5c811481e4b0359dd0e980f6\t245941c3-e213-4e24-9796-5e2efb806ffd.CNVs.p.value.txt\n",
      "5c80f995e4b0359dd0e95c3f\t0f0ce16a-642a-49f8-9643-6ad8046d8980.CNVs.p.value.txt\n",
      "5c804d5ce4b0359dd0e81eda\t2283f532-b198-4c2a-9acd-8e49c23b0a98.CNVs.p.value.txt\n",
      "5c80dc41e4b0c5cd4ebacfa5\t63107e9b-cac1-4f62-a672-1122ea0f47d0.CNVs.p.value.txt\n",
      "5c80d221e4b0359dd0e93283\tf79c2b4c-da8d-4f62-a7be-5f803f7c4e99.CNVs.p.value.txt\n",
      "5c80dfc4e4b0c5cd4ebad40a\tdb297d15-3d33-48c8-a7e6-e679fb023d6a.CNVs.p.value.txt\n",
      "5c80e2cfe4b0c5cd4ebad7c8\t5d677171-90e2-413d-afae-f4644f9f5113.CNVs.p.value.txt\n",
      "5c80cd87e4b0c5cd4ebac00b\t5ec5a1c7-a65e-4987-87c3-e80d74011ecc.CNVs.p.value.txt\n",
      "5c80d360e4b0359dd0e9331d\tf199e983-0dff-4879-807b-798ac1e77eca.CNVs.p.value.txt\n",
      "5c80e99de4b0c5cd4ebae033\t254202d0-4a01-4325-be6c-e12c5f5e4c82.CNVs.p.value.txt\n"
     ]
    }
   ],
   "source": [
    "project = 'kfdrc-harmonization/sd-bhjxbdqk-08'\n",
    "manifest = open('/Users/brownm28/Documents/2019-May-17_proteomics_bicseq2/completed_results.csv')\n",
    "head = next(manifest)\n",
    "for line in manifest:\n",
    "    info = line.rstrip('\\n').split(',')\n",
    "    # pdb.set_trace()\n",
    "    # hold=1\n",
    "    flist = api.files.query(project=project, metadata = {'Kids First Biospecimen ID Tumor': info[14]}, tags = ['CONTROLFREEC'] )\n",
    "\n",
    "    print(flist[0].id + '\\t' + flist[0].name)\n"
   ]
  },
  {
   "cell_type": "code",
   "execution_count": null,
   "metadata": {},
   "outputs": [],
   "source": []
  }
 ],
 "metadata": {
  "kernelspec": {
   "display_name": "Python 3",
   "language": "python",
   "name": "python3"
  },
  "language_info": {
   "codemirror_mode": {
    "name": "ipython",
    "version": 3
   },
   "file_extension": ".py",
   "mimetype": "text/x-python",
   "name": "python",
   "nbconvert_exporter": "python",
   "pygments_lexer": "ipython3",
   "version": "3.7.3"
  }
 },
 "nbformat": 4,
 "nbformat_minor": 2
}
