{
 "cells": [
  {
   "cell_type": "code",
   "execution_count": 1,
   "metadata": {},
   "outputs": [],
   "source": [
    "import sevenbridges as sbg\n",
    "import sys\n",
    "import requests\n",
    "import pdb\n",
    "config = sbg.Config(profile='cavatica')\n",
    "api = sbg.Api(config=config)"
   ]
  },
  {
   "cell_type": "markdown",
   "metadata": {},
   "source": [
    "## Update file metadata"
   ]
  },
  {
   "cell_type": "code",
   "execution_count": 7,
   "metadata": {},
   "outputs": [
    {
     "name": "stdout",
     "output_type": "stream",
     "text": [
      "Processing C021_0008_A08776.Aligned.toTranscriptome.out.bam\n",
      "Processing C021_0008_A08776.genes.results\n",
      "Processing C021_0008_A08776.isoforms.results\n"
     ]
    },
    {
     "data": {
      "text/plain": [
       "<File: id=5be9e915e4b024354963c33a>"
      ]
     },
     "execution_count": 7,
     "metadata": {},
     "output_type": "execute_result"
    }
   ],
   "source": [
    "correct_fh = open('/Users/brownm28/Documents/2018-Nov-6_open_dipg/portal_build/WES/fix_metadata_error/correct_bs_info.txt')\n",
    "head = next(correct_fh)\n",
    "info = next(correct_fh)\n",
    "data = info.rstrip('\\n').split('\\t')\n",
    "task = api.tasks.get(id='82a16a73-be85-4f3a-8f1d-07cc2d3269ab')\n",
    "#pdb.set_trace()\n",
    "tbam = api.files.get(id=task.outputs['Transcriptomebam'][0].id)\n",
    "print ('Processing ' + tbam.name)\n",
    "tbam.metadata['Kids First Biospecimen ID'] = data[0]\n",
    "tbam.metadata['Kids First Participant ID'] = data[1]\n",
    "tbam.metadata['aliquot_id'] = data[2]\n",
    "tbam.save()\n",
    "res1 = api.files.get(id=task.outputs['result'][0])\n",
    "print ('Processing ' + res1.name)\n",
    "res1.metadata['Kids First Biospecimen ID'] = data[0]\n",
    "res1.metadata['Kids First Participant ID'] = data[1]\n",
    "res1.metadata['aliquot_id'] = data[2]\n",
    "res1.save()\n",
    "res2 = api.files.get(id=task.outputs['result'][1])\n",
    "print ('Processing ' + res2.name)\n",
    "res2.metadata['Kids First Biospecimen ID'] = data[0]\n",
    "res2.metadata['Kids First Participant ID'] = data[1]\n",
    "res2.metadata['aliquot_id'] = data[2]\n",
    "res2.save()"
   ]
  },
  {
   "cell_type": "markdown",
   "metadata": {},
   "source": [
    "## Update file names"
   ]
  },
  {
   "cell_type": "code",
   "execution_count": 2,
   "metadata": {},
   "outputs": [
    {
     "name": "stderr",
     "output_type": "stream",
     "text": [
      "Found task with outputs to rename star-rsem-for-disease-expression run - 11-12-18 18:51:31: sample_id: C021_0032\n"
     ]
    },
    {
     "name": "stdout",
     "output_type": "stream",
     "text": [
      "Renaming C021_0032_A00006.genes.results to C021_0032_A18557.genes.results\n",
      "Renaming C021_0032_A00006.isoforms.results to C021_0032_A18557.isoforms.results\n",
      "Renaming C021_0032_A00006.Aligned.toTranscriptome.out.bam to C021_0032_A18557.Aligned.toTranscriptome.out.bam\n",
      "Renaming C021_0032_A00996.fusion_output.tar.gz to C021_0032_A18557.fusion_output.tar.gz\n",
      "Renaming C021_0032_A00006.star-fusion.fusion_candidates.final to C021_0032_A18557.star-fusion.fusion_candidates.final\n",
      "Renaming C021_0035_A00009.isoforms.results to C021_0035_A19683.isoforms.results\n"
     ]
    },
    {
     "name": "stderr",
     "output_type": "stream",
     "text": [
      "Found task with outputs to rename star-rsem-for-disease-expression run - 11-12-18 18:51:31: sample_id: C021_0035\n"
     ]
    },
    {
     "name": "stdout",
     "output_type": "stream",
     "text": [
      "Renaming C021_0035_A00009.genes.results to C021_0035_A19683.genes.results\n",
      "Renaming C021_0035_A00009.Aligned.toTranscriptome.out.bam to C021_0035_A19683.Aligned.toTranscriptome.out.bam\n",
      "Renaming C021_0035_A00009.fusion_output.tar.gz to C021_0035_A19683.fusion_output.tar.gz\n",
      "Renaming C021_0035_A00009.star-fusion.fusion_candidates.final to C021_0035_A19683.star-fusion.fusion_candidates.final\n",
      "Renaming C021_0036_A00010.genes.results to C021_0036_A20096.genes.results\n",
      "Renaming C021_0036_A00010.isoforms.results to C021_0036_A20096.isoforms.results\n"
     ]
    },
    {
     "name": "stderr",
     "output_type": "stream",
     "text": [
      "Found task with outputs to rename star-rsem-for-disease-expression run - 11-12-18 18:51:31: sample_id: C021_0036\n"
     ]
    },
    {
     "name": "stdout",
     "output_type": "stream",
     "text": [
      "Renaming C021_0036_A00010.Aligned.toTranscriptome.out.bam to C021_0036_A20096.Aligned.toTranscriptome.out.bam\n",
      "Renaming C021_0036_A00010.fusion_output.tar.gz to C021_0036_A20096.fusion_output.tar.gz\n",
      "Renaming C021_0036_A00010.star-fusion.fusion_candidates.final to C021_0036_A20096.star-fusion.fusion_candidates.final\n"
     ]
    },
    {
     "name": "stderr",
     "output_type": "stream",
     "text": [
      "Found task with outputs to rename star-rsem-for-disease-expression run - 11-12-18 18:51:31: sample_id: C021_0034\n"
     ]
    },
    {
     "name": "stdout",
     "output_type": "stream",
     "text": [
      "Renaming C021_0034_A00008.isoforms.results to C021_0034_A19020.isoforms.results\n",
      "Renaming C021_0034_A00008.genes.results to C021_0034_A19020.genes.results\n",
      "Renaming C021_0034_A00008.Aligned.toTranscriptome.out.bam to C021_0034_A19020.Aligned.toTranscriptome.out.bam\n",
      "Renaming C021_0034_A00008.fusion_output.tar.gz to C021_0034_A19020.fusion_output.tar.gz\n",
      "Renaming C021_0034_A00008.star-fusion.fusion_candidates.final to C021_0034_A19020.star-fusion.fusion_candidates.final\n",
      "Renaming C021_0033_A00007.genes.results to C021_0033_A18808.genes.results\n"
     ]
    },
    {
     "name": "stderr",
     "output_type": "stream",
     "text": [
      "Found task with outputs to rename star-rsem-for-disease-expression run - 11-12-18 18:51:31: sample_id: C021_0033\n"
     ]
    },
    {
     "name": "stdout",
     "output_type": "stream",
     "text": [
      "Renaming C021_0033_A00007.isoforms.results to C021_0033_A18808.isoforms.results\n",
      "Renaming C021_0033_A00007.Aligned.toTranscriptome.out.bam to C021_0033_A18808.Aligned.toTranscriptome.out.bam\n",
      "Renaming C021_0033_A00007.fusion_output.tar.gz to C021_0033_A18808.fusion_output.tar.gz\n",
      "Renaming C021_0033_A00007.star-fusion.fusion_candidates.final to C021_0033_A18808.star-fusion.fusion_candidates.final\n",
      "Renaming C021_0008_A08776.genes.results to C021_0008_A08972.genes.results\n"
     ]
    },
    {
     "name": "stderr",
     "output_type": "stream",
     "text": [
      "Found task with outputs to rename star-rsem-for-disease-expression run - 11-12-18 18:51:31: sample_id: C021_0008\n"
     ]
    },
    {
     "name": "stdout",
     "output_type": "stream",
     "text": [
      "Renaming C021_0008_A08776.isoforms.results to C021_0008_A08972.isoforms.results\n",
      "Renaming C021_0008_A08776.Aligned.toTranscriptome.out.bam to C021_0008_A08972.Aligned.toTranscriptome.out.bam\n",
      "Renaming C021_0008_A08776.fusion_output.tar.gz to C021_0008_A08972.fusion_output.tar.gz\n",
      "Renaming C021_0008_A08776.star-fusion.fusion_candidates.final to C021_0008_A08972.star-fusion.fusion_candidates.final\n"
     ]
    }
   ],
   "source": [
    "def process_file(f_obj):\n",
    "    new_prefix = samp_id + '_' + rn_index[samp_id]\n",
    "    parts = f_obj.name.split('.')\n",
    "    new_fn = new_prefix + '.' + '.'.join(parts[1:])\n",
    "    print ('Renaming ' + f_obj.name + ' to ' + new_fn)\n",
    "    f_obj.name = new_fn\n",
    "    f_obj.save()\n",
    "    \n",
    "rn_table = open('/Users/brownm28/Documents/2018-Nov-6_open_dipg/portal_build/WES/fix_metadata_error/fn_to_fix.txt')\n",
    "rn_index = {}\n",
    "for line in rn_table:\n",
    "    info = line.rstrip('\\n').split('\\t')\n",
    "    rn_index[info[0]] = info[1]\n",
    "batch_task_id = '2addb11b-6b44-43bc-8ff1-7ed34122bfa3'\n",
    "batch = api.tasks.get(id=batch_task_id)\n",
    "tasks = batch.get_batch_children()\n",
    "for task in tasks:\n",
    "    samp_id = task.name[-9:]\n",
    "    # print (samp_id)\n",
    "    if samp_id in rn_index:\n",
    "        sys.stderr.write('Found task with outputs to rename ' + task.name + '\\n')\n",
    "        for key in task.outputs:\n",
    "            if isinstance(task.outputs[key], list):\n",
    "                for tf_obj in task.outputs[key]:\n",
    "                    cur = api.files.get(id=tf_obj.id)\n",
    "                    process_file(cur)\n",
    "            else:\n",
    "                cur = api.files.get(id=task.outputs[key].id)\n",
    "                process_file(cur)"
   ]
  },
  {
   "cell_type": "code",
   "execution_count": null,
   "metadata": {},
   "outputs": [],
   "source": []
  }
 ],
 "metadata": {
  "kernelspec": {
   "display_name": "Python 3",
   "language": "python",
   "name": "python3"
  },
  "language_info": {
   "codemirror_mode": {
    "name": "ipython",
    "version": 3
   },
   "file_extension": ".py",
   "mimetype": "text/x-python",
   "name": "python",
   "nbconvert_exporter": "python",
   "pygments_lexer": "ipython3",
   "version": "3.7.0"
  }
 },
 "nbformat": 4,
 "nbformat_minor": 2
}
