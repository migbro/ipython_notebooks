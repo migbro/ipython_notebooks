{
 "cells": [
  {
   "cell_type": "code",
   "execution_count": 1,
   "metadata": {},
   "outputs": [],
   "source": [
    "#!/usr/bin/env python3\n",
    "import sevenbridges as sbg\n",
    "from sevenbridges.errors import SbgError\n",
    "from sevenbridges.http.error_handlers import rate_limit_sleeper, maintenance_sleeper\n",
    "import sys\n",
    "import re\n",
    "import concurrent.futures\n",
    "import pdb\n",
    "config = sbg.Config(profile='turbo')\n",
    "api = sbg.Api(config=config, error_handlers=[rate_limit_sleeper, maintenance_sleeper])"
   ]
  },
  {
   "cell_type": "code",
   "execution_count": 2,
   "metadata": {},
   "outputs": [],
   "source": [
    "def get_refs(api, project):\n",
    "    ref_dict = {}\n",
    "    ref_dict['RNAseQC_GTF'] = api.files.query(project=project, names=['gencode.v27.primary_assembly.RNAseQC.gtf'])[0]\n",
    "    return ref_dict"
   ]
  },
  {
   "cell_type": "code",
   "execution_count": 3,
   "metadata": {},
   "outputs": [],
   "source": [
    "def setup_task(ref_obj, task, prefix):\n",
    "    if re.search(prefix, task.name):\n",
    "        # sys.stderr.write('Processing ' + task.name + '\\n')\n",
    "        try:\n",
    "            inputs = {}\n",
    "            for key in ref_obj:\n",
    "                inputs[key] = ref_obj[key]\n",
    "\n",
    "            parts = task.name.split()\n",
    "            task_name = 'CBTTC_RNASeQC_COUNTS: ' + parts[1] + ' ' + parts[2]\n",
    "            for j in range(len(out_keys)):\n",
    "                inputs[in_keys[j]] = task.outputs[out_keys[j]]\n",
    "            inputs['wf_strand_param'] = task.inputs['wf_strand_param']\n",
    "            rnaseqc_task = api.tasks.create(name=task_name, project=project, app=app_name, inputs=inputs, run=False)\n",
    "            rnaseqc_task.inputs['sample_name'] = rnaseqc_task.id\n",
    "            rnaseqc_task.save()\n",
    "            return rnaseqc_task.name + '\\t' + rnaseqc_task.id + '\\n'\n",
    "        except Exception as e:\n",
    "            sys.stderr.write('Got error ' + e + ' for task ' + task.id + ' ' + task.name + '\\n')\n",
    "            sys.exit(1)"
   ]
  },
  {
   "cell_type": "code",
   "execution_count": 4,
   "metadata": {},
   "outputs": [
    {
     "name": "stderr",
     "output_type": "stream",
     "text": [
      "50tasks set up\n",
      "100tasks set up\n",
      "150tasks set up\n",
      "200tasks set up\n",
      "250tasks set up\n",
      "300tasks set up\n",
      "350tasks set up\n",
      "400tasks set up\n",
      "450tasks set up\n",
      "500tasks set up\n",
      "550tasks set up\n",
      "600tasks set up\n",
      "650tasks set up\n",
      "700tasks set up\n",
      "750tasks set up\n",
      "800tasks set up\n",
      "850tasks set up\n",
      "900tasks set up\n",
      "950tasks set up\n",
      "1000tasks set up\n",
      "1050tasks set up\n"
     ]
    }
   ],
   "source": [
    "project = 'kfdrc-harmonization/sd-bhjxbdqk-06'\n",
    "app_name = project + '/temp-rnaseqc-only-wf'\n",
    "prefix = 'RNAfusion-'\n",
    "in_keys = ['genome_aligned_bam']\n",
    "out_keys = ['STAR_sorted_genomic_bam']\n",
    "tasks  = api.tasks.query(project=project, status='COMPLETED').all()\n",
    "# tasks = []\n",
    "# tasks.append(api.tasks.get('42ea7847-418a-4c2d-9b08-5a8cf6446cd5'))\n",
    "# tasks.append(api.tasks.get('879268d2-a158-4583-beb0-8352b0b9c6c0'))\n",
    "ref_obj = get_refs(api, project)\n",
    "i = 1\n",
    "n = 50\n",
    "out_fh = open('/Users/brownm28/Documents/2019-Jan-31_rna_fusion/rnaseqc_rpt/rnaseqc_tasks.txt', 'w')\n",
    "with concurrent.futures.ThreadPoolExecutor(8) as executor:\n",
    "    results = {executor.submit(setup_task, ref_obj, task, prefix): task for task in tasks}\n",
    "    for result in concurrent.futures.as_completed(results):\n",
    "        if result.result() is not None:\n",
    "            if i % n == 0:\n",
    "                sys.stderr.write(str(i) + 'tasks set up\\n')\n",
    "            i += 1\n",
    "            out_fh.write(result.result())\n",
    "out_fh.close()"
   ]
  },
  {
   "cell_type": "code",
   "execution_count": null,
   "metadata": {},
   "outputs": [],
   "source": [
    "## Copy metadata from old to new"
   ]
  },
  {
   "cell_type": "code",
   "execution_count": 2,
   "metadata": {},
   "outputs": [],
   "source": [
    "def cp_metadata(line):\n",
    "    try:\n",
    "        (tname, tid) = line.rstrip('\\n').split('\\t')\n",
    "        (app, bs_id, samp_id) = tname.split()\n",
    "        # pdb.set_trace()\n",
    "        outs = api.files.query(project=project, origin={\"task\":tid})\n",
    "        for out in outs:\n",
    "            for key in in_metadata[bs_id]:\n",
    "                out.metadata[key] = in_metadata[bs_id][key]\n",
    "            bulk_up.append(out)\n",
    "    except Exception as e:\n",
    "        sys.stderr.write(str(e) + '\\n')\n",
    "        sys.exit(1)"
   ]
  },
  {
   "cell_type": "code",
   "execution_count": 3,
   "metadata": {},
   "outputs": [
    {
     "name": "stderr",
     "output_type": "stream",
     "text": [
      "Processing 100 set\n",
      "9999 calls left\n",
      "Processing 200 set\n",
      "9998 calls left\n",
      "Processing 300 set\n",
      "9997 calls left\n",
      "Processing 400 set\n",
      "9996 calls left\n",
      "Processing 500 set\n",
      "9995 calls left\n",
      "Processing 600 set\n",
      "9994 calls left\n",
      "Processing 700 set\n",
      "9993 calls left\n",
      "Processing 800 set\n",
      "9992 calls left\n",
      "Processing 900 set\n",
      "9991 calls left\n",
      "Processing 1000 set\n",
      "9990 calls left\n",
      "Processing 1100 set\n",
      "9989 calls left\n",
      "9989 calls left\n",
      "50 outputs tagged, 9923 api calls left\n",
      "100 outputs tagged, 9873 api calls left\n",
      "150 outputs tagged, 9823 api calls left\n",
      "200 outputs tagged, 9773 api calls left\n",
      "250 outputs tagged, 9723 api calls left\n",
      "300 outputs tagged, 9672 api calls left\n",
      "350 outputs tagged, 9622 api calls left\n",
      "400 outputs tagged, 9573 api calls left\n",
      "450 outputs tagged, 9523 api calls left\n",
      "500 outputs tagged, 9473 api calls left\n",
      "550 outputs tagged, 9421 api calls left\n",
      "600 outputs tagged, 9371 api calls left\n",
      "650 outputs tagged, 9323 api calls left\n",
      "700 outputs tagged, 9273 api calls left\n",
      "750 outputs tagged, 9222 api calls left\n",
      "800 outputs tagged, 9173 api calls left\n",
      "850 outputs tagged, 9123 api calls left\n",
      "900 outputs tagged, 9072 api calls left\n",
      "950 outputs tagged, 9023 api calls left\n",
      "1000 outputs tagged, 8973 api calls left\n",
      "1050 outputs tagged, 8922 api calls left\n",
      "WARNING:urllib3.connectionpool:Connection pool is full, discarding connection: cavatica-api.sbgenomics.com\n",
      "WARNING:urllib3.connectionpool:Connection pool is full, discarding connection: cavatica-api.sbgenomics.com\n",
      "WARNING:urllib3.connectionpool:Connection pool is full, discarding connection: cavatica-api.sbgenomics.com\n",
      "WARNING:urllib3.connectionpool:Connection pool is full, discarding connection: cavatica-api.sbgenomics.com\n",
      "WARNING:urllib3.connectionpool:Connection pool is full, discarding connection: cavatica-api.sbgenomics.com\n",
      "WARNING:urllib3.connectionpool:Connection pool is full, discarding connection: cavatica-api.sbgenomics.com\n",
      "WARNING:urllib3.connectionpool:Connection pool is full, discarding connection: cavatica-api.sbgenomics.com\n",
      "Bulk updates queued\n"
     ]
    }
   ],
   "source": [
    "project = 'kfdrc-harmonization/sd-bhjxbdqk-06'\n",
    "old_manifest = open('/Users/brownm28/Documents/2019-Jan-31_rna_fusion/rnaseqc_rpt/1557340089978-manifest.csv')\n",
    "head = next(old_manifest)\n",
    "bulk_in = []\n",
    "for line in old_manifest:\n",
    "    info = line.rstrip('\\n').split(',')\n",
    "    bulk_in.append(info[0])\n",
    "in_metadata = {}\n",
    "max_j = 100\n",
    "total = len(bulk_in)\n",
    "for i in range(0, total, max_j):\n",
    "    uset = i + max_j\n",
    "    sys.stderr.write('Processing ' + str(uset) + ' set\\n')\n",
    "    if uset > total:\n",
    "        uset = total\n",
    "    subset = api.files.bulk_get(files=bulk_in[i:uset])\n",
    "    for obj in subset:\n",
    "        cur_meta = obj.resource.metadata\n",
    "        in_metadata[cur_meta['Kids First Biospecimen ID']] = cur_meta\n",
    "    sys.stderr.write(str(api.remaining) + ' calls left\\n')\n",
    "old_manifest.close()\n",
    "sys.stderr.write(str(api.remaining) + ' calls left\\n')\n",
    "task_manifest = open('/Users/brownm28/Documents/2019-Jan-31_rna_fusion/rnaseqc_rpt/rnaseqc_tasks.txt')\n",
    "bulk_up = []\n",
    "x = 1\n",
    "n = 50\n",
    "with concurrent.futures.ThreadPoolExecutor(16) as executor:\n",
    "    results = {executor.submit(cp_metadata, line): line for line in task_manifest}\n",
    "    for result in concurrent.futures.as_completed(results):\n",
    "        if x % n == 0:\n",
    "            sys.stderr.write(str(x) + ' outputs tagged, ' + str(api.remaining) + ' api calls left\\n')\n",
    "        x += 1\n",
    "\n",
    "# for line in task_manifest:\n",
    "#     cp_metadata(line)\n",
    "x = 1\n",
    "sys.stderr.write('Bulk updates queued\\n')\n",
    "max_j = 100\n",
    "total = len(bulk_up)\n",
    "for i in range(0, total, max_j):\n",
    "    uset = i + max_j\n",
    "    if uset > total:\n",
    "        uset = total\n",
    "    api.files.bulk_update(files=bulk_up[i:uset])\n"
   ]
  },
  {
   "cell_type": "markdown",
   "metadata": {},
   "source": [
    "## Check strand inputs"
   ]
  },
  {
   "cell_type": "code",
   "execution_count": 2,
   "metadata": {},
   "outputs": [],
   "source": [
    "project=\"kfdrc-harmonization/sd-bhjxbdqk-06\"\n",
    "prefix=\"RNAfusion-\"\n",
    "tasks = api.tasks.query(project=project, status=\"COMPLETED\").all()\n",
    "out = open('/Users/brownm28/Documents/2019-Jan-31_rna_fusion/strand_info/wf_strand_param_used.txt', 'w')\n",
    "out.write(\"Task name\\tBS_ID\\tSample name\\twf strand param\\n\")\n",
    "for task in tasks:\n",
    "    if re.search(prefix, task.name):\n",
    "        (tool, bs_id, s_id) = task.name.split(\" \")\n",
    "        out.write(task.name + \"\\t\" + bs_id + \"\\t\" + s_id + \"\\t\" + task.inputs['wf_strand_param'] + \"\\n\")\n",
    "out.close()"
   ]
  },
  {
   "cell_type": "code",
   "execution_count": null,
   "metadata": {},
   "outputs": [],
   "source": []
  }
 ],
 "metadata": {
  "kernelspec": {
   "display_name": "Python 3",
   "language": "python",
   "name": "python3"
  },
  "language_info": {
   "codemirror_mode": {
    "name": "ipython",
    "version": 3
   },
   "file_extension": ".py",
   "mimetype": "text/x-python",
   "name": "python",
   "nbconvert_exporter": "python",
   "pygments_lexer": "ipython3",
   "version": "3.7.3"
  }
 },
 "nbformat": 4,
 "nbformat_minor": 2
}
