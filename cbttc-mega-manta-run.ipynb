{
 "cells": [
  {
   "cell_type": "markdown",
   "metadata": {},
   "source": [
    "# General run section"
   ]
  },
  {
   "cell_type": "code",
   "execution_count": 28,
   "metadata": {},
   "outputs": [],
   "source": [
    "#!/usr/bin/env python3\n",
    "import sevenbridges as sbg\n",
    "import sys\n",
    "import os\n",
    "import pdb\n",
    "import concurrent.futures\n",
    "from requests import request\n",
    "from datetime import datetime\n",
    "config = sbg.Config(profile='cavatica')\n",
    "api = sbg.Api(config=config)\n",
    "uname = 'kfdrc-harmonization'\n",
    "batch1_id = 'sd-bhjxbdqk-07'\n",
    "batch2_id = 'sd-bhjxbdqk-08'\n",
    "cnmc_id = 'sd-bhjxbdqk-10'\n",
    "pnoc_id = 'sd-bhjxbdqk-09'\n",
    "batch1 = uname + '/' + batch1_id\n",
    "batch2 = uname + '/' + batch2_id\n",
    "cnmc = uname + '/' +  cnmc_id\n",
    "cnmc_friendly = 'cbttc-cnmc'\n",
    "pnoc = uname + '/' + pnoc_id\n",
    "pnoc_friendly = 'cbttc-pnoc'"
   ]
  },
  {
   "cell_type": "markdown",
   "metadata": {},
   "source": [
    "## Draft task setup section"
   ]
  },
  {
   "cell_type": "code",
   "execution_count": 11,
   "metadata": {},
   "outputs": [],
   "source": [
    "def get_relevant_file_objs(project):\n",
    "    # will hold all keys for reference inputs\n",
    "    ref_dict = {'hg38_strelka.bed.gz': 'ref_bed', 'Homo_sapiens_assembly38.fasta': 'reference'}\n",
    "    ref_obj_dict = {}\n",
    "    in_files = api.files.query(project=project, names=[list(ref_dict.keys())])\n",
    "    for in_file in in_files:\n",
    "        ref_obj_dict[ref_dict[in_file.name]] = in_file\n",
    "    # will hold all input reference objects\n",
    "    return ref_obj_dict"
   ]
  },
  {
   "cell_type": "code",
   "execution_count": 22,
   "metadata": {},
   "outputs": [],
   "source": [
    "def create_tasks(project, pid, friendly):\n",
    "    out_fn = out_dir + friendly + '_tasks.txt'\n",
    "    out_fh = open(out_fn, 'w')\n",
    "    tasks = api.tasks.query(project = project, status = 'COMPLETED').all()\n",
    "    x = 1\n",
    "    n = 20\n",
    "    with concurrent.futures.ThreadPoolExecutor(8) as executor:\n",
    "        results = {executor.submit(mt_create_tasks, ref_obj_dict, task, project, api, friendly): task for task in tasks}\n",
    "        for result in concurrent.futures.as_completed(results):\n",
    "            if x % n == 0:\n",
    "                sys.stderr.write('Processed ' + str(x) + ' tasks\\n')\n",
    "                sys.stderr.flush()\n",
    "            try:\n",
    "                if result.result()[1]:\n",
    "                    out_fh.write(result.result()[0])\n",
    "                else:\n",
    "                    sys.stderr.write(result.result()[0])\n",
    "            except Exception as e:\n",
    "                sys.stderr.write(e)\n",
    "                \n",
    "            x += 1\n",
    "    out_fh.close()\n"
   ]
  },
  {
   "cell_type": "code",
   "execution_count": 23,
   "metadata": {},
   "outputs": [],
   "source": [
    "def mt_create_tasks(ref_obj_dict, source_task, project, api, friendly_name):\n",
    "    app_name = project + '/kfdrc-manta-sv'\n",
    "    try:\n",
    "        if 'vep_annotated_maf' in source_task.outputs:\n",
    "            sys.stderr.write('Valid task found: ' + source_task.name + '\\n')\n",
    "            task_name = friendly_name + '-somatic-SV-' + source_task.inputs['tumor_id'] + '_' + source_task.inputs['normal_id']\n",
    "            input_dict = ref_obj_dict\n",
    "            input_dict['input_tumor_cram'] = api.files.get(id=source_task.inputs['tumor_cram'].id)\n",
    "            input_dict['input_normal_cram'] = api.files.get(id=source_task.inputs['normal_cram'].id)\n",
    "            cur_task = api.tasks.create(name=task_name, project=project, app=app_name, inputs=input_dict, run=False)\n",
    "            cur_task.inputs['output_basename'] = cur_task.id\n",
    "            cur_task.save()\n",
    "            return '\\t'.join((task_name, cur_task.id)) + '\\n', 1\n",
    "        else:\n",
    "            return 'Invalid info in task source task ' + source_task.name + '\\n', 0\n",
    "    except Exception as e:\n",
    "        print(e)\n",
    "        sys.stderr.write('Error processing ' + source_task.name)\n",
    "        exit(1)\n",
    "            "
   ]
  },
  {
   "cell_type": "code",
   "execution_count": 29,
   "metadata": {},
   "outputs": [
    {
     "name": "stderr",
     "output_type": "stream",
     "text": [
      "Valid task found: cbttc-dna-somatic-BS_6GS4XT7F_BS_CGXTFM67\n",
      "Valid task found: cbttc-dna-somatic-BS_MVYA262V_BS_3Z40EZHD\n",
      "Valid task found: cbttc-dna-somatic-BS_MVYA262V_BS_JRFVST47\n",
      "Valid task found: cbttc-dna-somatic-BS_HJ7HYZ7N_BS_J8EK6RNF\n",
      "Valid task found: cbttc-dna-somatic-BS_9H6Z0MEG_BS_M5FM63EB\n",
      "Valid task found: cbttc-dna-somatic-BS_9H6Z0MEG_BS_M0B42FPR\n",
      "Valid task found: cbttc-dna-somatic-BS_9H6Z0MEG_BS_9P4NDTKJ\n",
      "Valid task found: cbttc-dna-somatic-BS_E5RKHG41_BS_YZD4SSMA\n",
      "Invalid info in task source task alignment-BS_4PM2QG9C-rerun1Invalid info in task source task alignment-BS_X6H86RTAInvalid info in task source task alignment-BS_Z64NEPNEInvalid info in task source task alignment-BS_Y96RP1HJ-rerun1Invalid info in task source task alignment-BS_KQRAHH6YInvalid info in task source task alignment-BS_Y74XAFJX-rerun1Invalid info in task source task alignment-BS_0AK4F99XInvalid info in task source task alignment-BS_7GKF6M85-rerun1Invalid info in task source task alignment-BS_J8EH1N7VInvalid info in task source task alignment-BS_MVYA262V-Start-from-Gather_bamInvalid info in task source task alignment-BS_HYKV2TH9-rerun1Invalid info in task source task alignment-BS_CBMAWSARInvalid info in task source task alignment-BS_BQ81D2BP-rerun1Invalid info in task source task alignment-BS_ZSH09N84Invalid info in task source task alignment-BS_R6CKWZW6-rerun1Invalid info in task source task alignment-BS_VXDGXQKZInvalid info in task source task alignment-BS_8SYN7GXG-rerun1Invalid info in task source task alignment-BS_Q6GVRAWKInvalid info in task source task alignment-BS_TQ0J7WJQ-rerun1Processed 20 tasks\n",
      "Invalid info in task source task alignment-BS_XQF18WZPInvalid info in task source task alignment-BS_5968GBGTInvalid info in task source task alignment-BS_X5VN0FW0-rerun1Invalid info in task source task alignment-BS_EE73VE7VInvalid info in task source task alignment-BS_JD05XR6EInvalid info in task source task alignment-BS_E5RKHG41Invalid info in task source task alignment-BS_D6STCMQS-rerun1Invalid info in task source task alignment-BS_AF5D41PDInvalid info in task source task alignment-BS_HEJ72V3F-rerun1Invalid info in task source task alignment-BS_3VKW5988Invalid info in task source task alignment-BS_682Z7WH6Invalid info in task source task alignment-BS_7PF3C1P7Invalid info in task source task alignment-BS_22VCR7DFInvalid info in task source task alignment-BS_1Q524P3BInvalid info in task source task alignment-BS_YHXMYDBNInvalid info in task source task alignment-BS_38CD519ZInvalid info in task source task alignment-BS_DVDT4VXQInvalid info in task source task alignment-BS_4DYW3T2AInvalid info in task source task alignment-BS_0ATJ22QAInvalid info in task source task alignment-BS_AHAXPFG3Processed 40 tasks\n",
      "Invalid info in task source task alignment-BS_QFH9XM6QInvalid info in task source task alignment-BS_6JBE0947Invalid info in task source task alignment-BS_1MME7FBSInvalid info in task source task alignment-BS_B19AWBBWInvalid info in task source task alignment-BS_9P4NDTKJ-rerun1Invalid info in task source task alignment-BS_RWJ0571QInvalid info in task source task alignment-BS_CD7AXQM8Invalid info in task source task alignment-BS_NNFDFAFMInvalid info in task source task alignment-BS_YZD4SSMA-rerun1Invalid info in task source task alignment-BS_DRVEFVQ5Invalid info in task source task alignment-BS_M0B42FPRInvalid info in task source task alignment-BS_M5FM63EBInvalid info in task source task alignment-BS_J8EK6RNFInvalid info in task source task alignment-BS_JRFVST47Invalid info in task source task alignment-BS_3Z40EZHDInvalid info in task source task alignment-BS_29YQSB5EInvalid info in task source task alignment-BS_D48QXYW6Invalid info in task source task alignment-BS_STZ2C71QInvalid info in task source task alignment-BS_5Z0GA574Invalid info in task source task alignment-BS_BKCPNFZ5Processed 60 tasks\n",
      "Invalid info in task source task alignment-BS_SNRF1RKCInvalid info in task source task alignment-BS_9TSKXKGHInvalid info in task source task alignment-BS_Z370T42NInvalid info in task source task alignment-BS_NY9MPC8FInvalid info in task source task alignment-BS_36YFSGDXInvalid info in task source task alignment-BS_HJ7HYZ7NInvalid info in task source task alignment-BS_QPSQPDR8Invalid info in task source task alignment-BS_1GWZCWVGInvalid info in task source task alignment-BS_AK9BV52G-rerun4Invalid info in task source task alignment-BS_3PNWA7WTInvalid info in task source task alignment-BS_XNYQS1WG-rerun4Invalid info in task source task alignment-BS_Q7R8BT07Invalid info in task source task alignment-BS_XNYQS1WG-rerun3Invalid info in task source task alignment-BS_AK9BV52G-rerun3Invalid info in task source task alignment-BS_668350EZInvalid info in task source task alignment-BS_FK3B5SDH-rerun2Invalid info in task source task alignment-BS_6GS4XT7FInvalid info in task source task alignment-BS_H8NWA41N-rerun2Invalid info in task source task alignment-BS_QZRP3NSGInvalid info in task source task alignment-BS_CGXTFM67-rerun2Processed 80 tasks\n",
      "Invalid info in task source task alignment-BS_9H6Z0MEGInvalid info in task source task alignment-BS_4DQAQFQH-rerun1Invalid info in task source task alignment-BS_G65EA38C-rerun1Invalid info in task source task alignment-BS_Z3AB3KMP-rerun1Valid task found: cbttc-dna-somatic-BS_E5RKHG41_BS_NNFDFAFM\n",
      "Valid task found: cbttc-dna-somatic-BS_STZ2C71Q_BS_1MME7FBS\n",
      "Valid task found: cbttc-dna-somatic-BS_668350EZ_BS_AHAXPFG3\n",
      "Valid task found: cbttc-dna-somatic-BS_668350EZ_BS_HEJ72V3F\n",
      "Valid task found: cbttc-dna-somatic-BS_Q7R8BT07_BS_H8NWA41N\n",
      "Valid task found: cbttc-dna-somatic-BS_3PNWA7WT_BS_0ATJ22QA\n",
      "Valid task found: cbttc-dna-somatic-BS_3PNWA7WT_BS_DVDT4VXQ\n",
      "Valid task found: cbttc-dna-somatic-BS_3PNWA7WT_BS_YHXMYDBN\n",
      "Valid task found: cbttc-dna-somatic-BS_3PNWA7WT_BS_1Q524P3B\n",
      "Valid task found: cbttc-dna-somatic-BS_3PNWA7WT_BS_22VCR7DF\n",
      "Valid task found: cbttc-dna-somatic-BS_3PNWA7WT_BS_D6STCMQS\n",
      "Valid task found: cbttc-dna-somatic-BS_3PNWA7WT_BS_X5VN0FW0\n",
      "Valid task found: cbttc-dna-somatic-BS_3PNWA7WT_BS_AK9BV52G\n",
      "Valid task found: cbttc-dna-somatic-BS_QPSQPDR8_BS_7PF3C1P7\n",
      "Valid task found: cbttc-dna-somatic-BS_36YFSGDX_BS_TQ0J7WJQ\n",
      "Valid task found: cbttc-dna-somatic-BS_NY9MPC8F_BS_8SYN7GXG\n",
      "Valid task found: cbttc-dna-somatic-BS_Z370T42N_BS_FK3B5SDH\n",
      "Valid task found: cbttc-dna-somatic-BS_9TSKXKGH_BS_682Z7WH6\n",
      "Processed 100 tasks\n",
      "Valid task found: cbttc-dna-somatic-BS_9TSKXKGH_BS_R6CKWZW6\n",
      "Valid task found: cbttc-dna-somatic-BS_SNRF1RKC_BS_BQ81D2BP\n",
      "Valid task found: cbttc-dna-somatic-BS_SNRF1RKC_BS_3VKW5988\n",
      "Valid task found: cbttc-dna-somatic-BS_SNRF1RKC_BS_HYKV2TH9\n",
      "Valid task found: cbttc-dna-somatic-BS_SNRF1RKC_BS_AF5D41PD\n",
      "Valid task found: cbttc-dna-somatic-BS_SNRF1RKC_BS_EE73VE7V\n",
      "Valid task found: cbttc-dna-somatic-BS_SNRF1RKC_BS_5968GBGT\n",
      "Valid task found: cbttc-dna-somatic-BS_BKCPNFZ5_BS_7GKF6M85\n",
      "Valid task found: cbttc-dna-somatic-BS_D48QXYW6_BS_Q6GVRAWK\n",
      "Valid task found: cbttc-dna-somatic-BS_D48QXYW6_BS_VXDGXQKZ\n",
      "Valid task found: cbttc-dna-somatic-BS_29YQSB5E_BS_ZSH09N84\n",
      "Valid task found: cbttc-dna-somatic-BS_29YQSB5E_BS_CBMAWSAR\n",
      "Valid task found: cbttc-dna-somatic-BS_29YQSB5E_BS_J8EH1N7V\n",
      "Valid task found: cbttc-dna-somatic-BS_29YQSB5E_BS_Y74XAFJX\n",
      "Invalid info in task source task alignment-BS_XNYQS1WG-From-UnSort-bamProcessed 120 tasks\n"
     ]
    }
   ],
   "source": [
    "out_dir = '/Users/brownm28/Documents/2018-Dec-6_cbttc_manta_sv/'\n",
    "ref_obj_dict = get_relevant_file_objs(pnoc)\n",
    "create_tasks(pnoc, pnoc_id, pnoc_friendly)"
   ]
  },
  {
   "cell_type": "markdown",
   "metadata": {},
   "source": [
    "## Run this section only if ready to run tasks"
   ]
  },
  {
   "cell_type": "code",
   "execution_count": 30,
   "metadata": {},
   "outputs": [],
   "source": [
    "def mt_run_task(task_info, api, project):\n",
    "    try:\n",
    "        (name, task_id) = task_info.rstrip('\\n').split('\\t')\n",
    "        cur_task = api.tasks.get(id=task_id)\n",
    "        cur_task.run()\n",
    "        return task_info\n",
    "    except Exception as e:\n",
    "        sys.stderr.write(e)\n",
    "        sys.stderr.write('Task run failed for ' + name + '\\n')"
   ]
  },
  {
   "cell_type": "code",
   "execution_count": 31,
   "metadata": {},
   "outputs": [],
   "source": [
    "in_fn = out_dir + pnoc_friendly + '_tasks.txt'\n",
    "out_fh = open(out_dir + pnoc_friendly + '_run_sanity_check.txt', 'w')\n",
    "x = 1\n",
    "n = 50\n",
    "with concurrent.futures.ThreadPoolExecutor(8) as executor:\n",
    "        results = {executor.submit(mt_run_task, info, api, pnoc): info for info in open(in_fn)}\n",
    "        for result in concurrent.futures.as_completed(results):\n",
    "            if x % n == 0:\n",
    "                sys.stderr.write('Processed ' + str(x) + ' tasks\\n')\n",
    "                sys.stderr.flush()\n",
    "            out_fh.write(result.result())\n",
    "            x += 1\n",
    "out_fh.close()"
   ]
  },
  {
   "cell_type": "code",
   "execution_count": null,
   "metadata": {},
   "outputs": [],
   "source": []
  }
 ],
 "metadata": {
  "kernelspec": {
   "display_name": "Python 3",
   "language": "python",
   "name": "python3"
  },
  "language_info": {
   "codemirror_mode": {
    "name": "ipython",
    "version": 3
   },
   "file_extension": ".py",
   "mimetype": "text/x-python",
   "name": "python",
   "nbconvert_exporter": "python",
   "pygments_lexer": "ipython3",
   "version": "3.7.0"
  }
 },
 "nbformat": 4,
 "nbformat_minor": 2
}
