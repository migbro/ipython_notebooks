{
 "cells": [
  {
   "cell_type": "markdown",
   "metadata": {},
   "source": [
    "# Imports"
   ]
  },
  {
   "cell_type": "code",
   "execution_count": 1,
   "metadata": {},
   "outputs": [],
   "source": [
    "import sevenbridges as sbg\n",
    "from sevenbridges.errors import SbgError\n",
    "from sevenbridges.http.error_handlers import rate_limit_sleeper, maintenance_sleeper\n",
    "import sys\n",
    "from requests import request\n",
    "import concurrent.futures\n",
    "config = sbg.Config(profile='cavatica' )\n",
    "import pdb\n",
    "import re\n",
    "api = sbg.Api(config=config, error_handlers=[rate_limit_sleeper, maintenance_sleeper])"
   ]
  },
  {
   "cell_type": "code",
   "execution_count": 9,
   "metadata": {
    "slideshow": {
     "slide_type": "-"
    }
   },
   "outputs": [],
   "source": [
    "def get_relevant_file_objs(api, project, adapt_flag, strand):\n",
    "    ref_fn = {'STARgenome': 'STAR_GENCODE27.tar.gz',\n",
    "            'RSEMgenome': 'RSEM_GENCODE27.tar.gz',\n",
    "            'FusionGenome': 'GRCh38_v27_CTAT_lib_Feb092018.plug-n-play.tar.gz',\n",
    "            'reference_fasta': 'GRCh38.primary_assembly.genome.fa',\n",
    "            'RNAseQC_GTF': 'gencode.v27.primary_assembly.RNAseQC.gtf',\n",
    "            'gtf_anno': 'gencode.v27.primary_assembly.annotation.gtf',\n",
    "            'kallisto_idx': 'gencode.v27.kallisto.index',\n",
    "            'pizzly_transcript_ref': 'gencode.v27.transcripts.pizzly.fa.gz'}\n",
    "    ref_obj = {}\n",
    "    for in_name in ref_fn:\n",
    "        ref_obj[in_name] = api.files.query(project=project, names = [ref_fn[in_name]])[0]\n",
    "    #pdb.set_trace()\n",
    "    # set some static vars\n",
    "    ref_obj['runThread'] = 36\n",
    "    if adapt_flag == 1:\n",
    "        ref_obj['r1_adapter'] = 'AGATCGGAAGAGCACACGTCTGAACTCCAGTCA'\n",
    "        ref_obj['r2_adapter'] = 'AGATCGGAAGAGCGTCGTGTAGGGAAAGAGTGT'\n",
    "    else:\n",
    "        ref_obj['r1_adapter'] = None\n",
    "        ref_obj['r2_adapter'] = None\n",
    "    if strand is None:\n",
    "        ref_obj['wf_strand_param'] = None\n",
    "    else:\n",
    "        ref_obj['wf_strand_param'] = strand\n",
    "    return ref_obj\n"
   ]
  },
  {
   "cell_type": "code",
   "execution_count": 10,
   "metadata": {},
   "outputs": [],
   "source": [
    "def setup_task(api, ref_dict, info, uproject):\n",
    "    try:\n",
    "        in_dict = {}\n",
    "        for key in ref_dict:\n",
    "            in_dict[key] = ref_dict[key]\n",
    "        \n",
    "        file_data = info.rstrip('\\n').split('\\t')\n",
    "        # uproject = file_data[2]\n",
    "        sname = file_data[8]\n",
    "        aliquot = file_data[16]\n",
    "        bs_id = file_data[12]\n",
    "        task_name = 'RNAfusion-BAM_INPUT: ' + bs_id + ' ' + sname\n",
    "        app_name = uproject + '/kfdrc-rnaseq-wf-bam-in'\n",
    "        star_rg = 'ID:' + sname + '\\tLB:' + aliquot + '\\tPL:ILLUMINA\\tSM:' + bs_id\n",
    "        in_dict['input_bam'] = api.files.get(id=file_data[0])\n",
    "        in_dict['STAR_outSAMattrRGline'] = star_rg\n",
    "        task = api.tasks.create(name=task_name, project=uproject, app=app_name, inputs=in_dict, run=False)\n",
    "        task.inputs['sample_name'] = task.id\n",
    "        task.save()\n",
    "        return '\\t'.join((task_name, task.id)) + '\\n'\n",
    "    except Exception as e:\n",
    "        sys.stderr.write(str(e) + '\\n')\n",
    "        sys.stderr.write('Failed to create task for ' + task_name + '\\n')\n",
    "        exit()\n",
    "    "
   ]
  },
  {
   "cell_type": "code",
   "execution_count": 11,
   "metadata": {},
   "outputs": [
    {
     "name": "stderr",
     "output_type": "stream",
     "text": [
      "50tasks set up\n",
      "100tasks set up\n",
      "150tasks set up\n",
      "200tasks set up\n",
      "250tasks set up\n",
      "300tasks set up\n",
      "350tasks set up\n",
      "400tasks set up\n",
      "450tasks set up\n",
      "500tasks set up\n",
      "550tasks set up\n",
      "600tasks set up\n",
      "650tasks set up\n",
      "700tasks set up\n",
      "750tasks set up\n",
      "800tasks set up\n",
      "850tasks set up\n",
      "900tasks set up\n",
      "950tasks set up\n",
      "1000tasks set up\n"
     ]
    }
   ],
   "source": [
    "pname = 'kfdrc-harmonization/sd-bhjxbdqk-06'\n",
    "strand = 'rf-stranded'\n",
    "ref_obj = get_relevant_file_objs(api, pname, 0, strand)\n",
    "\n",
    "out_fh = open('/Users/brownm28/Documents/2019-Jan-31_rna_fusion/run_info/2019-Mar-4_re-run/2019-Mar-4_nant_tasks.txt', 'w')\n",
    "input_metadata = open('/Users/brownm28/Documents/2019-Jan-31_rna_fusion/run_info/2019-Mar-4_re-run/2019-Mar-4_nant_bam_in.txt')\n",
    "head = next(input_metadata)\n",
    "#for metadata in input_metadata:\n",
    "#    setup_task(api, ref_obj, metadata)\n",
    "i = 1\n",
    "n = 50\n",
    "with concurrent.futures.ThreadPoolExecutor(8) as executor:\n",
    "    results = {executor.submit(setup_task, api, ref_obj, metadata, pname): metadata for metadata in input_metadata}\n",
    "    for result in concurrent.futures.as_completed(results):\n",
    "        if i % n == 0:\n",
    "            sys.stderr.write(str(i) + 'tasks set up\\n')\n",
    "        i += 1\n",
    "        out_fh.write(result.result())\n",
    "out_fh.close()"
   ]
  },
  {
   "cell_type": "markdown",
   "metadata": {},
   "source": [
    "## Run tasks set up from above"
   ]
  },
  {
   "cell_type": "code",
   "execution_count": 6,
   "metadata": {},
   "outputs": [],
   "source": [
    "def run_task_by_id(api, info):\n",
    "    try:\n",
    "        (task_id, tname) = info.rstrip('\\n').split('\\t')\n",
    "        task = api.tasks.get(id=task_id)\n",
    "        task.run()\n",
    "    except Exception as e:\n",
    "        sys.stderr.write(str(e) + '\\n')\n",
    "        sys.stderr.write('Could not start task ' + info)\n",
    "        exit(1)"
   ]
  },
  {
   "cell_type": "code",
   "execution_count": 7,
   "metadata": {},
   "outputs": [
    {
     "name": "stdout",
     "output_type": "stream",
     "text": [
      "YASS\n"
     ]
    }
   ],
   "source": [
    "check = input()\n",
    "if check == 'YASS':\n",
    "    task_file = open('/Users/brownm28/Documents/2019-Jan-31_rna_fusion/run_info/fail-rerun/2019-Mar-11_fail_repeat_tasks.txt')\n",
    "    with concurrent.futures.ThreadPoolExecutor(8) as executor:\n",
    "        results = {executor.submit(run_task_by_id, api, task_info): task_info for task_info in task_file}"
   ]
  },
  {
   "cell_type": "markdown",
   "metadata": {},
   "source": [
    "## Check running tasks"
   ]
  },
  {
   "cell_type": "code",
   "execution_count": 22,
   "metadata": {},
   "outputs": [],
   "source": [
    "import pdb\n",
    "pname = 'kfdrc-harmonization/sd-bhjxbdqk-06'\n",
    "# pname = 'kfdrc-harmonization/sd-preasa7s'\n",
    "tasks = api.tasks.query(project=pname, status='FAILED').all()\n",
    "out_fn = '/Users/brownm28/Documents/2019-Jan-31_rna_fusion/run_info/status/failed_update.txt'\n",
    "#out_fn = '/Users/brownm28/Documents/2019-Jan-30_reharmonization/seidman_fy15/completed_update.txt'\n",
    "out_fh = open(out_fn, 'w')\n",
    "out_fh.write('task id\\ttask name\\tdate_created\\tcompleted steps\\tmessage code\\tmessage\\n')\n",
    "for task in tasks:\n",
    "    step = task.execution_status.steps_completed\n",
    "    if step is None:\n",
    "        step = 'NA'\n",
    "    else:\n",
    "        step = str(step)\n",
    "    ecode = task.execution_status.message_code\n",
    "    if task.execution_status.message_code is None:\n",
    "        ecode = 'NA'\n",
    "    try:\n",
    "        msg = task.execution_status.message\n",
    "        msg = msg.replace('\\n', ' ')\n",
    "        out_fh.write('\\t'.join((task.id, task.name, str(task.start_time), step, ecode, msg)) + '\\n')\n",
    "    except:\n",
    "        pdb.set_trace()\n",
    "        hold = 1\n",
    "out_fh.close()"
   ]
  },
  {
   "cell_type": "code",
   "execution_count": 14,
   "metadata": {},
   "outputs": [
    {
     "name": "stdout",
     "output_type": "stream",
     "text": [
      "--Return--\n",
      "> <ipython-input-14-788d70090019>(2)<module>()->None\n",
      "-> pdb.set_trace()\n",
      "(Pdb) p dir(task)\n",
      "['_API', '_URL', '__class__', '__delattr__', '__dict__', '__dir__', '__doc__', '__eq__', '__format__', '__ge__', '__getattribute__', '__gt__', '__hash__', '__init__', '__init_subclass__', '__le__', '__lt__', '__module__', '__ne__', '__new__', '__reduce__', '__reduce_ex__', '__repr__', '__setattr__', '__sizeof__', '__str__', '__subclasshook__', '__weakref__', '_api', '_data', '_dirty', '_fields', '_modified_data', '_old', '_query', '_serialize_input_list', '_serialize_inputs', '_to_api_file_format', 'abort', 'app', 'batch', 'batch_by', 'batch_group', 'batch_input', 'bulk_get', 'clone', 'create', 'created_by', 'created_time', 'deepcopy', 'delete', 'description', 'end_time', 'equals', 'errors', 'executed_by', 'execution_status', 'field', 'get', 'get_batch_children', 'get_execution_details', 'href', 'id', 'inputs', 'name', 'outputs', 'parent', 'price', 'project', 'query', 'reload', 'run', 'save', 'start_time', 'status', 'type', 'use_interruptible_instances', 'warnings']\n",
      "(Pdb) p task.create\n",
      "<bound method Task.create of <class 'sevenbridges.models.task.Task'>>\n",
      "(Pdb) p task.created_time\n",
      "datetime.datetime(2019, 2, 4, 19, 45, 34)\n",
      "(Pdb) p datetime.date(task.created_time)\n",
      "*** NameError: name 'datetime' is not defined\n",
      "(Pdb) import datetime\n",
      "(Pdb) p datetime.date(task.created_time)\n",
      "*** TypeError: an integer is required (got type datetime.datetime)\n",
      "(Pdb) p dir(task.create_task)\n",
      "*** AttributeError: 'Task' object has no attribute 'create_task'\n",
      "(Pdb) p dir(task.create_time)\n",
      "*** AttributeError: 'Task' object has no attribute 'create_time'\n",
      "(Pdb) p dir(task.created_time)\n",
      "['__add__', '__class__', '__delattr__', '__dir__', '__doc__', '__eq__', '__format__', '__ge__', '__getattribute__', '__gt__', '__hash__', '__init__', '__init_subclass__', '__le__', '__lt__', '__ne__', '__new__', '__radd__', '__reduce__', '__reduce_ex__', '__repr__', '__rsub__', '__setattr__', '__sizeof__', '__str__', '__sub__', '__subclasshook__', 'astimezone', 'combine', 'ctime', 'date', 'day', 'dst', 'fold', 'fromisoformat', 'fromordinal', 'fromtimestamp', 'hour', 'isocalendar', 'isoformat', 'isoweekday', 'max', 'microsecond', 'min', 'minute', 'month', 'now', 'replace', 'resolution', 'second', 'strftime', 'strptime', 'time', 'timestamp', 'timetuple', 'timetz', 'today', 'toordinal', 'tzinfo', 'tzname', 'utcfromtimestamp', 'utcnow', 'utcoffset', 'utctimetuple', 'weekday', 'year']\n",
      "(Pdb) p task.created_time.date\n",
      "<built-in method date of datetime.datetime object at 0x10bea5120>\n",
      "(Pdb) p task.created_time.date()\n",
      "datetime.date(2019, 2, 4)\n",
      "(Pdb) p str(task.created_time.date())\n",
      "'2019-02-04'\n",
      "(Pdb) q\n"
     ]
    },
    {
     "ename": "BdbQuit",
     "evalue": "",
     "output_type": "error",
     "traceback": [
      "\u001b[0;31m---------------------------------------------------------------------------\u001b[0m",
      "\u001b[0;31mBdbQuit\u001b[0m                                   Traceback (most recent call last)",
      "\u001b[0;32m<ipython-input-14-788d70090019>\u001b[0m in \u001b[0;36m<module>\u001b[0;34m()\u001b[0m\n\u001b[1;32m      1\u001b[0m \u001b[0mtask\u001b[0m \u001b[0;34m=\u001b[0m \u001b[0mapi\u001b[0m\u001b[0;34m.\u001b[0m\u001b[0mtasks\u001b[0m\u001b[0;34m.\u001b[0m\u001b[0mget\u001b[0m\u001b[0;34m(\u001b[0m\u001b[0mid\u001b[0m\u001b[0;34m=\u001b[0m\u001b[0;34m'5c2b3aab-f993-4a3e-ad68-28ff85c736f2'\u001b[0m\u001b[0;34m)\u001b[0m\u001b[0;34m\u001b[0m\u001b[0m\n\u001b[0;32m----> 2\u001b[0;31m \u001b[0mpdb\u001b[0m\u001b[0;34m.\u001b[0m\u001b[0mset_trace\u001b[0m\u001b[0;34m(\u001b[0m\u001b[0;34m)\u001b[0m\u001b[0;34m\u001b[0m\u001b[0m\n\u001b[0m\u001b[1;32m      3\u001b[0m \u001b[0mhold\u001b[0m \u001b[0;34m=\u001b[0m \u001b[0;36m1\u001b[0m\u001b[0;34m\u001b[0m\u001b[0m\n",
      "\u001b[0;32m/anaconda3/lib/python3.7/bdb.py\u001b[0m in \u001b[0;36mtrace_dispatch\u001b[0;34m(self, frame, event, arg)\u001b[0m\n\u001b[1;32m     90\u001b[0m             \u001b[0;32mreturn\u001b[0m \u001b[0mself\u001b[0m\u001b[0;34m.\u001b[0m\u001b[0mdispatch_call\u001b[0m\u001b[0;34m(\u001b[0m\u001b[0mframe\u001b[0m\u001b[0;34m,\u001b[0m \u001b[0marg\u001b[0m\u001b[0;34m)\u001b[0m\u001b[0;34m\u001b[0m\u001b[0m\n\u001b[1;32m     91\u001b[0m         \u001b[0;32mif\u001b[0m \u001b[0mevent\u001b[0m \u001b[0;34m==\u001b[0m \u001b[0;34m'return'\u001b[0m\u001b[0;34m:\u001b[0m\u001b[0;34m\u001b[0m\u001b[0m\n\u001b[0;32m---> 92\u001b[0;31m             \u001b[0;32mreturn\u001b[0m \u001b[0mself\u001b[0m\u001b[0;34m.\u001b[0m\u001b[0mdispatch_return\u001b[0m\u001b[0;34m(\u001b[0m\u001b[0mframe\u001b[0m\u001b[0;34m,\u001b[0m \u001b[0marg\u001b[0m\u001b[0;34m)\u001b[0m\u001b[0;34m\u001b[0m\u001b[0m\n\u001b[0m\u001b[1;32m     93\u001b[0m         \u001b[0;32mif\u001b[0m \u001b[0mevent\u001b[0m \u001b[0;34m==\u001b[0m \u001b[0;34m'exception'\u001b[0m\u001b[0;34m:\u001b[0m\u001b[0;34m\u001b[0m\u001b[0m\n\u001b[1;32m     94\u001b[0m             \u001b[0;32mreturn\u001b[0m \u001b[0mself\u001b[0m\u001b[0;34m.\u001b[0m\u001b[0mdispatch_exception\u001b[0m\u001b[0;34m(\u001b[0m\u001b[0mframe\u001b[0m\u001b[0;34m,\u001b[0m \u001b[0marg\u001b[0m\u001b[0;34m)\u001b[0m\u001b[0;34m\u001b[0m\u001b[0m\n",
      "\u001b[0;32m/anaconda3/lib/python3.7/bdb.py\u001b[0m in \u001b[0;36mdispatch_return\u001b[0;34m(self, frame, arg)\u001b[0m\n\u001b[1;32m    152\u001b[0m             \u001b[0;32mfinally\u001b[0m\u001b[0;34m:\u001b[0m\u001b[0;34m\u001b[0m\u001b[0m\n\u001b[1;32m    153\u001b[0m                 \u001b[0mself\u001b[0m\u001b[0;34m.\u001b[0m\u001b[0mframe_returning\u001b[0m \u001b[0;34m=\u001b[0m \u001b[0;32mNone\u001b[0m\u001b[0;34m\u001b[0m\u001b[0m\n\u001b[0;32m--> 154\u001b[0;31m             \u001b[0;32mif\u001b[0m \u001b[0mself\u001b[0m\u001b[0;34m.\u001b[0m\u001b[0mquitting\u001b[0m\u001b[0;34m:\u001b[0m \u001b[0;32mraise\u001b[0m \u001b[0mBdbQuit\u001b[0m\u001b[0;34m\u001b[0m\u001b[0m\n\u001b[0m\u001b[1;32m    155\u001b[0m             \u001b[0;31m# The user issued a 'next' or 'until' command.\u001b[0m\u001b[0;34m\u001b[0m\u001b[0;34m\u001b[0m\u001b[0m\n\u001b[1;32m    156\u001b[0m             \u001b[0;32mif\u001b[0m \u001b[0mself\u001b[0m\u001b[0;34m.\u001b[0m\u001b[0mstopframe\u001b[0m \u001b[0;32mis\u001b[0m \u001b[0mframe\u001b[0m \u001b[0;32mand\u001b[0m \u001b[0mself\u001b[0m\u001b[0;34m.\u001b[0m\u001b[0mstoplineno\u001b[0m \u001b[0;34m!=\u001b[0m \u001b[0;34m-\u001b[0m\u001b[0;36m1\u001b[0m\u001b[0;34m:\u001b[0m\u001b[0;34m\u001b[0m\u001b[0m\n",
      "\u001b[0;31mBdbQuit\u001b[0m: "
     ]
    }
   ],
   "source": [
    "task = api.tasks.get(id='5c2b3aab-f993-4a3e-ad68-28ff85c736f2')\n",
    "pdb.set_trace()\n",
    "hold = 1"
   ]
  },
  {
   "cell_type": "markdown",
   "metadata": {},
   "source": [
    "### delete old outputs!"
   ]
  },
  {
   "cell_type": "code",
   "execution_count": 8,
   "metadata": {},
   "outputs": [],
   "source": [
    "def del_task_outputs(prefix, task):\n",
    "    if re.search(prefix, task.name):\n",
    "        sys.stderr.write('Deleting outputs from ' + task.name + '\\n')\n",
    "        for key in task.outputs:\n",
    "            try:\n",
    "                res = ''\n",
    "                if task.outputs[key] is not None:\n",
    "                    res += 'Deleting ' + task.outputs[key].name + ' from ' + task.name + '\\n'\n",
    "                    task.outputs[key].delete()\n",
    "                else:\n",
    "                    res += key + ' was null for ' + task.name + '\\n'\n",
    "                \n",
    "            except Exception as e:\n",
    "                sys.stderr.write(str(e) + '\\n')\n",
    "                sys.stderr.write('Could not delete output ' + key + ' from task ' + task.name + '\\n')\n",
    "        return res\n",
    "                    "
   ]
  },
  {
   "cell_type": "code",
   "execution_count": 9,
   "metadata": {},
   "outputs": [
    {
     "name": "stdout",
     "output_type": "stream",
     "text": [
      "YASS\n"
     ]
    },
    {
     "name": "stderr",
     "output_type": "stream",
     "text": [
      "Delete process confirmed!\n",
      "Deleting outputs from RNAfusion-BAM_INPUT: BS_0448A413 7316-364\n",
      "Deleting outputs from RNAfusion-BAM_INPUT: BS_06XH7EVF 7316-879\n",
      "Deleting outputs from RNAfusion-BAM_INPUT: BS_07ANYSYQ 7316-2134\n",
      "Deleting outputs from RNAfusion-BAM_INPUT: BS_08HWDBX5 7316-1112\n",
      "Deleting outputs from RNAfusion-BAM_INPUT: BS_0HW7W7SD 7316-2658\n",
      "Deleting outputs from RNAfusion-BAM_INPUT: BS_0QYS36NR 7316-455\n",
      "Deleting outputs from RNAfusion-BAM_INPUT: BS_0RF0EZTV 7316-286\n",
      "Deleting outputs from RNAfusion-BAM_INPUT: BS_0RQ4P069 7316-1746\n",
      "Deleting outputs from RNAfusion-BAM_INPUT: BS_0X9EGHY2 7316-1744\n",
      "Deleting outputs from RNAfusion-BAM_INPUT: BS_10APZRVT 7316-877\n",
      "Deleting outputs from RNAfusion-BAM_INPUT: BS_17WYVEEC 7316-332\n",
      "Deleting outputs from RNAfusion-BAM_INPUT: BS_1EBQ3T20 7316-913\n",
      "Deleting outputs from RNAfusion-BAM_INPUT: BS_0C7VZC0A 7316-2176\n",
      "Deleting outputs from RNAfusion-BAM_INPUT: BS_0RF0EZTV 7316-286\n",
      "Deleting outputs from RNAfusion-BAM_INPUT: BS_3MS8WVNR 7316-519\n",
      "Deleting outputs from RNAfusion-BAM_INPUT: BS_4FZS7TX4 7316-160\n",
      "Deleting outputs from RNAfusion-BAM_INPUT: BS_53M8PP88 7316-1784\n",
      "Deleting outputs from RNAfusion-BAM_INPUT: BS_5P3CZQV8 7316-3558\n",
      "Deleting outputs from RNAfusion-BAM_INPUT: BS_8SKZ7BRN 7316-93\n",
      "Deleting outputs from RNAfusion-BAM_INPUT: BS_9HA238XS 7316-497\n",
      "Deleting outputs from RNAfusion-BAM_INPUT: BS_9RT63JD9 7316-851\n",
      "Deleting outputs from RNAfusion-BAM_INPUT: BS_A3QZB9Y2 7316-901\n",
      "Deleting outputs from RNAfusion-BAM_INPUT: BS_AGTPCRR4 7316-394\n",
      "Deleting outputs from RNAfusion-BAM_INPUT: BS_E4QK839R 7316-167\n",
      "Deleting outputs from RNAfusion-BAM_INPUT: BS_EBMCTR80 7316-1845\n",
      "Deleting outputs from RNAfusion-BAM_INPUT: BS_EMYET8F4 7316-2966\n",
      "Deleting outputs from RNAfusion-BAM_INPUT: BS_FQX1PRAJ 7316-2166\n",
      "Deleting outputs from RNAfusion-BAM_INPUT: BS_GBMFAPTR 7316-3307\n",
      "WARNING:urllib3.connectionpool:Connection pool is full, discarding connection: cavatica-api.sbgenomics.com\n",
      "WARNING:urllib3.connectionpool:Connection pool is full, discarding connection: cavatica-api.sbgenomics.com\n",
      "WARNING:urllib3.connectionpool:Connection pool is full, discarding connection: cavatica-api.sbgenomics.com\n",
      "WARNING:urllib3.connectionpool:Connection pool is full, discarding connection: cavatica-api.sbgenomics.com\n",
      "WARNING:urllib3.connectionpool:Connection pool is full, discarding connection: cavatica-api.sbgenomics.com\n",
      "WARNING:urllib3.connectionpool:Connection pool is full, discarding connection: cavatica-api.sbgenomics.com\n",
      "WARNING:urllib3.connectionpool:Connection pool is full, discarding connection: cavatica-api.sbgenomics.com\n",
      "WARNING:urllib3.connectionpool:Connection pool is full, discarding connection: cavatica-api.sbgenomics.com\n",
      "WARNING:urllib3.connectionpool:Connection pool is full, discarding connection: cavatica-api.sbgenomics.com\n",
      "WARNING:urllib3.connectionpool:Connection pool is full, discarding connection: cavatica-api.sbgenomics.com\n",
      "Deleting outputs from RNAfusion-BAM_INPUT: BS_GM9Y3AZ5 7316-477\n",
      "Deleting outputs from RNAfusion-BAM_INPUT: BS_JXNZYGCR 7316-480\n",
      "Deleting outputs from RNAfusion-BAM_INPUT: BS_K2FHZGTK 7316-2732\n",
      "Deleting outputs from RNAfusion-BAM_INPUT: BS_K3ER45RV 7316-3025\n",
      "Deleting outputs from RNAfusion-BAM_INPUT: BS_K74PZET7 7316-3774\n",
      "Deleting outputs from RNAfusion-BAM_INPUT: BS_KF0ZXDER 7316-2191\n",
      "WARNING:urllib3.connectionpool:Connection pool is full, discarding connection: cavatica-api.sbgenomics.com\n",
      "WARNING:urllib3.connectionpool:Connection pool is full, discarding connection: cavatica-api.sbgenomics.com\n",
      "WARNING:urllib3.connectionpool:Connection pool is full, discarding connection: cavatica-api.sbgenomics.com\n",
      "Deleting outputs from RNAfusion-BAM_INPUT: BS_M1T1K5WV 7316-2278\n",
      "Deleting outputs from RNAfusion-BAM_INPUT: BS_MMNRZ1EQ 7316-2141\n",
      "Deleting outputs from RNAfusion-BAM_INPUT: BS_NDRDM2A9 7316-240\n",
      "Deleting outputs from RNAfusion-BAM_INPUT: BS_NN672T8M 7316-930\n",
      "Deleting outputs from RNAfusion-BAM_INPUT: BS_NQFH3GZH 7316-853\n",
      "Deleting outputs from RNAfusion-BAM_INPUT: BS_QV367NEX 7316-547\n",
      "Deleting outputs from RNAfusion-BAM_INPUT: BS_SAA624A4 7316-2144\n",
      "Deleting outputs from RNAfusion-BAM_INPUT: BS_TMA4BBSE 7316-444\n",
      "Deleting outputs from RNAfusion-BAM_INPUT: BS_V6WWJKHS 7316-94\n",
      "Deleting outputs from RNAfusion-BAM_INPUT: BS_VNK9XYV9 7316-1950\n",
      "WARNING:urllib3.connectionpool:Connection pool is full, discarding connection: cavatica-api.sbgenomics.com\n",
      "WARNING:urllib3.connectionpool:Connection pool is full, discarding connection: cavatica-api.sbgenomics.com\n",
      "Deleting outputs from RNAfusion-BAM_INPUT: BS_WE3Q8A73 7316-1654\n",
      "Deleting outputs from RNAfusion-BAM_INPUT: BS_ZN8136D9 7316-197\n",
      "Deleting outputs from RNAfusion-BAM_INPUT-RERUN: BS_K2FHZGTK 7316-2732\n",
      "Deleting outputs from RNAfusion-BAM_INPUT-RERUN: BS_V6WWJKHS 7316-94\n",
      "Deleting outputs from RNAfusion-BAM_INPUT-RERUN: BS_ZN8136D9 7316-197\n",
      "Deleting outputs from RNAfusion-BAM_INPUT-RERUN: BS_WE3Q8A73 7316-1654\n",
      "Deleting outputs from RNAfusion-BAM_INPUT-RERUN: BS_TMA4BBSE 7316-444\n",
      "Deleting outputs from RNAfusion-BAM_INPUT-RERUN: BS_QV367NEX 7316-547\n",
      "Deleting outputs from RNAfusion-BAM_INPUT-RERUN: BS_NN672T8M 7316-930\n",
      "Deleting outputs from RNAfusion-BAM_INPUT-RERUN: BS_NQFH3GZH 7316-853\n",
      "Deleting outputs from RNAfusion-BAM_INPUT-RERUN: BS_NDRDM2A9 7316-240\n",
      "Deleting outputs from RNAfusion-BAM_INPUT-RERUN: BS_MMNRZ1EQ 7316-2141\n",
      "Deleting outputs from RNAfusion-BAM_INPUT-RERUN: BS_M1T1K5WV 7316-2278\n",
      "Deleting outputs from RNAfusion-BAM_INPUT-RERUN: BS_K74PZET7 7316-3774\n",
      "Deleting outputs from RNAfusion-BAM_INPUT-RERUN: BS_KF0ZXDER 7316-2191\n",
      "Deleting outputs from RNAfusion-BAM_INPUT-RERUN: BS_GBMFAPTR 7316-3307\n",
      "Deleting outputs from RNAfusion-BAM_INPUT-RERUN: BS_FQX1PRAJ 7316-2166\n",
      "Deleting outputs from RNAfusion-BAM_INPUT-RERUN: BS_E4QK839R 7316-167\n",
      "Deleting outputs from RNAfusion-BAM_INPUT-RERUN: BS_AGTPCRR4 7316-394\n",
      "Deleting outputs from RNAfusion-BAM_INPUT-RERUN: BS_A3QZB9Y2 7316-901\n",
      "Deleting outputs from RNAfusion-BAM_INPUT-RERUN: BS_9RT63JD9 7316-851\n",
      "Deleting outputs from RNAfusion-BAM_INPUT-RERUN: BS_9HA238XS 7316-497\n",
      "Deleting outputs from RNAfusion-BAM_INPUT-RERUN: BS_8SKZ7BRN 7316-93\n",
      "Deleting outputs from RNAfusion-BAM_INPUT-RERUN: BS_5P3CZQV8 7316-3558\n",
      "Deleting outputs from RNAfusion-BAM_INPUT-RERUN: BS_0RF0EZTV 7316-286\n",
      "Deleting outputs from RNAfusion-BAM_INPUT-RERUN: BS_0C7VZC0A 7316-2176\n",
      "WARNING:urllib3.connectionpool:Connection pool is full, discarding connection: cavatica-api.sbgenomics.com\n",
      "WARNING:urllib3.connectionpool:Connection pool is full, discarding connection: cavatica-api.sbgenomics.com\n",
      "WARNING:urllib3.connectionpool:Connection pool is full, discarding connection: cavatica-api.sbgenomics.com\n",
      "WARNING:urllib3.connectionpool:Connection pool is full, discarding connection: cavatica-api.sbgenomics.com\n",
      "WARNING:urllib3.connectionpool:Connection pool is full, discarding connection: cavatica-api.sbgenomics.com\n",
      "WARNING:urllib3.connectionpool:Connection pool is full, discarding connection: cavatica-api.sbgenomics.com\n",
      "WARNING:urllib3.connectionpool:Connection pool is full, discarding connection: cavatica-api.sbgenomics.com\n",
      "WARNING:urllib3.connectionpool:Connection pool is full, discarding connection: cavatica-api.sbgenomics.com\n",
      "WARNING:urllib3.connectionpool:Connection pool is full, discarding connection: cavatica-api.sbgenomics.com\n"
     ]
    }
   ],
   "source": [
    "check = input()\n",
    "if check != 'YASS':\n",
    "    sys.stderr.write('Confirmation was not YASS, exiting\\n')\n",
    "else:\n",
    "    sys.stderr.write('Delete process confirmed!\\n')\n",
    "    project = 'kfdrc-harmonization/sd-bhjxbdqk-06'\n",
    "    tasks = api.tasks.query(project=project, status='FAILED').all()\n",
    "    prefix = 'RNAfusion-'\n",
    "    del_log = open('/Users/brownm28/Documents/2019-Jan-31_rna_fusion/run_info/2019-Mar-11_del_failed_outputs.log', 'a')\n",
    "    # for task in tasks:\n",
    "    #     del_task_outputs(prefix, task)\n",
    "    with concurrent.futures.ThreadPoolExecutor(16) as executor:\n",
    "        results = {executor.submit(del_task_outputs, prefix, task): task for task in tasks}\n",
    "        for del_info in concurrent.futures.as_completed(results):\n",
    "            try:\n",
    "                if del_info.result() is not None:\n",
    "                    del_log.write(del_info.result())\n",
    "                    del_log.flush()\n",
    "            except Exception as e:\n",
    "                print (e)\n",
    "    del_log.close()\n",
    "\n"
   ]
  },
  {
   "cell_type": "markdown",
   "metadata": {},
   "source": [
    "## re-run fail task"
   ]
  },
  {
   "cell_type": "code",
   "execution_count": 5,
   "metadata": {},
   "outputs": [
    {
     "name": "stdout",
     "output_type": "stream",
     "text": [
      "YASS\n"
     ]
    }
   ],
   "source": [
    "check = input()\n",
    "if check != 'YASS':\n",
    "    exit(1)\n",
    "project = 'kfdrc-harmonization/sd-bhjxbdqk-06'\n",
    "task_rpt = open('/Users/brownm28/Documents/2019-Jan-31_rna_fusion/run_info/fail-rerun/2019-Mar-11_fail_rerun.txt')\n",
    "app_name = project + '/kfdrc-rnaseq-wf-bam-in'\n",
    "out = open('/Users/brownm28/Documents/2019-Jan-31_rna_fusion/run_info/fail-rerun/2019-Mar-11_fail_repeat_tasks.txt', 'w')\n",
    "for fail in task_rpt:\n",
    "    (tid, tname) = fail.rstrip('\\n').split('\\t')\n",
    "    fail_task = api.tasks.get(id=tid)\n",
    "    inputs = {}\n",
    "    for key in fail_task.inputs:\n",
    "        inputs[key] = fail_task.inputs[key]\n",
    "    task_name = fail_task.name.replace('RERUN', 'RERUN1')\n",
    "    task = api.tasks.create(name=task_name, project=project, app=app_name, inputs=inputs, run=False)\n",
    "    task.inputs['sample_name'] = task.id\n",
    "    task.save()\n",
    "    out.write(task.id + '\\t' + task.name + '\\n')\n",
    "out.close()\n"
   ]
  },
  {
   "cell_type": "markdown",
   "metadata": {},
   "source": [
    "### inventory completed"
   ]
  },
  {
   "cell_type": "code",
   "execution_count": 2,
   "metadata": {},
   "outputs": [],
   "source": [
    "def task_summary(task):\n",
    "    if re.search('RNAfusion-BAM_INPUT', task.name) or re.search('RNAfusion-FQ_INPUT', task.name):\n",
    "        (title, bs_id, sample) = task.name.split()\n",
    "        # print(task.name)\n",
    "        return '\\t'.join((task.id, task.name, bs_id, sample)) + '\\n'"
   ]
  },
  {
   "cell_type": "code",
   "execution_count": 3,
   "metadata": {},
   "outputs": [
    {
     "name": "stderr",
     "output_type": "stream",
     "text": [
      "Processed 100 tasks\n",
      "Processed 200 tasks\n",
      "Processed 300 tasks\n",
      "Processed 400 tasks\n",
      "Processed 500 tasks\n",
      "Processed 600 tasks\n",
      "Processed 700 tasks\n",
      "Processed 800 tasks\n",
      "Processed 900 tasks\n",
      "Processed 1000 tasks\n",
      "Processed 1100 tasks\n",
      "Processed 1200 tasks\n",
      "Processed 1300 tasks\n",
      "Processed 1400 tasks\n",
      "Processed 1500 tasks\n",
      "Processed 1600 tasks\n",
      "Processed 1700 tasks\n",
      "Processed 1800 tasks\n",
      "Processed 1900 tasks\n",
      "Processed 2000 tasks\n",
      "Processed 2100 tasks\n",
      "Processed 2200 tasks\n",
      "Processed 2300 tasks\n",
      "Processed 2400 tasks\n",
      "Processed 2500 tasks\n",
      "Processed 2600 tasks\n",
      "Processed 2700 tasks\n",
      "Processed 2800 tasks\n",
      "Processed 2900 tasks\n",
      "Processed 3000 tasks\n"
     ]
    }
   ],
   "source": [
    "project = 'kfdrc-harmonization/sd-bhjxbdqk-06'\n",
    "tasks =api.tasks.query(status='COMPLETED', project=project).all()\n",
    "out = open('/Users/brownm28/Documents/2019-Jan-31_rna_fusion/run_info/status/completed.txt', 'w')\n",
    "out.write('Task ID\\tTask Name\\tBS ID\\tSample name\\n')\n",
    "i = 1\n",
    "n = 100\n",
    "with concurrent.futures.ThreadPoolExecutor(16) as executor:\n",
    "    results = {executor.submit(task_summary, task): task for task in tasks}\n",
    "    for info in concurrent.futures.as_completed(results):\n",
    "        if i % n == 0:\n",
    "            sys.stderr.write('Processed ' + str(i) + ' tasks\\n')\n",
    "        try:\n",
    "            if info.result() is not None:\n",
    "                out.write(info.result())\n",
    "        except Exception as e:\n",
    "            print (e)\n",
    "        i += 1\n",
    "out.close()"
   ]
  },
  {
   "cell_type": "code",
   "execution_count": null,
   "metadata": {},
   "outputs": [],
   "source": []
  }
 ],
 "metadata": {
  "kernelspec": {
   "display_name": "Python 3",
   "language": "python",
   "name": "python3"
  },
  "language_info": {
   "codemirror_mode": {
    "name": "ipython",
    "version": 3
   },
   "file_extension": ".py",
   "mimetype": "text/x-python",
   "name": "python",
   "nbconvert_exporter": "python",
   "pygments_lexer": "ipython3",
   "version": "3.7.0"
  }
 },
 "nbformat": 4,
 "nbformat_minor": 2
}
