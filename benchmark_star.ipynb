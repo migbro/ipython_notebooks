{
 "cells": [
  {
   "cell_type": "code",
   "execution_count": 1,
   "id": "e2d0d9db",
   "metadata": {},
   "outputs": [],
   "source": [
    "import sevenbridges as sbg\n",
    "from sevenbridges.errors import SbgError\n",
    "from sevenbridges.http.error_handlers import rate_limit_sleeper, maintenance_sleeper\n",
    "import sys\n",
    "import re\n",
    "import pdb\n",
    "import concurrent.futures\n",
    "from requests import request\n",
    "import json\n",
    "config = sbg.Config(profile='turbo')\n",
    "api = sbg.Api(config=config, error_handlers=[rate_limit_sleeper, maintenance_sleeper])"
   ]
  },
  {
   "cell_type": "markdown",
   "id": "6e58394d",
   "metadata": {},
   "source": [
    "## Copy metadata from bam to fastq\n",
    "Will copy metadata from input bams to converted fastq, and add an rg tag:\n",
    "format is: `ID:sample_name LB:aliquot_id PL:platform SM:BSID`\n",
    " for example `ID:7316-242 LB:750189 PL:ILLUMINA SM:BS_W72364MN`\n"
   ]
  },
  {
   "cell_type": "code",
   "execution_count": null,
   "id": "0cdcbef4",
   "metadata": {},
   "outputs": [],
   "source": [
    "project = 'kids-first-drc/kids-first-drc-rnaseq-workflow'\n",
    "phrase = 'bam2fastq run'\n",
    "tasks = api.tasks.query(project=project, status=\"COMPLETED\")\n",
    "for task in tasks:\n",
    "    if re.search(phrase, task.name):\n",
    "        metadata = task.inputs['input_reads_1'].metadata\n",
    "        rg = \"\\t\".join([\"ID:\" + metadata['sample_id'], \"LB:\" \n",
    "                        + metadata['aliquot_id'], \"PL:ILLUMINA\", \"SM:\" + metadata['Kids First Biospecimen ID']])\n",
    "        for out in task.outputs:\n",
    "            obj = api.files.get(task.outputs[out].id)\n",
    "            for key in metadata:\n",
    "                obj.metadata[key] = metadata[key]\n",
    "            obj.metadata['read_group'] = rg\n",
    "            obj.save()"
   ]
  },
  {
   "cell_type": "markdown",
   "id": "7474dc66",
   "metadata": {},
   "source": [
    "## Param dicts"
   ]
  },
  {
   "cell_type": "code",
   "execution_count": 2,
   "id": "498c3bbb",
   "metadata": {},
   "outputs": [],
   "source": [
    "# Scenario specific params to test\n",
    "param_sets = {\n",
    "    \"gtex\": {\n",
    "        \"alignInsertionFlush\": \"None\",\n",
    "        \"alignIntronMax\": 1000000,\n",
    "        \"alignMatesGapMax\": 1000000,\n",
    "        \"alignSJDBoverhangMin\": 1,\n",
    "        \"alignSJoverhangMin\": 8,\n",
    "        \"alignSoftClipAtReferenceEnds\": \"Yes\",\n",
    "        \"chimJunctionOverhangMin\": 15,\n",
    "        \"chimMainSegmentMultNmax\": 1,\n",
    "        \"chimSegmentMin\": 15,\n",
    "        \"limitSjdbInsertNsj\": 1200000,\n",
    "        \"outFilterIntronMotifs\": \"None\",\n",
    "        \"outFilterMatchNminOverLread\": 0.33,\n",
    "        \"outFilterMismatchNmax\": 999,\n",
    "        \"outFilterMismatchNoverLmax\": 0.1,\n",
    "        \"outFilterMultimapNmax\": 20,\n",
    "        \"outFilterScoreMinOverLread\": 0.33,\n",
    "        \"outFilterType\": \"BySJout\",\n",
    "        \"twopassMode\": \"Basic\"\n",
    "    },\n",
    "    \"min_fusion\": {\n",
    "        \"alignInsertionFlush\": \"None\",\n",
    "        \"alignIntronMax\": 1000000,\n",
    "        \"alignMatesGapMax\": 1000000,\n",
    "        \"alignSJDBoverhangMin\": 1,\n",
    "        \"alignSJoverhangMin\": 8,\n",
    "        \"alignSoftClipAtReferenceEnds\": \"Yes\",\n",
    "        \"chimJunctionOverhangMin\": 12,\n",
    "        \"chimMainSegmentMultNmax\": 1,\n",
    "        \"chimSegmentMin\": 15,\n",
    "        \"limitSjdbInsertNsj\": 1200000,\n",
    "        \"outFilterIntronMotifs\": \"None\",\n",
    "        \"outFilterMatchNminOverLread\": 0.33,\n",
    "        \"outFilterMismatchNmax\": 999,\n",
    "        \"outFilterMismatchNoverLmax\": 0.1,\n",
    "        \"outFilterMultimapNmax\": 20,\n",
    "        \"outFilterScoreMinOverLread\": 0.33,\n",
    "        \"outFilterType\": \"BySJout\",\n",
    "        \"twopassMode\": \"Basic\",\n",
    "        \"alignSJstitchMismatchNmax\": \"5 -1 5 5\",\n",
    "        \"chimOutJunctionFormat\": 1\n",
    "    },\n",
    "    \"star_fusion_heavy\": {\n",
    "        \"alignInsertionFlush\": \"Right\",\n",
    "        \"alignIntronMax\": 100000,\n",
    "        \"alignMatesGapMax\": 100000,\n",
    "        \"alignSJDBoverhangMin\": 10,\n",
    "        \"alignSJstitchMismatchNmax\": \"5 -1 5 5\",\n",
    "        \"alignSplicedMateMapLmin\": 30,\n",
    "        \"alignSplicedMateMapLminOverLmate\": 0,\n",
    "        \"chimJunctionOverhangMin\": 8,\n",
    "        \"chimMultimapNmax\": 20,\n",
    "        \"chimOutType\": \"Junctions WithinBAM SoftClip\", # if chimMultimapNmax value > 0, must drop SeparateSAMold\n",
    "        \"chimMultimapScoreRange\": 3,\n",
    "        \"chimNonchimScoreDropMin\": 10,\n",
    "        \"chimOutJunctionFormat\": 1,\n",
    "        \"chimScoreJunctionNonGTAG\": -4,\n",
    "        \"chimSegmentMin\": 12,\n",
    "        \"peOverlapMMp\": 0,\n",
    "        \"peOverlapNbasesMin\": 12,\n",
    "        \"twopassMode\": \"Basic\"\n",
    "    },\n",
    "    \"arriba_heavy\": {\n",
    "        \"alignInsertionFlush\": \"None\",\n",
    "        \"alignSJstitchMismatchNmax\": \"5 -1 5 5\",\n",
    "        \"alignSplicedMateMapLminOverLmate\": 0.5,\n",
    "        \"chimJunctionOverhangMin\": 10,\n",
    "        \"chimMultimapNmax\": 50,\n",
    "        \"chimOutType\": \"Junctions WithinBAM SoftClip\", # if chimMultimapNmax value > 0, must drop SeparateSAMold\n",
    "        \"chimScoreDropMax\": 30,\n",
    "        \"chimScoreJunctionNonGTAG\": -1,\n",
    "        \"chimScoreSeparation\": 1,\n",
    "        \"chimSegmentMin\": 10,\n",
    "        \"chimSegmentReadGapMax\": 3,\n",
    "        \"outFilterMultimapNmax\": 50,\n",
    "        \"peOverlapNbasesMin\": 10,\n",
    "        \"twopassMode\": \"Basic\"\n",
    "    }\n",
    "}\n"
   ]
  },
  {
   "cell_type": "markdown",
   "id": "bd5ab1ea",
   "metadata": {},
   "source": [
    "## Set up tasks"
   ]
  },
  {
   "cell_type": "code",
   "execution_count": null,
   "id": "30c3fcf5",
   "metadata": {},
   "outputs": [],
   "source": [
    "def get_required_files(api, project):\n",
    "    ref_dict = {}\n",
    "    ref_dict['genomeDir'] = api.files.query(project=project, names=['STAR_2.7.10a_GENCODE38.tar.gz'])[0]\n",
    "    return ref_dict"
   ]
  },
  {
   "cell_type": "code",
   "execution_count": null,
   "id": "fcf75d7f",
   "metadata": {},
   "outputs": [],
   "source": [
    "def draft_tasks(param_key, ref_files, bs_id):\n",
    "    in_dict = {**param_sets[param_key], **ref_files}\n",
    "    for fq in fastq_file_dict[bs_id]:\n",
    "        if fq.name.endswith('_1.fastq.gz'):\n",
    "            in_dict['readFilesIn1'] = fq\n",
    "            in_dict['outSAMattrRGline'] = fq.metadata['read_group']\n",
    "        else:\n",
    "            in_dict['readFilesIn2'] = fq\n",
    "    task_name = \"STAR 2.7.10a \" +  param_key + \": \" + bs_id\n",
    "    task = api.tasks.create(name=task_name, project=project, app=app_name, inputs=in_dict, run=False)\n",
    "    task.inputs['outFileNamePrefix'] = task.id\n",
    "    task.save()\n"
   ]
  },
  {
   "cell_type": "markdown",
   "id": "e8bb697c",
   "metadata": {},
   "source": [
    "### Prep inputs"
   ]
  },
  {
   "cell_type": "code",
   "execution_count": null,
   "id": "9474cea4",
   "metadata": {},
   "outputs": [],
   "source": [
    "# manifest should be small enough to load directly\n",
    "project = 'kids-first-drc/kids-first-drc-rnaseq-workflow'\n",
    "app_name = project + \"/star_2-7-10a_alignReads\"\n",
    "in_fastq_manifest = api.files.get('6219027166ee4b4fd5f46ec6').content().split('\\n')\n",
    "head = in_fastq_manifest[0].split(',')\n",
    "b_idx = head.index('Kids First Biospecimen ID')\n",
    "fastq_file_dict = {}\n",
    "for i in range(1, len(in_fastq_manifest) - 1, 1):\n",
    "    # pdb.set_trace()\n",
    "    info = in_fastq_manifest[i].split(',')\n",
    "    bs_id = info[b_idx]\n",
    "    if bs_id not in fastq_file_dict:\n",
    "        fastq_file_dict[bs_id] = []\n",
    "    fastq_file_dict[bs_id].append(api.files.get(info[0]))\n",
    "param_keys = [\"gtex\", \"min_fusion\", \"star_fusion_heavy\", \"arriba_heavy\"]\n",
    "ref_files = get_required_files(api, project)\n"
   ]
  },
  {
   "cell_type": "markdown",
   "id": "56a9973c",
   "metadata": {},
   "source": [
    "### Draft tasks"
   ]
  },
  {
   "cell_type": "code",
   "execution_count": null,
   "id": "d62533e6",
   "metadata": {},
   "outputs": [],
   "source": [
    "for param in param_keys:\n",
    "    for bs_id in fastq_file_dict:\n",
    "        draft_tasks(param, ref_files, bs_id)"
   ]
  },
  {
   "cell_type": "code",
   "execution_count": null,
   "id": "45b360d8",
   "metadata": {},
   "outputs": [],
   "source": [
    "param_keys = [\"arriba_heavy\", \"star_fusion_heavy\"]"
   ]
  },
  {
   "cell_type": "markdown",
   "id": "6b997531",
   "metadata": {},
   "source": [
    "## Add metadata to outputs\n",
    "Example task `STAR 2.7.10a star_fusion_heavy: BS_N6NE6B3W`"
   ]
  },
  {
   "cell_type": "code",
   "execution_count": null,
   "id": "acf0c191",
   "metadata": {},
   "outputs": [],
   "source": [
    "project = 'kids-first-drc/kids-first-drc-rnaseq-workflow'\n",
    "phrase = 'STAR 2.7.10a'\n",
    "tasks = api.tasks.query(project=project, status=\"COMPLETED\").all()\n",
    "for task in tasks:\n",
    "    if re.search(phrase, task.name):\n",
    "        name_bits = task.name.split()\n",
    "        metadata = task.inputs['readFilesIn1'].metadata\n",
    "        for out in task.outputs:\n",
    "            try:\n",
    "                obj = api.files.get(task.outputs[out].id)\n",
    "                for key in metadata:\n",
    "                    obj.metadata[key] = metadata[key]\n",
    "                obj.metadata['param_set'] = name_bits[2][:-1]\n",
    "                obj.save()\n",
    "            except Exception as e:\n",
    "                print(e)"
   ]
  },
  {
   "cell_type": "markdown",
   "id": "32177789",
   "metadata": {},
   "source": [
    "## Set up RSEM Tasks"
   ]
  },
  {
   "cell_type": "code",
   "execution_count": 8,
   "id": "fc57b735",
   "metadata": {},
   "outputs": [],
   "source": [
    "def get_rsem_ref(api, project):\n",
    "    ref_dict = {}\n",
    "    ref_dict['genomeDir'] = api.files.query(project=project, names=['RSEM_GENCODE38.tar.gz'])[0]\n",
    "    ref_dict['strandedness'] = 'reverse'\n",
    "    ref_dict['estimate_rspd'] = True # added after refactor and review of GTeX params\n",
    "    return ref_dict"
   ]
  },
  {
   "cell_type": "code",
   "execution_count": 9,
   "id": "2528d254",
   "metadata": {},
   "outputs": [],
   "source": [
    "def draft_rsem_tasks(ref_files, tx_bam):\n",
    "    in_dict = {**ref_files}\n",
    "    in_dict['bam'] = tx_bam\n",
    "    param_key = tx_bam.metadata['param_set']\n",
    "    bs_id = tx_bam.metadata['Kids First Biospecimen ID']\n",
    "    # it was a good idea at the time, in a typical wf, giving read2 fq turns on paired-end param for bam, so using a dummy input\n",
    "    # in_dict['input_reads_2'] = ref_files['genomeDir'] # this has been refactored out\n",
    "    task_name = \"RSEM RSPD \" +  param_key + \" \" + bs_id\n",
    "    task = api.tasks.create(name=task_name, project=project, app=app_name, inputs=in_dict, run=False)\n",
    "    task.inputs['outFileNamePrefix'] = task.id\n",
    "    task.save()"
   ]
  },
  {
   "cell_type": "code",
   "execution_count": 10,
   "id": "211f42cc",
   "metadata": {},
   "outputs": [],
   "source": [
    "# manifest should be small enough to load directly\n",
    "project = 'kids-first-drc/kids-first-drc-rnaseq-workflow'\n",
    "app_name = project + \"/rsem-calculate-expression\"\n",
    "in_tx_bam_manifest = api.files.get('621cf74d66ee4b4fd5f7f0a1').content().split('\\n')\n",
    "tx_bam_list = []\n",
    "for i in range(1, len(in_tx_bam_manifest) - 1, 1):\n",
    "    # pdb.set_trace()\n",
    "    info = in_tx_bam_manifest[i].split(',')\n",
    "    tx_bam_list.append(api.files.get(info[0]))\n",
    "ref_files = get_rsem_ref(api, project)\n"
   ]
  },
  {
   "cell_type": "code",
   "execution_count": 12,
   "id": "e5d3a044",
   "metadata": {},
   "outputs": [],
   "source": [
    "for tx_bam in tx_bam_list:\n",
    "    draft_rsem_tasks(ref_files, tx_bam)"
   ]
  },
  {
   "cell_type": "markdown",
   "id": "a0965c72",
   "metadata": {},
   "source": [
    "## Copy metadata for RSEM outputs"
   ]
  },
  {
   "cell_type": "code",
   "execution_count": 2,
   "id": "a1bbca3e",
   "metadata": {},
   "outputs": [],
   "source": [
    "project = 'kids-first-drc/kids-first-drc-rnaseq-workflow'\n",
    "# phrase = 'RSEM '\n",
    "phrase = 'RSEM RSPD'\n",
    "tasks = api.tasks.query(project=project, status=\"COMPLETED\").all()\n",
    "for task in tasks:\n",
    "    if re.search(phrase, task.name):\n",
    "        bam = api.files.get(task.inputs['bam'].id)\n",
    "        metadata = bam.metadata\n",
    "        for out in task.outputs:\n",
    "            try:\n",
    "                obj = api.files.get(task.outputs[out].id)\n",
    "                for key in metadata:\n",
    "#                     if key == \"param_set\":\n",
    "#                         pdb.set_trace()\n",
    "                    obj.metadata[key] = metadata[key]\n",
    "                obj.save()\n",
    "            except Exception as e:\n",
    "                print(e)"
   ]
  },
  {
   "cell_type": "markdown",
   "id": "526f718c",
   "metadata": {},
   "source": [
    "# Test Fusion callers"
   ]
  },
  {
   "cell_type": "markdown",
   "id": "50d3b6f3",
   "metadata": {},
   "source": [
    "## Arriba v 1.1.0"
   ]
  },
  {
   "cell_type": "code",
   "execution_count": 2,
   "id": "3f877446",
   "metadata": {},
   "outputs": [],
   "source": [
    "def get_arriba_ref(api, project):\n",
    "    ref_dict = {}\n",
    "    ref_dict['gtf_anno'] = api.files.query(project=project, names=['gencode.v38.primary_assembly.annotation.gtf'])[0]\n",
    "    ref_dict['reference_fasta'] = api.files.query(project=project, names=['GRCh38.primary_assembly.genome.fa'])[0]\n",
    "    return ref_dict"
   ]
  },
  {
   "cell_type": "code",
   "execution_count": 3,
   "id": "0a038df4",
   "metadata": {},
   "outputs": [],
   "source": [
    "def draft_arriba_tasks(ref_files, gbam):\n",
    "    in_dict = {**ref_files}\n",
    "    in_dict['genome_aligned_bam'] = gbam\n",
    "    param_key = gbam.metadata['param_set']\n",
    "    bs_id = gbam.metadata['Kids First Biospecimen ID']\n",
    "    task_name = \"arriba 1.1.0 \" +  param_key + \": \" + bs_id\n",
    "    task = api.tasks.create(name=task_name, project=project, app=app_name, inputs=in_dict, run=False)\n",
    "    task.inputs['outFileNamePrefix'] = task.id\n",
    "    task.save()"
   ]
  },
  {
   "cell_type": "code",
   "execution_count": 4,
   "id": "7602d2ef",
   "metadata": {},
   "outputs": [],
   "source": [
    "# manifest should be small enough to load directly\n",
    "project = 'kids-first-drc/kids-first-drc-rnaseq-workflow'\n",
    "app_name = project + \"/arriba_fusion\"\n",
    "in_gbam_manifest = api.files.get('62238cfb36ccef54e3afc1f1').content().split('\\n')\n",
    "gbam_list = []\n",
    "for i in range(1, len(in_gbam_manifest) - 1, 1):\n",
    "    # pdb.set_trace()\n",
    "    info = in_gbam_manifest[i].split(',')\n",
    "    gbam_list.append(api.files.get(info[0]))\n",
    "ref_files = get_arriba_ref(api, project)\n"
   ]
  },
  {
   "cell_type": "code",
   "execution_count": 5,
   "id": "ecad5fe4",
   "metadata": {},
   "outputs": [],
   "source": [
    "for gbam in gbam_list:\n",
    "    draft_arriba_tasks(ref_files, gbam)"
   ]
  },
  {
   "cell_type": "markdown",
   "id": "1a64db60",
   "metadata": {},
   "source": [
    "## Arriba v2.2.1"
   ]
  },
  {
   "cell_type": "code",
   "execution_count": 3,
   "id": "987091ef",
   "metadata": {},
   "outputs": [],
   "source": [
    "def draft_arriba2_tasks(ref_files, gbam):\n",
    "    in_dict = {**ref_files}\n",
    "    in_dict['genome_aligned_bam'] = gbam\n",
    "    param_key = gbam.metadata['param_set']\n",
    "    bs_id = gbam.metadata['Kids First Biospecimen ID']\n",
    "    task_name = \"arriba 2.2.1 \" +  param_key + \": \" + bs_id\n",
    "    task = api.tasks.create(name=task_name, project=project, app=app_name, inputs=in_dict, run=False)\n",
    "    task.inputs['outFileNamePrefix'] = task.id\n",
    "    task.save()"
   ]
  },
  {
   "cell_type": "code",
   "execution_count": 4,
   "id": "79eda8e6",
   "metadata": {},
   "outputs": [],
   "source": [
    "# manifest should be small enough to load directly\n",
    "project = 'kids-first-drc/kids-first-drc-rnaseq-workflow'\n",
    "app_name = project + \"/arriba_fusion_2-2-1\"\n",
    "in_gbam_manifest = api.files.get('62238cfb36ccef54e3afc1f1').content().split('\\n')\n",
    "gbam_list = []\n",
    "for i in range(1, len(in_gbam_manifest) - 1, 1):\n",
    "    # pdb.set_trace()\n",
    "    info = in_gbam_manifest[i].split(',')\n",
    "    gbam_list.append(api.files.get(info[0]))\n",
    "ref_files = get_arriba_ref(api, project)\n"
   ]
  },
  {
   "cell_type": "code",
   "execution_count": 5,
   "id": "47f76b2a",
   "metadata": {},
   "outputs": [],
   "source": [
    "for gbam in gbam_list:\n",
    "    draft_arriba2_tasks(ref_files, gbam)"
   ]
  },
  {
   "cell_type": "markdown",
   "id": "2f3fb94b",
   "metadata": {},
   "source": [
    "### Copy metadata for arriba"
   ]
  },
  {
   "cell_type": "code",
   "execution_count": 4,
   "id": "c23db564",
   "metadata": {},
   "outputs": [
    {
     "name": "stdout",
     "output_type": "stream",
     "text": [
      "'NoneType' object has no attribute 'id'\n",
      "'NoneType' object has no attribute 'id'\n"
     ]
    }
   ],
   "source": [
    "project = 'kids-first-drc/kids-first-drc-rnaseq-workflow'\n",
    "phrase = 'arriba '\n",
    "tasks = api.tasks.query(project=project, status=\"COMPLETED\").all()\n",
    "for task in tasks:\n",
    "    if re.search(phrase, task.name):\n",
    "        bam = api.files.get(task.inputs['genome_aligned_bam'].id)\n",
    "        metadata = bam.metadata\n",
    "        for out in task.outputs:\n",
    "            try:\n",
    "                obj = api.files.get(task.outputs[out].id)\n",
    "                for key in metadata:\n",
    "                    obj.metadata[key] = metadata[key]\n",
    "                obj.save()\n",
    "            except Exception as e:\n",
    "                print(e)"
   ]
  },
  {
   "cell_type": "markdown",
   "id": "0dbada8b",
   "metadata": {},
   "source": [
    "## STAR Fusion 1.10.1"
   ]
  },
  {
   "cell_type": "code",
   "execution_count": 5,
   "id": "b32453e8",
   "metadata": {},
   "outputs": [],
   "source": [
    "def get_star_fusion_ref(api, project):\n",
    "    ref_dict = {}\n",
    "    ref_dict['genome_tar'] = api.files.query(project=project, names=['GRCh38_v38_CTAT_lib_Mar072022.CUSTOM.tgz'])[0]\n",
    "    ref_dict['genome_untar_path'] = \"GRCh38_v38_CTAT_lib_Mar072022.CUSTOM\"\n",
    "    return ref_dict"
   ]
  },
  {
   "cell_type": "code",
   "execution_count": 9,
   "id": "943b5426",
   "metadata": {},
   "outputs": [],
   "source": [
    "def draft_sf_tasks(ref_files, chim_junc):\n",
    "    in_dict = {**ref_files}\n",
    "    in_dict['Chimeric_junction'] = chim_junc\n",
    "    param_key = chim_junc.metadata['param_set']\n",
    "    bs_id = chim_junc.metadata['Kids First Biospecimen ID']\n",
    "    task_name = \"STAR Fusion 1.10.1 RERUN \" +  param_key + \": \" + bs_id\n",
    "    task = api.tasks.create(name=task_name, project=project, app=app_name, inputs=in_dict, run=False)\n",
    "    task.inputs['output_basename'] = task.id\n",
    "    task.save()"
   ]
  },
  {
   "cell_type": "code",
   "execution_count": 10,
   "id": "19bcdcb3",
   "metadata": {},
   "outputs": [],
   "source": [
    "# manifest should be small enough to load directly\n",
    "project = 'kids-first-drc/kids-first-drc-rnaseq-workflow'\n",
    "app_name = project + \"/star_fusion_1-10-1_call\"\n",
    "in_chim_junc_manifest = api.files.get('6224e5dd36ccef54e3b2aa3b').content().split('\\n')\n",
    "chim_junc_list = []\n",
    "for i in range(1, len(in_chim_junc_manifest) - 1, 1):\n",
    "    # pdb.set_trace()\n",
    "    info = in_chim_junc_manifest[i].split(',')\n",
    "    chim_junc_list.append(api.files.get(info[0]))\n",
    "ref_files = get_star_fusion_ref(api, project)\n"
   ]
  },
  {
   "cell_type": "code",
   "execution_count": 11,
   "id": "a03a1b7d",
   "metadata": {},
   "outputs": [],
   "source": [
    "for chim_junc in chim_junc_list:\n",
    "    draft_sf_tasks(ref_files, chim_junc)"
   ]
  },
  {
   "cell_type": "markdown",
   "id": "00ffc87b",
   "metadata": {},
   "source": [
    "### Copy metadata to STAR Fusion outputs"
   ]
  },
  {
   "cell_type": "code",
   "execution_count": 12,
   "id": "da53e705",
   "metadata": {},
   "outputs": [],
   "source": [
    "project = 'kids-first-drc/kids-first-drc-rnaseq-workflow'\n",
    "phrase = 'STAR Fusion 1.10.1 RERUN'\n",
    "tasks = api.tasks.query(project=project, status=\"COMPLETED\").all()\n",
    "for task in tasks:\n",
    "    if re.search(phrase, task.name):\n",
    "        bam = api.files.get(task.inputs['Chimeric_junction'].id)\n",
    "        metadata = bam.metadata\n",
    "        for out in task.outputs:\n",
    "            try:\n",
    "                obj = api.files.get(task.outputs[out].id)\n",
    "                for key in metadata:\n",
    "                    obj.metadata[key] = metadata[key]\n",
    "                obj.save()\n",
    "            except Exception as e:\n",
    "                print(e)"
   ]
  },
  {
   "cell_type": "markdown",
   "id": "28dc18a0",
   "metadata": {},
   "source": [
    "## Run annofuse"
   ]
  },
  {
   "cell_type": "code",
   "execution_count": 14,
   "id": "db5c6e88",
   "metadata": {},
   "outputs": [],
   "source": [
    "def get_annofuse_ref(api, project):\n",
    "    ref_dict = {}\n",
    "    ref_dict['FusionGenome'] = api.files.query(project=project, names=['GRCh38_v38_CTAT_lib_Mar072022.CUSTOM.tgz'])[0]\n",
    "    ref_dict['genome_untar_path'] = \"GRCh38_v38_CTAT_lib_Mar072022.CUSTOM\"\n",
    "    return ref_dict"
   ]
  },
  {
   "cell_type": "code",
   "execution_count": 19,
   "id": "1f15ade5",
   "metadata": {},
   "outputs": [],
   "source": [
    "def draft_af_tasks(ref_files, in_file_dict):\n",
    "    in_dict = {**ref_files}\n",
    "    param_key = in_file_dict['rsem_expr_file'].metadata['param_set']\n",
    "    bs_id = in_file_dict['rsem_expr_file'].metadata['Kids First Biospecimen ID']\n",
    "    in_dict['rsem_expr_file'] = in_file_dict['rsem_expr_file']\n",
    "    in_dict['star_fusion_output_file'] = in_file_dict['star_fusion_output_file']\n",
    "    in_dict['sample_name'] = bs_id\n",
    "    # Weird situation where we draft two task, one for each arriba version\n",
    "    for arriba_file in in_file_dict['arriba_output_file']:    \n",
    "        task_name = \"annoFuse \" +  param_key + \": \" + bs_id\n",
    "        if '2.2.1' in arriba_file.name:\n",
    "            task_name = \"annoFuse arriba 2.2.1 \" +  param_key + \": \" + bs_id\n",
    "        in_dict['arriba_output_file'] = arriba_file\n",
    "        task = api.tasks.create(name=task_name, project=project, app=app_name, inputs=in_dict, run=False)\n",
    "        task.inputs['output_basename'] = task.id\n",
    "        task.save()"
   ]
  },
  {
   "cell_type": "code",
   "execution_count": 17,
   "id": "55ce650f",
   "metadata": {},
   "outputs": [],
   "source": [
    "# manifest should be small enough to load directly\n",
    "project = 'kids-first-drc/kids-first-drc-rnaseq-workflow'\n",
    "app_name = project + \"/kfdrc-annofuse-wf\"\n",
    "in_files_manifest = api.files.get('6227ace336ccef54e3c658ae').content().split('\\n')\n",
    "head = in_files_manifest[0].split(',')\n",
    "p_idx = head.index('param_set')\n",
    "b_idx = head.index('Kids First Biospecimen ID')\n",
    "in_files_dict = {}\n",
    "for i in range(1, len(in_files_manifest) - 1, 1):\n",
    "    info = in_files_manifest[i].split(',')\n",
    "    bs_id, param_set = info[b_idx], info[p_idx]\n",
    "    # initialize bs id if not there\n",
    "    if bs_id not in in_files_dict:\n",
    "        in_files_dict[bs_id] = {}\n",
    "    # same for param set\n",
    "    if param_set not in in_files_dict[bs_id]:\n",
    "        in_files_dict[bs_id][param_set] = {}\n",
    "    if \"rsem\" in info[1]:\n",
    "        in_files_dict[bs_id][param_set]['rsem_expr_file'] = api.files.get(info[0])\n",
    "    elif \"abridged\" in info[1]:\n",
    "        in_files_dict[bs_id][param_set]['star_fusion_output_file'] = api.files.get(info[0])\n",
    "    else:\n",
    "        # special case where two different versions of arriba run\n",
    "        if 'arriba_output_file' not in in_files_dict[bs_id][param_set]:\n",
    "            in_files_dict[bs_id][param_set]['arriba_output_file'] = []\n",
    "        in_files_dict[bs_id][param_set]['arriba_output_file'].append(api.files.get(info[0]))\n",
    "        \n",
    "ref_files = get_annofuse_ref(api, project)"
   ]
  },
  {
   "cell_type": "code",
   "execution_count": 20,
   "id": "84bc1e4e",
   "metadata": {},
   "outputs": [],
   "source": [
    "for bs_id in in_files_dict:\n",
    "    for param_set in in_files_dict[bs_id]:\n",
    "        draft_af_tasks(ref_files, in_files_dict[bs_id][param_set])"
   ]
  },
  {
   "cell_type": "markdown",
   "id": "fd7b17fc",
   "metadata": {},
   "source": [
    "### Add metadata to outputs"
   ]
  },
  {
   "cell_type": "code",
   "execution_count": 23,
   "id": "917247f4",
   "metadata": {},
   "outputs": [],
   "source": [
    "project = 'kids-first-drc/kids-first-drc-rnaseq-workflow'\n",
    "phrase = 'annoFuse'\n",
    "tasks = api.tasks.query(project=project, status=\"COMPLETED\").all()\n",
    "for task in tasks:\n",
    "    if re.search(phrase, task.name):\n",
    "        bam = api.files.get(task.inputs['rsem_expr_file'].id)\n",
    "        metadata = bam.metadata\n",
    "        for out in task.outputs:\n",
    "            try:\n",
    "                obj = api.files.get(task.outputs[out].id)\n",
    "                for key in metadata:\n",
    "                    obj.metadata[key] = metadata[key]\n",
    "                if \"2.2.1\" in task.name:\n",
    "                    obj.metadata['param_set'] += \" using arriba 2.2.1\"\n",
    "                obj.save()\n",
    "            except Exception as e:\n",
    "                print(e)"
   ]
  },
  {
   "cell_type": "markdown",
   "id": "1242998c",
   "metadata": {},
   "source": [
    "# TEST NEW WORKFLOW\n",
    "Leverage Param Sets dict at start"
   ]
  },
  {
   "cell_type": "code",
   "execution_count": 3,
   "id": "810865a7",
   "metadata": {},
   "outputs": [],
   "source": [
    "def get_wf_refs(api, project):\n",
    "    ref_dict = {}\n",
    "    ref_dict['STARgenome'] = api.files.query(project=project, names=['STAR_2.7.10a_GENCODE39.tar.gz'])[0]\n",
    "    ref_dict['FusionGenome'] = api.files.query(project=project, names=['GRCh38_v39_CTAT_lib_Mar242022.CUSTOM.tar.gz'])[0]\n",
    "    ref_dict['RSEMgenome'] = api.files.query(project=project, names=['RSEM_GENCODE39.tar.gz'])[0]\n",
    "    ref_dict['gtf_anno'] = api.files.query(project=project, names=['gencode.v39.primary_assembly.annotation.gtf'])[0]\n",
    "    ref_dict['RNAseQC_GTF'] = api.files.query(project=project, names=['gencode.v39.primary_assembly.rnaseqc.stranded.gtf'])[0]\n",
    "    ref_dict['kallisto_idx'] = api.files.query(project=project, names=['RSEM_GENCODE39.transcripts.kallisto.idx'])[0]\n",
    "    ref_dict['reference_fasta'] = api.files.query(project=project, names=['GRCh38.primary_assembly.genome.fa'])[0]\n",
    "    ref_dict['wf_strand_param'] = 'rf-stranded'\n",
    "    ref_dict['rmats_read_length'] = 151\n",
    "    ref_dict['rmats_allow_clipping'] = True\n",
    "    return ref_dict"
   ]
  },
  {
   "cell_type": "code",
   "execution_count": 4,
   "id": "d9a31eb4",
   "metadata": {},
   "outputs": [],
   "source": [
    "def draft_fq_tasks(param_key, ref_files, bs_id):\n",
    "    in_dict = {**param_sets[param_key], **ref_files}\n",
    "    for fq in fastq_file_dict[bs_id]:\n",
    "        if fq.name.endswith('_1.fastq.gz'):\n",
    "            in_dict['reads1'] = fq\n",
    "            in_dict['outSAMattrRGline'] = fq.metadata['read_group']\n",
    "        else:\n",
    "            in_dict['reads2'] = fq\n",
    "    in_dict['sample_name'] = bs_id\n",
    "    in_dict['input_type'] = 'FASTQ'\n",
    "    task_name = \"KF Workflow V4 TEST FQ \" +  param_key + \": \" + bs_id\n",
    "    task = api.tasks.create(name=task_name, project=project, app=app_name, inputs=in_dict, run=False)\n",
    "    task.inputs['output_basename'] = task.id\n",
    "    task.save()"
   ]
  },
  {
   "cell_type": "markdown",
   "id": "9bb5d699",
   "metadata": {},
   "source": [
    "### Set up fastq input run"
   ]
  },
  {
   "cell_type": "code",
   "execution_count": 7,
   "id": "b2eadfd9",
   "metadata": {},
   "outputs": [],
   "source": [
    "# manifest should be small enough to load directly\n",
    "project = 'kids-first-drc/kids-first-drc-rnaseq-workflow'\n",
    "app_name = project + \"/kf-rnaseqv4-wf\"\n",
    "in_fastq_manifest = api.files.get('62432da85638100a011b3ed0').content().split('\\n')\n",
    "head = in_fastq_manifest[0].split(',')\n",
    "b_idx = head.index('Kids First Biospecimen ID')\n",
    "fastq_file_dict = {}\n",
    "for i in range(1, len(in_fastq_manifest) - 1, 1):\n",
    "    # pdb.set_trace()\n",
    "    info = in_fastq_manifest[i].split(',')\n",
    "    bs_id = info[b_idx]\n",
    "    if bs_id not in fastq_file_dict:\n",
    "        fastq_file_dict[bs_id] = []\n",
    "    fastq_file_dict[bs_id].append(api.files.get(info[0]))\n",
    "param_keys = [\"gtex\"]\n",
    "ref_files = get_wf_refs(api, project)\n"
   ]
  },
  {
   "cell_type": "code",
   "execution_count": 17,
   "id": "d28a433e",
   "metadata": {},
   "outputs": [],
   "source": [
    "for param in param_keys:\n",
    "    for bs_id in fastq_file_dict:\n",
    "        draft_fq_tasks(param, ref_files, bs_id)"
   ]
  },
  {
   "cell_type": "markdown",
   "id": "adf256d0",
   "metadata": {},
   "source": [
    "### Set up a bam input run"
   ]
  },
  {
   "cell_type": "code",
   "execution_count": 14,
   "id": "97076f9f",
   "metadata": {},
   "outputs": [],
   "source": [
    "def draft_bam_tasks(param_key, ref_files, bs_id):\n",
    "    in_dict = {**param_sets[param_key], **ref_files}\n",
    "    in_dict['reads1'] = bam_file_dict[bs_id][0]\n",
    "    in_dict['outSAMattrRGline'] = bam_file_dict[bs_id][1]\n",
    "    in_dict['sample_name'] = bs_id\n",
    "    in_dict['input_type'] = 'PEBAM'\n",
    "    task_name = \"KF Workflow V4 TEST BAM \" +  param_key + \": \" + bs_id\n",
    "    task = api.tasks.create(name=task_name, project=project, app=app_name, inputs=in_dict, run=False)\n",
    "    task.inputs['output_basename'] = task.id\n",
    "    task.save()"
   ]
  },
  {
   "cell_type": "code",
   "execution_count": 12,
   "id": "d23e1ce8",
   "metadata": {},
   "outputs": [],
   "source": [
    "# manifest should be small enough to load directly\n",
    "project = 'kids-first-drc/kids-first-drc-rnaseq-workflow'\n",
    "app_name = project + \"/kf-rnaseqv4-wf\"\n",
    "in_bam_manifest = api.files.get('62432a9603fdd27daa1a724e').content().split('\\n')\n",
    "head = in_bam_manifest[0].split('\\t')\n",
    "# use additional info to create rg IDs\n",
    "b_idx = head.index('Kids First Biospecimen ID')\n",
    "a_idx = head.index('aliquot_id')\n",
    "s_idx = head.index('sample_id')\n",
    "# bam dict, indexed by bs id, links to list of file object and read group\n",
    "bam_file_dict = {}\n",
    "# ID:7316-470 LB:549594 PL:ILLUMINA SM:BS_ZRM0W01M\n",
    "for i in range(1, len(in_bam_manifest) - 1, 1):\n",
    "    # pdb.set_trace()\n",
    "    info = in_bam_manifest[i].split('\\t')\n",
    "    bs_id = info[b_idx]\n",
    "    a_id = info[a_idx]\n",
    "    s_id = info[s_idx]\n",
    "    rg = \"\\t\".join([\"ID:\" + s_id, \"LB:\" + a_id, \"PL:ILLUMINA\", \"SM:\" + bs_id])\n",
    "    bam_file_dict[bs_id] = []\n",
    "    bam_file_dict[bs_id].append(api.files.get(info[0]))\n",
    "    bam_file_dict[bs_id].append(rg)\n",
    "param_keys = [\"arriba_heavy\"]\n",
    "ref_files = get_wf_refs(api, project)\n"
   ]
  },
  {
   "cell_type": "code",
   "execution_count": 16,
   "id": "e0d5b0bf",
   "metadata": {},
   "outputs": [],
   "source": [
    "for param in param_keys:\n",
    "    for bs_id in bam_file_dict:\n",
    "        draft_bam_tasks(param, ref_files, bs_id)"
   ]
  },
  {
   "cell_type": "markdown",
   "id": "abbfe263",
   "metadata": {},
   "source": [
    "### Add metadata pipe outputs"
   ]
  },
  {
   "cell_type": "code",
   "execution_count": 2,
   "id": "d9374dfe",
   "metadata": {},
   "outputs": [
    {
     "name": "stdout",
     "output_type": "stream",
     "text": [
      "'NoneType' object has no attribute 'id'\n",
      "'NoneType' object has no attribute 'id'\n",
      "'NoneType' object has no attribute 'id'\n",
      "'NoneType' object has no attribute 'id'\n",
      "'NoneType' object has no attribute 'id'\n"
     ]
    }
   ],
   "source": [
    "project = 'kids-first-drc/kids-first-drc-rnaseq-workflow'\n",
    "phrase = 'KF Workflow V4 TEST'\n",
    "tasks = api.tasks.query(project=project, status=\"COMPLETED\").all()\n",
    "for task in tasks:\n",
    "    if re.search(phrase, task.name):\n",
    "        name_bits = task.name.split()\n",
    "        metadata = task.inputs['reads1'].metadata\n",
    "        for out in task.outputs:\n",
    "            try:\n",
    "                obj = api.files.get(task.outputs[out].id)\n",
    "                for key in metadata:\n",
    "                    obj.metadata[key] = metadata[key]\n",
    "                obj.metadata['param_set'] = name_bits[5][:-1]\n",
    "                obj.save()\n",
    "            except Exception as e:\n",
    "                print(e)"
   ]
  },
  {
   "cell_type": "code",
   "execution_count": null,
   "id": "b15602fb",
   "metadata": {},
   "outputs": [],
   "source": []
  }
 ],
 "metadata": {
  "kernelspec": {
   "display_name": "Python 3",
   "language": "python",
   "name": "python3"
  },
  "language_info": {
   "codemirror_mode": {
    "name": "ipython",
    "version": 3
   },
   "file_extension": ".py",
   "mimetype": "text/x-python",
   "name": "python",
   "nbconvert_exporter": "python",
   "pygments_lexer": "ipython3",
   "version": "3.9.6"
  }
 },
 "nbformat": 4,
 "nbformat_minor": 5
}
