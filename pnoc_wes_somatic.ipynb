{
 "cells": [
  {
   "cell_type": "code",
   "execution_count": null,
   "metadata": {},
   "outputs": [],
   "source": [
    "#!/usr/bin/env python3\n",
    "import sevenbridges as sbg\n",
    "from sevenbridges.errors import SbgError\n",
    "from sevenbridges.http.error_handlers import rate_limit_sleeper, maintenance_sleeper\n",
    "import sys\n",
    "import re\n",
    "import concurrent.futures\n",
    "import pdb\n",
    "config = sbg.Config(profile='turbo')\n",
    "api = sbg.Api(config=config, error_handlers=[rate_limit_sleeper, maintenance_sleeper])"
   ]
  },
  {
   "cell_type": "code",
   "execution_count": null,
   "metadata": {},
   "outputs": [],
   "source": [
    "def get_relevant_file_objs(api, project):\n",
    "    # will hold all keys for reference inputs\n",
    "    ref_obj_dict = {}\n",
    "    ref_obj_dict['exome_target_bed'] = api.files.query(project=project, names=['Strexome_targets_intersect_sorted_padded100.GRCh38.bed.gz'])[0]\n",
    "    ref_obj_dict['ref_tar_gz'] = api.files.query(project=project, names=['hg38_snpeff.tgz'])[0]\n",
    "    ref_obj_dict['vep_cache'] = api.files.query(project=project, names=['homo_sapiens_vep_93_GRCh38_convert_cache.tar.gz'])[0]\n",
    "    ref_obj_dict ['reference'] = api.files.query(project=project, names=['Homo_sapiens_assembly38.fasta'])[0]\n",
    "    # will hold all input reference objects\n",
    "    return ref_obj_dict\n",
    "    "
   ]
  },
  {
   "cell_type": "code",
   "execution_count": null,
   "metadata": {},
   "outputs": [],
   "source": [
    "def get_tn_pairs(fn):\n",
    "    fh = open(fn)\n",
    "    next(fh)\n",
    "    tn_dict = {}\n",
    "    for line in fh:\n",
    "        info = line.rstrip('\\n').split('\\t')\n",
    "        tn_dict[info[1]] = info[4]\n",
    "    return tn_dict"
   ]
  },
  {
   "cell_type": "code",
   "execution_count": null,
   "metadata": {},
   "outputs": [],
   "source": [
    "def get_inputs(api, project, tn_dict):\n",
    "    bs_cram_dict = {}\n",
    "    tasks = api.tasks.query(project = project, status = 'COMPLETED').all()\n",
    "    for task in tasks:\n",
    "        parts = task.name.split('-')\n",
    "        bs_cram_dict[parts[1]] = task.outputs['cram']\n",
    "    return bs_cram_dict"
   ]
  },
  {
   "cell_type": "code",
   "execution_count": null,
   "metadata": {},
   "outputs": [],
   "source": [
    "def create_tasks(api, project, tn_dict, bs_dict, refs):\n",
    "    app_name = project + '/kfdrc-pnoc-wes-somatic-workflow'\n",
    "    out_task = open('/Users/brownm28/Documents/2018-Nov-6_open_dipg/somatic_calls/pnoc_somatic_call_tasks.txt', 'w')\n",
    "    for bs_id in tn_dict:\n",
    "        inputs = refs\n",
    "        norm = tn_dict[bs_id]\n",
    "        task_name = 'PNOC-WES-somatic-' + bs_id + '_' + norm\n",
    "        inputs['tumor_cram'] = bs_dict[bs_id]\n",
    "        inputs['normal_cram'] = bs_dict[norm]\n",
    "        inputs['normal_id'] = norm\n",
    "        inputs['tumor_id'] = bs_id\n",
    "        task = api.tasks.create(name=task_name, project=project, app=app_name, inputs=inputs, run=False)\n",
    "        task.inputs['output_basename'] = task.id\n",
    "        task.save()\n",
    "        out_task.write('\\t'.join((task_name, task.id)) + '\\n')\n",
    "    out_task.close()"
   ]
  },
  {
   "cell_type": "code",
   "execution_count": null,
   "metadata": {},
   "outputs": [],
   "source": [
    "refs = get_relevant_file_objs(api=api, project=pnoc_wes)\n",
    "tbl = '/Users/brownm28/Documents/2018-Nov-6_open_dipg/pnoc_inputs.txt'\n",
    "tn_pairs = get_tn_pairs(tbl)\n",
    "bs_inputs = get_inputs(api, pnoc_wes, tn_pairs)\n",
    "#pdb.set_trace()\n",
    "create_tasks(api, pnoc_wes, tn_pairs, bs_inputs, refs)"
   ]
  },
  {
   "cell_type": "code",
   "execution_count": null,
   "metadata": {},
   "outputs": [],
   "source": [
    "def run_task(api, entry):\n",
    "    info = entry.rstrip('\\n').split()\n",
    "    # (tag, tid) = info[-1].split(':')\n",
    "    task = api.tasks.get(id=info[1])\n",
    "    if task.status == 'DRAFT':\n",
    "        task.run()"
   ]
  },
  {
   "cell_type": "code",
   "execution_count": null,
   "metadata": {},
   "outputs": [],
   "source": [
    "task_fn = '/Users/brownm28/Documents/2018-Nov-6_open_dipg/somatic_calls/pnoc_somatic_call_tasks.txt'\n",
    "with concurrent.futures.ThreadPoolExecutor(8) as executor:\n",
    "    results = {executor.submit(run_task, api, entry): entry for entry in open(task_fn)}"
   ]
  },
  {
   "cell_type": "markdown",
   "metadata": {},
   "source": [
    "## WES Test"
   ]
  },
  {
   "cell_type": "markdown",
   "metadata": {},
   "source": [
    "### HC Germ Pre-process"
   ]
  },
  {
   "cell_type": "code",
   "execution_count": null,
   "metadata": {},
   "outputs": [],
   "source": [
    "def get_germ_refs(api):\n",
    "    ref_dict = {}\n",
    "    ref_dict['axiomPoly_resource_vcf'] = api.files.query(project=project, names=['Axiom_Exome_Plus.genotypes.all_populations.poly.hg38.vcf.gz'])[0]\n",
    "    ref_dict['reference_dict'] = api.files.query(project=project, names=['Homo_sapiens_assembly38.dict'])[0]\n",
    "    ref_dict['dbsnp_vcf'] = api.files.query(project=project, names=['Homo_sapiens_assembly38.dbsnp138.vcf'])[0]\n",
    "    ref_dict['hapmap_resource_vcf'] = api.files.query(project=project, names=['hapmap_3.3.hg38.vcf.gz'])[0]\n",
    "    ref_dict['mills_resource_vcf'] = api.files.query(project=project, names=['Mills_and_1000G_gold_standard.indels.hg38.vcf.gz'])[0]\n",
    "    ref_dict['omni_resource_vcf'] = api.files.query(project=project, names=['1000G_omni2.5.hg38.vcf.gz'])[0]\n",
    "    ref_dict['one_thousand_genomes_resource_vcf'] = api.files.query(project=project, names=['1000G_phase1.snps.high_confidence.hg38.vcf.gz'])[0]\n",
    "    ref_dict['reference_fasta'] = api.files.query(project=project, names=['Homo_sapiens_assembly38.fasta'])[0]\n",
    "    ref_dict['unpadded_intervals_file'] = api.files.query(project=project, names=['Strexome_canonical_unpadded_GRCh38.sorted.merged.interval_list'])[0]\n",
    "    ref_dict['wgs_evaluation_interval_list'] = api.files.query(project=project, names=['Strexome_canonical_100bp_padded_GRCh38.bed'])[0]\n",
    "    ref_dict['snp_sites'] = api.files.query(project=project, names=['1000G_phase3_v4_20130502.sites.hg38.vcf'])[0]\n",
    "    return ref_dict"
   ]
  },
  {
   "cell_type": "code",
   "execution_count": null,
   "metadata": {},
   "outputs": [],
   "source": [
    "project = 'zhangb1/kf-somatic-tools-test'\n",
    "ref_obj = get_germ_refs(api)\n",
    "app_name = project + \"/kfdrc-single-genotype-basic\"\n",
    "in_dict = {}\n",
    "for key in ref_obj:\n",
    "    in_dict[key] = ref_obj[key]\n",
    "in_dict['input_vcfs'] = [api.files.get('5dcaf4eee4b0549589782983')]\n",
    "task_name = \"SINGLE GENOTYPE GATK: P-01 TEST\"\n",
    "task = api.tasks.create(name=task_name, project=project, app=app_name, inputs=in_dict, execution_settings = {'use_memoization': True}, run=False)\n",
    "task.inputs['output_basename'] = task.id\n",
    "\n",
    "task.save()"
   ]
  },
  {
   "cell_type": "markdown",
   "metadata": {},
   "source": [
    "### Workflow"
   ]
  },
  {
   "cell_type": "code",
   "execution_count": 7,
   "metadata": {},
   "outputs": [],
   "source": [
    "def get_wf_refs(api):\n",
    "    ref_dict = {}\n",
    "    ref_dict['cfree_chr_len'] = api.files.query(project=project, names=['hs38_chr.len'])[0]\n",
    "    ref_dict['cnvkit_annotation_file'] = api.files.query(project=project, names=['refFlat_HG38.txt'])[0]\n",
    "    ref_dict['hg38_strelka_bed'] = api.files.query(project=project, names=['Strexome_targets_intersect_sorted_padded100.GRCh38.bed.gz'])[0]\n",
    "    ref_dict['indexed_reference_fasta'] = api.files.query(project=project, names=['Homo_sapiens_assembly38.fasta'])[0]\n",
    "    ref_dict['mutect2_af_only_gnomad_vcf'] = api.files.query(project=project, names=['af-only-gnomad.hg38.vcf.gz'])[0]\n",
    "    ref_dict['mutect2_exac_common_vcf'] = api.files.query(project=project, names=['small_exac_common_3.hg38.vcf.gz'])[0]\n",
    "    ref_dict['padded_capture_regions'] = api.files.query(project=project, names=['Strexome_canonical_100bp_padded_GRCh38.bed'])[0]\n",
    "    ref_dict['reference_dict'] = api.files.query(project=project, names=['Homo_sapiens_assembly38.dict'])[0]\n",
    "    ref_dict['reference_fai'] = api.files.query(project=project, names=['Homo_sapiens_assembly38.fasta.fai'])[0]\n",
    "    ref_dict['unpadded_capture_regions'] = api.files.query(project=project, names=['Strexome_canonical_unpadded_GRCh38.sorted.merged.bed'])[0]\n",
    "    ref_dict['vep_cache'] = api.files.query(project=project, names=['homo_sapiens_vep_93_GRCh38_convert_cache.tar.gz'])[0]\n",
    "    ref_dict['cfree_ploidy'] = [2,3,4]\n",
    "    return ref_dict\n",
    "    "
   ]
  },
  {
   "cell_type": "code",
   "execution_count": 9,
   "metadata": {},
   "outputs": [
    {
     "data": {
      "text/plain": [
       "<Task: id=2677e12f-a8ff-4cd2-a735-f6c02e9ff6d1>"
      ]
     },
     "execution_count": 9,
     "metadata": {},
     "output_type": "execute_result"
    }
   ],
   "source": [
    "project = 'zhangb1/kf-somatic-tools-test'\n",
    "app_name = project + '/kfdrc-production-somatic-wes-variant-cnv-wf'\n",
    "\n",
    "ref_objs = get_wf_refs(api)\n",
    "#pdb.set_trace()\n",
    "in_dict = {}\n",
    "for key in ref_objs:\n",
    "    in_dict[key] = ref_objs[key]\n",
    "in_dict['input_tumor_aligned'] = api.files.get('5d375182e4b0359d9af6350e')\n",
    "in_dict['input_tumor_name'] = 'BS_GBT44HST'\n",
    "in_dict['input_normal_aligned'] = api.files.get('5d375182e4b0359d9af6350f')\n",
    "in_dict['input_normal_name'] = 'BS_JHMWZ3NH'\n",
    "in_dict['cfree_sex'] = 'XX'\n",
    "in_dict['cnvkit_sex'] = 'Female'\n",
    "in_dict['b_allele'] = api.files.get('5dcb0ab4e4b09d9a3247e994')\n",
    "task_name = \"KFDRC SOMATIC PROD TEST: P-01 BS_GBT44HST BS_JHMWZ3NH\"\n",
    "task = api.tasks.create(name=task_name, project=project, app=app_name, inputs=in_dict, run=False)\n",
    "task.inputs['output_basename'] = task.id\n",
    "task.save()"
   ]
  },
  {
   "cell_type": "code",
   "execution_count": null,
   "metadata": {},
   "outputs": [],
   "source": []
  }
 ],
 "metadata": {
  "kernelspec": {
   "display_name": "Python 3",
   "language": "python",
   "name": "python3"
  },
  "language_info": {
   "codemirror_mode": {
    "name": "ipython",
    "version": 3
   },
   "file_extension": ".py",
   "mimetype": "text/x-python",
   "name": "python",
   "nbconvert_exporter": "python",
   "pygments_lexer": "ipython3",
   "version": "3.8.3"
  }
 },
 "nbformat": 4,
 "nbformat_minor": 2
}
