{
 "cells": [
  {
   "cell_type": "markdown",
   "metadata": {},
   "source": [
    "# Run FQ Input alignment pipeline for Rios-Wise project"
   ]
  },
  {
   "cell_type": "markdown",
   "metadata": {},
   "source": [
    "## Set up imports"
   ]
  },
  {
   "cell_type": "code",
   "execution_count": 1,
   "metadata": {},
   "outputs": [],
   "source": [
    "#!/usr/bin/env python3\n",
    "import sevenbridges as sbg\n",
    "import sys\n",
    "import re\n",
    "from requests import request\n",
    "\n",
    "config = sbg.Config(profile='cavatica')\n",
    "api = sbg.Api(config=config)"
   ]
  },
  {
   "cell_type": "markdown",
   "metadata": {},
   "source": [
    "### Get Read Group Info"
   ]
  },
  {
   "cell_type": "code",
   "execution_count": 2,
   "metadata": {},
   "outputs": [],
   "source": [
    "def get_rg(url, bs_id, fq_list):\n",
    "    # fq _list is a reference to dict by bs_id\n",
    "    #HHNVFALXX_s4_1_GSLv3-7_76_SL248476.fastq.gz\n",
    "    #HHNVFALXX_s4_2_GSLv3-7_76_SL248476.fastq.gz\n",
    "    #'@RG\\tID:HHNVFALXX_s4_GSLv3-7_76_SL248476\\tLB:SL248476\\tPL:ILLUMINA\\tSM:BS_5QS5KRKF'\n",
    "    rg_common = '\\\\tPL:ILLUMINA\\\\tSM:' + bs_id\n",
    "    bs_url = url + '/biospecimens/' + bs_id\n",
    "    bs_info = request('GET', bs_url)\n",
    "    bs_gf_link = url + bs_info.json()['_links']['biospecimen_genomic_files']\n",
    "    rel_gfs = request('GET', bs_gf_link)\n",
    "    temp = {}\n",
    "    for gf_obj in rel_gfs.json()['results']:\n",
    "        gf_link = url + gf_obj['_links']['genomic_file']\n",
    "        gf_obj = request('GET', gf_link)\n",
    "        res = gf_obj.json()['results']\n",
    "        fname_parts = res['file_name'].split('_')\n",
    "        if res['file_format'] == 'fastq':\n",
    "            f_root = '_'.join((fname_parts[0:2])) + '_' + '_'.join(fname_parts[3:-1]) + '_' + fname_parts[-1].split('.')[0]\n",
    "            # validate that file root name matches ext ID in rg entry\n",
    "            rg_link = url + gf_obj.json()['_links']['read_groups']\n",
    "            rg_info = request('GET', rg_link)\n",
    "            if rg_info.json()['results'][0]['external_id'] != f_root:\n",
    "                sys.stderr.write('Ext ID ' + rg_info.json()['results'][0]['external_id'] + ' does not match predicted ' + f_root + ' for bs id ' + bs_id + ', rethink your life\\n')\n",
    "                exit(1)\n",
    "            else:\n",
    "                temp[f_root] = 1\n",
    "                se_link = url + gf_obj.json()['_links']['sequencing_experiment']\n",
    "                se_info = request('GET', se_link)\n",
    "                lb = se_info.json()['results']['library_name']\n",
    "                rg = '@RG\\\\tID:' + f_root + '\\\\tLB:' + lb + rg_common\n",
    "                print ('\\t'.join([bs_id, f_root, ','.join(fq_list[bs_id][f_root]['files']), rg]))\n",
    "                fq_list[bs_id][f_root]['rg'] = rg\n",
    "    return fq_list\n",
    "            \n",
    "            "
   ]
  },
  {
   "cell_type": "markdown",
   "metadata": {},
   "source": [
    "### Create task"
   ]
  },
  {
   "cell_type": "code",
   "execution_count": 9,
   "metadata": {},
   "outputs": [],
   "source": [
    "def setup_task(api, project, fq_dict, bs_id, indexed_reference_fasta, knownsites, reference_dict, wgs_coverage_interval_list):\n",
    "    task_name = 'alignment-' + bs_id\n",
    "    app_name = project + '/kfdrc-alignment-fqinput-cram-only-wf'\n",
    "    \n",
    "    inputs = {}\n",
    "    inputs['files_R1'] = []\n",
    "    inputs['files_R2'] = []\n",
    "    inputs['rgs'] = []\n",
    "    inputs['indexed_reference_fasta'] = indexed_reference_fasta\n",
    "    inputs['knownsites'] = knownsites\n",
    "    inputs['reference_dict'] = reference_dict\n",
    "    inputs['wgs_coverage_interval_list'] = wgs_coverage_interval_list\n",
    "    for fq_root in fq_dict:\n",
    "        fq_dict[fq_root]['files'].sort()\n",
    "        fq1 = fq_dict[fq_root]['files'][0]\n",
    "        fq2 = fq_dict[fq_root]['files'][1]\n",
    "        inputs['files_R1'].append(api.files.query(project=project, names=[fq1])[0])\n",
    "        inputs['files_R2'].append(api.files.query(project=project, names=[fq2])[0])\n",
    "        inputs['rgs'].append(fq_dict[fq_root]['rg'])\n",
    "\n",
    "    #try:\n",
    "    task = api.tasks.create(name=task_name, project=project, app=app_name, inputs=inputs, run=False)\n",
    "    task.inputs['output_basename'] = task.id\n",
    "    task.save()\n",
    "    print ('Task name:' + task.name, 'Task ID:' + task.id)\n",
    "    #except:\n",
    "    #    print('Could not create task for ' + task_name + '!\\n')\n",
    "    "
   ]
  },
  {
   "cell_type": "markdown",
   "metadata": {},
   "source": [
    "### Get refs"
   ]
  },
  {
   "cell_type": "code",
   "execution_count": 10,
   "metadata": {},
   "outputs": [],
   "source": [
    "def get_refs(api):\n",
    "    indexed_reference_fasta = api.files.query(project=project, names=['Homo_sapiens_assembly38.fasta'])[0]\n",
    "    knownsites = []\n",
    "    ks_files = ['1000G_phase1.snps.high_confidence.hg38.vcf.gz', 'Homo_sapiens_assembly38.known_indels.vcf.gz', 'Mills_and_1000G_gold_standard.indels.hg38.vcf.gz']\n",
    "    for ks in ks_files:\n",
    "        knownsites.append(api.files.query(project=project, names=[ks])[0])\n",
    "    reference_dict = api.files.query(project=project, names=['Homo_sapiens_assembly38.dict'])[0]\n",
    "    wgs_coverage_interval_list = api.files.query(project=project, names=['wgs_coverage_regions.hg38.interval_list'])[0]\n",
    "    return indexed_reference_fasta, knownsites, reference_dict, wgs_coverage_interval_list"
   ]
  },
  {
   "cell_type": "markdown",
   "metadata": {},
   "source": [
    "## Main setup"
   ]
  },
  {
   "cell_type": "code",
   "execution_count": 13,
   "metadata": {},
   "outputs": [
    {
     "name": "stdout",
     "output_type": "stream",
     "text": [
      "HHT52ALXX_s8_GSLv3-7_91_SL248491\n",
      "HHT52ALXX_s8_GSLv3-7_91_SL248491\n",
      "HL5GNALXX_s3_GSLv3-7_91_SL248491\n",
      "HL5GNALXX_s3_GSLv3-7_91_SL248491\n",
      "HHNW2ALXX_s8_GSLv3-7_72_SL248472\n",
      "HHNW2ALXX_s8_GSLv3-7_72_SL248472\n",
      "HL5GNALXX_s3_GSLv3-7_72_SL248472\n",
      "HL5GNALXX_s3_GSLv3-7_72_SL248472\n",
      "BS_082CXWXG\tHHT52ALXX_s8_GSLv3-7_91_SL248491\tHHT52ALXX_s8_1_GSLv3-7_91_SL248491.fastq.gz,HHT52ALXX_s8_2_GSLv3-7_91_SL248491.fastq.gz\t@RG\\tID:HHT52ALXX_s8_GSLv3-7_91_SL248491\\tLB:SL248491\\tPL:ILLUMINA\\tSM:BS_082CXWXG\n",
      "BS_082CXWXG\tHHT52ALXX_s8_GSLv3-7_91_SL248491\tHHT52ALXX_s8_1_GSLv3-7_91_SL248491.fastq.gz,HHT52ALXX_s8_2_GSLv3-7_91_SL248491.fastq.gz\t@RG\\tID:HHT52ALXX_s8_GSLv3-7_91_SL248491\\tLB:SL248491\\tPL:ILLUMINA\\tSM:BS_082CXWXG\n",
      "BS_082CXWXG\tHL5GNALXX_s3_GSLv3-7_91_SL248491\tHL5GNALXX_s3_1_GSLv3-7_91_SL248491.fastq.gz,HL5GNALXX_s3_2_GSLv3-7_91_SL248491.fastq.gz\t@RG\\tID:HL5GNALXX_s3_GSLv3-7_91_SL248491\\tLB:SL248491\\tPL:ILLUMINA\\tSM:BS_082CXWXG\n",
      "BS_082CXWXG\tHL5GNALXX_s3_GSLv3-7_91_SL248491\tHL5GNALXX_s3_1_GSLv3-7_91_SL248491.fastq.gz,HL5GNALXX_s3_2_GSLv3-7_91_SL248491.fastq.gz\t@RG\\tID:HL5GNALXX_s3_GSLv3-7_91_SL248491\\tLB:SL248491\\tPL:ILLUMINA\\tSM:BS_082CXWXG\n",
      "Task name:alignment-BS_082CXWXG Task ID:c34d51b3-bc21-44ef-9841-206271af69d4\n",
      "BS_CXT1NEB5\tHHNW2ALXX_s8_GSLv3-7_72_SL248472\tHHNW2ALXX_s8_1_GSLv3-7_72_SL248472.fastq.gz,HHNW2ALXX_s8_2_GSLv3-7_72_SL248472.fastq.gz\t@RG\\tID:HHNW2ALXX_s8_GSLv3-7_72_SL248472\\tLB:SL248472\\tPL:ILLUMINA\\tSM:BS_CXT1NEB5\n",
      "BS_CXT1NEB5\tHHNW2ALXX_s8_GSLv3-7_72_SL248472\tHHNW2ALXX_s8_1_GSLv3-7_72_SL248472.fastq.gz,HHNW2ALXX_s8_2_GSLv3-7_72_SL248472.fastq.gz\t@RG\\tID:HHNW2ALXX_s8_GSLv3-7_72_SL248472\\tLB:SL248472\\tPL:ILLUMINA\\tSM:BS_CXT1NEB5\n",
      "BS_CXT1NEB5\tHL5GNALXX_s3_GSLv3-7_72_SL248472\tHL5GNALXX_s3_1_GSLv3-7_72_SL248472.fastq.gz,HL5GNALXX_s3_2_GSLv3-7_72_SL248472.fastq.gz\t@RG\\tID:HL5GNALXX_s3_GSLv3-7_72_SL248472\\tLB:SL248472\\tPL:ILLUMINA\\tSM:BS_CXT1NEB5\n",
      "BS_CXT1NEB5\tHL5GNALXX_s3_GSLv3-7_72_SL248472\tHL5GNALXX_s3_1_GSLv3-7_72_SL248472.fastq.gz,HL5GNALXX_s3_2_GSLv3-7_72_SL248472.fastq.gz\t@RG\\tID:HL5GNALXX_s3_GSLv3-7_72_SL248472\\tLB:SL248472\\tPL:ILLUMINA\\tSM:BS_CXT1NEB5\n",
      "Task name:alignment-BS_CXT1NEB5 Task ID:44759b79-fd2c-4628-97a6-487eb9155bd2\n"
     ]
    }
   ],
   "source": [
    "url = 'https://kf-api-dataservice.kidsfirstdrc.org'\n",
    "bs_fn_pairs = open('/Users/brownm28/Documents/2018-Sep-11_Rios-Wise/build_task/test_in.txt')\n",
    "bs_file_dict = {}\n",
    "project = 'kfdrc-harmonization/sd-rm8afw0r'\n",
    "(indexed_reference_fasta, knownsites, reference_dict, wgs_coverage_interval_list) = get_refs(api)\n",
    "for pair in bs_fn_pairs:\n",
    "    (bs_id, fq_name) = pair.rstrip('\\n').split('\\t')\n",
    "    fname_parts = fq_name.split('_')\n",
    "    f_root = '_'.join((fname_parts[0:2])) + '_' + '_'.join(fname_parts[3:-1]) + '_' + fname_parts[-1].split('.')[0]\n",
    "    print(f_root)\n",
    "    if bs_id not in bs_file_dict:\n",
    "        bs_file_dict[bs_id] = {}\n",
    "    if f_root not in bs_file_dict[bs_id]:\n",
    "        bs_file_dict[bs_id][f_root] = {}\n",
    "        bs_file_dict[bs_id][f_root]['files'] = []\n",
    "    bs_file_dict[bs_id][f_root]['files'].append(fq_name)\n",
    "bs_fn_pairs.close()\n",
    "\n",
    "for bs_id in bs_file_dict:\n",
    "    bs_file_dict = get_rg(url, bs_id, bs_file_dict)\n",
    "    setup_task(api, project, bs_file_dict[bs_id], bs_id, indexed_reference_fasta, knownsites, reference_dict, wgs_coverage_interval_list)\n",
    "\n",
    "    "
   ]
  },
  {
   "cell_type": "code",
   "execution_count": null,
   "metadata": {},
   "outputs": [],
   "source": []
  }
 ],
 "metadata": {
  "kernelspec": {
   "display_name": "Python 3",
   "language": "python",
   "name": "python3"
  },
  "language_info": {
   "codemirror_mode": {
    "name": "ipython",
    "version": 3
   },
   "file_extension": ".py",
   "mimetype": "text/x-python",
   "name": "python",
   "nbconvert_exporter": "python",
   "pygments_lexer": "ipython3",
   "version": "3.6.5"
  }
 },
 "nbformat": 4,
 "nbformat_minor": 2
}
