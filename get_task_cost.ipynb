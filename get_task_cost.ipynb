{
 "cells": [
  {
   "cell_type": "code",
   "execution_count": 2,
   "metadata": {},
   "outputs": [
    {
     "name": "stderr",
     "output_type": "stream",
     "text": [
      "WARNING:sevenbridges.http.client:Advance access features enabled. AA API calls can be subject to changes.\n"
     ]
    }
   ],
   "source": [
    "import sevenbridges as sbg\n",
    "from sevenbridges.errors import SbgError\n",
    "from sevenbridges.http.error_handlers import rate_limit_sleeper, maintenance_sleeper\n",
    "import sys\n",
    "import re\n",
    "import pdb\n",
    "import concurrent.futures\n",
    "from requests import request\n",
    "config = sbg.Config(profile='turbo')\n",
    "api = sbg.Api(config=config, error_handlers=[rate_limit_sleeper, maintenance_sleeper], advance_access=True)"
   ]
  },
  {
   "cell_type": "code",
   "execution_count": 1,
   "metadata": {},
   "outputs": [
    {
     "data": {
      "text/html": [
       "<style>.container { width:75% !important; }</style>"
      ],
      "text/plain": [
       "<IPython.core.display.HTML object>"
      ]
     },
     "metadata": {},
     "output_type": "display_data"
    }
   ],
   "source": [
    "from IPython.core.display import display, HTML\n",
    "display(HTML(\"<style>.container { width:75% !important; }</style>\"))"
   ]
  },
  {
   "cell_type": "markdown",
   "metadata": {},
   "source": [
    "### get cost"
   ]
  },
  {
   "cell_type": "code",
   "execution_count": 5,
   "metadata": {},
   "outputs": [],
   "source": [
    "def parse_task(prefix, id_prefix, suffix, task):\n",
    "    # pdb.set_trace()\n",
    "    try:\n",
    "        if re.search(prefix, task.name):\n",
    "            # print (task.id + '\\t' + task.name + '\\t' + str(task.price.amount) + '\\n')\n",
    "            return task.id + '\\t' + task.name + '\\t' + str(task.price.amount) + '\\t' + task.app + '\\n'\n",
    "    except Exception as e:\n",
    "        sys.stderr.write('Could not process task ' + task.id + ' ' + task.name + ' got error ' + str(e) + '\\n')\n",
    "        sys.exit()"
   ]
  },
  {
   "cell_type": "code",
   "execution_count": 6,
   "metadata": {},
   "outputs": [],
   "source": [
    "pre = 'STAR FUSION'\n",
    "id_pre = 'BS_'\n",
    "suffix = ''\n",
    "project = 'd3b-bixu/rs-vpf5jbc3-cov-irt-controlled-access-study'\n",
    "\n",
    "tasks = api.tasks.query(project=project, status='COMPLETED').all()\n",
    "#task = next(tasks)\n",
    "#parse_task(pre, id_pre, suffix, task)\n",
    "#pdb.set_trace()\n",
    "out_fh = open('/Users/brownm28/Documents/2020-Apr-8_RNAseq_snv_dev/cost_est/star-fusion_cost.txt', 'w')\n",
    "\n",
    "with concurrent.futures.ThreadPoolExecutor(16) as executor:\n",
    "    results = {executor.submit(parse_task, pre, id_pre, suffix, task): task for task in tasks}\n",
    "    for cost_info in concurrent.futures.as_completed(results):\n",
    "        try:\n",
    "            if cost_info.result() is not None:\n",
    "                out_fh.write(cost_info.result())\n",
    "        except Exception as e:\n",
    "            print (e)\n",
    "out_fh.close()\n"
   ]
  },
  {
   "cell_type": "markdown",
   "metadata": {},
   "source": [
    "### get exact run time"
   ]
  },
  {
   "cell_type": "code",
   "execution_count": 3,
   "metadata": {},
   "outputs": [],
   "source": [
    "def merge_and_sum_time_intervals(prefix, id_prefix, suffix, task):\n",
    "    data = []\n",
    "    if re.search(prefix, task.name):\n",
    "        for job in task.get_execution_details().jobs:\n",
    "            try:\n",
    "                pair = (job.start_time, job.end_time)\n",
    "                data.append(pair)\n",
    "            except Exception as e:\n",
    "                print (e)\n",
    "                pdb.set_trace()\n",
    "                hold = 1\n",
    "        data = sorted(data, key=lambda x: x[0])\n",
    "\n",
    "\n",
    "        # from https://stackoverflow.com/questions/34797525/how-to-correctly-merge-overlapping-datetime-ranges-in-python\n",
    "        result = []\n",
    "        try:\n",
    "            t_old = data[0]\n",
    "            for t in data[1:]:\n",
    "                if t_old[1] >= t[0]:  #I assume that the data is sorted already\n",
    "                    t_old = ((min(t_old[0], t[0]), max(t_old[1], t[1])))\n",
    "                else:\n",
    "                    result.append(t_old)\n",
    "                    t_old = t\n",
    "\n",
    "            else:\n",
    "                result.append(t_old)\n",
    "        except Exception as e:\n",
    "            print(e)\n",
    "            pdb.set_trace()\n",
    "            hold = 1\n",
    "        total_seconds = 0\n",
    "        for t_int in result:\n",
    "            total_seconds += (t_int[1] - t_int[0]).seconds\n",
    "        #print ('Task ran in ' + str(total_seconds) + ', which is ' + str(total_seconds/3600) + ' hours')\n",
    "        return task.id + '\\t' + task.name + '\\t' + str(total_seconds/3600) + '\\n'\n",
    "    "
   ]
  },
  {
   "cell_type": "code",
   "execution_count": 4,
   "metadata": {},
   "outputs": [],
   "source": [
    "# use task.get_execution_details().jobs - is a list that will giev you start and end time of each job, can use to create opverlapping tim e intervals, then bin and sum\n",
    "pre = 'STAR FUSION'\n",
    "id_pre = 'BS_'\n",
    "suffix = 'INPUT'\n",
    "project = 'd3b-bixu/rs-vpf5jbc3-cov-irt-controlled-access-study'\n",
    "\n",
    "tasks = api.tasks.query(project=project, status='COMPLETED').all()\n",
    "# task = next(tasks)\n",
    "# merge_and_sum_time_intervals(task)\n",
    "out_fh = open('/Users/brownm28/Documents/2020-Apr-8_RNAseq_snv_dev/cost_est/star-fusion_run.txt', 'w')\n",
    "\n",
    "with concurrent.futures.ThreadPoolExecutor(16) as executor:\n",
    "    results = {executor.submit(merge_and_sum_time_intervals, pre, id_pre, suffix, task): task for task in tasks}\n",
    "    for time_info in concurrent.futures.as_completed(results):\n",
    "        try:\n",
    "            if time_info.result() is not None:\n",
    "                out_fh.write(time_info.result())\n",
    "        except Exception as e:\n",
    "            print (e)\n",
    "out_fh.close()\n"
   ]
  },
  {
   "cell_type": "code",
   "execution_count": null,
   "metadata": {},
   "outputs": [],
   "source": [
    "project = 'zhangb1/kf-somatic-tools-test'\n",
    "task = api.tasks.get('7c7bb42f-089f-4d9e-b182-dd731de56003')\n",
    "pdb.set_trace()\n",
    "hold=1\n"
   ]
  },
  {
   "cell_type": "code",
   "execution_count": null,
   "metadata": {},
   "outputs": [],
   "source": [
    "## Get task log"
   ]
  },
  {
   "cell_type": "code",
   "execution_count": null,
   "metadata": {},
   "outputs": [],
   "source": [
    "tid = '575f8184-f6b1-4191-b119-1672b75d8d61'\n",
    "project = 'zhangb1/kf-somatic-tools-test'\n",
    "task = api.tasks.get(tid)\n",
    "for job in task.get_execution_details().jobs:\n",
    "    if re.search('seg', job.name):\n",
    "        print (job.logs['cmd.log'].content())"
   ]
  },
  {
   "cell_type": "markdown",
   "metadata": {},
   "source": [
    "### Get job run times"
   ]
  },
  {
   "cell_type": "code",
   "execution_count": null,
   "metadata": {},
   "outputs": [],
   "source": [
    "task = api.tasks.get(\"7174d826-422d-4577-a288-3c6adc1f6f5a\")\n",
    "phrase = \"vardict\"\n",
    "for job in task.get_execution_details().jobs:\n",
    "    if job.status == \"COMPLETED\" and re.search(phrase, job.name):\n",
    "        # pdb.set_trace()\n",
    "        try:\n",
    "            print (job.name + \"\\t\" + str((job.end_time - job.start_time).seconds/3600))\n",
    "        except Exception as e:\n",
    "            print (e)\n",
    "            pdb.set_trace()\n",
    "#hold=1"
   ]
  },
  {
   "cell_type": "markdown",
   "metadata": {},
   "source": [
    "### Get instance run times"
   ]
  },
  {
   "cell_type": "code",
   "execution_count": null,
   "metadata": {},
   "outputs": [],
   "source": [
    "task = api.tasks.get(\"8acc7912-5380-4db0-8edc-a21ed93833d0\")\n",
    "phrase = \"vardict_\\d+\"\n",
    "data = {}\n",
    "for job in task.get_execution_details().jobs:\n",
    "    if job.status == \"COMPLETED\" and re.search(phrase, job.name):\n",
    "        try:\n",
    "            # print (job.name + \"\\t\" + str((job.end_time - job.start_time).seconds/3600))\n",
    "            sys.stderr.write(job.name + '\\n')\n",
    "            vm = job.instance.id\n",
    "            if vm not in data:\n",
    "                data[vm] = []\n",
    "            pair = (job.start_time, job.end_time)\n",
    "            data[vm].append(pair)\n",
    "        except Exception as e:\n",
    "            print (e)\n",
    "            pdb.set_trace()\n",
    "            hold = 1\n",
    "total_hrs = 0\n",
    "c5_9_spot = 0.5164\n",
    "c5_9_direct = 1.53\n",
    "m4_10_spot = 0.412\n",
    "m4_10_direct = 2\n",
    "spot_rate = c5_9_spot\n",
    "direct_rate = c5_9_direct\n",
    "for vm in data:\n",
    "    data[vm] = sorted(data[vm], key=lambda x: x[0])\n",
    "    result = []\n",
    "    try:\n",
    "        t_old = data[vm][0]\n",
    "        for t in data[vm][1:]:\n",
    "            if t_old[1] >= t[0]:  #I assume that the data is sorted already\n",
    "                t_old = ((min(t_old[0], t[0]), max(t_old[1], t[1])))\n",
    "            else:\n",
    "                result.append(t_old)\n",
    "                t_old = t\n",
    "\n",
    "        else:\n",
    "            result.append(t_old)\n",
    "    except Exception as e:\n",
    "        print(e)\n",
    "        pdb.set_trace()\n",
    "        hold = 1\n",
    "    total_seconds = 0\n",
    "    for t_int in result:\n",
    "        total_seconds += (t_int[1] - t_int[0]).seconds\n",
    "    #print ('Task ran in ' + str(total_seconds) + ', which is ' + str(total_seconds/3600) + ' hours')\n",
    "    print(vm + '\\t' + '\\t' + str(total_seconds/3600))\n",
    "    total_hrs += total_seconds/3600\n",
    "print (\"All spot\\t\" + str(total_hrs * spot_rate) + \"\\t\" + str(total_hrs))\n",
    "print (\"All direct\\t\" + str(total_hrs * direct_rate))\n",
    "    "
   ]
  },
  {
   "cell_type": "markdown",
   "metadata": {},
   "source": [
    "## Get task input file IDs"
   ]
  },
  {
   "cell_type": "code",
   "execution_count": null,
   "metadata": {},
   "outputs": [],
   "source": [
    "phrase = \"kfdrc-combined-CNV\"\n",
    "project= \"kfdrc-harmonization/sd-bhjxbdqk-08\"\n",
    "in_keys = [\"b_allele\", \"input_normal_aligned\", \"input_tumor_aligned\"]\n",
    "out = open(\"/Users/brownm28/Documents/playground/cbttc_task_check.txt\", \"w\")\n",
    "out.write(\"Task ID\\tTask name\\tTask status\\tb allele bs id\\tb allele pt id\\tnormal bs id\\tnormal pt id\\ttumor bs id\\ttumor pt id\\tpaired vcf N bs id\\tpaired vcf T bs id\\tpaired vcf pt id\\n\")\n",
    "for task in api.tasks.query(project=project).all():\n",
    "    if re.search(phrase, task.name) and (task.status == \"COMPLETED\" or task.status == \"FAILED\"):\n",
    "        info = []\n",
    "        try:\n",
    "            for key in in_keys:\n",
    "                info.append(task.inputs[key].metadata['Kids First Biospecimen ID'])\n",
    "                info.append(task.inputs[key].metadata['Kids First Participant ID'])\n",
    "            info.append(task.inputs['paired_vcf'].metadata['Kids First Biospecimen ID Normal'])\n",
    "            info.append(task.inputs['paired_vcf'].metadata['Kids First Biospecimen ID Tumor'])\n",
    "            info.append(task.inputs['paired_vcf'].metadata['Kids First Participant ID'])\n",
    "            out.write(task.id + \"\\t\" + task.name + \"\\t\" + task.status + \"\\t\" + \"\\t\".join(info) + \"\\n\")\n",
    "        except Exception as e:\n",
    "            print (e)\n",
    "            pdb.set_trace()\n",
    "            print(task.name + \"\\t\" + task.id + \"\\tstatus: \" + task.status + \" failed parsing. skipping!\")\n",
    "out.close()"
   ]
  },
  {
   "cell_type": "markdown",
   "metadata": {},
   "source": [
    "# Get Task Job err log info"
   ]
  },
  {
   "cell_type": "code",
   "execution_count": null,
   "metadata": {},
   "outputs": [],
   "source": [
    "def get_task_info(task):\n",
    "    if re.search(phrase, task.name):\n",
    "        tname = task.name\n",
    "        tstatus = task.status\n",
    "        key = task.id + \"\\t\" + tname + \"\\t\" + tstatus\n",
    "        task_list.append(key)\n",
    "        return 0\n",
    "    else:\n",
    "        return 1"
   ]
  },
  {
   "cell_type": "code",
   "execution_count": null,
   "metadata": {},
   "outputs": [],
   "source": [
    "project = 'kfdrc-harmonization/sd-p445achv-02'\n",
    "phrase = \"Vardict-Somatic\"\n",
    "pwd = \"/Users/brownm28/Documents/2019-Nov-4_job_err_log_audit/\"\n",
    "out_fn = 'boyd_vardict_task_info.txt'\n",
    "print (str(api.remaining) + \" remaining tasks\")\n",
    "out = open(pwd + out_fn, 'w')\n",
    "tasks = api.tasks.query(project=project).all()\n",
    "task_list = []\n",
    "valid = 1\n",
    "n = 50\n",
    "with concurrent.futures.ThreadPoolExecutor(16) as executor:\n",
    "    results = {executor.submit(get_task_info, task): task for task in tasks}\n",
    "    for task_info in concurrent.futures.as_completed(results):\n",
    "        if (valid % n) == 0:\n",
    "            sys.stderr.write(\"Processed \" + str(valid) + \" valid tasks\\n\")\n",
    "            print (api.remaining)\n",
    "        if task_info.result() == 0:\n",
    "            valid += 1\n",
    "# for task in tasks:\n",
    "#     parse_job_info(task)\n",
    "\n",
    "out.write(\"Task ID\\tTask Name\\tTask Status\\n\")\n",
    "for info in task_list:\n",
    "    out.write(info + \"\\n\")\n",
    "out.close()\n"
   ]
  },
  {
   "cell_type": "code",
   "execution_count": null,
   "metadata": {},
   "outputs": [],
   "source": [
    "def parse_bulk_info(task):\n",
    "    cur_task = task.resource\n",
    "    tid = cur_task.id\n",
    "    job_dict[tid] = []\n",
    "    jphrase = 'vardict_\\d+_s'\n",
    "    for job in cur_task.get_execution_details().jobs:\n",
    "        if re.search(jphrase, job.name):\n",
    "            # pdb.set_trace()\n",
    "            job_dict[tid].append([job.name, job.status, job.logs['job.err.log'].id, str(job.logs['job.err.log'].size)])\n"
   ]
  },
  {
   "cell_type": "code",
   "execution_count": null,
   "metadata": {},
   "outputs": [],
   "source": [
    "pwd = \"/Users/brownm28/Documents/2019-Nov-4_job_err_log_audit/\"\n",
    "manifest_fn = 'boyd_vardict_task_info.txt'\n",
    "task_manifest = open(pwd + manifest_fn)\n",
    "head = next(task_manifest)\n",
    "task_ids = []\n",
    "for line in task_manifest:\n",
    "    info = line.rstrip('\\n').split('\\t')\n",
    "    task_ids.append(info[0])\n",
    "task_manifest.close()\n",
    "task_bulk = []\n",
    "x = 1\n",
    "max_j = 50\n",
    "total = len(task_ids)\n",
    "for i in range(0, total, max_j):\n",
    "    uset = i + max_j\n",
    "    if uset > total:\n",
    "        uset = total\n",
    "    task_bulk.extend(api.tasks.bulk_get(tasks=task_ids[i:uset]))\n",
    "project = 'kfdrc-harmonization/sd-p445achv-02'\n",
    "phrase = \"Vardict-Somatic\"\n",
    "\n",
    "out_fn = 'boyd_vardict_job_info.txt'\n",
    "out = open(pwd + out_fn, 'w')\n",
    "out.write(\"Task ID\\tJob Name\\tJob Status\\tError log ID\\tError log size\\n\")\n",
    "set_n = 1\n",
    "for i in range(0, total, max_j):\n",
    "    uset = i + max_j\n",
    "    if uset > total:\n",
    "        uset = total\n",
    "    job_dict = {}\n",
    "    sys.stderr.write(\"Processing set \" + str(set_n) + \", api calls remaining: \" + str(api.remaining) + \"\\n\")\n",
    "#     for task in task_bulk[i:uset]:\n",
    "#         parse_bulk_info(task)\n",
    "    with concurrent.futures.ThreadPoolExecutor(8) as executor:\n",
    "        results = {executor.submit(parse_bulk_info, task): task for task in task_bulk[i:uset]}\n",
    "    try:\n",
    "        for tid in job_dict:\n",
    "            for job in job_dict[tid]:\n",
    "                out.write(tid + \"\\t\" + \"\\t\".join(job) + \"\\n\")\n",
    "        out.flush()\n",
    "        sys.stderr.write(\"Finished with set \" + str(set_n) + \", api calls remaining: \" + str(api.remaining) + '\\n')\n",
    "        set_n += 1\n",
    "    except Exception as e:\n",
    "        sys.stderr.write(str(e) + \"\\n\")\n",
    "        pdb.set_trace()\n",
    "        hold = 1\n",
    "\n",
    "out.close()\n",
    "\n",
    "    "
   ]
  },
  {
   "cell_type": "code",
   "execution_count": null,
   "metadata": {},
   "outputs": [],
   "source": [
    "task_list = ['72e5103a-4491-4073-a615-cd830ec63690', 'fe5aeb6d-a72d-4319-b8de-12083684376e']\n",
    "task_bulk = api.tasks.bulk_get(tasks=task_list)\n",
    "pdb.set_trace()\n",
    "pause = 1"
   ]
  },
  {
   "cell_type": "markdown",
   "metadata": {},
   "source": [
    "## Get wf used in task"
   ]
  },
  {
   "cell_type": "code",
   "execution_count": null,
   "metadata": {},
   "outputs": [],
   "source": [
    "pwd = \"/Users/brownm28/Documents/2019-Nov-4_job_err_log_audit/to_check/\"\n",
    "manifest_fn = 'pbta.txt'\n",
    "task_manifest = open(pwd + manifest_fn)\n",
    "out_fn = 'pbta_vardict_app.txt'\n",
    "out = open(pwd + out_fn, 'w')\n",
    "head = next(task_manifest)\n",
    "for line in task_manifest:\n",
    "    info = line.rstrip('\\n').split('\\t')\n",
    "    task = api.tasks.get(info[0])\n",
    "    out.write(task.id + \"\\t\" + task.app + \"\\n\")\n",
    "out.close()"
   ]
  },
  {
   "cell_type": "markdown",
   "metadata": {},
   "source": [
    "## Fix swapped inputs"
   ]
  },
  {
   "cell_type": "code",
   "execution_count": 2,
   "metadata": {},
   "outputs": [],
   "source": [
    "def check_fix_swap(task):\n",
    "    try:\n",
    "        if re.search('LANCET_TCGA', task.name):\n",
    "            if not re.search('-10A-', task.inputs['input_normal_aligned'].name):\n",
    "                sys.stderr.write('Inputs swapped, re-tasking ' + task.name + '\\n')\n",
    "                task_name = 'LANCET: ' + task.inputs['input_tumor_name'] + \" \" + task.inputs['input_normal_name']\n",
    "                in_dict = {}\n",
    "                for key in task.inputs:\n",
    "                    in_dict[key] = task.inputs[key]\n",
    "                in_dict['input_tumor_aligned'] = task.inputs['input_normal_aligned']\n",
    "                in_dict['input_normal_aligned'] = task.inputs['input_tumor_aligned']\n",
    "                task = api.tasks.create(name=task_name, project=project, app=app_name, inputs=in_dict, run=False)\n",
    "                task.inputs['output_basename'] = task.id\n",
    "                task.save()\n",
    "    except Exception as e:\n",
    "        sys.stderr.write(str(e) + \"\\nProcessing \" + task.name + \" failed\\n\")\n",
    "        #pdb.set_trace()\n",
    "        hold = 1\n",
    "        sys.exit()\n",
    "        "
   ]
  },
  {
   "cell_type": "code",
   "execution_count": 3,
   "metadata": {},
   "outputs": [
    {
     "name": "stderr",
     "output_type": "stream",
     "text": [
      "Inputs swapped, re-tasking LANCET_TCGA-S9-A7R3-01A-11D-A34J-08_TCGA-S9-A7R3-10A-01D-A34M-08\n",
      "Inputs swapped, re-tasking LANCET_TCGA-HW-7490-01A-11D-2024-08_TCGA-HW-7490-10A-01D-2024-08\n",
      "Inputs swapped, re-tasking LANCET_TCGA-TM-A7C4-01A-11D-A32B-08_TCGA-TM-A7C4-10A-01D-A329-08\n",
      "Inputs swapped, re-tasking LANCET_TCGA-CS-4944-01A-01D-1468-08_TCGA-CS-4944-10A-01D-1468-08\n",
      "Inputs swapped, re-tasking LANCET_TCGA-P5-A5EW-01A-11D-A27K-08_TCGA-P5-A5EW-10A-01D-A27N-08\n",
      "Inputs swapped, re-tasking LANCET_TCGA-HT-7680-01A-11D-2253-08_TCGA-HT-7680-10A-01D-2253-08\n",
      "Inputs swapped, re-tasking LANCET_TCGA-S9-A6U5-01A-12D-A33T-08_TCGA-S9-A6U5-10A-01D-A33W-08\n",
      "Inputs swapped, re-tasking LANCET_TCGA-CS-6667-01A-12D-2024-08_TCGA-CS-6667-10A-01D-2024-08\n",
      "50 tasks set up\n",
      "100 tasks set up\n",
      "150 tasks set up\n",
      "Inputs swapped, re-tasking LANCET_TCGA-S9-A7R7-01A-11D-A34J-08_TCGA-S9-A7R7-10A-01D-A34M-08\n",
      "Inputs swapped, re-tasking LANCET_TCGA-CS-4938-01B-11D-1893-08_TCGA-CS-4938-10A-01D-1893-08\n",
      "Inputs swapped, re-tasking LANCET_TCGA-S9-A6TZ-01A-21D-A32B-08_TCGA-S9-A6TZ-10A-01D-A329-08\n",
      "Inputs swapped, re-tasking LANCET_TCGA-TM-A7CA-01A-21D-A33T-08_TCGA-TM-A7CA-10A-01D-A33W-08\n",
      "Inputs swapped, re-tasking LANCET_TCGA-QH-A6CX-01A-11D-A32B-08_TCGA-QH-A6CX-10A-01D-A329-08\n",
      "Inputs swapped, re-tasking LANCET_TCGA-DB-A75M-01A-11D-A32B-08_TCGA-DB-A75M-10A-01D-A329-08\n",
      "Inputs swapped, re-tasking LANCET_TCGA-HW-7493-01A-11D-2024-08_TCGA-HW-7493-10A-01D-2024-08\n",
      "Inputs swapped, re-tasking LANCET_TCGA-S9-A6U8-01A-21D-A33T-08_TCGA-S9-A6U8-10A-01D-A33W-08\n",
      "Inputs swapped, re-tasking LANCET_TCGA-HW-A5KM-01A-11D-A27K-08_TCGA-HW-A5KM-10A-01D-A27N-08\n",
      "Inputs swapped, re-tasking LANCET_TCGA-DB-A75L-01A-11D-A32B-08_TCGA-DB-A75L-10A-01D-A329-08\n",
      "Inputs swapped, re-tasking LANCET_TCGA-P5-A5EV-01A-11D-A27K-08_TCGA-P5-A5EV-10A-01D-A27N-08\n",
      "Inputs swapped, re-tasking LANCET_TCGA-HT-7604-01A-11D-2086-08_TCGA-HT-7604-10A-01D-2086-08\n",
      "Inputs swapped, re-tasking LANCET_TCGA-HT-A5RC-01A-11D-A289-08_TCGA-HT-A5RC-10A-01D-A289-08\n",
      "Inputs swapped, re-tasking LANCET_TCGA-CS-4942-01A-01D-1468-08_TCGA-CS-4942-10A-01D-1468-08\n",
      "Inputs swapped, re-tasking LANCET_TCGA-E1-A7YJ-01A-11D-A34A-08_TCGA-E1-A7YJ-10A-01D-A34A-08\n",
      "Inputs swapped, re-tasking LANCET_TCGA-CS-4943-01A-01D-1468-08_TCGA-CS-4943-10A-01D-1468-08\n",
      "Inputs swapped, re-tasking LANCET_TCGA-DH-A66D-01A-11D-A31L-08_TCGA-DH-A66D-10A-01D-A31J-08\n",
      "Inputs swapped, re-tasking LANCET_TCGA-S9-A6U0-01A-12D-A32B-08_TCGA-S9-A6U0-10A-01D-A329-08\n",
      "Inputs swapped, re-tasking LANCET_TCGA-DB-A75O-01A-11D-A32B-08_TCGA-DB-A75O-10A-01D-A329-08\n",
      "Inputs swapped, re-tasking LANCET_TCGA-FG-A6J3-01A-11D-A31L-08_TCGA-FG-A6J3-10A-01D-A31J-08\n",
      "Inputs swapped, re-tasking LANCET_TCGA-DU-A5TW-01A-11D-A289-08_TCGA-DU-A5TW-10A-01D-A289-08\n",
      "Inputs swapped, re-tasking LANCET_TCGA-RY-A843-01A-11D-A36O-08_TCGA-RY-A843-10A-01D-A367-08\n",
      "Inputs swapped, re-tasking LANCET_TCGA-DB-A4XF-01A-11D-A27K-08_TCGA-DB-A4XF-10A-01D-A27N-08\n",
      "Inputs swapped, re-tasking LANCET_TCGA-HT-A61B-01A-11D-A29Q-08_TCGA-HT-A61B-10A-01D-A29Q-08\n",
      "Inputs swapped, re-tasking LANCET_TCGA-HW-A5KK-01A-11D-A27K-08_TCGA-HW-A5KK-10A-01D-A27N-08\n",
      "Inputs swapped, re-tasking LANCET_TCGA-CS-6666-01A-11D-1893-08_TCGA-CS-6666-10A-01D-1893-08\n",
      "Inputs swapped, re-tasking LANCET_TCGA-HT-A4DS-01A-11D-A26M-08_TCGA-HT-A4DS-10A-01D-A26K-08\n",
      "Inputs swapped, re-tasking LANCET_TCGA-S9-A7IS-01A-11D-A34A-08_TCGA-S9-A7IS-10A-01D-A34A-08\n",
      "Inputs swapped, re-tasking LANCET_TCGA-E1-5305-01A-01D-1893-08_TCGA-E1-5305-10A-01D-1893-08\n",
      "Inputs swapped, re-tasking LANCET_TCGA-CS-5394-01A-01D-1468-08_TCGA-CS-5394-10A-01D-1468-08\n",
      "Inputs swapped, re-tasking LANCET_TCGA-19-5960-01A-11D-1696-08_TCGA-19-5960-10A-01D-1696-08\n",
      "Inputs swapped, re-tasking LANCET_TCGA-14-0871-01A-01D-1492-08_TCGA-14-0871-10A-01W-0424-08\n",
      "Inputs swapped, re-tasking LANCET_TCGA-16-0850-01A-01W-0424-08_TCGA-16-0850-10A-01W-0424-08\n",
      "Inputs swapped, re-tasking LANCET_TCGA-DU-5847-01A-11D-1705-08_TCGA-DU-5847-10A-01D-1705-08\n",
      "Inputs swapped, re-tasking LANCET_TCGA-12-5295-01A-01D-1486-08_TCGA-12-5295-10A-01D-1486-08\n",
      "Inputs swapped, re-tasking LANCET_TCGA-76-6285-01A-11D-1696-08_TCGA-76-6285-10A-01D-1696-08\n",
      "Inputs swapped, re-tasking LANCET_TCGA-32-4210-01A-01D-1353-08_TCGA-32-4210-10A-01D-1353-08\n",
      "Inputs swapped, re-tasking LANCET_TCGA-06-0745-01A-01W-0348-08_TCGA-06-0745-10A-01W-0348-08\n",
      "Inputs swapped, re-tasking LANCET_TCGA-06-A6S0-01A-11D-A33T-08_TCGA-06-A6S0-10A-01D-A33W-08\n",
      "Inputs swapped, re-tasking LANCET_TCGA-14-1450-01B-01D-1845-08_TCGA-14-1450-10B-01D-1845-08\n",
      "200 tasks set up\n",
      "Inputs swapped, re-tasking LANCET_TCGA-14-1821-01A-01W-0643-08_TCGA-14-1821-10A-01W-0644-08\n",
      "Inputs swapped, re-tasking LANCET_TCGA-28-5216-01A-01D-1486-08_TCGA-28-5216-10A-01D-1486-08\n",
      "Inputs swapped, re-tasking LANCET_TCGA-14-0817-01A-01W-0424-08_TCGA-14-0817-10A-01W-0424-08\n",
      "Inputs swapped, re-tasking LANCET_TCGA-12-0688-01A-02D-1492-08_TCGA-12-0688-10A-01D-1492-08\n",
      "Inputs swapped, re-tasking LANCET_TCGA-12-1089-01A-01W-0611-08_TCGA-12-1089-10C-01W-0611-08\n",
      "Inputs swapped, re-tasking LANCET_TCGA-32-1977-01A-01D-1353-08_TCGA-32-1977-10C-01D-1353-08\n",
      "Inputs swapped, re-tasking LANCET_TCGA-76-4928-01B-01D-1486-08_TCGA-76-4928-10A-01D-1486-08\n",
      "Inputs swapped, re-tasking LANCET_TCGA-06-6693-01A-11D-1845-08_TCGA-06-6693-10A-01D-1845-08\n",
      "Inputs swapped, re-tasking LANCET_TCGA-RR-A6KC-01A-31D-A33T-08_TCGA-RR-A6KC-10A-01D-A33W-08\n",
      "Inputs swapped, re-tasking LANCET_TCGA-06-0646-01A-01D-1492-08_TCGA-06-0646-10A-01D-1492-08\n",
      "Inputs swapped, re-tasking LANCET_TCGA-12-3653-01A-01W-0922-08_TCGA-12-3653-10A-01W-0922-08\n",
      "Inputs swapped, re-tasking LANCET_TCGA-DU-6403-01A-11D-1705-08_TCGA-DU-6403-10A-01D-1705-08\n",
      "Inputs swapped, re-tasking LANCET_TCGA-DU-5855-01A-11D-1705-08_TCGA-DU-5855-10A-01D-1705-08\n",
      "Inputs swapped, re-tasking LANCET_TCGA-S9-A6WP-01A-12D-A34A-08_TCGA-S9-A6WP-10A-01D-A34A-08\n",
      "Inputs swapped, re-tasking LANCET_TCGA-DB-A4XH-01A-11D-A27K-08_TCGA-DB-A4XH-10A-01D-A27N-08\n",
      "Inputs swapped, re-tasking LANCET_TCGA-QH-A65S-01A-11D-A29Q-08_TCGA-QH-A65S-10A-01D-A29Q-08\n",
      "Inputs swapped, re-tasking LANCET_TCGA-DU-6395-01A-12D-1705-08_TCGA-DU-6395-10A-01D-1705-08\n",
      "Inputs swapped, re-tasking LANCET_TCGA-HT-7879-01A-11D-2395-08_TCGA-HT-7879-10A-01D-2396-08\n",
      "Inputs swapped, re-tasking LANCET_TCGA-HW-7489-01A-11D-2024-08_TCGA-HW-7489-10A-01D-2024-08\n",
      "Inputs swapped, re-tasking LANCET_TCGA-FG-A4MU-01B-11D-A289-08_TCGA-FG-A4MU-10A-01D-A289-08\n",
      "Inputs swapped, re-tasking LANCET_TCGA-HT-8013-01A-11D-2395-08_TCGA-HT-8013-10A-01D-2396-08\n",
      "Inputs swapped, re-tasking LANCET_TCGA-HT-7692-01A-12D-2253-08_TCGA-HT-7692-10A-01D-2253-08\n",
      "Inputs swapped, re-tasking LANCET_TCGA-HT-7681-01A-11D-2395-08_TCGA-HT-7681-10C-01D-2396-08\n",
      "Inputs swapped, re-tasking LANCET_TCGA-DU-8167-01A-11D-2253-08_TCGA-DU-8167-10A-01D-2253-08\n",
      "Inputs swapped, re-tasking LANCET_TCGA-HT-8111-01A-11D-2395-08_TCGA-HT-8111-10A-01D-2396-08\n",
      "Inputs swapped, re-tasking LANCET_TCGA-HT-8114-01A-11D-2395-08_TCGA-HT-8114-10A-01D-2396-08\n",
      "Inputs swapped, re-tasking LANCET_TCGA-HT-7684-01A-11D-2253-08_TCGA-HT-7684-10A-01D-2253-08\n",
      "Inputs swapped, re-tasking LANCET_TCGA-HT-7611-01A-11D-2395-08_TCGA-HT-7611-10B-01D-2396-08\n",
      "Inputs swapped, re-tasking LANCET_TCGA-DB-5276-01A-01D-1468-08_TCGA-DB-5276-10A-01D-1468-08\n",
      "Inputs swapped, re-tasking LANCET_TCGA-FG-7637-01A-11D-2086-08_TCGA-FG-7637-10A-01D-2086-08\n",
      "Inputs swapped, re-tasking LANCET_TCGA-P5-A737-01A-11D-A32B-08_TCGA-P5-A737-10A-01D-A329-08\n",
      "Inputs swapped, re-tasking LANCET_TCGA-HT-7603-01A-21D-2086-08_TCGA-HT-7603-10A-01D-2086-08\n",
      "Inputs swapped, re-tasking LANCET_TCGA-S9-A7R1-01A-12D-A34J-08_TCGA-S9-A7R1-10A-01D-A34M-08\n",
      "Inputs swapped, re-tasking LANCET_TCGA-E1-5319-01A-01D-1893-08_TCGA-E1-5319-10A-01D-1893-08\n",
      "Inputs swapped, re-tasking LANCET_TCGA-HW-7486-01A-11D-2024-08_TCGA-HW-7486-10A-01D-2024-08\n",
      "Inputs swapped, re-tasking LANCET_TCGA-DU-A6S3-01A-12D-A32B-08_TCGA-DU-A6S3-10A-01D-A329-08\n",
      "Inputs swapped, re-tasking LANCET_TCGA-HT-7472-01A-11D-2024-08_TCGA-HT-7472-10A-01D-2024-08\n",
      "Inputs swapped, re-tasking LANCET_TCGA-CS-6668-01A-11D-1893-08_TCGA-CS-6668-10A-01D-1893-08\n",
      "Inputs swapped, re-tasking LANCET_TCGA-HT-8010-01A-11D-2395-08_TCGA-HT-8010-10A-01D-2396-08\n",
      "Inputs swapped, re-tasking LANCET_TCGA-DU-6399-01A-12D-1705-08_TCGA-DU-6399-10A-01D-1705-08\n",
      "Inputs swapped, re-tasking LANCET_TCGA-HW-7491-01A-11D-2024-08_TCGA-HW-7491-10A-01D-2024-08\n",
      "Inputs swapped, re-tasking LANCET_TCGA-DU-A7TG-01A-21D-A34J-08_TCGA-DU-A7TG-10A-01D-A34M-08\n"
     ]
    },
    {
     "name": "stderr",
     "output_type": "stream",
     "text": [
      "Inputs swapped, re-tasking LANCET_TCGA-DU-5874-01A-11D-1705-08_TCGA-DU-5874-10A-01D-1705-08\n",
      "Inputs swapped, re-tasking LANCET_TCGA-DU-A7TA-01A-11D-A33T-08_TCGA-DU-A7TA-10A-01D-A33W-08\n",
      "Inputs swapped, re-tasking LANCET_TCGA-DU-A5TS-01A-11D-A289-08_TCGA-DU-A5TS-10A-01D-A289-08\n",
      "Inputs swapped, re-tasking LANCET_TCGA-HT-7481-01A-11D-2024-08_TCGA-HT-7481-10A-01D-2024-08\n",
      "Inputs swapped, re-tasking LANCET_TCGA-HT-7881-01A-11D-2395-08_TCGA-HT-7881-10A-01D-2396-08\n",
      "Inputs swapped, re-tasking LANCET_TCGA-DU-A6S2-01A-21D-A32B-08_TCGA-DU-A6S2-10A-01D-A329-08\n",
      "Inputs swapped, re-tasking LANCET_TCGA-FG-5964-01A-11D-1705-08_TCGA-FG-5964-10A-01D-1705-08\n",
      "Inputs swapped, re-tasking LANCET_TCGA-DU-8164-01A-11D-2253-08_TCGA-DU-8164-10A-01D-2253-08\n",
      "250 tasks set up\n",
      "Inputs swapped, re-tasking LANCET_TCGA-DU-7294-01A-11D-2024-08_TCGA-DU-7294-10A-01D-2024-08\n",
      "Inputs swapped, re-tasking LANCET_TCGA-S9-A7J3-01A-21D-A34J-08_TCGA-S9-A7J3-10A-01D-A34M-08\n",
      "Inputs swapped, re-tasking LANCET_TCGA-HT-7677-01A-11D-2253-08_TCGA-HT-7677-10A-01D-2253-08\n",
      "Inputs swapped, re-tasking LANCET_TCGA-QH-A65R-01A-21D-A31L-08_TCGA-QH-A65R-10A-01D-A31J-08\n",
      "Inputs swapped, re-tasking LANCET_TCGA-FG-6692-01A-11D-1893-08_TCGA-FG-6692-10A-01D-1893-08\n",
      "Inputs swapped, re-tasking LANCET_TCGA-HT-A61C-01A-11D-A29Q-08_TCGA-HT-A61C-10A-01D-A29Q-08\n",
      "Inputs swapped, re-tasking LANCET_TCGA-HT-7856-01A-11D-2395-08_TCGA-HT-7856-10A-01D-2396-08\n",
      "Inputs swapped, re-tasking LANCET_TCGA-TM-A84M-01A-11D-A36O-08_TCGA-TM-A84M-10A-01D-A367-08\n",
      "Inputs swapped, re-tasking LANCET_TCGA-DH-A7UR-01A-11D-A33T-08_TCGA-DH-A7UR-10A-01D-A33W-08\n",
      "Inputs swapped, re-tasking LANCET_TCGA-HT-7694-01A-11D-2253-08_TCGA-HT-7694-10A-01D-2253-08\n",
      "Inputs swapped, re-tasking LANCET_TCGA-DU-7302-01A-11D-2086-08_TCGA-DU-7302-10A-01D-2086-08\n",
      "Inputs swapped, re-tasking LANCET_TCGA-S9-A7J0-01A-11D-A34A-08_TCGA-S9-A7J0-10A-01D-A34A-08\n",
      "Inputs swapped, re-tasking LANCET_TCGA-DB-A4XG-01A-11D-A27K-08_TCGA-DB-A4XG-10A-01D-A27N-08\n",
      "Inputs swapped, re-tasking LANCET_TCGA-P5-A72U-01A-31D-A32B-08_TCGA-P5-A72U-10A-01D-A329-08\n",
      "Inputs swapped, re-tasking LANCET_TCGA-DU-A76R-01A-11D-A32B-08_TCGA-DU-A76R-10A-01D-A329-08\n",
      "Inputs swapped, re-tasking LANCET_TCGA-DH-A66G-01A-21D-A31L-08_TCGA-DH-A66G-10A-01D-A31J-08\n",
      "Inputs swapped, re-tasking LANCET_TCGA-S9-A7J2-01A-11D-A34A-08_TCGA-S9-A7J2-10A-01D-A34A-08\n",
      "Inputs swapped, re-tasking LANCET_TCGA-TM-A84G-01A-11D-A36O-08_TCGA-TM-A84G-10A-01D-A367-08\n",
      "Inputs swapped, re-tasking LANCET_TCGA-TM-A84J-01A-11D-A36O-08_TCGA-TM-A84J-10A-01D-A367-08\n",
      "Inputs swapped, re-tasking LANCET_TCGA-TM-A84S-01A-11D-A36O-08_TCGA-TM-A84S-10A-01D-A367-08\n",
      "Inputs swapped, re-tasking LANCET_TCGA-TQ-A7RF-01A-11D-A33T-08_TCGA-TQ-A7RF-10A-01D-A33W-08\n",
      "Inputs swapped, re-tasking LANCET_TCGA-QR-A70X-01A-11D-A35D-08_TCGA-QR-A70X-10A-01D-A35B-08\n",
      "Inputs swapped, re-tasking LANCET_TCGA-QR-A6H1-01A-11D-A35D-08_TCGA-QR-A6H1-10A-01D-A35B-08\n",
      "Inputs swapped, re-tasking LANCET_TCGA-S7-A7X1-01A-11D-A35I-08_TCGA-S7-A7X1-10A-01D-A35G-08\n",
      "Inputs swapped, re-tasking LANCET_TCGA-P8-A5KD-01A-11D-A35D-08_TCGA-P8-A5KD-10A-01D-A35B-08\n",
      "Inputs swapped, re-tasking LANCET_TCGA-SR-A6MS-01A-11D-A35I-08_TCGA-SR-A6MS-10A-01D-A35G-08\n",
      "Inputs swapped, re-tasking LANCET_TCGA-WB-A816-01A-11D-A35I-08_TCGA-WB-A816-10A-01D-A35G-08\n",
      "Inputs swapped, re-tasking LANCET_TCGA-WB-A80O-01A-11D-A35I-08_TCGA-WB-A80O-10A-01D-A35G-08\n",
      "Inputs swapped, re-tasking LANCET_TCGA-SP-A6QF-01A-12D-A35I-08_TCGA-SP-A6QF-10A-21D-A35G-08\n",
      "Inputs swapped, re-tasking LANCET_TCGA-QR-A6GT-01A-11D-A35D-08_TCGA-QR-A6GT-10A-01D-A35B-08\n",
      "Inputs swapped, re-tasking LANCET_TCGA-SR-A6MT-01A-11D-A35I-08_TCGA-SR-A6MT-10A-01D-A35G-08\n",
      "Inputs swapped, re-tasking LANCET_TCGA-RT-A6YA-01A-12D-A35D-08_TCGA-RT-A6YA-10B-01D-A35B-08\n",
      "Inputs swapped, re-tasking LANCET_TCGA-W2-A7HD-01A-11D-A35I-08_TCGA-W2-A7HD-10D-01D-A35G-08\n",
      "Inputs swapped, re-tasking LANCET_TCGA-WB-A81P-01A-11D-A35I-08_TCGA-WB-A81P-10A-01D-A35G-08\n",
      "Inputs swapped, re-tasking LANCET_TCGA-QR-A6GS-01A-11D-A35D-08_TCGA-QR-A6GS-10A-01D-A35B-08\n",
      "Inputs swapped, re-tasking LANCET_TCGA-WB-A80N-01A-11D-A35I-08_TCGA-WB-A80N-10A-01D-A35G-08\n",
      "Inputs swapped, re-tasking LANCET_TCGA-WB-A818-01A-11D-A35I-08_TCGA-WB-A818-10A-01D-A35G-08\n",
      "Inputs swapped, re-tasking LANCET_TCGA-RT-A6Y9-01A-12D-A35D-08_TCGA-RT-A6Y9-10B-01D-A35B-08\n",
      "Inputs swapped, re-tasking LANCET_TCGA-QR-A703-01A-11D-A35D-08_TCGA-QR-A703-10A-01D-A35B-08\n",
      "Inputs swapped, re-tasking LANCET_TCGA-QR-A6H4-01A-11D-A35D-08_TCGA-QR-A6H4-10A-01D-A35B-08\n",
      "Inputs swapped, re-tasking LANCET_TCGA-W2-A7H7-01A-11D-A35I-08_TCGA-W2-A7H7-10A-01D-A35G-08\n",
      "Inputs swapped, re-tasking LANCET_TCGA-QT-A69Q-01A-11D-A35D-08_TCGA-QT-A69Q-10A-01D-A35B-08\n",
      "Inputs swapped, re-tasking LANCET_TCGA-QT-A5XL-01A-11D-A35D-08_TCGA-QT-A5XL-10A-01D-A35B-08\n",
      "Inputs swapped, re-tasking LANCET_TCGA-S7-A7WU-01A-11D-A35I-08_TCGA-S7-A7WU-10A-01D-A35G-08\n",
      "Inputs swapped, re-tasking LANCET_TCGA-WB-A819-01A-11D-A35I-08_TCGA-WB-A819-10A-01D-A35G-08\n",
      "Inputs swapped, re-tasking LANCET_TCGA-P7-A5NY-01A-12D-A35D-08_TCGA-P7-A5NY-10A-01D-A35B-08\n",
      "Inputs swapped, re-tasking LANCET_TCGA-QT-A5XP-01A-11D-A35D-08_TCGA-QT-A5XP-10A-01D-A35B-08\n",
      "Inputs swapped, re-tasking LANCET_TCGA-QT-A5XN-01A-11D-A35D-08_TCGA-QT-A5XN-10A-01D-A35B-08\n",
      "Inputs swapped, re-tasking LANCET_TCGA-SR-A6MU-01A-11D-A35I-08_TCGA-SR-A6MU-10B-01D-A35G-08\n",
      "Inputs swapped, re-tasking LANCET_TCGA-WB-A821-01A-11D-A35I-08_TCGA-WB-A821-10A-01D-A35G-08\n",
      "Inputs swapped, re-tasking LANCET_TCGA-QR-A6GO-01A-11D-A35D-08_TCGA-QR-A6GO-10A-01D-A35B-08\n",
      "300 tasks set up\n",
      "Inputs swapped, re-tasking LANCET_TCGA-WB-A81A-01A-11D-A35I-08_TCGA-WB-A81A-10A-01D-A35G-08\n",
      "Inputs swapped, re-tasking LANCET_TCGA-PR-A5PH-01A-11D-A35D-08_TCGA-PR-A5PH-10B-01D-A35B-08\n",
      "Inputs swapped, re-tasking LANCET_TCGA-WB-A820-01A-11D-A35I-08_TCGA-WB-A820-10A-01D-A35G-08\n",
      "Inputs swapped, re-tasking LANCET_TCGA-S7-A7WT-01A-12D-A35I-08_TCGA-S7-A7WT-10A-01D-A35G-08\n",
      "Inputs swapped, re-tasking LANCET_TCGA-QT-A5XJ-01A-11D-A35D-08_TCGA-QT-A5XJ-10A-01D-A35B-08\n",
      "Inputs swapped, re-tasking LANCET_TCGA-XG-A823-01A-11D-A35I-08_TCGA-XG-A823-10A-01D-A35G-08\n",
      "Inputs swapped, re-tasking LANCET_TCGA-QT-A5XK-01A-11D-A35D-08_TCGA-QT-A5XK-10A-01D-A35B-08\n",
      "Inputs swapped, re-tasking LANCET_TCGA-SR-A6MQ-01A-11D-A35I-08_TCGA-SR-A6MQ-10A-01D-A35G-08\n",
      "Inputs swapped, re-tasking LANCET_TCGA-TT-A6YO-01A-11D-A35I-08_TCGA-TT-A6YO-10A-01D-A35G-08\n",
      "Inputs swapped, re-tasking LANCET_TCGA-WB-A80Q-01A-11D-A35I-08_TCGA-WB-A80Q-10A-01D-A35G-08\n",
      "Inputs swapped, re-tasking LANCET_TCGA-P5-A5F1-01A-11D-A289-08_TCGA-P5-A5F1-10A-01D-A289-08\n"
     ]
    }
   ],
   "source": [
    "project = 'cavatica/openpbta-tcga'\n",
    "app_name = project + \"/kfdrc-lancet-wf-baminput\"\n",
    "tasks = api.tasks.query(project=project, status=\"COMPLETED\").all()\n",
    "i = 1\n",
    "n = 50\n",
    "\n",
    "with concurrent.futures.ThreadPoolExecutor(8) as executor:\n",
    "    results = {executor.submit(check_fix_swap, task): task for task in tasks}\n",
    "    for result in concurrent.futures.as_completed(results):\n",
    "        if i % n == 0:\n",
    "            sys.stderr.write(str(i) + ' tasks set up\\n')\n",
    "        i += 1\n",
    "# for task in tasks:\n",
    "#     check_fix_swap(task)"
   ]
  },
  {
   "cell_type": "markdown",
   "metadata": {},
   "source": [
    "### Re-draft failed task in another project"
   ]
  },
  {
   "cell_type": "code",
   "execution_count": 5,
   "metadata": {},
   "outputs": [
    {
     "name": "stderr",
     "output_type": "stream",
     "text": [
      "'str' object has no attribute 'copy'\n",
      "'str' object has no attribute 'copy'\n",
      "'NoneType' object has no attribute 'copy'\n",
      "'str' object has no attribute 'copy'\n",
      "'float' object has no attribute 'copy'\n",
      "'str' object has no attribute 'copy'\n",
      "'str' object has no attribute 'copy'\n",
      "'float' object has no attribute 'copy'\n",
      "'int' object has no attribute 'copy'\n",
      "'str' object has no attribute 'copy'\n",
      "'str' object has no attribute 'copy'\n",
      "'bool' object has no attribute 'copy'\n",
      "'NoneType' object has no attribute 'copy'\n",
      "copy() takes no keyword arguments\n",
      "'str' object has no attribute 'copy'\n",
      "'str' object has no attribute 'copy'\n",
      "'NoneType' object has no attribute 'copy'\n"
     ]
    },
    {
     "data": {
      "text/plain": [
       "<Task: id=412e7fc9-94b2-43ab-bd58-4079337407e4>"
      ]
     },
     "execution_count": 5,
     "metadata": {},
     "output_type": "execute_result"
    }
   ],
   "source": [
    "old_task = '416aea5b-0722-45db-9b40-8a58ed685769'\n",
    "old_task_info = api.tasks.get(old_task)\n",
    "project = 'zhangb1/kf-somatic-tools-test'\n",
    "app_name = project + \"/kfdrc-combined-somatic-wgs-cnv-wf\"\n",
    "\n",
    "in_dict = {}\n",
    "for key in old_task_info.inputs:\n",
    "    in_dict[key] = old_task_info.inputs[key]\n",
    "    try:\n",
    "        in_dict[key].copy(project=project)\n",
    "    except Exception as e:\n",
    "        sys.stderr.write(str(e) + \"\\n\")\n",
    "in_dict['output_basename'] = 'theta2_fail_catch_test'\n",
    "task_name = \"Theta2 Fail Catch Test\"\n",
    "task = api.tasks.create(name=task_name, project=project, app=app_name, inputs=in_dict, run=False)\n",
    "task.save()"
   ]
  },
  {
   "cell_type": "code",
   "execution_count": 8,
   "metadata": {},
   "outputs": [
    {
     "name": "stdout",
     "output_type": "stream",
     "text": [
      "--Return--\n",
      "> <ipython-input-8-290aa3214fc1>(3)<module>()->None\n",
      "-> pdb.set_trace()\n",
      "(Pdb) p dir(task_info)\n",
      "['_API', '_URL', '__class__', '__delattr__', '__dict__', '__dir__', '__doc__', '__eq__', '__format__', '__ge__', '__getattribute__', '__gt__', '__hash__', '__init__', '__init_subclass__', '__le__', '__lt__', '__module__', '__ne__', '__new__', '__reduce__', '__reduce_ex__', '__repr__', '__setattr__', '__sizeof__', '__str__', '__subclasshook__', '__weakref__', '_api', '_data', '_dirty', '_fields', '_modified_data', '_old', '_query', '_serialize_execution_settings', '_serialize_inputs', '_set', '_to_api_file_format', 'abort', 'app', 'batch', 'batch_by', 'batch_group', 'batch_input', 'bulk_get', 'clone', 'create', 'created_by', 'created_time', 'deepcopy', 'delete', 'description', 'end_time', 'equals', 'errors', 'executed_by', 'execution_settings', 'execution_status', 'field', 'get', 'get_batch_children', 'get_execution_details', 'href', 'id', 'inputs', 'name', 'outputs', 'parent', 'price', 'project', 'query', 'reload', 'run', 'save', 'start_time', 'status', 'type', 'use_interruptible_instances', 'wait', 'warnings']\n",
      "(Pdb) p task_info.get_execution_details().jobs\n",
      "[<Job: name=alignment_gate, status=COMPLETED>, <Job: name=process_bams_1_s_realign_split_bam_31_s_bamtofastq_chomp, status=COMPLETED>, <Job: name=process_bams_1_s_realign_split_bam_66_s_update_rg_sm, status=COMPLETED>, <Job: name=process_bams_1_s_realign_split_bam_16_s_update_rg_sm, status=COMPLETED>, <Job: name=process_bams_1_s_realign_split_bam_15_s_bamtofastq_chomp, status=COMPLETED>, <Job: name=process_bams_1_s_realign_split_bam_14_s_bwa_mem_naive_bam_1_s, status=COMPLETED>, <Job: name=process_bams_1_s_realign_split_bam_28_s_update_rg_sm, status=COMPLETED>, <Job: name=process_bams_1_s_realign_split_bam_36_s_bwa_mem_naive_bam_1_s, status=COMPLETED>, <Job: name=process_bams_1_s_realign_split_bam_58_s_bwa_mem_naive_bam_1_s, status=COMPLETED>, <Job: name=process_bams_1_s_realign_split_bam_6_s_bwa_mem_naive_bam_1_s, status=COMPLETED>, <Job: name=process_bams_1_s_realign_split_bam_21_s_bamtofastq_chomp, status=COMPLETED>, <Job: name=process_bams_1_s_realign_split_bam_31_s_update_rg_sm, status=COMPLETED>, <Job: name=process_bams_1_s_realign_split_bam_55_s_update_rg_sm, status=COMPLETED>, <Job: name=process_bams_1_s_realign_split_bam_41_s_bamtofastq_chomp, status=COMPLETED>, <Job: name=process_bams_1_s_realign_split_bam_54_s_update_rg_sm, status=COMPLETED>, <Job: name=process_bams_1_s_realign_split_bam_68_s_bwa_mem_naive_bam_1_s, status=COMPLETED>, <Job: name=process_bams_1_s_realign_split_bam_43_s_update_rg_sm, status=COMPLETED>, <Job: name=process_bams_1_s_realign_split_bam_1_s_bamtofastq_chomp, status=COMPLETED>, <Job: name=process_bams_1_s_realign_split_bam_42_s_update_rg_sm, status=COMPLETED>, <Job: name=process_bams_1_s_realign_split_bam_62_s_bamtofastq_chomp, status=COMPLETED>, <Job: name=process_bams_1_s_realign_split_bam_24_s_bwa_mem_naive_bam_1_s, status=COMPLETED>, <Job: name=process_bams_1_s_realign_split_bam_46_s_bwa_mem_naive_bam_1_s, status=COMPLETED>, <Job: name=process_bams_1_s_realign_split_bam_66_s_bwa_mem_naive_bam_1_s, status=COMPLETED>, <Job: name=process_bams_1_s_realign_split_bam_5_s_bamtofastq_chomp, status=COMPLETED>, <Job: name=process_bams_1_s_realign_split_bam_61_s_bamtofastq_chomp, status=COMPLETED>, <Job: name=process_bams_1_s_realign_split_bam_36_s_bamtofastq_chomp, status=COMPLETED>, <Job: name=process_bams_1_s_realign_split_bam_8_s_bwa_mem_naive_bam_1_s, status=COMPLETED>, <Job: name=process_bams_1_s_realign_split_bam_17_s_update_rg_sm, status=COMPLETED>, <Job: name=process_bams_1_s_realign_split_bam_38_s_bwa_mem_naive_bam_1_s, status=COMPLETED>, <Job: name=process_bams_1_s_realign_split_bam_45_s_bamtofastq_chomp, status=COMPLETED>, <Job: name=process_bams_1_s_realign_split_bam_22_s_bwa_mem_naive_bam_1_s, status=COMPLETED>, <Job: name=process_bams_1_s_realign_split_bam_5_s_update_rg_sm, status=COMPLETED>, <Job: name=process_bams_1_s_realign_split_bam_29_s_update_rg_sm, status=COMPLETED>, <Job: name=process_bams_1_s_realign_split_bam_56_s_bwa_mem_naive_bam_1_s, status=COMPLETED>, <Job: name=process_bams_1_s_realign_split_bam_15_s_update_rg_sm, status=COMPLETED>, <Job: name=process_bams_1_s_realign_split_bam_29_s_bamtofastq_chomp, status=COMPLETED>, <Job: name=process_bams_1_s_realign_split_bam_42_s_bamtofastq_chomp, status=COMPLETED>, <Job: name=process_bams_1_s_realign_split_bam_12_s_bwa_mem_naive_bam_1_s, status=COMPLETED>, <Job: name=process_bams_1_s_realign_split_bam_70_s_update_rg_sm, status=COMPLETED>, <Job: name=process_bams_1_s_realign_split_bam_48_s_bwa_mem_naive_bam_1_s, status=COMPLETED>, <Job: name=process_bams_1_s_realign_split_bam_25_s_bamtofastq_chomp, status=COMPLETED>, <Job: name=process_bams_1_s_realign_split_bam_2_s_bamtofastq_chomp, status=COMPLETED>, <Job: name=process_bams_1_s_realign_split_bam_11_s_bamtofastq_chomp, status=COMPLETED>, <Job: name=process_bams_1_s_realign_split_bam_27_s_update_rg_sm, status=COMPLETED>, <Job: name=process_bams_1_s_realign_split_bam_56_s_bamtofastq_chomp, status=COMPLETED>, <Job: name=process_bams_1_s_realign_split_bam_39_s_update_rg_sm, status=COMPLETED>, <Job: name=process_bams_1_s_realign_split_bam_3_s_update_rg_sm, status=COMPLETED>, <Job: name=process_bams_1_s_realign_split_bam_21_s_update_rg_sm, status=COMPLETED>, <Job: name=process_bams_1_s_realign_split_bam_14_s_bamtofastq_chomp, status=COMPLETED>, <Job: name=process_bams_1_s_realign_split_bam_10_s_update_rg_sm, status=COMPLETED>, <Job: name=process_bams_1_s_realign_split_bam_64_s_update_rg_sm, status=COMPLETED>, <Job: name=process_bams_1_s_realign_split_bam_60_s_update_rg_sm, status=COMPLETED>, <Job: name=process_bams_1_s_realign_split_bam_22_s_bamtofastq_chomp, status=COMPLETED>, <Job: name=process_bams_1_s_realign_split_bam_30_s_bamtofastq_chomp, status=COMPLETED>, <Job: name=process_bams_1_s_realign_split_bam_18_s_update_rg_sm, status=COMPLETED>, <Job: name=process_bams_1_s_realign_split_bam_45_s_update_rg_sm, status=COMPLETED>, <Job: name=process_bams_1_s_realign_split_bam_31_s_bwa_mem_naive_bam_1_s, status=COMPLETED>, <Job: name=process_bams_1_s_realign_split_bam_53_s_bwa_mem_naive_bam_1_s, status=COMPLETED>, <Job: name=process_bams_1_s_realign_split_bam_20_s_bwa_mem_naive_bam_1_s, status=COMPLETED>, <Job: name=process_bams_1_s_realign_split_bam_49_s_update_rg_sm, status=COMPLETED>, <Job: name=process_bams_1_s_realign_split_bam_14_s_update_rg_sm, status=COMPLETED>, <Job: name=process_bams_1_s_realign_split_bam_55_s_bamtofastq_chomp, status=COMPLETED>, <Job: name=process_bams_1_s_realign_split_bam_68_s_update_rg_sm, status=COMPLETED>, <Job: name=process_bams_1_s_realign_split_bam_19_s_bwa_mem_naive_bam_1_s, status=COMPLETED>, <Job: name=process_bams_1_s_realign_split_bam_20_s_bamtofastq_chomp, status=COMPLETED>, <Job: name=process_bams_1_s_realign_split_bam_34_s_bamtofastq_chomp, status=COMPLETED>, <Job: name=process_bams_1_s_realign_split_bam_39_s_bamtofastq_chomp, status=COMPLETED>, <Job: name=process_bams_1_s_realign_split_bam_47_s_bamtofastq_chomp, status=COMPLETED>, <Job: name=process_bams_1_s_realign_split_bam_32_s_bwa_mem_naive_bam_1_s, status=COMPLETED>, <Job: name=process_bams_1_s_realign_split_bam_26_s_bamtofastq_chomp, status=COMPLETED>, <Job: name=process_bams_1_s_realign_split_bam_54_s_bwa_mem_naive_bam_1_s, status=COMPLETED>, <Job: name=process_bams_1_s_realign_split_bam_18_s_bamtofastq_chomp, status=COMPLETED>, <Job: name=process_bams_1_s_realign_split_bam_41_s_update_rg_sm, status=COMPLETED>, <Job: name=process_bams_1_s_realign_split_bam_50_s_bwa_mem_naive_bam_1_s, status=COMPLETED>, <Job: name=process_bams_1_s_realign_split_bam_40_s_update_rg_sm, status=COMPLETED>, <Job: name=process_bams_1_s_realign_split_bam_16_s_bwa_mem_naive_bam_1_s, status=COMPLETED>, <Job: name=process_bams_1_s_realign_split_bam_44_s_bamtofastq_chomp, status=COMPLETED>, <Job: name=process_bams_1_s_realign_split_bam_52_s_bamtofastq_chomp, status=COMPLETED>, <Job: name=process_bams_1_s_realign_split_bam_61_s_update_rg_sm, status=COMPLETED>, <Job: name=process_bams_1_s_realign_split_bam_48_s_update_rg_sm, status=COMPLETED>, <Job: name=process_bams_1_s_realign_split_bam_65_s_update_rg_sm, status=COMPLETED>, <Job: name=process_bams_1_s_realign_split_bam_60_s_bamtofastq_chomp, status=COMPLETED>, <Job: name=process_bams_1_s_realign_split_bam_44_s_update_rg_sm, status=COMPLETED>, <Job: name=process_bams_1_s_realign_split_bam_33_s_bwa_mem_naive_bam_1_s, status=COMPLETED>, <Job: name=process_bams_1_s_realign_split_bam_4_s_bamtofastq_chomp, status=COMPLETED>, <Job: name=process_bams_1_s_realign_split_bam_34_s_update_rg_sm, status=COMPLETED>, <Job: name=process_bams_1_s_realign_split_bam_51_s_update_rg_sm, status=COMPLETED>, <Job: name=process_bams_1_s_realign_split_bam_30_s_update_rg_sm, status=COMPLETED>, <Job: name=process_bams_1_s_realign_split_bam_69_s_update_rg_sm, status=COMPLETED>, <Job: name=process_bams_1_s_realign_split_bam_7_s_bamtofastq_chomp, status=COMPLETED>, <Job: name=process_bams_1_s_realign_split_bam_12_s_bamtofastq_chomp, status=COMPLETED>, <Job: name=process_bams_1_s_realign_split_bam_51_s_bwa_mem_naive_bam_1_s, status=COMPLETED>, <Job: name=process_bams_1_s_realign_split_bam_34_s_bwa_mem_naive_bam_1_s, status=COMPLETED>, <Job: name=process_bams_1_s_realign_split_bam_20_s_update_rg_sm, status=COMPLETED>, <Job: name=process_bams_1_s_realign_split_bam_63_s_bamtofastq_chomp, status=COMPLETED>, <Job: name=process_bams_1_s_realign_split_bam_70_s_bwa_mem_naive_bam_1_s, status=COMPLETED>, <Job: name=process_bams_1_s_realign_split_bam_17_s_bwa_mem_naive_bam_1_s, status=COMPLETED>, <Job: name=process_bams_1_s_realign_split_bam_18_s_bwa_mem_naive_bam_1_s, status=COMPLETED>, <Job: name=process_bams_1_s_realign_split_bam_69_s_bamtofastq_chomp, status=COMPLETED>, <Job: name=process_bams_1_s_realign_split_bam_4_s_update_rg_sm, status=COMPLETED>, <Job: name=process_bams_1_s_realign_split_bam_24_s_update_rg_sm, status=COMPLETED>, <Job: name=process_bams_1_s_realign_split_bam_38_s_update_rg_sm, status=COMPLETED>, <Job: name=process_bams_1_s_realign_split_bam_66_s_bamtofastq_chomp, status=COMPLETED>, <Job: name=process_bams_1_s_realign_split_bam_52_s_bwa_mem_naive_bam_1_s, status=COMPLETED>, <Job: name=process_bams_1_s_realign_split_bam_35_s_bwa_mem_naive_bam_1_s, status=COMPLETED>, <Job: name=process_bams_1_s_realign_split_bam_62_s_update_rg_sm, status=COMPLETED>, <Job: name=process_bams_1_s_realign_split_bam_12_s_update_rg_sm, status=COMPLETED>, <Job: name=process_bams_1_s_realign_split_bam_23_s_bamtofastq_chomp, status=COMPLETED>, <Job: name=process_bams_1_s_realign_split_bam_8_s_update_rg_sm, status=COMPLETED>, <Job: name=process_bams_1_s_realign_split_bam_69_s_bwa_mem_naive_bam_1_s, status=COMPLETED>, <Job: name=process_bams_1_s_realign_split_bam_47_s_update_rg_sm, status=COMPLETED>, <Job: name=process_bams_1_s_realign_split_bam_58_s_bamtofastq_chomp, status=COMPLETED>, <Job: name=process_bams_1_s_realign_split_bam_25_s_bwa_mem_naive_bam_1_s, status=COMPLETED>, <Job: name=process_bams_1_s_realign_split_bam_35_s_update_rg_sm, status=COMPLETED>, <Job: name=process_bams_1_s_realign_split_bam_47_s_bwa_mem_naive_bam_1_s, status=COMPLETED>, <Job: name=process_bams_1_s_realign_split_bam_64_s_bamtofastq_chomp, status=COMPLETED>, <Job: name=process_bams_1_s_realign_split_bam_50_s_update_rg_sm, status=COMPLETED>, <Job: name=process_bams_1_s_realign_split_bam_58_s_update_rg_sm, status=COMPLETED>, <Job: name=process_bams_1_s_realign_split_bam_59_s_bwa_mem_naive_bam_1_s, status=COMPLETED>, <Job: name=process_bams_1_s_realign_split_bam_68_s_bamtofastq_chomp, status=COMPLETED>, <Job: name=process_bams_1_s_realign_split_bam_37_s_bwa_mem_naive_bam_1_s, status=COMPLETED>, <Job: name=process_bams_1_s_realign_split_bam_33_s_bamtofastq_chomp, status=COMPLETED>, <Job: name=process_bams_1_s_realign_split_bam_45_s_bwa_mem_naive_bam_1_s, status=COMPLETED>, <Job: name=process_bams_1_s_realign_split_bam_23_s_bwa_mem_naive_bam_1_s, status=COMPLETED>, <Job: name=process_bams_1_s_realign_split_bam_15_s_bwa_mem_naive_bam_1_s, status=COMPLETED>, <Job: name=process_bams_1_s_realign_split_bam_54_s_bamtofastq_chomp, status=COMPLETED>, <Job: name=process_bams_1_s_realign_split_bam_13_s_bamtofastq_chomp, status=COMPLETED>, <Job: name=process_bams_1_s_realign_split_bam_5_s_bwa_mem_naive_bam_1_s, status=COMPLETED>, <Job: name=process_bams_1_s_realign_split_bam_59_s_update_rg_sm, status=COMPLETED>, <Job: name=process_bams_1_s_realign_split_bam_70_s_bamtofastq_chomp, status=COMPLETED>, <Job: name=process_bams_1_s_realign_split_bam_55_s_bwa_mem_naive_bam_1_s, status=COMPLETED>, <Job: name=process_bams_1_s_realign_split_bam_11_s_update_rg_sm, status=COMPLETED>, <Job: name=process_bams_1_s_realign_split_bam_7_s_update_rg_sm, status=COMPLETED>, <Job: name=process_bams_1_s_realign_split_bam_28_s_bamtofastq_chomp, status=COMPLETED>, <Job: name=process_bams_1_s_realign_split_bam_49_s_bwa_mem_naive_bam_1_s, status=COMPLETED>, <Job: name=process_bams_1_s_realign_split_bam_19_s_update_rg_sm, status=COMPLETED>, <Job: name=process_bams_1_s_realign_split_bam_11_s_bwa_mem_naive_bam_1_s, status=COMPLETED>, <Job: name=process_bams_1_s_realign_split_bam_37_s_bamtofastq_chomp, status=COMPLETED>, <Job: name=process_bams_1_s_realign_split_bam_9_s_bwa_mem_naive_bam_1_s, status=COMPLETED>, <Job: name=process_bams_1_s_realign_split_bam_39_s_bwa_mem_naive_bam_1_s, status=COMPLETED>, <Job: name=process_bams_1_s_realign_split_bam_67_s_bwa_mem_naive_bam_1_s, status=COMPLETED>, <Job: name=process_bams_1_s_realign_split_bam_9_s_update_rg_sm, status=COMPLETED>, <Job: name=process_bams_1_s_realign_split_bam_13_s_update_rg_sm, status=COMPLETED>, <Job: name=process_bams_1_s_realign_split_bam_50_s_bamtofastq_chomp, status=COMPLETED>, <Job: name=process_bams_1_s_realign_split_bam_65_s_bwa_mem_naive_bam_1_s, status=COMPLETED>, <Job: name=process_bams_1_s_realign_split_bam_8_s_bamtofastq_chomp, status=COMPLETED>, <Job: name=process_bams_1_s_realign_split_bam_37_s_update_rg_sm, status=COMPLETED>, <Job: name=process_bams_1_s_realign_split_bam_17_s_bamtofastq_chomp, status=COMPLETED>, <Job: name=process_bams_1_s_realign_split_bam_7_s_bwa_mem_naive_bam_1_s, status=COMPLETED>, <Job: name=process_bams_1_s_realign_split_bam_1_s_update_rg_sm, status=COMPLETED>, <Job: name=process_bams_1_s_samtools_split, status=COMPLETED>, <Job: name=process_bams_1_s_realign_split_bam_21_s_bwa_mem_naive_bam_1_s, status=COMPLETED>, <Job: name=process_bams_1_s_realign_split_bam_25_s_update_rg_sm, status=COMPLETED>, <Job: name=process_bams_1_s_realign_split_bam_48_s_bamtofastq_chomp, status=COMPLETED>, <Job: name=process_bams_1_s_realign_split_bam_23_s_update_rg_sm, status=COMPLETED>, <Job: name=process_bams_1_s_realign_split_bam_13_s_bwa_mem_naive_bam_1_s, status=COMPLETED>, <Job: name=process_bams_1_s_realign_split_bam_53_s_bamtofastq_chomp, status=COMPLETED>, <Job: name=process_bams_1_s_realign_split_bam_30_s_bwa_mem_naive_bam_1_s, status=COMPLETED>, <Job: name=process_bams_1_s_realign_split_bam_57_s_bwa_mem_naive_bam_1_s, status=COMPLETED>, <Job: name=process_bams_1_s_realign_split_bam_49_s_bamtofastq_chomp, status=COMPLETED>, <Job: name=process_bams_1_s_realign_split_bam_65_s_bamtofastq_chomp, status=COMPLETED>, <Job: name=process_bams_1_s_realign_split_bam_6_s_update_rg_sm, status=COMPLETED>, <Job: name=process_bams_1_s_realign_split_bam_64_s_bwa_mem_naive_bam_1_s, status=COMPLETED>, <Job: name=process_bams_1_s_realign_split_bam_33_s_update_rg_sm, status=COMPLETED>, <Job: name=process_bams_1_s_realign_split_bam_24_s_bamtofastq_chomp, status=COMPLETED>, <Job: name=process_bams_1_s_realign_split_bam_67_s_bamtofastq_chomp, status=COMPLETED>, <Job: name=process_bams_1_s_realign_split_bam_1_s_bwa_mem_naive_bam_1_s, status=COMPLETED>, <Job: name=process_bams_1_s_realign_split_bam_42_s_bwa_mem_naive_bam_1_s, status=COMPLETED>, <Job: name=process_bams_1_s_realign_split_bam_59_s_bamtofastq_chomp, status=COMPLETED>, <Job: name=process_bams_1_s_realign_split_bam_16_s_bamtofastq_chomp, status=COMPLETED>, <Job: name=process_bams_1_s_realign_split_bam_62_s_bwa_mem_naive_bam_1_s, status=COMPLETED>, <Job: name=process_bams_1_s_realign_split_bam_57_s_update_rg_sm, status=COMPLETED>, <Job: name=process_bams_1_s_realign_split_bam_40_s_bwa_mem_naive_bam_1_s, status=COMPLETED>, <Job: name=process_bams_1_s_realign_split_bam_56_s_update_rg_sm, status=COMPLETED>, <Job: name=process_bams_1_s_realign_split_bam_52_s_update_rg_sm, status=COMPLETED>, <Job: name=process_bams_1_s_realign_split_bam_53_s_update_rg_sm, status=COMPLETED>, <Job: name=process_bams_1_s_realign_split_bam_10_s_bwa_mem_naive_bam_1_s, status=COMPLETED>, <Job: name=process_bams_1_s_realign_split_bam_29_s_bwa_mem_naive_bam_1_s, status=COMPLETED>, <Job: name=process_bams_1_s_realign_split_bam_63_s_bwa_mem_naive_bam_1_s, status=COMPLETED>, <Job: name=process_bams_1_s_realign_split_bam_10_s_bamtofastq_chomp, status=COMPLETED>, <Job: name=process_bams_1_s_realign_split_bam_41_s_bwa_mem_naive_bam_1_s, status=COMPLETED>, <Job: name=process_bams_1_s_realign_split_bam_9_s_bamtofastq_chomp, status=COMPLETED>, <Job: name=process_bams_1_s_realign_split_bam_57_s_bamtofastq_chomp, status=COMPLETED>, <Job: name=process_bams_1_s_realign_split_bam_63_s_update_rg_sm, status=COMPLETED>, <Job: name=process_bams_1_s_realign_split_bam_44_s_bwa_mem_naive_bam_1_s, status=COMPLETED>, <Job: name=process_bams_1_s_realign_split_bam_19_s_bamtofastq_chomp, status=COMPLETED>, <Job: name=process_bams_1_s_realign_split_bam_3_s_bwa_mem_naive_bam_1_s, status=COMPLETED>, <Job: name=process_bams_1_s_realign_split_bam_46_s_update_rg_sm, status=COMPLETED>, <Job: name=process_bams_1_s_realign_split_bam_43_s_bamtofastq_chomp, status=COMPLETED>, <Job: name=process_bams_1_s_realign_split_bam_27_s_bwa_mem_naive_bam_1_s, status=COMPLETED>, <Job: name=process_bams_1_s_realign_split_bam_6_s_bamtofastq_chomp, status=COMPLETED>, <Job: name=process_bams_1_s_realign_split_bam_60_s_bwa_mem_naive_bam_1_s, status=COMPLETED>, <Job: name=process_bams_1_s_realign_split_bam_51_s_bamtofastq_chomp, status=COMPLETED>, <Job: name=process_bams_1_s_realign_split_bam_32_s_update_rg_sm, status=COMPLETED>, <Job: name=process_bams_1_s_realign_split_bam_28_s_bwa_mem_naive_bam_1_s, status=COMPLETED>, <Job: name=process_bams_1_s_realign_split_bam_4_s_bwa_mem_naive_bam_1_s, status=COMPLETED>, <Job: name=process_bams_1_s_realign_split_bam_3_s_bamtofastq_chomp, status=COMPLETED>, <Job: name=process_bams_1_s_realign_split_bam_46_s_bamtofastq_chomp, status=COMPLETED>, <Job: name=process_bams_1_s_realign_split_bam_67_s_update_rg_sm, status=COMPLETED>, <Job: name=process_bams_1_s_realign_split_bam_26_s_bwa_mem_naive_bam_1_s, status=COMPLETED>, <Job: name=process_bams_1_s_realign_split_bam_38_s_bamtofastq_chomp, status=COMPLETED>, <Job: name=process_bams_1_s_realign_split_bam_43_s_bwa_mem_naive_bam_1_s, status=COMPLETED>, <Job: name=process_bams_1_s_realign_split_bam_2_s_bwa_mem_naive_bam_1_s, status=COMPLETED>, <Job: name=process_bams_1_s_realign_split_bam_36_s_update_rg_sm, status=COMPLETED>, <Job: name=process_bams_1_s_realign_split_bam_2_s_update_rg_sm, status=COMPLETED>, <Job: name=process_bams_1_s_realign_split_bam_32_s_bamtofastq_chomp, status=COMPLETED>, <Job: name=process_bams_1_s_realign_split_bam_26_s_update_rg_sm, status=COMPLETED>, <Job: name=process_bams_1_s_realign_split_bam_35_s_bamtofastq_chomp, status=COMPLETED>, <Job: name=process_bams_1_s_realign_split_bam_61_s_bwa_mem_naive_bam_1_s, status=COMPLETED>, <Job: name=process_bams_1_s_realign_split_bam_22_s_update_rg_sm, status=COMPLETED>, <Job: name=process_bams_1_s_realign_split_bam_27_s_bamtofastq_chomp, status=COMPLETED>, <Job: name=process_bams_1_s_realign_split_bam_40_s_bamtofastq_chomp, status=COMPLETED>, <Job: name=sambamba_merge, status=FAILED>]\n"
     ]
    },
    {
     "name": "stdout",
     "output_type": "stream",
     "text": [
      "(Pdb) p task_info.get_execution_details().jobs['sambamba_merge']\n",
      "*** TypeError: list indices must be integers or slices, not str\n",
      "(Pdb)  p task_info.get_execution_details().jobs[-1]\n",
      "<Job: name=sambamba_merge, status=FAILED>\n",
      "(Pdb) p dir(task_info.get_execution_details().jobs[-1])\n",
      "['_API', '__class__', '__delattr__', '__dict__', '__dir__', '__doc__', '__eq__', '__format__', '__ge__', '__getattribute__', '__gt__', '__hash__', '__init__', '__init_subclass__', '__le__', '__lt__', '__module__', '__ne__', '__new__', '__reduce__', '__reduce_ex__', '__repr__', '__setattr__', '__sizeof__', '__str__', '__subclasshook__', '__weakref__', '_api', '_data', '_dirty', '_fields', '_modified_data', '_old', '_query', '_set', 'command_line', 'deepcopy', 'delete', 'docker', 'end_time', 'equals', 'field', 'get', 'instance', 'logs', 'name', 'reload', 'retried', 'start_time', 'status']\n",
      "(Pdb) p task_info.get_execution_details().jobs[-1].name\n",
      "'sambamba_merge'\n",
      "(Pdb) p task_info.get_execution_details().jobs[-1].logs\n",
      "{'cwl_output_json': None, 'stderr': None, 'job_json': None}\n",
      "(Pdb) p task_info.get_execution_details().jobs[-1].command_line\n",
      "'ERROR - Could not get command line'\n",
      "(Pdb) p task_info.get_execution_details().jobs[-1].docker\n",
      "<Docker: checksum=sha256:b18d565dfb2c947faa502f84c0a6916ea90dd35919137819903f552d64c8dfa9\n",
      "(Pdb) p dir(task_info.get_execution_details().jobs[-2])\n",
      "['_API', '__class__', '__delattr__', '__dict__', '__dir__', '__doc__', '__eq__', '__format__', '__ge__', '__getattribute__', '__gt__', '__hash__', '__init__', '__init_subclass__', '__le__', '__lt__', '__module__', '__ne__', '__new__', '__reduce__', '__reduce_ex__', '__repr__', '__setattr__', '__sizeof__', '__str__', '__subclasshook__', '__weakref__', '_api', '_data', '_dirty', '_fields', '_modified_data', '_old', '_query', '_set', 'command_line', 'deepcopy', 'delete', 'docker', 'end_time', 'equals', 'field', 'get', 'instance', 'logs', 'name', 'reload', 'retried', 'start_time', 'status']\n",
      "(Pdb) p task_info.get_execution_details().jobs[-2].logs\n",
      "{'cwl_output_json': <File: id=5e583a66e4b0e4c580f9c2f2>, 'stderr': <File: id=5e583a66e4b0e4c580f9c2f4>, 'job_json': <File: id=5e583a66e4b0e4c580f9c2fa>}\n",
      "(Pdb) p task_info.execution_settings\n",
      "{'use_memoization': True, 'boost': None}\n",
      "(Pdb) q\n"
     ]
    },
    {
     "ename": "BdbQuit",
     "evalue": "",
     "output_type": "error",
     "traceback": [
      "\u001b[0;31m---------------------------------------------------------------------------\u001b[0m",
      "\u001b[0;31mBdbQuit\u001b[0m                                   Traceback (most recent call last)",
      "\u001b[0;32m<ipython-input-8-290aa3214fc1>\u001b[0m in \u001b[0;36m<module>\u001b[0;34m\u001b[0m\n\u001b[1;32m      1\u001b[0m \u001b[0mtask_id\u001b[0m \u001b[0;34m=\u001b[0m \u001b[0;34m'fa9f548e-5dfb-4562-a940-8c81cb5a428b'\u001b[0m\u001b[0;34m\u001b[0m\u001b[0;34m\u001b[0m\u001b[0m\n\u001b[1;32m      2\u001b[0m \u001b[0mtask_info\u001b[0m \u001b[0;34m=\u001b[0m \u001b[0mapi\u001b[0m\u001b[0;34m.\u001b[0m\u001b[0mtasks\u001b[0m\u001b[0;34m.\u001b[0m\u001b[0mget\u001b[0m\u001b[0;34m(\u001b[0m\u001b[0mtask_id\u001b[0m\u001b[0;34m)\u001b[0m\u001b[0;34m\u001b[0m\u001b[0;34m\u001b[0m\u001b[0m\n\u001b[0;32m----> 3\u001b[0;31m \u001b[0mpdb\u001b[0m\u001b[0;34m.\u001b[0m\u001b[0mset_trace\u001b[0m\u001b[0;34m(\u001b[0m\u001b[0;34m)\u001b[0m\u001b[0;34m\u001b[0m\u001b[0;34m\u001b[0m\u001b[0m\n\u001b[0m\u001b[1;32m      4\u001b[0m \u001b[0mhold\u001b[0m\u001b[0;34m=\u001b[0m\u001b[0;36m1\u001b[0m\u001b[0;34m\u001b[0m\u001b[0;34m\u001b[0m\u001b[0m\n",
      "\u001b[0;32m~/anaconda3/lib/python3.7/bdb.py\u001b[0m in \u001b[0;36mtrace_dispatch\u001b[0;34m(self, frame, event, arg)\u001b[0m\n\u001b[1;32m     90\u001b[0m             \u001b[0;32mreturn\u001b[0m \u001b[0mself\u001b[0m\u001b[0;34m.\u001b[0m\u001b[0mdispatch_call\u001b[0m\u001b[0;34m(\u001b[0m\u001b[0mframe\u001b[0m\u001b[0;34m,\u001b[0m \u001b[0marg\u001b[0m\u001b[0;34m)\u001b[0m\u001b[0;34m\u001b[0m\u001b[0;34m\u001b[0m\u001b[0m\n\u001b[1;32m     91\u001b[0m         \u001b[0;32mif\u001b[0m \u001b[0mevent\u001b[0m \u001b[0;34m==\u001b[0m \u001b[0;34m'return'\u001b[0m\u001b[0;34m:\u001b[0m\u001b[0;34m\u001b[0m\u001b[0;34m\u001b[0m\u001b[0m\n\u001b[0;32m---> 92\u001b[0;31m             \u001b[0;32mreturn\u001b[0m \u001b[0mself\u001b[0m\u001b[0;34m.\u001b[0m\u001b[0mdispatch_return\u001b[0m\u001b[0;34m(\u001b[0m\u001b[0mframe\u001b[0m\u001b[0;34m,\u001b[0m \u001b[0marg\u001b[0m\u001b[0;34m)\u001b[0m\u001b[0;34m\u001b[0m\u001b[0;34m\u001b[0m\u001b[0m\n\u001b[0m\u001b[1;32m     93\u001b[0m         \u001b[0;32mif\u001b[0m \u001b[0mevent\u001b[0m \u001b[0;34m==\u001b[0m \u001b[0;34m'exception'\u001b[0m\u001b[0;34m:\u001b[0m\u001b[0;34m\u001b[0m\u001b[0;34m\u001b[0m\u001b[0m\n\u001b[1;32m     94\u001b[0m             \u001b[0;32mreturn\u001b[0m \u001b[0mself\u001b[0m\u001b[0;34m.\u001b[0m\u001b[0mdispatch_exception\u001b[0m\u001b[0;34m(\u001b[0m\u001b[0mframe\u001b[0m\u001b[0;34m,\u001b[0m \u001b[0marg\u001b[0m\u001b[0;34m)\u001b[0m\u001b[0;34m\u001b[0m\u001b[0;34m\u001b[0m\u001b[0m\n",
      "\u001b[0;32m~/anaconda3/lib/python3.7/bdb.py\u001b[0m in \u001b[0;36mdispatch_return\u001b[0;34m(self, frame, arg)\u001b[0m\n\u001b[1;32m    152\u001b[0m             \u001b[0;32mfinally\u001b[0m\u001b[0;34m:\u001b[0m\u001b[0;34m\u001b[0m\u001b[0;34m\u001b[0m\u001b[0m\n\u001b[1;32m    153\u001b[0m                 \u001b[0mself\u001b[0m\u001b[0;34m.\u001b[0m\u001b[0mframe_returning\u001b[0m \u001b[0;34m=\u001b[0m \u001b[0;32mNone\u001b[0m\u001b[0;34m\u001b[0m\u001b[0;34m\u001b[0m\u001b[0m\n\u001b[0;32m--> 154\u001b[0;31m             \u001b[0;32mif\u001b[0m \u001b[0mself\u001b[0m\u001b[0;34m.\u001b[0m\u001b[0mquitting\u001b[0m\u001b[0;34m:\u001b[0m \u001b[0;32mraise\u001b[0m \u001b[0mBdbQuit\u001b[0m\u001b[0;34m\u001b[0m\u001b[0;34m\u001b[0m\u001b[0m\n\u001b[0m\u001b[1;32m    155\u001b[0m             \u001b[0;31m# The user issued a 'next' or 'until' command.\u001b[0m\u001b[0;34m\u001b[0m\u001b[0;34m\u001b[0m\u001b[0;34m\u001b[0m\u001b[0m\n\u001b[1;32m    156\u001b[0m             \u001b[0;32mif\u001b[0m \u001b[0mself\u001b[0m\u001b[0;34m.\u001b[0m\u001b[0mstopframe\u001b[0m \u001b[0;32mis\u001b[0m \u001b[0mframe\u001b[0m \u001b[0;32mand\u001b[0m \u001b[0mself\u001b[0m\u001b[0;34m.\u001b[0m\u001b[0mstoplineno\u001b[0m \u001b[0;34m!=\u001b[0m \u001b[0;34m-\u001b[0m\u001b[0;36m1\u001b[0m\u001b[0;34m:\u001b[0m\u001b[0;34m\u001b[0m\u001b[0;34m\u001b[0m\u001b[0m\n",
      "\u001b[0;31mBdbQuit\u001b[0m: "
     ]
    }
   ],
   "source": [
    "task_id = 'fa9f548e-5dfb-4562-a940-8c81cb5a428b'\n",
    "task_info = api.tasks.get(task_id)\n",
    "pdb.set_trace()\n",
    "hold=1"
   ]
  },
  {
   "cell_type": "code",
   "execution_count": null,
   "metadata": {},
   "outputs": [],
   "source": []
  }
 ],
 "metadata": {
  "kernelspec": {
   "display_name": "Python 3",
   "language": "python",
   "name": "python3"
  },
  "language_info": {
   "codemirror_mode": {
    "name": "ipython",
    "version": 3
   },
   "file_extension": ".py",
   "mimetype": "text/x-python",
   "name": "python",
   "nbconvert_exporter": "python",
   "pygments_lexer": "ipython3",
   "version": "3.7.7"
  }
 },
 "nbformat": 4,
 "nbformat_minor": 2
}
