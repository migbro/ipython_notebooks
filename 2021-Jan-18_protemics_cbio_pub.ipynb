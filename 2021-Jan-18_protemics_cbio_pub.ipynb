{
 "cells": [
  {
   "cell_type": "code",
   "execution_count": 3,
   "metadata": {},
   "outputs": [],
   "source": [
    "import sevenbridges as sbg\n",
    "from sevenbridges.errors import SbgError\n",
    "from sevenbridges.http.error_handlers import rate_limit_sleeper, maintenance_sleeper\n",
    "import sys\n",
    "import re\n",
    "import concurrent.futures\n",
    "import pdb\n",
    "config = sbg.Config(profile='turbo') # assumes sbg credentials file, use your profile name here\n",
    "api = sbg.Api(config=config, error_handlers=[rate_limit_sleeper, maintenance_sleeper])"
   ]
  },
  {
   "cell_type": "code",
   "execution_count": 4,
   "metadata": {},
   "outputs": [],
   "source": [
    "def populate_metadata(samp_id):\n",
    "    try:\n",
    "        samp_id = samp_id.rstrip('\\n')\n",
    "        related = api.files.query(project=project, metadata = {'sample_id': samp_id}).all()\n",
    "        for fobj in related:\n",
    "            if suffix in fobj.name and mod_date in str(fobj.created_on):\n",
    "                if fobj.metadata['Composition'] and fobj.metadata['Composition'] == \"Derived Cell Line\":\n",
    "                    continue\n",
    "                metadata[samp_id] = {}\n",
    "                for key in fobj.metadata:\n",
    "                    if key not in head_list:\n",
    "                        head_list.append(key)\n",
    "                    metadata[samp_id][key] = fobj.metadata[key]\n",
    "                metadata[samp_id]['id'] = fobj.id\n",
    "                metadata[samp_id]['name'] = fobj.name\n",
    "                return 0\n",
    "        # some seem to have the old suffixes still?\n",
    "        samp_id2 = samp_id + \"-T.WGS\"\n",
    "        related = api.files.query(project=project, metadata = {'sample_id': samp_id2}).all()\n",
    "        for fobj in related:\n",
    "            if suffix in fobj.name and mod_date in str(fobj.created_on):\n",
    "                metadata[samp_id] = {}\n",
    "                for key in fobj.metadata:\n",
    "                    if key not in head_list:\n",
    "                        head_list.append(key)\n",
    "                    metadata[samp_id][key] = fobj.metadata[key]\n",
    "                metadata[samp_id]['id'] = fobj.id\n",
    "                metadata[samp_id]['name'] = fobj.name\n",
    "                # set to ID style in paper\n",
    "                metadata[samp_id]['sample_id'] = samp_id\n",
    "                #pdb.set_trace()\n",
    "                return 0\n",
    "\n",
    "        return samp_id\n",
    "    except Exception as e:\n",
    "        sys.stderr.write(str(e) + \"\\nDoes file exist for \" + samp_id + \"?\\n\")\n",
    "        exit(1)\n"
   ]
  },
  {
   "cell_type": "markdown",
   "metadata": {},
   "source": [
    "## Get maf manifest"
   ]
  },
  {
   "cell_type": "code",
   "execution_count": 5,
   "metadata": {},
   "outputs": [],
   "source": [
    "project=\"kfdrc-harmonization/sd-bhjxbdqk-08\"\n",
    "samp_id_list = open(\"/Users/brownm28/Documents/PORTAL_LOADS/2020-Oct-5_proteomics_pub/load_build/mut_sample_list.txt\")\n",
    "metadata = {}\n",
    "suffix = \"strelka2.vep.maf\"\n",
    "mod_date = \"2019-10\"\n",
    "head_list = ['id', 'name']\n",
    "\n",
    "x = 1\n",
    "n = 25\n",
    "with concurrent.futures.ThreadPoolExecutor(8) as executor:\n",
    "    results = {executor.submit(populate_metadata, samp_id): samp_id for samp_id in samp_id_list}\n",
    "    for result in concurrent.futures.as_completed(results):\n",
    "        if result.result() == 0:\n",
    "#             if x % n == 0:\n",
    "#                 sys.stderr.write(str(x) + ' samples catalogged\\n')\n",
    "            x += 1\n",
    "        else:\n",
    "            sys.stderr.write(result.result() + \"\\tnot found\\n\")\n",
    "# for samp_id in samp_id_list:\n",
    "#     populate_metadata(samp_id)"
   ]
  },
  {
   "cell_type": "code",
   "execution_count": 6,
   "metadata": {},
   "outputs": [],
   "source": [
    "maf_manifest = open(\"/Users/brownm28/Documents/PORTAL_LOADS/2020-Oct-5_proteomics_pub/load_build/maf_manifest.tsv\", \"w\")\n",
    "maf_manifest.write(\"\\t\".join(head_list) + \"\\n\")\n",
    "for samp_id in metadata:\n",
    "    temp = []\n",
    "    for key in head_list:\n",
    "        try:\n",
    "            temp.append(str(metadata[samp_id][key]))\n",
    "        except KeyError:\n",
    "            temp.append(\"MISSING\")\n",
    "    maf_manifest.write(\"\\t\".join(temp) + \"\\n\")\n",
    "maf_manifest.close()"
   ]
  },
  {
   "cell_type": "markdown",
   "metadata": {},
   "source": [
    "## Get cnv kit file manifest\n",
    "Uses maf file manifest to get cnvkit files"
   ]
  },
  {
   "cell_type": "code",
   "execution_count": 2,
   "metadata": {},
   "outputs": [],
   "source": [
    "def search_tasks(task_obj):\n",
    "    try:\n",
    "        parts = task_obj.name.split()\n",
    "        if parts[-1] in metadata:\n",
    "            return parts[-1], task_obj.outputs[\"cnvkit_calls\"].id, task_obj.outputs[\"cnvkit_calls\"].name\n",
    "        else:\n",
    "            return 0\n",
    "    except Exception as e:\n",
    "        sys.stderr.write(str(e) + \"\\nError processing \" + task_obj.id)\n",
    "        exit(1)\n",
    "    "
   ]
  },
  {
   "cell_type": "code",
   "execution_count": 4,
   "metadata": {},
   "outputs": [
    {
     "name": "stderr",
     "output_type": "stream",
     "text": [
      "25 samples found\n",
      "50 samples found\n",
      "75 samples found\n",
      "100 samples found\n",
      "125 samples found\n",
      "150 samples found\n",
      "175 samples found\n",
      "200 samples found\n"
     ]
    }
   ],
   "source": [
    "project=\"kfdrc-harmonization/sd-bhjxbdqk-12\"\n",
    "maf_manifest = open(\"/Users/brownm28/Documents/PORTAL_LOADS/2020-Oct-5_proteomics_pub/load_build/maf_manifest.tsv\")\n",
    "head = next(maf_manifest)\n",
    "header = head.rstrip('\\n').split('\\t')\n",
    "kf_id = header.index(\"Kids First Biospecimen ID Tumor\")\n",
    "metadata = {}\n",
    "\n",
    "for line in maf_manifest:\n",
    "    info = line.rstrip('\\n').split('\\t')\n",
    "    metadata[info[kf_id]] = info\n",
    "    \n",
    "cnv_manifest = open(\"/Users/brownm28/Documents/PORTAL_LOADS/2020-Oct-5_proteomics_pub/load_build/cnvkit_manifest.tsv\", \"w\")\n",
    "cnv_manifest.write(\"\\t\".join(header) + \"\\n\")\n",
    "tasks = api.tasks.query(status=\"COMPLETED\", project=project).all()\n",
    "# pdb.set_trace()\n",
    "x = 1\n",
    "n = 25\n",
    "with concurrent.futures.ThreadPoolExecutor(8) as executor:\n",
    "    results = {executor.submit(search_tasks, task): task for task in tasks}\n",
    "    for result in concurrent.futures.as_completed(results):\n",
    "        if result.result() != 0:\n",
    "            if x % n == 0:\n",
    "                sys.stderr.write(str(x) + ' samples found\\n')\n",
    "            x += 1\n",
    "            data = metadata[result.result()[0]]\n",
    "            data[0] = result.result()[1]\n",
    "            data[1] = result.result()[2]\n",
    "            cnv_manifest.write(\"\\t\".join(data) + \"\\n\")\n",
    "cnv_manifest.close()\n",
    "            \n"
   ]
  },
  {
   "cell_type": "code",
   "execution_count": null,
   "metadata": {},
   "outputs": [],
   "source": []
  }
 ],
 "metadata": {
  "kernelspec": {
   "display_name": "Python 3",
   "language": "python",
   "name": "python3"
  },
  "language_info": {
   "codemirror_mode": {
    "name": "ipython",
    "version": 3
   },
   "file_extension": ".py",
   "mimetype": "text/x-python",
   "name": "python",
   "nbconvert_exporter": "python",
   "pygments_lexer": "ipython3",
   "version": "3.7.7"
  }
 },
 "nbformat": 4,
 "nbformat_minor": 4
}
