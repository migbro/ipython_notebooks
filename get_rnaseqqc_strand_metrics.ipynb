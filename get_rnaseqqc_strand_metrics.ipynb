{
 "cells": [
  {
   "cell_type": "code",
   "execution_count": 19,
   "metadata": {},
   "outputs": [],
   "source": [
    "import sevenbridges as sbg\n",
    "from sevenbridges.errors import SbgError\n",
    "from sevenbridges.http.error_handlers import rate_limit_sleeper, maintenance_sleeper\n",
    "import sys\n",
    "import re\n",
    "import pdb\n",
    "import concurrent.futures\n",
    "from requests import request\n",
    "config = sbg.Config(profile='cavatica')\n",
    "api = sbg.Api(config=config, error_handlers=[rate_limit_sleeper, maintenance_sleeper])"
   ]
  },
  {
   "cell_type": "code",
   "execution_count": 20,
   "metadata": {},
   "outputs": [],
   "source": [
    "def parse_task(task, prefix):\n",
    "    try:\n",
    "        if re.search(prefix, task.name):\n",
    "            # print (task.id + '\\t' + task.name + '\\t' + str(task.price.amount) + '\\n')\n",
    "            metrics = task.outputs['RNASeQC_Metrics'].content()\n",
    "            data = metrics.split('\\n')\n",
    "            end1 = data[23].split('\\t')\n",
    "            end2 = data[24].split('\\t')\n",
    "            # pdb.set_trace()\n",
    "            return task.id + '\\t' + task.name + '\\t' + end1[1] + '\\t' + end2[1] + '\\n'\n",
    "    except Exception as e:\n",
    "        sys.stderr.write('Could not process task ' + task.id + ' ' + task.name + ' got error ' + str(e) + '\\n')\n",
    "        sys.exit()"
   ]
  },
  {
   "cell_type": "code",
   "execution_count": 21,
   "metadata": {},
   "outputs": [
    {
     "name": "stderr",
     "output_type": "stream",
     "text": [
      "WARNING:urllib3.connectionpool:Connection pool is full, discarding connection: cavatica-api.sbgenomics.com\n",
      "WARNING:urllib3.connectionpool:Connection pool is full, discarding connection: cavatica-api.sbgenomics.com\n",
      "WARNING:urllib3.connectionpool:Connection pool is full, discarding connection: cavatica-api.sbgenomics.com\n",
      "WARNING:urllib3.connectionpool:Connection pool is full, discarding connection: cavatica-api.sbgenomics.com\n",
      "WARNING:urllib3.connectionpool:Connection pool is full, discarding connection: cavatica-api.sbgenomics.com\n",
      "WARNING:urllib3.connectionpool:Connection pool is full, discarding connection: cavatica-api.sbgenomics.com\n",
      "WARNING:urllib3.connectionpool:Connection pool is full, discarding connection: cavatica-api.sbgenomics.com\n",
      "WARNING:urllib3.connectionpool:Connection pool is full, discarding connection: cavatica-api.sbgenomics.com\n",
      "WARNING:urllib3.connectionpool:Connection pool is full, discarding connection: cavatica-api.sbgenomics.com\n",
      "WARNING:urllib3.connectionpool:Connection pool is full, discarding connection: cavatica-api.sbgenomics.com\n",
      "WARNING:urllib3.connectionpool:Connection pool is full, discarding connection: cavatica-api.sbgenomics.com\n",
      "WARNING:urllib3.connectionpool:Connection pool is full, discarding connection: cavatica-api.sbgenomics.com\n",
      "WARNING:urllib3.connectionpool:Connection pool is full, discarding connection: cavatica-api.sbgenomics.com\n",
      "WARNING:urllib3.connectionpool:Connection pool is full, discarding connection: cavatica-api.sbgenomics.com\n",
      "WARNING:urllib3.connectionpool:Connection pool is full, discarding connection: cavatica-api.sbgenomics.com\n",
      "WARNING:urllib3.connectionpool:Connection pool is full, discarding connection: cavatica-api.sbgenomics.com\n"
     ]
    }
   ],
   "source": [
    "id_pre = 'RNAfusion'\n",
    "suffix = '-Reharmonization'\n",
    "project = 'kfdrc-harmonization/sd-bhjxbdqk-06'\n",
    "\n",
    "#test = api.files.get(id='5c60b3b4e4b0c5cd89bde931')\n",
    "\n",
    "tasks = api.tasks.query(project=project, status='COMPLETED').all()\n",
    "\n",
    "out_fh = open('/Users/brownm28/Documents/2019-Jan-31_rna_fusion/strand_info/strand_info.txt', 'w')\n",
    "out_fh.write('Task ID\\tTask name\\tend 1 sense rate\\tend2 sense rate\\n')\n",
    "\n",
    "with concurrent.futures.ThreadPoolExecutor(16) as executor:\n",
    "    results = {executor.submit(parse_task, task, id_pre): task for task in tasks}\n",
    "    for strand_info in concurrent.futures.as_completed(results):\n",
    "        try:\n",
    "            if strand_info.result() is not None:\n",
    "                out_fh.write(strand_info.result())\n",
    "        except Exception as e:\n",
    "            print (e)\n",
    "out_fh.close()\n",
    "\n",
    "#for task in tasks:\n",
    "#    parse_task(task, id_pre)"
   ]
  },
  {
   "cell_type": "code",
   "execution_count": null,
   "metadata": {},
   "outputs": [],
   "source": []
  }
 ],
 "metadata": {
  "kernelspec": {
   "display_name": "Python 3",
   "language": "python",
   "name": "python3"
  },
  "language_info": {
   "codemirror_mode": {
    "name": "ipython",
    "version": 3
   },
   "file_extension": ".py",
   "mimetype": "text/x-python",
   "name": "python",
   "nbconvert_exporter": "python",
   "pygments_lexer": "ipython3",
   "version": "3.7.0"
  }
 },
 "nbformat": 4,
 "nbformat_minor": 2
}
