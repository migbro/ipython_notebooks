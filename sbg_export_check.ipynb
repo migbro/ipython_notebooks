{
 "cells": [
  {
   "cell_type": "code",
   "execution_count": 15,
   "metadata": {},
   "outputs": [],
   "source": [
    "import sevenbridges as sbg\n",
    "import sys\n",
    "from requests import request\n",
    "\n",
    "config = sbg.Config(profile='kfdrc-harmonization')\n",
    "api = sbg.Api(config=config)"
   ]
  },
  {
   "cell_type": "code",
   "execution_count": 2,
   "metadata": {},
   "outputs": [
    {
     "name": "stdout",
     "output_type": "stream",
     "text": [
      "FAILED:\t4478\n",
      "COMPLETED:\t1196\n",
      "CANCELLED:\t15\n"
     ]
    }
   ],
   "source": [
    "vol = 'kfdrc-harmonization/sd_rm8afw0r'\n",
    "vol_info = api.volumes.get(id=vol)\n",
    "exp_fh = open('/Users/brownm28/Documents/2018-Sep-11_Rios-Wise/build_task/file_check/export_check.txt', 'w')\n",
    "# print (dir(vol_info))\n",
    "exp_info = vol_info.get_exports().all()\n",
    "# print(dir(exp_info))\n",
    "states = {}\n",
    "for exp in exp_info:\n",
    "    cur_state = exp.state\n",
    "    #if cur_state != 'FAILED':\n",
    "    if cur_state not in states:\n",
    "        states[cur_state] = 0\n",
    "    states[cur_state] += 1\n",
    "    #if cur_state == 'RUNNING':\n",
    "    #    print (exp.id)\n",
    "    #    exp.delete()\n",
    "    #    print (exp.error, exp.result)\n",
    "        # break\n",
    "    #try:\n",
    "    #    exp.delete()\n",
    "    #except:\n",
    "    #    sys.stderr.write('Cannot delete that export ' + str(i) + '\\n')\n",
    "\n",
    "for state in states:\n",
    "    print (state + ':\\t' + str(states[state]))\n",
    "        "
   ]
  },
  {
   "cell_type": "code",
   "execution_count": 8,
   "metadata": {},
   "outputs": [
    {
     "name": "stdout",
     "output_type": "stream",
     "text": [
      "['FOLDER_TYPE', '_API', '_URL', '__class__', '__delattr__', '__dict__', '__dir__', '__doc__', '__eq__', '__format__', '__ge__', '__getattribute__', '__gt__', '__hash__', '__init__', '__init_subclass__', '__le__', '__lt__', '__module__', '__ne__', '__new__', '__reduce__', '__reduce_ex__', '__repr__', '__setattr__', '__sizeof__', '__str__', '__subclasshook__', '__weakref__', '_api', '_data', '_dirty', '_fields', '_modified_data', '_old', '_query', 'bulk_delete', 'bulk_edit', 'bulk_get', 'bulk_update', 'content', 'copy', 'copy_to_folder', 'create_folder', 'created_on', 'deepcopy', 'delete', 'download', 'download_info', 'equals', 'field', 'get', 'href', 'id', 'is_folder', 'list_files', 'metadata', 'modified_on', 'move_to_folder', 'name', 'origin', 'parent', 'project', 'query', 'reload', 'save', 'size', 'storage', 'stream', 'tags', 'type', 'upload']\n",
      "31635154392\n"
     ]
    }
   ],
   "source": [
    "project = 'kfdrc-harmonization/sd-rm8afw0r'\n",
    "check = api.files.query(project = project,names = ['16295f59-920e-41b3-93f0-cc13661e228e.cram'])\n",
    "print (dir(check[0]))\n",
    "print (check[0].size)"
   ]
  },
  {
   "cell_type": "markdown",
   "metadata": {},
   "source": [
    "## Troubleshoot export by removing files that could not export and re-copy"
   ]
  },
  {
   "cell_type": "code",
   "execution_count": 14,
   "metadata": {},
   "outputs": [
    {
     "name": "stderr",
     "output_type": "stream",
     "text": [
      "Deleting files\n"
     ]
    }
   ],
   "source": [
    "project = 'kids-first-drc/sd-rm8afw0r-har'\n",
    "f_list = []\n",
    "for fn in open('/Users/brownm28/Documents/2018-Sep-11_Rios-Wise/build_task/data_harmonization/RETRY_FAIL/to_del_and_recopy.txt'):\n",
    "    f_list.append(fn.rstrip('\\n'))\n",
    "file_obj = api.files.query(project=project).all()\n",
    "sys.stderr.write('Deleting files\\n')\n",
    "for fobj in file_obj:\n",
    "    fname = fobj.name\n",
    "    if fname in f_list:\n",
    "        sys.stderr.write('Deleting ' + fname + '\\n')\n",
    "        fobj.delete()\n",
    "        "
   ]
  },
  {
   "cell_type": "markdown",
   "metadata": {},
   "source": [
    "## Find and copy by list"
   ]
  },
  {
   "cell_type": "code",
   "execution_count": 16,
   "metadata": {},
   "outputs": [
    {
     "name": "stderr",
     "output_type": "stream",
     "text": [
      "00076580-6ddd-4f1d-8f67-21b7d29903ae.g.vcf.gz not inkids-first-drc/sd-rm8afw0r-har, copying from kfdrc-harmonization/sd-rm8afw0r\n",
      "00076580-6ddd-4f1d-8f67-21b7d29903ae.g.vcf.gz.tbi not inkids-first-drc/sd-rm8afw0r-har, copying from kfdrc-harmonization/sd-rm8afw0r\n",
      "00ad2d38-5546-47cb-827d-4a8e388528fa.g.vcf.gz not inkids-first-drc/sd-rm8afw0r-har, copying from kfdrc-harmonization/sd-rm8afw0r\n",
      "00ad2d38-5546-47cb-827d-4a8e388528fa.g.vcf.gz.tbi not inkids-first-drc/sd-rm8afw0r-har, copying from kfdrc-harmonization/sd-rm8afw0r\n",
      "00ae4219-5ae0-40c9-ae31-c54012ce4659.cram not inkids-first-drc/sd-rm8afw0r-har, copying from kfdrc-harmonization/sd-rm8afw0r\n",
      "00ae4219-5ae0-40c9-ae31-c54012ce4659.cram.crai not inkids-first-drc/sd-rm8afw0r-har, copying from kfdrc-harmonization/sd-rm8afw0r\n",
      "00ed8329-5465-4632-9660-0234f87d78a3.cram not inkids-first-drc/sd-rm8afw0r-har, copying from kfdrc-harmonization/sd-rm8afw0r\n",
      "00ed8329-5465-4632-9660-0234f87d78a3.cram.crai not inkids-first-drc/sd-rm8afw0r-har, copying from kfdrc-harmonization/sd-rm8afw0r\n",
      "0135447d-ced5-480a-a444-32f4b5717de9.g.vcf.gz not inkids-first-drc/sd-rm8afw0r-har, copying from kfdrc-harmonization/sd-rm8afw0r\n",
      "0135447d-ced5-480a-a444-32f4b5717de9.g.vcf.gz.tbi not inkids-first-drc/sd-rm8afw0r-har, copying from kfdrc-harmonization/sd-rm8afw0r\n",
      "01876198-29ad-416b-8de9-4357707c8929.cram not inkids-first-drc/sd-rm8afw0r-har, copying from kfdrc-harmonization/sd-rm8afw0r\n",
      "01876198-29ad-416b-8de9-4357707c8929.cram.crai not inkids-first-drc/sd-rm8afw0r-har, copying from kfdrc-harmonization/sd-rm8afw0r\n",
      "01a908e5-bff2-43a4-9741-d0bc9a8b2dde.g.vcf.gz not inkids-first-drc/sd-rm8afw0r-har, copying from kfdrc-harmonization/sd-rm8afw0r\n",
      "01a908e5-bff2-43a4-9741-d0bc9a8b2dde.g.vcf.gz.tbi not inkids-first-drc/sd-rm8afw0r-har, copying from kfdrc-harmonization/sd-rm8afw0r\n",
      "01b6555c-18d1-4ec9-a759-746ba5a2664c.cram not inkids-first-drc/sd-rm8afw0r-har, copying from kfdrc-harmonization/sd-rm8afw0r\n",
      "01b6555c-18d1-4ec9-a759-746ba5a2664c.cram.crai not inkids-first-drc/sd-rm8afw0r-har, copying from kfdrc-harmonization/sd-rm8afw0r\n",
      "01da9381-2941-40e7-bf40-1ca526fb735b.g.vcf.gz not inkids-first-drc/sd-rm8afw0r-har, copying from kfdrc-harmonization/sd-rm8afw0r\n",
      "01da9381-2941-40e7-bf40-1ca526fb735b.g.vcf.gz.tbi not inkids-first-drc/sd-rm8afw0r-har, copying from kfdrc-harmonization/sd-rm8afw0r\n",
      "020c5702-fc24-4558-9330-8d116b1cc3bc.g.vcf.gz not inkids-first-drc/sd-rm8afw0r-har, copying from kfdrc-harmonization/sd-rm8afw0r\n",
      "020c5702-fc24-4558-9330-8d116b1cc3bc.g.vcf.gz.tbi not inkids-first-drc/sd-rm8afw0r-har, copying from kfdrc-harmonization/sd-rm8afw0r\n",
      "02766e05-b754-4a0d-bb2c-19aaf42a6e2a.g.vcf.gz not inkids-first-drc/sd-rm8afw0r-har, copying from kfdrc-harmonization/sd-rm8afw0r\n",
      "02766e05-b754-4a0d-bb2c-19aaf42a6e2a.g.vcf.gz.tbi not inkids-first-drc/sd-rm8afw0r-har, copying from kfdrc-harmonization/sd-rm8afw0r\n",
      "02fa47db-9f2f-438d-a66c-e33d39acb92e.cram not inkids-first-drc/sd-rm8afw0r-har, copying from kfdrc-harmonization/sd-rm8afw0r\n",
      "02fa47db-9f2f-438d-a66c-e33d39acb92e.cram.crai not inkids-first-drc/sd-rm8afw0r-har, copying from kfdrc-harmonization/sd-rm8afw0r\n",
      "0486ef52-6818-4051-a0e9-49020f3093d0.g.vcf.gz not inkids-first-drc/sd-rm8afw0r-har, copying from kfdrc-harmonization/sd-rm8afw0r\n",
      "0486ef52-6818-4051-a0e9-49020f3093d0.g.vcf.gz.tbi not inkids-first-drc/sd-rm8afw0r-har, copying from kfdrc-harmonization/sd-rm8afw0r\n",
      "04bbddff-becc-4585-8cc9-e1d6e0e00c1a.g.vcf.gz not inkids-first-drc/sd-rm8afw0r-har, copying from kfdrc-harmonization/sd-rm8afw0r\n",
      "04bbddff-becc-4585-8cc9-e1d6e0e00c1a.g.vcf.gz.tbi not inkids-first-drc/sd-rm8afw0r-har, copying from kfdrc-harmonization/sd-rm8afw0r\n",
      "0503e622-a3d4-47a9-a9a9-a9a425c61a38.cram not inkids-first-drc/sd-rm8afw0r-har, copying from kfdrc-harmonization/sd-rm8afw0r\n",
      "0503e622-a3d4-47a9-a9a9-a9a425c61a38.cram.crai not inkids-first-drc/sd-rm8afw0r-har, copying from kfdrc-harmonization/sd-rm8afw0r\n",
      "06960764-3aab-4387-884f-b04cf871f204.g.vcf.gz not inkids-first-drc/sd-rm8afw0r-har, copying from kfdrc-harmonization/sd-rm8afw0r\n",
      "06960764-3aab-4387-884f-b04cf871f204.g.vcf.gz.tbi not inkids-first-drc/sd-rm8afw0r-har, copying from kfdrc-harmonization/sd-rm8afw0r\n",
      "06d4924f-a4a2-437d-b0e8-87dc554683a6.g.vcf.gz not inkids-first-drc/sd-rm8afw0r-har, copying from kfdrc-harmonization/sd-rm8afw0r\n",
      "06d4924f-a4a2-437d-b0e8-87dc554683a6.g.vcf.gz.tbi not inkids-first-drc/sd-rm8afw0r-har, copying from kfdrc-harmonization/sd-rm8afw0r\n",
      "071290a4-b837-4f9e-a9f4-444109c1ae76.cram not inkids-first-drc/sd-rm8afw0r-har, copying from kfdrc-harmonization/sd-rm8afw0r\n",
      "071290a4-b837-4f9e-a9f4-444109c1ae76.cram.crai not inkids-first-drc/sd-rm8afw0r-har, copying from kfdrc-harmonization/sd-rm8afw0r\n",
      "083f1784-d05c-428c-97d2-a777d14c7d38.g.vcf.gz not inkids-first-drc/sd-rm8afw0r-har, copying from kfdrc-harmonization/sd-rm8afw0r\n",
      "083f1784-d05c-428c-97d2-a777d14c7d38.g.vcf.gz.tbi not inkids-first-drc/sd-rm8afw0r-har, copying from kfdrc-harmonization/sd-rm8afw0r\n",
      "08722990-6189-41ac-a1f4-8f5b6085770a.cram not inkids-first-drc/sd-rm8afw0r-har, copying from kfdrc-harmonization/sd-rm8afw0r\n",
      "08722990-6189-41ac-a1f4-8f5b6085770a.cram.crai not inkids-first-drc/sd-rm8afw0r-har, copying from kfdrc-harmonization/sd-rm8afw0r\n",
      "08899aec-17b9-44ba-9cca-71cc73542103.cram not inkids-first-drc/sd-rm8afw0r-har, copying from kfdrc-harmonization/sd-rm8afw0r\n",
      "08899aec-17b9-44ba-9cca-71cc73542103.cram.crai not inkids-first-drc/sd-rm8afw0r-har, copying from kfdrc-harmonization/sd-rm8afw0r\n",
      "090d8fdb-1bc4-4e01-89ac-27e0c205b15b.cram not inkids-first-drc/sd-rm8afw0r-har, copying from kfdrc-harmonization/sd-rm8afw0r\n",
      "090d8fdb-1bc4-4e01-89ac-27e0c205b15b.cram.crai not inkids-first-drc/sd-rm8afw0r-har, copying from kfdrc-harmonization/sd-rm8afw0r\n",
      "091b9c0e-4d81-4cef-a3a4-2db6e7a06bec.cram not inkids-first-drc/sd-rm8afw0r-har, copying from kfdrc-harmonization/sd-rm8afw0r\n",
      "091b9c0e-4d81-4cef-a3a4-2db6e7a06bec.cram.crai not inkids-first-drc/sd-rm8afw0r-har, copying from kfdrc-harmonization/sd-rm8afw0r\n",
      "09faac68-aefc-476e-9246-9f2404e9eadf.cram not inkids-first-drc/sd-rm8afw0r-har, copying from kfdrc-harmonization/sd-rm8afw0r\n",
      "09faac68-aefc-476e-9246-9f2404e9eadf.cram.crai not inkids-first-drc/sd-rm8afw0r-har, copying from kfdrc-harmonization/sd-rm8afw0r\n",
      "0a2e6a6a-d3a9-47a2-83ed-c713a46733f8.g.vcf.gz not inkids-first-drc/sd-rm8afw0r-har, copying from kfdrc-harmonization/sd-rm8afw0r\n",
      "0a2e6a6a-d3a9-47a2-83ed-c713a46733f8.g.vcf.gz.tbi not inkids-first-drc/sd-rm8afw0r-har, copying from kfdrc-harmonization/sd-rm8afw0r\n",
      "0ba9dd5c-2822-4a5c-92f6-d1930b900843.cram not inkids-first-drc/sd-rm8afw0r-har, copying from kfdrc-harmonization/sd-rm8afw0r\n",
      "0ba9dd5c-2822-4a5c-92f6-d1930b900843.cram.crai not inkids-first-drc/sd-rm8afw0r-har, copying from kfdrc-harmonization/sd-rm8afw0r\n",
      "0caae0c3-6508-4667-9204-4cbb0d49215b.cram not inkids-first-drc/sd-rm8afw0r-har, copying from kfdrc-harmonization/sd-rm8afw0r\n",
      "0caae0c3-6508-4667-9204-4cbb0d49215b.cram.crai not inkids-first-drc/sd-rm8afw0r-har, copying from kfdrc-harmonization/sd-rm8afw0r\n",
      "0d9627cd-7afc-40b8-b4a4-6f08287bf8ab.g.vcf.gz not inkids-first-drc/sd-rm8afw0r-har, copying from kfdrc-harmonization/sd-rm8afw0r\n",
      "0d9627cd-7afc-40b8-b4a4-6f08287bf8ab.g.vcf.gz.tbi not inkids-first-drc/sd-rm8afw0r-har, copying from kfdrc-harmonization/sd-rm8afw0r\n",
      "0f4d88b4-6aef-40b2-b562-00239c724d82.g.vcf.gz not inkids-first-drc/sd-rm8afw0r-har, copying from kfdrc-harmonization/sd-rm8afw0r\n",
      "0f4d88b4-6aef-40b2-b562-00239c724d82.g.vcf.gz.tbi not inkids-first-drc/sd-rm8afw0r-har, copying from kfdrc-harmonization/sd-rm8afw0r\n",
      "101aba04-979f-4c18-8ba0-3e9acf3c3a76.g.vcf.gz not inkids-first-drc/sd-rm8afw0r-har, copying from kfdrc-harmonization/sd-rm8afw0r\n",
      "101aba04-979f-4c18-8ba0-3e9acf3c3a76.g.vcf.gz.tbi not inkids-first-drc/sd-rm8afw0r-har, copying from kfdrc-harmonization/sd-rm8afw0r\n",
      "102bc4d7-d4af-4d22-9c17-6a2787523cba.cram not inkids-first-drc/sd-rm8afw0r-har, copying from kfdrc-harmonization/sd-rm8afw0r\n",
      "102bc4d7-d4af-4d22-9c17-6a2787523cba.cram.crai not inkids-first-drc/sd-rm8afw0r-har, copying from kfdrc-harmonization/sd-rm8afw0r\n",
      "106c0ce5-ab30-494a-a64e-5e6e87c5f384.g.vcf.gz not inkids-first-drc/sd-rm8afw0r-har, copying from kfdrc-harmonization/sd-rm8afw0r\n",
      "106c0ce5-ab30-494a-a64e-5e6e87c5f384.g.vcf.gz.tbi not inkids-first-drc/sd-rm8afw0r-har, copying from kfdrc-harmonization/sd-rm8afw0r\n",
      "1091570b-70ea-4401-b42c-56778244e2df.cram not inkids-first-drc/sd-rm8afw0r-har, copying from kfdrc-harmonization/sd-rm8afw0r\n"
     ]
    },
    {
     "name": "stderr",
     "output_type": "stream",
     "text": [
      "1091570b-70ea-4401-b42c-56778244e2df.cram.crai not inkids-first-drc/sd-rm8afw0r-har, copying from kfdrc-harmonization/sd-rm8afw0r\n",
      "10f909db-d856-4d3c-9195-aaab9d739aa0.g.vcf.gz not inkids-first-drc/sd-rm8afw0r-har, copying from kfdrc-harmonization/sd-rm8afw0r\n",
      "10f909db-d856-4d3c-9195-aaab9d739aa0.g.vcf.gz.tbi not inkids-first-drc/sd-rm8afw0r-har, copying from kfdrc-harmonization/sd-rm8afw0r\n",
      "114afecf-327a-408e-a35d-1bbc6da03f16.cram not inkids-first-drc/sd-rm8afw0r-har, copying from kfdrc-harmonization/sd-rm8afw0r\n",
      "114afecf-327a-408e-a35d-1bbc6da03f16.cram.crai not inkids-first-drc/sd-rm8afw0r-har, copying from kfdrc-harmonization/sd-rm8afw0r\n",
      "1256f9ca-fee1-4e47-bfb9-694139555517.cram not inkids-first-drc/sd-rm8afw0r-har, copying from kfdrc-harmonization/sd-rm8afw0r\n",
      "1256f9ca-fee1-4e47-bfb9-694139555517.cram.crai not inkids-first-drc/sd-rm8afw0r-har, copying from kfdrc-harmonization/sd-rm8afw0r\n",
      "1306d64e-5140-4801-aece-d2b9de9f58c3.g.vcf.gz not inkids-first-drc/sd-rm8afw0r-har, copying from kfdrc-harmonization/sd-rm8afw0r\n",
      "1306d64e-5140-4801-aece-d2b9de9f58c3.g.vcf.gz.tbi not inkids-first-drc/sd-rm8afw0r-har, copying from kfdrc-harmonization/sd-rm8afw0r\n",
      "132f1d68-a666-45d1-bee3-4cf21c329935.cram not inkids-first-drc/sd-rm8afw0r-har, copying from kfdrc-harmonization/sd-rm8afw0r\n",
      "132f1d68-a666-45d1-bee3-4cf21c329935.cram.crai not inkids-first-drc/sd-rm8afw0r-har, copying from kfdrc-harmonization/sd-rm8afw0r\n",
      "13e19b63-5bab-46a0-94f8-985e3f822abd.g.vcf.gz not inkids-first-drc/sd-rm8afw0r-har, copying from kfdrc-harmonization/sd-rm8afw0r\n",
      "13e19b63-5bab-46a0-94f8-985e3f822abd.g.vcf.gz.tbi not inkids-first-drc/sd-rm8afw0r-har, copying from kfdrc-harmonization/sd-rm8afw0r\n",
      "13f53bc2-06ed-4e3f-b743-e22f9dca52aa.g.vcf.gz not inkids-first-drc/sd-rm8afw0r-har, copying from kfdrc-harmonization/sd-rm8afw0r\n",
      "13f53bc2-06ed-4e3f-b743-e22f9dca52aa.g.vcf.gz.tbi not inkids-first-drc/sd-rm8afw0r-har, copying from kfdrc-harmonization/sd-rm8afw0r\n",
      "1420ecdb-9e1f-44a5-a64c-77d92bcf8491.g.vcf.gz not inkids-first-drc/sd-rm8afw0r-har, copying from kfdrc-harmonization/sd-rm8afw0r\n",
      "1420ecdb-9e1f-44a5-a64c-77d92bcf8491.g.vcf.gz.tbi not inkids-first-drc/sd-rm8afw0r-har, copying from kfdrc-harmonization/sd-rm8afw0r\n",
      "147701c3-1bcb-4793-872d-d882e4f6efe1.g.vcf.gz not inkids-first-drc/sd-rm8afw0r-har, copying from kfdrc-harmonization/sd-rm8afw0r\n",
      "147701c3-1bcb-4793-872d-d882e4f6efe1.g.vcf.gz.tbi not inkids-first-drc/sd-rm8afw0r-har, copying from kfdrc-harmonization/sd-rm8afw0r\n",
      "15e13899-6466-483e-9770-f764a8138ff0.cram.crai not inkids-first-drc/sd-rm8afw0r-har, copying from kfdrc-harmonization/sd-rm8afw0r\n",
      "16126447-00e6-43ca-a119-381aca9e7ef5.g.vcf.gz not inkids-first-drc/sd-rm8afw0r-har, copying from kfdrc-harmonization/sd-rm8afw0r\n",
      "16126447-00e6-43ca-a119-381aca9e7ef5.g.vcf.gz.tbi not inkids-first-drc/sd-rm8afw0r-har, copying from kfdrc-harmonization/sd-rm8afw0r\n",
      "16295f59-920e-41b3-93f0-cc13661e228e.cram.crai not inkids-first-drc/sd-rm8afw0r-har, copying from kfdrc-harmonization/sd-rm8afw0r\n",
      "1682e465-bb8b-4106-8e06-7a5efdbb63bc.g.vcf.gz not inkids-first-drc/sd-rm8afw0r-har, copying from kfdrc-harmonization/sd-rm8afw0r\n",
      "1682e465-bb8b-4106-8e06-7a5efdbb63bc.g.vcf.gz.tbi not inkids-first-drc/sd-rm8afw0r-har, copying from kfdrc-harmonization/sd-rm8afw0r\n",
      "16ecabd4-1641-4685-87f9-a266c4904bb4.g.vcf.gz not inkids-first-drc/sd-rm8afw0r-har, copying from kfdrc-harmonization/sd-rm8afw0r\n",
      "16ecabd4-1641-4685-87f9-a266c4904bb4.g.vcf.gz.tbi not inkids-first-drc/sd-rm8afw0r-har, copying from kfdrc-harmonization/sd-rm8afw0r\n",
      "1737a452-4cfa-4e3f-8685-c5ea092b9a4d.cram.crai not inkids-first-drc/sd-rm8afw0r-har, copying from kfdrc-harmonization/sd-rm8afw0r\n",
      "175cc0ff-7f09-4a05-b9bc-916ad4e65c9f.cram.crai not inkids-first-drc/sd-rm8afw0r-har, copying from kfdrc-harmonization/sd-rm8afw0r\n",
      "17cf8dc0-b854-46b0-8b80-5b74facb5905.g.vcf.gz not inkids-first-drc/sd-rm8afw0r-har, copying from kfdrc-harmonization/sd-rm8afw0r\n",
      "17cf8dc0-b854-46b0-8b80-5b74facb5905.g.vcf.gz.tbi not inkids-first-drc/sd-rm8afw0r-har, copying from kfdrc-harmonization/sd-rm8afw0r\n",
      "18b13a61-3723-44f7-adcc-14083c443350.g.vcf.gz not inkids-first-drc/sd-rm8afw0r-har, copying from kfdrc-harmonization/sd-rm8afw0r\n",
      "18b13a61-3723-44f7-adcc-14083c443350.g.vcf.gz.tbi not inkids-first-drc/sd-rm8afw0r-har, copying from kfdrc-harmonization/sd-rm8afw0r\n",
      "18b671b3-5edb-4e46-b218-685b865c1d5f.cram.crai not inkids-first-drc/sd-rm8afw0r-har, copying from kfdrc-harmonization/sd-rm8afw0r\n",
      "19a9b208-06af-42cc-952c-1a0ab130d759.g.vcf.gz not inkids-first-drc/sd-rm8afw0r-har, copying from kfdrc-harmonization/sd-rm8afw0r\n",
      "19a9b208-06af-42cc-952c-1a0ab130d759.g.vcf.gz.tbi not inkids-first-drc/sd-rm8afw0r-har, copying from kfdrc-harmonization/sd-rm8afw0r\n",
      "1ab4d895-f2c4-4747-9d0e-8c19044f6993.g.vcf.gz not inkids-first-drc/sd-rm8afw0r-har, copying from kfdrc-harmonization/sd-rm8afw0r\n",
      "1ab4d895-f2c4-4747-9d0e-8c19044f6993.g.vcf.gz.tbi not inkids-first-drc/sd-rm8afw0r-har, copying from kfdrc-harmonization/sd-rm8afw0r\n",
      "1b78dc06-2990-4b51-98ce-f1e1bb7cba87.cram.crai not inkids-first-drc/sd-rm8afw0r-har, copying from kfdrc-harmonization/sd-rm8afw0r\n",
      "1bc4981f-172f-44f1-a582-b74558d87dcc.g.vcf.gz.tbi not inkids-first-drc/sd-rm8afw0r-har, copying from kfdrc-harmonization/sd-rm8afw0r\n",
      "1bfcd699-a159-45c3-b71d-ea1112ce6e19.g.vcf.gz not inkids-first-drc/sd-rm8afw0r-har, copying from kfdrc-harmonization/sd-rm8afw0r\n",
      "1bfcd699-a159-45c3-b71d-ea1112ce6e19.g.vcf.gz.tbi not inkids-first-drc/sd-rm8afw0r-har, copying from kfdrc-harmonization/sd-rm8afw0r\n",
      "1cc27361-c36d-44a1-b335-cbb80ea3ccf6.g.vcf.gz.tbi not inkids-first-drc/sd-rm8afw0r-har, copying from kfdrc-harmonization/sd-rm8afw0r\n",
      "1d36d469-2453-4625-8a70-ebaea816a025.cram.crai not inkids-first-drc/sd-rm8afw0r-har, copying from kfdrc-harmonization/sd-rm8afw0r\n",
      "1d91ce59-0ffb-4df1-b85d-38b1cbd6ae5b.g.vcf.gz.tbi not inkids-first-drc/sd-rm8afw0r-har, copying from kfdrc-harmonization/sd-rm8afw0r\n",
      "1eb76071-ea25-4bb4-a721-1ed35a49509f.g.vcf.gz.tbi not inkids-first-drc/sd-rm8afw0r-har, copying from kfdrc-harmonization/sd-rm8afw0r\n",
      "1ef52a98-9d59-4b98-8523-80ea8fc79570.g.vcf.gz.tbi not inkids-first-drc/sd-rm8afw0r-har, copying from kfdrc-harmonization/sd-rm8afw0r\n",
      "1fbd9f5f-77f1-4deb-b3fc-a94416a26de5.cram not inkids-first-drc/sd-rm8afw0r-har, copying from kfdrc-harmonization/sd-rm8afw0r\n",
      "1fbd9f5f-77f1-4deb-b3fc-a94416a26de5.cram.crai not inkids-first-drc/sd-rm8afw0r-har, copying from kfdrc-harmonization/sd-rm8afw0r\n",
      "2079bcd7-042a-4bcc-be52-0b1efe742702.g.vcf.gz.tbi not inkids-first-drc/sd-rm8afw0r-har, copying from kfdrc-harmonization/sd-rm8afw0r\n",
      "20b9a527-4090-45e1-a6f5-7718a2185b4b.cram.crai not inkids-first-drc/sd-rm8afw0r-har, copying from kfdrc-harmonization/sd-rm8afw0r\n",
      "cecda55a-39a7-4172-bf69-34f88e949c88.g.vcf.gz not inkids-first-drc/sd-rm8afw0r-har, copying from kfdrc-harmonization/sd-rm8afw0r\n",
      "cecda55a-39a7-4172-bf69-34f88e949c88.g.vcf.gz.tbi not inkids-first-drc/sd-rm8afw0r-har, copying from kfdrc-harmonization/sd-rm8afw0r\n",
      "d887e679-e06f-4fc0-bf59-f6dbf8f5e6f8.cram not inkids-first-drc/sd-rm8afw0r-har, copying from kfdrc-harmonization/sd-rm8afw0r\n",
      "d887e679-e06f-4fc0-bf59-f6dbf8f5e6f8.cram.crai not inkids-first-drc/sd-rm8afw0r-har, copying from kfdrc-harmonization/sd-rm8afw0r\n",
      "de9fd84a-38bf-451c-aaf9-0391dca204c4.cram not inkids-first-drc/sd-rm8afw0r-har, copying from kfdrc-harmonization/sd-rm8afw0r\n",
      "de9fd84a-38bf-451c-aaf9-0391dca204c4.cram.crai not inkids-first-drc/sd-rm8afw0r-har, copying from kfdrc-harmonization/sd-rm8afw0r\n",
      "f5fc0419-c1eb-445c-b858-1de2953a16f3.g.vcf.gz not inkids-first-drc/sd-rm8afw0r-har, copying from kfdrc-harmonization/sd-rm8afw0r\n",
      "f5fc0419-c1eb-445c-b858-1de2953a16f3.g.vcf.gz.tbi not inkids-first-drc/sd-rm8afw0r-har, copying from kfdrc-harmonization/sd-rm8afw0r\n"
     ]
    }
   ],
   "source": [
    "source_proj = 'kfdrc-harmonization/sd-rm8afw0r'\n",
    "dest_proj = 'kids-first-drc/sd-rm8afw0r-har'\n",
    "for fn in open('/Users/brownm28/Documents/2018-Sep-11_Rios-Wise/build_task/data_harmonization/RETRY_FAIL/to_del_and_recopy.txt'):\n",
    "    fname = fn.rstrip('\\n')\n",
    "    try:\n",
    "        fobj = api.files.query(project=dest_proj, names=[fname])[0]\n",
    "        # return cur_cram\n",
    "    except:\n",
    "        sys.stderr.write(fname + ' not in ' + dest_proj + ', copying from ' + source_proj + '\\n')\n",
    "        try:\n",
    "            source_fname = api.files.query(project=source_proj, names=[fname])[0]\n",
    "            source_fname.copy(project=dest_proj, name=fname)\n",
    "        except:\n",
    "            sys.stderr.write('Cannot find file ' + fname + '\\n')\n",
    "        \n",
    "        "
   ]
  },
  {
   "cell_type": "code",
   "execution_count": null,
   "metadata": {},
   "outputs": [],
   "source": []
  }
 ],
 "metadata": {
  "kernelspec": {
   "display_name": "Python 3",
   "language": "python",
   "name": "python3"
  },
  "language_info": {
   "codemirror_mode": {
    "name": "ipython",
    "version": 3
   },
   "file_extension": ".py",
   "mimetype": "text/x-python",
   "name": "python",
   "nbconvert_exporter": "python",
   "pygments_lexer": "ipython3",
   "version": "3.6.5"
  }
 },
 "nbformat": 4,
 "nbformat_minor": 2
}
